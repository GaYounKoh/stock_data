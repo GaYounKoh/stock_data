{
 "cells": [
  {
   "cell_type": "markdown",
   "id": "7bb5792b",
   "metadata": {},
   "source": [
    "# library"
   ]
  },
  {
   "cell_type": "code",
   "execution_count": 1,
   "id": "1955e55d",
   "metadata": {},
   "outputs": [
    {
     "name": "stdout",
     "output_type": "stream",
     "text": [
      "matplotlib version: 3.4.2\n",
      "seaborn version: 0.11.1\n",
      "[PhysicalDevice(name='/physical_device:GPU:0', device_type='GPU'), PhysicalDevice(name='/physical_device:GPU:1', device_type='GPU')]\n"
     ]
    }
   ],
   "source": [
    "from sklearn.datasets import load_boston\n",
    "import pandas as pd\n",
    "import matplotlib.pyplot as plt\n",
    "import seaborn as sns\n",
    "\n",
    "from IPython.core.interactiveshell import InteractiveShell\n",
    "InteractiveShell.ast_node_interactivity = \"all\"\n",
    "\n",
    "import os\n",
    "import FinanceDataReader as fdr\n",
    "\n",
    "import datetime as dt\n",
    "\n",
    "import numpy as np\n",
    "\n",
    "from tqdm import tqdm #진행바\n",
    "from tqdm.notebook import tqdm\n",
    "\n",
    "\n",
    "#시각화 라이브러리\n",
    "import matplotlib as mpl\n",
    "import matplotlib.pyplot as plt\n",
    "print(\"matplotlib version: {}\". format(mpl.__version__))\n",
    "\n",
    "import seaborn as sns\n",
    "print(\"seaborn version: {}\". format(sns.__version__))\n",
    "\n",
    "\n",
    "#한글설정\n",
    "import matplotlib.font_manager as fm\n",
    "\n",
    "font_dirs = ['/usr/share/fonts/truetype/nanum', ]\n",
    "font_files = fm.findSystemFonts(fontpaths=font_dirs)\n",
    "\n",
    "for font_file in font_files:\n",
    "    fm.fontManager.addfont(font_file)\n",
    "    \n",
    "# 한글 출력을 위해서 폰트 옵션을 설정합니다.\n",
    "# \"axes.unicode_minus\" : 마이너스가 깨질 것을 방지\n",
    "\n",
    "sns.set(font=\"NanumBarunGothic\", \n",
    "        rc={\"axes.unicode_minus\":False},\n",
    "        style='darkgrid')\n",
    "\n",
    "\n",
    "\n",
    "import warnings\n",
    "warnings.filterwarnings('ignore')\n",
    "\n",
    "# GPU\n",
    "import tensorflow as tf\n",
    "\n",
    "#https://www.tensorflow.org/guide/gpu#allowing_gpu_memory_growth\n",
    "#프로세스의 요구량만큼 메모리 사용 설정\n",
    "gpus = tf.config.experimental.list_physical_devices('GPU')\n",
    "print(gpus)\n",
    "if gpus:\n",
    "    try:\n",
    "        for i in range(len(gpus)):\n",
    "            tf.config.experimental.set_memory_growth(gpus[i], True)\n",
    "    except RuntimeError as e:\n",
    "        # 프로그램 시작시에 메모리 증가가 설정되어야만 합니다\n",
    "        print(e)\n",
    "        \n",
    "#지정해서 쓰고 싶으면 model 쓸 때는 with 구문 안에 넣기"
   ]
  },
  {
   "cell_type": "code",
   "execution_count": 11,
   "id": "76c76aa6",
   "metadata": {},
   "outputs": [],
   "source": [
    "# def regression(model_):\n",
    "    \n",
    "#     # data load\n",
    "#     df_ = pd.read_csv('stock_2018_10days.csv')\n",
    "    \n",
    "#     # data split X, y\n",
    "#     X = df_.iloc[:,2:-1]\n",
    "#     y = df_.iloc[:,-1]\n",
    "#     i=0\n",
    "    \n",
    "#     # random으로 나누는 것만 필요\n",
    "#     # Cross Validation\n",
    "#     sss = StratifiedShuffleSplit(n_splits=5, test_size=0.2, random_state=0) # 학습  : test = 4 : 1 random split\n",
    "#     for train_idx, test_idx in sss.split(X,y):\n",
    "#         x_train = df_.iloc[train_idx,2:-1]\n",
    "#         y_train = df_.iloc[train_idx,-1]\n",
    "#         x_test = df_.iloc[test_idx,2:-1]\n",
    "#         y_test = df_.iloc[test_idx,-1]\n",
    "\n",
    "\n",
    "\n",
    "\n",
    "# data load\n",
    "df = pd.read_csv('stock_2018_10days.csv')\n",
    "\n",
    "# data split X, y\n",
    "df_X = df.iloc[:,2:-1]\n",
    "df_y = df.iloc[:,-1]\n",
    "\n",
    "# train_test split\n",
    "from sklearn.model_selection import train_test_split\n",
    "X_train, X_test, y_train, y_test = train_test_split(df_X, df_y, test_size = 0.2, random_state = 0) # default option ~ shuffle = True, shuffle; random"
   ]
  },
  {
   "cell_type": "code",
   "execution_count": 12,
   "id": "702f955e",
   "metadata": {},
   "outputs": [],
   "source": [
    "y_train = np.array(y_train).reshape(-1, 1)\n",
    "y_test = np.array(y_test).reshape(-1, 1)"
   ]
  },
  {
   "cell_type": "code",
   "execution_count": 13,
   "id": "cfc591b6",
   "metadata": {},
   "outputs": [],
   "source": [
    "# 전처리 파이프라인 만들기 #------------------------수치형 데이터 전처리 (scaling) 위한 파이프라인\n",
    "from sklearn.pipeline import Pipeline\n",
    "from sklearn.impute import SimpleImputer\n",
    "from sklearn.preprocessing import MinMaxScaler\n",
    "\n",
    "my_pipeline = Pipeline([('mean_imputer', SimpleImputer(strategy = 'mean')),\n",
    "                       ('mm_scaler', MinMaxScaler())])\n",
    "\n",
    "# scaling\n",
    "X_train_fit = my_pipeline.fit(X_train)\n",
    "X_train_pre = X_train_fit.transform(X_train)\n",
    "X_test_pre = X_train_fit.transform(X_test)\n",
    "# print(pd.DataFrame(X_train_pre).describe()) # 전처리 상황 확인\n",
    "\n",
    "y_train_fit = my_pipeline.fit(y_train)\n",
    "y_train_pre = y_train_fit.transform(y_train)\n",
    "y_test_pre = y_train_fit.transform(y_test)"
   ]
  },
  {
   "cell_type": "markdown",
   "id": "a370868f",
   "metadata": {},
   "source": [
    "# 이상치 여부 확인\n",
    "for 정확도 높이기 <br>\n",
    "https://brunch.co.kr/@parkkyunga/67 <br>\n",
    "앗, 근데 이거 낮을 수록 좋은 평가척도 error였지...<br>"
   ]
  },
  {
   "cell_type": "code",
   "execution_count": 48,
   "id": "c35a81fc",
   "metadata": {},
   "outputs": [],
   "source": [
    "# 필요 없음\n",
    "# X_train.iloc[0,:]\n",
    "# X_train.shape\n",
    "# len(X_train)\n",
    "# y_train.shape\n",
    "# y_train[0]"
   ]
  },
  {
   "cell_type": "code",
   "execution_count": 46,
   "id": "1fde180c",
   "metadata": {},
   "outputs": [],
   "source": [
    "# 필요 없음\n",
    "# for i in range(len(y_train)):\n",
    "# #     i\n",
    "# #     j\n",
    "#     _ = sns.regplot(data = df, x = X_train.iloc[i,:], y = y_train[i], fit_reg = True)\n",
    "#     break"
   ]
  },
  {
   "cell_type": "code",
   "execution_count": 45,
   "id": "d517ca01",
   "metadata": {},
   "outputs": [],
   "source": [
    "# 필요 없음\n",
    "# sns.regplot(x = X_train, y = y_train, fit_reg = True)"
   ]
  },
  {
   "cell_type": "code",
   "execution_count": 14,
   "id": "2aadc9ba",
   "metadata": {},
   "outputs": [],
   "source": [
    "# 회귀 모델 만들기\n",
    "def my_regressor(df_X, df_y):\n",
    "    from sklearn.linear_model import LinearRegression # 일반 회귀 모델\n",
    "    from sklearn.linear_model import Ridge, Lasso, ElasticNet # Norm 규제 회귀 모델\n",
    "    from sklearn.linear_model import ARDRegression, BayesianRidge # 베이지안 회귀\n",
    "    from sklearn.ensemble import RandomForestRegressor # decision tree 앙상블 모델, 배깅\n",
    "    from xgboost import XGBRegressor # decision tree 앙상블 모델, 부스팅\n",
    "    from sklearn.model_selection import cross_val_score # model 검증\n",
    "    \n",
    "    import ast # convert string to function\n",
    "    import numpy as np\n",
    "    \n",
    "    linear = LinearRegression()\n",
    "    ridge, lasso, elasticnet = Ridge(), Lasso(), ElasticNet()\n",
    "    ardr_linear, baysian_ridge = ARDRegression(), BayesianRidge()\n",
    "    random_forest = RandomForestRegressor()\n",
    "    xgboost_linear = XGBRegressor()\n",
    "    \n",
    "    my_model_list = ['linear', 'ridge', 'lasso', 'elasticnet',\n",
    "                     'ardr_linear', 'baysian_ridge',\n",
    "                     'random_forest', 'xgboost_linear']\n",
    "    \n",
    "    score_dic = dict()\n",
    "    for model_nm in my_model_list:\n",
    "        scores = cross_val_score(eval(model_nm), df_X, df_y, scoring = 'neg_mean_squared_error') # cv default = 5, neg_~가 mse임.\n",
    "        rmse_score = np.sqrt(-scores)\n",
    "        rmse_sm = rmse_score.mean()\n",
    "        score_dic[model_nm] = rmse_sm\n",
    "    \n",
    "    score_dic = sorted(score_dic.items(), key = lambda t : t[1]) # 정확도 (작은)순으로 줄세워짐.\n",
    "    \n",
    "    return score_dic#[0]"
   ]
  },
  {
   "cell_type": "code",
   "execution_count": 15,
   "id": "115161a7",
   "metadata": {},
   "outputs": [
    {
     "name": "stdout",
     "output_type": "stream",
     "text": [
      "[('lasso', 0.10091697575637541), ('elasticnet', 0.10091697575637541), ('baysian_ridge', 0.10112385573610587), ('ridge', 0.10347533104582898), ('ardr_linear', 0.10374967668944471), ('random_forest', 0.10377462713859598), ('xgboost_linear', 0.1059156614822055), ('linear', 0.27957231621102907)]\n"
     ]
    }
   ],
   "source": [
    "%%time\n",
    "linear_model_train_score = my_regressor(X_train_pre, y_train_pre)\n",
    "print(linear_model_train_score)"
   ]
  },
  {
   "cell_type": "code",
   "execution_count": 16,
   "id": "553c108f",
   "metadata": {},
   "outputs": [
    {
     "name": "stdout",
     "output_type": "stream",
     "text": [
      "[('lasso', 0.09187967935940036), ('elasticnet', 0.09187967935940036), ('baysian_ridge', 0.09225320483574177), ('random_forest', 0.09944571093299093), ('ridge', 0.1035802593310798), ('xgboost_linear', 0.10931487065525287), ('ardr_linear', 0.12047486068319327), ('linear', 0.606424537624551)]\n",
      "CPU times: user 42min 11s, sys: 1h 22min 3s, total: 2h 4min 14s\n",
      "Wall time: 1min 56s\n"
     ]
    }
   ],
   "source": [
    "%%time\n",
    "linear_model_test_score = my_regressor(X_test_pre, y_test_pre)\n",
    "print(linear_model_test_score)"
   ]
  },
  {
   "cell_type": "code",
   "execution_count": 51,
   "id": "36f6799f",
   "metadata": {},
   "outputs": [],
   "source": [
    "dic = {}\n",
    "for i in linear_model_test_score:\n",
    "    dic[i[0]] = i[1]"
   ]
  },
  {
   "cell_type": "code",
   "execution_count": 56,
   "id": "3b90a84f",
   "metadata": {},
   "outputs": [],
   "source": [
    "df = pd.DataFrame(dic.items(), columns=['key', 'value'])"
   ]
  },
  {
   "cell_type": "code",
   "execution_count": 58,
   "id": "5e147d47",
   "metadata": {},
   "outputs": [
    {
     "data": {
      "text/html": [
       "<div>\n",
       "<style scoped>\n",
       "    .dataframe tbody tr th:only-of-type {\n",
       "        vertical-align: middle;\n",
       "    }\n",
       "\n",
       "    .dataframe tbody tr th {\n",
       "        vertical-align: top;\n",
       "    }\n",
       "\n",
       "    .dataframe thead th {\n",
       "        text-align: right;\n",
       "    }\n",
       "</style>\n",
       "<table border=\"1\" class=\"dataframe\">\n",
       "  <thead>\n",
       "    <tr style=\"text-align: right;\">\n",
       "      <th></th>\n",
       "      <th>key</th>\n",
       "      <th>value</th>\n",
       "    </tr>\n",
       "  </thead>\n",
       "  <tbody>\n",
       "    <tr>\n",
       "      <th>0</th>\n",
       "      <td>lasso</td>\n",
       "      <td>0.091880</td>\n",
       "    </tr>\n",
       "    <tr>\n",
       "      <th>1</th>\n",
       "      <td>elasticnet</td>\n",
       "      <td>0.091880</td>\n",
       "    </tr>\n",
       "    <tr>\n",
       "      <th>2</th>\n",
       "      <td>baysian_ridge</td>\n",
       "      <td>0.092253</td>\n",
       "    </tr>\n",
       "    <tr>\n",
       "      <th>3</th>\n",
       "      <td>random_forest</td>\n",
       "      <td>0.099446</td>\n",
       "    </tr>\n",
       "    <tr>\n",
       "      <th>4</th>\n",
       "      <td>ridge</td>\n",
       "      <td>0.103580</td>\n",
       "    </tr>\n",
       "    <tr>\n",
       "      <th>5</th>\n",
       "      <td>xgboost_linear</td>\n",
       "      <td>0.109315</td>\n",
       "    </tr>\n",
       "    <tr>\n",
       "      <th>6</th>\n",
       "      <td>ardr_linear</td>\n",
       "      <td>0.120475</td>\n",
       "    </tr>\n",
       "    <tr>\n",
       "      <th>7</th>\n",
       "      <td>linear</td>\n",
       "      <td>0.606425</td>\n",
       "    </tr>\n",
       "  </tbody>\n",
       "</table>\n",
       "</div>"
      ],
      "text/plain": [
       "              key     value\n",
       "0           lasso  0.091880\n",
       "1      elasticnet  0.091880\n",
       "2   baysian_ridge  0.092253\n",
       "3   random_forest  0.099446\n",
       "4           ridge  0.103580\n",
       "5  xgboost_linear  0.109315\n",
       "6     ardr_linear  0.120475\n",
       "7          linear  0.606425"
      ]
     },
     "execution_count": 58,
     "metadata": {},
     "output_type": "execute_result"
    }
   ],
   "source": [
    "df"
   ]
  },
  {
   "cell_type": "code",
   "execution_count": 74,
   "id": "00d76c29",
   "metadata": {},
   "outputs": [
    {
     "data": {
      "image/png": "[encoded data removed]",
      "text/plain": [
       "<Figure size 432x288 with 1 Axes>"
      ]
     },
     "metadata": {},
     "output_type": "display_data"
    }
   ],
   "source": [
    "g = sns.barplot(x = df['key'], y = df['value'])\n",
    "_ = g.set_xticklabels(g.get_xticklabels(), rotation=45)\n",
    "_ = g.set_xlabel(\"regression models\", fontsize = 15)\n",
    "_ = g.set_ylabel(\"Mean Squared Errors\", fontsize = 15)\n",
    "plt.tight_layout()\n",
    "# bar plot official doc\n",
    "# https://seaborn.pydata.org/generated/seaborn.barplot.html\n",
    "# .set_xticklabels rot\n",
    "# https://data-newbie.tistory.com/261\n",
    "# .set_label\n",
    "# https://www.delftstack.com/ko/howto/seaborn/seaborn-lineplot/"
   ]
  }
 ],
 "metadata": {
  "kernelspec": {
   "display_name": "Python 3",
   "language": "python",
   "name": "python3"
  },
  "language_info": {
   "codemirror_mode": {
    "name": "ipython",
    "version": 3
   },
   "file_extension": ".py",
   "mimetype": "text/x-python",
   "name": "python",
   "nbconvert_exporter": "python",
   "pygments_lexer": "ipython3",
   "version": "3.8.5"
  },
  "latex_envs": {
   "LaTeX_envs_menu_present": true,
   "autoclose": false,
   "autocomplete": true,
   "bibliofile": "biblio.bib",
   "cite_by": "apalike",
   "current_citInitial": 1,
   "eqLabelWithNumbers": true,
   "eqNumInitial": 1,
   "hotkeys": {
    "equation": "Ctrl-E",
    "itemize": "Ctrl-I"
   },
   "labels_anchors": false,
   "latex_user_defs": false,
   "report_style_numbering": false,
   "user_envs_cfg": false
  },
  "toc": {
   "base_numbering": 1,
   "nav_menu": {},
   "number_sections": true,
   "sideBar": true,
   "skip_h1_title": false,
   "title_cell": "Table of Contents",
   "title_sidebar": "Contents",
   "toc_cell": false,
   "toc_position": {},
   "toc_section_display": true,
   "toc_window_display": false
  }
 },
 "nbformat": 4,
 "nbformat_minor": 5
}
