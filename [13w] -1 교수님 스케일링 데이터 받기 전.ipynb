{
 "cells": [
  {
   "cell_type": "code",
   "execution_count": 6,
   "id": "ac2a4121",
   "metadata": {},
   "outputs": [],
   "source": [
    "import pandas as pd\n",
    "from IPython.core.interactiveshell import InteractiveShell\n",
    "InteractiveShell.ast_node_interactivity = 'all'\n",
    "\n",
    "import numpy as np\n",
    "from tqdm import tqdm\n",
    "import warnings\n",
    "warnings.filterwarnings('ignore')"
   ]
  },
  {
   "cell_type": "code",
   "execution_count": 5,
   "id": "b9906750",
   "metadata": {},
   "outputs": [
    {
     "name": "stderr",
     "output_type": "stream",
     "text": [
      "/package/anaconda3.8/lib/python3.8/site-packages/IPython/core/interactiveshell.py:3444: DtypeWarning: Columns (68) have mixed types.Specify dtype option on import or set low_memory=False.\n",
      "  exec(code_obj, self.user_global_ns, self.user_ns)\n"
     ]
    }
   ],
   "source": [
    "data = pd.read_csv('scaled_fin.csv')"
   ]
  },
  {
   "cell_type": "code",
   "execution_count": 3,
   "id": "01d0aa32",
   "metadata": {},
   "outputs": [
    {
     "data": {
      "text/plain": [
       "74785"
      ]
     },
     "execution_count": 3,
     "metadata": {},
     "output_type": "execute_result"
    }
   ],
   "source": [
    "# 11480668 - 11405883 # 74785\n",
    "# 처음 데이터 저장했을 때 실수를 통해 previous = nan인 행 개수 살피기"
   ]
  },
  {
   "cell_type": "code",
   "execution_count": 9,
   "id": "8e5e4d1e",
   "metadata": {},
   "outputs": [],
   "source": [
    "data.drop('Unnamed: 91', axis = 1, inplace = True)"
   ]
  },
  {
   "cell_type": "code",
   "execution_count": 10,
   "id": "c5e3f6be",
   "metadata": {},
   "outputs": [
    {
     "data": {
      "text/html": [
       "<div>\n",
       "<style scoped>\n",
       "    .dataframe tbody tr th:only-of-type {\n",
       "        vertical-align: middle;\n",
       "    }\n",
       "\n",
       "    .dataframe tbody tr th {\n",
       "        vertical-align: top;\n",
       "    }\n",
       "\n",
       "    .dataframe thead th {\n",
       "        text-align: right;\n",
       "    }\n",
       "</style>\n",
       "<table border=\"1\" class=\"dataframe\">\n",
       "  <thead>\n",
       "    <tr style=\"text-align: right;\">\n",
       "      <th></th>\n",
       "      <th>open</th>\n",
       "      <th>high</th>\n",
       "      <th>low</th>\n",
       "      <th>close</th>\n",
       "      <th>MA5</th>\n",
       "      <th>MA20</th>\n",
       "      <th>MA60</th>\n",
       "      <th>MA120</th>\n",
       "      <th>MA240</th>\n",
       "      <th>VMAP</th>\n",
       "      <th>...</th>\n",
       "      <th>SOsig</th>\n",
       "      <th>EOMsig</th>\n",
       "      <th>AIdown</th>\n",
       "      <th>AIup</th>\n",
       "      <th>KSTsig</th>\n",
       "      <th>MACDdiff</th>\n",
       "      <th>MACDsig</th>\n",
       "      <th>CR</th>\n",
       "      <th>DLR</th>\n",
       "      <th>Next_Change_5</th>\n",
       "    </tr>\n",
       "  </thead>\n",
       "  <tbody>\n",
       "    <tr>\n",
       "      <th>0</th>\n",
       "      <td>-0.029052</td>\n",
       "      <td>0.002341</td>\n",
       "      <td>-0.029052</td>\n",
       "      <td>0.000000</td>\n",
       "      <td>0.000000</td>\n",
       "      <td>0.000000</td>\n",
       "      <td>0.000000</td>\n",
       "      <td>0.000000</td>\n",
       "      <td>0.000000</td>\n",
       "      <td>-0.008912</td>\n",
       "      <td>...</td>\n",
       "      <td>91.542</td>\n",
       "      <td>-1.000000e+00</td>\n",
       "      <td>3.0</td>\n",
       "      <td>3.0</td>\n",
       "      <td>3142.3</td>\n",
       "      <td>-1.0000</td>\n",
       "      <td>-1.000</td>\n",
       "      <td>-1.00000</td>\n",
       "      <td>313.33000</td>\n",
       "      <td>1</td>\n",
       "    </tr>\n",
       "    <tr>\n",
       "      <th>1</th>\n",
       "      <td>0.000000</td>\n",
       "      <td>0.023252</td>\n",
       "      <td>-0.011626</td>\n",
       "      <td>0.009311</td>\n",
       "      <td>0.004656</td>\n",
       "      <td>0.004656</td>\n",
       "      <td>0.004656</td>\n",
       "      <td>0.004656</td>\n",
       "      <td>0.004656</td>\n",
       "      <td>0.001862</td>\n",
       "      <td>...</td>\n",
       "      <td>81.945</td>\n",
       "      <td>3.099408e+09</td>\n",
       "      <td>3.0</td>\n",
       "      <td>7.0</td>\n",
       "      <td>3151.9</td>\n",
       "      <td>21.3360</td>\n",
       "      <td>4.584</td>\n",
       "      <td>-0.06885</td>\n",
       "      <td>-0.06885</td>\n",
       "      <td>1</td>\n",
       "    </tr>\n",
       "    <tr>\n",
       "      <th>2</th>\n",
       "      <td>0.002293</td>\n",
       "      <td>0.002293</td>\n",
       "      <td>-0.020744</td>\n",
       "      <td>-0.005773</td>\n",
       "      <td>-0.005008</td>\n",
       "      <td>-0.005008</td>\n",
       "      <td>-0.005008</td>\n",
       "      <td>-0.005008</td>\n",
       "      <td>-0.005008</td>\n",
       "      <td>-0.007591</td>\n",
       "      <td>...</td>\n",
       "      <td>75.032</td>\n",
       "      <td>1.030060e+09</td>\n",
       "      <td>3.0</td>\n",
       "      <td>7.0</td>\n",
       "      <td>3154.6</td>\n",
       "      <td>20.1380</td>\n",
       "      <td>9.869</td>\n",
       "      <td>-0.65148</td>\n",
       "      <td>-1.57726</td>\n",
       "      <td>1</td>\n",
       "    </tr>\n",
       "    <tr>\n",
       "      <th>3</th>\n",
       "      <td>0.000000</td>\n",
       "      <td>0.005806</td>\n",
       "      <td>-0.015059</td>\n",
       "      <td>-0.009253</td>\n",
       "      <td>-0.001723</td>\n",
       "      <td>-0.001723</td>\n",
       "      <td>-0.001723</td>\n",
       "      <td>-0.001723</td>\n",
       "      <td>-0.001723</td>\n",
       "      <td>-0.002969</td>\n",
       "      <td>...</td>\n",
       "      <td>59.003</td>\n",
       "      <td>6.360769e+08</td>\n",
       "      <td>15.0</td>\n",
       "      <td>7.0</td>\n",
       "      <td>3153.3</td>\n",
       "      <td>-4.0922</td>\n",
       "      <td>9.096</td>\n",
       "      <td>-1.57997</td>\n",
       "      <td>-1.92526</td>\n",
       "      <td>1</td>\n",
       "    </tr>\n",
       "    <tr>\n",
       "      <th>4</th>\n",
       "      <td>-0.005860</td>\n",
       "      <td>0.017527</td>\n",
       "      <td>-0.005860</td>\n",
       "      <td>0.017527</td>\n",
       "      <td>0.009580</td>\n",
       "      <td>0.009580</td>\n",
       "      <td>0.009580</td>\n",
       "      <td>0.009580</td>\n",
       "      <td>0.009580</td>\n",
       "      <td>0.006877</td>\n",
       "      <td>...</td>\n",
       "      <td>60.478</td>\n",
       "      <td>5.371003e+08</td>\n",
       "      <td>15.0</td>\n",
       "      <td>19.0</td>\n",
       "      <td>3154.2</td>\n",
       "      <td>22.5910</td>\n",
       "      <td>14.993</td>\n",
       "      <td>0.16260</td>\n",
       "      <td>0.75270</td>\n",
       "      <td>1</td>\n",
       "    </tr>\n",
       "  </tbody>\n",
       "</table>\n",
       "<p>5 rows × 91 columns</p>\n",
       "</div>"
      ],
      "text/plain": [
       "       open      high       low     close       MA5      MA20      MA60  \\\n",
       "0 -0.029052  0.002341 -0.029052  0.000000  0.000000  0.000000  0.000000   \n",
       "1  0.000000  0.023252 -0.011626  0.009311  0.004656  0.004656  0.004656   \n",
       "2  0.002293  0.002293 -0.020744 -0.005773 -0.005008 -0.005008 -0.005008   \n",
       "3  0.000000  0.005806 -0.015059 -0.009253 -0.001723 -0.001723 -0.001723   \n",
       "4 -0.005860  0.017527 -0.005860  0.017527  0.009580  0.009580  0.009580   \n",
       "\n",
       "      MA120     MA240      VMAP  ...   SOsig        EOMsig  AIdown  AIup  \\\n",
       "0  0.000000  0.000000 -0.008912  ...  91.542 -1.000000e+00     3.0   3.0   \n",
       "1  0.004656  0.004656  0.001862  ...  81.945  3.099408e+09     3.0   7.0   \n",
       "2 -0.005008 -0.005008 -0.007591  ...  75.032  1.030060e+09     3.0   7.0   \n",
       "3 -0.001723 -0.001723 -0.002969  ...  59.003  6.360769e+08    15.0   7.0   \n",
       "4  0.009580  0.009580  0.006877  ...  60.478  5.371003e+08    15.0  19.0   \n",
       "\n",
       "   KSTsig  MACDdiff  MACDsig       CR        DLR  Next_Change_5  \n",
       "0  3142.3   -1.0000   -1.000 -1.00000  313.33000              1  \n",
       "1  3151.9   21.3360    4.584 -0.06885   -0.06885              1  \n",
       "2  3154.6   20.1380    9.869 -0.65148   -1.57726              1  \n",
       "3  3153.3   -4.0922    9.096 -1.57997   -1.92526              1  \n",
       "4  3154.2   22.5910   14.993  0.16260    0.75270              1  \n",
       "\n",
       "[5 rows x 91 columns]"
      ]
     },
     "execution_count": 10,
     "metadata": {},
     "output_type": "execute_result"
    }
   ],
   "source": [
    "data.head()"
   ]
  },
  {
   "cell_type": "code",
   "execution_count": 11,
   "id": "7463fe12",
   "metadata": {
    "scrolled": true
   },
   "outputs": [
    {
     "name": "stdout",
     "output_type": "stream",
     "text": [
      "<class 'pandas.core.frame.DataFrame'>\n",
      "RangeIndex: 11405883 entries, 0 to 11405882\n",
      "Data columns (total 91 columns):\n",
      " #   Column                    Dtype  \n",
      "---  ------                    -----  \n",
      " 0   open                      float64\n",
      " 1   high                      float64\n",
      " 2   low                       float64\n",
      " 3   close                     float64\n",
      " 4   MA5                       float64\n",
      " 5   MA20                      float64\n",
      " 6   MA60                      float64\n",
      " 7   MA120                     float64\n",
      " 8   MA240                     float64\n",
      " 9   VMAP                      float64\n",
      " 10  BBH                       float64\n",
      " 11  BBL                       float64\n",
      " 12  BBM                       float64\n",
      " 13  BBP                       float64\n",
      " 14  BBW                       float64\n",
      " 15  KCH                       float64\n",
      " 16  KCL                       float64\n",
      " 17  KCM                       float64\n",
      " 18  KCP                       float64\n",
      " 19  KCW                       float64\n",
      " 20  DCH                       float64\n",
      " 21  DCL                       float64\n",
      " 22  DCM                       float64\n",
      " 23  DCP                       float64\n",
      " 24  DCW                       float64\n",
      " 25  Ichimoku_a                float64\n",
      " 26  Ichimoku_b                float64\n",
      " 27  ichimoku_base_line        float64\n",
      " 28  ichimoku_conversion_line  float64\n",
      " 29  PSARdown                  float64\n",
      " 30  PSARup                    float64\n",
      " 31  KAMA                      float64\n",
      " 32  MACD                      float64\n",
      " 33  volume                    float64\n",
      " 34  tradingvalue              float64\n",
      " 35  MFI                       float64\n",
      " 36  ADI                       float64\n",
      " 37  OBV                       float64\n",
      " 38  CMF                       float64\n",
      " 39  FI                        float64\n",
      " 40  EOM                       float64\n",
      " 41  VPT                       float64\n",
      " 42  NVI                       float64\n",
      " 43  ATR                       float64\n",
      " 44  UI                        float64\n",
      " 45  ADX                       float64\n",
      " 46  ADXneg                    float64\n",
      " 47  ADXpos                    float64\n",
      " 48  VIneg                     float64\n",
      " 49  VIpos                     float64\n",
      " 50  TRIX                      float64\n",
      " 51  MI                        float64\n",
      " 52  CCI                       float64\n",
      " 53  DPO                       float64\n",
      " 54  KST                       float64\n",
      " 55  STC                       float64\n",
      " 56  RSI                       float64\n",
      " 57  SRSI                      float64\n",
      " 58  SRSID                     float64\n",
      " 59  SRSIK                     float64\n",
      " 60  TSI                       float64\n",
      " 61  UO                        float64\n",
      " 62  WR                        float64\n",
      " 63  AO                        float64\n",
      " 64  ROC                       float64\n",
      " 65  PPO                       float64\n",
      " 66  PVO                       float64\n",
      " 67  date                      int64  \n",
      " 68  code                      object \n",
      " 69  change                    float64\n",
      " 70  survival                  int64  \n",
      " 71  NT20D                     int64  \n",
      " 72  previous_close            float64\n",
      " 73  Next_Change               float64\n",
      " 74  rTR                       float64\n",
      " 75  rTR_5Dmax                 float64\n",
      " 76  PPOhist                   float64\n",
      " 77  PPOsig                    float64\n",
      " 78  PVOhist                   float64\n",
      " 79  PVOsig                    float64\n",
      " 80  SO                        float64\n",
      " 81  SOsig                     float64\n",
      " 82  EOMsig                    float64\n",
      " 83  AIdown                    float64\n",
      " 84  AIup                      float64\n",
      " 85  KSTsig                    float64\n",
      " 86  MACDdiff                  float64\n",
      " 87  MACDsig                   float64\n",
      " 88  CR                        float64\n",
      " 89  DLR                       float64\n",
      " 90  Next_Change_5             int64  \n",
      "dtypes: float64(86), int64(4), object(1)\n",
      "memory usage: 7.7+ GB\n"
     ]
    }
   ],
   "source": [
    "data.info()"
   ]
  },
  {
   "cell_type": "code",
   "execution_count": 12,
   "id": "d5a886d7",
   "metadata": {
    "scrolled": true
   },
   "outputs": [
    {
     "data": {
      "text/plain": [
       "74785"
      ]
     },
     "execution_count": 12,
     "metadata": {},
     "output_type": "execute_result"
    }
   ],
   "source": [
    "sum(data['previous_close'].isnull())"
   ]
  },
  {
   "cell_type": "code",
   "execution_count": 13,
   "id": "a071e63e",
   "metadata": {},
   "outputs": [
    {
     "data": {
      "text/plain": [
       "4558"
      ]
     },
     "execution_count": 13,
     "metadata": {},
     "output_type": "execute_result"
    }
   ],
   "source": [
    "data['code'].nunique()"
   ]
  }
 ],
 "metadata": {
  "kernelspec": {
   "display_name": "Python 3 (ipykernel)",
   "language": "python",
   "name": "python3"
  },
  "language_info": {
   "codemirror_mode": {
    "name": "ipython",
    "version": 3
   },
   "file_extension": ".py",
   "mimetype": "text/x-python",
   "name": "python",
   "nbconvert_exporter": "python",
   "pygments_lexer": "ipython3",
   "version": "3.8.2"
  },
  "toc": {
   "base_numbering": 1,
   "nav_menu": {},
   "number_sections": true,
   "sideBar": true,
   "skip_h1_title": false,
   "title_cell": "Table of Contents",
   "title_sidebar": "Contents",
   "toc_cell": false,
   "toc_position": {},
   "toc_section_display": true,
   "toc_window_display": false
  }
 },
 "nbformat": 4,
 "nbformat_minor": 5
}
