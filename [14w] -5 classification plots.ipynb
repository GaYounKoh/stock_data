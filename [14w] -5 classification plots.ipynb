{
 "cells": [
  {
   "cell_type": "markdown",
   "id": "a2cf475e",
   "metadata": {},
   "source": [
    "# library"
   ]
  },
  {
   "cell_type": "code",
   "execution_count": 1,
   "id": "4c6ae050",
   "metadata": {},
   "outputs": [
    {
     "name": "stderr",
     "output_type": "stream",
     "text": [
      "2022-06-14 11:53:51.672092: I tensorflow/stream_executor/platform/default/dso_loader.cc:49] Successfully opened dynamic library libcudart.so.10.1\n"
     ]
    }
   ],
   "source": [
    "import pandas as pd\n",
    "from IPython.core.interactiveshell import InteractiveShell\n",
    "InteractiveShell.ast_node_interactivity = 'all'\n",
    "\n",
    "import numpy as np\n",
    "from tqdm import tqdm\n",
    "\n",
    "import warnings\n",
    "warnings.filterwarnings('ignore')\n",
    "\n",
    "import tensorflow as tf\n",
    "import random"
   ]
  },
  {
   "cell_type": "markdown",
   "id": "f0f0b1a1",
   "metadata": {},
   "source": [
    "## mk_cd 함수"
   ]
  },
  {
   "cell_type": "code",
   "execution_count": 2,
   "id": "4ad1d5d7",
   "metadata": {},
   "outputs": [],
   "source": [
    "## 함수\n",
    "def mk_cd(x):\n",
    "    if type(x) == str:\n",
    "        if x.isalpha():\n",
    "            return x\n",
    "        else:\n",
    "            if len(x) == 6:\n",
    "                return x\n",
    "            else:\n",
    "                return \"0\"*(6-len(x))+x\n",
    "    elif type(x) == int:\n",
    "        x = str(x)\n",
    "        return \"0\"*(6-len(x))+x"
   ]
  },
  {
   "cell_type": "markdown",
   "id": "72637196",
   "metadata": {},
   "source": [
    "# 슬라이싱 준비"
   ]
  },
  {
   "cell_type": "code",
   "execution_count": 3,
   "id": "4bace3aa",
   "metadata": {},
   "outputs": [],
   "source": [
    "len_a2012 = 284412\n",
    "len_a2013 = 242826\n",
    "len_a2014 = 242448\n",
    "len_a2015 = 314361\n",
    "len_a2016 = 263593\n",
    "len_a2017 = 216591\n",
    "len_a2018 = 307395\n",
    "len_a2019 = 278610\n",
    "len_a2020 = 371006\n",
    "len_a2021 = 321808"
   ]
  },
  {
   "cell_type": "code",
   "execution_count": 4,
   "id": "1294cf86",
   "metadata": {},
   "outputs": [],
   "source": [
    "len1215 = len_a2012+len_a2013+len_a2014+len_a2015 # y:2015\n",
    "len1316 = len1215+len_a2016 # y:2016\n",
    "len1417 = len1316+len_a2017 # y:2017\n",
    "len1518 = len1417+len_a2018 # y:2018\n",
    "len1619 = len1518+len_a2019 # y:2019\n",
    "len1720 = len1619+len_a2020 # y:2020\n",
    "len1821 = len1720+len_a2021 # y:2021"
   ]
  },
  {
   "cell_type": "markdown",
   "id": "2dfdbd29",
   "metadata": {},
   "source": [
    "## [0], [1]은 train 슬라이싱 인덱스, [2]는 test인덱스로 구성"
   ]
  },
  {
   "cell_type": "code",
   "execution_count": 5,
   "id": "eae1dcdf",
   "metadata": {},
   "outputs": [],
   "source": [
    "slicing_dic = {'1215':[0, len1215, len_a2015],\n",
    "               '1316':[len_a2012, len1316, len_a2016],\n",
    "               '1417':[len_a2012+len_a2013, len1417, len_a2017],\n",
    "               '1518':[len_a2012+len_a2013+len_a2014, len1518, len_a2018],\n",
    "               '1619':[len_a2012+len_a2013+len_a2014+len_a2015, len1619, len_a2019],\n",
    "               '1720':[len_a2012+len_a2013+len_a2014+len_a2015+len_a2016,len1720, len_a2020],\n",
    "               '1821':[len_a2012+len_a2013+len_a2014+len_a2015+len_a2016+len_a2017,len1821, len_a2021]}"
   ]
  },
  {
   "cell_type": "markdown",
   "id": "709ddf1b",
   "metadata": {},
   "source": [
    "## 슬라이싱 테스트"
   ]
  },
  {
   "cell_type": "code",
   "execution_count": 6,
   "id": "4b0edf41",
   "metadata": {},
   "outputs": [],
   "source": [
    "# d1221[:len1215]\n",
    "# d1221[len_a2012:len1316]\n",
    "# d1221[len_a2012+len_a2013:len1417]\n",
    "# d1221[len_a2012+len_a2013+len_a2014:len1518]\n",
    "# d1221[len_a2012+len_a2013+len_a2014+len_a2015:len1619]\n",
    "# d1221[len_a2012+len_a2013+len_a2014+len_a2015+len_a2016:len1720]\n",
    "# d1221[len_a2012+len_a2013+len_a2014+len_a2015+len_a2016+len_a2017:len1821]"
   ]
  },
  {
   "cell_type": "markdown",
   "id": "a81d8b16",
   "metadata": {},
   "source": [
    "# data load"
   ]
  },
  {
   "cell_type": "code",
   "execution_count": 7,
   "id": "bcc7c845",
   "metadata": {},
   "outputs": [],
   "source": [
    "d1221 = pd.read_feather('d1221.ftr', columns = None, use_threads = False) # threads 사용을 꺼도 난리 (그래도 비교적 덜 난리)"
   ]
  },
  {
   "cell_type": "markdown",
   "id": "17ed0484",
   "metadata": {},
   "source": [
    "# category to object"
   ]
  },
  {
   "cell_type": "code",
   "execution_count": 8,
   "id": "ae7ccf2e",
   "metadata": {},
   "outputs": [],
   "source": [
    "d1221['code'] = list(map(mk_cd, d1221['code'])) # mk_cd함수 적용시켜야 ftr만들 때 에러 안남."
   ]
  },
  {
   "cell_type": "code",
   "execution_count": 8,
   "id": "08aa8296",
   "metadata": {},
   "outputs": [
    {
     "name": "stdout",
     "output_type": "stream",
     "text": [
      "<class 'pandas.core.frame.DataFrame'>\n",
      "RangeIndex: 2843050 entries, 0 to 2843049\n",
      "Columns: 823 entries, date to NextChange\n",
      "dtypes: float64(821), int64(1), object(1)\n",
      "memory usage: 17.4+ GB\n"
     ]
    }
   ],
   "source": [
    "d1221.info()"
   ]
  },
  {
   "cell_type": "markdown",
   "id": "f6c42a34",
   "metadata": {},
   "source": [
    "# modeling"
   ]
  },
  {
   "cell_type": "code",
   "execution_count": 9,
   "id": "98b8c4d1",
   "metadata": {},
   "outputs": [],
   "source": [
    "# NextChange\n",
    "d1221['NextChange'] = np.where(d1221['NextChange']>0.05, 1, 0)"
   ]
  },
  {
   "cell_type": "code",
   "execution_count": null,
   "id": "2b11cd13",
   "metadata": {},
   "outputs": [],
   "source": []
  },
  {
   "cell_type": "code",
   "execution_count": 10,
   "id": "8c1dfdec",
   "metadata": {},
   "outputs": [],
   "source": [
    "from datetime import datetime\n",
    "# 1. Logistic regression\n",
    "from sklearn.linear_model import LogisticRegression\n",
    "# 2. Decision tree\n",
    "from sklearn.tree import DecisionTreeClassifier\n",
    "# 3. Support vector machine\n",
    "from sklearn.svm import SVC\n",
    "# 4. Gaussian naive bayes\n",
    "from sklearn.naive_bayes import GaussianNB\n",
    "# 5. K nearest neighbor\n",
    "from sklearn.neighbors import KNeighborsClassifier\n",
    "# 6. Random forest\n",
    "from sklearn.ensemble import RandomForestClassifier\n",
    "# 7. Gradient boosing\n",
    "from sklearn.ensemble import GradientBoostingClassifier\n",
    "# 8. Neural network\n",
    "from sklearn.neural_network import MLPClassifier\n",
    "import lightgbm as lgb\n",
    "from xgboost import XGBClassifier # decision tree 앙상블 모델, 부스팅\n",
    "# [light gbm 장점, 하이퍼파라미터 튜닝 방안](https://ariz1623.tistory.com/209)\n",
    "# LightGBM도 XGBoost와 동일하게 조기 중단 수행 가능.\n",
    "# [XGBoost와 LightGBM 하이퍼파라미터 튜닝 가이드](https://psystat.tistory.com/131)\n",
    "\n",
    "\n",
    "from sklearn.model_selection import GridSearchCV\n",
    "\n",
    "from sklearn.dummy import DummyClassifier\n",
    "\n",
    "# 모델 평가 지표 scoring metrics\n",
    "from sklearn.model_selection import cross_val_score # model 검증\n",
    "\n",
    "from sklearn.metrics import accuracy_score\n",
    "from sklearn.metrics import roc_auc_score\n",
    "from sklearn.metrics import f1_score\n",
    "from sklearn.metrics import jaccard_score\n",
    "\n",
    "import ast # convert string to function\n",
    "\n",
    "# [scikit-learn classifier metrics](https://scikit-learn.org/stable/modules/model_evaluation.html)\n",
    "# [classification metrics 1](https://hong-yp-ml-records.tistory.com/29)\n",
    "# [classification metrics 2](https://sw-data.tistory.com/23) -> regression metrics 참고\n",
    "\n",
    "results = []\n",
    "def my_classifier():\n",
    "    \n",
    "    # X, y\n",
    "    X = d1221.iloc[:,2:-1] # 1221 데이터\n",
    "    y = d1221.iloc[:,-1]\n",
    "    \n",
    "    # seed 고정\n",
    "    user_seed = 0\n",
    "    random.seed(user_seed) # seed 고정\n",
    "    \n",
    "    # 모델\n",
    "    # (같은 줄에 써놓은 애들끼리 하이퍼파리미터 구성 비슷하거나 같음)\n",
    "    Logistic_Regression = LogisticRegression(n_jobs=32,\n",
    "                                             random_state=user_seed,\n",
    "                                             max_iter=10) # , verbose = 1\n",
    "    # [모델훈련](https://taek98.tistory.com/15)\n",
    "\n",
    "    DecisionTree = DecisionTreeClassifier(max_depth = 10,\n",
    "                                          random_state=user_seed,\n",
    "                                          max_leaf_nodes=4)\n",
    "    \n",
    "    RandomForest = RandomForestClassifier(n_estimators=10,\n",
    "                                          max_depth=10,\n",
    "                                          random_state=user_seed,\n",
    "                                          max_leaf_nodes=4,\n",
    "                                          n_jobs=32) # , verbose=1\n",
    "    \n",
    "    GradientBoosting = GradientBoostingClassifier(n_estimators=10,\n",
    "                                                  max_depth = 10,\n",
    "                                                  random_state = user_seed,\n",
    "                                                  max_leaf_nodes=4,\n",
    "                                                  learning_rate=0.05) # , verbose = 1\n",
    "    \n",
    "    SVM = SVC(max_iter=1000,\n",
    "              random_state=user_seed) # , verbose=True\n",
    "    \n",
    "    Gaussian_NB = GaussianNB()\n",
    "    KNeighbors = KNeighborsClassifier(n_jobs = 32)\n",
    "    MLP = MLPClassifier(max_iter=1000,\n",
    "                        batch_size = 10000,\n",
    "                        shuffle=True,\n",
    "                        random_state = user_seed,\n",
    "                        early_stopping=True) # early_stopping 있어서 max_iter 키움., verbose=True\n",
    "\n",
    "    XGBoost = XGBClassifier(n_jobs=32,\n",
    "                            max_depth=10,\n",
    "                            n_estimators=10,\n",
    "                            learning_rate=0.05,\n",
    "                            random_state = user_seed) # early_stopping_rounds = 50,\n",
    "    # [XGBoost Classifier hyper params](https://xgboost.readthedocs.io/en/stable/python/python_api.html)\n",
    "    LGBM = lgb.LGBMClassifier(num_leaves=31,\n",
    "                              learning_rate=0.05,\n",
    "                              n_estimators=10,\n",
    "                              max_depth = 10,\n",
    "                              random_state = user_seed) # early_stopping_rounds, best_iteration_,\n",
    "    # max_depth : 과적합 방지를 위해 깊이 크기 제한\n",
    "    # n_estimators : 너무 크면 과적합, 성능저하\n",
    "    # learning_rate 작게 하면서 n_estimators를 크게 하는 것은 부스팅 계열 튜닝에서 가장 기본적인 튜닝 방안이므로 이를 적용하는 것도 좋다.\n",
    "    # [LGBM](https://lightgbm.readthedocs.io/en/latest/pythonapi/lightgbm.LGBMClassifier.html)\n",
    "    \n",
    "    # [gbm grid CV, best_iteration_ 참고](https://github.com/microsoft/LightGBM/blob/master/examples/python-guide/sklearn_example.py)\n",
    "    # [how to save model to best iteration if early stopping does not happen?](https://github.com/Microsoft/LightGBM/issues/1683)\n",
    "    \n",
    "    dummy = DummyClassifier(strategy = 'stratified', random_state = user_seed) # strategy 옵션: 'stratified', 'uniform', 'most_frequent'\n",
    "    \n",
    "    my_model_list = ['LGBM', 'XGBoost', 'dummy',\n",
    "                     'Logistic_Regression', 'SVM', 'Gaussian_NB', 'KNeighbors',\n",
    "                     'MLP',\n",
    "                     'DecisionTree', 'RandomForest', 'GradientBoosting'] # 오래 걸리는걸 앞으로 뺌\n",
    "    \n",
    "    i = 0\n",
    "    \n",
    "    ######################################################################### fitting\n",
    "    for model_nm in tqdm(my_model_list):\n",
    "        print(f'<<<---{model_nm} start--->>>')\n",
    "        print(datetime.now().strftime('%H:%M:%S'))\n",
    "        cntcnt = 0\n",
    "        # cv # 년도 나눠지는 것에 따라서 개수 정함.\n",
    "        for slicer in slicing_dic:\n",
    "            print(f'<<<---{slicer} start--->>>')\n",
    "            print(datetime.now().strftime('%H:%M:%S'))\n",
    "            tmpX = X[slicing_dic[slicer][0]:slicing_dic[slicer][1]].reset_index(drop = True) # X를 연속 4년치 꺼내서 reset_index(drop = True)\n",
    "            tmpy = y[slicing_dic[slicer][0]:slicing_dic[slicer][1]].reset_index(drop = True) # y를 연속 4년치 꺼내서 reset_index(drop = True)\n",
    "#             tmp_all = d1221[slicing_dic[slicer][0]:slicing_dic[slicer][1]].reset_index(drop = True) # 전체데이터\n",
    "\n",
    "            X_train = tmpX[:-slicing_dic[slicer][2]] # 기준년도 앞\n",
    "            X_test = tmpX[-slicing_dic[slicer][2]:] # 기준년도 이하\n",
    "            y_train = tmpy[:-slicing_dic[slicer][2]] # 기준년도 앞\n",
    "            y_test = tmpy[-slicing_dic[slicer][2]:] # 기준년도 이하\n",
    "            \n",
    "            # train끼리 idx 같아야 하므로\n",
    "            len_train = slicing_dic[slicer][1]-(slicing_dic[slicer][2]+slicing_dic[slicer][0]) # 혹은 tmp_train.shape[0]\n",
    "            len(list(range(len_train)))\n",
    "            train_idx = list(range(len_train))\n",
    "            random.shuffle(train_idx) # 자동으로 덮어쓰기\n",
    "            \n",
    "            # test끼리 idx 같아야 하므로\n",
    "            len_train_to_test = slicing_dic[slicer][1]-slicing_dic[slicer][0]\n",
    "            test_idx = list(range(len_train,len_train_to_test)) # +1 안해줘도 되는 거 위 cell에서 확인\n",
    "            len(test_idx)\n",
    "            random.shuffle(test_idx) # 자동으로 덮어쓰기\n",
    "            \n",
    "            X_train = X_train.loc[train_idx]\n",
    "            y_train = y_train.loc[train_idx]\n",
    "            X_test = X_test.loc[test_idx]\n",
    "            y_test = y_test.loc[test_idx]\n",
    "            ###########################################\n",
    "            y_train = np.array(y_train).reshape(-1,1) # 1열짜리로 만드는 것\n",
    "            y_test = np.array(y_test).reshape(-1,1)\n",
    "\n",
    "            ######################################################## cv를 위한 데이터 slicing 작업 끝\n",
    "\n",
    "            # fitting은 cv 안에 넣기\n",
    "            if model_nm == 'LGBM':\n",
    "                model_ = eval(model_nm).fit(X_train, y_train,\n",
    "                                            eval_set=[(X_test, y_test)],\n",
    "                                            eval_metric='auc',\n",
    "                                            early_stopping_rounds=5) # map: mean average precision\n",
    "                # eval_metric = logloss, auc, error\n",
    "                y_pred_test = model_.predict(X_test, num_iteration=LGBM.best_iteration_) # 예측\n",
    "            # If early stopping occurs, the model will have three additional fields: best_score, best_iteration and best_ntree_limit\n",
    "            # [eval_metric](https://stats.stackexchange.com/questions/493981/xgboost-mean-average-precision-eval-metric-for-classification)\n",
    "            # [gbm.fit verbose = 10, #verbose = 10 : 10번 반복할 때마다 logloss값을 보여준다.](https://dacon.io/codeshare/1827)\n",
    "            # [Classifier, Regressor eval_metric 예시](https://hwi-doc.tistory.com/entry/%EC%9D%B4%ED%95%B4%ED%95%98%EA%B3%A0-%EC%82%AC%EC%9A%A9%ED%95%98%EC%9E%90-XGBoost)\n",
    "            # [XGBoost parameters](https://xgboost.readthedocs.io/en/latest/parameter.html#)\n",
    "            # error: For MAP metric, there should be query information\n",
    "            elif model_nm == 'XGBoost': # xgboost_linear가 느려서\n",
    "                cntcnt += 1\n",
    "                print(f'$$$$$---{cntcnt}')\n",
    "                model_ = eval(model_nm).fit(X_train, y_train,\n",
    "                                            eval_set=[(X_test, y_test)],\n",
    "                                            eval_metric='auc',\n",
    "                                            early_stopping_rounds=5) # ,verbose = True\n",
    "                y_pred_test = model_.predict(X_test) # 예측\n",
    "            \n",
    "            else:\n",
    "                cntcnt += 1\n",
    "                print(f'$$$$$---{cntcnt}')\n",
    "                model_ = eval(model_nm).fit(X_train, y_train)\n",
    "                y_pred_test = model_.predict(X_test) # 예측\n",
    "\n",
    "            accuracy = accuracy_score(y_test, y_pred_test)\n",
    "            roc_auc = roc_auc_score(y_test, y_pred_test)\n",
    "            f1 = f1_score(y_test, y_pred_test)\n",
    "            jaccard = jaccard_score(y_test, y_pred_test)\n",
    "            cv_scores = cross_val_score(eval(model_nm), tmpX, tmpy, cv=7, n_jobs = 32)\n",
    "            \n",
    "            _ = dummy.fit(X_train, y_train)\n",
    "            dummy_score = dummy.score(X_test, y_test)\n",
    "\n",
    "            results.append([i, f'{model_nm}', accuracy, roc_auc, f1, jaccard, cv_scores, dummy_score])\n",
    "            i+=1\n",
    "        ################################################################\n",
    "        print(results[-7:])\n",
    "    return results#score_dic#[0]"
   ]
  },
  {
   "cell_type": "code",
   "execution_count": null,
   "id": "c1dbc919",
   "metadata": {},
   "outputs": [
    {
     "name": "stderr",
     "output_type": "stream",
     "text": [
      "\r",
      "  0%|                                                    | 0/11 [00:00<?, ?it/s]"
     ]
    },
    {
     "name": "stdout",
     "output_type": "stream",
     "text": [
      "<<<---LGBM start--->>>\n",
      "11:55:35\n",
      "<<<---1215 start--->>>\n",
      "11:55:35\n",
      "[1]\tvalid_0's auc: 0.543587\tvalid_0's binary_logloss: 0.689986\n",
      "[2]\tvalid_0's auc: 0.543863\tvalid_0's binary_logloss: 0.689661\n",
      "[3]\tvalid_0's auc: 0.545365\tvalid_0's binary_logloss: 0.689346\n",
      "[4]\tvalid_0's auc: 0.546417\tvalid_0's binary_logloss: 0.68905\n",
      "[5]\tvalid_0's auc: 0.547451\tvalid_0's binary_logloss: 0.688781\n",
      "[6]\tvalid_0's auc: 0.548138\tvalid_0's binary_logloss: 0.68855\n",
      "[7]\tvalid_0's auc: 0.548717\tvalid_0's binary_logloss: 0.688339\n",
      "[8]\tvalid_0's auc: 0.549127\tvalid_0's binary_logloss: 0.688136\n",
      "[9]\tvalid_0's auc: 0.549584\tvalid_0's binary_logloss: 0.687945\n",
      "[10]\tvalid_0's auc: 0.550061\tvalid_0's binary_logloss: 0.68778\n"
     ]
    }
   ],
   "source": [
    "import time\n",
    "start = time.time()\n",
    "_ = my_classifier()\n",
    "results\n",
    "time.time()-start\n",
    "\n",
    "# local variable 변수명 referenced before assignment\n",
    "# 함수 밖에서 설정한 변수를 함수 안에서 쓰려고 할 때 발생하는 에러\n",
    "\n",
    "# logistic regression : 총 22분 걸림\n",
    "# 'SVM' : 한 타임에 40분씩 걸림 (5번째 iter가 9:40분에 시작됨. 6번째 iter는 11시에 끝나야 함.)\n",
    "# 'Gaussian_NB' : \n",
    "# 'KNeighbors' : \n",
    "# 'MLP' : \n",
    "# 'DecisionTree' : \n",
    "# 'RandomForest' : \n",
    "# 'GradientBoosting' : \n",
    "# 'XGBoost' : \n",
    "# 'LGBM' : \n",
    "# 'dummy' : "
   ]
  },
  {
   "cell_type": "code",
   "execution_count": null,
   "id": "0093b118",
   "metadata": {},
   "outputs": [],
   "source": [
    "from datetime import datetime\n",
    "print(datetime.now().strftime('%H:%M:%S'))\n",
    "print(f'<<<---{model_nm} start, {datetime.now().strftime('%H:%M:%S')}--->>>')"
   ]
  },
  {
   "cell_type": "code",
   "execution_count": 1,
   "id": "977ceeb8",
   "metadata": {},
   "outputs": [
    {
     "ename": "NameError",
     "evalue": "name 'results' is not defined",
     "output_type": "error",
     "traceback": [
      "\u001b[0;31m---------------------------------------------------------------------------\u001b[0m",
      "\u001b[0;31mNameError\u001b[0m                                 Traceback (most recent call last)",
      "\u001b[0;32m/tmp/ipykernel_418399/962467392.py\u001b[0m in \u001b[0;36m<module>\u001b[0;34m\u001b[0m\n\u001b[0;32m----> 1\u001b[0;31m \u001b[0mresults\u001b[0m\u001b[0;34m\u001b[0m\u001b[0;34m\u001b[0m\u001b[0m\n\u001b[0m",
      "\u001b[0;31mNameError\u001b[0m: name 'results' is not defined"
     ]
    }
   ],
   "source": [
    "results"
   ]
  },
  {
   "cell_type": "markdown",
   "id": "53067bcc",
   "metadata": {},
   "source": [
    "# plot을 위한 준비"
   ]
  },
  {
   "cell_type": "code",
   "execution_count": 36,
   "id": "6b591239",
   "metadata": {},
   "outputs": [
    {
     "data": {
      "text/plain": [
       "[('gbm', 17.038864984800767),\n",
       " ('random_forest', 17.107203345934888),\n",
       " ('DecisionTree', 17.11512487277789),\n",
       " ('dummy', 17.134043972509883),\n",
       " ('ardr_linear', 17.134043972509886),\n",
       " ('elasticnet', 17.137555008127638),\n",
       " ('lasso', 17.137642852401786),\n",
       " ('xgboost_linear', 17.15259417521747),\n",
       " ('ridge', 17.310136961060802),\n",
       " ('linear', 17.325673964034888),\n",
       " ('bayesian_ridge', 101.68012006811473)]"
      ]
     },
     "execution_count": 36,
     "metadata": {},
     "output_type": "execute_result"
    },
    {
     "data": {
      "text/plain": [
       "[('bayesian_ridge', -5.398477134480513),\n",
       " ('linear', -0.011225810189836911),\n",
       " ('ridge', -0.010385648064833315),\n",
       " ('xgboost_linear', -0.0022957540357875545),\n",
       " ('lasso', -0.0007475429380959163),\n",
       " ('elasticnet', -0.0007194438907102617),\n",
       " ('dummy', -0.0005254219797174997),\n",
       " ('ardr_linear', -0.0005254219797174679),\n",
       " ('DecisionTree', 0.0004419917232842011),\n",
       " ('random_forest', 0.0009220048508910164),\n",
       " ('gbm', 0.004717779053611736)]"
      ]
     },
     "execution_count": 36,
     "metadata": {},
     "output_type": "execute_result"
    },
    {
     "data": {
      "text/plain": [
       "[('bayesian_ridge', -4811.252901313237),\n",
       " ('linear', -3264.9552931690337),\n",
       " ('ridge', -207.91967448978886),\n",
       " ('lasso', -0.04146327361786053),\n",
       " ('elasticnet', -0.0397491315758709),\n",
       " ('ardr_linear', -0.00029877558233826657),\n",
       " ('dummy', -0.00029877558233826657),\n",
       " ('DecisionTree', 0.004382666428617596),\n",
       " ('random_forest', 0.004641618186416895),\n",
       " ('xgboost_linear', 0.006744282088719398),\n",
       " ('gbm', 0.01615828967311104)]"
      ]
     },
     "execution_count": 36,
     "metadata": {},
     "output_type": "execute_result"
    }
   ],
   "source": [
    "model_list = ['Logistic_Regression', 'SVM', 'Gaussian_NB', 'KNeighbors',\n",
    "              'MLP',\n",
    "              'DecisionTree', 'RandomForest', 'GradientBoosting',\n",
    "              'XGBoost', 'LGBM', 'dummy']\n",
    "mse_dic = {i:[] for i in model_list}\n",
    "r2_dic = {i:[] for i in model_list}\n",
    "cv_dic = {i:[] for i in model_list}\n",
    "for i in results:\n",
    "    mse_dic[i[1]].append(i[2])\n",
    "    r2_dic[i[1]].append(i[3])\n",
    "    cv_dic[i[1]].append(i[4].mean())\n",
    "\n",
    "\n",
    "# import math\n",
    "# 리스트에 mean 함수가 내장이 안돼있다니...\n",
    "mean_mse_score = {i:[] for i in model_list}\n",
    "mean_r2_score = {i:[] for i in model_list}\n",
    "mean_cv_score = {i:[] for i in model_list}\n",
    "for i in model_list:\n",
    "    mean_mse_score[i] = sum(mse_dic[i])/len(mse_dic[i])\n",
    "    mean_r2_score[i] = sum(r2_dic[i])/len(r2_dic[i])\n",
    "    mean_cv_score[i] = sum(cv_dic[i])/len(cv_dic[i])\n",
    "\n",
    "\n",
    "# 정렬\n",
    "mse_score_lst = sorted(mean_mse_score.items(), key = lambda t : t[1]) #mse 작은 순으로 줄 세워짐.\n",
    "r2_score_lst = sorted(mean_r2_score.items(), key = lambda t : t[1]) #r2 작은 순으로 줄 세워짐.\n",
    "cv_score_lst = sorted(mean_cv_score.items(), key = lambda t : t[1]) #cv 작은 순으로 줄 세워짐.\n",
    "mse_score_lst\n",
    "r2_score_lst\n",
    "cv_score_lst"
   ]
  },
  {
   "cell_type": "code",
   "execution_count": 37,
   "id": "aee9251a",
   "metadata": {},
   "outputs": [],
   "source": [
    "# 다시 dic\n",
    "mse_score_dic = {}\n",
    "r2_score_dic = {}\n",
    "cv_score_dic = {}\n",
    "\n",
    "for i in mse_score_lst:\n",
    "    mse_score_dic[i[0]] = i[1]\n",
    "r2_score_dic = {i[0]:i[1] for i in r2_score_lst}\n",
    "cv_score_dic = {i[0]:i[1] for i in cv_score_lst}"
   ]
  },
  {
   "cell_type": "code",
   "execution_count": 38,
   "id": "f949f15a",
   "metadata": {},
   "outputs": [
    {
     "data": {
      "text/html": [
       "<div>\n",
       "<style scoped>\n",
       "    .dataframe tbody tr th:only-of-type {\n",
       "        vertical-align: middle;\n",
       "    }\n",
       "\n",
       "    .dataframe tbody tr th {\n",
       "        vertical-align: top;\n",
       "    }\n",
       "\n",
       "    .dataframe thead th {\n",
       "        text-align: right;\n",
       "    }\n",
       "</style>\n",
       "<table border=\"1\" class=\"dataframe\">\n",
       "  <thead>\n",
       "    <tr style=\"text-align: right;\">\n",
       "      <th></th>\n",
       "      <th>key</th>\n",
       "      <th>value</th>\n",
       "    </tr>\n",
       "  </thead>\n",
       "  <tbody>\n",
       "    <tr>\n",
       "      <th>0</th>\n",
       "      <td>gbm</td>\n",
       "      <td>17.038865</td>\n",
       "    </tr>\n",
       "    <tr>\n",
       "      <th>1</th>\n",
       "      <td>random_forest</td>\n",
       "      <td>17.107203</td>\n",
       "    </tr>\n",
       "    <tr>\n",
       "      <th>2</th>\n",
       "      <td>DecisionTree</td>\n",
       "      <td>17.115125</td>\n",
       "    </tr>\n",
       "    <tr>\n",
       "      <th>3</th>\n",
       "      <td>dummy</td>\n",
       "      <td>17.134044</td>\n",
       "    </tr>\n",
       "    <tr>\n",
       "      <th>4</th>\n",
       "      <td>ardr_linear</td>\n",
       "      <td>17.134044</td>\n",
       "    </tr>\n",
       "    <tr>\n",
       "      <th>5</th>\n",
       "      <td>elasticnet</td>\n",
       "      <td>17.137555</td>\n",
       "    </tr>\n",
       "    <tr>\n",
       "      <th>6</th>\n",
       "      <td>lasso</td>\n",
       "      <td>17.137643</td>\n",
       "    </tr>\n",
       "    <tr>\n",
       "      <th>7</th>\n",
       "      <td>xgboost_linear</td>\n",
       "      <td>17.152594</td>\n",
       "    </tr>\n",
       "    <tr>\n",
       "      <th>8</th>\n",
       "      <td>ridge</td>\n",
       "      <td>17.310137</td>\n",
       "    </tr>\n",
       "    <tr>\n",
       "      <th>9</th>\n",
       "      <td>linear</td>\n",
       "      <td>17.325674</td>\n",
       "    </tr>\n",
       "    <tr>\n",
       "      <th>10</th>\n",
       "      <td>bayesian_ridge</td>\n",
       "      <td>101.680120</td>\n",
       "    </tr>\n",
       "  </tbody>\n",
       "</table>\n",
       "</div>"
      ],
      "text/plain": [
       "               key       value\n",
       "0              gbm   17.038865\n",
       "1    random_forest   17.107203\n",
       "2     DecisionTree   17.115125\n",
       "3            dummy   17.134044\n",
       "4      ardr_linear   17.134044\n",
       "5       elasticnet   17.137555\n",
       "6            lasso   17.137643\n",
       "7   xgboost_linear   17.152594\n",
       "8            ridge   17.310137\n",
       "9           linear   17.325674\n",
       "10  bayesian_ridge  101.680120"
      ]
     },
     "execution_count": 38,
     "metadata": {},
     "output_type": "execute_result"
    },
    {
     "data": {
      "text/html": [
       "<div>\n",
       "<style scoped>\n",
       "    .dataframe tbody tr th:only-of-type {\n",
       "        vertical-align: middle;\n",
       "    }\n",
       "\n",
       "    .dataframe tbody tr th {\n",
       "        vertical-align: top;\n",
       "    }\n",
       "\n",
       "    .dataframe thead th {\n",
       "        text-align: right;\n",
       "    }\n",
       "</style>\n",
       "<table border=\"1\" class=\"dataframe\">\n",
       "  <thead>\n",
       "    <tr style=\"text-align: right;\">\n",
       "      <th></th>\n",
       "      <th>key</th>\n",
       "      <th>value</th>\n",
       "    </tr>\n",
       "  </thead>\n",
       "  <tbody>\n",
       "    <tr>\n",
       "      <th>0</th>\n",
       "      <td>bayesian_ridge</td>\n",
       "      <td>-5.398477</td>\n",
       "    </tr>\n",
       "    <tr>\n",
       "      <th>1</th>\n",
       "      <td>linear</td>\n",
       "      <td>-0.011226</td>\n",
       "    </tr>\n",
       "    <tr>\n",
       "      <th>2</th>\n",
       "      <td>ridge</td>\n",
       "      <td>-0.010386</td>\n",
       "    </tr>\n",
       "    <tr>\n",
       "      <th>3</th>\n",
       "      <td>xgboost_linear</td>\n",
       "      <td>-0.002296</td>\n",
       "    </tr>\n",
       "    <tr>\n",
       "      <th>4</th>\n",
       "      <td>lasso</td>\n",
       "      <td>-0.000748</td>\n",
       "    </tr>\n",
       "    <tr>\n",
       "      <th>5</th>\n",
       "      <td>elasticnet</td>\n",
       "      <td>-0.000719</td>\n",
       "    </tr>\n",
       "    <tr>\n",
       "      <th>6</th>\n",
       "      <td>dummy</td>\n",
       "      <td>-0.000525</td>\n",
       "    </tr>\n",
       "    <tr>\n",
       "      <th>7</th>\n",
       "      <td>ardr_linear</td>\n",
       "      <td>-0.000525</td>\n",
       "    </tr>\n",
       "    <tr>\n",
       "      <th>8</th>\n",
       "      <td>DecisionTree</td>\n",
       "      <td>0.000442</td>\n",
       "    </tr>\n",
       "    <tr>\n",
       "      <th>9</th>\n",
       "      <td>random_forest</td>\n",
       "      <td>0.000922</td>\n",
       "    </tr>\n",
       "    <tr>\n",
       "      <th>10</th>\n",
       "      <td>gbm</td>\n",
       "      <td>0.004718</td>\n",
       "    </tr>\n",
       "  </tbody>\n",
       "</table>\n",
       "</div>"
      ],
      "text/plain": [
       "               key     value\n",
       "0   bayesian_ridge -5.398477\n",
       "1           linear -0.011226\n",
       "2            ridge -0.010386\n",
       "3   xgboost_linear -0.002296\n",
       "4            lasso -0.000748\n",
       "5       elasticnet -0.000719\n",
       "6            dummy -0.000525\n",
       "7      ardr_linear -0.000525\n",
       "8     DecisionTree  0.000442\n",
       "9    random_forest  0.000922\n",
       "10             gbm  0.004718"
      ]
     },
     "execution_count": 38,
     "metadata": {},
     "output_type": "execute_result"
    },
    {
     "data": {
      "text/html": [
       "<div>\n",
       "<style scoped>\n",
       "    .dataframe tbody tr th:only-of-type {\n",
       "        vertical-align: middle;\n",
       "    }\n",
       "\n",
       "    .dataframe tbody tr th {\n",
       "        vertical-align: top;\n",
       "    }\n",
       "\n",
       "    .dataframe thead th {\n",
       "        text-align: right;\n",
       "    }\n",
       "</style>\n",
       "<table border=\"1\" class=\"dataframe\">\n",
       "  <thead>\n",
       "    <tr style=\"text-align: right;\">\n",
       "      <th></th>\n",
       "      <th>key</th>\n",
       "      <th>value</th>\n",
       "    </tr>\n",
       "  </thead>\n",
       "  <tbody>\n",
       "    <tr>\n",
       "      <th>0</th>\n",
       "      <td>bayesian_ridge</td>\n",
       "      <td>-4811.252901</td>\n",
       "    </tr>\n",
       "    <tr>\n",
       "      <th>1</th>\n",
       "      <td>linear</td>\n",
       "      <td>-3264.955293</td>\n",
       "    </tr>\n",
       "    <tr>\n",
       "      <th>2</th>\n",
       "      <td>ridge</td>\n",
       "      <td>-207.919674</td>\n",
       "    </tr>\n",
       "    <tr>\n",
       "      <th>3</th>\n",
       "      <td>lasso</td>\n",
       "      <td>-0.041463</td>\n",
       "    </tr>\n",
       "    <tr>\n",
       "      <th>4</th>\n",
       "      <td>elasticnet</td>\n",
       "      <td>-0.039749</td>\n",
       "    </tr>\n",
       "    <tr>\n",
       "      <th>5</th>\n",
       "      <td>ardr_linear</td>\n",
       "      <td>-0.000299</td>\n",
       "    </tr>\n",
       "    <tr>\n",
       "      <th>6</th>\n",
       "      <td>dummy</td>\n",
       "      <td>-0.000299</td>\n",
       "    </tr>\n",
       "    <tr>\n",
       "      <th>7</th>\n",
       "      <td>DecisionTree</td>\n",
       "      <td>0.004383</td>\n",
       "    </tr>\n",
       "    <tr>\n",
       "      <th>8</th>\n",
       "      <td>random_forest</td>\n",
       "      <td>0.004642</td>\n",
       "    </tr>\n",
       "    <tr>\n",
       "      <th>9</th>\n",
       "      <td>xgboost_linear</td>\n",
       "      <td>0.006744</td>\n",
       "    </tr>\n",
       "    <tr>\n",
       "      <th>10</th>\n",
       "      <td>gbm</td>\n",
       "      <td>0.016158</td>\n",
       "    </tr>\n",
       "  </tbody>\n",
       "</table>\n",
       "</div>"
      ],
      "text/plain": [
       "               key        value\n",
       "0   bayesian_ridge -4811.252901\n",
       "1           linear -3264.955293\n",
       "2            ridge  -207.919674\n",
       "3            lasso    -0.041463\n",
       "4       elasticnet    -0.039749\n",
       "5      ardr_linear    -0.000299\n",
       "6            dummy    -0.000299\n",
       "7     DecisionTree     0.004383\n",
       "8    random_forest     0.004642\n",
       "9   xgboost_linear     0.006744\n",
       "10             gbm     0.016158"
      ]
     },
     "execution_count": 38,
     "metadata": {},
     "output_type": "execute_result"
    }
   ],
   "source": [
    "mse_df = pd.DataFrame(mse_score_dic.items(), columns=['key', 'value'])\n",
    "mse_df\n",
    "\n",
    "r2_df = pd.DataFrame(r2_score_dic.items(), columns=['key', 'value'])\n",
    "r2_df\n",
    "\n",
    "cv_df = pd.DataFrame(cv_score_dic.items(), columns=['key', 'value'])\n",
    "cv_df"
   ]
  },
  {
   "cell_type": "markdown",
   "id": "16e36424",
   "metadata": {},
   "source": [
    "# plot"
   ]
  },
  {
   "cell_type": "code",
   "execution_count": 42,
   "id": "808512c4",
   "metadata": {},
   "outputs": [],
   "source": [
    "import seaborn as sns\n",
    "import matplotlib.pyplot as plt"
   ]
  },
  {
   "cell_type": "code",
   "execution_count": 376,
   "id": "d0fbbe83",
   "metadata": {},
   "outputs": [
    {
     "data": {
      "text/plain": [
       "<Figure size 750x450 with 0 Axes>"
      ]
     },
     "execution_count": 376,
     "metadata": {},
     "output_type": "execute_result"
    },
    {
     "data": {
      "image/png": "[encoded data removed]",
      "text/plain": [
       "<Figure size 750x450 with 1 Axes>"
      ]
     },
     "metadata": {
      "needs_background": "light"
     },
     "output_type": "display_data"
    }
   ],
   "source": [
    "plt.figure(figsize=(15,9), dpi = 50)\n",
    "g = sns.barplot(x = 'key', y = 'value', data=mse_df, capsize=.2)\n",
    "_ = g.set_xticks(range(len(mse_df)))\n",
    "_ = g.set_xticklabels(g.get_xticklabels(), rotation=35, fontsize = 20)\n",
    "_ = plt.setp(g.get_yticklabels(), fontsize =18)\n",
    "_ = g.set_xlabel(\"regression models\", fontsize = 28)\n",
    "_ = g.set_ylabel(\"Mean Squared Errors\", fontsize = 25)\n",
    "_ = g.set_ylim([16, 18]) # g.set_ylim([0, 18]) # ax.set(ylim=(0.4, 0.6))\n",
    "\n",
    "mse_dummy_mean = mse_df[mse_df.key=='dummy']['value'].values\n",
    "_ = g.plot([-1,len(mse_df)], [mse_dummy_mean, mse_dummy_mean], color = 'red', linewidth = 2.3)\n",
    "_ = g.annotate(text = f'dummy\\n: {mse_dummy_mean[0]:.4f}', xy = (3, mse_dummy_mean), xytext = (1.1, 17.3),\n",
    "               arrowprops = dict(facecolor = 'red', shrink = 0), fontsize = 18)\n",
    "\n",
    "\n",
    "val = mse_df['value']\n",
    "cnt = 0\n",
    "for i in range(len(mse_df)):\n",
    "    tmp_fval = f'{val[i]:.2f}'\n",
    "    if tmp_fval.index('.') == 3:\n",
    "        _ = g.text(cnt-0.355, 16.05, tmp_fval, fontsize=15)\n",
    "    elif tmp_fval.index('.') == 2:\n",
    "        _ = g.text(cnt-0.285, 16.05, tmp_fval, fontsize=15)\n",
    "    cnt += 1\n",
    "\n",
    "plt.tight_layout()\n",
    "plt.savefig('mse_reg_plot.png')"
   ]
  },
  {
   "cell_type": "markdown",
   "id": "92899ce2",
   "metadata": {},
   "source": [
    "[Demonstration of multi-metric evaluation on cross_val_score and GridSearchCV](https://scikit-learn.org/stable/auto_examples/model_selection/plot_multi_metric_evaluation.html?highlight=decisiontreeclassifier) <br>\n",
    "[Classifier comparison](https://scikit-learn.org/stable/auto_examples/classification/plot_classifier_comparison.html?highlight=decisiontreeclassifier) <br>"
   ]
  },
  {
   "cell_type": "code",
   "execution_count": null,
   "id": "8fefdaee",
   "metadata": {},
   "outputs": [],
   "source": []
  }
 ],
 "metadata": {
  "kernelspec": {
   "display_name": "Python 3 (ipykernel)",
   "language": "python",
   "name": "python3"
  },
  "language_info": {
   "codemirror_mode": {
    "name": "ipython",
    "version": 3
   },
   "file_extension": ".py",
   "mimetype": "text/x-python",
   "name": "python",
   "nbconvert_exporter": "python",
   "pygments_lexer": "ipython3",
   "version": "3.8.2"
  },
  "toc": {
   "base_numbering": 1,
   "nav_menu": {},
   "number_sections": true,
   "sideBar": true,
   "skip_h1_title": false,
   "title_cell": "Table of Contents",
   "title_sidebar": "Contents",
   "toc_cell": false,
   "toc_position": {},
   "toc_section_display": true,
   "toc_window_display": false
  }
 },
 "nbformat": 4,
 "nbformat_minor": 5
}
