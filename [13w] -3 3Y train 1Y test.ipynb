{
 "cells": [
  {
   "cell_type": "code",
   "execution_count": 1,
   "id": "c2f428f8",
   "metadata": {},
   "outputs": [
    {
     "name": "stderr",
     "output_type": "stream",
     "text": [
      "2022-06-04 18:11:01.359641: I tensorflow/stream_executor/platform/default/dso_loader.cc:49] Successfully opened dynamic library libcudart.so.10.1\n"
     ]
    }
   ],
   "source": [
    "import pandas as pd\n",
    "from IPython.core.interactiveshell import InteractiveShell\n",
    "InteractiveShell.ast_node_interactivity = 'all'\n",
    "\n",
    "import numpy as np\n",
    "from tqdm import tqdm\n",
    "import warnings\n",
    "warnings.filterwarnings('ignore')\n",
    "import tensorflow as tf"
   ]
  },
  {
   "cell_type": "code",
   "execution_count": 2,
   "id": "a409757f",
   "metadata": {},
   "outputs": [],
   "source": [
    "ddir = '/data/stock/'\n",
    "d2012 = pd.read_csv(ddir + 'stock.KOSPI.KOSDAQ.2012.csv')\n",
    "d2013 = pd.read_csv(ddir + 'stock.KOSPI.KOSDAQ.2013.csv')\n",
    "d2014 = pd.read_csv(ddir + 'stock.KOSPI.KOSDAQ.2014.csv')\n",
    "d2015 = pd.read_csv(ddir + 'stock.KOSPI.KOSDAQ.2015.csv')\n",
    "d2016 = pd.read_csv(ddir + 'stock.KOSPI.KOSDAQ.2016.csv')\n",
    "d2017 = pd.read_csv(ddir + 'stock.KOSPI.KOSDAQ.2017.csv')\n",
    "d2018 = pd.read_csv(ddir + 'stock.KOSPI.KOSDAQ.2018.csv')\n",
    "d2019 = pd.read_csv(ddir + 'stock.KOSPI.KOSDAQ.2019.csv')\n",
    "d2020 = pd.read_csv(ddir + 'stock.KOSPI.KOSDAQ.2020.csv')\n",
    "d2021 = pd.read_csv(ddir + 'stock.KOSPI.KOSDAQ.2021.csv')"
   ]
  },
  {
   "cell_type": "markdown",
   "id": "c3534a44",
   "metadata": {},
   "source": [
    "# mk_cd"
   ]
  },
  {
   "cell_type": "code",
   "execution_count": 3,
   "id": "318e3afb",
   "metadata": {},
   "outputs": [],
   "source": [
    "## 함수\n",
    "def mk_cd(x):\n",
    "    if type(x) == str:\n",
    "        if x.isalpha():\n",
    "            return x\n",
    "        else:\n",
    "            if len(x) == 6:\n",
    "                return x\n",
    "            else:\n",
    "                return \"0\"*(6-len(x))+x\n",
    "    elif type(x) == int:\n",
    "        x = str(x)\n",
    "        return \"0\"*(6-len(x))+x"
   ]
  },
  {
   "cell_type": "code",
   "execution_count": 4,
   "id": "56da20fa",
   "metadata": {},
   "outputs": [],
   "source": [
    "## 적용\n",
    "d2012['code'] = list(map(mk_cd, d2012['code']))\n",
    "d2013['code'] = list(map(mk_cd, d2013['code']))\n",
    "d2014['code'] = list(map(mk_cd, d2014['code']))\n",
    "d2015['code'] = list(map(mk_cd, d2015['code']))\n",
    "d2016['code'] = list(map(mk_cd, d2016['code']))\n",
    "d2017['code'] = list(map(mk_cd, d2017['code']))\n",
    "d2018['code'] = list(map(mk_cd, d2018['code']))\n",
    "d2019['code'] = list(map(mk_cd, d2019['code']))\n",
    "d2020['code'] = list(map(mk_cd, d2020['code']))\n",
    "d2021['code'] = list(map(mk_cd, d2021['code']))"
   ]
  },
  {
   "cell_type": "markdown",
   "id": "1f7778d6",
   "metadata": {},
   "source": [
    "# fillna (각 열의 평균으로)"
   ]
  },
  {
   "cell_type": "markdown",
   "id": "5a8ed204",
   "metadata": {},
   "source": [
    "## fillna 해야할 data 찾기"
   ]
  },
  {
   "cell_type": "code",
   "execution_count": 5,
   "id": "37150bf8",
   "metadata": {},
   "outputs": [
    {
     "data": {
      "text/plain": [
       "0"
      ]
     },
     "execution_count": 5,
     "metadata": {},
     "output_type": "execute_result"
    },
    {
     "data": {
      "text/plain": [
       "0"
      ]
     },
     "execution_count": 5,
     "metadata": {},
     "output_type": "execute_result"
    },
    {
     "data": {
      "text/plain": [
       "0"
      ]
     },
     "execution_count": 5,
     "metadata": {},
     "output_type": "execute_result"
    },
    {
     "data": {
      "text/plain": [
       "820"
      ]
     },
     "execution_count": 5,
     "metadata": {},
     "output_type": "execute_result"
    },
    {
     "data": {
      "text/plain": [
       "1640"
      ]
     },
     "execution_count": 5,
     "metadata": {},
     "output_type": "execute_result"
    },
    {
     "data": {
      "text/plain": [
       "0"
      ]
     },
     "execution_count": 5,
     "metadata": {},
     "output_type": "execute_result"
    },
    {
     "data": {
      "text/plain": [
       "820"
      ]
     },
     "execution_count": 5,
     "metadata": {},
     "output_type": "execute_result"
    },
    {
     "data": {
      "text/plain": [
       "0"
      ]
     },
     "execution_count": 5,
     "metadata": {},
     "output_type": "execute_result"
    },
    {
     "data": {
      "text/plain": [
       "820"
      ]
     },
     "execution_count": 5,
     "metadata": {},
     "output_type": "execute_result"
    },
    {
     "data": {
      "text/plain": [
       "0"
      ]
     },
     "execution_count": 5,
     "metadata": {},
     "output_type": "execute_result"
    }
   ],
   "source": [
    "d2012.iloc[:,2:].isnull().sum().sum()\n",
    "d2013.iloc[:,2:].isnull().sum().sum()\n",
    "d2014.iloc[:,2:].isnull().sum().sum()\n",
    "d2015.iloc[:,2:].isnull().sum().sum() #\n",
    "d2016.iloc[:,2:].isnull().sum().sum() #\n",
    "d2017.iloc[:,2:].isnull().sum().sum()\n",
    "d2018.iloc[:,2:].isnull().sum().sum() #\n",
    "d2019.iloc[:,2:].isnull().sum().sum()\n",
    "d2020.iloc[:,2:].isnull().sum().sum() #\n",
    "d2021.iloc[:,2:].isnull().sum().sum()\n"
   ]
  },
  {
   "cell_type": "markdown",
   "id": "5d7883f2",
   "metadata": {},
   "source": [
    "## fillna"
   ]
  },
  {
   "cell_type": "code",
   "execution_count": 6,
   "id": "f622c2fd",
   "metadata": {},
   "outputs": [],
   "source": [
    "# fillna 잘 먹히는지 확인\n",
    "# d2015.fillna(d2015.iloc[:,2:].mean()).isnull().sum().sum()\n",
    "# d2016.fillna(d2015.iloc[:,2:].mean()).isnull().sum().sum()\n",
    "# d2018.fillna(d2015.iloc[:,2:].mean()).isnull().sum().sum()\n",
    "# d2020.fillna(d2015.iloc[:,2:].mean()).isnull().sum().sum()\n",
    "\n",
    "d2015 = d2015.fillna(d2015.iloc[:,2:].mean())\n",
    "d2016 = d2016.fillna(d2015.iloc[:,2:].mean())\n",
    "d2018 = d2018.fillna(d2015.iloc[:,2:].mean())\n",
    "d2020 = d2020.fillna(d2015.iloc[:,2:].mean())"
   ]
  },
  {
   "cell_type": "markdown",
   "id": "0986d89c",
   "metadata": {},
   "source": [
    "## fillna test"
   ]
  },
  {
   "cell_type": "code",
   "execution_count": 155,
   "id": "d1664705",
   "metadata": {
    "scrolled": true
   },
   "outputs": [
    {
     "name": "stdout",
     "output_type": "stream",
     "text": [
      "<class 'pandas.core.frame.DataFrame'>\n",
      "RangeIndex: 314361 entries, 0 to 314360\n",
      "Columns: 821 entries, D-10_open to NextChange\n",
      "dtypes: float64(821)\n",
      "memory usage: 1.9 GB\n"
     ]
    },
    {
     "data": {
      "text/plain": [
       "date           20150206\n",
       "code              28300\n",
       "D-10_open          0.74\n",
       "D-10_high           NaN\n",
       "D-10_low            NaN\n",
       "                 ...   \n",
       "D-1_KST             NaN\n",
       "D-1_DCW             NaN\n",
       "D-1_SRSID           NaN\n",
       "D-1_PPOhist         NaN\n",
       "NextChange          NaN\n",
       "Name: 162003, Length: 823, dtype: object"
      ]
     },
     "execution_count": 155,
     "metadata": {},
     "output_type": "execute_result"
    },
    {
     "data": {
      "text/plain": [
       "D-10_open       0.002667\n",
       "D-10_high       0.031839\n",
       "D-10_low       -0.025061\n",
       "D-10_close      0.002356\n",
       "D-10_MA5       -0.000125\n",
       "                 ...    \n",
       "D-1_KST        54.597840\n",
       "D-1_DCW        20.674738\n",
       "D-1_SRSID       0.485744\n",
       "D-1_PPOhist     0.015459\n",
       "NextChange      0.176403\n",
       "Length: 821, dtype: float64"
      ]
     },
     "execution_count": 155,
     "metadata": {},
     "output_type": "execute_result"
    },
    {
     "data": {
      "text/plain": [
       "0"
      ]
     },
     "execution_count": 155,
     "metadata": {},
     "output_type": "execute_result"
    },
    {
     "data": {
      "text/plain": [
       "date            20150206\n",
       "code               28300\n",
       "D-10_open           0.74\n",
       "D-10_high       0.031839\n",
       "D-10_low       -0.025061\n",
       "                 ...    \n",
       "D-1_KST         54.59784\n",
       "D-1_DCW        20.674738\n",
       "D-1_SRSID       0.485744\n",
       "D-1_PPOhist     0.015459\n",
       "NextChange      0.176403\n",
       "Name: 162003, Length: 823, dtype: object"
      ]
     },
     "execution_count": 155,
     "metadata": {},
     "output_type": "execute_result"
    }
   ],
   "source": [
    "d2015.iloc[:,2:].info()\n",
    "\n",
    "# d2015.columns[-100:]\n",
    "# d2015.iloc[:,2:].isnull().sum() # open 제외 모든 열에 nan값이 있음.\n",
    "\n",
    "# 이 코드는 str이라고 에러남 # sum(d2015.iloc[:,2:].isnull())\n",
    "\n",
    "# np.where(d2015.iloc[:,2:].isnull()) # null값인 곳 위치\n",
    "d2015.iloc[162003,:]\n",
    "\n",
    "d2015.iloc[:,2:].mean()\n",
    "d2015.fillna(d2015.iloc[:,2:].mean()).isnull().sum().sum()\n",
    "d2015.fillna(d2015.iloc[:,2:].mean()).iloc[162003,:] # 그냥 알아서 깥은 열의 빈 칸(null인 칸)에 넣어줌. 확인!"
   ]
  },
  {
   "cell_type": "markdown",
   "id": "5f1f9ce7",
   "metadata": {},
   "source": [
    "# data 살펴보기"
   ]
  },
  {
   "cell_type": "code",
   "execution_count": 60,
   "id": "13f68228",
   "metadata": {},
   "outputs": [
    {
     "data": {
      "text/plain": [
       "0        -2.38\n",
       "1        -2.03\n",
       "2        -0.83\n",
       "3        -2.93\n",
       "4        -0.43\n",
       "          ... \n",
       "321803    0.47\n",
       "321804    1.39\n",
       "321805    1.37\n",
       "321806    0.00\n",
       "321807    0.00\n",
       "Name: NextChange, Length: 321808, dtype: float64"
      ]
     },
     "execution_count": 60,
     "metadata": {},
     "output_type": "execute_result"
    }
   ],
   "source": [
    "d2021['NextChange']"
   ]
  },
  {
   "cell_type": "code",
   "execution_count": 17,
   "id": "3cf96293",
   "metadata": {},
   "outputs": [
    {
     "data": {
      "text/plain": [
       "dtype('O')"
      ]
     },
     "execution_count": 17,
     "metadata": {},
     "output_type": "execute_result"
    }
   ],
   "source": [
    "d2021['code'].dtype # 이게 'Object'"
   ]
  },
  {
   "cell_type": "code",
   "execution_count": 4,
   "id": "5acf6b23",
   "metadata": {},
   "outputs": [
    {
     "data": {
      "text/plain": [
       "(321808, 823)"
      ]
     },
     "execution_count": 4,
     "metadata": {},
     "output_type": "execute_result"
    },
    {
     "name": "stdout",
     "output_type": "stream",
     "text": [
      "<class 'pandas.core.frame.DataFrame'>\n",
      "RangeIndex: 321808 entries, 0 to 321807\n",
      "Columns: 823 entries, date to NextChange\n",
      "dtypes: float64(821), int64(1), object(1)\n",
      "memory usage: 2.0+ GB\n"
     ]
    },
    {
     "data": {
      "text/html": [
       "<div>\n",
       "<style scoped>\n",
       "    .dataframe tbody tr th:only-of-type {\n",
       "        vertical-align: middle;\n",
       "    }\n",
       "\n",
       "    .dataframe tbody tr th {\n",
       "        vertical-align: top;\n",
       "    }\n",
       "\n",
       "    .dataframe thead th {\n",
       "        text-align: right;\n",
       "    }\n",
       "</style>\n",
       "<table border=\"1\" class=\"dataframe\">\n",
       "  <thead>\n",
       "    <tr style=\"text-align: right;\">\n",
       "      <th></th>\n",
       "      <th>date</th>\n",
       "      <th>code</th>\n",
       "      <th>D-10_open</th>\n",
       "      <th>D-10_high</th>\n",
       "      <th>D-10_low</th>\n",
       "      <th>D-10_close</th>\n",
       "      <th>D-10_MA5</th>\n",
       "      <th>D-10_MA20</th>\n",
       "      <th>D-10_MA60</th>\n",
       "      <th>D-10_MA120</th>\n",
       "      <th>...</th>\n",
       "      <th>D-1_VIpos</th>\n",
       "      <th>D-1_ROC</th>\n",
       "      <th>D-1_MFI</th>\n",
       "      <th>D-1_KCW</th>\n",
       "      <th>D-1_BBP</th>\n",
       "      <th>D-1_KST</th>\n",
       "      <th>D-1_DCW</th>\n",
       "      <th>D-1_SRSID</th>\n",
       "      <th>D-1_PPOhist</th>\n",
       "      <th>NextChange</th>\n",
       "    </tr>\n",
       "  </thead>\n",
       "  <tbody>\n",
       "    <tr>\n",
       "      <th>0</th>\n",
       "      <td>20210105</td>\n",
       "      <td>16385</td>\n",
       "      <td>0.011905</td>\n",
       "      <td>0.019841</td>\n",
       "      <td>-0.011905</td>\n",
       "      <td>-0.007937</td>\n",
       "      <td>0.007143</td>\n",
       "      <td>0.032540</td>\n",
       "      <td>0.032206</td>\n",
       "      <td>0.006611</td>\n",
       "      <td>...</td>\n",
       "      <td>0.90698</td>\n",
       "      <td>-0.7874</td>\n",
       "      <td>46.303</td>\n",
       "      <td>6.7578</td>\n",
       "      <td>0.57316</td>\n",
       "      <td>-75.576</td>\n",
       "      <td>15.120</td>\n",
       "      <td>0.61641</td>\n",
       "      <td>0.059806</td>\n",
       "      <td>-2.38</td>\n",
       "    </tr>\n",
       "    <tr>\n",
       "      <th>1</th>\n",
       "      <td>20210106</td>\n",
       "      <td>16385</td>\n",
       "      <td>0.000000</td>\n",
       "      <td>0.000000</td>\n",
       "      <td>-0.032000</td>\n",
       "      <td>-0.032000</td>\n",
       "      <td>0.004800</td>\n",
       "      <td>0.038600</td>\n",
       "      <td>0.038600</td>\n",
       "      <td>0.014400</td>\n",
       "      <td>...</td>\n",
       "      <td>0.91667</td>\n",
       "      <td>-4.6512</td>\n",
       "      <td>47.839</td>\n",
       "      <td>6.6263</td>\n",
       "      <td>0.47336</td>\n",
       "      <td>-79.124</td>\n",
       "      <td>15.145</td>\n",
       "      <td>0.74380</td>\n",
       "      <td>0.259040</td>\n",
       "      <td>-2.03</td>\n",
       "    </tr>\n",
       "    <tr>\n",
       "      <th>2</th>\n",
       "      <td>20210107</td>\n",
       "      <td>16385</td>\n",
       "      <td>-0.008264</td>\n",
       "      <td>-0.008264</td>\n",
       "      <td>-0.028926</td>\n",
       "      <td>-0.028926</td>\n",
       "      <td>0.022314</td>\n",
       "      <td>0.066736</td>\n",
       "      <td>0.070455</td>\n",
       "      <td>0.047826</td>\n",
       "      <td>...</td>\n",
       "      <td>0.91608</td>\n",
       "      <td>-4.3651</td>\n",
       "      <td>45.077</td>\n",
       "      <td>6.9338</td>\n",
       "      <td>0.38046</td>\n",
       "      <td>-80.691</td>\n",
       "      <td>15.152</td>\n",
       "      <td>0.81864</td>\n",
       "      <td>0.259390</td>\n",
       "      <td>-0.83</td>\n",
       "    </tr>\n",
       "    <tr>\n",
       "      <th>3</th>\n",
       "      <td>20210108</td>\n",
       "      <td>16385</td>\n",
       "      <td>-0.008511</td>\n",
       "      <td>-0.008511</td>\n",
       "      <td>-0.038298</td>\n",
       "      <td>-0.038298</td>\n",
       "      <td>0.025532</td>\n",
       "      <td>0.091277</td>\n",
       "      <td>0.100494</td>\n",
       "      <td>0.079251</td>\n",
       "      <td>...</td>\n",
       "      <td>0.90780</td>\n",
       "      <td>-4.4000</td>\n",
       "      <td>39.347</td>\n",
       "      <td>6.9195</td>\n",
       "      <td>0.35218</td>\n",
       "      <td>-77.558</td>\n",
       "      <td>15.126</td>\n",
       "      <td>0.78711</td>\n",
       "      <td>0.212530</td>\n",
       "      <td>-2.93</td>\n",
       "    </tr>\n",
       "    <tr>\n",
       "      <th>4</th>\n",
       "      <td>20210111</td>\n",
       "      <td>16385</td>\n",
       "      <td>0.000000</td>\n",
       "      <td>0.044248</td>\n",
       "      <td>0.000000</td>\n",
       "      <td>0.030973</td>\n",
       "      <td>0.049558</td>\n",
       "      <td>0.130088</td>\n",
       "      <td>0.143062</td>\n",
       "      <td>0.120274</td>\n",
       "      <td>...</td>\n",
       "      <td>0.89051</td>\n",
       "      <td>-4.1322</td>\n",
       "      <td>39.125</td>\n",
       "      <td>7.0372</td>\n",
       "      <td>0.21853</td>\n",
       "      <td>-76.491</td>\n",
       "      <td>15.088</td>\n",
       "      <td>0.70221</td>\n",
       "      <td>0.005548</td>\n",
       "      <td>-0.43</td>\n",
       "    </tr>\n",
       "  </tbody>\n",
       "</table>\n",
       "<p>5 rows × 823 columns</p>\n",
       "</div>"
      ],
      "text/plain": [
       "       date   code  D-10_open  D-10_high  D-10_low  D-10_close  D-10_MA5  \\\n",
       "0  20210105  16385   0.011905   0.019841 -0.011905   -0.007937  0.007143   \n",
       "1  20210106  16385   0.000000   0.000000 -0.032000   -0.032000  0.004800   \n",
       "2  20210107  16385  -0.008264  -0.008264 -0.028926   -0.028926  0.022314   \n",
       "3  20210108  16385  -0.008511  -0.008511 -0.038298   -0.038298  0.025532   \n",
       "4  20210111  16385   0.000000   0.044248  0.000000    0.030973  0.049558   \n",
       "\n",
       "   D-10_MA20  D-10_MA60  D-10_MA120  ...  D-1_VIpos  D-1_ROC  D-1_MFI  \\\n",
       "0   0.032540   0.032206    0.006611  ...    0.90698  -0.7874   46.303   \n",
       "1   0.038600   0.038600    0.014400  ...    0.91667  -4.6512   47.839   \n",
       "2   0.066736   0.070455    0.047826  ...    0.91608  -4.3651   45.077   \n",
       "3   0.091277   0.100494    0.079251  ...    0.90780  -4.4000   39.347   \n",
       "4   0.130088   0.143062    0.120274  ...    0.89051  -4.1322   39.125   \n",
       "\n",
       "   D-1_KCW  D-1_BBP  D-1_KST  D-1_DCW  D-1_SRSID  D-1_PPOhist  NextChange  \n",
       "0   6.7578  0.57316  -75.576   15.120    0.61641     0.059806       -2.38  \n",
       "1   6.6263  0.47336  -79.124   15.145    0.74380     0.259040       -2.03  \n",
       "2   6.9338  0.38046  -80.691   15.152    0.81864     0.259390       -0.83  \n",
       "3   6.9195  0.35218  -77.558   15.126    0.78711     0.212530       -2.93  \n",
       "4   7.0372  0.21853  -76.491   15.088    0.70221     0.005548       -0.43  \n",
       "\n",
       "[5 rows x 823 columns]"
      ]
     },
     "execution_count": 4,
     "metadata": {},
     "output_type": "execute_result"
    },
    {
     "data": {
      "text/html": [
       "<div>\n",
       "<style scoped>\n",
       "    .dataframe tbody tr th:only-of-type {\n",
       "        vertical-align: middle;\n",
       "    }\n",
       "\n",
       "    .dataframe tbody tr th {\n",
       "        vertical-align: top;\n",
       "    }\n",
       "\n",
       "    .dataframe thead th {\n",
       "        text-align: right;\n",
       "    }\n",
       "</style>\n",
       "<table border=\"1\" class=\"dataframe\">\n",
       "  <thead>\n",
       "    <tr style=\"text-align: right;\">\n",
       "      <th></th>\n",
       "      <th>date</th>\n",
       "      <th>code</th>\n",
       "      <th>D-10_open</th>\n",
       "      <th>D-10_high</th>\n",
       "      <th>D-10_low</th>\n",
       "      <th>D-10_close</th>\n",
       "      <th>D-10_MA5</th>\n",
       "      <th>D-10_MA20</th>\n",
       "      <th>D-10_MA60</th>\n",
       "      <th>D-10_MA120</th>\n",
       "      <th>...</th>\n",
       "      <th>D-1_VIpos</th>\n",
       "      <th>D-1_ROC</th>\n",
       "      <th>D-1_MFI</th>\n",
       "      <th>D-1_KCW</th>\n",
       "      <th>D-1_BBP</th>\n",
       "      <th>D-1_KST</th>\n",
       "      <th>D-1_DCW</th>\n",
       "      <th>D-1_SRSID</th>\n",
       "      <th>D-1_PPOhist</th>\n",
       "      <th>NextChange</th>\n",
       "    </tr>\n",
       "  </thead>\n",
       "  <tbody>\n",
       "    <tr>\n",
       "      <th>321803</th>\n",
       "      <td>20211203</td>\n",
       "      <td>16380</td>\n",
       "      <td>0.000000</td>\n",
       "      <td>0.013699</td>\n",
       "      <td>-0.018265</td>\n",
       "      <td>0.009132</td>\n",
       "      <td>0.000000</td>\n",
       "      <td>0.024201</td>\n",
       "      <td>0.188402</td>\n",
       "      <td>0.399817</td>\n",
       "      <td>...</td>\n",
       "      <td>0.84663</td>\n",
       "      <td>-0.92166</td>\n",
       "      <td>54.026</td>\n",
       "      <td>8.8876</td>\n",
       "      <td>0.49365</td>\n",
       "      <td>-106.380</td>\n",
       "      <td>20.566</td>\n",
       "      <td>0.46852</td>\n",
       "      <td>0.18908</td>\n",
       "      <td>0.47</td>\n",
       "    </tr>\n",
       "    <tr>\n",
       "      <th>321804</th>\n",
       "      <td>20211206</td>\n",
       "      <td>16380</td>\n",
       "      <td>0.009050</td>\n",
       "      <td>0.054299</td>\n",
       "      <td>-0.004525</td>\n",
       "      <td>-0.004525</td>\n",
       "      <td>-0.010860</td>\n",
       "      <td>0.011765</td>\n",
       "      <td>0.171584</td>\n",
       "      <td>0.380362</td>\n",
       "      <td>...</td>\n",
       "      <td>0.92447</td>\n",
       "      <td>0.00000</td>\n",
       "      <td>59.601</td>\n",
       "      <td>8.5227</td>\n",
       "      <td>0.53138</td>\n",
       "      <td>-103.540</td>\n",
       "      <td>20.616</td>\n",
       "      <td>0.70950</td>\n",
       "      <td>0.56929</td>\n",
       "      <td>1.39</td>\n",
       "    </tr>\n",
       "    <tr>\n",
       "      <th>321805</th>\n",
       "      <td>20211207</td>\n",
       "      <td>16380</td>\n",
       "      <td>0.004545</td>\n",
       "      <td>0.004545</td>\n",
       "      <td>-0.013636</td>\n",
       "      <td>-0.013636</td>\n",
       "      <td>-0.006364</td>\n",
       "      <td>0.012545</td>\n",
       "      <td>0.170545</td>\n",
       "      <td>0.379636</td>\n",
       "      <td>...</td>\n",
       "      <td>1.00000</td>\n",
       "      <td>0.00000</td>\n",
       "      <td>64.319</td>\n",
       "      <td>8.4022</td>\n",
       "      <td>0.63366</td>\n",
       "      <td>-100.020</td>\n",
       "      <td>14.870</td>\n",
       "      <td>0.89611</td>\n",
       "      <td>0.90618</td>\n",
       "      <td>1.37</td>\n",
       "    </tr>\n",
       "    <tr>\n",
       "      <th>321806</th>\n",
       "      <td>20211208</td>\n",
       "      <td>16380</td>\n",
       "      <td>0.004608</td>\n",
       "      <td>0.004608</td>\n",
       "      <td>-0.013825</td>\n",
       "      <td>-0.013825</td>\n",
       "      <td>0.005530</td>\n",
       "      <td>0.023041</td>\n",
       "      <td>0.180461</td>\n",
       "      <td>0.391521</td>\n",
       "      <td>...</td>\n",
       "      <td>1.04640</td>\n",
       "      <td>0.45249</td>\n",
       "      <td>68.930</td>\n",
       "      <td>8.1687</td>\n",
       "      <td>0.71497</td>\n",
       "      <td>-93.167</td>\n",
       "      <td>16.748</td>\n",
       "      <td>0.97162</td>\n",
       "      <td>1.19530</td>\n",
       "      <td>0.00</td>\n",
       "    </tr>\n",
       "    <tr>\n",
       "      <th>321807</th>\n",
       "      <td>20211209</td>\n",
       "      <td>16380</td>\n",
       "      <td>0.004673</td>\n",
       "      <td>0.009346</td>\n",
       "      <td>-0.037383</td>\n",
       "      <td>-0.032710</td>\n",
       "      <td>0.008411</td>\n",
       "      <td>0.032991</td>\n",
       "      <td>0.189720</td>\n",
       "      <td>0.404019</td>\n",
       "      <td>...</td>\n",
       "      <td>1.02320</td>\n",
       "      <td>0.90909</td>\n",
       "      <td>67.728</td>\n",
       "      <td>8.1120</td>\n",
       "      <td>0.70462</td>\n",
       "      <td>-85.850</td>\n",
       "      <td>16.684</td>\n",
       "      <td>1.00000</td>\n",
       "      <td>1.34680</td>\n",
       "      <td>0.00</td>\n",
       "    </tr>\n",
       "  </tbody>\n",
       "</table>\n",
       "<p>5 rows × 823 columns</p>\n",
       "</div>"
      ],
      "text/plain": [
       "            date   code  D-10_open  D-10_high  D-10_low  D-10_close  D-10_MA5  \\\n",
       "321803  20211203  16380   0.000000   0.013699 -0.018265    0.009132  0.000000   \n",
       "321804  20211206  16380   0.009050   0.054299 -0.004525   -0.004525 -0.010860   \n",
       "321805  20211207  16380   0.004545   0.004545 -0.013636   -0.013636 -0.006364   \n",
       "321806  20211208  16380   0.004608   0.004608 -0.013825   -0.013825  0.005530   \n",
       "321807  20211209  16380   0.004673   0.009346 -0.037383   -0.032710  0.008411   \n",
       "\n",
       "        D-10_MA20  D-10_MA60  D-10_MA120  ...  D-1_VIpos  D-1_ROC  D-1_MFI  \\\n",
       "321803   0.024201   0.188402    0.399817  ...    0.84663 -0.92166   54.026   \n",
       "321804   0.011765   0.171584    0.380362  ...    0.92447  0.00000   59.601   \n",
       "321805   0.012545   0.170545    0.379636  ...    1.00000  0.00000   64.319   \n",
       "321806   0.023041   0.180461    0.391521  ...    1.04640  0.45249   68.930   \n",
       "321807   0.032991   0.189720    0.404019  ...    1.02320  0.90909   67.728   \n",
       "\n",
       "        D-1_KCW  D-1_BBP  D-1_KST  D-1_DCW  D-1_SRSID  D-1_PPOhist  NextChange  \n",
       "321803   8.8876  0.49365 -106.380   20.566    0.46852      0.18908        0.47  \n",
       "321804   8.5227  0.53138 -103.540   20.616    0.70950      0.56929        1.39  \n",
       "321805   8.4022  0.63366 -100.020   14.870    0.89611      0.90618        1.37  \n",
       "321806   8.1687  0.71497  -93.167   16.748    0.97162      1.19530        0.00  \n",
       "321807   8.1120  0.70462  -85.850   16.684    1.00000      1.34680        0.00  \n",
       "\n",
       "[5 rows x 823 columns]"
      ]
     },
     "execution_count": 4,
     "metadata": {},
     "output_type": "execute_result"
    },
    {
     "data": {
      "text/plain": [
       "array(['date', 'code', 'D-10_open', 'D-10_high', 'D-10_low', 'D-10_close',\n",
       "       'D-10_MA5', 'D-10_MA20', 'D-10_MA60', 'D-10_MA120', 'D-10_MA240',\n",
       "       'D-10_AO', 'D-10_KAMA', 'D-10_ADI', 'D-10_FI', 'D-10_VMAP',\n",
       "       'D-10_BBH', 'D-10_BBL', 'D-10_BBM', 'D-10_DCH', 'D-10_DCL',\n",
       "       'D-10_DCM', 'D-10_KCH', 'D-10_KCL', 'D-10_KCM', 'D-10_DPO',\n",
       "       'D-10_Ichimoku_a', 'D-10_Ichimoku_b', 'D-10_ichimoku_base_line',\n",
       "       'D-10_ichimoku_conversion_line', 'D-10_MACD', 'D-10_MACDdiff',\n",
       "       'D-10_MACDsig', 'D-10_PSARdown', 'D-10_PSARup', 'D-10_CR',\n",
       "       'D-10_DLR', 'D-10_PVO', 'D-10_SRSI', 'D-10_AIdown', 'D-10_STC',\n",
       "       'D-10_RSI', 'D-10_EOMsig', 'D-10_NVI', 'D-10_ADXneg', 'D-10_WR',\n",
       "       'D-10_AIup', 'D-10_rTR', 'D-10_VIneg', 'D-10_PVOsig', 'D-10_SO',\n",
       "       'D-10_ATR', 'D-10_CMF', 'D-10_TSI', 'D-10_ADX', 'D-10_MI',\n",
       "       'D-10_SRSIK', 'D-10_EOM', 'D-10_BBW', 'D-10_UI', 'D-10_ADXpos',\n",
       "       'D-10_PPOsig', 'D-10_TRIX', 'D-10_volume', 'D-10_KSTsig',\n",
       "       'D-10_CCI', 'D-10_tradingvalue', 'D-10_OBV', 'D-10_VPT', 'D-10_UO',\n",
       "       'D-10_SOsig', 'D-10_KCP', 'D-10_DCP', 'D-10_PVOhist', 'D-10_PPO',\n",
       "       'D-10_VIpos', 'D-10_ROC', 'D-10_MFI', 'D-10_KCW', 'D-10_BBP',\n",
       "       'D-10_KST', 'D-10_DCW', 'D-10_SRSID', 'D-10_PPOhist', 'D-9_open',\n",
       "       'D-9_high', 'D-9_low', 'D-9_close', 'D-9_MA5', 'D-9_MA20',\n",
       "       'D-9_MA60', 'D-9_MA120', 'D-9_MA240', 'D-9_AO', 'D-9_KAMA',\n",
       "       'D-9_ADI', 'D-9_FI', 'D-9_VMAP', 'D-9_BBH', 'D-9_BBL', 'D-9_BBM',\n",
       "       'D-9_DCH', 'D-9_DCL', 'D-9_DCM', 'D-9_KCH', 'D-9_KCL', 'D-9_KCM',\n",
       "       'D-9_DPO', 'D-9_Ichimoku_a', 'D-9_Ichimoku_b',\n",
       "       'D-9_ichimoku_base_line', 'D-9_ichimoku_conversion_line',\n",
       "       'D-9_MACD', 'D-9_MACDdiff', 'D-9_MACDsig', 'D-9_PSARdown',\n",
       "       'D-9_PSARup', 'D-9_CR', 'D-9_DLR', 'D-9_PVO', 'D-9_SRSI',\n",
       "       'D-9_AIdown', 'D-9_STC', 'D-9_RSI', 'D-9_EOMsig', 'D-9_NVI',\n",
       "       'D-9_ADXneg', 'D-9_WR', 'D-9_AIup', 'D-9_rTR', 'D-9_VIneg',\n",
       "       'D-9_PVOsig', 'D-9_SO', 'D-9_ATR', 'D-9_CMF', 'D-9_TSI', 'D-9_ADX',\n",
       "       'D-9_MI', 'D-9_SRSIK', 'D-9_EOM', 'D-9_BBW', 'D-9_UI',\n",
       "       'D-9_ADXpos', 'D-9_PPOsig', 'D-9_TRIX', 'D-9_volume', 'D-9_KSTsig',\n",
       "       'D-9_CCI', 'D-9_tradingvalue', 'D-9_OBV', 'D-9_VPT', 'D-9_UO',\n",
       "       'D-9_SOsig', 'D-9_KCP', 'D-9_DCP', 'D-9_PVOhist', 'D-9_PPO',\n",
       "       'D-9_VIpos', 'D-9_ROC', 'D-9_MFI', 'D-9_KCW', 'D-9_BBP', 'D-9_KST',\n",
       "       'D-9_DCW', 'D-9_SRSID', 'D-9_PPOhist', 'D-8_open', 'D-8_high',\n",
       "       'D-8_low', 'D-8_close', 'D-8_MA5', 'D-8_MA20', 'D-8_MA60',\n",
       "       'D-8_MA120', 'D-8_MA240', 'D-8_AO', 'D-8_KAMA', 'D-8_ADI',\n",
       "       'D-8_FI', 'D-8_VMAP', 'D-8_BBH', 'D-8_BBL', 'D-8_BBM', 'D-8_DCH',\n",
       "       'D-8_DCL', 'D-8_DCM', 'D-8_KCH', 'D-8_KCL', 'D-8_KCM', 'D-8_DPO',\n",
       "       'D-8_Ichimoku_a', 'D-8_Ichimoku_b', 'D-8_ichimoku_base_line',\n",
       "       'D-8_ichimoku_conversion_line', 'D-8_MACD', 'D-8_MACDdiff',\n",
       "       'D-8_MACDsig', 'D-8_PSARdown', 'D-8_PSARup', 'D-8_CR', 'D-8_DLR',\n",
       "       'D-8_PVO', 'D-8_SRSI', 'D-8_AIdown', 'D-8_STC', 'D-8_RSI',\n",
       "       'D-8_EOMsig', 'D-8_NVI', 'D-8_ADXneg', 'D-8_WR', 'D-8_AIup',\n",
       "       'D-8_rTR', 'D-8_VIneg', 'D-8_PVOsig', 'D-8_SO', 'D-8_ATR',\n",
       "       'D-8_CMF', 'D-8_TSI', 'D-8_ADX', 'D-8_MI', 'D-8_SRSIK', 'D-8_EOM',\n",
       "       'D-8_BBW', 'D-8_UI', 'D-8_ADXpos', 'D-8_PPOsig', 'D-8_TRIX',\n",
       "       'D-8_volume', 'D-8_KSTsig', 'D-8_CCI', 'D-8_tradingvalue',\n",
       "       'D-8_OBV', 'D-8_VPT', 'D-8_UO', 'D-8_SOsig', 'D-8_KCP', 'D-8_DCP',\n",
       "       'D-8_PVOhist', 'D-8_PPO', 'D-8_VIpos', 'D-8_ROC', 'D-8_MFI',\n",
       "       'D-8_KCW', 'D-8_BBP', 'D-8_KST', 'D-8_DCW', 'D-8_SRSID',\n",
       "       'D-8_PPOhist', 'D-7_open', 'D-7_high', 'D-7_low', 'D-7_close',\n",
       "       'D-7_MA5', 'D-7_MA20', 'D-7_MA60', 'D-7_MA120', 'D-7_MA240',\n",
       "       'D-7_AO', 'D-7_KAMA', 'D-7_ADI', 'D-7_FI', 'D-7_VMAP', 'D-7_BBH',\n",
       "       'D-7_BBL', 'D-7_BBM', 'D-7_DCH', 'D-7_DCL', 'D-7_DCM', 'D-7_KCH',\n",
       "       'D-7_KCL', 'D-7_KCM', 'D-7_DPO', 'D-7_Ichimoku_a',\n",
       "       'D-7_Ichimoku_b', 'D-7_ichimoku_base_line',\n",
       "       'D-7_ichimoku_conversion_line', 'D-7_MACD', 'D-7_MACDdiff',\n",
       "       'D-7_MACDsig', 'D-7_PSARdown', 'D-7_PSARup', 'D-7_CR', 'D-7_DLR',\n",
       "       'D-7_PVO', 'D-7_SRSI', 'D-7_AIdown', 'D-7_STC', 'D-7_RSI',\n",
       "       'D-7_EOMsig', 'D-7_NVI', 'D-7_ADXneg', 'D-7_WR', 'D-7_AIup',\n",
       "       'D-7_rTR', 'D-7_VIneg', 'D-7_PVOsig', 'D-7_SO', 'D-7_ATR',\n",
       "       'D-7_CMF', 'D-7_TSI', 'D-7_ADX', 'D-7_MI', 'D-7_SRSIK', 'D-7_EOM',\n",
       "       'D-7_BBW', 'D-7_UI', 'D-7_ADXpos', 'D-7_PPOsig', 'D-7_TRIX',\n",
       "       'D-7_volume', 'D-7_KSTsig', 'D-7_CCI', 'D-7_tradingvalue',\n",
       "       'D-7_OBV', 'D-7_VPT', 'D-7_UO', 'D-7_SOsig', 'D-7_KCP', 'D-7_DCP',\n",
       "       'D-7_PVOhist', 'D-7_PPO', 'D-7_VIpos', 'D-7_ROC', 'D-7_MFI',\n",
       "       'D-7_KCW', 'D-7_BBP', 'D-7_KST', 'D-7_DCW', 'D-7_SRSID',\n",
       "       'D-7_PPOhist', 'D-6_open', 'D-6_high', 'D-6_low', 'D-6_close',\n",
       "       'D-6_MA5', 'D-6_MA20', 'D-6_MA60', 'D-6_MA120', 'D-6_MA240',\n",
       "       'D-6_AO', 'D-6_KAMA', 'D-6_ADI', 'D-6_FI', 'D-6_VMAP', 'D-6_BBH',\n",
       "       'D-6_BBL', 'D-6_BBM', 'D-6_DCH', 'D-6_DCL', 'D-6_DCM', 'D-6_KCH',\n",
       "       'D-6_KCL', 'D-6_KCM', 'D-6_DPO', 'D-6_Ichimoku_a',\n",
       "       'D-6_Ichimoku_b', 'D-6_ichimoku_base_line',\n",
       "       'D-6_ichimoku_conversion_line', 'D-6_MACD', 'D-6_MACDdiff',\n",
       "       'D-6_MACDsig', 'D-6_PSARdown', 'D-6_PSARup', 'D-6_CR', 'D-6_DLR',\n",
       "       'D-6_PVO', 'D-6_SRSI', 'D-6_AIdown', 'D-6_STC', 'D-6_RSI',\n",
       "       'D-6_EOMsig', 'D-6_NVI', 'D-6_ADXneg', 'D-6_WR', 'D-6_AIup',\n",
       "       'D-6_rTR', 'D-6_VIneg', 'D-6_PVOsig', 'D-6_SO', 'D-6_ATR',\n",
       "       'D-6_CMF', 'D-6_TSI', 'D-6_ADX', 'D-6_MI', 'D-6_SRSIK', 'D-6_EOM',\n",
       "       'D-6_BBW', 'D-6_UI', 'D-6_ADXpos', 'D-6_PPOsig', 'D-6_TRIX',\n",
       "       'D-6_volume', 'D-6_KSTsig', 'D-6_CCI', 'D-6_tradingvalue',\n",
       "       'D-6_OBV', 'D-6_VPT', 'D-6_UO', 'D-6_SOsig', 'D-6_KCP', 'D-6_DCP',\n",
       "       'D-6_PVOhist', 'D-6_PPO', 'D-6_VIpos', 'D-6_ROC', 'D-6_MFI',\n",
       "       'D-6_KCW', 'D-6_BBP', 'D-6_KST', 'D-6_DCW', 'D-6_SRSID',\n",
       "       'D-6_PPOhist', 'D-5_open', 'D-5_high', 'D-5_low', 'D-5_close',\n",
       "       'D-5_MA5', 'D-5_MA20', 'D-5_MA60', 'D-5_MA120', 'D-5_MA240',\n",
       "       'D-5_AO', 'D-5_KAMA', 'D-5_ADI', 'D-5_FI', 'D-5_VMAP', 'D-5_BBH',\n",
       "       'D-5_BBL', 'D-5_BBM', 'D-5_DCH', 'D-5_DCL', 'D-5_DCM', 'D-5_KCH',\n",
       "       'D-5_KCL', 'D-5_KCM', 'D-5_DPO', 'D-5_Ichimoku_a',\n",
       "       'D-5_Ichimoku_b', 'D-5_ichimoku_base_line',\n",
       "       'D-5_ichimoku_conversion_line', 'D-5_MACD', 'D-5_MACDdiff',\n",
       "       'D-5_MACDsig', 'D-5_PSARdown', 'D-5_PSARup', 'D-5_CR', 'D-5_DLR',\n",
       "       'D-5_PVO', 'D-5_SRSI', 'D-5_AIdown', 'D-5_STC', 'D-5_RSI',\n",
       "       'D-5_EOMsig', 'D-5_NVI', 'D-5_ADXneg', 'D-5_WR', 'D-5_AIup',\n",
       "       'D-5_rTR', 'D-5_VIneg', 'D-5_PVOsig', 'D-5_SO', 'D-5_ATR',\n",
       "       'D-5_CMF', 'D-5_TSI', 'D-5_ADX', 'D-5_MI', 'D-5_SRSIK', 'D-5_EOM',\n",
       "       'D-5_BBW', 'D-5_UI', 'D-5_ADXpos', 'D-5_PPOsig', 'D-5_TRIX',\n",
       "       'D-5_volume', 'D-5_KSTsig', 'D-5_CCI', 'D-5_tradingvalue',\n",
       "       'D-5_OBV', 'D-5_VPT', 'D-5_UO', 'D-5_SOsig', 'D-5_KCP', 'D-5_DCP',\n",
       "       'D-5_PVOhist', 'D-5_PPO', 'D-5_VIpos', 'D-5_ROC', 'D-5_MFI',\n",
       "       'D-5_KCW', 'D-5_BBP', 'D-5_KST', 'D-5_DCW', 'D-5_SRSID',\n",
       "       'D-5_PPOhist', 'D-4_open', 'D-4_high', 'D-4_low', 'D-4_close',\n",
       "       'D-4_MA5', 'D-4_MA20', 'D-4_MA60', 'D-4_MA120', 'D-4_MA240',\n",
       "       'D-4_AO', 'D-4_KAMA', 'D-4_ADI', 'D-4_FI', 'D-4_VMAP', 'D-4_BBH',\n",
       "       'D-4_BBL', 'D-4_BBM', 'D-4_DCH', 'D-4_DCL', 'D-4_DCM', 'D-4_KCH',\n",
       "       'D-4_KCL', 'D-4_KCM', 'D-4_DPO', 'D-4_Ichimoku_a',\n",
       "       'D-4_Ichimoku_b', 'D-4_ichimoku_base_line',\n",
       "       'D-4_ichimoku_conversion_line', 'D-4_MACD', 'D-4_MACDdiff',\n",
       "       'D-4_MACDsig', 'D-4_PSARdown', 'D-4_PSARup', 'D-4_CR', 'D-4_DLR',\n",
       "       'D-4_PVO', 'D-4_SRSI', 'D-4_AIdown', 'D-4_STC', 'D-4_RSI',\n",
       "       'D-4_EOMsig', 'D-4_NVI', 'D-4_ADXneg', 'D-4_WR', 'D-4_AIup',\n",
       "       'D-4_rTR', 'D-4_VIneg', 'D-4_PVOsig', 'D-4_SO', 'D-4_ATR',\n",
       "       'D-4_CMF', 'D-4_TSI', 'D-4_ADX', 'D-4_MI', 'D-4_SRSIK', 'D-4_EOM',\n",
       "       'D-4_BBW', 'D-4_UI', 'D-4_ADXpos', 'D-4_PPOsig', 'D-4_TRIX',\n",
       "       'D-4_volume', 'D-4_KSTsig', 'D-4_CCI', 'D-4_tradingvalue',\n",
       "       'D-4_OBV', 'D-4_VPT', 'D-4_UO', 'D-4_SOsig', 'D-4_KCP', 'D-4_DCP',\n",
       "       'D-4_PVOhist', 'D-4_PPO', 'D-4_VIpos', 'D-4_ROC', 'D-4_MFI',\n",
       "       'D-4_KCW', 'D-4_BBP', 'D-4_KST', 'D-4_DCW', 'D-4_SRSID',\n",
       "       'D-4_PPOhist', 'D-3_open', 'D-3_high', 'D-3_low', 'D-3_close',\n",
       "       'D-3_MA5', 'D-3_MA20', 'D-3_MA60', 'D-3_MA120', 'D-3_MA240',\n",
       "       'D-3_AO', 'D-3_KAMA', 'D-3_ADI', 'D-3_FI', 'D-3_VMAP', 'D-3_BBH',\n",
       "       'D-3_BBL', 'D-3_BBM', 'D-3_DCH', 'D-3_DCL', 'D-3_DCM', 'D-3_KCH',\n",
       "       'D-3_KCL', 'D-3_KCM', 'D-3_DPO', 'D-3_Ichimoku_a',\n",
       "       'D-3_Ichimoku_b', 'D-3_ichimoku_base_line',\n",
       "       'D-3_ichimoku_conversion_line', 'D-3_MACD', 'D-3_MACDdiff',\n",
       "       'D-3_MACDsig', 'D-3_PSARdown', 'D-3_PSARup', 'D-3_CR', 'D-3_DLR',\n",
       "       'D-3_PVO', 'D-3_SRSI', 'D-3_AIdown', 'D-3_STC', 'D-3_RSI',\n",
       "       'D-3_EOMsig', 'D-3_NVI', 'D-3_ADXneg', 'D-3_WR', 'D-3_AIup',\n",
       "       'D-3_rTR', 'D-3_VIneg', 'D-3_PVOsig', 'D-3_SO', 'D-3_ATR',\n",
       "       'D-3_CMF', 'D-3_TSI', 'D-3_ADX', 'D-3_MI', 'D-3_SRSIK', 'D-3_EOM',\n",
       "       'D-3_BBW', 'D-3_UI', 'D-3_ADXpos', 'D-3_PPOsig', 'D-3_TRIX',\n",
       "       'D-3_volume', 'D-3_KSTsig', 'D-3_CCI', 'D-3_tradingvalue',\n",
       "       'D-3_OBV', 'D-3_VPT', 'D-3_UO', 'D-3_SOsig', 'D-3_KCP', 'D-3_DCP',\n",
       "       'D-3_PVOhist', 'D-3_PPO', 'D-3_VIpos', 'D-3_ROC', 'D-3_MFI',\n",
       "       'D-3_KCW', 'D-3_BBP', 'D-3_KST', 'D-3_DCW', 'D-3_SRSID',\n",
       "       'D-3_PPOhist', 'D-2_open', 'D-2_high', 'D-2_low', 'D-2_close',\n",
       "       'D-2_MA5', 'D-2_MA20', 'D-2_MA60', 'D-2_MA120', 'D-2_MA240',\n",
       "       'D-2_AO', 'D-2_KAMA', 'D-2_ADI', 'D-2_FI', 'D-2_VMAP', 'D-2_BBH',\n",
       "       'D-2_BBL', 'D-2_BBM', 'D-2_DCH', 'D-2_DCL', 'D-2_DCM', 'D-2_KCH',\n",
       "       'D-2_KCL', 'D-2_KCM', 'D-2_DPO', 'D-2_Ichimoku_a',\n",
       "       'D-2_Ichimoku_b', 'D-2_ichimoku_base_line',\n",
       "       'D-2_ichimoku_conversion_line', 'D-2_MACD', 'D-2_MACDdiff',\n",
       "       'D-2_MACDsig', 'D-2_PSARdown', 'D-2_PSARup', 'D-2_CR', 'D-2_DLR',\n",
       "       'D-2_PVO', 'D-2_SRSI', 'D-2_AIdown', 'D-2_STC', 'D-2_RSI',\n",
       "       'D-2_EOMsig', 'D-2_NVI', 'D-2_ADXneg', 'D-2_WR', 'D-2_AIup',\n",
       "       'D-2_rTR', 'D-2_VIneg', 'D-2_PVOsig', 'D-2_SO', 'D-2_ATR',\n",
       "       'D-2_CMF', 'D-2_TSI', 'D-2_ADX', 'D-2_MI', 'D-2_SRSIK', 'D-2_EOM',\n",
       "       'D-2_BBW', 'D-2_UI', 'D-2_ADXpos', 'D-2_PPOsig', 'D-2_TRIX',\n",
       "       'D-2_volume', 'D-2_KSTsig', 'D-2_CCI', 'D-2_tradingvalue',\n",
       "       'D-2_OBV', 'D-2_VPT', 'D-2_UO', 'D-2_SOsig', 'D-2_KCP', 'D-2_DCP',\n",
       "       'D-2_PVOhist', 'D-2_PPO', 'D-2_VIpos', 'D-2_ROC', 'D-2_MFI',\n",
       "       'D-2_KCW', 'D-2_BBP', 'D-2_KST', 'D-2_DCW', 'D-2_SRSID',\n",
       "       'D-2_PPOhist', 'D-1_open', 'D-1_high', 'D-1_low', 'D-1_close',\n",
       "       'D-1_MA5', 'D-1_MA20', 'D-1_MA60', 'D-1_MA120', 'D-1_MA240',\n",
       "       'D-1_AO', 'D-1_KAMA', 'D-1_ADI', 'D-1_FI', 'D-1_VMAP', 'D-1_BBH',\n",
       "       'D-1_BBL', 'D-1_BBM', 'D-1_DCH', 'D-1_DCL', 'D-1_DCM', 'D-1_KCH',\n",
       "       'D-1_KCL', 'D-1_KCM', 'D-1_DPO', 'D-1_Ichimoku_a',\n",
       "       'D-1_Ichimoku_b', 'D-1_ichimoku_base_line',\n",
       "       'D-1_ichimoku_conversion_line', 'D-1_MACD', 'D-1_MACDdiff',\n",
       "       'D-1_MACDsig', 'D-1_PSARdown', 'D-1_PSARup', 'D-1_CR', 'D-1_DLR',\n",
       "       'D-1_PVO', 'D-1_SRSI', 'D-1_AIdown', 'D-1_STC', 'D-1_RSI',\n",
       "       'D-1_EOMsig', 'D-1_NVI', 'D-1_ADXneg', 'D-1_WR', 'D-1_AIup',\n",
       "       'D-1_rTR', 'D-1_VIneg', 'D-1_PVOsig', 'D-1_SO', 'D-1_ATR',\n",
       "       'D-1_CMF', 'D-1_TSI', 'D-1_ADX', 'D-1_MI', 'D-1_SRSIK', 'D-1_EOM',\n",
       "       'D-1_BBW', 'D-1_UI', 'D-1_ADXpos', 'D-1_PPOsig', 'D-1_TRIX',\n",
       "       'D-1_volume', 'D-1_KSTsig', 'D-1_CCI', 'D-1_tradingvalue',\n",
       "       'D-1_OBV', 'D-1_VPT', 'D-1_UO', 'D-1_SOsig', 'D-1_KCP', 'D-1_DCP',\n",
       "       'D-1_PVOhist', 'D-1_PPO', 'D-1_VIpos', 'D-1_ROC', 'D-1_MFI',\n",
       "       'D-1_KCW', 'D-1_BBP', 'D-1_KST', 'D-1_DCW', 'D-1_SRSID',\n",
       "       'D-1_PPOhist', 'NextChange'], dtype=object)"
      ]
     },
     "execution_count": 4,
     "metadata": {},
     "output_type": "execute_result"
    }
   ],
   "source": [
    "d2021.shape # (321808, 823)\n",
    "d2021.info() # float64(821), int64(1), object(1)\n",
    "# d2021.describe()\n",
    "d2021.head() # 20210105\n",
    "d2021.tail() # 20211209\n",
    "d2021.columns.values # 식별변수: date, code, 설명변수(feature): D-10 ~ D-1, 목적변수: 'NextChange'\n"
   ]
  },
  {
   "cell_type": "code",
   "execution_count": 6,
   "id": "a217b0f3",
   "metadata": {},
   "outputs": [
    {
     "data": {
      "text/plain": [
       "(284412, 823)"
      ]
     },
     "execution_count": 6,
     "metadata": {},
     "output_type": "execute_result"
    }
   ],
   "source": [
    "d2012.shape"
   ]
  },
  {
   "cell_type": "code",
   "execution_count": 5,
   "id": "8a869cdc",
   "metadata": {},
   "outputs": [
    {
     "data": {
      "text/plain": [
       "(284412, 823)"
      ]
     },
     "execution_count": 5,
     "metadata": {},
     "output_type": "execute_result"
    }
   ],
   "source": [
    "(np.array(d2012)).shape"
   ]
  },
  {
   "cell_type": "code",
   "execution_count": 181,
   "id": "c0a3d7cb",
   "metadata": {},
   "outputs": [
    {
     "data": {
      "text/html": [
       "<div>\n",
       "<style scoped>\n",
       "    .dataframe tbody tr th:only-of-type {\n",
       "        vertical-align: middle;\n",
       "    }\n",
       "\n",
       "    .dataframe tbody tr th {\n",
       "        vertical-align: top;\n",
       "    }\n",
       "\n",
       "    .dataframe thead th {\n",
       "        text-align: right;\n",
       "    }\n",
       "</style>\n",
       "<table border=\"1\" class=\"dataframe\">\n",
       "  <thead>\n",
       "    <tr style=\"text-align: right;\">\n",
       "      <th></th>\n",
       "      <th>date</th>\n",
       "      <th>D-10_open</th>\n",
       "      <th>D-10_high</th>\n",
       "      <th>D-10_low</th>\n",
       "      <th>D-10_close</th>\n",
       "      <th>D-10_MA5</th>\n",
       "      <th>D-10_MA20</th>\n",
       "      <th>D-10_MA60</th>\n",
       "      <th>D-10_MA120</th>\n",
       "      <th>D-10_MA240</th>\n",
       "      <th>...</th>\n",
       "      <th>D-1_VIpos</th>\n",
       "      <th>D-1_ROC</th>\n",
       "      <th>D-1_MFI</th>\n",
       "      <th>D-1_KCW</th>\n",
       "      <th>D-1_BBP</th>\n",
       "      <th>D-1_KST</th>\n",
       "      <th>D-1_DCW</th>\n",
       "      <th>D-1_SRSID</th>\n",
       "      <th>D-1_PPOhist</th>\n",
       "      <th>NextChange</th>\n",
       "    </tr>\n",
       "  </thead>\n",
       "  <tbody>\n",
       "    <tr>\n",
       "      <th>count</th>\n",
       "      <td>3.143610e+05</td>\n",
       "      <td>314361.000000</td>\n",
       "      <td>314361.000000</td>\n",
       "      <td>314361.000000</td>\n",
       "      <td>314361.000000</td>\n",
       "      <td>314361.000000</td>\n",
       "      <td>314361.000000</td>\n",
       "      <td>314361.000000</td>\n",
       "      <td>314361.000000</td>\n",
       "      <td>314361.000000</td>\n",
       "      <td>...</td>\n",
       "      <td>314361.000000</td>\n",
       "      <td>314361.000000</td>\n",
       "      <td>314361.000000</td>\n",
       "      <td>314361.000000</td>\n",
       "      <td>314361.000000</td>\n",
       "      <td>314361.000000</td>\n",
       "      <td>314361.000000</td>\n",
       "      <td>314361.000000</td>\n",
       "      <td>314361.000000</td>\n",
       "      <td>314361.000000</td>\n",
       "    </tr>\n",
       "    <tr>\n",
       "      <th>mean</th>\n",
       "      <td>2.015068e+07</td>\n",
       "      <td>0.002667</td>\n",
       "      <td>0.031839</td>\n",
       "      <td>-0.025061</td>\n",
       "      <td>0.002356</td>\n",
       "      <td>-0.000125</td>\n",
       "      <td>-0.005166</td>\n",
       "      <td>-0.020175</td>\n",
       "      <td>-0.038200</td>\n",
       "      <td>-0.069385</td>\n",
       "      <td>...</td>\n",
       "      <td>0.991505</td>\n",
       "      <td>3.085585</td>\n",
       "      <td>55.975656</td>\n",
       "      <td>11.500938</td>\n",
       "      <td>0.541317</td>\n",
       "      <td>54.597840</td>\n",
       "      <td>20.674738</td>\n",
       "      <td>0.485744</td>\n",
       "      <td>0.015459</td>\n",
       "      <td>0.176403</td>\n",
       "    </tr>\n",
       "    <tr>\n",
       "      <th>std</th>\n",
       "      <td>3.293646e+02</td>\n",
       "      <td>0.020612</td>\n",
       "      <td>0.041814</td>\n",
       "      <td>0.028807</td>\n",
       "      <td>0.042057</td>\n",
       "      <td>0.031586</td>\n",
       "      <td>0.089839</td>\n",
       "      <td>0.157525</td>\n",
       "      <td>0.211013</td>\n",
       "      <td>0.299976</td>\n",
       "      <td>...</td>\n",
       "      <td>0.145548</td>\n",
       "      <td>17.683378</td>\n",
       "      <td>19.556164</td>\n",
       "      <td>4.849744</td>\n",
       "      <td>0.349341</td>\n",
       "      <td>212.717351</td>\n",
       "      <td>13.078155</td>\n",
       "      <td>0.313499</td>\n",
       "      <td>1.444424</td>\n",
       "      <td>4.529870</td>\n",
       "    </tr>\n",
       "    <tr>\n",
       "      <th>min</th>\n",
       "      <td>2.015010e+07</td>\n",
       "      <td>-0.300000</td>\n",
       "      <td>-0.299127</td>\n",
       "      <td>-0.300149</td>\n",
       "      <td>-0.300031</td>\n",
       "      <td>-0.296398</td>\n",
       "      <td>-0.701484</td>\n",
       "      <td>-0.830216</td>\n",
       "      <td>-0.882986</td>\n",
       "      <td>-0.912179</td>\n",
       "      <td>...</td>\n",
       "      <td>0.398770</td>\n",
       "      <td>-87.079000</td>\n",
       "      <td>0.000000</td>\n",
       "      <td>1.173400</td>\n",
       "      <td>-0.576340</td>\n",
       "      <td>-806.470000</td>\n",
       "      <td>4.923000</td>\n",
       "      <td>0.000000</td>\n",
       "      <td>-14.481000</td>\n",
       "      <td>-88.660000</td>\n",
       "    </tr>\n",
       "    <tr>\n",
       "      <th>25%</th>\n",
       "      <td>2.015042e+07</td>\n",
       "      <td>-0.004525</td>\n",
       "      <td>0.008712</td>\n",
       "      <td>-0.035787</td>\n",
       "      <td>-0.017646</td>\n",
       "      <td>-0.013830</td>\n",
       "      <td>-0.047986</td>\n",
       "      <td>-0.104590</td>\n",
       "      <td>-0.158722</td>\n",
       "      <td>-0.230621</td>\n",
       "      <td>...</td>\n",
       "      <td>0.891170</td>\n",
       "      <td>-6.219300</td>\n",
       "      <td>41.752000</td>\n",
       "      <td>8.210000</td>\n",
       "      <td>0.264790</td>\n",
       "      <td>-53.038000</td>\n",
       "      <td>12.645000</td>\n",
       "      <td>0.190360</td>\n",
       "      <td>-0.769870</td>\n",
       "      <td>-1.850000</td>\n",
       "    </tr>\n",
       "    <tr>\n",
       "      <th>50%</th>\n",
       "      <td>2.015071e+07</td>\n",
       "      <td>0.000000</td>\n",
       "      <td>0.019830</td>\n",
       "      <td>-0.019841</td>\n",
       "      <td>0.000000</td>\n",
       "      <td>0.000441</td>\n",
       "      <td>-0.002902</td>\n",
       "      <td>-0.022022</td>\n",
       "      <td>-0.043762</td>\n",
       "      <td>-0.085761</td>\n",
       "      <td>...</td>\n",
       "      <td>0.996540</td>\n",
       "      <td>1.051200</td>\n",
       "      <td>57.661000</td>\n",
       "      <td>10.394000</td>\n",
       "      <td>0.546020</td>\n",
       "      <td>24.531000</td>\n",
       "      <td>17.178000</td>\n",
       "      <td>0.479080</td>\n",
       "      <td>0.001010</td>\n",
       "      <td>0.000000</td>\n",
       "    </tr>\n",
       "    <tr>\n",
       "      <th>75%</th>\n",
       "      <td>2.015092e+07</td>\n",
       "      <td>0.009174</td>\n",
       "      <td>0.039956</td>\n",
       "      <td>-0.008573</td>\n",
       "      <td>0.017097</td>\n",
       "      <td>0.014628</td>\n",
       "      <td>0.040313</td>\n",
       "      <td>0.063862</td>\n",
       "      <td>0.073451</td>\n",
       "      <td>0.055683</td>\n",
       "      <td>...</td>\n",
       "      <td>1.093900</td>\n",
       "      <td>9.090900</td>\n",
       "      <td>71.142000</td>\n",
       "      <td>13.536000</td>\n",
       "      <td>0.805900</td>\n",
       "      <td>114.120000</td>\n",
       "      <td>24.542000</td>\n",
       "      <td>0.776430</td>\n",
       "      <td>0.750990</td>\n",
       "      <td>1.700000</td>\n",
       "    </tr>\n",
       "    <tr>\n",
       "      <th>max</th>\n",
       "      <td>2.015123e+07</td>\n",
       "      <td>0.740000</td>\n",
       "      <td>0.301189</td>\n",
       "      <td>0.300385</td>\n",
       "      <td>0.301003</td>\n",
       "      <td>0.523684</td>\n",
       "      <td>3.255701</td>\n",
       "      <td>5.807724</td>\n",
       "      <td>5.318409</td>\n",
       "      <td>9.085211</td>\n",
       "      <td>...</td>\n",
       "      <td>1.561600</td>\n",
       "      <td>996.810000</td>\n",
       "      <td>100.000000</td>\n",
       "      <td>143.190000</td>\n",
       "      <td>1.588300</td>\n",
       "      <td>7511.900000</td>\n",
       "      <td>832.520000</td>\n",
       "      <td>1.000000</td>\n",
       "      <td>32.509000</td>\n",
       "      <td>631.430000</td>\n",
       "    </tr>\n",
       "  </tbody>\n",
       "</table>\n",
       "<p>8 rows × 822 columns</p>\n",
       "</div>"
      ],
      "text/plain": [
       "               date      D-10_open      D-10_high       D-10_low  \\\n",
       "count  3.143610e+05  314361.000000  314361.000000  314361.000000   \n",
       "mean   2.015068e+07       0.002667       0.031839      -0.025061   \n",
       "std    3.293646e+02       0.020612       0.041814       0.028807   \n",
       "min    2.015010e+07      -0.300000      -0.299127      -0.300149   \n",
       "25%    2.015042e+07      -0.004525       0.008712      -0.035787   \n",
       "50%    2.015071e+07       0.000000       0.019830      -0.019841   \n",
       "75%    2.015092e+07       0.009174       0.039956      -0.008573   \n",
       "max    2.015123e+07       0.740000       0.301189       0.300385   \n",
       "\n",
       "          D-10_close       D-10_MA5      D-10_MA20      D-10_MA60  \\\n",
       "count  314361.000000  314361.000000  314361.000000  314361.000000   \n",
       "mean        0.002356      -0.000125      -0.005166      -0.020175   \n",
       "std         0.042057       0.031586       0.089839       0.157525   \n",
       "min        -0.300031      -0.296398      -0.701484      -0.830216   \n",
       "25%        -0.017646      -0.013830      -0.047986      -0.104590   \n",
       "50%         0.000000       0.000441      -0.002902      -0.022022   \n",
       "75%         0.017097       0.014628       0.040313       0.063862   \n",
       "max         0.301003       0.523684       3.255701       5.807724   \n",
       "\n",
       "          D-10_MA120     D-10_MA240  ...      D-1_VIpos        D-1_ROC  \\\n",
       "count  314361.000000  314361.000000  ...  314361.000000  314361.000000   \n",
       "mean       -0.038200      -0.069385  ...       0.991505       3.085585   \n",
       "std         0.211013       0.299976  ...       0.145548      17.683378   \n",
       "min        -0.882986      -0.912179  ...       0.398770     -87.079000   \n",
       "25%        -0.158722      -0.230621  ...       0.891170      -6.219300   \n",
       "50%        -0.043762      -0.085761  ...       0.996540       1.051200   \n",
       "75%         0.073451       0.055683  ...       1.093900       9.090900   \n",
       "max         5.318409       9.085211  ...       1.561600     996.810000   \n",
       "\n",
       "             D-1_MFI        D-1_KCW        D-1_BBP        D-1_KST  \\\n",
       "count  314361.000000  314361.000000  314361.000000  314361.000000   \n",
       "mean       55.975656      11.500938       0.541317      54.597840   \n",
       "std        19.556164       4.849744       0.349341     212.717351   \n",
       "min         0.000000       1.173400      -0.576340    -806.470000   \n",
       "25%        41.752000       8.210000       0.264790     -53.038000   \n",
       "50%        57.661000      10.394000       0.546020      24.531000   \n",
       "75%        71.142000      13.536000       0.805900     114.120000   \n",
       "max       100.000000     143.190000       1.588300    7511.900000   \n",
       "\n",
       "             D-1_DCW      D-1_SRSID    D-1_PPOhist     NextChange  \n",
       "count  314361.000000  314361.000000  314361.000000  314361.000000  \n",
       "mean       20.674738       0.485744       0.015459       0.176403  \n",
       "std        13.078155       0.313499       1.444424       4.529870  \n",
       "min         4.923000       0.000000     -14.481000     -88.660000  \n",
       "25%        12.645000       0.190360      -0.769870      -1.850000  \n",
       "50%        17.178000       0.479080       0.001010       0.000000  \n",
       "75%        24.542000       0.776430       0.750990       1.700000  \n",
       "max       832.520000       1.000000      32.509000     631.430000  \n",
       "\n",
       "[8 rows x 822 columns]"
      ]
     },
     "execution_count": 181,
     "metadata": {},
     "output_type": "execute_result"
    }
   ],
   "source": [
    "d2015.describe()"
   ]
  },
  {
   "cell_type": "markdown",
   "id": "c7cadfa8",
   "metadata": {},
   "source": [
    "# arr test"
   ]
  },
  {
   "cell_type": "code",
   "execution_count": 63,
   "id": "485d5421",
   "metadata": {},
   "outputs": [
    {
     "data": {
      "text/plain": [
       "array([[1, 2],\n",
       "       [3, 4],\n",
       "       [5, 6]])"
      ]
     },
     "execution_count": 63,
     "metadata": {},
     "output_type": "execute_result"
    },
    {
     "data": {
      "text/plain": [
       "(3, 2)"
      ]
     },
     "execution_count": 63,
     "metadata": {},
     "output_type": "execute_result"
    },
    {
     "data": {
      "text/plain": [
       "array([[ 1,  2],\n",
       "       [ 3,  4],\n",
       "       [ 5,  6],\n",
       "       [ 7,  8],\n",
       "       [ 9, 10]])"
      ]
     },
     "execution_count": 63,
     "metadata": {},
     "output_type": "execute_result"
    },
    {
     "data": {
      "text/plain": [
       "array([[1, 2, 3],\n",
       "       [4, 5, 6]])"
      ]
     },
     "execution_count": 63,
     "metadata": {},
     "output_type": "execute_result"
    },
    {
     "data": {
      "text/plain": [
       "array([[ 1,  2,  3,  7,  8],\n",
       "       [ 4,  5,  6,  9, 10]])"
      ]
     },
     "execution_count": 63,
     "metadata": {},
     "output_type": "execute_result"
    },
    {
     "data": {
      "text/plain": [
       "array([1, 2])"
      ]
     },
     "execution_count": 63,
     "metadata": {},
     "output_type": "execute_result"
    },
    {
     "data": {
      "text/plain": [
       "1"
      ]
     },
     "execution_count": 63,
     "metadata": {},
     "output_type": "execute_result"
    },
    {
     "data": {
      "text/plain": [
       "array([2, 4, 6])"
      ]
     },
     "execution_count": 63,
     "metadata": {},
     "output_type": "execute_result"
    }
   ],
   "source": [
    "tmp1 = np.array([[1,2],[3,4], [5,6]])\n",
    "tmp1\n",
    "tmp1.shape # 2차원; 3행, 2열\n",
    "tmp2 = np.array([[7,8], [9,10]])\n",
    "np.concatenate([tmp1,tmp2]) # 열 수가 같을 경우 아래로 이음\n",
    "tmp1.reshape(2,-1)\n",
    "np.concatenate([tmp1.reshape(2,-1),tmp2], axis = 1) # 행 수만 같으면 옆으로 이음\n",
    "tmp1[0] # 0행\n",
    "tmp1[0][0] # 0행, 0열\n",
    "tmp1[:,-1] # 모든 행, 1열"
   ]
  },
  {
   "cell_type": "code",
   "execution_count": 75,
   "id": "1124bd98",
   "metadata": {},
   "outputs": [
    {
     "data": {
      "text/plain": [
       "(1, 3, 2)"
      ]
     },
     "execution_count": 75,
     "metadata": {},
     "output_type": "execute_result"
    },
    {
     "data": {
      "text/plain": [
       "array([[[1, 2],\n",
       "        [3, 4],\n",
       "        [5, 6]]])"
      ]
     },
     "execution_count": 75,
     "metadata": {},
     "output_type": "execute_result"
    },
    {
     "data": {
      "text/plain": [
       "array([[1, 2],\n",
       "       [3, 4],\n",
       "       [5, 6]])"
      ]
     },
     "execution_count": 75,
     "metadata": {},
     "output_type": "execute_result"
    },
    {
     "data": {
      "text/plain": [
       "(3, 2, 2)"
      ]
     },
     "execution_count": 75,
     "metadata": {},
     "output_type": "execute_result"
    },
    {
     "data": {
      "text/plain": [
       "array([[[ 1,  2],\n",
       "        [ 3,  4]],\n",
       "\n",
       "       [[ 5,  6],\n",
       "        [ 7,  8]],\n",
       "\n",
       "       [[ 9, 10],\n",
       "        [11, 12]]])"
      ]
     },
     "execution_count": 75,
     "metadata": {},
     "output_type": "execute_result"
    },
    {
     "data": {
      "text/plain": [
       "array([[[ 1],\n",
       "        [ 3]],\n",
       "\n",
       "       [[ 5],\n",
       "        [ 7]],\n",
       "\n",
       "       [[ 9],\n",
       "        [11]]])"
      ]
     },
     "execution_count": 75,
     "metadata": {},
     "output_type": "execute_result"
    }
   ],
   "source": [
    "tmp3 = np.array([[[1,2], [3,4], [5,6]]])\n",
    "tmp3.shape # 3차원; depth: 1, row 3, col 2\n",
    "tmp3\n",
    "tmp3[0] # 0번째 dep\n",
    "tmp4 = np.array([ [[1,2], [3,4]], [[5,6],[7,8]], [[9,10],[11,12]] ])\n",
    "tmp4.shape # 3차원; depth: 3, row 2, col 2\n",
    "tmp4\n",
    "# tmp4[0] # 0번째 depth.\n",
    "        # array([[1, 2],\n",
    "        #       [3, 4]])\n",
    "        \n",
    "# tmp4[0][0] # 0번째 dep의 0번째 row. array([1, 2])\n",
    "\n",
    "# tmp4[:,:,0] # 0번째 열들만, depth가 3개라 0번째 열들이 3개로 나눠져서 나옴.\n",
    "            # array([[ 1,  3],\n",
    "            #       [ 5,  7],\n",
    "            #       [ 9, 11]])\n",
    "\n",
    "# tmp3[:,:,0] # depth가 1개라 0번째 열들이 안나눠져서 나옴. array([[1, 3, 5]])\n",
    "\n",
    "# tmp4[0][:,0] # 0번째 depth의 모든 행에 대한 0번째 열. array([1, 3])\n",
    "\n",
    "# tmp4[:,0,:] # 0번째 행들만, depth가 3개라 0번째 행들이 3개로 나눠져서 나옴.\n",
    "            # array([[ 1,  2],\n",
    "            #       [ 5,  6],\n",
    "            #       [ 9, 10]])\n",
    "tmp4[:,:,:-1] # 모든 깊이, 모든 행에 대해 마지막 열의 직전까지"
   ]
  },
  {
   "cell_type": "code",
   "execution_count": 86,
   "id": "9e8dbf7b",
   "metadata": {},
   "outputs": [
    {
     "data": {
      "text/plain": [
       "array([[[1, 2, 3]],\n",
       "\n",
       "       [[4, 5, 6]],\n",
       "\n",
       "       [[7, 8, 9]]])"
      ]
     },
     "execution_count": 86,
     "metadata": {},
     "output_type": "execute_result"
    },
    {
     "data": {
      "text/plain": [
       "array([list([[1, 2, 3], [4, 5, 6]]), list([[4, 5, 6]]), list([[7, 8, 9]])],\n",
       "      dtype=object)"
      ]
     },
     "execution_count": 86,
     "metadata": {},
     "output_type": "execute_result"
    },
    {
     "data": {
      "text/plain": [
       "array([[[ 1,  2,  3],\n",
       "        [ 4,  5,  6],\n",
       "        [ 7,  8,  9]],\n",
       "\n",
       "       [[10, 11, 12],\n",
       "        [13, 14, 15],\n",
       "        [16, 17, 18]],\n",
       "\n",
       "       [[19, 20, 21],\n",
       "        [22, 23, 24],\n",
       "        [25, 26, 27]]])"
      ]
     },
     "execution_count": 86,
     "metadata": {},
     "output_type": "execute_result"
    },
    {
     "data": {
      "text/plain": [
       "array([[[19, 20, 21],\n",
       "        [22, 23, 24],\n",
       "        [25, 26, 27]],\n",
       "\n",
       "       [[10, 11, 12],\n",
       "        [13, 14, 15],\n",
       "        [16, 17, 18]],\n",
       "\n",
       "       [[ 1,  2,  3],\n",
       "        [ 4,  5,  6],\n",
       "        [ 7,  8,  9]]])"
      ]
     },
     "execution_count": 86,
     "metadata": {},
     "output_type": "execute_result"
    },
    {
     "data": {
      "text/plain": [
       "array([[[ 1,  2],\n",
       "        [ 4,  5],\n",
       "        [ 7,  8]],\n",
       "\n",
       "       [[10, 11],\n",
       "        [13, 14],\n",
       "        [16, 17]],\n",
       "\n",
       "       [[19, 20],\n",
       "        [22, 23],\n",
       "        [25, 26]]])"
      ]
     },
     "execution_count": 86,
     "metadata": {},
     "output_type": "execute_result"
    },
    {
     "data": {
      "text/plain": [
       "array([[[ 1,  2,  3],\n",
       "        [ 4,  5,  6]],\n",
       "\n",
       "       [[10, 11, 12],\n",
       "        [13, 14, 15]],\n",
       "\n",
       "       [[19, 20, 21],\n",
       "        [22, 23, 24]]])"
      ]
     },
     "execution_count": 86,
     "metadata": {},
     "output_type": "execute_result"
    },
    {
     "data": {
      "text/plain": [
       "array([[[ 1,  2,  3],\n",
       "        [ 4,  5,  6],\n",
       "        [ 7,  8,  9]],\n",
       "\n",
       "       [[10, 11, 12],\n",
       "        [13, 14, 15],\n",
       "        [16, 17, 18]]])"
      ]
     },
     "execution_count": 86,
     "metadata": {},
     "output_type": "execute_result"
    },
    {
     "data": {
      "text/plain": [
       "array([[[ 1,  2],\n",
       "        [ 4,  5]],\n",
       "\n",
       "       [[10, 11],\n",
       "        [13, 14]],\n",
       "\n",
       "       [[19, 20],\n",
       "        [22, 23]]])"
      ]
     },
     "execution_count": 86,
     "metadata": {},
     "output_type": "execute_result"
    }
   ],
   "source": [
    "tmp5 = np.array([[[1,2,3]],[[4,5,6]],[[7,8,9]]])\n",
    "tmp5\n",
    "\n",
    "tmp6 = np.array([[[1,2,3],[4,5,6]],[[4,5,6]],[[7,8,9]]])\n",
    "tmp6\n",
    "\n",
    "tmp7 = np.array([[[1,2,3], [4,5,6], [7,8,9]],\n",
    "                 [[10,11,12], [13,14,15], [16,17,18]],\n",
    "                 [[19,20,21], [22,23,24], [25,26,27]]])\n",
    "tmp7\n",
    "\n",
    "tmp7[::-1] # 깊이 단위로 거꾸로 reverse\n",
    "tmp7[:,:,:-1] # 마지막 열 전까지 모든깊이, 모든 행, 그외 열\n",
    "tmp7[:,:-1, :] # 마지막 행 전까지 모든 깊이, 모든 열, 그외 행\n",
    "tmp7[:-1,:, :] # 마지막 깊이 전까지 모든 행, 모든 열, 그외 깊이\n",
    "tmp7[:,:-1, :-1] # 마지막 행, 마지막 열 전까지 모든 깊이, 그외 행열"
   ]
  },
  {
   "cell_type": "code",
   "execution_count": 105,
   "id": "4edc03c3",
   "metadata": {},
   "outputs": [
    {
     "data": {
      "text/plain": [
       "array([[[ 1,  2,  3],\n",
       "        [ 4,  5,  6],\n",
       "        [ 7,  8,  9]],\n",
       "\n",
       "       [[10, 11, 12],\n",
       "        [13, 14, 15],\n",
       "        [16, 17, 18]],\n",
       "\n",
       "       [[19, 20, 21],\n",
       "        [22, 23, 24],\n",
       "        [25, 26, 27]]])"
      ]
     },
     "execution_count": 105,
     "metadata": {},
     "output_type": "execute_result"
    },
    {
     "data": {
      "text/plain": [
       "(27, 1)"
      ]
     },
     "execution_count": 105,
     "metadata": {},
     "output_type": "execute_result"
    }
   ],
   "source": [
    "tmp7\n",
    "# tmp7.reshape(-1,3,1) # 3행, 1열짜리로 reshape\n",
    "# tmp7.reshape(-1,3) # 3열짜리, 2차원으로 reshape\n",
    "# tmp7.reshape(-1,9) # 9열짜리 2차원으로 reshape\n",
    "tmp7.reshape(-1,1).shape # 1열짜리로 reshape (27,1)"
   ]
  },
  {
   "cell_type": "code",
   "execution_count": 20,
   "id": "ed2883ee",
   "metadata": {
    "scrolled": true
   },
   "outputs": [],
   "source": [
    "# 에러남. 실행 안됨. numpy_array = np.loadtxt(file, delimiter=\",\") 여기서 에러남\n",
    "# ValueError: could not convert string to float: 'date'\n",
    "\n",
    "# file = open(ddir + 'stock.KOSPI.KOSDAQ.2012.csv')\n",
    "# numpy_array = np.loadtxt(file, delimiter=\",\")\n",
    "# numpy_array"
   ]
  },
  {
   "cell_type": "code",
   "execution_count": 22,
   "id": "f466671f",
   "metadata": {},
   "outputs": [],
   "source": [
    "# 에러남. 실행 안됨. for row in reader: 여기서 에러남\n",
    "# ValueError: could not convert string to float: 'date'\n",
    "\n",
    "# import csv\n",
    "\n",
    "# results = []\n",
    "# with open(ddir + 'stock.KOSPI.KOSDAQ.2012.csv') as csvfile:\n",
    "#     reader = csv.reader(csvfile, quoting=csv.QUOTE_NONNUMERIC) # change contents to floats\n",
    "#     for row in reader: # each row is a list\n",
    "#         results.append(row)"
   ]
  },
  {
   "cell_type": "markdown",
   "id": "599aef03",
   "metadata": {},
   "source": [
    "# csv to array test"
   ]
  },
  {
   "cell_type": "code",
   "execution_count": 28,
   "id": "7ebeb06d",
   "metadata": {},
   "outputs": [
    {
     "data": {
      "text/plain": [
       "(284412, 823)"
      ]
     },
     "execution_count": 28,
     "metadata": {},
     "output_type": "execute_result"
    }
   ],
   "source": [
    "# [csv to numpy methods](https://linuxhint.com/python-read-csv-2d-array/)\n",
    "# Method 3: Using the Pandas Dataframe\n",
    "Array2d_result = d2012.to_numpy()\n",
    "# print(Array2d_result)\n",
    "Array2d_result.shape"
   ]
  },
  {
   "cell_type": "code",
   "execution_count": 27,
   "id": "8194e5c5",
   "metadata": {},
   "outputs": [
    {
     "data": {
      "text/plain": [
       "(284412, 823)"
      ]
     },
     "execution_count": 27,
     "metadata": {},
     "output_type": "execute_result"
    }
   ],
   "source": [
    "# Method 5: Using Pandas Dataframe Values\n",
    "Array2d_result = d2012.values\n",
    "# print(Array2d_result)\n",
    "Array2d_result.shape"
   ]
  },
  {
   "cell_type": "markdown",
   "id": "0fb19337",
   "metadata": {},
   "source": [
    "# csv to array"
   ]
  },
  {
   "cell_type": "code",
   "execution_count": 7,
   "id": "39ea44c0",
   "metadata": {},
   "outputs": [],
   "source": [
    "a2012 = d2012.to_numpy()\n",
    "a2013 = d2013.to_numpy()\n",
    "a2014 = d2014.to_numpy()\n",
    "a2015 = d2015.to_numpy()\n",
    "a2016 = d2016.to_numpy()\n",
    "a2017 = d2017.to_numpy()\n",
    "a2018 = d2018.to_numpy()\n",
    "a2019 = d2019.to_numpy()\n",
    "a2020 = d2020.to_numpy()\n",
    "a2021 = d2021.to_numpy()"
   ]
  },
  {
   "cell_type": "code",
   "execution_count": 14,
   "id": "480e8627",
   "metadata": {},
   "outputs": [
    {
     "data": {
      "text/plain": [
       "284412"
      ]
     },
     "execution_count": 14,
     "metadata": {},
     "output_type": "execute_result"
    },
    {
     "data": {
      "text/plain": [
       "242826"
      ]
     },
     "execution_count": 14,
     "metadata": {},
     "output_type": "execute_result"
    },
    {
     "data": {
      "text/plain": [
       "242448"
      ]
     },
     "execution_count": 14,
     "metadata": {},
     "output_type": "execute_result"
    },
    {
     "data": {
      "text/plain": [
       "314361"
      ]
     },
     "execution_count": 14,
     "metadata": {},
     "output_type": "execute_result"
    },
    {
     "data": {
      "text/plain": [
       "263593"
      ]
     },
     "execution_count": 14,
     "metadata": {},
     "output_type": "execute_result"
    },
    {
     "data": {
      "text/plain": [
       "216591"
      ]
     },
     "execution_count": 14,
     "metadata": {},
     "output_type": "execute_result"
    },
    {
     "data": {
      "text/plain": [
       "307395"
      ]
     },
     "execution_count": 14,
     "metadata": {},
     "output_type": "execute_result"
    },
    {
     "data": {
      "text/plain": [
       "278610"
      ]
     },
     "execution_count": 14,
     "metadata": {},
     "output_type": "execute_result"
    },
    {
     "data": {
      "text/plain": [
       "371006"
      ]
     },
     "execution_count": 14,
     "metadata": {},
     "output_type": "execute_result"
    },
    {
     "data": {
      "text/plain": [
       "321808"
      ]
     },
     "execution_count": 14,
     "metadata": {},
     "output_type": "execute_result"
    }
   ],
   "source": [
    "len(a2012)\n",
    "len(a2013)\n",
    "len(a2014)\n",
    "len(a2015)\n",
    "len(a2016)\n",
    "len(a2017)\n",
    "len(a2018)\n",
    "len(a2019)\n",
    "len(a2020)\n",
    "len(a2021)"
   ]
  },
  {
   "cell_type": "markdown",
   "id": "ba7a14f3",
   "metadata": {},
   "source": [
    "# feature selection 전에 먼저 그냥 돌려보기 (비교용), 회귀 모델 전체 한 번에 돌리기\n",
    "* 3Y train,1Y test"
   ]
  },
  {
   "cell_type": "markdown",
   "id": "5deef1dd",
   "metadata": {},
   "source": [
    "## 3Y: a1214"
   ]
  },
  {
   "cell_type": "code",
   "execution_count": 13,
   "id": "7673127d",
   "metadata": {},
   "outputs": [
    {
     "data": {
      "text/plain": [
       "769686"
      ]
     },
     "execution_count": 13,
     "metadata": {},
     "output_type": "execute_result"
    }
   ],
   "source": [
    "a2012.shape[0] + a2013.shape[0] + a2014.shape[0]\n",
    "\n",
    "a1214 = np.concatenate([a2012, a2013, a2014]) # 2차원 arr[행][열]\n",
    "\n",
    "# np.concatenate([a2013, a2014, a2015])\n",
    "# np.concatenate([a2014, a2015, a2016])\n",
    "# np.concatenate([a2015, a2016, a2017])\n",
    "# np.concatenate([a2016, a2017, a2018])\n",
    "# np.concatenate([a2017, a2018, a2019])\n",
    "# np.concatenate([a2018, a2019, a2020])\n",
    "# np.concatenate([a2019, a2020, a2021])\n"
   ]
  },
  {
   "cell_type": "code",
   "execution_count": 110,
   "id": "8c1dfdec",
   "metadata": {},
   "outputs": [],
   "source": [
    "results = []\n",
    "def my_regressor():\n",
    "    X = a1214[:,:-1]\n",
    "    y = a1214[:,-1]\n",
    "    from sklearn.linear_model import LinearRegression # 일반 회귀 모델\n",
    "    from sklearn.linear_model import Ridge, Lasso, ElasticNet # Norm 규제 회귀 모델\n",
    "    from sklearn.linear_model import ARDRegression, BayesianRidge # 베이지안 회귀\n",
    "    from sklearn.ensemble import RandomForestRegressor # decision tree 앙상블 모델, 배깅\n",
    "    from xgboost import XGBRegressor # decision tree 앙상블 모델, 부스팅\n",
    "#     from sklearn.model_selection import cross_val_score # model 검증\n",
    "    \n",
    "#     from sklearn.model_selection import StratifiedShuffleSplit\n",
    "    from sklearn.model_selection import ShuffleSplit\n",
    "    \n",
    "    from sklearn.dummy import DummyRegressor\n",
    "    from sklearn import metrics # 모델 평가 지표 for scoring (mse)\n",
    "    \n",
    "    import ast # convert string to function\n",
    "    \n",
    "    \n",
    "#     ################################################### 전처리 파이프라인\n",
    "#     from sklearn.pipeline import Pipeline\n",
    "#     from sklearn.impute import SimpleImputer\n",
    "#     from sklearn.preprocessing import MinMaxScaler\n",
    "\n",
    "#     my_pipeline = Pipeline([('mean_imputer', SimpleImputer(strategy = 'mean')),\n",
    "#                            ('mm_scaler', MinMaxScaler())])\n",
    "    ##############################################################################\n",
    "\n",
    "    \n",
    "    linear = LinearRegression()\n",
    "    ridge, lasso, elasticnet = Ridge(), Lasso(), ElasticNet()\n",
    "    ardr_linear, baysian_ridge = ARDRegression(), BayesianRidge()\n",
    "    random_forest = RandomForestRegressor()\n",
    "    xgboost_linear = XGBRegressor()\n",
    "    dummy = DummyRegressor(strategy = 'mean')\n",
    "    \n",
    "    my_model_list = ['linear', 'ridge', 'lasso', 'elasticnet',\n",
    "                     'ardr_linear', 'baysian_ridge',\n",
    "                     'random_forest', 'xgboost_linear', 'dummy']\n",
    "    \n",
    "    ######################################################################### fitting\n",
    "    for model_nm in tqdm(my_model_list):\n",
    "        \n",
    "        # cv\n",
    "        ss = ShuffleSplit(n_splits=5, test_size=0.2, random_state=0)\n",
    "        for train_idx, test_idx in tqdm(ss.split(X,y)):\n",
    "            x_train = a1214[train_idx,2:-1] # 식별변수 제외 나머지 열 ~ NC열 전까지\n",
    "            y_train = a1214[train_idx,-1]\n",
    "            x_test = a1214[test_idx,2:-1] # 식별변수 제외 나머지 열 ~ NC열 전까지\n",
    "            y_test = a1214[test_idx,-1]\n",
    "            \n",
    "            \n",
    "            y_train = y_train.reshape(-1,1) # 1열짜리로 만드는 것\n",
    "            y_test = y_test.reshape(-1,1)\n",
    "\n",
    "#             # 전처리 (scaling)\n",
    "#             x_train_fit = my_pipeline.fit(x_train)\n",
    "#             x_train_pre = x_train_fit.transform(x_train)\n",
    "#             x_test_pre = x_train_fit.transform(x_test)\n",
    "\n",
    "#             y_train_fit = my_pipeline.fit(y_train)\n",
    "#             y_train_pre = y_train_fit.transform(y_train)\n",
    "#             y_test_pre = y_train_fit.transform(y_test)\n",
    "            ########################################################\n",
    "        \n",
    "            # fitting\n",
    "            model_ = eval(model_nm).fit(x_train, y_train)\n",
    "            y_pred_test = model_.predict(x_test) # 예측\n",
    "\n",
    "            mse_score = metrics.mean_squared_error(y_test, y_pred_test)\n",
    "\n",
    "            results.append([i, f'{model_nm}', mse_score]) #[:str(model).index(\"(\")]\n",
    "            i+=1\n",
    "            #####################################################################################\n",
    "    \n",
    "    return results#score_dic#[0]"
   ]
  },
  {
   "cell_type": "code",
   "execution_count": 114,
   "id": "e0face3b",
   "metadata": {},
   "outputs": [],
   "source": [
    "_ = my_regressor()\n",
    "results"
   ]
  },
  {
   "cell_type": "markdown",
   "id": "b2492b8d",
   "metadata": {},
   "source": [
    "# X, y; train, test"
   ]
  },
  {
   "cell_type": "code",
   "execution_count": 14,
   "id": "31fc49a1",
   "metadata": {},
   "outputs": [],
   "source": [
    "X_train = a1214[:,2:-1]\n",
    "y_train = a1214[:,-1]\n",
    "X_test = a2015[:,2:-1]\n",
    "y_test = a2015[:,-1]"
   ]
  },
  {
   "cell_type": "markdown",
   "id": "39f8f297",
   "metadata": {},
   "source": [
    "# linear regressor만 따로 돌리기"
   ]
  },
  {
   "cell_type": "code",
   "execution_count": 8,
   "id": "6b3eaa16",
   "metadata": {},
   "outputs": [],
   "source": [
    "from sklearn.linear_model import LinearRegression # 일반 회귀 모델\n",
    "linear = LinearRegression()\n",
    "L_model = linear.fit(X_train, y_train)"
   ]
  },
  {
   "cell_type": "markdown",
   "id": "c7216f00",
   "metadata": {},
   "source": [
    "## 예측"
   ]
  },
  {
   "cell_type": "code",
   "execution_count": 10,
   "id": "75a9cf35",
   "metadata": {},
   "outputs": [
    {
     "data": {
      "text/plain": [
       "769686"
      ]
     },
     "execution_count": 10,
     "metadata": {},
     "output_type": "execute_result"
    },
    {
     "data": {
      "text/plain": [
       "314361"
      ]
     },
     "execution_count": 10,
     "metadata": {},
     "output_type": "execute_result"
    }
   ],
   "source": [
    "L_pred_train = L_model.predict(X_train)\n",
    "L_pred_test = L_model.predict(X_test)\n",
    "\n",
    "len(L_pred_train)\n",
    "len(L_pred_test)"
   ]
  },
  {
   "cell_type": "markdown",
   "id": "ac43fe47",
   "metadata": {},
   "source": [
    "## MSE\n",
    "- 가장 직관적, 그냥 오차?"
   ]
  },
  {
   "cell_type": "code",
   "execution_count": 189,
   "id": "c9aa0e38",
   "metadata": {},
   "outputs": [
    {
     "data": {
      "text/plain": [
       "D-1_VIpos           9.965400e-01\n",
       "D-1_ROC             1.051200e+00\n",
       "D-1_NVI             1.489800e+00\n",
       "D-2_NVI             1.492400e+00\n",
       "D-3_NVI             1.493800e+00\n",
       "                        ...     \n",
       "D-5_tradingvalue    9.872374e+08\n",
       "D-4_tradingvalue    1.000063e+09\n",
       "D-3_tradingvalue    1.007774e+09\n",
       "D-2_tradingvalue    1.013455e+09\n",
       "D-1_tradingvalue    1.018044e+09\n",
       "Length: 272, dtype: float64"
      ]
     },
     "execution_count": 189,
     "metadata": {},
     "output_type": "execute_result"
    },
    {
     "data": {
      "text/plain": [
       "12563092.569550484"
      ]
     },
     "execution_count": 189,
     "metadata": {},
     "output_type": "execute_result"
    }
   ],
   "source": [
    "d2015.median().sort_values()[550:]\n",
    "# d2015.median().sort_values()[-10:]\n",
    "d2015.median().mean()"
   ]
  },
  {
   "cell_type": "code",
   "execution_count": 179,
   "id": "4a3725de",
   "metadata": {},
   "outputs": [
    {
     "data": {
      "text/plain": [
       "15.045480494154003"
      ]
     },
     "execution_count": 179,
     "metadata": {},
     "output_type": "execute_result"
    },
    {
     "data": {
      "text/plain": [
       "20.539773069241683"
      ]
     },
     "execution_count": 179,
     "metadata": {},
     "output_type": "execute_result"
    }
   ],
   "source": [
    "from sklearn import metrics # 모델 평가 지표 scoring (mse)\n",
    "L_train_mse_score = metrics.mean_squared_error(y_train, L_pred_train)\n",
    "L_test_mse_score = metrics.mean_squared_error(y_test, L_pred_test)\n",
    "\n",
    "L_train_mse_score\n",
    "L_test_mse_score"
   ]
  },
  {
   "cell_type": "markdown",
   "id": "90b76e76",
   "metadata": {},
   "source": [
    "## R2 score\n",
    "- 1에 가까울 수록 높은 성능의 모델"
   ]
  },
  {
   "cell_type": "code",
   "execution_count": 176,
   "id": "d23cd2a9",
   "metadata": {},
   "outputs": [],
   "source": [
    "from sklearn.metrics import r2_score\n",
    "# (y_true, y_pred, *, sample_weight=None, multioutput='uniform_average', force_finite=True)"
   ]
  },
  {
   "cell_type": "code",
   "execution_count": 177,
   "id": "957df3e1",
   "metadata": {},
   "outputs": [
    {
     "data": {
      "text/plain": [
       "-0.0009804228689156425"
      ]
     },
     "execution_count": 177,
     "metadata": {},
     "output_type": "execute_result"
    }
   ],
   "source": [
    "r2_score(y_test, L_pred_test)"
   ]
  },
  {
   "cell_type": "markdown",
   "id": "8d5a6798",
   "metadata": {},
   "source": [
    "# DecisionTreeRegressor\n",
    "- 강력, 데이터에서 복잡한 비선형 관계를 찾을 수 있음."
   ]
  },
  {
   "cell_type": "code",
   "execution_count": null,
   "id": "3e53e0e3",
   "metadata": {},
   "outputs": [],
   "source": [
    "from sklearn.tree import DecisionTreeRegressor\n",
    "DecisionTree = DecisionTreeRegressor()\n",
    "D_model = DecisionTree.fit(X_train, y_train)"
   ]
  },
  {
   "cell_type": "markdown",
   "id": "42e0bbe8",
   "metadata": {},
   "source": [
    "## 예측"
   ]
  },
  {
   "cell_type": "markdown",
   "id": "091f8fc5",
   "metadata": {},
   "source": [
    "### multiprocessing"
   ]
  },
  {
   "cell_type": "code",
   "execution_count": 13,
   "id": "c1027ca1",
   "metadata": {},
   "outputs": [
    {
     "data": {
      "text/plain": [
       "[1, 4, 9]"
      ]
     },
     "execution_count": 13,
     "metadata": {},
     "output_type": "execute_result"
    }
   ],
   "source": [
    "from multiprocessing import Pool\n",
    "p = Pool(5)\n",
    "def f(x):\n",
    "    return x*x\n",
    "with p:\n",
    "    p.map(f, [1,2,3])\n",
    "\n",
    "p.close() # close를 해야함. (안하면 계산을 안멈춤.)"
   ]
  },
  {
   "cell_type": "markdown",
   "id": "271bb3e8",
   "metadata": {},
   "source": [
    "### multiprocessing, 내부 연산 비교"
   ]
  },
  {
   "cell_type": "code",
   "execution_count": 5,
   "id": "7454d26f",
   "metadata": {},
   "outputs": [],
   "source": [
    "import numpy as np\n",
    "from multiprocessing import Pool\n",
    "\n",
    "arr = np.random.random(1000000)\n",
    "\n",
    "def mul(x):\n",
    "    return x * 10"
   ]
  },
  {
   "cell_type": "code",
   "execution_count": 22,
   "id": "24f4f481",
   "metadata": {},
   "outputs": [
    {
     "name": "stdout",
     "output_type": "stream",
     "text": [
      "CPU times: user 64.7 ms, sys: 0 ns, total: 64.7 ms\n",
      "Wall time: 63.4 ms\n"
     ]
    },
    {
     "data": {
      "text/plain": [
       "array([0.0951484 , 6.89452034, 4.38690542, ..., 9.39343195, 6.04557671,\n",
       "       7.98635604])"
      ]
     },
     "execution_count": 22,
     "metadata": {},
     "output_type": "execute_result"
    }
   ],
   "source": [
    "%%time\n",
    "# Serial Python\n",
    "result = arr*10 # [mul(x) for x in arr]\n",
    "result"
   ]
  },
  {
   "cell_type": "code",
   "execution_count": 23,
   "id": "7c0e01a6",
   "metadata": {},
   "outputs": [
    {
     "name": "stdout",
     "output_type": "stream",
     "text": [
      "CPU times: user 10.9 ms, sys: 9.56 s, total: 9.58 s\n",
      "Wall time: 11.2 s\n"
     ]
    }
   ],
   "source": [
    "%%time\n",
    "with Pool(processes=16) as p:\n",
    "    result = arr*10#p.map(mul, arr)"
   ]
  },
  {
   "cell_type": "markdown",
   "id": "c6cdb2ca",
   "metadata": {},
   "source": [
    "### ray"
   ]
  },
  {
   "cell_type": "code",
   "execution_count": 2,
   "id": "4d4a1350",
   "metadata": {
    "scrolled": true
   },
   "outputs": [],
   "source": [
    "# pip install ray"
   ]
  },
  {
   "cell_type": "code",
   "execution_count": 3,
   "id": "2d107970",
   "metadata": {},
   "outputs": [],
   "source": []
  },
  {
   "cell_type": "code",
   "execution_count": 19,
   "id": "b75e80bb",
   "metadata": {},
   "outputs": [],
   "source": [
    "ray.shutdown() # ray.init을 전에 했었다면 다시 init 하기 이전에 선행돼야 함. (혹은 init 후 바로 shutdown 실행, 혹은 init에 ignore_reinit_error=True 넣어주기)"
   ]
  },
  {
   "cell_type": "code",
   "execution_count": 8,
   "id": "b4435f08",
   "metadata": {},
   "outputs": [
    {
     "name": "stdout",
     "output_type": "stream",
     "text": [
      "CPU times: user 30.7 ms, sys: 73.8 ms, total: 104 ms\n",
      "Wall time: 5.3 s\n"
     ]
    }
   ],
   "source": [
    "%%time\n",
    "import ray\n",
    "import numpy as np\n",
    "arr = np.random.random(1000000)\n",
    "\n",
    "ray.init(num_cpus=16)\n",
    "\n",
    "@ray.remote\n",
    "def mul(x):\n",
    "    return x * 10\n",
    "\n",
    "arr = ray.put(arr)\n",
    "result = ray.get(mul.remote(arr))\n",
    "ray.shutdown()"
   ]
  },
  {
   "cell_type": "code",
   "execution_count": 48,
   "id": "648f959f",
   "metadata": {},
   "outputs": [
    {
     "data": {
      "text/plain": [
       "(314361, 823)"
      ]
     },
     "execution_count": 48,
     "metadata": {},
     "output_type": "execute_result"
    }
   ],
   "source": [
    "a2015.shape"
   ]
  },
  {
   "cell_type": "code",
   "execution_count": 49,
   "id": "978b637a",
   "metadata": {},
   "outputs": [],
   "source": [
    "a1215 = np.concatenate([a2012, a2013, a2014, a2015]) # 2차원 arr[행][열]\n",
    "# X_train = a1215[:len(2015),2:-1]\n",
    "# y_train = a1215[:len(2015),-1]\n",
    "# X_test = a1215[len(a2015):,2:-1]\n",
    "# y_test = a1215[len(a2015):,-1]"
   ]
  },
  {
   "cell_type": "code",
   "execution_count": 65,
   "id": "c590e5f2",
   "metadata": {},
   "outputs": [
    {
     "data": {
      "text/plain": [
       "(1084047, 823)"
      ]
     },
     "execution_count": 65,
     "metadata": {},
     "output_type": "execute_result"
    }
   ],
   "source": [
    "a1215.shape"
   ]
  },
  {
   "cell_type": "code",
   "execution_count": 63,
   "id": "533a7e9d",
   "metadata": {},
   "outputs": [
    {
     "ename": "ValueError",
     "evalue": "The remote function __main__.reg_modeling is too large (2218 MiB > FUNCTION_SIZE_ERROR_THRESHOLD=95 MiB). Check that its definition is not implicitly capturing a large array or other object in scope. Tip: use ray.put() to put large objects in the Ray object store.",
     "output_type": "error",
     "traceback": [
      "\u001b[0;31m---------------------------------------------------------------------------\u001b[0m",
      "\u001b[0;31mValueError\u001b[0m                                Traceback (most recent call last)",
      "\u001b[0;32m<timed exec>\u001b[0m in \u001b[0;36m<module>\u001b[0;34m\u001b[0m\n",
      "\u001b[0;32m~/.local/lib/python3.8/site-packages/ray/remote_function.py\u001b[0m in \u001b[0;36m_remote_proxy\u001b[0;34m(*args, **kwargs)\u001b[0m\n\u001b[1;32m    155\u001b[0m         \u001b[0;34m@\u001b[0m\u001b[0mwraps\u001b[0m\u001b[0;34m(\u001b[0m\u001b[0mfunction\u001b[0m\u001b[0;34m)\u001b[0m\u001b[0;34m\u001b[0m\u001b[0;34m\u001b[0m\u001b[0m\n\u001b[1;32m    156\u001b[0m         \u001b[0;32mdef\u001b[0m \u001b[0m_remote_proxy\u001b[0m\u001b[0;34m(\u001b[0m\u001b[0;34m*\u001b[0m\u001b[0margs\u001b[0m\u001b[0;34m,\u001b[0m \u001b[0;34m**\u001b[0m\u001b[0mkwargs\u001b[0m\u001b[0;34m)\u001b[0m\u001b[0;34m:\u001b[0m\u001b[0;34m\u001b[0m\u001b[0;34m\u001b[0m\u001b[0m\n\u001b[0;32m--> 157\u001b[0;31m             \u001b[0;32mreturn\u001b[0m \u001b[0mself\u001b[0m\u001b[0;34m.\u001b[0m\u001b[0m_remote\u001b[0m\u001b[0;34m(\u001b[0m\u001b[0margs\u001b[0m\u001b[0;34m=\u001b[0m\u001b[0margs\u001b[0m\u001b[0;34m,\u001b[0m \u001b[0mkwargs\u001b[0m\u001b[0;34m=\u001b[0m\u001b[0mkwargs\u001b[0m\u001b[0;34m)\u001b[0m\u001b[0;34m\u001b[0m\u001b[0;34m\u001b[0m\u001b[0m\n\u001b[0m\u001b[1;32m    158\u001b[0m \u001b[0;34m\u001b[0m\u001b[0m\n\u001b[1;32m    159\u001b[0m         \u001b[0mself\u001b[0m\u001b[0;34m.\u001b[0m\u001b[0mremote\u001b[0m \u001b[0;34m=\u001b[0m \u001b[0m_remote_proxy\u001b[0m\u001b[0;34m\u001b[0m\u001b[0;34m\u001b[0m\u001b[0m\n",
      "\u001b[0;32m~/.local/lib/python3.8/site-packages/ray/util/tracing/tracing_helper.py\u001b[0m in \u001b[0;36m_invocation_remote_span\u001b[0;34m(self, args, kwargs, *_args, **_kwargs)\u001b[0m\n\u001b[1;32m    301\u001b[0m             \u001b[0;32mif\u001b[0m \u001b[0mkwargs\u001b[0m \u001b[0;32mis\u001b[0m \u001b[0;32mnot\u001b[0m \u001b[0;32mNone\u001b[0m\u001b[0;34m:\u001b[0m\u001b[0;34m\u001b[0m\u001b[0;34m\u001b[0m\u001b[0m\n\u001b[1;32m    302\u001b[0m                 \u001b[0;32massert\u001b[0m \u001b[0;34m\"_ray_trace_ctx\"\u001b[0m \u001b[0;32mnot\u001b[0m \u001b[0;32min\u001b[0m \u001b[0mkwargs\u001b[0m\u001b[0;34m\u001b[0m\u001b[0;34m\u001b[0m\u001b[0m\n\u001b[0;32m--> 303\u001b[0;31m             \u001b[0;32mreturn\u001b[0m \u001b[0mmethod\u001b[0m\u001b[0;34m(\u001b[0m\u001b[0mself\u001b[0m\u001b[0;34m,\u001b[0m \u001b[0margs\u001b[0m\u001b[0;34m,\u001b[0m \u001b[0mkwargs\u001b[0m\u001b[0;34m,\u001b[0m \u001b[0;34m*\u001b[0m\u001b[0m_args\u001b[0m\u001b[0;34m,\u001b[0m \u001b[0;34m**\u001b[0m\u001b[0m_kwargs\u001b[0m\u001b[0;34m)\u001b[0m\u001b[0;34m\u001b[0m\u001b[0;34m\u001b[0m\u001b[0m\n\u001b[0m\u001b[1;32m    304\u001b[0m \u001b[0;34m\u001b[0m\u001b[0m\n\u001b[1;32m    305\u001b[0m         \u001b[0;32massert\u001b[0m \u001b[0;34m\"_ray_trace_ctx\"\u001b[0m \u001b[0;32mnot\u001b[0m \u001b[0;32min\u001b[0m \u001b[0mkwargs\u001b[0m\u001b[0;34m\u001b[0m\u001b[0;34m\u001b[0m\u001b[0m\n",
      "\u001b[0;32m~/.local/lib/python3.8/site-packages/ray/remote_function.py\u001b[0m in \u001b[0;36m_remote\u001b[0;34m(self, args, kwargs, num_returns, num_cpus, num_gpus, memory, object_store_memory, accelerator_type, resources, max_retries, retry_exceptions, placement_group, placement_group_bundle_index, placement_group_capture_child_tasks, runtime_env, name, scheduling_strategy)\u001b[0m\n\u001b[1;32m    324\u001b[0m \u001b[0;34m\u001b[0m\u001b[0m\n\u001b[1;32m    325\u001b[0m             \u001b[0mself\u001b[0m\u001b[0;34m.\u001b[0m\u001b[0m_last_export_session_and_job\u001b[0m \u001b[0;34m=\u001b[0m \u001b[0mworker\u001b[0m\u001b[0;34m.\u001b[0m\u001b[0mcurrent_session_and_job\u001b[0m\u001b[0;34m\u001b[0m\u001b[0;34m\u001b[0m\u001b[0m\n\u001b[0;32m--> 326\u001b[0;31m             \u001b[0mworker\u001b[0m\u001b[0;34m.\u001b[0m\u001b[0mfunction_actor_manager\u001b[0m\u001b[0;34m.\u001b[0m\u001b[0mexport\u001b[0m\u001b[0;34m(\u001b[0m\u001b[0mself\u001b[0m\u001b[0;34m)\u001b[0m\u001b[0;34m\u001b[0m\u001b[0;34m\u001b[0m\u001b[0m\n\u001b[0m\u001b[1;32m    327\u001b[0m \u001b[0;34m\u001b[0m\u001b[0m\n\u001b[1;32m    328\u001b[0m         \u001b[0mkwargs\u001b[0m \u001b[0;34m=\u001b[0m \u001b[0;34m{\u001b[0m\u001b[0;34m}\u001b[0m \u001b[0;32mif\u001b[0m \u001b[0mkwargs\u001b[0m \u001b[0;32mis\u001b[0m \u001b[0;32mNone\u001b[0m \u001b[0;32melse\u001b[0m \u001b[0mkwargs\u001b[0m\u001b[0;34m\u001b[0m\u001b[0;34m\u001b[0m\u001b[0m\n",
      "\u001b[0;32m~/.local/lib/python3.8/site-packages/ray/_private/function_manager.py\u001b[0m in \u001b[0;36mexport\u001b[0;34m(self, remote_function)\u001b[0m\n\u001b[1;32m    203\u001b[0m         \u001b[0mpickled_function\u001b[0m \u001b[0;34m=\u001b[0m \u001b[0mremote_function\u001b[0m\u001b[0;34m.\u001b[0m\u001b[0m_pickled_function\u001b[0m\u001b[0;34m\u001b[0m\u001b[0;34m\u001b[0m\u001b[0m\n\u001b[1;32m    204\u001b[0m \u001b[0;34m\u001b[0m\u001b[0m\n\u001b[0;32m--> 205\u001b[0;31m         check_oversized_function(\n\u001b[0m\u001b[1;32m    206\u001b[0m             \u001b[0mpickled_function\u001b[0m\u001b[0;34m,\u001b[0m\u001b[0;34m\u001b[0m\u001b[0;34m\u001b[0m\u001b[0m\n\u001b[1;32m    207\u001b[0m             \u001b[0mremote_function\u001b[0m\u001b[0;34m.\u001b[0m\u001b[0m_function_name\u001b[0m\u001b[0;34m,\u001b[0m\u001b[0;34m\u001b[0m\u001b[0;34m\u001b[0m\u001b[0m\n",
      "\u001b[0;32m~/.local/lib/python3.8/site-packages/ray/_private/utils.py\u001b[0m in \u001b[0;36mcheck_oversized_function\u001b[0;34m(pickled, name, obj_type, worker)\u001b[0m\n\u001b[1;32m    676\u001b[0m             \u001b[0mray_constants\u001b[0m\u001b[0;34m.\u001b[0m\u001b[0mFUNCTION_SIZE_ERROR_THRESHOLD\u001b[0m \u001b[0;34m//\u001b[0m \u001b[0;34m(\u001b[0m\u001b[0;36m1024\u001b[0m \u001b[0;34m*\u001b[0m \u001b[0;36m1024\u001b[0m\u001b[0;34m)\u001b[0m\u001b[0;34m,\u001b[0m\u001b[0;34m\u001b[0m\u001b[0;34m\u001b[0m\u001b[0m\n\u001b[1;32m    677\u001b[0m         )\n\u001b[0;32m--> 678\u001b[0;31m         \u001b[0;32mraise\u001b[0m \u001b[0mValueError\u001b[0m\u001b[0;34m(\u001b[0m\u001b[0merror\u001b[0m\u001b[0;34m)\u001b[0m\u001b[0;34m\u001b[0m\u001b[0;34m\u001b[0m\u001b[0m\n\u001b[0m\u001b[1;32m    679\u001b[0m \u001b[0;34m\u001b[0m\u001b[0m\n\u001b[1;32m    680\u001b[0m \u001b[0;34m\u001b[0m\u001b[0m\n",
      "\u001b[0;31mValueError\u001b[0m: The remote function __main__.reg_modeling is too large (2218 MiB > FUNCTION_SIZE_ERROR_THRESHOLD=95 MiB). Check that its definition is not implicitly capturing a large array or other object in scope. Tip: use ray.put() to put large objects in the Ray object store."
     ]
    }
   ],
   "source": [
    "%%time\n",
    "ray.init(num_cpus = 16) #, ignore_reinit_error=True\n",
    "\n",
    "@ray.remote # 반드시 함수 바로 위에 씀. # 파이썬 함수나 클래스를 다른 프로세스에서 실행되는 Ray task로 만들어주는 데코레이터\n",
    "def reg_modeling(X_y_train_test):\n",
    "    \n",
    "    X_train = ray.put(X_y_train_test[:len(a2015),2:-1]) # X_y_train_test[:len(2015),2:-1]\n",
    "    y_train = ray.put(X_y_train_test[:len(a2015),-1]) # X_y_train_test[:len(2015),-1]\n",
    "    X_test = ray.put(X_y_train_test[len(a2015):,2:-1]) # X_y_train_test[len(a2015):,2:-1]\n",
    "    y_test = ray.put(X_y_train_test[len(a2015):,-1]) # X_y_train_test[len(a2015):,-1]\n",
    "    \n",
    "    from sklearn.linear_model import LinearRegression # 일반 회귀 모델\n",
    "    linear = LinearRegression()\n",
    "    L_model = linear.fit(X_train, y_train)\n",
    "#     L_pred_train = L_model.predict(X_train)\n",
    "    L_pred_test = L_model.predict(X_test)\n",
    "    \n",
    "    from sklearn import metrics # 모델 평가 지표 scoring (mse)\n",
    "#     L_train_mse_score = metrics.mean_squared_error(y_train, L_pred_train)\n",
    "    L_test_mse = metrics.mean_squared_error(y_test, L_pred_test)\n",
    "    \n",
    "    from sklearn.metrics import r2_score\n",
    "    L_test_r2 = r2_score(y_test, L_pred_test)\n",
    "    return L_test_mse, L_test_r2\n",
    "\n",
    "\n",
    "ray_a1215 = ray.put(a1215) # put에는 1개의 input만 가능\n",
    "\n",
    "results = ray.get(reg_modeling.remote(ray_a1215))\n",
    "ray.shutdown()"
   ]
  },
  {
   "cell_type": "code",
   "execution_count": 46,
   "id": "9baf64fe",
   "metadata": {},
   "outputs": [
    {
     "data": {
      "text/plain": [
       "<module 'ray' from '/home/gayoun0/.local/lib/python3.8/site-packages/ray/__init__.py'>"
      ]
     },
     "execution_count": 46,
     "metadata": {},
     "output_type": "execute_result"
    }
   ],
   "source": [
    "ray"
   ]
  },
  {
   "cell_type": "code",
   "execution_count": 62,
   "id": "cebdf3e9",
   "metadata": {},
   "outputs": [],
   "source": [
    "ray.shutdown()"
   ]
  },
  {
   "cell_type": "code",
   "execution_count": 56,
   "id": "d2230b49",
   "metadata": {},
   "outputs": [
    {
     "ename": "NameError",
     "evalue": "name 'results' is not defined",
     "output_type": "error",
     "traceback": [
      "\u001b[0;31m---------------------------------------------------------------------------\u001b[0m",
      "\u001b[0;31mNameError\u001b[0m                                 Traceback (most recent call last)",
      "\u001b[0;32m/tmp/ipykernel_3959908/962467392.py\u001b[0m in \u001b[0;36m<module>\u001b[0;34m\u001b[0m\n\u001b[0;32m----> 1\u001b[0;31m \u001b[0mresults\u001b[0m\u001b[0;34m\u001b[0m\u001b[0;34m\u001b[0m\u001b[0m\n\u001b[0m",
      "\u001b[0;31mNameError\u001b[0m: name 'results' is not defined"
     ]
    }
   ],
   "source": [
    "results"
   ]
  },
  {
   "cell_type": "code",
   "execution_count": 8,
   "id": "59a381cb",
   "metadata": {},
   "outputs": [],
   "source": [
    "d1215 = pd.concat([d2012, d2013, d2014, d2015])"
   ]
  },
  {
   "cell_type": "code",
   "execution_count": 69,
   "id": "e583ac7f",
   "metadata": {},
   "outputs": [
    {
     "name": "stdout",
     "output_type": "stream",
     "text": [
      "Defaulting to user installation because normal site-packages is not writeable\n",
      "Collecting pyarrow\n",
      "  Downloading pyarrow-8.0.0-cp38-cp38-manylinux_2_17_x86_64.manylinux2014_x86_64.whl (29.4 MB)\n",
      "\u001b[K     |████████████████████████████████| 29.4 MB 11.9 MB/s eta 0:00:01\n",
      "\u001b[?25hRequirement already satisfied: numpy>=1.16.6 in /package/anaconda3.8/lib/python3.8/site-packages (from pyarrow) (1.19.5)\n",
      "Installing collected packages: pyarrow\n",
      "\u001b[33m  WARNING: The script plasma_store is installed in '/home/gayoun0/.local/bin' which is not on PATH.\n",
      "  Consider adding this directory to PATH or, if you prefer to suppress this warning, use --no-warn-script-location.\u001b[0m\n",
      "Successfully installed pyarrow-8.0.0\n",
      "Note: you may need to restart the kernel to use updated packages.\n"
     ]
    }
   ],
   "source": [
    "# pip install pyarrow"
   ]
  },
  {
   "cell_type": "code",
   "execution_count": 10,
   "id": "cd12c154",
   "metadata": {},
   "outputs": [],
   "source": [
    "# d1215.head()\n",
    "d1215.reset_index(drop = True, inplace = True)"
   ]
  },
  {
   "cell_type": "code",
   "execution_count": 9,
   "id": "4fc102b7",
   "metadata": {},
   "outputs": [
    {
     "name": "stdout",
     "output_type": "stream",
     "text": [
      "<class 'pandas.core.frame.DataFrame'>\n",
      "Int64Index: 1084047 entries, 0 to 314360\n",
      "Columns: 823 entries, date to NextChange\n",
      "dtypes: float64(821), int64(1), object(1)\n",
      "memory usage: 6.7+ GB\n"
     ]
    }
   ],
   "source": [
    "d1215.info()"
   ]
  },
  {
   "cell_type": "code",
   "execution_count": 124,
   "id": "c7f08754",
   "metadata": {},
   "outputs": [
    {
     "data": {
      "text/plain": [
       "True"
      ]
     },
     "execution_count": 124,
     "metadata": {},
     "output_type": "execute_result"
    },
    {
     "data": {
      "text/plain": [
       "str"
      ]
     },
     "execution_count": 124,
     "metadata": {},
     "output_type": "execute_result"
    }
   ],
   "source": [
    "'001'.isdigit()\n",
    "type('01')"
   ]
  },
  {
   "cell_type": "markdown",
   "id": "13ab3f41",
   "metadata": {},
   "source": [
    "#### 'int'를 int로"
   ]
  },
  {
   "cell_type": "code",
   "execution_count": 144,
   "id": "a607fcc6",
   "metadata": {},
   "outputs": [
    {
     "name": "stdout",
     "output_type": "stream",
     "text": [
      "00781K\n"
     ]
    }
   ],
   "source": [
    "for i in range(len(d1215['code'])):\n",
    "#     d1215['code'][i]\n",
    "#     break\n",
    "    if type(d1215['code'][i]) == str and d1215['code'][i].isdigit():\n",
    "            d1215['code'][i] = int(d1215['code'][i]) # d1215['code'][i].astype('int')\n",
    "#     if type(d1215['code'][i]) == str and d1215['code'][i].isdigit()==False:\n",
    "#             print(d1215['code'][i])\n",
    "#             break"
   ]
  },
  {
   "cell_type": "code",
   "execution_count": 11,
   "id": "c72480a8",
   "metadata": {},
   "outputs": [],
   "source": [
    "d1215['code'] = d1215['code'].astype('category')"
   ]
  },
  {
   "cell_type": "code",
   "execution_count": 145,
   "id": "00853716",
   "metadata": {},
   "outputs": [
    {
     "data": {
      "text/html": [
       "<div>\n",
       "<style scoped>\n",
       "    .dataframe tbody tr th:only-of-type {\n",
       "        vertical-align: middle;\n",
       "    }\n",
       "\n",
       "    .dataframe tbody tr th {\n",
       "        vertical-align: top;\n",
       "    }\n",
       "\n",
       "    .dataframe thead th {\n",
       "        text-align: right;\n",
       "    }\n",
       "</style>\n",
       "<table border=\"1\" class=\"dataframe\">\n",
       "  <thead>\n",
       "    <tr style=\"text-align: right;\">\n",
       "      <th></th>\n",
       "      <th>date</th>\n",
       "      <th>code</th>\n",
       "      <th>D-10_open</th>\n",
       "      <th>D-10_high</th>\n",
       "      <th>D-10_low</th>\n",
       "      <th>D-10_close</th>\n",
       "      <th>D-10_MA5</th>\n",
       "      <th>D-10_MA20</th>\n",
       "      <th>D-10_MA60</th>\n",
       "      <th>D-10_MA120</th>\n",
       "      <th>...</th>\n",
       "      <th>D-1_VIpos</th>\n",
       "      <th>D-1_ROC</th>\n",
       "      <th>D-1_MFI</th>\n",
       "      <th>D-1_KCW</th>\n",
       "      <th>D-1_BBP</th>\n",
       "      <th>D-1_KST</th>\n",
       "      <th>D-1_DCW</th>\n",
       "      <th>D-1_SRSID</th>\n",
       "      <th>D-1_PPOhist</th>\n",
       "      <th>NextChange</th>\n",
       "    </tr>\n",
       "  </thead>\n",
       "  <tbody>\n",
       "  </tbody>\n",
       "</table>\n",
       "<p>0 rows × 823 columns</p>\n",
       "</div>"
      ],
      "text/plain": [
       "Empty DataFrame\n",
       "Columns: [date, code, D-10_open, D-10_high, D-10_low, D-10_close, D-10_MA5, D-10_MA20, D-10_MA60, D-10_MA120, D-10_MA240, D-10_AO, D-10_KAMA, D-10_ADI, D-10_FI, D-10_VMAP, D-10_BBH, D-10_BBL, D-10_BBM, D-10_DCH, D-10_DCL, D-10_DCM, D-10_KCH, D-10_KCL, D-10_KCM, D-10_DPO, D-10_Ichimoku_a, D-10_Ichimoku_b, D-10_ichimoku_base_line, D-10_ichimoku_conversion_line, D-10_MACD, D-10_MACDdiff, D-10_MACDsig, D-10_PSARdown, D-10_PSARup, D-10_CR, D-10_DLR, D-10_PVO, D-10_SRSI, D-10_AIdown, D-10_STC, D-10_RSI, D-10_EOMsig, D-10_NVI, D-10_ADXneg, D-10_WR, D-10_AIup, D-10_rTR, D-10_VIneg, D-10_PVOsig, D-10_SO, D-10_ATR, D-10_CMF, D-10_TSI, D-10_ADX, D-10_MI, D-10_SRSIK, D-10_EOM, D-10_BBW, D-10_UI, D-10_ADXpos, D-10_PPOsig, D-10_TRIX, D-10_volume, D-10_KSTsig, D-10_CCI, D-10_tradingvalue, D-10_OBV, D-10_VPT, D-10_UO, D-10_SOsig, D-10_KCP, D-10_DCP, D-10_PVOhist, D-10_PPO, D-10_VIpos, D-10_ROC, D-10_MFI, D-10_KCW, D-10_BBP, D-10_KST, D-10_DCW, D-10_SRSID, D-10_PPOhist, D-9_open, D-9_high, D-9_low, D-9_close, D-9_MA5, D-9_MA20, D-9_MA60, D-9_MA120, D-9_MA240, D-9_AO, D-9_KAMA, D-9_ADI, D-9_FI, D-9_VMAP, D-9_BBH, D-9_BBL, ...]\n",
       "Index: []\n",
       "\n",
       "[0 rows x 823 columns]"
      ]
     },
     "execution_count": 145,
     "metadata": {},
     "output_type": "execute_result"
    },
    {
     "data": {
      "text/html": [
       "<div>\n",
       "<style scoped>\n",
       "    .dataframe tbody tr th:only-of-type {\n",
       "        vertical-align: middle;\n",
       "    }\n",
       "\n",
       "    .dataframe tbody tr th {\n",
       "        vertical-align: top;\n",
       "    }\n",
       "\n",
       "    .dataframe thead th {\n",
       "        text-align: right;\n",
       "    }\n",
       "</style>\n",
       "<table border=\"1\" class=\"dataframe\">\n",
       "  <thead>\n",
       "    <tr style=\"text-align: right;\">\n",
       "      <th></th>\n",
       "      <th>date</th>\n",
       "      <th>code</th>\n",
       "      <th>D-10_open</th>\n",
       "      <th>D-10_high</th>\n",
       "      <th>D-10_low</th>\n",
       "      <th>D-10_close</th>\n",
       "      <th>D-10_MA5</th>\n",
       "      <th>D-10_MA20</th>\n",
       "      <th>D-10_MA60</th>\n",
       "      <th>D-10_MA120</th>\n",
       "      <th>...</th>\n",
       "      <th>D-1_VIpos</th>\n",
       "      <th>D-1_ROC</th>\n",
       "      <th>D-1_MFI</th>\n",
       "      <th>D-1_KCW</th>\n",
       "      <th>D-1_BBP</th>\n",
       "      <th>D-1_KST</th>\n",
       "      <th>D-1_DCW</th>\n",
       "      <th>D-1_SRSID</th>\n",
       "      <th>D-1_PPOhist</th>\n",
       "      <th>NextChange</th>\n",
       "    </tr>\n",
       "  </thead>\n",
       "  <tbody>\n",
       "    <tr>\n",
       "      <th>550417</th>\n",
       "      <td>20140407</td>\n",
       "      <td>00781K</td>\n",
       "      <td>0.029228</td>\n",
       "      <td>0.029228</td>\n",
       "      <td>-0.039666</td>\n",
       "      <td>-0.037578</td>\n",
       "      <td>-0.011065</td>\n",
       "      <td>-0.049791</td>\n",
       "      <td>-0.123152</td>\n",
       "      <td>-0.078121</td>\n",
       "      <td>...</td>\n",
       "      <td>1.00300</td>\n",
       "      <td>-2.30130</td>\n",
       "      <td>37.018</td>\n",
       "      <td>8.8543</td>\n",
       "      <td>0.56774</td>\n",
       "      <td>79.951</td>\n",
       "      <td>8.6142</td>\n",
       "      <td>0.14311</td>\n",
       "      <td>-0.544920</td>\n",
       "      <td>1.71</td>\n",
       "    </tr>\n",
       "    <tr>\n",
       "      <th>550418</th>\n",
       "      <td>20140408</td>\n",
       "      <td>00781K</td>\n",
       "      <td>0.002169</td>\n",
       "      <td>0.040130</td>\n",
       "      <td>-0.003254</td>\n",
       "      <td>0.017354</td>\n",
       "      <td>0.026030</td>\n",
       "      <td>-0.008134</td>\n",
       "      <td>-0.086161</td>\n",
       "      <td>-0.043557</td>\n",
       "      <td>...</td>\n",
       "      <td>1.05640</td>\n",
       "      <td>-0.62762</td>\n",
       "      <td>48.504</td>\n",
       "      <td>8.7864</td>\n",
       "      <td>0.79536</td>\n",
       "      <td>76.356</td>\n",
       "      <td>6.8706</td>\n",
       "      <td>0.26543</td>\n",
       "      <td>-0.385970</td>\n",
       "      <td>0.95</td>\n",
       "    </tr>\n",
       "    <tr>\n",
       "      <th>550419</th>\n",
       "      <td>20140409</td>\n",
       "      <td>00781K</td>\n",
       "      <td>-0.015991</td>\n",
       "      <td>-0.004264</td>\n",
       "      <td>-0.024520</td>\n",
       "      <td>-0.013859</td>\n",
       "      <td>0.001919</td>\n",
       "      <td>-0.021215</td>\n",
       "      <td>-0.099510</td>\n",
       "      <td>-0.061215</td>\n",
       "      <td>...</td>\n",
       "      <td>1.04350</td>\n",
       "      <td>0.10438</td>\n",
       "      <td>52.456</td>\n",
       "      <td>8.2483</td>\n",
       "      <td>0.88694</td>\n",
       "      <td>72.481</td>\n",
       "      <td>6.8552</td>\n",
       "      <td>0.38684</td>\n",
       "      <td>-0.223770</td>\n",
       "      <td>2.40</td>\n",
       "    </tr>\n",
       "    <tr>\n",
       "      <th>550420</th>\n",
       "      <td>20140410</td>\n",
       "      <td>00781K</td>\n",
       "      <td>0.009730</td>\n",
       "      <td>0.011892</td>\n",
       "      <td>-0.018378</td>\n",
       "      <td>0.006486</td>\n",
       "      <td>0.010595</td>\n",
       "      <td>-0.002746</td>\n",
       "      <td>-0.084368</td>\n",
       "      <td>-0.049405</td>\n",
       "      <td>...</td>\n",
       "      <td>1.02770</td>\n",
       "      <td>6.50760</td>\n",
       "      <td>60.181</td>\n",
       "      <td>8.2501</td>\n",
       "      <td>1.09960</td>\n",
       "      <td>72.184</td>\n",
       "      <td>9.7945</td>\n",
       "      <td>0.53046</td>\n",
       "      <td>0.026724</td>\n",
       "      <td>0.51</td>\n",
       "    </tr>\n",
       "    <tr>\n",
       "      <th>550421</th>\n",
       "      <td>20140411</td>\n",
       "      <td>00781K</td>\n",
       "      <td>0.007519</td>\n",
       "      <td>0.007519</td>\n",
       "      <td>-0.016112</td>\n",
       "      <td>0.002148</td>\n",
       "      <td>-0.001289</td>\n",
       "      <td>-0.004554</td>\n",
       "      <td>-0.087583</td>\n",
       "      <td>-0.056907</td>\n",
       "      <td>...</td>\n",
       "      <td>1.02350</td>\n",
       "      <td>5.22390</td>\n",
       "      <td>58.225</td>\n",
       "      <td>8.7501</td>\n",
       "      <td>1.07070</td>\n",
       "      <td>71.886</td>\n",
       "      <td>9.7365</td>\n",
       "      <td>0.66778</td>\n",
       "      <td>0.195450</td>\n",
       "      <td>3.14</td>\n",
       "    </tr>\n",
       "    <tr>\n",
       "      <th>...</th>\n",
       "      <td>...</td>\n",
       "      <td>...</td>\n",
       "      <td>...</td>\n",
       "      <td>...</td>\n",
       "      <td>...</td>\n",
       "      <td>...</td>\n",
       "      <td>...</td>\n",
       "      <td>...</td>\n",
       "      <td>...</td>\n",
       "      <td>...</td>\n",
       "      <td>...</td>\n",
       "      <td>...</td>\n",
       "      <td>...</td>\n",
       "      <td>...</td>\n",
       "      <td>...</td>\n",
       "      <td>...</td>\n",
       "      <td>...</td>\n",
       "      <td>...</td>\n",
       "      <td>...</td>\n",
       "      <td>...</td>\n",
       "      <td>...</td>\n",
       "    </tr>\n",
       "    <tr>\n",
       "      <th>798027</th>\n",
       "      <td>20151217</td>\n",
       "      <td>00781K</td>\n",
       "      <td>0.001653</td>\n",
       "      <td>0.057851</td>\n",
       "      <td>0.001653</td>\n",
       "      <td>0.006612</td>\n",
       "      <td>-0.006281</td>\n",
       "      <td>0.023471</td>\n",
       "      <td>0.083752</td>\n",
       "      <td>0.101901</td>\n",
       "      <td>...</td>\n",
       "      <td>0.93773</td>\n",
       "      <td>0.00000</td>\n",
       "      <td>64.126</td>\n",
       "      <td>10.2080</td>\n",
       "      <td>0.31141</td>\n",
       "      <td>-56.073</td>\n",
       "      <td>17.4570</td>\n",
       "      <td>0.38172</td>\n",
       "      <td>-0.013708</td>\n",
       "      <td>-0.50</td>\n",
       "    </tr>\n",
       "    <tr>\n",
       "      <th>798028</th>\n",
       "      <td>20151218</td>\n",
       "      <td>00781K</td>\n",
       "      <td>0.047619</td>\n",
       "      <td>0.047619</td>\n",
       "      <td>-0.014778</td>\n",
       "      <td>-0.011494</td>\n",
       "      <td>-0.011494</td>\n",
       "      <td>0.014039</td>\n",
       "      <td>0.074663</td>\n",
       "      <td>0.097044</td>\n",
       "      <td>...</td>\n",
       "      <td>0.97059</td>\n",
       "      <td>0.16807</td>\n",
       "      <td>70.915</td>\n",
       "      <td>10.4920</td>\n",
       "      <td>0.28031</td>\n",
       "      <td>-54.801</td>\n",
       "      <td>17.4950</td>\n",
       "      <td>0.41502</td>\n",
       "      <td>-0.012175</td>\n",
       "      <td>-0.34</td>\n",
       "    </tr>\n",
       "    <tr>\n",
       "      <th>798029</th>\n",
       "      <td>20151221</td>\n",
       "      <td>00781K</td>\n",
       "      <td>0.013289</td>\n",
       "      <td>0.071429</td>\n",
       "      <td>-0.011628</td>\n",
       "      <td>0.038206</td>\n",
       "      <td>0.008638</td>\n",
       "      <td>0.026495</td>\n",
       "      <td>0.085963</td>\n",
       "      <td>0.111412</td>\n",
       "      <td>...</td>\n",
       "      <td>0.99450</td>\n",
       "      <td>-1.81820</td>\n",
       "      <td>74.443</td>\n",
       "      <td>10.7110</td>\n",
       "      <td>0.26864</td>\n",
       "      <td>-51.240</td>\n",
       "      <td>17.5180</td>\n",
       "      <td>0.44282</td>\n",
       "      <td>-0.017214</td>\n",
       "      <td>0.67</td>\n",
       "    </tr>\n",
       "    <tr>\n",
       "      <th>798030</th>\n",
       "      <td>20151222</td>\n",
       "      <td>00781K</td>\n",
       "      <td>-0.011200</td>\n",
       "      <td>0.038400</td>\n",
       "      <td>-0.024000</td>\n",
       "      <td>0.027200</td>\n",
       "      <td>-0.013440</td>\n",
       "      <td>-0.009920</td>\n",
       "      <td>0.045440</td>\n",
       "      <td>0.071552</td>\n",
       "      <td>...</td>\n",
       "      <td>0.99446</td>\n",
       "      <td>-1.80620</td>\n",
       "      <td>79.290</td>\n",
       "      <td>11.0440</td>\n",
       "      <td>0.35623</td>\n",
       "      <td>-49.645</td>\n",
       "      <td>17.5960</td>\n",
       "      <td>0.42600</td>\n",
       "      <td>0.037438</td>\n",
       "      <td>-1.34</td>\n",
       "    </tr>\n",
       "    <tr>\n",
       "      <th>798031</th>\n",
       "      <td>20151223</td>\n",
       "      <td>00781K</td>\n",
       "      <td>0.000000</td>\n",
       "      <td>0.059190</td>\n",
       "      <td>-0.045171</td>\n",
       "      <td>-0.042056</td>\n",
       "      <td>-0.036449</td>\n",
       "      <td>-0.037695</td>\n",
       "      <td>0.014019</td>\n",
       "      <td>0.042726</td>\n",
       "      <td>...</td>\n",
       "      <td>0.99615</td>\n",
       "      <td>-1.99340</td>\n",
       "      <td>70.414</td>\n",
       "      <td>10.9700</td>\n",
       "      <td>0.24083</td>\n",
       "      <td>-51.123</td>\n",
       "      <td>17.7490</td>\n",
       "      <td>0.39469</td>\n",
       "      <td>-0.000454</td>\n",
       "      <td>0.00</td>\n",
       "    </tr>\n",
       "  </tbody>\n",
       "</table>\n",
       "<p>340 rows × 823 columns</p>\n",
       "</div>"
      ],
      "text/plain": [
       "            date    code  D-10_open  D-10_high  D-10_low  D-10_close  \\\n",
       "550417  20140407  00781K   0.029228   0.029228 -0.039666   -0.037578   \n",
       "550418  20140408  00781K   0.002169   0.040130 -0.003254    0.017354   \n",
       "550419  20140409  00781K  -0.015991  -0.004264 -0.024520   -0.013859   \n",
       "550420  20140410  00781K   0.009730   0.011892 -0.018378    0.006486   \n",
       "550421  20140411  00781K   0.007519   0.007519 -0.016112    0.002148   \n",
       "...          ...     ...        ...        ...       ...         ...   \n",
       "798027  20151217  00781K   0.001653   0.057851  0.001653    0.006612   \n",
       "798028  20151218  00781K   0.047619   0.047619 -0.014778   -0.011494   \n",
       "798029  20151221  00781K   0.013289   0.071429 -0.011628    0.038206   \n",
       "798030  20151222  00781K  -0.011200   0.038400 -0.024000    0.027200   \n",
       "798031  20151223  00781K   0.000000   0.059190 -0.045171   -0.042056   \n",
       "\n",
       "        D-10_MA5  D-10_MA20  D-10_MA60  D-10_MA120  ...  D-1_VIpos  D-1_ROC  \\\n",
       "550417 -0.011065  -0.049791  -0.123152   -0.078121  ...    1.00300 -2.30130   \n",
       "550418  0.026030  -0.008134  -0.086161   -0.043557  ...    1.05640 -0.62762   \n",
       "550419  0.001919  -0.021215  -0.099510   -0.061215  ...    1.04350  0.10438   \n",
       "550420  0.010595  -0.002746  -0.084368   -0.049405  ...    1.02770  6.50760   \n",
       "550421 -0.001289  -0.004554  -0.087583   -0.056907  ...    1.02350  5.22390   \n",
       "...          ...        ...        ...         ...  ...        ...      ...   \n",
       "798027 -0.006281   0.023471   0.083752    0.101901  ...    0.93773  0.00000   \n",
       "798028 -0.011494   0.014039   0.074663    0.097044  ...    0.97059  0.16807   \n",
       "798029  0.008638   0.026495   0.085963    0.111412  ...    0.99450 -1.81820   \n",
       "798030 -0.013440  -0.009920   0.045440    0.071552  ...    0.99446 -1.80620   \n",
       "798031 -0.036449  -0.037695   0.014019    0.042726  ...    0.99615 -1.99340   \n",
       "\n",
       "        D-1_MFI  D-1_KCW  D-1_BBP  D-1_KST  D-1_DCW  D-1_SRSID  D-1_PPOhist  \\\n",
       "550417   37.018   8.8543  0.56774   79.951   8.6142    0.14311    -0.544920   \n",
       "550418   48.504   8.7864  0.79536   76.356   6.8706    0.26543    -0.385970   \n",
       "550419   52.456   8.2483  0.88694   72.481   6.8552    0.38684    -0.223770   \n",
       "550420   60.181   8.2501  1.09960   72.184   9.7945    0.53046     0.026724   \n",
       "550421   58.225   8.7501  1.07070   71.886   9.7365    0.66778     0.195450   \n",
       "...         ...      ...      ...      ...      ...        ...          ...   \n",
       "798027   64.126  10.2080  0.31141  -56.073  17.4570    0.38172    -0.013708   \n",
       "798028   70.915  10.4920  0.28031  -54.801  17.4950    0.41502    -0.012175   \n",
       "798029   74.443  10.7110  0.26864  -51.240  17.5180    0.44282    -0.017214   \n",
       "798030   79.290  11.0440  0.35623  -49.645  17.5960    0.42600     0.037438   \n",
       "798031   70.414  10.9700  0.24083  -51.123  17.7490    0.39469    -0.000454   \n",
       "\n",
       "        NextChange  \n",
       "550417        1.71  \n",
       "550418        0.95  \n",
       "550419        2.40  \n",
       "550420        0.51  \n",
       "550421        3.14  \n",
       "...            ...  \n",
       "798027       -0.50  \n",
       "798028       -0.34  \n",
       "798029        0.67  \n",
       "798030       -1.34  \n",
       "798031        0.00  \n",
       "\n",
       "[340 rows x 823 columns]"
      ]
     },
     "execution_count": 145,
     "metadata": {},
     "output_type": "execute_result"
    }
   ],
   "source": [
    "d1215[d1215['code']=='000520']\n",
    "d1215[d1215['code']=='00781K']"
   ]
  },
  {
   "cell_type": "code",
   "execution_count": 100,
   "id": "9bd446a6",
   "metadata": {},
   "outputs": [
    {
     "data": {
      "text/html": [
       "<div>\n",
       "<style scoped>\n",
       "    .dataframe tbody tr th:only-of-type {\n",
       "        vertical-align: middle;\n",
       "    }\n",
       "\n",
       "    .dataframe tbody tr th {\n",
       "        vertical-align: top;\n",
       "    }\n",
       "\n",
       "    .dataframe thead th {\n",
       "        text-align: right;\n",
       "    }\n",
       "</style>\n",
       "<table border=\"1\" class=\"dataframe\">\n",
       "  <thead>\n",
       "    <tr style=\"text-align: right;\">\n",
       "      <th></th>\n",
       "      <th>date</th>\n",
       "      <th>code</th>\n",
       "      <th>D-10_open</th>\n",
       "      <th>D-10_high</th>\n",
       "      <th>D-10_low</th>\n",
       "      <th>D-10_close</th>\n",
       "      <th>D-10_MA5</th>\n",
       "      <th>D-10_MA20</th>\n",
       "      <th>D-10_MA60</th>\n",
       "      <th>D-10_MA120</th>\n",
       "      <th>...</th>\n",
       "      <th>D-1_VIpos</th>\n",
       "      <th>D-1_ROC</th>\n",
       "      <th>D-1_MFI</th>\n",
       "      <th>D-1_KCW</th>\n",
       "      <th>D-1_BBP</th>\n",
       "      <th>D-1_KST</th>\n",
       "      <th>D-1_DCW</th>\n",
       "      <th>D-1_SRSID</th>\n",
       "      <th>D-1_PPOhist</th>\n",
       "      <th>NextChange</th>\n",
       "    </tr>\n",
       "  </thead>\n",
       "  <tbody>\n",
       "    <tr>\n",
       "      <th>0</th>\n",
       "      <td>20120102</td>\n",
       "      <td>16385</td>\n",
       "      <td>-0.023573</td>\n",
       "      <td>0.009925</td>\n",
       "      <td>-0.028537</td>\n",
       "      <td>0.009925</td>\n",
       "      <td>0.000495</td>\n",
       "      <td>-0.023078</td>\n",
       "      <td>-0.029591</td>\n",
       "      <td>0.049886</td>\n",
       "      <td>...</td>\n",
       "      <td>1.14440</td>\n",
       "      <td>3.97020</td>\n",
       "      <td>86.354</td>\n",
       "      <td>6.6468</td>\n",
       "      <td>0.89682</td>\n",
       "      <td>53.341</td>\n",
       "      <td>13.812</td>\n",
       "      <td>1.000000</td>\n",
       "      <td>0.289370</td>\n",
       "      <td>-1.43</td>\n",
       "    </tr>\n",
       "    <tr>\n",
       "      <th>1</th>\n",
       "      <td>20120103</td>\n",
       "      <td>16385</td>\n",
       "      <td>0.000000</td>\n",
       "      <td>0.000000</td>\n",
       "      <td>0.000000</td>\n",
       "      <td>0.000000</td>\n",
       "      <td>-0.005897</td>\n",
       "      <td>-0.028194</td>\n",
       "      <td>-0.039292</td>\n",
       "      <td>0.038472</td>\n",
       "      <td>...</td>\n",
       "      <td>1.03640</td>\n",
       "      <td>2.48130</td>\n",
       "      <td>81.469</td>\n",
       "      <td>6.2073</td>\n",
       "      <td>0.70124</td>\n",
       "      <td>53.597</td>\n",
       "      <td>13.308</td>\n",
       "      <td>0.912360</td>\n",
       "      <td>0.155670</td>\n",
       "      <td>-0.61</td>\n",
       "    </tr>\n",
       "    <tr>\n",
       "      <th>2</th>\n",
       "      <td>20120104</td>\n",
       "      <td>16385</td>\n",
       "      <td>0.000000</td>\n",
       "      <td>0.007372</td>\n",
       "      <td>0.000000</td>\n",
       "      <td>0.007372</td>\n",
       "      <td>-0.002457</td>\n",
       "      <td>-0.023772</td>\n",
       "      <td>-0.039374</td>\n",
       "      <td>0.037335</td>\n",
       "      <td>...</td>\n",
       "      <td>1.12840</td>\n",
       "      <td>1.86100</td>\n",
       "      <td>78.376</td>\n",
       "      <td>6.1898</td>\n",
       "      <td>0.60901</td>\n",
       "      <td>53.290</td>\n",
       "      <td>13.296</td>\n",
       "      <td>0.713610</td>\n",
       "      <td>0.012119</td>\n",
       "      <td>-0.24</td>\n",
       "    </tr>\n",
       "    <tr>\n",
       "      <th>3</th>\n",
       "      <td>20120105</td>\n",
       "      <td>16385</td>\n",
       "      <td>-0.001220</td>\n",
       "      <td>0.000000</td>\n",
       "      <td>-0.001220</td>\n",
       "      <td>0.000000</td>\n",
       "      <td>-0.006342</td>\n",
       "      <td>-0.027135</td>\n",
       "      <td>-0.046504</td>\n",
       "      <td>0.028606</td>\n",
       "      <td>...</td>\n",
       "      <td>1.09180</td>\n",
       "      <td>0.61427</td>\n",
       "      <td>77.885</td>\n",
       "      <td>5.9693</td>\n",
       "      <td>0.55773</td>\n",
       "      <td>53.453</td>\n",
       "      <td>13.298</td>\n",
       "      <td>0.403750</td>\n",
       "      <td>-0.106770</td>\n",
       "      <td>-0.24</td>\n",
       "    </tr>\n",
       "    <tr>\n",
       "      <th>4</th>\n",
       "      <td>20120110</td>\n",
       "      <td>16385</td>\n",
       "      <td>-0.002440</td>\n",
       "      <td>0.012194</td>\n",
       "      <td>-0.002440</td>\n",
       "      <td>0.012194</td>\n",
       "      <td>0.000975</td>\n",
       "      <td>-0.019270</td>\n",
       "      <td>-0.046993</td>\n",
       "      <td>0.026299</td>\n",
       "      <td>...</td>\n",
       "      <td>0.95562</td>\n",
       "      <td>-2.43910</td>\n",
       "      <td>77.505</td>\n",
       "      <td>5.9335</td>\n",
       "      <td>0.13632</td>\n",
       "      <td>51.280</td>\n",
       "      <td>15.881</td>\n",
       "      <td>0.023473</td>\n",
       "      <td>-0.398300</td>\n",
       "      <td>0.00</td>\n",
       "    </tr>\n",
       "  </tbody>\n",
       "</table>\n",
       "<p>5 rows × 823 columns</p>\n",
       "</div>"
      ],
      "text/plain": [
       "       date   code  D-10_open  D-10_high  D-10_low  D-10_close  D-10_MA5  \\\n",
       "0  20120102  16385  -0.023573   0.009925 -0.028537    0.009925  0.000495   \n",
       "1  20120103  16385   0.000000   0.000000  0.000000    0.000000 -0.005897   \n",
       "2  20120104  16385   0.000000   0.007372  0.000000    0.007372 -0.002457   \n",
       "3  20120105  16385  -0.001220   0.000000 -0.001220    0.000000 -0.006342   \n",
       "4  20120110  16385  -0.002440   0.012194 -0.002440    0.012194  0.000975   \n",
       "\n",
       "   D-10_MA20  D-10_MA60  D-10_MA120  ...  D-1_VIpos  D-1_ROC  D-1_MFI  \\\n",
       "0  -0.023078  -0.029591    0.049886  ...    1.14440  3.97020   86.354   \n",
       "1  -0.028194  -0.039292    0.038472  ...    1.03640  2.48130   81.469   \n",
       "2  -0.023772  -0.039374    0.037335  ...    1.12840  1.86100   78.376   \n",
       "3  -0.027135  -0.046504    0.028606  ...    1.09180  0.61427   77.885   \n",
       "4  -0.019270  -0.046993    0.026299  ...    0.95562 -2.43910   77.505   \n",
       "\n",
       "   D-1_KCW  D-1_BBP  D-1_KST  D-1_DCW  D-1_SRSID  D-1_PPOhist  NextChange  \n",
       "0   6.6468  0.89682   53.341   13.812   1.000000     0.289370       -1.43  \n",
       "1   6.2073  0.70124   53.597   13.308   0.912360     0.155670       -0.61  \n",
       "2   6.1898  0.60901   53.290   13.296   0.713610     0.012119       -0.24  \n",
       "3   5.9693  0.55773   53.453   13.298   0.403750    -0.106770       -0.24  \n",
       "4   5.9335  0.13632   51.280   15.881   0.023473    -0.398300        0.00  \n",
       "\n",
       "[5 rows x 823 columns]"
      ]
     },
     "execution_count": 100,
     "metadata": {},
     "output_type": "execute_result"
    }
   ],
   "source": [
    "d1215.head()"
   ]
  },
  {
   "cell_type": "code",
   "execution_count": 105,
   "id": "f14b4ccc",
   "metadata": {},
   "outputs": [
    {
     "data": {
      "text/plain": [
       "int"
      ]
     },
     "execution_count": 105,
     "metadata": {},
     "output_type": "execute_result"
    },
    {
     "data": {
      "text/plain": [
       "CategoricalDtype(categories=[      20,       30,       40,       50,       60,       70,\n",
       "                        75,       80,       87,      100,\n",
       "                  ...\n",
       "                  '036530', '041460', '052900', '069260', '085660', '085670',\n",
       "                  '123410', '126600', '126640', '18064K'],\n",
       ", ordered=False)"
      ]
     },
     "execution_count": 105,
     "metadata": {},
     "output_type": "execute_result"
    },
    {
     "data": {
      "text/plain": [
       "numpy.int64"
      ]
     },
     "execution_count": 105,
     "metadata": {},
     "output_type": "execute_result"
    },
    {
     "data": {
      "text/plain": [
       "numpy.float64"
      ]
     },
     "execution_count": 105,
     "metadata": {},
     "output_type": "execute_result"
    }
   ],
   "source": [
    "type(d1215['code'][0])\n",
    "d1215['code'].dtype\n",
    "type(d1215['date'][0])\n",
    "type(d1215['D-10_open'][0])"
   ]
  },
  {
   "cell_type": "code",
   "execution_count": 12,
   "id": "3cba88d8",
   "metadata": {
    "scrolled": true
   },
   "outputs": [],
   "source": [
    "d1215.to_feather('d1215.ftr')"
   ]
  },
  {
   "cell_type": "code",
   "execution_count": null,
   "id": "1eccdf0f",
   "metadata": {},
   "outputs": [],
   "source": []
  },
  {
   "cell_type": "markdown",
   "id": "cc32112b",
   "metadata": {},
   "source": [
    "# inhovation code"
   ]
  },
  {
   "cell_type": "code",
   "execution_count": null,
   "id": "036eedf7",
   "metadata": {},
   "outputs": [],
   "source": [
    "from multiprocessing import Pool\n",
    "import multiprocessing\n",
    "import itertools\n",
    "start_time=time.time()\n",
    "processes = 30\n",
    "\n",
    "# 멀티프로세싱 argument 생성\n",
    "# IF = open(file_name, 'r')\n",
    "# args_list=[]\n",
    "# for i,row in enumerate(IF):\n",
    "#     code = row.split('\\n')[0]\n",
    "#     args_list.append([code, fold, mode])\n",
    "# IF.close()\n",
    "\n",
    "result = []\n",
    "# 멀티프로세싱 진행\n",
    "pool = multiprocessing.Pool(processes = processes)\n",
    "for data in pool.starmap(a1214, args_list ): # 각 코어에 입력값들을 병렬 처리\n",
    "    result+=data\n",
    "pool.close() # 멀티 프로세싱 종료\n",
    "pool.join()\n",
    "\n",
    "\n",
    "print(\"--- %s seconds ---\" % (time.time() - start_time))\n"
   ]
  },
  {
   "cell_type": "code",
   "execution_count": null,
   "id": "f0a5b34f",
   "metadata": {},
   "outputs": [],
   "source": [
    "D_pred_train = D_model.predict(X_train)\n",
    "D_pred_test = D_model.predict(X_test)"
   ]
  },
  {
   "cell_type": "code",
   "execution_count": null,
   "id": "25e0afad",
   "metadata": {},
   "outputs": [],
   "source": []
  },
  {
   "cell_type": "markdown",
   "id": "29b6a473",
   "metadata": {},
   "source": [
    "# 하이퍼 파라미터 조정"
   ]
  },
  {
   "cell_type": "code",
   "execution_count": null,
   "id": "2f7dcd4f",
   "metadata": {},
   "outputs": [],
   "source": []
  },
  {
   "cell_type": "code",
   "execution_count": 175,
   "id": "d9d99af7",
   "metadata": {},
   "outputs": [
    {
     "data": {
      "text/plain": [
       "(314361, 823)"
      ]
     },
     "execution_count": 175,
     "metadata": {},
     "output_type": "execute_result"
    },
    {
     "data": {
      "text/plain": [
       "(314361, 820)"
      ]
     },
     "execution_count": 175,
     "metadata": {},
     "output_type": "execute_result"
    },
    {
     "data": {
      "text/plain": [
       "(314361,)"
      ]
     },
     "execution_count": 175,
     "metadata": {},
     "output_type": "execute_result"
    }
   ],
   "source": [
    "a2015.shape\n",
    "X_test.shape\n",
    "pred_test.shape"
   ]
  },
  {
   "cell_type": "code",
   "execution_count": 130,
   "id": "3faed362",
   "metadata": {},
   "outputs": [
    {
     "data": {
      "text/plain": [
       "0"
      ]
     },
     "execution_count": 130,
     "metadata": {},
     "output_type": "execute_result"
    }
   ],
   "source": [
    "sum(sum(a2015 == 'NaN')) # arr로는 NaN 해결 안될 것 같음. 따로 구글링 안함."
   ]
  }
 ],
 "metadata": {
  "kernelspec": {
   "display_name": "Python 3 (ipykernel)",
   "language": "python",
   "name": "python3"
  },
  "language_info": {
   "codemirror_mode": {
    "name": "ipython",
    "version": 3
   },
   "file_extension": ".py",
   "mimetype": "text/x-python",
   "name": "python",
   "nbconvert_exporter": "python",
   "pygments_lexer": "ipython3",
   "version": "3.8.2"
  },
  "toc": {
   "base_numbering": 1,
   "nav_menu": {},
   "number_sections": true,
   "sideBar": true,
   "skip_h1_title": false,
   "title_cell": "Table of Contents",
   "title_sidebar": "Contents",
   "toc_cell": false,
   "toc_position": {
    "height": "calc(100% - 180px)",
    "left": "10px",
    "top": "150px",
    "width": "181.016px"
   },
   "toc_section_display": true,
   "toc_window_display": false
  }
 },
 "nbformat": 4,
 "nbformat_minor": 5
}
