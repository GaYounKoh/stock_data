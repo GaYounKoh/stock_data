{
 "cells": [
  {
   "cell_type": "markdown",
   "id": "05a2bc93",
   "metadata": {},
   "source": [
    "TensorFlow 애드온 콜백: TQDM 진행률 표시줄 <br>\n",
    "[참고 공식문서](https://www.tensorflow.org/addons/tutorials/tqdm_progress_bar) <br>\n",
    "[tensorflow 모델 학습시간 보기](https://lynnshin.tistory.com/14)"
   ]
  },
  {
   "cell_type": "markdown",
   "id": "4df3c5df",
   "metadata": {},
   "source": [
    "# 개요\n",
    "이 노트북은 TensorFlow 애드온에서 TQDMCallback을 사용하는 방법을 보여줍니다."
   ]
  },
  {
   "cell_type": "markdown",
   "id": "2100d145",
   "metadata": {},
   "source": [
    "# 설정"
   ]
  },
  {
   "cell_type": "code",
   "execution_count": 2,
   "id": "8d67ff22",
   "metadata": {},
   "outputs": [],
   "source": [
    "import os"
   ]
  },
  {
   "cell_type": "code",
   "execution_count": 5,
   "id": "409d5883",
   "metadata": {},
   "outputs": [
    {
     "name": "stderr",
     "output_type": "stream",
     "text": [
      "2022-06-05 18:21:04.337930: I tensorflow/stream_executor/platform/default/dso_loader.cc:49] Successfully opened dynamic library libcudart.so.10.1\n"
     ]
    }
   ],
   "source": [
    "import tensorflow as tf"
   ]
  },
  {
   "cell_type": "code",
   "execution_count": 8,
   "id": "02bb6cec",
   "metadata": {},
   "outputs": [
    {
     "data": {
      "text/plain": [
       "<module 'tensorflow._api.v2.version' from '/package/anaconda3.8/lib/python3.8/site-packages/tensorflow/_api/v2/version/__init__.py'>"
      ]
     },
     "execution_count": 8,
     "metadata": {},
     "output_type": "execute_result"
    }
   ],
   "source": [
    "tf.version"
   ]
  },
  {
   "cell_type": "code",
   "execution_count": 11,
   "id": "cb8b4151",
   "metadata": {},
   "outputs": [
    {
     "data": {
      "text/plain": [
       "'2.4.1'"
      ]
     },
     "execution_count": 11,
     "metadata": {},
     "output_type": "execute_result"
    }
   ],
   "source": [
    "tf.__version__"
   ]
  },
  {
   "cell_type": "code",
   "execution_count": 9,
   "id": "cad65c2f",
   "metadata": {
    "collapsed": true
   },
   "outputs": [
    {
     "name": "stdout",
     "output_type": "stream",
     "text": [
      "Defaulting to user installation because normal site-packages is not writeable\n",
      "Collecting tensorflow-addons\n",
      "  Downloading tensorflow_addons-0.17.0-cp38-cp38-manylinux_2_17_x86_64.manylinux2014_x86_64.whl (1.1 MB)\n",
      "\u001b[K     |████████████████████████████████| 1.1 MB 9.3 MB/s eta 0:00:01\n",
      "\u001b[?25hCollecting typeguard>=2.7\n",
      "  Downloading typeguard-2.13.3-py3-none-any.whl (17 kB)\n",
      "Requirement already satisfied: packaging in /package/anaconda3.8/lib/python3.8/site-packages (from tensorflow-addons) (21.3)\n",
      "Requirement already satisfied: pyparsing!=3.0.5,>=2.0.2 in /package/anaconda3.8/lib/python3.8/site-packages (from packaging->tensorflow-addons) (3.0.4)\n",
      "Installing collected packages: typeguard, tensorflow-addons\n",
      "Successfully installed tensorflow-addons-0.17.0 typeguard-2.13.3\n",
      "Note: you may need to restart the kernel to use updated packages.\n"
     ]
    }
   ],
   "source": [
    "pip install -U tensorflow-addons"
   ]
  },
  {
   "cell_type": "code",
   "execution_count": 13,
   "id": "558300aa",
   "metadata": {
    "collapsed": true
   },
   "outputs": [
    {
     "name": "stdout",
     "output_type": "stream",
     "text": [
      "Defaulting to user installation because normal site-packages is not writeable\n",
      "Collecting tensorflow-addons==0.12.0\n",
      "  Downloading tensorflow_addons-0.12.0-cp38-cp38-manylinux2010_x86_64.whl (703 kB)\n",
      "\u001b[K     |████████████████████████████████| 703 kB 10.9 MB/s eta 0:00:01\n",
      "\u001b[?25hRequirement already satisfied: typeguard>=2.7 in /home/gayoun0/.local/lib/python3.8/site-packages (from tensorflow-addons==0.12.0) (2.13.3)\n",
      "Installing collected packages: tensorflow-addons\n",
      "  Attempting uninstall: tensorflow-addons\n",
      "    Found existing installation: tensorflow-addons 0.17.0\n",
      "    Uninstalling tensorflow-addons-0.17.0:\n",
      "      Successfully uninstalled tensorflow-addons-0.17.0\n",
      "Successfully installed tensorflow-addons-0.12.0\n",
      "Note: you may need to restart the kernel to use updated packages.\n"
     ]
    }
   ],
   "source": [
    "pip install tensorflow-addons==0.12.0"
   ]
  },
  {
   "cell_type": "code",
   "execution_count": null,
   "id": "7982089f",
   "metadata": {},
   "outputs": [
    {
     "name": "stderr",
     "output_type": "stream",
     "text": [
      "2022-06-05 18:34:02.458611: I tensorflow/stream_executor/platform/default/dso_loader.cc:49] Successfully opened dynamic library libcudart.so.10.1\n"
     ]
    }
   ],
   "source": [
    "import tensorflow as tf\n",
    "import tensorflow_addons as tfa\n",
    "\n",
    "from tensorflow.keras.datasets import mnist\n",
    "from tensorflow.keras.models import Sequential\n",
    "from tensorflow.keras.layers import Dense, Dropout, Flatten\n",
    "\n",
    "import tqdm\n",
    "\n",
    "# quietly deep-reload tqdm\n",
    "import sys\n",
    "from IPython.lib import deepreload \n",
    "\n",
    "stdout = sys.stdout\n",
    "sys.stdout = open('junk','w')\n",
    "deepreload.reload(tqdm)\n",
    "sys.stdout = stdout\n",
    "\n",
    "tqdm.__version__"
   ]
  },
  {
   "cell_type": "code",
   "execution_count": null,
   "id": "a0673070",
   "metadata": {},
   "outputs": [],
   "source": []
  },
  {
   "cell_type": "markdown",
   "id": "05e22cbc",
   "metadata": {},
   "source": [
    "# 데이터 가져오기 및 정규화"
   ]
  },
  {
   "cell_type": "code",
   "execution_count": null,
   "id": "9e45add2",
   "metadata": {},
   "outputs": [],
   "source": [
    "# the data, split between train and test sets\n",
    "(x_train, y_train), (x_test, y_test) = mnist.load_data()\n",
    "# normalize data\n",
    "x_train, x_test = x_train / 255.0, x_test / 255.0"
   ]
  },
  {
   "cell_type": "markdown",
   "id": "15838072",
   "metadata": {},
   "source": [
    "# 간단한 MNIST CNN 모델 빌드하기"
   ]
  },
  {
   "cell_type": "code",
   "execution_count": null,
   "id": "cbce9a92",
   "metadata": {},
   "outputs": [],
   "source": [
    "# build the model using the Sequential API\n",
    "model = Sequential()\n",
    "model.add(Flatten(input_shape=(28, 28)))\n",
    "model.add(Dense(128, activation='relu'))\n",
    "model.add(Dropout(0.2))\n",
    "model.add(Dense(10, activation='softmax'))\n",
    "\n",
    "model.compile(optimizer='adam',\n",
    "              loss = 'sparse_categorical_crossentropy',\n",
    "              metrics=['accuracy'])"
   ]
  },
  {
   "cell_type": "markdown",
   "id": "8f2a1224",
   "metadata": {},
   "source": [
    "# 기본 TQDMCallback 사용법"
   ]
  },
  {
   "cell_type": "code",
   "execution_count": null,
   "id": "c5040c48",
   "metadata": {},
   "outputs": [],
   "source": [
    "# initialize tqdm callback with default parameters\n",
    "tqdm_callback = tfa.callbacks.TQDMProgressBar()\n",
    "\n",
    "# train the model with tqdm_callback\n",
    "# make sure to set verbose = 0 to disable\n",
    "# the default progress bar.\n",
    "model.fit(x_train, y_train,\n",
    "          batch_size=64,\n",
    "          epochs=10,\n",
    "          verbose=0,\n",
    "          callbacks=[tqdm_callback],\n",
    "          validation_data=(x_test, y_test))"
   ]
  },
  {
   "cell_type": "code",
   "execution_count": null,
   "id": "d0843b5a",
   "metadata": {},
   "outputs": [],
   "source": [
    "# TQDMProgressBar() also works with evaluate()\n",
    "model.evaluate(x_test, y_test, batch_size=64, callbacks=[tqdm_callback], verbose=0)"
   ]
  }
 ],
 "metadata": {
  "kernelspec": {
   "display_name": "Python 3 (ipykernel)",
   "language": "python",
   "name": "python3"
  },
  "language_info": {
   "codemirror_mode": {
    "name": "ipython",
    "version": 3
   },
   "file_extension": ".py",
   "mimetype": "text/x-python",
   "name": "python",
   "nbconvert_exporter": "python",
   "pygments_lexer": "ipython3",
   "version": "3.8.2"
  },
  "toc": {
   "base_numbering": 1,
   "nav_menu": {},
   "number_sections": true,
   "sideBar": true,
   "skip_h1_title": false,
   "title_cell": "Table of Contents",
   "title_sidebar": "Contents",
   "toc_cell": false,
   "toc_position": {},
   "toc_section_display": true,
   "toc_window_display": false
  }
 },
 "nbformat": 4,
 "nbformat_minor": 5
}
