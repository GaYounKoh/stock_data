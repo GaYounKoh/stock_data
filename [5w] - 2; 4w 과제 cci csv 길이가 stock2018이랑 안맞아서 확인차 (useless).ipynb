{
 "cells": [
  {
   "cell_type": "code",
   "execution_count": 1,
   "id": "64cbb9ff",
   "metadata": {},
   "outputs": [],
   "source": [
    "import pandas as pd\n",
    "import numpy as np\n",
    "from IPython.core.interactiveshell import InteractiveShell\n",
    "InteractiveShell.ast_node_interactivity = \"all\""
   ]
  },
  {
   "cell_type": "code",
   "execution_count": 2,
   "id": "8ba9d938",
   "metadata": {},
   "outputs": [],
   "source": [
    "s17_re = pd.read_csv('s17_re.csv')"
   ]
  },
  {
   "cell_type": "code",
   "execution_count": 4,
   "id": "4913e618",
   "metadata": {},
   "outputs": [],
   "source": [
    "s18 = pd.read_csv('stock_2018.csv')"
   ]
  },
  {
   "cell_type": "code",
   "execution_count": 10,
   "id": "2a67e8f5",
   "metadata": {},
   "outputs": [
    {
     "data": {
      "text/plain": [
       "0"
      ]
     },
     "execution_count": 10,
     "metadata": {},
     "output_type": "execute_result"
    }
   ],
   "source": [
    "(s18['Date'].str.contains('2017-').values == 1).sum()"
   ]
  },
  {
   "cell_type": "code",
   "execution_count": 11,
   "id": "7dbd4793",
   "metadata": {},
   "outputs": [
    {
     "data": {
      "text/plain": [
       "Index(['Date', 'Code', 'Open', 'High', 'Low', 'Close', 'Volume', 'Change'], dtype='object')"
      ]
     },
     "execution_count": 11,
     "metadata": {},
     "output_type": "execute_result"
    },
    {
     "data": {
      "text/html": [
       "<div>\n",
       "<style scoped>\n",
       "    .dataframe tbody tr th:only-of-type {\n",
       "        vertical-align: middle;\n",
       "    }\n",
       "\n",
       "    .dataframe tbody tr th {\n",
       "        vertical-align: top;\n",
       "    }\n",
       "\n",
       "    .dataframe thead th {\n",
       "        text-align: right;\n",
       "    }\n",
       "</style>\n",
       "<table border=\"1\" class=\"dataframe\">\n",
       "  <thead>\n",
       "    <tr style=\"text-align: right;\">\n",
       "      <th></th>\n",
       "      <th>Code</th>\n",
       "      <th>Date</th>\n",
       "      <th>Open</th>\n",
       "      <th>High</th>\n",
       "      <th>Low</th>\n",
       "      <th>Close</th>\n",
       "      <th>Volume</th>\n",
       "      <th>Change</th>\n",
       "    </tr>\n",
       "  </thead>\n",
       "  <tbody>\n",
       "    <tr>\n",
       "      <th>0</th>\n",
       "      <td>20</td>\n",
       "      <td>2017-11-01</td>\n",
       "      <td>8850</td>\n",
       "      <td>9170</td>\n",
       "      <td>8840</td>\n",
       "      <td>9170</td>\n",
       "      <td>115335</td>\n",
       "      <td>0.037330</td>\n",
       "    </tr>\n",
       "    <tr>\n",
       "      <th>1</th>\n",
       "      <td>20</td>\n",
       "      <td>2017-11-02</td>\n",
       "      <td>9170</td>\n",
       "      <td>9180</td>\n",
       "      <td>9030</td>\n",
       "      <td>9100</td>\n",
       "      <td>68630</td>\n",
       "      <td>-0.007634</td>\n",
       "    </tr>\n",
       "    <tr>\n",
       "      <th>2</th>\n",
       "      <td>20</td>\n",
       "      <td>2017-11-03</td>\n",
       "      <td>9080</td>\n",
       "      <td>9270</td>\n",
       "      <td>9070</td>\n",
       "      <td>9240</td>\n",
       "      <td>117255</td>\n",
       "      <td>0.015385</td>\n",
       "    </tr>\n",
       "    <tr>\n",
       "      <th>3</th>\n",
       "      <td>20</td>\n",
       "      <td>2017-11-06</td>\n",
       "      <td>9300</td>\n",
       "      <td>9500</td>\n",
       "      <td>9270</td>\n",
       "      <td>9490</td>\n",
       "      <td>369895</td>\n",
       "      <td>0.027056</td>\n",
       "    </tr>\n",
       "    <tr>\n",
       "      <th>4</th>\n",
       "      <td>20</td>\n",
       "      <td>2017-11-07</td>\n",
       "      <td>9500</td>\n",
       "      <td>9530</td>\n",
       "      <td>9260</td>\n",
       "      <td>9340</td>\n",
       "      <td>166998</td>\n",
       "      <td>-0.015806</td>\n",
       "    </tr>\n",
       "    <tr>\n",
       "      <th>...</th>\n",
       "      <td>...</td>\n",
       "      <td>...</td>\n",
       "      <td>...</td>\n",
       "      <td>...</td>\n",
       "      <td>...</td>\n",
       "      <td>...</td>\n",
       "      <td>...</td>\n",
       "      <td>...</td>\n",
       "    </tr>\n",
       "    <tr>\n",
       "      <th>461749</th>\n",
       "      <td>950160</td>\n",
       "      <td>2017-12-21</td>\n",
       "      <td>44650</td>\n",
       "      <td>46150</td>\n",
       "      <td>43500</td>\n",
       "      <td>43500</td>\n",
       "      <td>1077534</td>\n",
       "      <td>-0.003436</td>\n",
       "    </tr>\n",
       "    <tr>\n",
       "      <th>461750</th>\n",
       "      <td>950160</td>\n",
       "      <td>2017-12-22</td>\n",
       "      <td>44350</td>\n",
       "      <td>45250</td>\n",
       "      <td>43600</td>\n",
       "      <td>44500</td>\n",
       "      <td>816742</td>\n",
       "      <td>0.022989</td>\n",
       "    </tr>\n",
       "    <tr>\n",
       "      <th>461751</th>\n",
       "      <td>950160</td>\n",
       "      <td>2017-12-26</td>\n",
       "      <td>44200</td>\n",
       "      <td>46800</td>\n",
       "      <td>44200</td>\n",
       "      <td>45250</td>\n",
       "      <td>960367</td>\n",
       "      <td>0.016854</td>\n",
       "    </tr>\n",
       "    <tr>\n",
       "      <th>461752</th>\n",
       "      <td>950160</td>\n",
       "      <td>2017-12-27</td>\n",
       "      <td>46600</td>\n",
       "      <td>49500</td>\n",
       "      <td>46100</td>\n",
       "      <td>49500</td>\n",
       "      <td>1324792</td>\n",
       "      <td>0.093923</td>\n",
       "    </tr>\n",
       "    <tr>\n",
       "      <th>461753</th>\n",
       "      <td>950160</td>\n",
       "      <td>2017-12-28</td>\n",
       "      <td>51100</td>\n",
       "      <td>53300</td>\n",
       "      <td>50200</td>\n",
       "      <td>51800</td>\n",
       "      <td>1587974</td>\n",
       "      <td>0.046465</td>\n",
       "    </tr>\n",
       "  </tbody>\n",
       "</table>\n",
       "<p>461754 rows × 8 columns</p>\n",
       "</div>"
      ],
      "text/plain": [
       "          Code        Date   Open   High    Low  Close   Volume    Change\n",
       "0           20  2017-11-01   8850   9170   8840   9170   115335  0.037330\n",
       "1           20  2017-11-02   9170   9180   9030   9100    68630 -0.007634\n",
       "2           20  2017-11-03   9080   9270   9070   9240   117255  0.015385\n",
       "3           20  2017-11-06   9300   9500   9270   9490   369895  0.027056\n",
       "4           20  2017-11-07   9500   9530   9260   9340   166998 -0.015806\n",
       "...        ...         ...    ...    ...    ...    ...      ...       ...\n",
       "461749  950160  2017-12-21  44650  46150  43500  43500  1077534 -0.003436\n",
       "461750  950160  2017-12-22  44350  45250  43600  44500   816742  0.022989\n",
       "461751  950160  2017-12-26  44200  46800  44200  45250   960367  0.016854\n",
       "461752  950160  2017-12-27  46600  49500  46100  49500  1324792  0.093923\n",
       "461753  950160  2017-12-28  51100  53300  50200  51800  1587974  0.046465\n",
       "\n",
       "[461754 rows x 8 columns]"
      ]
     },
     "execution_count": 11,
     "metadata": {},
     "output_type": "execute_result"
    }
   ],
   "source": [
    "s17_re.columns\n",
    "\n",
    "s_all = pd.concat([s17_re,s18[s17_re.columns]])\n",
    "s_all = s_all.sort_values(['Code', 'Date']).reset_index(drop = True)[['Code', 'Date', 'Open', 'High', 'Low', 'Close', 'Volume', 'Change']] # code, date로 정렬\n",
    "s_all"
   ]
  },
  {
   "cell_type": "code",
   "execution_count": 29,
   "id": "a4582720",
   "metadata": {},
   "outputs": [
    {
     "data": {
      "text/plain": [
       "449806"
      ]
     },
     "execution_count": 29,
     "metadata": {},
     "output_type": "execute_result"
    },
    {
     "data": {
      "text/plain": [
       "5257"
      ]
     },
     "execution_count": 29,
     "metadata": {},
     "output_type": "execute_result"
    }
   ],
   "source": [
    "# 고려해야할 사항\n",
    "# 상장년도가 18년\n",
    "# 마지막 거래된 년도가 17년\n",
    "\n",
    "461754 - 11948 # == 440806은 이번 주피터에서의 s_all 이란 df의 길이 \n",
    "\n",
    "449806 - 444549 # 444549는 이전 주피터에서의 s_all_cp (stock1718_clean으로 저장되는.. 17년도가 마지막 거래년도였던 애들을 뺀...) 이란 df 길이"
   ]
  },
  {
   "cell_type": "code",
   "execution_count": 65,
   "id": "d5c9daa0",
   "metadata": {},
   "outputs": [
    {
     "data": {
      "text/plain": [
       "array([    20,     40,     50, ..., 950130, 950140, 950160])"
      ]
     },
     "execution_count": 65,
     "metadata": {},
     "output_type": "execute_result"
    },
    {
     "data": {
      "text/plain": [
       "Code\n",
       "20        False\n",
       "40        False\n",
       "50        False\n",
       "60        False\n",
       "70        False\n",
       "          ...  \n",
       "900310     True\n",
       "950110    False\n",
       "950130    False\n",
       "950140     True\n",
       "950160     True\n",
       "Name: Date, Length: 1993, dtype: bool"
      ]
     },
     "execution_count": 65,
     "metadata": {},
     "output_type": "execute_result"
    },
    {
     "data": {
      "text/plain": [
       "432"
      ]
     },
     "execution_count": 65,
     "metadata": {},
     "output_type": "execute_result"
    }
   ],
   "source": [
    "s_all['Code'].unique()\n",
    "# s_all.groupby('Code').max('Date')\n",
    "(s_all.groupby('Code')['Date'].max().str.contains('2017-')==1)\n",
    "\n",
    "len(s_all['Code'].unique()[s_all.groupby('Code')['Date'].max().str.contains('2017-')==1])\n",
    "del_cd_nms = s_all['Code'].unique()[s_all.groupby('Code')['Date'].max().str.contains('2017-')==1]\n",
    "\n",
    "# s_all[s_all.groupby('Code')['Date'].max('Date')] # 이전 주피터에서 막 이런 식으러 했던 이건 틀림;;;\n",
    "# ['Date'].str.contains('2017-').values == 1"
   ]
  },
  {
   "cell_type": "markdown",
   "id": "06de78c1",
   "metadata": {},
   "source": [
    "# del_cd_nms에 18년도에도 있는 cd가 포함돼있는지 여부 확인 cell"
   ]
  },
  {
   "cell_type": "code",
   "execution_count": 75,
   "id": "1e243ef1",
   "metadata": {},
   "outputs": [],
   "source": [
    "for i in del_cd_nms:\n",
    "#     s_all[s_all['Code'] == i]['Date'].str.contains('2018-')==1\n",
    "    if (s_all[s_all['Code'] == i]['Date'].str.contains('2018-')).sum()>0:\n",
    "        print(i)\n",
    "# 출력된게 없는걸봐선 17이 마지막인 코드 중에 18을 포함하는건 없단소린데....."
   ]
  },
  {
   "cell_type": "code",
   "execution_count": 27,
   "id": "1f690802",
   "metadata": {},
   "outputs": [
    {
     "data": {
      "text/plain": [
       "array([    20,     40,     50, ..., 950130, 950140, 950160])"
      ]
     },
     "execution_count": 27,
     "metadata": {},
     "output_type": "execute_result"
    },
    {
     "data": {
      "text/plain": [
       "1993"
      ]
     },
     "execution_count": 27,
     "metadata": {},
     "output_type": "execute_result"
    },
    {
     "data": {
      "text/plain": [
       "array([    20,     40,     50, ..., 950130, 950140, 950160])"
      ]
     },
     "execution_count": 27,
     "metadata": {},
     "output_type": "execute_result"
    },
    {
     "data": {
      "text/plain": [
       "1992"
      ]
     },
     "execution_count": 27,
     "metadata": {},
     "output_type": "execute_result"
    },
    {
     "data": {
      "text/plain": [
       "Int64Index([    35,     36,     37,     38,     39,     40,    320,    321,\n",
       "               322,    323,\n",
       "            ...\n",
       "            461712, 461713, 461714, 461715, 461748, 461749, 461750, 461751,\n",
       "            461752, 461753],\n",
       "           dtype='int64', length=11948)"
      ]
     },
     "execution_count": 27,
     "metadata": {},
     "output_type": "execute_result"
    }
   ],
   "source": [
    "s_all['Code'].unique()\n",
    "s_all['Code'].nunique()\n",
    "s_all['Code'][s_all['Date'].str.contains('2017-12-2').values == 1].unique()#.groupby('Code').max('Date')\n",
    "s_all['Code'][s_all['Date'].str.contains('2017-12-2').values == 1].nunique()\n",
    "\n",
    "s_all['Code'][s_all['Date'].str.contains('2017-12-2').values == 1].index # 이건 그냥 '2017-12-2가 들어있는 date가 있는 idx들이고...'"
   ]
  },
  {
   "cell_type": "code",
   "execution_count": null,
   "id": "93699e8d",
   "metadata": {},
   "outputs": [],
   "source": []
  },
  {
   "cell_type": "code",
   "execution_count": null,
   "id": "6a14edec",
   "metadata": {},
   "outputs": [],
   "source": [
    "df = pd.DataFrame(M_lst, columns = ['AP'])\n",
    "df['SMA'] = df['AP'].rolling(20).mean()\n",
    "df['ADV'] = df['AP'].rolling(20).apply(lambda x:pd.Series(x).mad())\n",
    "df['CCI'] = (df['AP'] - df['SMA']) / (0.015 * df['ADV'])\n",
    "df"
   ]
  }
 ],
 "metadata": {
  "kernelspec": {
   "display_name": "Python 3",
   "language": "python",
   "name": "python3"
  },
  "language_info": {
   "codemirror_mode": {
    "name": "ipython",
    "version": 3
   },
   "file_extension": ".py",
   "mimetype": "text/x-python",
   "name": "python",
   "nbconvert_exporter": "python",
   "pygments_lexer": "ipython3",
   "version": "3.8.5"
  },
  "latex_envs": {
   "LaTeX_envs_menu_present": true,
   "autoclose": false,
   "autocomplete": true,
   "bibliofile": "biblio.bib",
   "cite_by": "apalike",
   "current_citInitial": 1,
   "eqLabelWithNumbers": true,
   "eqNumInitial": 1,
   "hotkeys": {
    "equation": "Ctrl-E",
    "itemize": "Ctrl-I"
   },
   "labels_anchors": false,
   "latex_user_defs": false,
   "report_style_numbering": false,
   "user_envs_cfg": false
  },
  "toc": {
   "base_numbering": 1,
   "nav_menu": {},
   "number_sections": true,
   "sideBar": true,
   "skip_h1_title": false,
   "title_cell": "Table of Contents",
   "title_sidebar": "Contents",
   "toc_cell": false,
   "toc_position": {},
   "toc_section_display": true,
   "toc_window_display": false
  }
 },
 "nbformat": 4,
 "nbformat_minor": 5
}
