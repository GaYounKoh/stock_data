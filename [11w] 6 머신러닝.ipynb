{
 "cells": [
  {
   "cell_type": "markdown",
   "id": "164f0530",
   "metadata": {
    "toc": true
   },
   "source": [
    "<h1>Table of Contents<span class=\"tocSkip\"></span></h1>\n",
    "<div class=\"toc\"><ul class=\"toc-item\"><li><span><a href=\"#library\" data-toc-modified-id=\"library-1\"><span class=\"toc-item-num\">1&nbsp;&nbsp;</span>library</a></span></li><li><span><a href=\"#data-load-및-classification-전처리\" data-toc-modified-id=\"data-load-및-classification-전처리-2\"><span class=\"toc-item-num\">2&nbsp;&nbsp;</span>data load 및 classification 전처리</a></span><ul class=\"toc-item\"><li><span><a href=\"#data-load\" data-toc-modified-id=\"data-load-2.1\"><span class=\"toc-item-num\">2.1&nbsp;&nbsp;</span>data load</a></span></li><li><span><a href=\"#data-전처리\" data-toc-modified-id=\"data-전처리-2.2\"><span class=\"toc-item-num\">2.2&nbsp;&nbsp;</span>data 전처리</a></span></li></ul></li><li><span><a href=\"#머신러닝-K-fold-교차-검증(cross-validation)\" data-toc-modified-id=\"머신러닝-K-fold-교차-검증(cross-validation)-3\"><span class=\"toc-item-num\">3&nbsp;&nbsp;</span>머신러닝 K-fold 교차 검증(cross validation)</a></span><ul class=\"toc-item\"><li><span><a href=\"#교차검증-결과-종합\" data-toc-modified-id=\"교차검증-결과-종합-3.1\"><span class=\"toc-item-num\">3.1&nbsp;&nbsp;</span>교차검증 결과 종합</a></span></li></ul></li></ul></div>"
   ]
  },
  {
   "cell_type": "markdown",
   "id": "99ff5367",
   "metadata": {},
   "source": [
    "# library"
   ]
  },
  {
   "cell_type": "code",
   "execution_count": 2,
   "id": "7aa131c4",
   "metadata": {},
   "outputs": [
    {
     "name": "stdout",
     "output_type": "stream",
     "text": [
      "matplotlib version: 3.4.2\n",
      "seaborn version: 0.11.1\n",
      "[]\n"
     ]
    }
   ],
   "source": [
    "import pandas as pd\n",
    "from IPython.core.interactiveshell import InteractiveShell\n",
    "InteractiveShell.ast_node_interactivity = \"all\"\n",
    "\n",
    "import os\n",
    "import FinanceDataReader as fdr\n",
    "\n",
    "import datetime as dt\n",
    "\n",
    "import numpy as np\n",
    "\n",
    "from tqdm import tqdm #진행바\n",
    "from tqdm.notebook import tqdm\n",
    "\n",
    "#시각화 라이브러리\n",
    "import matplotlib as mpl\n",
    "import matplotlib.pyplot as plt\n",
    "print(\"matplotlib version: {}\". format(mpl.__version__))\n",
    "\n",
    "import seaborn as sns\n",
    "print(\"seaborn version: {}\". format(sns.__version__))\n",
    "\n",
    "\n",
    "#한글설정\n",
    "import matplotlib.font_manager as fm\n",
    "\n",
    "font_dirs = ['/usr/share/fonts/truetype/nanum', ]\n",
    "font_files = fm.findSystemFonts(fontpaths=font_dirs)\n",
    "\n",
    "for font_file in font_files:\n",
    "    fm.fontManager.addfont(font_file)\n",
    "    \n",
    "# 한글 출력을 위해서 폰트 옵션을 설정합니다.\n",
    "# \"axes.unicode_minus\" : 마이너스가 깨질 것을 방지\n",
    "\n",
    "sns.set(font=\"NanumBarunGothic\", \n",
    "        rc={\"axes.unicode_minus\":False},\n",
    "        style='darkgrid')\n",
    "\n",
    "\n",
    "import warnings\n",
    "warnings.filterwarnings('ignore')\n",
    "\n",
    "# GPU\n",
    "import tensorflow as tf\n",
    "\n",
    "#https://www.tensorflow.org/guide/gpu#allowing_gpu_memory_growth\n",
    "#프로세스의 요구량만큼 메모리 사용 설정\n",
    "gpus = tf.config.experimental.list_physical_devices('GPU')\n",
    "print(gpus)\n",
    "if gpus:\n",
    "    try:\n",
    "        for i in range(len(gpus)):\n",
    "            tf.config.experimental.set_memory_growth(gpus[i], True)\n",
    "    except RuntimeError as e:\n",
    "        # 프로그램 시작시에 메모리 증가가 설정되어야만 합니다\n",
    "        print(e)\n",
    "        \n",
    "#지정해서 쓰고 싶으면 model 쓸 때는 with 구문 안에 넣기"
   ]
  },
  {
   "cell_type": "markdown",
   "id": "54c90c41",
   "metadata": {},
   "source": [
    "# data load 및 classification 전처리"
   ]
  },
  {
   "cell_type": "markdown",
   "id": "f3afeee0",
   "metadata": {},
   "source": [
    "## data load"
   ]
  },
  {
   "cell_type": "code",
   "execution_count": 3,
   "id": "a550ef4d",
   "metadata": {},
   "outputs": [],
   "source": [
    "df = pd.read_csv('fin_df.csv')"
   ]
  },
  {
   "cell_type": "code",
   "execution_count": 4,
   "id": "b59b6576",
   "metadata": {},
   "outputs": [
    {
     "data": {
      "text/html": [
       "<div>\n",
       "<style scoped>\n",
       "    .dataframe tbody tr th:only-of-type {\n",
       "        vertical-align: middle;\n",
       "    }\n",
       "\n",
       "    .dataframe tbody tr th {\n",
       "        vertical-align: top;\n",
       "    }\n",
       "\n",
       "    .dataframe thead th {\n",
       "        text-align: right;\n",
       "    }\n",
       "</style>\n",
       "<table border=\"1\" class=\"dataframe\">\n",
       "  <thead>\n",
       "    <tr style=\"text-align: right;\">\n",
       "      <th></th>\n",
       "      <th>code</th>\n",
       "      <th>date</th>\n",
       "      <th>D-9_open</th>\n",
       "      <th>D-9_high</th>\n",
       "      <th>D-9_low</th>\n",
       "      <th>D-9_close</th>\n",
       "      <th>D-9_volume</th>\n",
       "      <th>D-9_tradingvalue</th>\n",
       "      <th>D-9_change</th>\n",
       "      <th>D-9_ma_5</th>\n",
       "      <th>...</th>\n",
       "      <th>D-0_TSI</th>\n",
       "      <th>D-0_UO</th>\n",
       "      <th>D-0_SR</th>\n",
       "      <th>D-0_WR</th>\n",
       "      <th>D-0_AO</th>\n",
       "      <th>D-0_KAMA</th>\n",
       "      <th>D-0_ROC</th>\n",
       "      <th>D-0_PPO</th>\n",
       "      <th>D-0_PVO</th>\n",
       "      <th>next_change</th>\n",
       "    </tr>\n",
       "  </thead>\n",
       "  <tbody>\n",
       "    <tr>\n",
       "      <th>0</th>\n",
       "      <td>10</td>\n",
       "      <td>19960920</td>\n",
       "      <td>1.003477</td>\n",
       "      <td>1.011599</td>\n",
       "      <td>1.000000</td>\n",
       "      <td>1.004618</td>\n",
       "      <td>17585</td>\n",
       "      <td>666446300</td>\n",
       "      <td>0.46</td>\n",
       "      <td>0.998593</td>\n",
       "      <td>...</td>\n",
       "      <td>9.148998</td>\n",
       "      <td>48.350147</td>\n",
       "      <td>31.747185</td>\n",
       "      <td>-68.252815</td>\n",
       "      <td>570.800000</td>\n",
       "      <td>0.989047</td>\n",
       "      <td>-3.823007</td>\n",
       "      <td>0.554780</td>\n",
       "      <td>4.094900</td>\n",
       "      <td>3.13</td>\n",
       "    </tr>\n",
       "    <tr>\n",
       "      <th>1</th>\n",
       "      <td>10</td>\n",
       "      <td>19961001</td>\n",
       "      <td>0.996490</td>\n",
       "      <td>1.010529</td>\n",
       "      <td>0.996490</td>\n",
       "      <td>1.010529</td>\n",
       "      <td>16636</td>\n",
       "      <td>622768400</td>\n",
       "      <td>1.05</td>\n",
       "      <td>1.003510</td>\n",
       "      <td>...</td>\n",
       "      <td>15.743477</td>\n",
       "      <td>54.854891</td>\n",
       "      <td>42.860061</td>\n",
       "      <td>-57.139939</td>\n",
       "      <td>1756.379412</td>\n",
       "      <td>0.951496</td>\n",
       "      <td>0.587415</td>\n",
       "      <td>1.295706</td>\n",
       "      <td>74.523403</td>\n",
       "      <td>0.23</td>\n",
       "    </tr>\n",
       "    <tr>\n",
       "      <th>2</th>\n",
       "      <td>10</td>\n",
       "      <td>19961007</td>\n",
       "      <td>0.996389</td>\n",
       "      <td>1.036139</td>\n",
       "      <td>0.981917</td>\n",
       "      <td>1.031315</td>\n",
       "      <td>24493</td>\n",
       "      <td>889436100</td>\n",
       "      <td>3.13</td>\n",
       "      <td>1.027704</td>\n",
       "      <td>...</td>\n",
       "      <td>3.767677</td>\n",
       "      <td>45.085356</td>\n",
       "      <td>44.637385</td>\n",
       "      <td>-55.362615</td>\n",
       "      <td>273.105882</td>\n",
       "      <td>1.030453</td>\n",
       "      <td>-0.347305</td>\n",
       "      <td>0.317907</td>\n",
       "      <td>27.495080</td>\n",
       "      <td>-2.33</td>\n",
       "    </tr>\n",
       "    <tr>\n",
       "      <th>3</th>\n",
       "      <td>10</td>\n",
       "      <td>19961129</td>\n",
       "      <td>0.947446</td>\n",
       "      <td>0.992123</td>\n",
       "      <td>0.947446</td>\n",
       "      <td>0.965846</td>\n",
       "      <td>10401</td>\n",
       "      <td>338695300</td>\n",
       "      <td>-3.42</td>\n",
       "      <td>0.961889</td>\n",
       "      <td>...</td>\n",
       "      <td>-39.769427</td>\n",
       "      <td>35.240071</td>\n",
       "      <td>25.167315</td>\n",
       "      <td>-74.832685</td>\n",
       "      <td>-3852.747059</td>\n",
       "      <td>1.045304</td>\n",
       "      <td>-9.317422</td>\n",
       "      <td>-4.774196</td>\n",
       "      <td>15.166891</td>\n",
       "      <td>-0.31</td>\n",
       "    </tr>\n",
       "    <tr>\n",
       "      <th>4</th>\n",
       "      <td>10</td>\n",
       "      <td>19961203</td>\n",
       "      <td>0.987512</td>\n",
       "      <td>1.006959</td>\n",
       "      <td>0.973625</td>\n",
       "      <td>0.979186</td>\n",
       "      <td>15542</td>\n",
       "      <td>484923300</td>\n",
       "      <td>-2.08</td>\n",
       "      <td>1.014173</td>\n",
       "      <td>...</td>\n",
       "      <td>-45.075455</td>\n",
       "      <td>36.539789</td>\n",
       "      <td>3.296207</td>\n",
       "      <td>-96.703793</td>\n",
       "      <td>-3866.444118</td>\n",
       "      <td>1.011865</td>\n",
       "      <td>-16.326848</td>\n",
       "      <td>-5.452434</td>\n",
       "      <td>15.938344</td>\n",
       "      <td>-3.90</td>\n",
       "    </tr>\n",
       "  </tbody>\n",
       "</table>\n",
       "<p>5 rows × 543 columns</p>\n",
       "</div>"
      ],
      "text/plain": [
       "  code      date  D-9_open  D-9_high   D-9_low  D-9_close  D-9_volume  \\\n",
       "0   10  19960920  1.003477  1.011599  1.000000   1.004618       17585   \n",
       "1   10  19961001  0.996490  1.010529  0.996490   1.010529       16636   \n",
       "2   10  19961007  0.996389  1.036139  0.981917   1.031315       24493   \n",
       "3   10  19961129  0.947446  0.992123  0.947446   0.965846       10401   \n",
       "4   10  19961203  0.987512  1.006959  0.973625   0.979186       15542   \n",
       "\n",
       "   D-9_tradingvalue  D-9_change  D-9_ma_5  ...    D-0_TSI     D-0_UO  \\\n",
       "0         666446300        0.46  0.998593  ...   9.148998  48.350147   \n",
       "1         622768400        1.05  1.003510  ...  15.743477  54.854891   \n",
       "2         889436100        3.13  1.027704  ...   3.767677  45.085356   \n",
       "3         338695300       -3.42  0.961889  ... -39.769427  35.240071   \n",
       "4         484923300       -2.08  1.014173  ... -45.075455  36.539789   \n",
       "\n",
       "      D-0_SR     D-0_WR       D-0_AO  D-0_KAMA    D-0_ROC   D-0_PPO  \\\n",
       "0  31.747185 -68.252815   570.800000  0.989047  -3.823007  0.554780   \n",
       "1  42.860061 -57.139939  1756.379412  0.951496   0.587415  1.295706   \n",
       "2  44.637385 -55.362615   273.105882  1.030453  -0.347305  0.317907   \n",
       "3  25.167315 -74.832685 -3852.747059  1.045304  -9.317422 -4.774196   \n",
       "4   3.296207 -96.703793 -3866.444118  1.011865 -16.326848 -5.452434   \n",
       "\n",
       "     D-0_PVO  next_change  \n",
       "0   4.094900         3.13  \n",
       "1  74.523403         0.23  \n",
       "2  27.495080        -2.33  \n",
       "3  15.166891        -0.31  \n",
       "4  15.938344        -3.90  \n",
       "\n",
       "[5 rows x 543 columns]"
      ]
     },
     "execution_count": 4,
     "metadata": {},
     "output_type": "execute_result"
    }
   ],
   "source": [
    "df.head()"
   ]
  },
  {
   "cell_type": "code",
   "execution_count": 5,
   "id": "eb37c3a3",
   "metadata": {},
   "outputs": [
    {
     "data": {
      "text/plain": [
       "(1132308, 543)"
      ]
     },
     "execution_count": 5,
     "metadata": {},
     "output_type": "execute_result"
    }
   ],
   "source": [
    "df.shape"
   ]
  },
  {
   "cell_type": "markdown",
   "id": "470054c4",
   "metadata": {},
   "source": [
    "## data 전처리"
   ]
  },
  {
   "cell_type": "code",
   "execution_count": 6,
   "id": "d43c6a7e",
   "metadata": {},
   "outputs": [],
   "source": [
    "df['next_change'] = np.where(df['next_change']>0.05, 1, 0)"
   ]
  },
  {
   "cell_type": "markdown",
   "id": "fb6921ee",
   "metadata": {},
   "source": [
    "# 머신러닝 K-fold 교차 검증(cross validation)\n",
    "데이터를 5-fold 교차검증으로 8개 모델을 학습하고 예측하여 평가한다."
   ]
  },
  {
   "cell_type": "code",
   "execution_count": 9,
   "id": "9ac57de1",
   "metadata": {},
   "outputs": [],
   "source": [
    "from sklearn.model_selection import StratifiedShuffleSplit\n",
    "from sklearn.metrics import accuracy_score\n",
    "from sklearn.metrics import roc_auc_score\n",
    "from sklearn.dummy import DummyClassifier\n",
    "import time\n",
    "\n",
    "results=[]\n",
    "\n",
    "def classification(model_):\n",
    "    \n",
    "    ## data load 및 전처리\n",
    "    #df = pd.read_csv('fin_df.csv')\n",
    "    #df['next_change'] = np.where(df['next_change']>0.05, 1, 0)\n",
    "    \n",
    "    # data split X, y\n",
    "    X = df.iloc[:,2:-1] # code, date 뒤부터 nc 전까지\n",
    "    y = df.iloc[:,-1] # nc\n",
    "    i=0\n",
    "\n",
    "    # Cross Validation\n",
    "    sss = StratifiedShuffleSplit(n_splits=5, test_size=0.2, random_state=0)\n",
    "    for train_idx, test_idx in tqdm(sss.split(X,y)):\n",
    "        x_train = df.iloc[train_idx,2:-1]\n",
    "        y_train = df.iloc[train_idx,-1]\n",
    "        x_test = df.iloc[test_idx,2:-1]\n",
    "        y_test = df.iloc[test_idx,-1]\n",
    "        \n",
    "        _ = model_.fit(x_train, y_train)\n",
    "        \n",
    "        y_pred_train = model_.predict(x_train) \n",
    "        y_pred_test = model_.predict(x_test) # 예측\n",
    "        accuracy_train = accuracy_score(y_train, y_pred_train)\n",
    "        accuracy_test = accuracy_score(y_test, y_pred_test)\n",
    "        roc_auc = roc_auc_score(y_test, y_pred_test)\n",
    "        \n",
    "        dummy = DummyClassifier(strategy = 'stratified', random_state = 1) # strategy 옵션: 'stratified', 'uniform', 'most_frequent'\n",
    "        _ = dummy.fit(x_train, y_train)\n",
    "        dummy_score = dummy.score(x_test, y_test)\n",
    "        \n",
    "        results.append([i,f'{str(model)[:str(model).index(\"(\")]}',accuracy_train,accuracy_test, roc_auc, dummy_score])#, training_time\n",
    "        i+=1\n",
    "        \n",
    "        "
   ]
  },
  {
   "cell_type": "code",
   "execution_count": null,
   "id": "577bdee9",
   "metadata": {
    "scrolled": true
   },
   "outputs": [
    {
     "data": {
      "application/vnd.jupyter.widget-view+json": {
       "model_id": "ef7be4dde2174b78bf98535d64be8094",
       "version_major": 2,
       "version_minor": 0
      },
      "text/plain": [
       "0it [00:00, ?it/s]"
      ]
     },
     "metadata": {},
     "output_type": "display_data"
    },
    {
     "data": {
      "application/vnd.jupyter.widget-view+json": {
       "model_id": "784e24c25c5a494f995311a80b30df90",
       "version_major": 2,
       "version_minor": 0
      },
      "text/plain": [
       "0it [00:00, ?it/s]"
      ]
     },
     "metadata": {},
     "output_type": "display_data"
    }
   ],
   "source": [
    "%%time\n",
    "\n",
    "# 1. Logistic regression    \n",
    "from sklearn.linear_model import LogisticRegression\n",
    "model = LogisticRegression(max_iter=1000)\n",
    "temp = classification(model)\n",
    "\n",
    "\n",
    "# 2. Decision tree\n",
    "from sklearn.tree import DecisionTreeClassifier\n",
    "model = DecisionTreeClassifier()\n",
    "temp = classification(model)\n",
    "\n",
    "\n",
    "# 3. Support vector machine\n",
    "from sklearn.svm import SVC\n",
    "model = SVC()\n",
    "temp = classification(model)\n",
    "\n",
    "\n",
    "# 4. Gaussian naive bayes\n",
    "from sklearn.naive_bayes import GaussianNB\n",
    "model = GaussianNB()\n",
    "temp = classification(model)\n",
    "\n",
    "\n",
    "# 5. K nearest neighbor\n",
    "from sklearn.neighbors import KNeighborsClassifier\n",
    "model = KNeighborsClassifier()\n",
    "temp = classification(model)\n",
    "\n",
    "\n",
    "# 6. Random forest\n",
    "from sklearn.ensemble import RandomForestClassifier\n",
    "model = RandomForestClassifier()\n",
    "temp = classification(model)\n",
    "\n",
    "\n",
    "# 7. Gradient boosing\n",
    "from sklearn.ensemble import GradientBoostingClassifier\n",
    "model = GradientBoostingClassifier()\n",
    "temp = classification(model)\n",
    "\n",
    "\n",
    "# 8. Neural network\n",
    "from sklearn.neural_network import MLPClassifier\n",
    "model = MLPClassifier(max_iter=1000)\n",
    "temp = classification(model)\n",
    "\n",
    "\n",
    "# results\n",
    "# # 형태: i번째 학습, 학습 모델, train 정확도, test 정확도(최종정확도), roc_auc, dummy 학습에 걸린 시간"
   ]
  },
  {
   "cell_type": "markdown",
   "id": "3ccf5f3f",
   "metadata": {},
   "source": [
    "## 교차검증 결과 종합"
   ]
  },
  {
   "cell_type": "code",
   "execution_count": null,
   "id": "802ad3a0",
   "metadata": {},
   "outputs": [],
   "source": []
  }
 ],
 "metadata": {
  "kernelspec": {
   "display_name": "Python 3",
   "language": "python",
   "name": "python3"
  },
  "language_info": {
   "codemirror_mode": {
    "name": "ipython",
    "version": 3
   },
   "file_extension": ".py",
   "mimetype": "text/x-python",
   "name": "python",
   "nbconvert_exporter": "python",
   "pygments_lexer": "ipython3",
   "version": "3.8.5"
  },
  "latex_envs": {
   "LaTeX_envs_menu_present": true,
   "autoclose": false,
   "autocomplete": true,
   "bibliofile": "biblio.bib",
   "cite_by": "apalike",
   "current_citInitial": 1,
   "eqLabelWithNumbers": true,
   "eqNumInitial": 1,
   "hotkeys": {
    "equation": "Ctrl-E",
    "itemize": "Ctrl-I"
   },
   "labels_anchors": false,
   "latex_user_defs": false,
   "report_style_numbering": false,
   "user_envs_cfg": false
  },
  "toc": {
   "base_numbering": 1,
   "nav_menu": {},
   "number_sections": true,
   "sideBar": true,
   "skip_h1_title": false,
   "title_cell": "Table of Contents",
   "title_sidebar": "Contents",
   "toc_cell": true,
   "toc_position": {},
   "toc_section_display": true,
   "toc_window_display": true
  }
 },
 "nbformat": 4,
 "nbformat_minor": 5
}
