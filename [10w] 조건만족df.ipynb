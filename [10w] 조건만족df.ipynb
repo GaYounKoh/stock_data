{
 "cells": [
  {
   "cell_type": "markdown",
   "id": "bffdc348",
   "metadata": {
    "toc": true
   },
   "source": [
    "<h1>Table of Contents<span class=\"tocSkip\"></span></h1>\n",
    "<div class=\"toc\"><ul class=\"toc-item\"><li><span><a href=\"#library\" data-toc-modified-id=\"library-1\"><span class=\"toc-item-num\">1&nbsp;&nbsp;</span>library</a></span></li><li><span><a href=\"#data\" data-toc-modified-id=\"data-2\"><span class=\"toc-item-num\">2&nbsp;&nbsp;</span>data</a></span></li><li><span><a href=\"#with-open\" data-toc-modified-id=\"with-open-3\"><span class=\"toc-item-num\">3&nbsp;&nbsp;</span>with open</a></span><ul class=\"toc-item\"><li><span><a href=\"#lines의-총-길이-(file의-총-길이)\" data-toc-modified-id=\"lines의-총-길이-(file의-총-길이)-3.1\"><span class=\"toc-item-num\">3.1&nbsp;&nbsp;</span>lines의 총 길이 (file의 총 길이)</a></span></li><li><span><a href=\"#데이터-구성\" data-toc-modified-id=\"데이터-구성-3.2\"><span class=\"toc-item-num\">3.2&nbsp;&nbsp;</span>데이터 구성</a></span></li></ul></li><li><span><a href=\"#조건cd-:-uniq-cd-list\" data-toc-modified-id=\"조건cd-:-uniq-cd-list-4\"><span class=\"toc-item-num\">4&nbsp;&nbsp;</span>조건cd : uniq cd list</a></span></li><li><span><a href=\"#조건cd_dt:-key:-cd;-value:-dt-list\" data-toc-modified-id=\"조건cd_dt:-key:-cd;-value:-dt-list-5\"><span class=\"toc-item-num\">5&nbsp;&nbsp;</span>조건cd_dt: key: cd; value: dt list</a></span></li><li><span><a href=\"#df로-만들기\" data-toc-modified-id=\"df로-만들기-6\"><span class=\"toc-item-num\">6&nbsp;&nbsp;</span>df로 만들기</a></span><ul class=\"toc-item\"><li><span><a href=\"#저장\" data-toc-modified-id=\"저장-6.1\"><span class=\"toc-item-num\">6.1&nbsp;&nbsp;</span>저장</a></span></li></ul></li></ul></div>"
   ]
  },
  {
   "cell_type": "markdown",
   "id": "f15184a2",
   "metadata": {},
   "source": [
    "# library"
   ]
  },
  {
   "cell_type": "code",
   "execution_count": 2,
   "id": "dfb21d8a",
   "metadata": {},
   "outputs": [],
   "source": [
    "from tqdm import tqdm\n",
    "import pandas as pd\n",
    "import numpy as np\n",
    "# 경고메세지 끄기\n",
    "import warnings\n",
    "warnings.filterwarnings(action='ignore')\n",
    "\n",
    "from IPython.core.interactiveshell import InteractiveShell\n",
    "InteractiveShell.ast_node_interactivity = \"all\""
   ]
  },
  {
   "cell_type": "markdown",
   "id": "711f1b94",
   "metadata": {},
   "source": [
    "# data"
   ]
  },
  {
   "cell_type": "code",
   "execution_count": 3,
   "id": "d0c988c5",
   "metadata": {},
   "outputs": [
    {
     "data": {
      "text/plain": [
       "4551"
      ]
     },
     "execution_count": 3,
     "metadata": {},
     "output_type": "execute_result"
    },
    {
     "data": {
      "text/plain": [
       "array([10, 20, 30, ..., 950190, 950200, 950210], dtype=object)"
      ]
     },
     "execution_count": 3,
     "metadata": {},
     "output_type": "execute_result"
    }
   ],
   "source": [
    "df = pd.read_csv('/project/stock_data/stock.KOSPI.KOSDAQ.19960701to20220331.adjusted.datefilled.csv')\n",
    "df['code'].nunique()\n",
    "code = df['code'].unique()\n",
    "code"
   ]
  },
  {
   "cell_type": "code",
   "execution_count": 4,
   "id": "5c70640a",
   "metadata": {},
   "outputs": [
    {
     "data": {
      "text/html": [
       "<div>\n",
       "<style scoped>\n",
       "    .dataframe tbody tr th:only-of-type {\n",
       "        vertical-align: middle;\n",
       "    }\n",
       "\n",
       "    .dataframe tbody tr th {\n",
       "        vertical-align: top;\n",
       "    }\n",
       "\n",
       "    .dataframe thead th {\n",
       "        text-align: right;\n",
       "    }\n",
       "</style>\n",
       "<table border=\"1\" class=\"dataframe\">\n",
       "  <thead>\n",
       "    <tr style=\"text-align: right;\">\n",
       "      <th></th>\n",
       "      <th>date</th>\n",
       "      <th>code</th>\n",
       "      <th>open</th>\n",
       "      <th>high</th>\n",
       "      <th>low</th>\n",
       "      <th>close</th>\n",
       "      <th>volume</th>\n",
       "      <th>tradingvalue</th>\n",
       "      <th>change</th>\n",
       "    </tr>\n",
       "  </thead>\n",
       "  <tbody>\n",
       "    <tr>\n",
       "      <th>0</th>\n",
       "      <td>19960701</td>\n",
       "      <td>10</td>\n",
       "      <td>36496</td>\n",
       "      <td>37676</td>\n",
       "      <td>36496</td>\n",
       "      <td>37588</td>\n",
       "      <td>14499</td>\n",
       "      <td>542221500</td>\n",
       "      <td>1.18</td>\n",
       "    </tr>\n",
       "    <tr>\n",
       "      <th>1</th>\n",
       "      <td>19960702</td>\n",
       "      <td>10</td>\n",
       "      <td>37588</td>\n",
       "      <td>38462</td>\n",
       "      <td>37151</td>\n",
       "      <td>37938</td>\n",
       "      <td>30476</td>\n",
       "      <td>1153293600</td>\n",
       "      <td>0.93</td>\n",
       "    </tr>\n",
       "    <tr>\n",
       "      <th>2</th>\n",
       "      <td>19960703</td>\n",
       "      <td>10</td>\n",
       "      <td>38025</td>\n",
       "      <td>38025</td>\n",
       "      <td>37151</td>\n",
       "      <td>37719</td>\n",
       "      <td>18375</td>\n",
       "      <td>694638000</td>\n",
       "      <td>-0.58</td>\n",
       "    </tr>\n",
       "    <tr>\n",
       "      <th>3</th>\n",
       "      <td>19960704</td>\n",
       "      <td>10</td>\n",
       "      <td>37719</td>\n",
       "      <td>37938</td>\n",
       "      <td>37151</td>\n",
       "      <td>37370</td>\n",
       "      <td>22539</td>\n",
       "      <td>849041000</td>\n",
       "      <td>-0.93</td>\n",
       "    </tr>\n",
       "    <tr>\n",
       "      <th>4</th>\n",
       "      <td>19960705</td>\n",
       "      <td>10</td>\n",
       "      <td>37151</td>\n",
       "      <td>38025</td>\n",
       "      <td>37151</td>\n",
       "      <td>38025</td>\n",
       "      <td>15830</td>\n",
       "      <td>595899300</td>\n",
       "      <td>1.75</td>\n",
       "    </tr>\n",
       "  </tbody>\n",
       "</table>\n",
       "</div>"
      ],
      "text/plain": [
       "       date code   open   high    low  close  volume  tradingvalue  change\n",
       "0  19960701   10  36496  37676  36496  37588   14499     542221500    1.18\n",
       "1  19960702   10  37588  38462  37151  37938   30476    1153293600    0.93\n",
       "2  19960703   10  38025  38025  37151  37719   18375     694638000   -0.58\n",
       "3  19960704   10  37719  37938  37151  37370   22539     849041000   -0.93\n",
       "4  19960705   10  37151  38025  37151  38025   15830     595899300    1.75"
      ]
     },
     "execution_count": 4,
     "metadata": {},
     "output_type": "execute_result"
    }
   ],
   "source": [
    "df[:5]"
   ]
  },
  {
   "cell_type": "markdown",
   "id": "f6c506d4",
   "metadata": {},
   "source": [
    "# with open"
   ]
  },
  {
   "cell_type": "code",
   "execution_count": 5,
   "id": "4c5290d4",
   "metadata": {},
   "outputs": [],
   "source": [
    "c1=open('/project/stock_data/stock.KOSPI.KOSDAQ.19960701to20220331.adjusted.datefilled.csv',\"r\")\n",
    "lines=c1.readlines()"
   ]
  },
  {
   "cell_type": "markdown",
   "id": "451b641a",
   "metadata": {},
   "source": [
    "## lines의 총 길이 (file의 총 길이)"
   ]
  },
  {
   "cell_type": "code",
   "execution_count": 6,
   "id": "3097e904",
   "metadata": {},
   "outputs": [
    {
     "data": {
      "text/plain": [
       "11979747"
      ]
     },
     "execution_count": 6,
     "metadata": {},
     "output_type": "execute_result"
    }
   ],
   "source": [
    "len(lines) # 11979747 (잘 세어짐....)"
   ]
  },
  {
   "cell_type": "markdown",
   "id": "085c3b89",
   "metadata": {},
   "source": [
    "## 데이터 구성"
   ]
  },
  {
   "cell_type": "code",
   "execution_count": 7,
   "id": "192fc846",
   "metadata": {},
   "outputs": [
    {
     "name": "stdout",
     "output_type": "stream",
     "text": [
      "['date', 'code', 'open', 'high', 'low', 'close', 'volume', 'tradingvalue', 'change\\n']\n",
      "['19960701', '000010', '36496', '37676', '36496', '37588', '14499', '542221500', '1.18\\n']\n",
      "['19960702', '000010', '37588', '38462', '37151', '37938', '30476', '1153293600', '0.93\\n']\n",
      "['19960703', '000010', '38025', '38025', '37151', '37719', '18375', '694638000', '-0.58\\n']\n"
     ]
    }
   ],
   "source": [
    "for line in lines[:4]:\n",
    "    lst = line.split(',')\n",
    "    print(lst)"
   ]
  },
  {
   "cell_type": "markdown",
   "id": "e82956a0",
   "metadata": {},
   "source": [
    "* 줄 수 구하기 포기 <br>\n",
    "* 출처: https://dororongju.tistory.com/44 [웹 개발 메모장]"
   ]
  },
  {
   "cell_type": "markdown",
   "id": "58167630",
   "metadata": {},
   "source": [
    "# 조건cd : uniq cd list"
   ]
  },
  {
   "cell_type": "code",
   "execution_count": 8,
   "id": "cf4ba41e",
   "metadata": {},
   "outputs": [],
   "source": [
    "f = open('조건만족cd_dt (by ffin).txt', 'r', encoding = 'utf-8')\n",
    "ll = f.readlines()"
   ]
  },
  {
   "cell_type": "code",
   "execution_count": 13,
   "id": "ea3577bd",
   "metadata": {},
   "outputs": [
    {
     "name": "stderr",
     "output_type": "stream",
     "text": [
      "1151801it [00:09, 124020.20it/s]\n"
     ]
    }
   ],
   "source": [
    "cnt = 0\n",
    "조건cd = []\n",
    "for iter, i in tqdm(enumerate(ll)):\n",
    "    i = i.strip()\n",
    "    i = i.split('\\t')\n",
    "    cd = i[0]\n",
    "#     dt = i[1]\n",
    "    if cd not in 조건cd:\n",
    "        조건cd.append(cd)\n",
    "    cnt+=1\n",
    "f.close()"
   ]
  },
  {
   "cell_type": "code",
   "execution_count": 14,
   "id": "bb4095fd",
   "metadata": {},
   "outputs": [
    {
     "data": {
      "text/plain": [
       "1151801"
      ]
     },
     "execution_count": 14,
     "metadata": {},
     "output_type": "execute_result"
    },
    {
     "data": {
      "text/plain": [
       "2372"
      ]
     },
     "execution_count": 14,
     "metadata": {},
     "output_type": "execute_result"
    }
   ],
   "source": [
    "cnt # 1151801 줄 수 ('code' 포함)\n",
    "len(조건cd)"
   ]
  },
  {
   "cell_type": "markdown",
   "id": "3914a53d",
   "metadata": {},
   "source": [
    "# 조건cd_dt: key: cd; value: dt list"
   ]
  },
  {
   "cell_type": "code",
   "execution_count": 18,
   "id": "dea9bdfc",
   "metadata": {},
   "outputs": [
    {
     "name": "stderr",
     "output_type": "stream",
     "text": [
      "1151801it [00:00, 1463907.64it/s]\n"
     ]
    }
   ],
   "source": [
    "조건cd_dt = {i:[] for i in 조건cd}\n",
    "for iter, i in tqdm(enumerate(ll)):\n",
    "    i = i.strip()\n",
    "    i = i.split('\\t')\n",
    "    cd = i[0]\n",
    "    dt = i[1]\n",
    "    조건cd_dt[cd].append(dt)\n",
    "\n",
    "f.close()"
   ]
  },
  {
   "cell_type": "code",
   "execution_count": 23,
   "id": "dd9a6f8c",
   "metadata": {},
   "outputs": [
    {
     "data": {
      "text/plain": [
       "['20160531', '20170316', '20170317']"
      ]
     },
     "execution_count": 23,
     "metadata": {},
     "output_type": "execute_result"
    }
   ],
   "source": [
    "# test\n",
    "조건cd_dt['083370'] # 잘나옴."
   ]
  },
  {
   "cell_type": "code",
   "execution_count": 29,
   "id": "189911d8",
   "metadata": {},
   "outputs": [
    {
     "name": "stderr",
     "output_type": "stream",
     "text": [
      "100%|██████████| 11979747/11979747 [03:00<00:00, 66232.32it/s]\n"
     ]
    }
   ],
   "source": [
    "# lst[0] : 'date'\n",
    "# lst[1] : 'code'\n",
    "# lst[-1] : 'change'\n",
    "cnt = 0\n",
    "for line in tqdm(lines):\n",
    "    line = line.strip()\n",
    "    lst = line.split(',')\n",
    "    if lst[1] in 조건cd and lst[0] in 조건cd_dt[lst[1]]:\n",
    "        cnt+=1"
   ]
  },
  {
   "cell_type": "code",
   "execution_count": 30,
   "id": "7ab221f3",
   "metadata": {
    "scrolled": true
   },
   "outputs": [
    {
     "data": {
      "text/plain": [
       "1151801"
      ]
     },
     "execution_count": 30,
     "metadata": {},
     "output_type": "execute_result"
    }
   ],
   "source": [
    "cnt # 1151801 잘 나옴 확인."
   ]
  },
  {
   "cell_type": "markdown",
   "id": "72aa2bd1",
   "metadata": {},
   "source": [
    "# df로 만들기\n",
    "* 검색어: 파이썬 list to df header는 list의 0번째\n",
    "* [[python] 헤더를 맨 위 행으로 대체하는 Python Pandas](http://daplus.net/python-%ED%97%A4%EB%8D%94%EB%A5%BC-%EB%A7%A8-%EC%9C%84-%ED%96%89%EC%9C%BC%EB%A1%9C-%EB%8C%80%EC%B2%B4%ED%95%98%EB%8A%94-python-pandas/)\n",
    "``` python\n",
    "# 한 줄 짜리 코드\n",
    "df.rename(columns=df.iloc[0]).drop(df.index[0])\n",
    "```"
   ]
  },
  {
   "cell_type": "code",
   "execution_count": 31,
   "id": "a0865f58",
   "metadata": {},
   "outputs": [
    {
     "name": "stderr",
     "output_type": "stream",
     "text": [
      "100%|██████████| 11979747/11979747 [03:05<00:00, 64576.26it/s]\n"
     ]
    }
   ],
   "source": [
    "조건data = []\n",
    "for line in tqdm(lines):\n",
    "    line = line.strip()\n",
    "    lst = line.split(',')\n",
    "    if lst[1] in 조건cd and lst[0] in 조건cd_dt[lst[1]]:\n",
    "        조건data.append(lst)"
   ]
  },
  {
   "cell_type": "code",
   "execution_count": 32,
   "id": "f9f58443",
   "metadata": {},
   "outputs": [
    {
     "data": {
      "text/plain": [
       "1151801"
      ]
     },
     "execution_count": 32,
     "metadata": {},
     "output_type": "execute_result"
    }
   ],
   "source": [
    "len(조건data)"
   ]
  },
  {
   "cell_type": "code",
   "execution_count": 40,
   "id": "07907fa1",
   "metadata": {
    "scrolled": true
   },
   "outputs": [],
   "source": [
    "조건df = pd.DataFrame(조건data)"
   ]
  },
  {
   "cell_type": "code",
   "execution_count": 41,
   "id": "0ea762d8",
   "metadata": {
    "scrolled": true
   },
   "outputs": [
    {
     "data": {
      "text/html": [
       "<div>\n",
       "<style scoped>\n",
       "    .dataframe tbody tr th:only-of-type {\n",
       "        vertical-align: middle;\n",
       "    }\n",
       "\n",
       "    .dataframe tbody tr th {\n",
       "        vertical-align: top;\n",
       "    }\n",
       "\n",
       "    .dataframe thead th {\n",
       "        text-align: right;\n",
       "    }\n",
       "</style>\n",
       "<table border=\"1\" class=\"dataframe\">\n",
       "  <thead>\n",
       "    <tr style=\"text-align: right;\">\n",
       "      <th></th>\n",
       "      <th>date</th>\n",
       "      <th>code</th>\n",
       "      <th>open</th>\n",
       "      <th>high</th>\n",
       "      <th>low</th>\n",
       "      <th>close</th>\n",
       "      <th>volume</th>\n",
       "      <th>tradingvalue</th>\n",
       "      <th>change</th>\n",
       "    </tr>\n",
       "  </thead>\n",
       "  <tbody>\n",
       "    <tr>\n",
       "      <th>1</th>\n",
       "      <td>19960920</td>\n",
       "      <td>000010</td>\n",
       "      <td>37151</td>\n",
       "      <td>37370</td>\n",
       "      <td>35403</td>\n",
       "      <td>36277</td>\n",
       "      <td>42732</td>\n",
       "      <td>1548596200</td>\n",
       "      <td>-2.70</td>\n",
       "    </tr>\n",
       "    <tr>\n",
       "      <th>2</th>\n",
       "      <td>19961001</td>\n",
       "      <td>000010</td>\n",
       "      <td>40211</td>\n",
       "      <td>40211</td>\n",
       "      <td>37195</td>\n",
       "      <td>37501</td>\n",
       "      <td>835032</td>\n",
       "      <td>33396100000</td>\n",
       "      <td>-4.67</td>\n",
       "    </tr>\n",
       "    <tr>\n",
       "      <th>3</th>\n",
       "      <td>19961007</td>\n",
       "      <td>000010</td>\n",
       "      <td>36496</td>\n",
       "      <td>38375</td>\n",
       "      <td>36496</td>\n",
       "      <td>37588</td>\n",
       "      <td>31889</td>\n",
       "      <td>1187210600</td>\n",
       "      <td>3.61</td>\n",
       "    </tr>\n",
       "    <tr>\n",
       "      <th>4</th>\n",
       "      <td>19961129</td>\n",
       "      <td>000010</td>\n",
       "      <td>29546</td>\n",
       "      <td>29546</td>\n",
       "      <td>26880</td>\n",
       "      <td>28497</td>\n",
       "      <td>81158</td>\n",
       "      <td>2340157900</td>\n",
       "      <td>-2.10</td>\n",
       "    </tr>\n",
       "    <tr>\n",
       "      <th>5</th>\n",
       "      <td>19961203</td>\n",
       "      <td>000010</td>\n",
       "      <td>28147</td>\n",
       "      <td>28147</td>\n",
       "      <td>26661</td>\n",
       "      <td>26880</td>\n",
       "      <td>45098</td>\n",
       "      <td>1223676500</td>\n",
       "      <td>-4.65</td>\n",
       "    </tr>\n",
       "    <tr>\n",
       "      <th>...</th>\n",
       "      <td>...</td>\n",
       "      <td>...</td>\n",
       "      <td>...</td>\n",
       "      <td>...</td>\n",
       "      <td>...</td>\n",
       "      <td>...</td>\n",
       "      <td>...</td>\n",
       "      <td>...</td>\n",
       "      <td>...</td>\n",
       "    </tr>\n",
       "    <tr>\n",
       "      <th>1151796</th>\n",
       "      <td>20220324</td>\n",
       "      <td>950210</td>\n",
       "      <td>14000</td>\n",
       "      <td>18300</td>\n",
       "      <td>13900</td>\n",
       "      <td>18300</td>\n",
       "      <td>1158787</td>\n",
       "      <td>20226315150</td>\n",
       "      <td>29.79</td>\n",
       "    </tr>\n",
       "    <tr>\n",
       "      <th>1151797</th>\n",
       "      <td>20220325</td>\n",
       "      <td>950210</td>\n",
       "      <td>19400</td>\n",
       "      <td>21050</td>\n",
       "      <td>17250</td>\n",
       "      <td>17750</td>\n",
       "      <td>2884592</td>\n",
       "      <td>55832885600</td>\n",
       "      <td>-3.01</td>\n",
       "    </tr>\n",
       "    <tr>\n",
       "      <th>1151798</th>\n",
       "      <td>20220329</td>\n",
       "      <td>950210</td>\n",
       "      <td>17900</td>\n",
       "      <td>21400</td>\n",
       "      <td>17500</td>\n",
       "      <td>19800</td>\n",
       "      <td>5156123</td>\n",
       "      <td>103299163150</td>\n",
       "      <td>9.70</td>\n",
       "    </tr>\n",
       "    <tr>\n",
       "      <th>1151799</th>\n",
       "      <td>20220330</td>\n",
       "      <td>950210</td>\n",
       "      <td>20250</td>\n",
       "      <td>22500</td>\n",
       "      <td>19450</td>\n",
       "      <td>19800</td>\n",
       "      <td>2072532</td>\n",
       "      <td>43571439650</td>\n",
       "      <td>0.00</td>\n",
       "    </tr>\n",
       "    <tr>\n",
       "      <th>1151800</th>\n",
       "      <td>20220331</td>\n",
       "      <td>950210</td>\n",
       "      <td>19500</td>\n",
       "      <td>20500</td>\n",
       "      <td>19150</td>\n",
       "      <td>20300</td>\n",
       "      <td>511003</td>\n",
       "      <td>10140785700</td>\n",
       "      <td>2.53</td>\n",
       "    </tr>\n",
       "  </tbody>\n",
       "</table>\n",
       "<p>1151800 rows × 9 columns</p>\n",
       "</div>"
      ],
      "text/plain": [
       "0            date    code   open   high    low  close   volume  tradingvalue  \\\n",
       "1        19960920  000010  37151  37370  35403  36277    42732    1548596200   \n",
       "2        19961001  000010  40211  40211  37195  37501   835032   33396100000   \n",
       "3        19961007  000010  36496  38375  36496  37588    31889    1187210600   \n",
       "4        19961129  000010  29546  29546  26880  28497    81158    2340157900   \n",
       "5        19961203  000010  28147  28147  26661  26880    45098    1223676500   \n",
       "...           ...     ...    ...    ...    ...    ...      ...           ...   \n",
       "1151796  20220324  950210  14000  18300  13900  18300  1158787   20226315150   \n",
       "1151797  20220325  950210  19400  21050  17250  17750  2884592   55832885600   \n",
       "1151798  20220329  950210  17900  21400  17500  19800  5156123  103299163150   \n",
       "1151799  20220330  950210  20250  22500  19450  19800  2072532   43571439650   \n",
       "1151800  20220331  950210  19500  20500  19150  20300   511003   10140785700   \n",
       "\n",
       "0       change  \n",
       "1        -2.70  \n",
       "2        -4.67  \n",
       "3         3.61  \n",
       "4        -2.10  \n",
       "5        -4.65  \n",
       "...        ...  \n",
       "1151796  29.79  \n",
       "1151797  -3.01  \n",
       "1151798   9.70  \n",
       "1151799   0.00  \n",
       "1151800   2.53  \n",
       "\n",
       "[1151800 rows x 9 columns]"
      ]
     },
     "execution_count": 41,
     "metadata": {},
     "output_type": "execute_result"
    }
   ],
   "source": [
    "new_header = 조건df.iloc[0] #grab the first row for the header\n",
    "조건df = 조건df[1:] #take the data less the header row\n",
    "조건df.columns = new_header #set the header row as the df header\n",
    "조건df"
   ]
  },
  {
   "cell_type": "markdown",
   "id": "04aa5afb",
   "metadata": {},
   "source": [
    "## 저장"
   ]
  },
  {
   "cell_type": "code",
   "execution_count": 42,
   "id": "512a40cf",
   "metadata": {},
   "outputs": [],
   "source": [
    "# 조건df.to_csv('조건df.csv', index = False)"
   ]
  },
  {
   "cell_type": "code",
   "execution_count": 43,
   "id": "f1023d14",
   "metadata": {},
   "outputs": [
    {
     "data": {
      "text/html": [
       "<div>\n",
       "<style scoped>\n",
       "    .dataframe tbody tr th:only-of-type {\n",
       "        vertical-align: middle;\n",
       "    }\n",
       "\n",
       "    .dataframe tbody tr th {\n",
       "        vertical-align: top;\n",
       "    }\n",
       "\n",
       "    .dataframe thead th {\n",
       "        text-align: right;\n",
       "    }\n",
       "</style>\n",
       "<table border=\"1\" class=\"dataframe\">\n",
       "  <thead>\n",
       "    <tr style=\"text-align: right;\">\n",
       "      <th></th>\n",
       "      <th>date</th>\n",
       "      <th>code</th>\n",
       "      <th>open</th>\n",
       "      <th>high</th>\n",
       "      <th>low</th>\n",
       "      <th>close</th>\n",
       "      <th>volume</th>\n",
       "      <th>tradingvalue</th>\n",
       "      <th>change</th>\n",
       "    </tr>\n",
       "  </thead>\n",
       "  <tbody>\n",
       "    <tr>\n",
       "      <th>0</th>\n",
       "      <td>19960920</td>\n",
       "      <td>000010</td>\n",
       "      <td>37151</td>\n",
       "      <td>37370</td>\n",
       "      <td>35403</td>\n",
       "      <td>36277</td>\n",
       "      <td>42732</td>\n",
       "      <td>1548596200</td>\n",
       "      <td>-2.70</td>\n",
       "    </tr>\n",
       "    <tr>\n",
       "      <th>1</th>\n",
       "      <td>19961001</td>\n",
       "      <td>000010</td>\n",
       "      <td>40211</td>\n",
       "      <td>40211</td>\n",
       "      <td>37195</td>\n",
       "      <td>37501</td>\n",
       "      <td>835032</td>\n",
       "      <td>33396100000</td>\n",
       "      <td>-4.67</td>\n",
       "    </tr>\n",
       "    <tr>\n",
       "      <th>2</th>\n",
       "      <td>19961007</td>\n",
       "      <td>000010</td>\n",
       "      <td>36496</td>\n",
       "      <td>38375</td>\n",
       "      <td>36496</td>\n",
       "      <td>37588</td>\n",
       "      <td>31889</td>\n",
       "      <td>1187210600</td>\n",
       "      <td>3.61</td>\n",
       "    </tr>\n",
       "    <tr>\n",
       "      <th>3</th>\n",
       "      <td>19961129</td>\n",
       "      <td>000010</td>\n",
       "      <td>29546</td>\n",
       "      <td>29546</td>\n",
       "      <td>26880</td>\n",
       "      <td>28497</td>\n",
       "      <td>81158</td>\n",
       "      <td>2340157900</td>\n",
       "      <td>-2.10</td>\n",
       "    </tr>\n",
       "    <tr>\n",
       "      <th>4</th>\n",
       "      <td>19961203</td>\n",
       "      <td>000010</td>\n",
       "      <td>28147</td>\n",
       "      <td>28147</td>\n",
       "      <td>26661</td>\n",
       "      <td>26880</td>\n",
       "      <td>45098</td>\n",
       "      <td>1223676500</td>\n",
       "      <td>-4.65</td>\n",
       "    </tr>\n",
       "    <tr>\n",
       "      <th>...</th>\n",
       "      <td>...</td>\n",
       "      <td>...</td>\n",
       "      <td>...</td>\n",
       "      <td>...</td>\n",
       "      <td>...</td>\n",
       "      <td>...</td>\n",
       "      <td>...</td>\n",
       "      <td>...</td>\n",
       "      <td>...</td>\n",
       "    </tr>\n",
       "    <tr>\n",
       "      <th>1151795</th>\n",
       "      <td>20220324</td>\n",
       "      <td>950210</td>\n",
       "      <td>14000</td>\n",
       "      <td>18300</td>\n",
       "      <td>13900</td>\n",
       "      <td>18300</td>\n",
       "      <td>1158787</td>\n",
       "      <td>20226315150</td>\n",
       "      <td>29.79</td>\n",
       "    </tr>\n",
       "    <tr>\n",
       "      <th>1151796</th>\n",
       "      <td>20220325</td>\n",
       "      <td>950210</td>\n",
       "      <td>19400</td>\n",
       "      <td>21050</td>\n",
       "      <td>17250</td>\n",
       "      <td>17750</td>\n",
       "      <td>2884592</td>\n",
       "      <td>55832885600</td>\n",
       "      <td>-3.01</td>\n",
       "    </tr>\n",
       "    <tr>\n",
       "      <th>1151797</th>\n",
       "      <td>20220329</td>\n",
       "      <td>950210</td>\n",
       "      <td>17900</td>\n",
       "      <td>21400</td>\n",
       "      <td>17500</td>\n",
       "      <td>19800</td>\n",
       "      <td>5156123</td>\n",
       "      <td>103299163150</td>\n",
       "      <td>9.70</td>\n",
       "    </tr>\n",
       "    <tr>\n",
       "      <th>1151798</th>\n",
       "      <td>20220330</td>\n",
       "      <td>950210</td>\n",
       "      <td>20250</td>\n",
       "      <td>22500</td>\n",
       "      <td>19450</td>\n",
       "      <td>19800</td>\n",
       "      <td>2072532</td>\n",
       "      <td>43571439650</td>\n",
       "      <td>0.00</td>\n",
       "    </tr>\n",
       "    <tr>\n",
       "      <th>1151799</th>\n",
       "      <td>20220331</td>\n",
       "      <td>950210</td>\n",
       "      <td>19500</td>\n",
       "      <td>20500</td>\n",
       "      <td>19150</td>\n",
       "      <td>20300</td>\n",
       "      <td>511003</td>\n",
       "      <td>10140785700</td>\n",
       "      <td>2.53</td>\n",
       "    </tr>\n",
       "  </tbody>\n",
       "</table>\n",
       "<p>1151800 rows × 9 columns</p>\n",
       "</div>"
      ],
      "text/plain": [
       "             date    code   open   high    low  close   volume  tradingvalue  \\\n",
       "0        19960920  000010  37151  37370  35403  36277    42732    1548596200   \n",
       "1        19961001  000010  40211  40211  37195  37501   835032   33396100000   \n",
       "2        19961007  000010  36496  38375  36496  37588    31889    1187210600   \n",
       "3        19961129  000010  29546  29546  26880  28497    81158    2340157900   \n",
       "4        19961203  000010  28147  28147  26661  26880    45098    1223676500   \n",
       "...           ...     ...    ...    ...    ...    ...      ...           ...   \n",
       "1151795  20220324  950210  14000  18300  13900  18300  1158787   20226315150   \n",
       "1151796  20220325  950210  19400  21050  17250  17750  2884592   55832885600   \n",
       "1151797  20220329  950210  17900  21400  17500  19800  5156123  103299163150   \n",
       "1151798  20220330  950210  20250  22500  19450  19800  2072532   43571439650   \n",
       "1151799  20220331  950210  19500  20500  19150  20300   511003   10140785700   \n",
       "\n",
       "         change  \n",
       "0         -2.70  \n",
       "1         -4.67  \n",
       "2          3.61  \n",
       "3         -2.10  \n",
       "4         -4.65  \n",
       "...         ...  \n",
       "1151795   29.79  \n",
       "1151796   -3.01  \n",
       "1151797    9.70  \n",
       "1151798    0.00  \n",
       "1151799    2.53  \n",
       "\n",
       "[1151800 rows x 9 columns]"
      ]
     },
     "execution_count": 43,
     "metadata": {},
     "output_type": "execute_result"
    }
   ],
   "source": [
    "pd.read_csv('조건df.csv')"
   ]
  }
 ],
 "metadata": {
  "kernelspec": {
   "display_name": "Python 3",
   "language": "python",
   "name": "python3"
  },
  "language_info": {
   "codemirror_mode": {
    "name": "ipython",
    "version": 3
   },
   "file_extension": ".py",
   "mimetype": "text/x-python",
   "name": "python",
   "nbconvert_exporter": "python",
   "pygments_lexer": "ipython3",
   "version": "3.8.5"
  },
  "latex_envs": {
   "LaTeX_envs_menu_present": true,
   "autoclose": false,
   "autocomplete": true,
   "bibliofile": "biblio.bib",
   "cite_by": "apalike",
   "current_citInitial": 1,
   "eqLabelWithNumbers": true,
   "eqNumInitial": 1,
   "hotkeys": {
    "equation": "Ctrl-E",
    "itemize": "Ctrl-I"
   },
   "labels_anchors": false,
   "latex_user_defs": false,
   "report_style_numbering": false,
   "user_envs_cfg": false
  },
  "toc": {
   "base_numbering": 1,
   "nav_menu": {},
   "number_sections": true,
   "sideBar": true,
   "skip_h1_title": false,
   "title_cell": "Table of Contents",
   "title_sidebar": "Contents",
   "toc_cell": true,
   "toc_position": {},
   "toc_section_display": true,
   "toc_window_display": true
  }
 },
 "nbformat": 4,
 "nbformat_minor": 5
}
