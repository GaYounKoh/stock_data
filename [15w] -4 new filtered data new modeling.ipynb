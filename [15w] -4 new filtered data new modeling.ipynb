{
 "cells": [
  {
   "cell_type": "code",
   "execution_count": 1,
   "id": "c6d442d7",
   "metadata": {},
   "outputs": [],
   "source": [
    "import pandas as pd\n",
    "from IPython.core.interactiveshell import InteractiveShell\n",
    "InteractiveShell.ast_node_interactivity = 'all'"
   ]
  },
  {
   "cell_type": "markdown",
   "id": "d8a47f19",
   "metadata": {},
   "source": [
    "# data load"
   ]
  },
  {
   "cell_type": "code",
   "execution_count": 2,
   "id": "afd52c33",
   "metadata": {},
   "outputs": [],
   "source": [
    "d1221 = pd.read_feather('d1221_10thr.ftr', use_threads = True, columns = None)"
   ]
  },
  {
   "cell_type": "code",
   "execution_count": 3,
   "id": "ef0e667f",
   "metadata": {},
   "outputs": [
    {
     "name": "stderr",
     "output_type": "stream",
     "text": [
      "2022-06-23 13:11:54.709226: I tensorflow/stream_executor/platform/default/dso_loader.cc:49] Successfully opened dynamic library libcudart.so.10.1\n"
     ]
    }
   ],
   "source": [
    "import numpy as np\n",
    "from tqdm import tqdm\n",
    "import warnings\n",
    "warnings.filterwarnings('ignore')\n",
    "import tensorflow as tf\n",
    "import random"
   ]
  },
  {
   "cell_type": "markdown",
   "id": "f0f0b1a1",
   "metadata": {},
   "source": [
    "## mk_cd 함수"
   ]
  },
  {
   "cell_type": "code",
   "execution_count": 4,
   "id": "4ad1d5d7",
   "metadata": {},
   "outputs": [],
   "source": [
    "## 함수\n",
    "def mk_cd(x):\n",
    "    if type(x) == str:\n",
    "        if x.isalpha():\n",
    "            return x\n",
    "        else:\n",
    "            if len(x) == 6:\n",
    "                return x\n",
    "            else:\n",
    "                return \"0\"*(6-len(x))+x\n",
    "    elif type(x) == int:\n",
    "        x = str(x)\n",
    "        return \"0\"*(6-len(x))+x"
   ]
  },
  {
   "cell_type": "markdown",
   "id": "72637196",
   "metadata": {},
   "source": [
    "# 슬라이싱 준비"
   ]
  },
  {
   "cell_type": "code",
   "execution_count": 5,
   "id": "818b155d",
   "metadata": {},
   "outputs": [
    {
     "data": {
      "text/plain": [
       "107935"
      ]
     },
     "execution_count": 5,
     "metadata": {},
     "output_type": "execute_result"
    },
    {
     "data": {
      "text/plain": [
       "93840"
      ]
     },
     "execution_count": 5,
     "metadata": {},
     "output_type": "execute_result"
    },
    {
     "data": {
      "text/plain": [
       "95437"
      ]
     },
     "execution_count": 5,
     "metadata": {},
     "output_type": "execute_result"
    },
    {
     "data": {
      "text/plain": [
       "158287"
      ]
     },
     "execution_count": 5,
     "metadata": {},
     "output_type": "execute_result"
    },
    {
     "data": {
      "text/plain": [
       "134332"
      ]
     },
     "execution_count": 5,
     "metadata": {},
     "output_type": "execute_result"
    },
    {
     "data": {
      "text/plain": [
       "110782"
      ]
     },
     "execution_count": 5,
     "metadata": {},
     "output_type": "execute_result"
    },
    {
     "data": {
      "text/plain": [
       "159382"
      ]
     },
     "execution_count": 5,
     "metadata": {},
     "output_type": "execute_result"
    },
    {
     "data": {
      "text/plain": [
       "133987"
      ]
     },
     "execution_count": 5,
     "metadata": {},
     "output_type": "execute_result"
    },
    {
     "data": {
      "text/plain": [
       "222267"
      ]
     },
     "execution_count": 5,
     "metadata": {},
     "output_type": "execute_result"
    },
    {
     "data": {
      "text/plain": [
       "223622"
      ]
     },
     "execution_count": 5,
     "metadata": {},
     "output_type": "execute_result"
    }
   ],
   "source": [
    "sum((20120000<d1221['date'])&(d1221['date']<20130000)) # 107935\n",
    "sum((20130000<d1221['date'])&(d1221['date']<20140000))\n",
    "sum((20140000<d1221['date'])&(d1221['date']<20150000))\n",
    "sum((20150000<d1221['date'])&(d1221['date']<20160000))\n",
    "sum((20160000<d1221['date'])&(d1221['date']<20170000))\n",
    "sum((20170000<d1221['date'])&(d1221['date']<20180000))\n",
    "sum((20180000<d1221['date'])&(d1221['date']<20190000))\n",
    "sum((20190000<d1221['date'])&(d1221['date']<20200000))\n",
    "sum((20200000<d1221['date'])&(d1221['date']<20210000))\n",
    "sum((20210000<d1221['date'])&(d1221['date']<20220000))\n"
   ]
  },
  {
   "cell_type": "code",
   "execution_count": 6,
   "id": "4bace3aa",
   "metadata": {},
   "outputs": [],
   "source": [
    "len_a2012 = sum((20120000<d1221['date'])&(d1221['date']<20130000)) # 107935\n",
    "len_a2013 = sum((20130000<d1221['date'])&(d1221['date']<20140000))\n",
    "len_a2014 = sum((20140000<d1221['date'])&(d1221['date']<20150000))\n",
    "len_a2015 = sum((20150000<d1221['date'])&(d1221['date']<20160000))\n",
    "len_a2016 = sum((20160000<d1221['date'])&(d1221['date']<20170000))\n",
    "len_a2017 = sum((20170000<d1221['date'])&(d1221['date']<20180000))\n",
    "len_a2018 = sum((20180000<d1221['date'])&(d1221['date']<20190000))\n",
    "len_a2019 = sum((20190000<d1221['date'])&(d1221['date']<20200000))\n",
    "len_a2020 = sum((20200000<d1221['date'])&(d1221['date']<20210000))\n",
    "len_a2021 = sum((20210000<d1221['date'])&(d1221['date']<20220000))"
   ]
  },
  {
   "cell_type": "code",
   "execution_count": 7,
   "id": "1294cf86",
   "metadata": {},
   "outputs": [],
   "source": [
    "len1215 = len_a2012+len_a2013+len_a2014+len_a2015 # y:2015\n",
    "len1316 = len1215+len_a2016 # y:2016\n",
    "len1417 = len1316+len_a2017 # y:2017\n",
    "len1518 = len1417+len_a2018 # y:2018\n",
    "len1619 = len1518+len_a2019 # y:2019\n",
    "len1720 = len1619+len_a2020 # y:2020\n",
    "len1821 = len1720+len_a2021 # y:2021"
   ]
  },
  {
   "cell_type": "markdown",
   "id": "2dfdbd29",
   "metadata": {},
   "source": [
    "## [0], [1]은 train 슬라이싱 인덱스, [2]는 test인덱스로 구성"
   ]
  },
  {
   "cell_type": "code",
   "execution_count": 8,
   "id": "eae1dcdf",
   "metadata": {},
   "outputs": [],
   "source": [
    "slicing_dic = {'1215':[0, len1215, len_a2015],\n",
    "               '1316':[len_a2012, len1316, len_a2016],\n",
    "               '1417':[len_a2012+len_a2013, len1417, len_a2017],\n",
    "               '1518':[len_a2012+len_a2013+len_a2014, len1518, len_a2018],\n",
    "               '1619':[len_a2012+len_a2013+len_a2014+len_a2015, len1619, len_a2019],\n",
    "               '1720':[len_a2012+len_a2013+len_a2014+len_a2015+len_a2016,len1720, len_a2020],\n",
    "               '1821':[len_a2012+len_a2013+len_a2014+len_a2015+len_a2016+len_a2017,len1821, len_a2021]}"
   ]
  },
  {
   "cell_type": "markdown",
   "id": "17ed0484",
   "metadata": {},
   "source": [
    "# category to object"
   ]
  },
  {
   "cell_type": "code",
   "execution_count": 9,
   "id": "ae7ccf2e",
   "metadata": {},
   "outputs": [],
   "source": [
    "d1221['code'] = list(map(mk_cd, d1221['code'])) # mk_cd함수 적용시켜야 ftr만들 때 에러 안남."
   ]
  },
  {
   "cell_type": "code",
   "execution_count": 10,
   "id": "08aa8296",
   "metadata": {},
   "outputs": [
    {
     "name": "stdout",
     "output_type": "stream",
     "text": [
      "<class 'pandas.core.frame.DataFrame'>\n",
      "RangeIndex: 1439871 entries, 0 to 1439870\n",
      "Columns: 823 entries, date to NextChange\n",
      "dtypes: float64(821), int64(1), object(1)\n",
      "memory usage: 8.8+ GB\n"
     ]
    }
   ],
   "source": [
    "d1221.info()"
   ]
  },
  {
   "cell_type": "markdown",
   "id": "f6c42a34",
   "metadata": {},
   "source": [
    "# reg modeling"
   ]
  },
  {
   "cell_type": "code",
   "execution_count": 30,
   "id": "8c1dfdec",
   "metadata": {},
   "outputs": [],
   "source": [
    "results = []\n",
    "def my_regressor():\n",
    "    X = d1221.iloc[:,2:-1] # 1221 데이터\n",
    "    y = d1221.iloc[:,-1]\n",
    "    from sklearn.linear_model import LinearRegression # 일반 회귀 모델\n",
    "    from sklearn.linear_model import Ridge, Lasso, ElasticNet # Norm 규제 회귀 모델\n",
    "    from sklearn.linear_model import ARDRegression, BayesianRidge # 베이지안 회귀\n",
    "    from sklearn.tree import DecisionTreeRegressor\n",
    "    from sklearn.ensemble import RandomForestRegressor # decision tree 앙상블 모델, 배깅\n",
    "    from xgboost import XGBRegressor # decision tree 앙상블 모델, 부스팅\n",
    "    import lightgbm as lgb\n",
    "    from sklearn.model_selection import GridSearchCV\n",
    "#     from sklearn.model_selection import cross_val_score # model 검증\n",
    "    \n",
    "#     from sklearn.model_selection import StratifiedShuffleSplit\n",
    "    from sklearn.model_selection import ShuffleSplit\n",
    "    from sklearn.model_selection import cross_val_score\n",
    "    \n",
    "    from sklearn.dummy import DummyRegressor\n",
    "    from sklearn.metrics import mean_squared_error as mse # 모델 평가 지표 scoring (mse)\n",
    "    from sklearn.metrics import r2_score as r2\n",
    "    \n",
    "    import ast # convert string to function\n",
    "    \n",
    "    # seed 고정\n",
    "    user_seed = 0\n",
    "    random.seed(user_seed) # seed 고정\n",
    "    \n",
    "    # (같은 줄에 써놓은 애들끼리 하이퍼파리미터 구성 비슷하거나 같음)\n",
    "    linear = LinearRegression(n_jobs=64)\n",
    "    ridge, lasso, elasticnet = Ridge(), Lasso(alpha=0.01, max_iter=10, random_state=user_seed), ElasticNet(alpha=0.01, max_iter=10, random_state=user_seed)\n",
    "    # [lasso 학습시간 단축 하이퍼파라미터 참고](https://tensorflow.blog/%ED%8C%8C%EC%9D%B4%EC%8D%AC-%EB%A8%B8%EC%8B%A0%EB%9F%AC%EB%8B%9D/2-3-3-%EC%84%A0%ED%98%95-%EB%AA%A8%EB%8D%B8/comment-page-1/)\n",
    "    # [elastic net 참고](https://soobarkbar.tistory.com/30)\n",
    "    # elastic net은 큰 데이터 셋에서 잘 작동함. + ridge&lasso의 장점 모두 가짐.\n",
    "    # [모델훈련](https://taek98.tistory.com/15)\n",
    "    ardr_linear, bayesian_ridge = ARDRegression(verbose = True), BayesianRidge(verbose = True) # n_iter=10, \n",
    "    DecisionTree = DecisionTreeRegressor(max_depth = 10, random_state=user_seed, max_leaf_nodes=4)\n",
    "    random_forest = RandomForestRegressor(n_estimators=10,\n",
    "                                          n_jobs=64,\n",
    "                                          max_depth=10,\n",
    "                                          random_state=user_seed,\n",
    "                                          verbose=2,\n",
    "                                          max_leaf_nodes=4)\n",
    "    xgboost_linear = XGBRegressor(n_jobs=64, max_depth=10, n_estimators=10, learning_rate=0.05) # 16에서 64로 증가 # , verbosity=2\n",
    "    gbm = lgb.LGBMRegressor(num_leaves=31,\n",
    "                            learning_rate=0.05,\n",
    "                            n_estimators=20)\n",
    "\n",
    "    dummy = DummyRegressor(strategy = 'mean')\n",
    "    \n",
    "    my_model_list = ['DecisionTree', 'random_forest',\n",
    "                     'xgboost_linear', 'gbm', 'dummy',\n",
    "                     \n",
    "                     'linear', 'ridge', 'lasso', 'elasticnet',\n",
    "                     'ardr_linear', 'bayesian_ridge'] # 오래 걸리는걸 앞으로 뺌\n",
    "    \n",
    "    i = 0\n",
    "    \n",
    "    ######################################################################### fitting\n",
    "    for model_nm in tqdm(my_model_list):\n",
    "        cntcnt = 0\n",
    "        # cv\n",
    "        for slicer in slicing_dic:\n",
    "            tmpX = X[slicing_dic[slicer][0]:slicing_dic[slicer][1]].reset_index(drop = True)\n",
    "            tmpy = y[slicing_dic[slicer][0]:slicing_dic[slicer][1]].reset_index(drop = True)\n",
    "#             tmp_all = d1221[slicing_dic[slicer][0]:slicing_dic[slicer][1]].reset_index(drop = True) # 전체데이터\n",
    "\n",
    "            X_train = tmpX[:-slicing_dic[slicer][2]]\n",
    "            X_test = tmpX[-slicing_dic[slicer][2]:]\n",
    "            y_train = tmpy[:-slicing_dic[slicer][2]]\n",
    "            y_test = tmpy[-slicing_dic[slicer][2]:]\n",
    "            \n",
    "            # train끼리 idx 같아야 하므로\n",
    "            len_train = slicing_dic[slicer][1]-(slicing_dic[slicer][2]+slicing_dic[slicer][0]) # 혹은 tmp_train.shape[0]\n",
    "            len(list(range(len_train)))\n",
    "            train_idx = list(range(len_train))\n",
    "            random.shuffle(train_idx) # 자동으로 덮어쓰기\n",
    "\n",
    "            len_train_to_test = slicing_dic[slicer][1]-slicing_dic[slicer][0]\n",
    "            test_idx = list(range(len_train,len_train_to_test)) # +1 안해줘도 되는 거 위 cell에서 확인\n",
    "            len(test_idx)\n",
    "            random.shuffle(test_idx) # 자동으로 덮어쓰기\n",
    "            \n",
    "            X_train = X_train.loc[train_idx]\n",
    "            y_train = y_train.loc[train_idx]\n",
    "            X_test = X_test.loc[test_idx]\n",
    "            y_test = y_test.loc[test_idx]\n",
    "            ###########################################\n",
    "            y_train = np.array(y_train).reshape(-1,1) # 1열짜리로 만드는 것\n",
    "            y_test = np.array(y_test).reshape(-1,1)\n",
    "\n",
    "            ######################################################## cv를 위한 데이터 slicing 작업 끝\n",
    "\n",
    "            # fitting은 cv 안에 넣기\n",
    "            if model_nm == 'gbm':\n",
    "                model_ = eval(model_nm).fit(X_train, y_train,\n",
    "                                            eval_set=[(X_test, y_test)],\n",
    "                                            eval_metric='l1',\n",
    "                                            early_stopping_rounds=5)\n",
    "                y_pred_test = model_.predict(X_test, num_iteration=gbm.best_iteration_) # 예측\n",
    "\n",
    "            elif model_nm == 'xgboost_linear': # xgboost_linear가 느려서\n",
    "                cntcnt += 1\n",
    "                print(f'$$$$$---{cntcnt}')\n",
    "                model_ = eval(model_nm).fit(X_train, y_train,\n",
    "                                            eval_set=[(X_test, y_test)],\n",
    "                                            eval_metric='rmse',\n",
    "                                            early_stopping_rounds=5) # ,verbose = True\n",
    "                y_pred_test = model_.predict(X_test) # 예측\n",
    "                \n",
    "            else:\n",
    "                cntcnt += 1\n",
    "                print(f'$$$$$---{cntcnt}')\n",
    "                model_ = eval(model_nm).fit(X_train, y_train)\n",
    "                y_pred_test = model_.predict(X_test) # 예측\n",
    "\n",
    "            mse_score = mse(y_test, y_pred_test)\n",
    "            r2_score = r2(y_test, y_pred_test)\n",
    "#             cv_scores = cross_val_score(eval(model_nm), tmpX, tmpy, cv=7)\n",
    "\n",
    "            results.append([i, f'{model_nm}', mse_score, r2_score]) # , cv_scores #[:str(model).index(\"(\")]\n",
    "            i+=1\n",
    "        ################################################################\n",
    "        print(results[-7:])\n",
    "    return results#score_dic#[0]"
   ]
  },
  {
   "cell_type": "code",
   "execution_count": 31,
   "id": "46895b31",
   "metadata": {},
   "outputs": [
    {
     "name": "stderr",
     "output_type": "stream",
     "text": [
      "\r",
      "  0%|                                                    | 0/11 [00:00<?, ?it/s]"
     ]
    },
    {
     "name": "stdout",
     "output_type": "stream",
     "text": [
      "$$$$$---1\n",
      "$$$$$---2\n",
      "$$$$$---3\n",
      "$$$$$---4\n",
      "$$$$$---5\n",
      "$$$$$---6\n",
      "$$$$$---7\n"
     ]
    },
    {
     "name": "stderr",
     "output_type": "stream",
     "text": [
      "\r",
      "  9%|███▋                                     | 1/11 [12:36<2:06:04, 756.44s/it]"
     ]
    },
    {
     "name": "stdout",
     "output_type": "stream",
     "text": [
      "[[0, 'DecisionTree', 22.794256645140226, -0.0011155847315544865], [1, 'DecisionTree', 18.96271388027769, -0.0014687302722780071], [2, 'DecisionTree', 18.124000488338556, 0.0011064808393549397], [3, 'DecisionTree', 21.51762591563431, -0.001251284154066612], [4, 'DecisionTree', 19.81580289630115, 0.005772318106706087], [5, 'DecisionTree', 27.269565673037228, 0.00019830218510685782], [6, 'DecisionTree', 19.032642691370285, -0.0021424921225838833]]\n",
      "$$$$$---1\n"
     ]
    },
    {
     "name": "stderr",
     "output_type": "stream",
     "text": [
      "[Parallel(n_jobs=64)]: Using backend ThreadingBackend with 64 concurrent workers.\n"
     ]
    },
    {
     "name": "stdout",
     "output_type": "stream",
     "text": [
      "building tree 1 of 10\n",
      "building tree 2 of 10\n",
      "building tree 3 of 10\n",
      "building tree 4 of 10\n",
      "building tree 5 of 10\n",
      "building tree 6 of 10\n",
      "building tree 7 of 10\n",
      "building tree 8 of 10\n",
      "building tree 9 of 10\n",
      "building tree 10 of 10\n"
     ]
    },
    {
     "name": "stderr",
     "output_type": "stream",
     "text": [
      "[Parallel(n_jobs=64)]: Done   3 out of  10 | elapsed:   47.2s remaining:  1.8min\n",
      "[Parallel(n_jobs=64)]: Done  10 out of  10 | elapsed:  1.0min finished\n",
      "[Parallel(n_jobs=10)]: Using backend ThreadingBackend with 10 concurrent workers.\n",
      "[Parallel(n_jobs=10)]: Done   3 out of  10 | elapsed:    0.0s remaining:    0.0s\n",
      "[Parallel(n_jobs=10)]: Done  10 out of  10 | elapsed:    0.0s finished\n"
     ]
    },
    {
     "name": "stdout",
     "output_type": "stream",
     "text": [
      "$$$$$---2\n"
     ]
    },
    {
     "name": "stderr",
     "output_type": "stream",
     "text": [
      "[Parallel(n_jobs=64)]: Using backend ThreadingBackend with 64 concurrent workers.\n"
     ]
    },
    {
     "name": "stdout",
     "output_type": "stream",
     "text": [
      "building tree 1 of 10\n",
      "building tree 2 of 10\n",
      "building tree 3 of 10\n",
      "building tree 4 of 10\n",
      "building tree 5 of 10\n",
      "building tree 6 of 10\n",
      "building tree 7 of 10\n",
      "building tree 8 of 10\n",
      "building tree 9 of 10\n",
      "building tree 10 of 10\n"
     ]
    },
    {
     "name": "stderr",
     "output_type": "stream",
     "text": [
      "[Parallel(n_jobs=64)]: Done   3 out of  10 | elapsed:   55.8s remaining:  2.2min\n",
      "[Parallel(n_jobs=64)]: Done  10 out of  10 | elapsed:  1.3min finished\n",
      "[Parallel(n_jobs=10)]: Using backend ThreadingBackend with 10 concurrent workers.\n",
      "[Parallel(n_jobs=10)]: Done   3 out of  10 | elapsed:    0.0s remaining:    0.0s\n",
      "[Parallel(n_jobs=10)]: Done  10 out of  10 | elapsed:    0.0s finished\n"
     ]
    },
    {
     "name": "stdout",
     "output_type": "stream",
     "text": [
      "$$$$$---3\n"
     ]
    },
    {
     "name": "stderr",
     "output_type": "stream",
     "text": [
      "[Parallel(n_jobs=64)]: Using backend ThreadingBackend with 64 concurrent workers.\n"
     ]
    },
    {
     "name": "stdout",
     "output_type": "stream",
     "text": [
      "building tree 1 of 10\n",
      "building tree 2 of 10\n",
      "building tree 3 of 10\n",
      "building tree 4 of 10\n",
      "building tree 5 of 10\n",
      "building tree 6 of 10\n",
      "building tree 7 of 10\n",
      "building tree 8 of 10\n",
      "building tree 9 of 10\n",
      "building tree 10 of 10\n"
     ]
    },
    {
     "name": "stderr",
     "output_type": "stream",
     "text": [
      "[Parallel(n_jobs=64)]: Done   3 out of  10 | elapsed:  1.1min remaining:  2.5min\n",
      "[Parallel(n_jobs=64)]: Done  10 out of  10 | elapsed:  1.4min finished\n",
      "[Parallel(n_jobs=10)]: Using backend ThreadingBackend with 10 concurrent workers.\n",
      "[Parallel(n_jobs=10)]: Done   3 out of  10 | elapsed:    0.0s remaining:    0.0s\n",
      "[Parallel(n_jobs=10)]: Done  10 out of  10 | elapsed:    0.0s finished\n"
     ]
    },
    {
     "name": "stdout",
     "output_type": "stream",
     "text": [
      "$$$$$---4\n"
     ]
    },
    {
     "name": "stderr",
     "output_type": "stream",
     "text": [
      "[Parallel(n_jobs=64)]: Using backend ThreadingBackend with 64 concurrent workers.\n"
     ]
    },
    {
     "name": "stdout",
     "output_type": "stream",
     "text": [
      "building tree 1 of 10\n",
      "building tree 2 of 10\n",
      "building tree 3 of 10\n",
      "building tree 4 of 10\n",
      "building tree 5 of 10\n",
      "building tree 6 of 10\n",
      "building tree 7 of 10\n",
      "building tree 8 of 10\n",
      "building tree 9 of 10\n",
      "building tree 10 of 10\n"
     ]
    },
    {
     "name": "stderr",
     "output_type": "stream",
     "text": [
      "[Parallel(n_jobs=64)]: Done   3 out of  10 | elapsed:  1.1min remaining:  2.6min\n",
      "[Parallel(n_jobs=64)]: Done  10 out of  10 | elapsed:  1.5min finished\n",
      "[Parallel(n_jobs=10)]: Using backend ThreadingBackend with 10 concurrent workers.\n",
      "[Parallel(n_jobs=10)]: Done   3 out of  10 | elapsed:    0.0s remaining:    0.0s\n",
      "[Parallel(n_jobs=10)]: Done  10 out of  10 | elapsed:    0.0s finished\n"
     ]
    },
    {
     "name": "stdout",
     "output_type": "stream",
     "text": [
      "$$$$$---5\n"
     ]
    },
    {
     "name": "stderr",
     "output_type": "stream",
     "text": [
      "[Parallel(n_jobs=64)]: Using backend ThreadingBackend with 64 concurrent workers.\n"
     ]
    },
    {
     "name": "stdout",
     "output_type": "stream",
     "text": [
      "building tree 1 of 10\n",
      "building tree 2 of 10\n",
      "building tree 3 of 10\n",
      "building tree 4 of 10\n",
      "building tree 5 of 10\n",
      "building tree 6 of 10\n",
      "building tree 7 of 10\n",
      "building tree 8 of 10\n",
      "building tree 9 of 10\n",
      "building tree 10 of 10\n"
     ]
    },
    {
     "name": "stderr",
     "output_type": "stream",
     "text": [
      "[Parallel(n_jobs=64)]: Done   3 out of  10 | elapsed:  1.1min remaining:  2.7min\n",
      "[Parallel(n_jobs=64)]: Done  10 out of  10 | elapsed:  1.5min finished\n",
      "[Parallel(n_jobs=10)]: Using backend ThreadingBackend with 10 concurrent workers.\n",
      "[Parallel(n_jobs=10)]: Done   3 out of  10 | elapsed:    0.0s remaining:    0.0s\n",
      "[Parallel(n_jobs=10)]: Done  10 out of  10 | elapsed:    0.0s finished\n"
     ]
    },
    {
     "name": "stdout",
     "output_type": "stream",
     "text": [
      "$$$$$---6\n"
     ]
    },
    {
     "name": "stderr",
     "output_type": "stream",
     "text": [
      "[Parallel(n_jobs=64)]: Using backend ThreadingBackend with 64 concurrent workers.\n"
     ]
    },
    {
     "name": "stdout",
     "output_type": "stream",
     "text": [
      "building tree 1 of 10\n",
      "building tree 2 of 10\n",
      "building tree 3 of 10\n",
      "building tree 4 of 10\n",
      "building tree 5 of 10\n",
      "building tree 6 of 10\n",
      "building tree 7 of 10\n",
      "building tree 8 of 10\n",
      "building tree 9 of 10\n",
      "building tree 10 of 10\n"
     ]
    },
    {
     "name": "stderr",
     "output_type": "stream",
     "text": [
      "[Parallel(n_jobs=64)]: Done   3 out of  10 | elapsed:  1.1min remaining:  2.6min\n",
      "[Parallel(n_jobs=64)]: Done  10 out of  10 | elapsed:  1.5min finished\n",
      "[Parallel(n_jobs=10)]: Using backend ThreadingBackend with 10 concurrent workers.\n",
      "[Parallel(n_jobs=10)]: Done   3 out of  10 | elapsed:    0.0s remaining:    0.0s\n",
      "[Parallel(n_jobs=10)]: Done  10 out of  10 | elapsed:    0.0s finished\n"
     ]
    },
    {
     "name": "stdout",
     "output_type": "stream",
     "text": [
      "$$$$$---7\n"
     ]
    },
    {
     "name": "stderr",
     "output_type": "stream",
     "text": [
      "[Parallel(n_jobs=64)]: Using backend ThreadingBackend with 64 concurrent workers.\n"
     ]
    },
    {
     "name": "stdout",
     "output_type": "stream",
     "text": [
      "building tree 1 of 10\n",
      "building tree 2 of 10\n",
      "building tree 3 of 10\n",
      "building tree 4 of 10\n",
      "building tree 5 of 10\n",
      "building tree 6 of 10\n",
      "building tree 7 of 10\n",
      "building tree 8 of 10\n",
      "building tree 9 of 10\n",
      "building tree 10 of 10\n"
     ]
    },
    {
     "name": "stderr",
     "output_type": "stream",
     "text": [
      "[Parallel(n_jobs=64)]: Done   3 out of  10 | elapsed:  1.5min remaining:  3.5min\n",
      "[Parallel(n_jobs=64)]: Done  10 out of  10 | elapsed:  1.6min finished\n",
      "[Parallel(n_jobs=10)]: Using backend ThreadingBackend with 10 concurrent workers.\n",
      "[Parallel(n_jobs=10)]: Done   3 out of  10 | elapsed:    0.0s remaining:    0.0s\n",
      "[Parallel(n_jobs=10)]: Done  10 out of  10 | elapsed:    0.0s finished\n",
      " 18%|███████▍                                 | 2/11 [22:46<1:40:31, 670.17s/it]"
     ]
    },
    {
     "name": "stdout",
     "output_type": "stream",
     "text": [
      "[[7, 'random_forest', 22.780907625720165, -0.0005293005815447671], [8, 'random_forest', 18.93809401437832, -0.00016849308063027202], [9, 'random_forest', 18.100895413712855, 0.00237990330026161], [10, 'random_forest', 21.430550372951856, 0.0028004871366440476], [11, 'random_forest', 19.851966790214593, 0.003957849896563226], [12, 'random_forest', 27.33704284646527, -0.002275657003169007], [13, 'random_forest', 19.01724333665828, -0.0013316563412153481]]\n",
      "$$$$$---1\n",
      "[0]\tvalidation_0-rmse:4.78289\n",
      "[1]\tvalidation_0-rmse:4.78007\n",
      "[2]\tvalidation_0-rmse:4.77762\n",
      "[3]\tvalidation_0-rmse:4.77574\n",
      "[4]\tvalidation_0-rmse:4.77410\n",
      "[5]\tvalidation_0-rmse:4.77307\n",
      "[6]\tvalidation_0-rmse:4.77256\n",
      "[7]\tvalidation_0-rmse:4.77172\n",
      "[8]\tvalidation_0-rmse:4.77097\n",
      "[9]\tvalidation_0-rmse:4.77069\n",
      "$$$$$---2\n",
      "[0]\tvalidation_0-rmse:4.37188\n",
      "[1]\tvalidation_0-rmse:4.36848\n",
      "[2]\tvalidation_0-rmse:4.36531\n",
      "[3]\tvalidation_0-rmse:4.36267\n",
      "[4]\tvalidation_0-rmse:4.36026\n",
      "[5]\tvalidation_0-rmse:4.35844\n",
      "[6]\tvalidation_0-rmse:4.35717\n",
      "[7]\tvalidation_0-rmse:4.35593\n",
      "[8]\tvalidation_0-rmse:4.35478\n",
      "[9]\tvalidation_0-rmse:4.35317\n",
      "$$$$$---3\n",
      "[0]\tvalidation_0-rmse:4.28622\n",
      "[1]\tvalidation_0-rmse:4.28318\n",
      "[2]\tvalidation_0-rmse:4.28090\n",
      "[3]\tvalidation_0-rmse:4.27867\n",
      "[4]\tvalidation_0-rmse:4.27663\n",
      "[5]\tvalidation_0-rmse:4.27424\n",
      "[6]\tvalidation_0-rmse:4.27199\n",
      "[7]\tvalidation_0-rmse:4.27022\n",
      "[8]\tvalidation_0-rmse:4.26900\n",
      "[9]\tvalidation_0-rmse:4.26822\n",
      "$$$$$---4\n",
      "[0]\tvalidation_0-rmse:4.66221\n",
      "[1]\tvalidation_0-rmse:4.65873\n",
      "[2]\tvalidation_0-rmse:4.65601\n",
      "[3]\tvalidation_0-rmse:4.65337\n",
      "[4]\tvalidation_0-rmse:4.65095\n",
      "[5]\tvalidation_0-rmse:4.64886\n",
      "[6]\tvalidation_0-rmse:4.64710\n",
      "[7]\tvalidation_0-rmse:4.64511\n",
      "[8]\tvalidation_0-rmse:4.64355\n",
      "[9]\tvalidation_0-rmse:4.64194\n",
      "$$$$$---5\n",
      "[0]\tvalidation_0-rmse:4.49066\n",
      "[1]\tvalidation_0-rmse:4.48663\n",
      "[2]\tvalidation_0-rmse:4.48318\n",
      "[3]\tvalidation_0-rmse:4.48018\n",
      "[4]\tvalidation_0-rmse:4.47730\n",
      "[5]\tvalidation_0-rmse:4.47478\n",
      "[6]\tvalidation_0-rmse:4.47238\n",
      "[7]\tvalidation_0-rmse:4.47042\n",
      "[8]\tvalidation_0-rmse:4.46819\n",
      "[9]\tvalidation_0-rmse:4.46657\n",
      "$$$$$---6\n",
      "[0]\tvalidation_0-rmse:5.22769\n",
      "[1]\tvalidation_0-rmse:5.22549\n",
      "[2]\tvalidation_0-rmse:5.22318\n",
      "[3]\tvalidation_0-rmse:5.22019\n",
      "[4]\tvalidation_0-rmse:5.22056\n",
      "[5]\tvalidation_0-rmse:5.21918\n",
      "[6]\tvalidation_0-rmse:5.21889\n",
      "[7]\tvalidation_0-rmse:5.21855\n",
      "[8]\tvalidation_0-rmse:5.21932\n",
      "[9]\tvalidation_0-rmse:5.21834\n",
      "$$$$$---7\n",
      "[0]\tvalidation_0-rmse:4.37338\n",
      "[1]\tvalidation_0-rmse:4.37030\n",
      "[2]\tvalidation_0-rmse:4.36772\n",
      "[3]\tvalidation_0-rmse:4.36579\n",
      "[4]\tvalidation_0-rmse:4.36379\n",
      "[5]\tvalidation_0-rmse:4.36209\n",
      "[6]\tvalidation_0-rmse:4.36052\n",
      "[7]\tvalidation_0-rmse:4.35922\n",
      "[8]\tvalidation_0-rmse:4.35812\n",
      "[9]\tvalidation_0-rmse:4.35700\n"
     ]
    },
    {
     "name": "stderr",
     "output_type": "stream",
     "text": [
      "\r",
      " 27%|███████████▋                               | 3/11 [24:41<55:32, 416.57s/it]"
     ]
    },
    {
     "name": "stdout",
     "output_type": "stream",
     "text": [
      "[[14, 'xgboost_linear', 22.759476320043927, 0.0004119546849744582], [15, 'xgboost_linear', 18.950053650763202, -0.0008001116316724843], [16, 'xgboost_linear', 18.217737328199465, -0.004059769399046509], [17, 'xgboost_linear', 21.547575993560862, -0.0026449115970779147], [18, 'xgboost_linear', 19.950277990636852, -0.0009747646137581167], [19, 'xgboost_linear', 27.231096491384108, 0.0016087226366644503], [20, 'xgboost_linear', 18.983430803998893, 0.00044870470972901977]]\n",
      "[1]\tvalid_0's l1: 3.09531\tvalid_0's l2: 22.7706\n",
      "[2]\tvalid_0's l1: 3.09462\tvalid_0's l2: 22.757\n",
      "[3]\tvalid_0's l1: 3.09382\tvalid_0's l2: 22.7422\n",
      "[4]\tvalid_0's l1: 3.09326\tvalid_0's l2: 22.7314\n",
      "[5]\tvalid_0's l1: 3.09272\tvalid_0's l2: 22.7223\n",
      "[6]\tvalid_0's l1: 3.09229\tvalid_0's l2: 22.715\n",
      "[7]\tvalid_0's l1: 3.09186\tvalid_0's l2: 22.7075\n",
      "[8]\tvalid_0's l1: 3.09163\tvalid_0's l2: 22.7031\n",
      "[9]\tvalid_0's l1: 3.09115\tvalid_0's l2: 22.6968\n",
      "[10]\tvalid_0's l1: 3.09078\tvalid_0's l2: 22.6896\n",
      "[11]\tvalid_0's l1: 3.09048\tvalid_0's l2: 22.6854\n",
      "[12]\tvalid_0's l1: 3.09031\tvalid_0's l2: 22.6837\n",
      "[13]\tvalid_0's l1: 3.09003\tvalid_0's l2: 22.6806\n",
      "[14]\tvalid_0's l1: 3.08984\tvalid_0's l2: 22.6767\n",
      "[15]\tvalid_0's l1: 3.08967\tvalid_0's l2: 22.676\n",
      "[16]\tvalid_0's l1: 3.08966\tvalid_0's l2: 22.6734\n",
      "[17]\tvalid_0's l1: 3.08935\tvalid_0's l2: 22.6697\n",
      "[18]\tvalid_0's l1: 3.08911\tvalid_0's l2: 22.6666\n",
      "[19]\tvalid_0's l1: 3.08901\tvalid_0's l2: 22.6649\n",
      "[20]\tvalid_0's l1: 3.08896\tvalid_0's l2: 22.6635\n",
      "[1]\tvalid_0's l1: 2.76294\tvalid_0's l2: 18.9209\n",
      "[2]\tvalid_0's l1: 2.76228\tvalid_0's l2: 18.9098\n",
      "[3]\tvalid_0's l1: 2.76181\tvalid_0's l2: 18.9013\n",
      "[4]\tvalid_0's l1: 2.76142\tvalid_0's l2: 18.8934\n",
      "[5]\tvalid_0's l1: 2.76116\tvalid_0's l2: 18.8898\n",
      "[6]\tvalid_0's l1: 2.76064\tvalid_0's l2: 18.8839\n",
      "[7]\tvalid_0's l1: 2.76019\tvalid_0's l2: 18.8769\n",
      "[8]\tvalid_0's l1: 2.76006\tvalid_0's l2: 18.8737\n",
      "[9]\tvalid_0's l1: 2.75971\tvalid_0's l2: 18.8675\n",
      "[10]\tvalid_0's l1: 2.75951\tvalid_0's l2: 18.8633\n",
      "[11]\tvalid_0's l1: 2.75908\tvalid_0's l2: 18.8599\n",
      "[12]\tvalid_0's l1: 2.75891\tvalid_0's l2: 18.8556\n",
      "[13]\tvalid_0's l1: 2.75873\tvalid_0's l2: 18.854\n",
      "[14]\tvalid_0's l1: 2.7585\tvalid_0's l2: 18.8518\n",
      "[15]\tvalid_0's l1: 2.75838\tvalid_0's l2: 18.85\n",
      "[16]\tvalid_0's l1: 2.758\tvalid_0's l2: 18.8468\n",
      "[17]\tvalid_0's l1: 2.75776\tvalid_0's l2: 18.8422\n",
      "[18]\tvalid_0's l1: 2.75759\tvalid_0's l2: 18.8408\n",
      "[19]\tvalid_0's l1: 2.75756\tvalid_0's l2: 18.8412\n",
      "[20]\tvalid_0's l1: 2.7574\tvalid_0's l2: 18.8397\n",
      "[1]\tvalid_0's l1: 2.61485\tvalid_0's l2: 18.1428\n",
      "[2]\tvalid_0's l1: 2.61437\tvalid_0's l2: 18.1314\n",
      "[3]\tvalid_0's l1: 2.61412\tvalid_0's l2: 18.1258\n",
      "[4]\tvalid_0's l1: 2.61373\tvalid_0's l2: 18.1173\n",
      "[5]\tvalid_0's l1: 2.61332\tvalid_0's l2: 18.1103\n",
      "[6]\tvalid_0's l1: 2.61269\tvalid_0's l2: 18.1045\n",
      "[7]\tvalid_0's l1: 2.61249\tvalid_0's l2: 18.0997\n",
      "[8]\tvalid_0's l1: 2.61222\tvalid_0's l2: 18.0957\n",
      "[9]\tvalid_0's l1: 2.612\tvalid_0's l2: 18.0916\n",
      "[10]\tvalid_0's l1: 2.6119\tvalid_0's l2: 18.0896\n",
      "[11]\tvalid_0's l1: 2.61169\tvalid_0's l2: 18.0862\n",
      "[12]\tvalid_0's l1: 2.61132\tvalid_0's l2: 18.0809\n",
      "[13]\tvalid_0's l1: 2.61107\tvalid_0's l2: 18.0799\n",
      "[14]\tvalid_0's l1: 2.61095\tvalid_0's l2: 18.0805\n",
      "[15]\tvalid_0's l1: 2.61079\tvalid_0's l2: 18.0779\n",
      "[16]\tvalid_0's l1: 2.61074\tvalid_0's l2: 18.0778\n",
      "[17]\tvalid_0's l1: 2.61054\tvalid_0's l2: 18.0739\n",
      "[18]\tvalid_0's l1: 2.61045\tvalid_0's l2: 18.0734\n",
      "[19]\tvalid_0's l1: 2.6103\tvalid_0's l2: 18.0708\n",
      "[20]\tvalid_0's l1: 2.61011\tvalid_0's l2: 18.068\n",
      "[1]\tvalid_0's l1: 3.00266\tvalid_0's l2: 21.4926\n",
      "[2]\tvalid_0's l1: 3.0022\tvalid_0's l2: 21.4848\n",
      "[3]\tvalid_0's l1: 3.0019\tvalid_0's l2: 21.4778\n",
      "[4]\tvalid_0's l1: 3.00184\tvalid_0's l2: 21.4736\n",
      "[5]\tvalid_0's l1: 3.00146\tvalid_0's l2: 21.4655\n",
      "[6]\tvalid_0's l1: 3.00128\tvalid_0's l2: 21.4606\n",
      "[7]\tvalid_0's l1: 3.00103\tvalid_0's l2: 21.4541\n",
      "[8]\tvalid_0's l1: 3.00079\tvalid_0's l2: 21.451\n",
      "[9]\tvalid_0's l1: 3.00064\tvalid_0's l2: 21.448\n",
      "[10]\tvalid_0's l1: 3.00039\tvalid_0's l2: 21.4446\n",
      "[11]\tvalid_0's l1: 3.00043\tvalid_0's l2: 21.4442\n",
      "[12]\tvalid_0's l1: 3.00027\tvalid_0's l2: 21.439\n",
      "[13]\tvalid_0's l1: 3.00008\tvalid_0's l2: 21.4361\n",
      "[14]\tvalid_0's l1: 2.99995\tvalid_0's l2: 21.4337\n",
      "[15]\tvalid_0's l1: 2.99985\tvalid_0's l2: 21.4328\n",
      "[16]\tvalid_0's l1: 2.99976\tvalid_0's l2: 21.4317\n",
      "[17]\tvalid_0's l1: 2.99986\tvalid_0's l2: 21.4316\n",
      "[18]\tvalid_0's l1: 2.99973\tvalid_0's l2: 21.429\n",
      "[19]\tvalid_0's l1: 2.99977\tvalid_0's l2: 21.4278\n",
      "[20]\tvalid_0's l1: 2.99973\tvalid_0's l2: 21.4278\n",
      "[1]\tvalid_0's l1: 2.80764\tvalid_0's l2: 19.9196\n",
      "[2]\tvalid_0's l1: 2.8077\tvalid_0's l2: 19.9101\n",
      "[3]\tvalid_0's l1: 2.80773\tvalid_0's l2: 19.9017\n",
      "[4]\tvalid_0's l1: 2.80763\tvalid_0's l2: 19.8927\n",
      "[5]\tvalid_0's l1: 2.80763\tvalid_0's l2: 19.886\n",
      "[6]\tvalid_0's l1: 2.80768\tvalid_0's l2: 19.881\n",
      "[7]\tvalid_0's l1: 2.80792\tvalid_0's l2: 19.878\n",
      "[8]\tvalid_0's l1: 2.80791\tvalid_0's l2: 19.8707\n",
      "[9]\tvalid_0's l1: 2.80792\tvalid_0's l2: 19.8679\n",
      "[10]\tvalid_0's l1: 2.80783\tvalid_0's l2: 19.8633\n",
      "[1]\tvalid_0's l1: 3.33288\tvalid_0's l2: 27.2869\n",
      "[2]\tvalid_0's l1: 3.33197\tvalid_0's l2: 27.2599\n",
      "[3]\tvalid_0's l1: 3.33141\tvalid_0's l2: 27.2442\n",
      "[4]\tvalid_0's l1: 3.33099\tvalid_0's l2: 27.2291\n",
      "[5]\tvalid_0's l1: 3.33033\tvalid_0's l2: 27.2128\n",
      "[6]\tvalid_0's l1: 3.33024\tvalid_0's l2: 27.2043\n",
      "[7]\tvalid_0's l1: 3.32984\tvalid_0's l2: 27.1951\n",
      "[8]\tvalid_0's l1: 3.33002\tvalid_0's l2: 27.1957\n",
      "[9]\tvalid_0's l1: 3.33024\tvalid_0's l2: 27.198\n",
      "[10]\tvalid_0's l1: 3.32974\tvalid_0's l2: 27.1863\n",
      "[11]\tvalid_0's l1: 3.33014\tvalid_0's l2: 27.1876\n",
      "[12]\tvalid_0's l1: 3.33053\tvalid_0's l2: 27.1896\n",
      "[13]\tvalid_0's l1: 3.33059\tvalid_0's l2: 27.1859\n",
      "[14]\tvalid_0's l1: 3.33049\tvalid_0's l2: 27.1787\n",
      "[15]\tvalid_0's l1: 3.33082\tvalid_0's l2: 27.18\n",
      "[1]\tvalid_0's l1: 2.79278\tvalid_0's l2: 18.9853\n",
      "[2]\tvalid_0's l1: 2.79234\tvalid_0's l2: 18.978\n",
      "[3]\tvalid_0's l1: 2.79185\tvalid_0's l2: 18.9706\n",
      "[4]\tvalid_0's l1: 2.79155\tvalid_0's l2: 18.965\n",
      "[5]\tvalid_0's l1: 2.79126\tvalid_0's l2: 18.9599\n",
      "[6]\tvalid_0's l1: 2.79097\tvalid_0's l2: 18.954\n",
      "[7]\tvalid_0's l1: 2.79086\tvalid_0's l2: 18.9508\n",
      "[8]\tvalid_0's l1: 2.79052\tvalid_0's l2: 18.9447\n",
      "[9]\tvalid_0's l1: 2.79036\tvalid_0's l2: 18.9412\n",
      "[10]\tvalid_0's l1: 2.79012\tvalid_0's l2: 18.9386\n",
      "[11]\tvalid_0's l1: 2.78999\tvalid_0's l2: 18.9355\n",
      "[12]\tvalid_0's l1: 2.78988\tvalid_0's l2: 18.9327\n",
      "[13]\tvalid_0's l1: 2.78994\tvalid_0's l2: 18.9319\n",
      "[14]\tvalid_0's l1: 2.78985\tvalid_0's l2: 18.9276\n",
      "[15]\tvalid_0's l1: 2.78983\tvalid_0's l2: 18.9269\n",
      "[16]\tvalid_0's l1: 2.78988\tvalid_0's l2: 18.926\n",
      "[17]\tvalid_0's l1: 2.78987\tvalid_0's l2: 18.9225\n",
      "[18]\tvalid_0's l1: 2.78985\tvalid_0's l2: 18.919\n",
      "[19]\tvalid_0's l1: 2.78973\tvalid_0's l2: 18.9182\n",
      "[20]\tvalid_0's l1: 2.78985\tvalid_0's l2: 18.9169\n"
     ]
    },
    {
     "name": "stderr",
     "output_type": "stream",
     "text": [
      "\r",
      " 36%|███████████████▋                           | 4/11 [26:12<33:37, 288.22s/it]"
     ]
    },
    {
     "name": "stdout",
     "output_type": "stream",
     "text": [
      "[[21, 'gbm', 22.66350550393702, 0.004626958542295334], [22, 'gbm', 18.839675493713678, 0.005029237136024434], [23, 'gbm', 18.067964670981414, 0.004194861621231949], [24, 'gbm', 21.42896031286685, 0.0028744753037511783], [25, 'gbm', 19.88597288795631, 0.002251645817681558], [26, 'gbm', 27.186348184555268, 0.0032493587097960352], [27, 'gbm', 18.918224488273914, 0.0038820702597682777]]\n",
      "$$$$$---1\n",
      "$$$$$---2\n",
      "$$$$$---3\n",
      "$$$$$---4\n",
      "$$$$$---5\n",
      "$$$$$---6\n"
     ]
    },
    {
     "name": "stderr",
     "output_type": "stream",
     "text": [
      "\r",
      " 45%|███████████████████▌                       | 5/11 [26:28<19:01, 190.19s/it]"
     ]
    },
    {
     "name": "stdout",
     "output_type": "stream",
     "text": [
      "$$$$$---7\n",
      "[[28, 'dummy', 22.78603871796385, -0.0007546563144305019], [29, 'dummy', 18.935811983865147, -4.7973295598247034e-05], [30, 'dummy', 18.151718651034788, -0.00042118922985090457], [31, 'dummy', 21.4990648745393, -0.0003876077287734425], [32, 'dummy', 19.93132568806165, -2.3861743231767818e-05], [33, 'dummy', 27.322843262729894, -0.001755048494140432], [34, 'dummy', 18.99269042730624, -3.885038852091682e-05]]\n",
      "$$$$$---1\n",
      "$$$$$---2\n",
      "$$$$$---3\n",
      "$$$$$---4\n",
      "$$$$$---5\n",
      "$$$$$---6\n",
      "$$$$$---7\n"
     ]
    },
    {
     "name": "stderr",
     "output_type": "stream",
     "text": [
      "\r",
      " 55%|███████████████████████▍                   | 6/11 [27:23<12:00, 144.01s/it]"
     ]
    },
    {
     "name": "stdout",
     "output_type": "stream",
     "text": [
      "[[35, 'linear', 23.077135649022804, -0.013539529227264424], [36, 'linear', 19.09897137410644, -0.008664832064262828], [37, 'linear', 18.280346149303995, -0.00751041737733571], [38, 'linear', 22.425477405919477, -0.043495139216569445], [39, 'linear', 20.046425022850755, -0.005798795285601344], [40, 'linear', 27.87582797086563, -0.022029483983461162], [41, 'linear', 19.309977548570078, -0.016745248526595313]]\n",
      "$$$$$---1\n",
      "$$$$$---2\n",
      "$$$$$---3\n",
      "$$$$$---4\n",
      "$$$$$---5\n",
      "$$$$$---6\n",
      "$$$$$---7\n"
     ]
    },
    {
     "name": "stderr",
     "output_type": "stream",
     "text": [
      "\r",
      " 64%|███████████████████████████▎               | 7/11 [28:12<07:32, 113.06s/it]"
     ]
    },
    {
     "name": "stdout",
     "output_type": "stream",
     "text": [
      "[[42, 'ridge', 23.306065148729115, -0.02359403082951994], [43, 'ridge', 19.06005737390709, -0.006609685600760473], [44, 'ridge', 18.237283396521025, -0.005137039341961858], [45, 'ridge', 22.232039999332216, -0.034494171707035504], [46, 'ridge', 20.025810793077458, -0.0047645077531315305], [47, 'ridge', 27.817106926808627, -0.019876556421299707], [48, 'ridge', 19.261822189369003, -0.014209682002209734]]\n",
      "$$$$$---1\n",
      "$$$$$---2\n",
      "$$$$$---3\n",
      "$$$$$---4\n",
      "$$$$$---5\n",
      "$$$$$---6\n",
      "$$$$$---7\n"
     ]
    },
    {
     "name": "stderr",
     "output_type": "stream",
     "text": [
      "\r",
      " 73%|████████████████████████████████            | 8/11 [29:14<04:49, 96.66s/it]"
     ]
    },
    {
     "name": "stdout",
     "output_type": "stream",
     "text": [
      "[[49, 'lasso', 22.771354279694453, -0.00010972104703443897], [50, 'lasso', 18.93238326741051, 0.00013310586511483535], [51, 'lasso', 18.146462805806493, -0.00013151644267406226], [52, 'lasso', 21.45077175674837, 0.001859552176020851], [53, 'lasso', 19.91729404759222, 0.0006801544124640513], [54, 'lasso', 27.356152534703206, -0.002976287844674852], [55, 'lasso', 19.04984034423305, -0.0030480152797209836]]\n",
      "$$$$$---1\n",
      "$$$$$---2\n",
      "$$$$$---3\n",
      "$$$$$---4\n",
      "$$$$$---5\n",
      "$$$$$---6\n",
      "$$$$$---7\n"
     ]
    },
    {
     "name": "stderr",
     "output_type": "stream",
     "text": [
      "\r",
      " 82%|████████████████████████████████████        | 9/11 [30:12<02:49, 84.61s/it]"
     ]
    },
    {
     "name": "stdout",
     "output_type": "stream",
     "text": [
      "[[56, 'elasticnet', 22.770731941986828, -8.238819789774254e-05], [57, 'elasticnet', 18.93048798894362, 0.0002332002994733795], [58, 'elasticnet', 18.14750007677335, -0.00018868501575330932], [59, 'elasticnet', 21.449773483456372, 0.0019060035094284888], [60, 'elasticnet', 19.91649399489795, 0.0007202958359422418], [61, 'elasticnet', 27.364896630258233, -0.003296878267220915], [62, 'elasticnet', 19.04955444453375, -0.003032961551145519]]\n",
      "$$$$$---1\n",
      "$$$$$---2\n",
      "$$$$$---3\n",
      "$$$$$---4\n",
      "$$$$$---5\n",
      "$$$$$---6\n",
      "$$$$$---7\n"
     ]
    },
    {
     "name": "stderr",
     "output_type": "stream",
     "text": [
      "\r",
      " 91%|███████████████████████████████████████    | 10/11 [31:14<01:17, 77.79s/it]"
     ]
    },
    {
     "name": "stdout",
     "output_type": "stream",
     "text": [
      "[[63, 'ardr_linear', 22.78603871796386, -0.0007546563144307239], [64, 'ardr_linear', 18.93581198386515, -4.797329559846908e-05], [65, 'ardr_linear', 18.151718651034784, -0.00042118922985090457], [66, 'ardr_linear', 21.4990648745393, -0.0003876077287734425], [67, 'ardr_linear', 19.931325688061655, -2.3861743232211907e-05], [68, 'ardr_linear', 27.322843262729894, -0.0017550484941408762], [69, 'ardr_linear', 18.992690427306236, -3.8850388520472734e-05]]\n",
      "$$$$$---1\n",
      "Convergence after  32  iterations\n",
      "$$$$$---2\n",
      "Convergence after  20  iterations\n",
      "$$$$$---3\n",
      "Convergence after  92  iterations\n",
      "$$$$$---4\n",
      "Convergence after  81  iterations\n",
      "$$$$$---5\n",
      "Convergence after  89  iterations\n",
      "$$$$$---6\n",
      "Convergence after  166  iterations\n",
      "$$$$$---7\n",
      "Convergence after  44  iterations\n"
     ]
    },
    {
     "name": "stderr",
     "output_type": "stream",
     "text": [
      "100%|██████████████████████████████████████████| 11/11 [34:07<00:00, 186.17s/it]"
     ]
    },
    {
     "name": "stdout",
     "output_type": "stream",
     "text": [
      "[[70, 'bayesian_ridge', 39.818135870151224, -0.7487982606822892], [71, 'bayesian_ridge', 236.85940524581002, -11.509142379207521], [72, 'bayesian_ridge', 18.22978282334477, -0.004723649707561339], [73, 'bayesian_ridge', 22.190173980930584, -0.032546075534557684], [74, 'bayesian_ridge', 19.976560771010536, -0.002293463025393905], [75, 'bayesian_ridge', 27.42650592924302, -0.005555699785126267], [76, 'bayesian_ridge', 352.461131627053, -17.558446273214344]]\n"
     ]
    },
    {
     "name": "stderr",
     "output_type": "stream",
     "text": [
      "\n"
     ]
    },
    {
     "data": {
      "text/plain": [
       "[[0, 'DecisionTree', 22.794256645140226, -0.0011155847315544865],\n",
       " [1, 'DecisionTree', 18.96271388027769, -0.0014687302722780071],\n",
       " [2, 'DecisionTree', 18.124000488338556, 0.0011064808393549397],\n",
       " [3, 'DecisionTree', 21.51762591563431, -0.001251284154066612],\n",
       " [4, 'DecisionTree', 19.81580289630115, 0.005772318106706087],\n",
       " [5, 'DecisionTree', 27.269565673037228, 0.00019830218510685782],\n",
       " [6, 'DecisionTree', 19.032642691370285, -0.0021424921225838833],\n",
       " [7, 'random_forest', 22.780907625720165, -0.0005293005815447671],\n",
       " [8, 'random_forest', 18.93809401437832, -0.00016849308063027202],\n",
       " [9, 'random_forest', 18.100895413712855, 0.00237990330026161],\n",
       " [10, 'random_forest', 21.430550372951856, 0.0028004871366440476],\n",
       " [11, 'random_forest', 19.851966790214593, 0.003957849896563226],\n",
       " [12, 'random_forest', 27.33704284646527, -0.002275657003169007],\n",
       " [13, 'random_forest', 19.01724333665828, -0.0013316563412153481],\n",
       " [14, 'xgboost_linear', 22.759476320043927, 0.0004119546849744582],\n",
       " [15, 'xgboost_linear', 18.950053650763202, -0.0008001116316724843],\n",
       " [16, 'xgboost_linear', 18.217737328199465, -0.004059769399046509],\n",
       " [17, 'xgboost_linear', 21.547575993560862, -0.0026449115970779147],\n",
       " [18, 'xgboost_linear', 19.950277990636852, -0.0009747646137581167],\n",
       " [19, 'xgboost_linear', 27.231096491384108, 0.0016087226366644503],\n",
       " [20, 'xgboost_linear', 18.983430803998893, 0.00044870470972901977],\n",
       " [21, 'gbm', 22.66350550393702, 0.004626958542295334],\n",
       " [22, 'gbm', 18.839675493713678, 0.005029237136024434],\n",
       " [23, 'gbm', 18.067964670981414, 0.004194861621231949],\n",
       " [24, 'gbm', 21.42896031286685, 0.0028744753037511783],\n",
       " [25, 'gbm', 19.88597288795631, 0.002251645817681558],\n",
       " [26, 'gbm', 27.186348184555268, 0.0032493587097960352],\n",
       " [27, 'gbm', 18.918224488273914, 0.0038820702597682777],\n",
       " [28, 'dummy', 22.78603871796385, -0.0007546563144305019],\n",
       " [29, 'dummy', 18.935811983865147, -4.7973295598247034e-05],\n",
       " [30, 'dummy', 18.151718651034788, -0.00042118922985090457],\n",
       " [31, 'dummy', 21.4990648745393, -0.0003876077287734425],\n",
       " [32, 'dummy', 19.93132568806165, -2.3861743231767818e-05],\n",
       " [33, 'dummy', 27.322843262729894, -0.001755048494140432],\n",
       " [34, 'dummy', 18.99269042730624, -3.885038852091682e-05],\n",
       " [35, 'linear', 23.077135649022804, -0.013539529227264424],\n",
       " [36, 'linear', 19.09897137410644, -0.008664832064262828],\n",
       " [37, 'linear', 18.280346149303995, -0.00751041737733571],\n",
       " [38, 'linear', 22.425477405919477, -0.043495139216569445],\n",
       " [39, 'linear', 20.046425022850755, -0.005798795285601344],\n",
       " [40, 'linear', 27.87582797086563, -0.022029483983461162],\n",
       " [41, 'linear', 19.309977548570078, -0.016745248526595313],\n",
       " [42, 'ridge', 23.306065148729115, -0.02359403082951994],\n",
       " [43, 'ridge', 19.06005737390709, -0.006609685600760473],\n",
       " [44, 'ridge', 18.237283396521025, -0.005137039341961858],\n",
       " [45, 'ridge', 22.232039999332216, -0.034494171707035504],\n",
       " [46, 'ridge', 20.025810793077458, -0.0047645077531315305],\n",
       " [47, 'ridge', 27.817106926808627, -0.019876556421299707],\n",
       " [48, 'ridge', 19.261822189369003, -0.014209682002209734],\n",
       " [49, 'lasso', 22.771354279694453, -0.00010972104703443897],\n",
       " [50, 'lasso', 18.93238326741051, 0.00013310586511483535],\n",
       " [51, 'lasso', 18.146462805806493, -0.00013151644267406226],\n",
       " [52, 'lasso', 21.45077175674837, 0.001859552176020851],\n",
       " [53, 'lasso', 19.91729404759222, 0.0006801544124640513],\n",
       " [54, 'lasso', 27.356152534703206, -0.002976287844674852],\n",
       " [55, 'lasso', 19.04984034423305, -0.0030480152797209836],\n",
       " [56, 'elasticnet', 22.770731941986828, -8.238819789774254e-05],\n",
       " [57, 'elasticnet', 18.93048798894362, 0.0002332002994733795],\n",
       " [58, 'elasticnet', 18.14750007677335, -0.00018868501575330932],\n",
       " [59, 'elasticnet', 21.449773483456372, 0.0019060035094284888],\n",
       " [60, 'elasticnet', 19.91649399489795, 0.0007202958359422418],\n",
       " [61, 'elasticnet', 27.364896630258233, -0.003296878267220915],\n",
       " [62, 'elasticnet', 19.04955444453375, -0.003032961551145519],\n",
       " [63, 'ardr_linear', 22.78603871796386, -0.0007546563144307239],\n",
       " [64, 'ardr_linear', 18.93581198386515, -4.797329559846908e-05],\n",
       " [65, 'ardr_linear', 18.151718651034784, -0.00042118922985090457],\n",
       " [66, 'ardr_linear', 21.4990648745393, -0.0003876077287734425],\n",
       " [67, 'ardr_linear', 19.931325688061655, -2.3861743232211907e-05],\n",
       " [68, 'ardr_linear', 27.322843262729894, -0.0017550484941408762],\n",
       " [69, 'ardr_linear', 18.992690427306236, -3.8850388520472734e-05],\n",
       " [70, 'bayesian_ridge', 39.818135870151224, -0.7487982606822892],\n",
       " [71, 'bayesian_ridge', 236.85940524581002, -11.509142379207521],\n",
       " [72, 'bayesian_ridge', 18.22978282334477, -0.004723649707561339],\n",
       " [73, 'bayesian_ridge', 22.190173980930584, -0.032546075534557684],\n",
       " [74, 'bayesian_ridge', 19.976560771010536, -0.002293463025393905],\n",
       " [75, 'bayesian_ridge', 27.42650592924302, -0.005555699785126267],\n",
       " [76, 'bayesian_ridge', 352.461131627053, -17.558446273214344]]"
      ]
     },
     "execution_count": 31,
     "metadata": {},
     "output_type": "execute_result"
    },
    {
     "data": {
      "text/plain": [
       "2049.074299812317"
      ]
     },
     "execution_count": 31,
     "metadata": {},
     "output_type": "execute_result"
    }
   ],
   "source": [
    "# 최종\n",
    "import time\n",
    "start = time.time()\n",
    "_ = my_regressor()\n",
    "results\n",
    "time.time()-start"
   ]
  },
  {
   "cell_type": "code",
   "execution_count": 33,
   "id": "4fb00dde",
   "metadata": {},
   "outputs": [
    {
     "data": {
      "text/plain": [
       "[[0, 'DecisionTree', 22.794256645140226, -0.0011155847315544865],\n",
       " [1, 'DecisionTree', 18.96271388027769, -0.0014687302722780071],\n",
       " [2, 'DecisionTree', 18.124000488338556, 0.0011064808393549397],\n",
       " [3, 'DecisionTree', 21.51762591563431, -0.001251284154066612],\n",
       " [4, 'DecisionTree', 19.81580289630115, 0.005772318106706087],\n",
       " [5, 'DecisionTree', 27.269565673037228, 0.00019830218510685782],\n",
       " [6, 'DecisionTree', 19.032642691370285, -0.0021424921225838833],\n",
       " [7, 'random_forest', 22.780907625720165, -0.0005293005815447671],\n",
       " [8, 'random_forest', 18.93809401437832, -0.00016849308063027202],\n",
       " [9, 'random_forest', 18.100895413712855, 0.00237990330026161],\n",
       " [10, 'random_forest', 21.430550372951856, 0.0028004871366440476],\n",
       " [11, 'random_forest', 19.851966790214593, 0.003957849896563226],\n",
       " [12, 'random_forest', 27.33704284646527, -0.002275657003169007],\n",
       " [13, 'random_forest', 19.01724333665828, -0.0013316563412153481],\n",
       " [14, 'xgboost_linear', 22.759476320043927, 0.0004119546849744582],\n",
       " [15, 'xgboost_linear', 18.950053650763202, -0.0008001116316724843],\n",
       " [16, 'xgboost_linear', 18.217737328199465, -0.004059769399046509],\n",
       " [17, 'xgboost_linear', 21.547575993560862, -0.0026449115970779147],\n",
       " [18, 'xgboost_linear', 19.950277990636852, -0.0009747646137581167],\n",
       " [19, 'xgboost_linear', 27.231096491384108, 0.0016087226366644503],\n",
       " [20, 'xgboost_linear', 18.983430803998893, 0.00044870470972901977],\n",
       " [21, 'gbm', 22.66350550393702, 0.004626958542295334],\n",
       " [22, 'gbm', 18.839675493713678, 0.005029237136024434],\n",
       " [23, 'gbm', 18.067964670981414, 0.004194861621231949],\n",
       " [24, 'gbm', 21.42896031286685, 0.0028744753037511783],\n",
       " [25, 'gbm', 19.88597288795631, 0.002251645817681558],\n",
       " [26, 'gbm', 27.186348184555268, 0.0032493587097960352],\n",
       " [27, 'gbm', 18.918224488273914, 0.0038820702597682777],\n",
       " [28, 'dummy', 22.78603871796385, -0.0007546563144305019],\n",
       " [29, 'dummy', 18.935811983865147, -4.7973295598247034e-05],\n",
       " [30, 'dummy', 18.151718651034788, -0.00042118922985090457],\n",
       " [31, 'dummy', 21.4990648745393, -0.0003876077287734425],\n",
       " [32, 'dummy', 19.93132568806165, -2.3861743231767818e-05],\n",
       " [33, 'dummy', 27.322843262729894, -0.001755048494140432],\n",
       " [34, 'dummy', 18.99269042730624, -3.885038852091682e-05],\n",
       " [35, 'linear', 23.077135649022804, -0.013539529227264424],\n",
       " [36, 'linear', 19.09897137410644, -0.008664832064262828],\n",
       " [37, 'linear', 18.280346149303995, -0.00751041737733571],\n",
       " [38, 'linear', 22.425477405919477, -0.043495139216569445],\n",
       " [39, 'linear', 20.046425022850755, -0.005798795285601344],\n",
       " [40, 'linear', 27.87582797086563, -0.022029483983461162],\n",
       " [41, 'linear', 19.309977548570078, -0.016745248526595313],\n",
       " [42, 'ridge', 23.306065148729115, -0.02359403082951994],\n",
       " [43, 'ridge', 19.06005737390709, -0.006609685600760473],\n",
       " [44, 'ridge', 18.237283396521025, -0.005137039341961858],\n",
       " [45, 'ridge', 22.232039999332216, -0.034494171707035504],\n",
       " [46, 'ridge', 20.025810793077458, -0.0047645077531315305],\n",
       " [47, 'ridge', 27.817106926808627, -0.019876556421299707],\n",
       " [48, 'ridge', 19.261822189369003, -0.014209682002209734],\n",
       " [49, 'lasso', 22.771354279694453, -0.00010972104703443897],\n",
       " [50, 'lasso', 18.93238326741051, 0.00013310586511483535],\n",
       " [51, 'lasso', 18.146462805806493, -0.00013151644267406226],\n",
       " [52, 'lasso', 21.45077175674837, 0.001859552176020851],\n",
       " [53, 'lasso', 19.91729404759222, 0.0006801544124640513],\n",
       " [54, 'lasso', 27.356152534703206, -0.002976287844674852],\n",
       " [55, 'lasso', 19.04984034423305, -0.0030480152797209836],\n",
       " [56, 'elasticnet', 22.770731941986828, -8.238819789774254e-05],\n",
       " [57, 'elasticnet', 18.93048798894362, 0.0002332002994733795],\n",
       " [58, 'elasticnet', 18.14750007677335, -0.00018868501575330932],\n",
       " [59, 'elasticnet', 21.449773483456372, 0.0019060035094284888],\n",
       " [60, 'elasticnet', 19.91649399489795, 0.0007202958359422418],\n",
       " [61, 'elasticnet', 27.364896630258233, -0.003296878267220915],\n",
       " [62, 'elasticnet', 19.04955444453375, -0.003032961551145519],\n",
       " [63, 'ardr_linear', 22.78603871796386, -0.0007546563144307239],\n",
       " [64, 'ardr_linear', 18.93581198386515, -4.797329559846908e-05],\n",
       " [65, 'ardr_linear', 18.151718651034784, -0.00042118922985090457],\n",
       " [66, 'ardr_linear', 21.4990648745393, -0.0003876077287734425],\n",
       " [67, 'ardr_linear', 19.931325688061655, -2.3861743232211907e-05],\n",
       " [68, 'ardr_linear', 27.322843262729894, -0.0017550484941408762],\n",
       " [69, 'ardr_linear', 18.992690427306236, -3.8850388520472734e-05],\n",
       " [70, 'bayesian_ridge', 39.818135870151224, -0.7487982606822892],\n",
       " [71, 'bayesian_ridge', 236.85940524581002, -11.509142379207521],\n",
       " [72, 'bayesian_ridge', 18.22978282334477, -0.004723649707561339],\n",
       " [73, 'bayesian_ridge', 22.190173980930584, -0.032546075534557684],\n",
       " [74, 'bayesian_ridge', 19.976560771010536, -0.002293463025393905],\n",
       " [75, 'bayesian_ridge', 27.42650592924302, -0.005555699785126267],\n",
       " [76, 'bayesian_ridge', 352.461131627053, -17.558446273214344]]"
      ]
     },
     "execution_count": 33,
     "metadata": {},
     "output_type": "execute_result"
    }
   ],
   "source": [
    "results"
   ]
  },
  {
   "cell_type": "code",
   "execution_count": 27,
   "id": "e689e863",
   "metadata": {},
   "outputs": [],
   "source": [
    "results = [[0, 'DecisionTree', 22.794256645140226, -0.0011155847315544865],\n",
    " [1, 'DecisionTree', 18.96271388027769, -0.0014687302722780071],\n",
    " [2, 'DecisionTree', 18.124000488338556, 0.0011064808393549397],\n",
    " [3, 'DecisionTree', 21.51762591563431, -0.001251284154066612],\n",
    " [4, 'DecisionTree', 19.81580289630115, 0.005772318106706087],\n",
    " [5, 'DecisionTree', 27.269565673037228, 0.00019830218510685782],\n",
    " [6, 'DecisionTree', 19.032642691370285, -0.0021424921225838833],\n",
    " [7, 'random_forest', 22.780907625720165, -0.0005293005815447671],\n",
    " [8, 'random_forest', 18.93809401437832, -0.00016849308063027202],\n",
    " [9, 'random_forest', 18.100895413712855, 0.00237990330026161],\n",
    " [10, 'random_forest', 21.430550372951856, 0.0028004871366440476],\n",
    " [11, 'random_forest', 19.851966790214593, 0.003957849896563226],\n",
    " [12, 'random_forest', 27.33704284646527, -0.002275657003169007],\n",
    " [13, 'random_forest', 19.01724333665828, -0.0013316563412153481],\n",
    " [14, 'xgboost_linear', 22.759476320043927, 0.0004119546849744582],\n",
    " [15, 'xgboost_linear', 18.950053650763202, -0.0008001116316724843],\n",
    " [16, 'xgboost_linear', 18.217737328199465, -0.004059769399046509],\n",
    " [17, 'xgboost_linear', 21.547575993560862, -0.0026449115970779147],\n",
    " [18, 'xgboost_linear', 19.950277990636852, -0.0009747646137581167],\n",
    " [19, 'xgboost_linear', 27.231096491384108, 0.0016087226366644503],\n",
    " [20, 'xgboost_linear', 18.983430803998893, 0.00044870470972901977],\n",
    " [21, 'gbm', 22.66350550393702, 0.004626958542295334],\n",
    " [22, 'gbm', 18.839675493713678, 0.005029237136024434],\n",
    " [23, 'gbm', 18.067964670981414, 0.004194861621231949],\n",
    " [24, 'gbm', 21.42896031286685, 0.0028744753037511783],\n",
    " [25, 'gbm', 19.88597288795631, 0.002251645817681558],\n",
    " [26, 'gbm', 27.186348184555268, 0.0032493587097960352],\n",
    " [27, 'gbm', 18.918224488273914, 0.0038820702597682777],\n",
    " [28, 'dummy', 22.78603871796385, -0.0007546563144305019],\n",
    " [29, 'dummy', 18.935811983865147, -4.7973295598247034e-05],\n",
    " [30, 'dummy', 18.151718651034788, -0.00042118922985090457],\n",
    " [31, 'dummy', 21.4990648745393, -0.0003876077287734425],\n",
    " [32, 'dummy', 19.93132568806165, -2.3861743231767818e-05],\n",
    " [33, 'dummy', 27.322843262729894, -0.001755048494140432],\n",
    " [34, 'dummy', 18.99269042730624, -3.885038852091682e-05],\n",
    " [35, 'linear', 23.077135649022804, -0.013539529227264424],\n",
    " [36, 'linear', 19.09897137410644, -0.008664832064262828],\n",
    " [37, 'linear', 18.280346149303995, -0.00751041737733571],\n",
    " [38, 'linear', 22.425477405919477, -0.043495139216569445],\n",
    " [39, 'linear', 20.046425022850755, -0.005798795285601344],\n",
    " [40, 'linear', 27.87582797086563, -0.022029483983461162],\n",
    " [41, 'linear', 19.309977548570078, -0.016745248526595313],\n",
    " [42, 'ridge', 23.306065148729115, -0.02359403082951994],\n",
    " [43, 'ridge', 19.06005737390709, -0.006609685600760473],\n",
    " [44, 'ridge', 18.237283396521025, -0.005137039341961858],\n",
    " [45, 'ridge', 22.232039999332216, -0.034494171707035504],\n",
    " [46, 'ridge', 20.025810793077458, -0.0047645077531315305],\n",
    " [47, 'ridge', 27.817106926808627, -0.019876556421299707],\n",
    " [48, 'ridge', 19.261822189369003, -0.014209682002209734],\n",
    " [49, 'lasso', 22.771354279694453, -0.00010972104703443897],\n",
    " [50, 'lasso', 18.93238326741051, 0.00013310586511483535],\n",
    " [51, 'lasso', 18.146462805806493, -0.00013151644267406226],\n",
    " [52, 'lasso', 21.45077175674837, 0.001859552176020851],\n",
    " [53, 'lasso', 19.91729404759222, 0.0006801544124640513],\n",
    " [54, 'lasso', 27.356152534703206, -0.002976287844674852],\n",
    " [55, 'lasso', 19.04984034423305, -0.0030480152797209836],\n",
    " [56, 'elasticnet', 22.770731941986828, -8.238819789774254e-05],\n",
    " [57, 'elasticnet', 18.93048798894362, 0.0002332002994733795],\n",
    " [58, 'elasticnet', 18.14750007677335, -0.00018868501575330932],\n",
    " [59, 'elasticnet', 21.449773483456372, 0.0019060035094284888],\n",
    " [60, 'elasticnet', 19.91649399489795, 0.0007202958359422418],\n",
    " [61, 'elasticnet', 27.364896630258233, -0.003296878267220915],\n",
    " [62, 'elasticnet', 19.04955444453375, -0.003032961551145519],\n",
    " [63, 'ardr_linear', 22.78603871796386, -0.0007546563144307239],\n",
    " [64, 'ardr_linear', 18.93581198386515, -4.797329559846908e-05],\n",
    " [65, 'ardr_linear', 18.151718651034784, -0.00042118922985090457],\n",
    " [66, 'ardr_linear', 21.4990648745393, -0.0003876077287734425],\n",
    " [67, 'ardr_linear', 19.931325688061655, -2.3861743232211907e-05],\n",
    " [68, 'ardr_linear', 27.322843262729894, -0.0017550484941408762],\n",
    " [69, 'ardr_linear', 18.992690427306236, -3.8850388520472734e-05],\n",
    " [70, 'bayesian_ridge', 39.818135870151224, -0.7487982606822892],\n",
    " [71, 'bayesian_ridge', 236.85940524581002, -11.509142379207521],\n",
    " [72, 'bayesian_ridge', 18.22978282334477, -0.004723649707561339],\n",
    " [73, 'bayesian_ridge', 22.190173980930584, -0.032546075534557684],\n",
    " [74, 'bayesian_ridge', 19.976560771010536, -0.002293463025393905],\n",
    " [75, 'bayesian_ridge', 27.42650592924302, -0.005555699785126267],\n",
    " [76, 'bayesian_ridge', 352.461131627053, -17.558446273214344]]"
   ]
  },
  {
   "cell_type": "code",
   "execution_count": 29,
   "id": "cc333eb1",
   "metadata": {
    "scrolled": true
   },
   "outputs": [
    {
     "data": {
      "text/plain": [
       "[[0, 'DecisionTree', 22.794256645140226, -0.0011155847315544865],\n",
       " [1, 'DecisionTree', 18.96271388027769, -0.0014687302722780071],\n",
       " [2, 'DecisionTree', 18.124000488338556, 0.0011064808393549397],\n",
       " [3, 'DecisionTree', 21.51762591563431, -0.001251284154066612],\n",
       " [4, 'DecisionTree', 19.81580289630115, 0.005772318106706087],\n",
       " [5, 'DecisionTree', 27.269565673037228, 0.00019830218510685782],\n",
       " [6, 'DecisionTree', 19.032642691370285, -0.0021424921225838833],\n",
       " [7, 'Random_Forest', 22.780907625720165, -0.0005293005815447671],\n",
       " [8, 'Random_Forest', 18.93809401437832, -0.00016849308063027202],\n",
       " [9, 'Random_Forest', 18.100895413712855, 0.00237990330026161],\n",
       " [10, 'Random_Forest', 21.430550372951856, 0.0028004871366440476],\n",
       " [11, 'Random_Forest', 19.851966790214593, 0.003957849896563226],\n",
       " [12, 'Random_Forest', 27.33704284646527, -0.002275657003169007],\n",
       " [13, 'Random_Forest', 19.01724333665828, -0.0013316563412153481],\n",
       " [14, 'XGBoost_Linear', 22.759476320043927, 0.0004119546849744582],\n",
       " [15, 'XGBoost_Linear', 18.950053650763202, -0.0008001116316724843],\n",
       " [16, 'XGBoost_Linear', 18.217737328199465, -0.004059769399046509],\n",
       " [17, 'XGBoost_Linear', 21.547575993560862, -0.0026449115970779147],\n",
       " [18, 'XGBoost_Linear', 19.950277990636852, -0.0009747646137581167],\n",
       " [19, 'XGBoost_Linear', 27.231096491384108, 0.0016087226366644503],\n",
       " [20, 'XGBoost_Linear', 18.983430803998893, 0.00044870470972901977],\n",
       " [21, 'LGBM', 22.66350550393702, 0.004626958542295334],\n",
       " [22, 'LGBM', 18.839675493713678, 0.005029237136024434],\n",
       " [23, 'LGBM', 18.067964670981414, 0.004194861621231949],\n",
       " [24, 'LGBM', 21.42896031286685, 0.0028744753037511783],\n",
       " [25, 'LGBM', 19.88597288795631, 0.002251645817681558],\n",
       " [26, 'LGBM', 27.186348184555268, 0.0032493587097960352],\n",
       " [27, 'LGBM', 18.918224488273914, 0.0038820702597682777],\n",
       " [28, 'dummy', 22.78603871796385, -0.0007546563144305019],\n",
       " [29, 'dummy', 18.935811983865147, -4.7973295598247034e-05],\n",
       " [30, 'dummy', 18.151718651034788, -0.00042118922985090457],\n",
       " [31, 'dummy', 21.4990648745393, -0.0003876077287734425],\n",
       " [32, 'dummy', 19.93132568806165, -2.3861743231767818e-05],\n",
       " [33, 'dummy', 27.322843262729894, -0.001755048494140432],\n",
       " [34, 'dummy', 18.99269042730624, -3.885038852091682e-05],\n",
       " [35, 'Linear', 23.077135649022804, -0.013539529227264424],\n",
       " [36, 'Linear', 19.09897137410644, -0.008664832064262828],\n",
       " [37, 'Linear', 18.280346149303995, -0.00751041737733571],\n",
       " [38, 'Linear', 22.425477405919477, -0.043495139216569445],\n",
       " [39, 'Linear', 20.046425022850755, -0.005798795285601344],\n",
       " [40, 'Linear', 27.87582797086563, -0.022029483983461162],\n",
       " [41, 'Linear', 19.309977548570078, -0.016745248526595313],\n",
       " [42, 'Ridge', 23.306065148729115, -0.02359403082951994],\n",
       " [43, 'Ridge', 19.06005737390709, -0.006609685600760473],\n",
       " [44, 'Ridge', 18.237283396521025, -0.005137039341961858],\n",
       " [45, 'Ridge', 22.232039999332216, -0.034494171707035504],\n",
       " [46, 'Ridge', 20.025810793077458, -0.0047645077531315305],\n",
       " [47, 'Ridge', 27.817106926808627, -0.019876556421299707],\n",
       " [48, 'Ridge', 19.261822189369003, -0.014209682002209734],\n",
       " [49, 'Lasso', 22.771354279694453, -0.00010972104703443897],\n",
       " [50, 'Lasso', 18.93238326741051, 0.00013310586511483535],\n",
       " [51, 'Lasso', 18.146462805806493, -0.00013151644267406226],\n",
       " [52, 'Lasso', 21.45077175674837, 0.001859552176020851],\n",
       " [53, 'Lasso', 19.91729404759222, 0.0006801544124640513],\n",
       " [54, 'Lasso', 27.356152534703206, -0.002976287844674852],\n",
       " [55, 'Lasso', 19.04984034423305, -0.0030480152797209836],\n",
       " [56, 'ElasticNet', 22.770731941986828, -8.238819789774254e-05],\n",
       " [57, 'ElasticNet', 18.93048798894362, 0.0002332002994733795],\n",
       " [58, 'ElasticNet', 18.14750007677335, -0.00018868501575330932],\n",
       " [59, 'ElasticNet', 21.449773483456372, 0.0019060035094284888],\n",
       " [60, 'ElasticNet', 19.91649399489795, 0.0007202958359422418],\n",
       " [61, 'ElasticNet', 27.364896630258233, -0.003296878267220915],\n",
       " [62, 'ElasticNet', 19.04955444453375, -0.003032961551145519],\n",
       " [63, 'ARDR_Linear', 22.78603871796386, -0.0007546563144307239],\n",
       " [64, 'ARDR_Linear', 18.93581198386515, -4.797329559846908e-05],\n",
       " [65, 'ARDR_Linear', 18.151718651034784, -0.00042118922985090457],\n",
       " [66, 'ARDR_Linear', 21.4990648745393, -0.0003876077287734425],\n",
       " [67, 'ARDR_Linear', 19.931325688061655, -2.3861743232211907e-05],\n",
       " [68, 'ARDR_Linear', 27.322843262729894, -0.0017550484941408762],\n",
       " [69, 'ARDR_Linear', 18.992690427306236, -3.8850388520472734e-05],\n",
       " [70, 'Bayesian_Ridge', 39.818135870151224, -0.7487982606822892],\n",
       " [71, 'Bayesian_Ridge', 236.85940524581002, -11.509142379207521],\n",
       " [72, 'Bayesian_Ridge', 18.22978282334477, -0.004723649707561339],\n",
       " [73, 'Bayesian_Ridge', 22.190173980930584, -0.032546075534557684],\n",
       " [74, 'Bayesian_Ridge', 19.976560771010536, -0.002293463025393905],\n",
       " [75, 'Bayesian_Ridge', 27.42650592924302, -0.005555699785126267],\n",
       " [76, 'Bayesian_Ridge', 352.461131627053, -17.558446273214344]]"
      ]
     },
     "execution_count": 29,
     "metadata": {},
     "output_type": "execute_result"
    }
   ],
   "source": [
    "nm_dic = {i:'' for i in ['linear', 'ridge', 'lasso', 'elasticnet',\n",
    "              'ardr_linear', 'bayesian_ridge',\n",
    "              'DecisionTree', 'random_forest',\n",
    "              'xgboost_linear', 'gbm', 'dummy']}\n",
    "\n",
    "nm_list = ['Linear', 'Ridge', 'Lasso', 'ElasticNet',\n",
    "              'ARDR_Linear', 'Bayesian_Ridge',\n",
    "              'DecisionTree', 'Random_Forest',\n",
    "              'XGBoost_Linear', 'LGBM', 'dummy']\n",
    "for idx,i in enumerate(nm_dic):\n",
    "    nm_dic[i] = nm_list[idx]\n",
    "    \n",
    "\n",
    "for i in range(len(results)):\n",
    "#     results[i][1] = (results[i][1][0]).upper()+results[i][1][1:]\n",
    "\n",
    "    if results[i][1] in nm_dic:\n",
    "        results[i][1] = nm_dic[results[i][1]]\n",
    "    \n",
    "results"
   ]
  },
  {
   "cell_type": "markdown",
   "id": "53067bcc",
   "metadata": {},
   "source": [
    "## plot을 위한 준비"
   ]
  },
  {
   "cell_type": "code",
   "execution_count": 30,
   "id": "6b591239",
   "metadata": {},
   "outputs": [
    {
     "data": {
      "text/plain": [
       "[('Bayesian_Ridge', 102.42309946393473),\n",
       " ('Linear', 21.444880160091316),\n",
       " ('Ridge', 21.420026546820647),\n",
       " ('XGBoost_Linear', 21.091378368369615),\n",
       " ('ElasticNet', 21.08991979440716),\n",
       " ('Lasso', 21.089179862312616),\n",
       " ('ARDR_Linear', 21.088499086500125),\n",
       " ('dummy', 21.08849908650012),\n",
       " ('DecisionTree', 21.073801170014207),\n",
       " ('Random_Forest', 21.065242914300192),\n",
       " ('LGBM', 20.998664506040637)]"
      ]
     },
     "execution_count": 30,
     "metadata": {},
     "output_type": "execute_result"
    },
    {
     "data": {
      "text/plain": [
       "[('Bayesian_Ridge', -4.265929400165256),\n",
       " ('Linear', -0.01682620652587003),\n",
       " ('Ridge', -0.015526524807988393),\n",
       " ('XGBoost_Linear', -0.0008585964585981566),\n",
       " ('ElasticNet', -0.0005344876267390537),\n",
       " ('Lasso', -0.0005132468800720856),\n",
       " ('ARDR_Linear', -0.0004898838849353002),\n",
       " ('dummy', -0.0004898838849351732),\n",
       " ('DecisionTree', 0.00015700140724069937),\n",
       " ('Random_Forest', 0.000690447618129927),\n",
       " ('LGBM', 0.003729801055792681)]"
      ]
     },
     "execution_count": 30,
     "metadata": {},
     "output_type": "execute_result"
    }
   ],
   "source": [
    "model_list = ['Linear', 'Ridge', 'Lasso', 'ElasticNet',\n",
    "              'ARDR_Linear', 'Bayesian_Ridge',\n",
    "              'DecisionTree', 'Random_Forest',\n",
    "              'XGBoost_Linear', 'LGBM', 'dummy']\n",
    "# ['linear', 'ridge', 'lasso', 'elasticnet', 'ardr_linear', 'bayesian_ridge', 'DecisionTree', 'random_forest', 'xgboost_linear', 'lgbm', 'dummy']\n",
    "mse_dic = {i:[] for i in model_list}\n",
    "r2_dic = {i:[] for i in model_list}\n",
    "\n",
    "for i in results:\n",
    "    mse_dic[i[1]].append(i[2])\n",
    "    r2_dic[i[1]].append(i[3])\n",
    "\n",
    "\n",
    "\n",
    "# import math\n",
    "# 리스트에 mean 함수가 내장이 안돼있다니...\n",
    "mean_mse_score = {i:[] for i in model_list}\n",
    "mean_r2_score = {i:[] for i in model_list}\n",
    "\n",
    "for i in model_list:\n",
    "    mean_mse_score[i] = sum(mse_dic[i])/len(mse_dic[i])\n",
    "    mean_r2_score[i] = sum(r2_dic[i])/len(r2_dic[i])\n",
    "\n",
    "\n",
    "\n",
    "# 정렬\n",
    "mse_score_lst = sorted(mean_mse_score.items(), key = lambda t : t[1], reverse = True) #mse 큰 순으로 줄 세워짐. (클 수혹 안좋으니까)\n",
    "r2_score_lst = sorted(mean_r2_score.items(), key = lambda t : t[1]) #r2 작은 순으로 줄 세워짐.\n",
    "\n",
    "mse_score_lst\n",
    "r2_score_lst\n"
   ]
  },
  {
   "cell_type": "code",
   "execution_count": 31,
   "id": "aee9251a",
   "metadata": {},
   "outputs": [],
   "source": [
    "# 다시 dic\n",
    "mse_score_dic = {}\n",
    "r2_score_dic = {}\n",
    "\n",
    "\n",
    "for i in mse_score_lst:\n",
    "    mse_score_dic[i[0]] = i[1]\n",
    "r2_score_dic = {i[0]:i[1] for i in r2_score_lst}\n"
   ]
  },
  {
   "cell_type": "code",
   "execution_count": 32,
   "id": "f949f15a",
   "metadata": {
    "scrolled": true
   },
   "outputs": [
    {
     "data": {
      "text/html": [
       "<div>\n",
       "<style scoped>\n",
       "    .dataframe tbody tr th:only-of-type {\n",
       "        vertical-align: middle;\n",
       "    }\n",
       "\n",
       "    .dataframe tbody tr th {\n",
       "        vertical-align: top;\n",
       "    }\n",
       "\n",
       "    .dataframe thead th {\n",
       "        text-align: right;\n",
       "    }\n",
       "</style>\n",
       "<table border=\"1\" class=\"dataframe\">\n",
       "  <thead>\n",
       "    <tr style=\"text-align: right;\">\n",
       "      <th></th>\n",
       "      <th>key</th>\n",
       "      <th>value</th>\n",
       "    </tr>\n",
       "  </thead>\n",
       "  <tbody>\n",
       "    <tr>\n",
       "      <th>0</th>\n",
       "      <td>Bayesian_Ridge</td>\n",
       "      <td>102.423099</td>\n",
       "    </tr>\n",
       "    <tr>\n",
       "      <th>1</th>\n",
       "      <td>Linear</td>\n",
       "      <td>21.444880</td>\n",
       "    </tr>\n",
       "    <tr>\n",
       "      <th>2</th>\n",
       "      <td>Ridge</td>\n",
       "      <td>21.420027</td>\n",
       "    </tr>\n",
       "    <tr>\n",
       "      <th>3</th>\n",
       "      <td>XGBoost_Linear</td>\n",
       "      <td>21.091378</td>\n",
       "    </tr>\n",
       "    <tr>\n",
       "      <th>4</th>\n",
       "      <td>ElasticNet</td>\n",
       "      <td>21.089920</td>\n",
       "    </tr>\n",
       "    <tr>\n",
       "      <th>5</th>\n",
       "      <td>Lasso</td>\n",
       "      <td>21.089180</td>\n",
       "    </tr>\n",
       "    <tr>\n",
       "      <th>6</th>\n",
       "      <td>ARDR_Linear</td>\n",
       "      <td>21.088499</td>\n",
       "    </tr>\n",
       "    <tr>\n",
       "      <th>7</th>\n",
       "      <td>dummy</td>\n",
       "      <td>21.088499</td>\n",
       "    </tr>\n",
       "    <tr>\n",
       "      <th>8</th>\n",
       "      <td>DecisionTree</td>\n",
       "      <td>21.073801</td>\n",
       "    </tr>\n",
       "    <tr>\n",
       "      <th>9</th>\n",
       "      <td>Random_Forest</td>\n",
       "      <td>21.065243</td>\n",
       "    </tr>\n",
       "    <tr>\n",
       "      <th>10</th>\n",
       "      <td>LGBM</td>\n",
       "      <td>20.998665</td>\n",
       "    </tr>\n",
       "  </tbody>\n",
       "</table>\n",
       "</div>"
      ],
      "text/plain": [
       "               key       value\n",
       "0   Bayesian_Ridge  102.423099\n",
       "1           Linear   21.444880\n",
       "2            Ridge   21.420027\n",
       "3   XGBoost_Linear   21.091378\n",
       "4       ElasticNet   21.089920\n",
       "5            Lasso   21.089180\n",
       "6      ARDR_Linear   21.088499\n",
       "7            dummy   21.088499\n",
       "8     DecisionTree   21.073801\n",
       "9    Random_Forest   21.065243\n",
       "10            LGBM   20.998665"
      ]
     },
     "execution_count": 32,
     "metadata": {},
     "output_type": "execute_result"
    },
    {
     "data": {
      "text/html": [
       "<div>\n",
       "<style scoped>\n",
       "    .dataframe tbody tr th:only-of-type {\n",
       "        vertical-align: middle;\n",
       "    }\n",
       "\n",
       "    .dataframe tbody tr th {\n",
       "        vertical-align: top;\n",
       "    }\n",
       "\n",
       "    .dataframe thead th {\n",
       "        text-align: right;\n",
       "    }\n",
       "</style>\n",
       "<table border=\"1\" class=\"dataframe\">\n",
       "  <thead>\n",
       "    <tr style=\"text-align: right;\">\n",
       "      <th></th>\n",
       "      <th>key</th>\n",
       "      <th>value</th>\n",
       "    </tr>\n",
       "  </thead>\n",
       "  <tbody>\n",
       "    <tr>\n",
       "      <th>0</th>\n",
       "      <td>Bayesian_Ridge</td>\n",
       "      <td>-4.265929</td>\n",
       "    </tr>\n",
       "    <tr>\n",
       "      <th>1</th>\n",
       "      <td>Linear</td>\n",
       "      <td>-0.016826</td>\n",
       "    </tr>\n",
       "    <tr>\n",
       "      <th>2</th>\n",
       "      <td>Ridge</td>\n",
       "      <td>-0.015527</td>\n",
       "    </tr>\n",
       "    <tr>\n",
       "      <th>3</th>\n",
       "      <td>XGBoost_Linear</td>\n",
       "      <td>-0.000859</td>\n",
       "    </tr>\n",
       "    <tr>\n",
       "      <th>4</th>\n",
       "      <td>ElasticNet</td>\n",
       "      <td>-0.000534</td>\n",
       "    </tr>\n",
       "    <tr>\n",
       "      <th>5</th>\n",
       "      <td>Lasso</td>\n",
       "      <td>-0.000513</td>\n",
       "    </tr>\n",
       "    <tr>\n",
       "      <th>6</th>\n",
       "      <td>ARDR_Linear</td>\n",
       "      <td>-0.000490</td>\n",
       "    </tr>\n",
       "    <tr>\n",
       "      <th>7</th>\n",
       "      <td>dummy</td>\n",
       "      <td>-0.000490</td>\n",
       "    </tr>\n",
       "    <tr>\n",
       "      <th>8</th>\n",
       "      <td>DecisionTree</td>\n",
       "      <td>0.000157</td>\n",
       "    </tr>\n",
       "    <tr>\n",
       "      <th>9</th>\n",
       "      <td>Random_Forest</td>\n",
       "      <td>0.000690</td>\n",
       "    </tr>\n",
       "    <tr>\n",
       "      <th>10</th>\n",
       "      <td>LGBM</td>\n",
       "      <td>0.003730</td>\n",
       "    </tr>\n",
       "  </tbody>\n",
       "</table>\n",
       "</div>"
      ],
      "text/plain": [
       "               key     value\n",
       "0   Bayesian_Ridge -4.265929\n",
       "1           Linear -0.016826\n",
       "2            Ridge -0.015527\n",
       "3   XGBoost_Linear -0.000859\n",
       "4       ElasticNet -0.000534\n",
       "5            Lasso -0.000513\n",
       "6      ARDR_Linear -0.000490\n",
       "7            dummy -0.000490\n",
       "8     DecisionTree  0.000157\n",
       "9    Random_Forest  0.000690\n",
       "10            LGBM  0.003730"
      ]
     },
     "execution_count": 32,
     "metadata": {},
     "output_type": "execute_result"
    }
   ],
   "source": [
    "mse_df = pd.DataFrame(mse_score_dic.items(), columns=['key', 'value'])\n",
    "mse_df\n",
    "\n",
    "r2_df = pd.DataFrame(r2_score_dic.items(), columns=['key', 'value'])\n",
    "r2_df\n"
   ]
  },
  {
   "cell_type": "markdown",
   "id": "09a17eb1",
   "metadata": {},
   "source": [
    "## MSE plot"
   ]
  },
  {
   "cell_type": "code",
   "execution_count": 33,
   "id": "aacac5a3",
   "metadata": {},
   "outputs": [],
   "source": [
    "import seaborn as sns\n",
    "import matplotlib.pyplot as plt"
   ]
  },
  {
   "cell_type": "code",
   "execution_count": 34,
   "id": "832a2ffe",
   "metadata": {},
   "outputs": [
    {
     "data": {
      "text/plain": [
       "<Figure size 1500x900 with 0 Axes>"
      ]
     },
     "execution_count": 34,
     "metadata": {},
     "output_type": "execute_result"
    },
    {
     "data": {
      "image/png": "[encoded data removed]",
      "text/plain": [
       "<Figure size 1500x900 with 1 Axes>"
      ]
     },
     "metadata": {
      "needs_background": "light"
     },
     "output_type": "display_data"
    }
   ],
   "source": [
    "plt.figure(figsize=(15,9), dpi = 100)\n",
    "g = sns.barplot(x = 'key', y = 'value', data=mse_df, capsize=.2,\n",
    "                palette = \"YlOrBr\")\n",
    "_ = g.set_xticks(range(len(mse_df)))\n",
    "_ = g.set_xticklabels(g.get_xticklabels(), rotation=35, fontsize = 20)\n",
    "_ = plt.setp(g.get_yticklabels(), fontsize =18)\n",
    "_ = g.set_xlabel(\"\", fontsize = 28)\n",
    "_ = g.set_ylabel(\"\", fontsize = 25)\n",
    "_ = g.set_ylim([20.95, 21.5]) # g.set_ylim([0, 18]) # ax.set(ylim=(0.4, 0.6))\n",
    "\n",
    "mse_dummy_mean = mse_df[mse_df.key=='dummy']['value'].values\n",
    "_ = g.plot([-1,len(mse_df)], [mse_dummy_mean, mse_dummy_mean], color = 'red', linewidth = 2.3)\n",
    "_ = g.annotate(text = f'dummy\\n: {mse_dummy_mean[0]:.4f}', xy = (7, mse_dummy_mean), xytext = (8.4, 21.1522),\n",
    "               arrowprops = dict(facecolor = 'red', shrink = 0), fontsize = 18)\n",
    "\n",
    "\n",
    "val = mse_df['value']\n",
    "# val = mse_df['value'].sort_values(ascending = False).reset_index(drop = True)\n",
    "cnt = 0\n",
    "for i in range(len(mse_df)):\n",
    "    tmp_fval = f'{val[i]:.2f}'\n",
    "    if tmp_fval.index('.') == 3:\n",
    "        _ = g.text(cnt-0.355, 20.955, tmp_fval, fontsize=15)\n",
    "    elif tmp_fval.index('.') == 2:\n",
    "        _ = g.text(cnt-0.285, 20.955, tmp_fval, fontsize=15)\n",
    "    cnt += 1\n",
    "\n",
    "plt.tight_layout()\n",
    "plt.savefig('[15w] -3 10thr mse_reg_plot.png')"
   ]
  },
  {
   "cell_type": "markdown",
   "id": "d258d32c",
   "metadata": {},
   "source": [
    "## R2 plot"
   ]
  },
  {
   "cell_type": "code",
   "execution_count": 35,
   "id": "86629a7f",
   "metadata": {},
   "outputs": [
    {
     "data": {
      "text/plain": [
       "<Figure size 1500x900 with 0 Axes>"
      ]
     },
     "execution_count": 35,
     "metadata": {},
     "output_type": "execute_result"
    },
    {
     "data": {
      "image/png": "[encoded data removed]",
      "text/plain": [
       "<Figure size 1500x900 with 1 Axes>"
      ]
     },
     "metadata": {
      "needs_background": "light"
     },
     "output_type": "display_data"
    }
   ],
   "source": [
    "plt.figure(figsize=(15,9), dpi = 100)\n",
    "g = sns.barplot(x = 'key', y = 'value', data=r2_df, capsize=.2, palette = \"YlOrBr\")\n",
    "_ = g.set_xticks(range(len(r2_df)))\n",
    "_ = g.set_xticklabels(g.get_xticklabels(), rotation=35, fontsize = 20)\n",
    "_ = plt.setp(g.get_yticklabels(), fontsize =18)\n",
    "_ = g.set_xlabel(\"\", fontsize = 28)\n",
    "_ = g.set_ylabel(\"\", fontsize = 25)\n",
    "_ = g.set_ylim([-0.001, 0.001]) # ax.set(ylim=(0.4, 0.6))\n",
    "r2_dummy_mean = r2_df[r2_df.key=='dummy']['value'].values\n",
    "_ = g.plot([-1,len(r2_df)], [r2_dummy_mean, r2_dummy_mean], color = 'red', linewidth = 2.3)\n",
    "_ = g.plot([-1,len(r2_df)], [0, 0], color = 'gray', linestyle = '--', linewidth = 1)\n",
    "_ = g.annotate(text = f'dummy\\n: {r2_dummy_mean[0]:.4f}', xy = (7, r2_dummy_mean), xytext = (8.1, -0.0008),\n",
    "               arrowprops = dict(facecolor = 'red', shrink = 0), fontsize = 18)\n",
    "\n",
    "\n",
    "val = r2_df['value']\n",
    "cnt = 0\n",
    "for i in range(len(r2_df)):\n",
    "    if f'{val[i]:.2f}'[-1] != '0' or f'{val[i]:.2f}'[-2] != '0':\n",
    "        _ = g.text(cnt-0.28, -0.00007, f'{val[i]:.2f}', fontsize = 15)\n",
    "    \n",
    "    elif f'{val[i]:.2f}'[-1] == '0' and val[i] < 0:\n",
    "#         tmp_val = f'{val[i]:.4f}'[-4:]\n",
    "#         _ = g.text(cnt-0.47, -0.0001, f'-{tmp_val}'[:3]+'\\n'+f'-{tmp_val}'[3:], fontsize = 15)\n",
    "#         _ = g.text(cnt-0.47, -0.000125, f'{val[i]:.4f}'[:5]+'\\n'+'    '+f'{val[i]:.4f}'[5:], fontsize = 15)\n",
    "        _ = g.text(cnt-0.40, -0.00007, f'{val[i]:.4f}', fontsize = 15)\n",
    "\n",
    "\n",
    "    elif val[i] > 0:\n",
    "#         _ = g.text(cnt-0.4, 0.0, f'{val[i]:.4f}'[:4]+'\\n'+'   '+f'{val[i]:.4f}'[4:], fontsize = 15)\n",
    "        _ = g.text(cnt-0.37, 0.00003, f'{val[i]:.4f}', fontsize = 15)\n",
    "    cnt += 1\n",
    "\n",
    "plt.tight_layout()\n",
    "plt.savefig('[15w] -3 10thr r2_reg_plot.png')\n",
    "\n",
    "# [r2 info](https://vitalflux.com/r-squared-explained-machine-learning/)"
   ]
  },
  {
   "cell_type": "code",
   "execution_count": null,
   "id": "23148679",
   "metadata": {},
   "outputs": [],
   "source": []
  },
  {
   "cell_type": "code",
   "execution_count": null,
   "id": "a24fd655",
   "metadata": {},
   "outputs": [],
   "source": []
  },
  {
   "cell_type": "markdown",
   "id": "bfaf53cc",
   "metadata": {},
   "source": [
    "# cla modeling"
   ]
  },
  {
   "cell_type": "code",
   "execution_count": 11,
   "id": "98b8c4d1",
   "metadata": {},
   "outputs": [],
   "source": [
    "# NextChange\n",
    "d1221['NextChange'] = np.where(d1221['NextChange']>0.05, 1, 0)"
   ]
  },
  {
   "cell_type": "code",
   "execution_count": 12,
   "id": "a1fc31fd",
   "metadata": {},
   "outputs": [
    {
     "data": {
      "text/plain": [
       "654194"
      ]
     },
     "execution_count": 12,
     "metadata": {},
     "output_type": "execute_result"
    },
    {
     "data": {
      "text/plain": [
       "131483"
      ]
     },
     "execution_count": 12,
     "metadata": {},
     "output_type": "execute_result"
    },
    {
     "data": {
      "text/plain": [
       "0.09131581926436466"
      ]
     },
     "execution_count": 12,
     "metadata": {},
     "output_type": "execute_result"
    },
    {
     "data": {
      "text/plain": [
       "1439871"
      ]
     },
     "execution_count": 12,
     "metadata": {},
     "output_type": "execute_result"
    }
   ],
   "source": [
    "cnt0 = d1221.shape[0] - d1221['NextChange'].sum()\n",
    "cnt1 = d1221['NextChange'].sum()\n",
    "cnt1\n",
    "cnt0-cnt1\n",
    "(cnt0-cnt1) / d1221.shape[0]\n",
    "d1221.shape[0]"
   ]
  },
  {
   "cell_type": "code",
   "execution_count": 13,
   "id": "40fc6114",
   "metadata": {},
   "outputs": [],
   "source": [
    "from datetime import datetime\n",
    "# 1. Logistic regression\n",
    "from sklearn.linear_model import LogisticRegression\n",
    "# 2. Decision tree\n",
    "from sklearn.tree import DecisionTreeClassifier\n",
    "# 3. Support vector machine\n",
    "from sklearn.svm import SVC\n",
    "# 4. Gaussian naive bayes\n",
    "from sklearn.naive_bayes import GaussianNB\n",
    "# 5. K nearest neighbor\n",
    "from sklearn.neighbors import KNeighborsClassifier\n",
    "# 6. Random forest\n",
    "from sklearn.ensemble import RandomForestClassifier\n",
    "# 7. Gradient boosing\n",
    "from sklearn.ensemble import GradientBoostingClassifier\n",
    "# 8. Neural network\n",
    "from sklearn.neural_network import MLPClassifier\n",
    "import lightgbm as lgb\n",
    "from xgboost import XGBClassifier # decision tree 앙상블 모델, 부스팅\n",
    "# [light gbm 장점, 하이퍼파라미터 튜닝 방안](https://ariz1623.tistory.com/209)\n",
    "# LightGBM도 XGBoost와 동일하게 조기 중단 수행 가능.\n",
    "# [XGBoost와 LightGBM 하이퍼파라미터 튜닝 가이드](https://psystat.tistory.com/131)\n",
    "\n",
    "\n",
    "from sklearn.model_selection import GridSearchCV\n",
    "\n",
    "from sklearn.dummy import DummyClassifier\n",
    "\n",
    "# 모델 평가 지표 scoring metrics\n",
    "from sklearn.model_selection import cross_val_score # model 검증\n",
    "\n",
    "from sklearn.metrics import accuracy_score\n",
    "from sklearn.metrics import roc_auc_score\n",
    "from sklearn.metrics import f1_score\n",
    "from sklearn.metrics import jaccard_score\n",
    "\n",
    "import ast # convert string to function\n",
    "\n",
    "# [scikit-learn classifier metrics](https://scikit-learn.org/stable/modules/model_evaluation.html)\n",
    "# [classification metrics 1](https://hong-yp-ml-records.tistory.com/29)\n",
    "# [classification metrics 2](https://sw-data.tistory.com/23) -> regression metrics 참고\n",
    "\n",
    "results = []\n",
    "def my_classifier():\n",
    "    \n",
    "    # X, y\n",
    "    X = d1221.iloc[:,2:-1] # 1221 데이터\n",
    "    y = d1221.iloc[:,-1]\n",
    "    \n",
    "    # seed 고정\n",
    "    user_seed = 0\n",
    "    random.seed(user_seed) # seed 고정\n",
    "    \n",
    "    # 모델\n",
    "    # (같은 줄에 써놓은 애들끼리 하이퍼파리미터 구성 비슷하거나 같음)\n",
    "    Logistic_Regression = LogisticRegression(n_jobs=64,\n",
    "                                             random_state=user_seed,\n",
    "                                             max_iter=10) # , verbose = 1\n",
    "    # [모델훈련](https://taek98.tistory.com/15)\n",
    "\n",
    "    DecisionTree = DecisionTreeClassifier(max_depth = 10,\n",
    "                                          random_state=user_seed,\n",
    "                                          max_leaf_nodes=4)\n",
    "    \n",
    "    RandomForest = RandomForestClassifier(n_estimators=10,\n",
    "                                          max_depth=10,\n",
    "                                          random_state=user_seed,\n",
    "                                          max_leaf_nodes=4,\n",
    "                                          n_jobs=64) # , verbose=1\n",
    "    \n",
    "    GradientBoosting = GradientBoostingClassifier(n_estimators=10,\n",
    "                                                  max_depth = 10,\n",
    "                                                  random_state = user_seed,\n",
    "                                                  max_leaf_nodes=4,\n",
    "                                                  learning_rate=0.05) # , verbose = 1\n",
    "    \n",
    "    SVM = SVC(max_iter=1000,\n",
    "              random_state=user_seed) # , verbose=True\n",
    "    \n",
    "    Gaussian_NB = GaussianNB()\n",
    "    KNeighbors = KNeighborsClassifier(n_jobs = 64)\n",
    "    MLP = MLPClassifier(max_iter=1000,\n",
    "                        batch_size = 10000,\n",
    "                        shuffle=True,\n",
    "                        random_state = user_seed,\n",
    "                        early_stopping=True) # early_stopping 있어서 max_iter 키움., verbose=True\n",
    "\n",
    "    XGBoost = XGBClassifier(n_jobs=64,\n",
    "                            max_depth=10,\n",
    "                            n_estimators=10,\n",
    "                            learning_rate=0.05,\n",
    "                            random_state = user_seed) # early_stopping_rounds = 50,\n",
    "    # [XGBoost Classifier hyper params](https://xgboost.readthedocs.io/en/stable/python/python_api.html)\n",
    "    LGBM = lgb.LGBMClassifier(num_leaves=15,\n",
    "                              learning_rate=0.05,\n",
    "                              n_estimators=10,\n",
    "                              max_depth = 10,\n",
    "                              random_state = user_seed) # early_stopping_rounds, best_iteration_,\n",
    "    # max_depth : 과적합 방지를 위해 깊이 크기 제한\n",
    "    # n_estimators : 너무 크면 과적합, 성능저하\n",
    "    # learning_rate 작게 하면서 n_estimators를 크게 하는 것은 부스팅 계열 튜닝에서 가장 기본적인 튜닝 방안이므로 이를 적용하는 것도 좋다.\n",
    "    # [LGBM](https://lightgbm.readthedocs.io/en/latest/pythonapi/lightgbm.LGBMClassifier.html)\n",
    "    \n",
    "    # [gbm grid CV, best_iteration_ 참고](https://github.com/microsoft/LightGBM/blob/master/examples/python-guide/sklearn_example.py)\n",
    "    # [how to save model to best iteration if early stopping does not happen?](https://github.com/Microsoft/LightGBM/issues/1683)\n",
    "    \n",
    "    dummy = DummyClassifier(strategy = 'stratified', random_state = user_seed) # strategy 옵션: 'stratified', 'uniform', 'most_frequent'\n",
    "    \n",
    "    my_model_list = ['MLP', 'DecisionTree', 'RandomForest', 'GradientBoosting',\n",
    "                     'XGBoost', 'dummy', 'Logistic_Regression', 'SVM', 'Gaussian_NB'] # 실수로 빼먹ㅇ서 다시\n",
    "    # 'LGBM', 'KNeighbors' 서버 자꾸 터져서 뺍니다\n",
    "    # , 끝나서 뺍니다.\n",
    "    \n",
    "    i = 0\n",
    "    \n",
    "    ######################################################################### fitting\n",
    "    for model_nm in tqdm(my_model_list):\n",
    "        print(f'<<<---{model_nm} start--->>>')\n",
    "        print(datetime.now().strftime('%H:%M:%S'))\n",
    "        cntcnt = 0\n",
    "        # cv # 년도 나눠지는 것에 따라서 개수 정함.\n",
    "        for slicer in slicing_dic:\n",
    "            print(f'<<<---{slicer} start--->>>')\n",
    "            print(datetime.now().strftime('%H:%M:%S'))\n",
    "            tmpX = X[slicing_dic[slicer][0]:slicing_dic[slicer][1]].reset_index(drop = True) # X를 연속 4년치 꺼내서 reset_index(drop = True)\n",
    "            tmpy = y[slicing_dic[slicer][0]:slicing_dic[slicer][1]].reset_index(drop = True) # y를 연속 4년치 꺼내서 reset_index(drop = True)\n",
    "#             tmp_all = d1221[slicing_dic[slicer][0]:slicing_dic[slicer][1]].reset_index(drop = True) # 전체데이터\n",
    "\n",
    "            X_train = tmpX[:-slicing_dic[slicer][2]] # 기준년도 앞\n",
    "            X_test = tmpX[-slicing_dic[slicer][2]:] # 기준년도 이하\n",
    "            y_train = tmpy[:-slicing_dic[slicer][2]] # 기준년도 앞\n",
    "            y_test = tmpy[-slicing_dic[slicer][2]:] # 기준년도 이하\n",
    "            \n",
    "            # train끼리 idx 같아야 하므로\n",
    "            len_train = slicing_dic[slicer][1]-(slicing_dic[slicer][2]+slicing_dic[slicer][0]) # 혹은 tmp_train.shape[0]\n",
    "            len(list(range(len_train)))\n",
    "            train_idx = list(range(len_train))\n",
    "            random.shuffle(train_idx) # 자동으로 덮어쓰기\n",
    "            \n",
    "            # test끼리 idx 같아야 하므로\n",
    "            len_train_to_test = slicing_dic[slicer][1]-slicing_dic[slicer][0]\n",
    "            test_idx = list(range(len_train,len_train_to_test)) # +1 안해줘도 되는 거 위 cell에서 확인\n",
    "            len(test_idx)\n",
    "            random.shuffle(test_idx) # 자동으로 덮어쓰기\n",
    "            \n",
    "            X_train = X_train.loc[train_idx]\n",
    "            y_train = y_train.loc[train_idx]\n",
    "            X_test = X_test.loc[test_idx]\n",
    "            y_test = y_test.loc[test_idx]\n",
    "            ###########################################\n",
    "            y_train = np.array(y_train).reshape(-1,1) # 1열짜리로 만드는 것\n",
    "            y_test = np.array(y_test).reshape(-1,1)\n",
    "\n",
    "            ######################################################## cv를 위한 데이터 slicing 작업 끝\n",
    "\n",
    "            # fitting은 cv 안에 넣기\n",
    "            if model_nm == 'LGBM':\n",
    "                model_ = eval(model_nm).fit(X_train, y_train,\n",
    "                                            eval_set=[(X_test, y_test)],\n",
    "                                            eval_metric='auc',\n",
    "                                            early_stopping_rounds=5) # map: mean average precision\n",
    "                # eval_metric = logloss, auc, error\n",
    "                y_pred_test = model_.predict(X_test, num_iteration=LGBM.best_iteration_) # 예측\n",
    "            # If early stopping occurs, the model will have three additional fields: best_score, best_iteration and best_ntree_limit\n",
    "            # [eval_metric](https://stats.stackexchange.com/questions/493981/xgboost-mean-average-precision-eval-metric-for-classification)\n",
    "            # [gbm.fit verbose = 10, #verbose = 10 : 10번 반복할 때마다 logloss값을 보여준다.](https://dacon.io/codeshare/1827)\n",
    "            # [Classifier, Regressor eval_metric 예시](https://hwi-doc.tistory.com/entry/%EC%9D%B4%ED%95%B4%ED%95%98%EA%B3%A0-%EC%82%AC%EC%9A%A9%ED%95%98%EC%9E%90-XGBoost)\n",
    "            # [XGBoost parameters](https://xgboost.readthedocs.io/en/latest/parameter.html#)\n",
    "            # error: For MAP metric, there should be query information\n",
    "            elif model_nm == 'XGBoost': # xgboost_linear가 느려서\n",
    "                cntcnt += 1\n",
    "                print(f'$$$$$---{cntcnt}')\n",
    "                model_ = eval(model_nm).fit(X_train, y_train,\n",
    "                                            eval_set=[(X_test, y_test)],\n",
    "                                            eval_metric='auc',\n",
    "                                            early_stopping_rounds=5) # ,verbose = True\n",
    "                y_pred_test = model_.predict(X_test) # 예측\n",
    "            \n",
    "            else:\n",
    "                cntcnt += 1\n",
    "                print(f'$$$$$---{cntcnt}')\n",
    "                model_ = eval(model_nm).fit(X_train, y_train)\n",
    "                y_pred_test = model_.predict(X_test) # 예측\n",
    "\n",
    "            accuracy = accuracy_score(y_test, y_pred_test)\n",
    "            roc_auc = roc_auc_score(y_test, y_pred_test)\n",
    "#             f1 = f1_score(y_test, y_pred_test)\n",
    "#             jaccard = jaccard_score(y_test, y_pred_test)\n",
    "#             cv_scores = cross_val_score(eval(model_nm), tmpX, tmpy, cv=7, n_jobs = 64)\n",
    "            \n",
    "#             _ = dummy.fit(X_train, y_train)\n",
    "#             dummy_score = dummy.score(X_test, y_test)\n",
    "\n",
    "            results.append([i, f'{model_nm}', accuracy, roc_auc]) # , f1, jaccard, dummy_score, cv_scores\n",
    "            i+=1\n",
    "        ################################################################\n",
    "        print(results[-7:])\n",
    "    return results#score_dic#[0]"
   ]
  },
  {
   "cell_type": "code",
   "execution_count": 14,
   "id": "e2b85c4b",
   "metadata": {
    "scrolled": true
   },
   "outputs": [
    {
     "name": "stderr",
     "output_type": "stream",
     "text": [
      "\r",
      "  0%|                                                     | 0/1 [00:00<?, ?it/s]"
     ]
    },
    {
     "name": "stdout",
     "output_type": "stream",
     "text": [
      "<<<---KNeighbors start--->>>\n",
      "13:12:15\n",
      "<<<---1215 start--->>>\n",
      "13:12:15\n",
      "$$$$$---1\n"
     ]
    },
    {
     "name": "stderr",
     "output_type": "stream",
     "text": [
      "  0%|                                                     | 0/1 [06:42<?, ?it/s]\n"
     ]
    },
    {
     "ename": "KeyboardInterrupt",
     "evalue": "",
     "output_type": "error",
     "traceback": [
      "\u001b[0;31m---------------------------------------------------------------------------\u001b[0m",
      "\u001b[0;31mKeyboardInterrupt\u001b[0m                         Traceback (most recent call last)",
      "\u001b[0;32m/tmp/ipykernel_946100/3636828814.py\u001b[0m in \u001b[0;36m<module>\u001b[0;34m\u001b[0m\n\u001b[1;32m      1\u001b[0m \u001b[0;32mimport\u001b[0m \u001b[0mtime\u001b[0m\u001b[0;34m\u001b[0m\u001b[0;34m\u001b[0m\u001b[0m\n\u001b[1;32m      2\u001b[0m \u001b[0mstart\u001b[0m \u001b[0;34m=\u001b[0m \u001b[0mtime\u001b[0m\u001b[0;34m.\u001b[0m\u001b[0mtime\u001b[0m\u001b[0;34m(\u001b[0m\u001b[0;34m)\u001b[0m\u001b[0;34m\u001b[0m\u001b[0;34m\u001b[0m\u001b[0m\n\u001b[0;32m----> 3\u001b[0;31m \u001b[0m_\u001b[0m \u001b[0;34m=\u001b[0m \u001b[0mmy_classifier\u001b[0m\u001b[0;34m(\u001b[0m\u001b[0;34m)\u001b[0m\u001b[0;34m\u001b[0m\u001b[0;34m\u001b[0m\u001b[0m\n\u001b[0m\u001b[1;32m      4\u001b[0m \u001b[0mresults\u001b[0m\u001b[0;34m\u001b[0m\u001b[0;34m\u001b[0m\u001b[0m\n\u001b[1;32m      5\u001b[0m \u001b[0mtime\u001b[0m\u001b[0;34m.\u001b[0m\u001b[0mtime\u001b[0m\u001b[0;34m(\u001b[0m\u001b[0;34m)\u001b[0m\u001b[0;34m-\u001b[0m\u001b[0mstart\u001b[0m\u001b[0;34m\u001b[0m\u001b[0;34m\u001b[0m\u001b[0m\n",
      "\u001b[0;32m/tmp/ipykernel_946100/441685971.py\u001b[0m in \u001b[0;36mmy_classifier\u001b[0;34m()\u001b[0m\n\u001b[1;32m    180\u001b[0m                 \u001b[0mprint\u001b[0m\u001b[0;34m(\u001b[0m\u001b[0;34mf'$$$$$---{cntcnt}'\u001b[0m\u001b[0;34m)\u001b[0m\u001b[0;34m\u001b[0m\u001b[0;34m\u001b[0m\u001b[0m\n\u001b[1;32m    181\u001b[0m                 \u001b[0mmodel_\u001b[0m \u001b[0;34m=\u001b[0m \u001b[0meval\u001b[0m\u001b[0;34m(\u001b[0m\u001b[0mmodel_nm\u001b[0m\u001b[0;34m)\u001b[0m\u001b[0;34m.\u001b[0m\u001b[0mfit\u001b[0m\u001b[0;34m(\u001b[0m\u001b[0mX_train\u001b[0m\u001b[0;34m,\u001b[0m \u001b[0my_train\u001b[0m\u001b[0;34m)\u001b[0m\u001b[0;34m\u001b[0m\u001b[0;34m\u001b[0m\u001b[0m\n\u001b[0;32m--> 182\u001b[0;31m                 \u001b[0my_pred_test\u001b[0m \u001b[0;34m=\u001b[0m \u001b[0mmodel_\u001b[0m\u001b[0;34m.\u001b[0m\u001b[0mpredict\u001b[0m\u001b[0;34m(\u001b[0m\u001b[0mX_test\u001b[0m\u001b[0;34m)\u001b[0m \u001b[0;31m# 예측\u001b[0m\u001b[0;34m\u001b[0m\u001b[0;34m\u001b[0m\u001b[0m\n\u001b[0m\u001b[1;32m    183\u001b[0m \u001b[0;34m\u001b[0m\u001b[0m\n\u001b[1;32m    184\u001b[0m             \u001b[0maccuracy\u001b[0m \u001b[0;34m=\u001b[0m \u001b[0maccuracy_score\u001b[0m\u001b[0;34m(\u001b[0m\u001b[0my_test\u001b[0m\u001b[0;34m,\u001b[0m \u001b[0my_pred_test\u001b[0m\u001b[0;34m)\u001b[0m\u001b[0;34m\u001b[0m\u001b[0;34m\u001b[0m\u001b[0m\n",
      "\u001b[0;32m/package/anaconda3.8/lib/python3.8/site-packages/sklearn/neighbors/_classification.py\u001b[0m in \u001b[0;36mpredict\u001b[0;34m(self, X)\u001b[0m\n\u001b[1;32m    212\u001b[0m             \u001b[0mClass\u001b[0m \u001b[0mlabels\u001b[0m \u001b[0;32mfor\u001b[0m \u001b[0meach\u001b[0m \u001b[0mdata\u001b[0m \u001b[0msample\u001b[0m\u001b[0;34m.\u001b[0m\u001b[0;34m\u001b[0m\u001b[0;34m\u001b[0m\u001b[0m\n\u001b[1;32m    213\u001b[0m         \"\"\"\n\u001b[0;32m--> 214\u001b[0;31m         \u001b[0mneigh_dist\u001b[0m\u001b[0;34m,\u001b[0m \u001b[0mneigh_ind\u001b[0m \u001b[0;34m=\u001b[0m \u001b[0mself\u001b[0m\u001b[0;34m.\u001b[0m\u001b[0mkneighbors\u001b[0m\u001b[0;34m(\u001b[0m\u001b[0mX\u001b[0m\u001b[0;34m)\u001b[0m\u001b[0;34m\u001b[0m\u001b[0;34m\u001b[0m\u001b[0m\n\u001b[0m\u001b[1;32m    215\u001b[0m         \u001b[0mclasses_\u001b[0m \u001b[0;34m=\u001b[0m \u001b[0mself\u001b[0m\u001b[0;34m.\u001b[0m\u001b[0mclasses_\u001b[0m\u001b[0;34m\u001b[0m\u001b[0;34m\u001b[0m\u001b[0m\n\u001b[1;32m    216\u001b[0m         \u001b[0m_y\u001b[0m \u001b[0;34m=\u001b[0m \u001b[0mself\u001b[0m\u001b[0;34m.\u001b[0m\u001b[0m_y\u001b[0m\u001b[0;34m\u001b[0m\u001b[0;34m\u001b[0m\u001b[0m\n",
      "\u001b[0;32m/package/anaconda3.8/lib/python3.8/site-packages/sklearn/neighbors/_base.py\u001b[0m in \u001b[0;36mkneighbors\u001b[0;34m(self, X, n_neighbors, return_distance)\u001b[0m\n\u001b[1;32m    750\u001b[0m                 \u001b[0mkwds\u001b[0m \u001b[0;34m=\u001b[0m \u001b[0mself\u001b[0m\u001b[0;34m.\u001b[0m\u001b[0meffective_metric_params_\u001b[0m\u001b[0;34m\u001b[0m\u001b[0;34m\u001b[0m\u001b[0m\n\u001b[1;32m    751\u001b[0m \u001b[0;34m\u001b[0m\u001b[0m\n\u001b[0;32m--> 752\u001b[0;31m             chunked_results = list(\n\u001b[0m\u001b[1;32m    753\u001b[0m                 pairwise_distances_chunked(\n\u001b[1;32m    754\u001b[0m                     \u001b[0mX\u001b[0m\u001b[0;34m,\u001b[0m\u001b[0;34m\u001b[0m\u001b[0;34m\u001b[0m\u001b[0m\n",
      "\u001b[0;32m/package/anaconda3.8/lib/python3.8/site-packages/sklearn/metrics/pairwise.py\u001b[0m in \u001b[0;36mpairwise_distances_chunked\u001b[0;34m(X, Y, reduce_func, metric, n_jobs, working_memory, **kwds)\u001b[0m\n\u001b[1;32m   1724\u001b[0m         \u001b[0;32mif\u001b[0m \u001b[0mreduce_func\u001b[0m \u001b[0;32mis\u001b[0m \u001b[0;32mnot\u001b[0m \u001b[0;32mNone\u001b[0m\u001b[0;34m:\u001b[0m\u001b[0;34m\u001b[0m\u001b[0;34m\u001b[0m\u001b[0m\n\u001b[1;32m   1725\u001b[0m             \u001b[0mchunk_size\u001b[0m \u001b[0;34m=\u001b[0m \u001b[0mD_chunk\u001b[0m\u001b[0;34m.\u001b[0m\u001b[0mshape\u001b[0m\u001b[0;34m[\u001b[0m\u001b[0;36m0\u001b[0m\u001b[0;34m]\u001b[0m\u001b[0;34m\u001b[0m\u001b[0;34m\u001b[0m\u001b[0m\n\u001b[0;32m-> 1726\u001b[0;31m             \u001b[0mD_chunk\u001b[0m \u001b[0;34m=\u001b[0m \u001b[0mreduce_func\u001b[0m\u001b[0;34m(\u001b[0m\u001b[0mD_chunk\u001b[0m\u001b[0;34m,\u001b[0m \u001b[0msl\u001b[0m\u001b[0;34m.\u001b[0m\u001b[0mstart\u001b[0m\u001b[0;34m)\u001b[0m\u001b[0;34m\u001b[0m\u001b[0;34m\u001b[0m\u001b[0m\n\u001b[0m\u001b[1;32m   1727\u001b[0m             \u001b[0m_check_chunk_size\u001b[0m\u001b[0;34m(\u001b[0m\u001b[0mD_chunk\u001b[0m\u001b[0;34m,\u001b[0m \u001b[0mchunk_size\u001b[0m\u001b[0;34m)\u001b[0m\u001b[0;34m\u001b[0m\u001b[0;34m\u001b[0m\u001b[0m\n\u001b[1;32m   1728\u001b[0m         \u001b[0;32myield\u001b[0m \u001b[0mD_chunk\u001b[0m\u001b[0;34m\u001b[0m\u001b[0;34m\u001b[0m\u001b[0m\n",
      "\u001b[0;32m/package/anaconda3.8/lib/python3.8/site-packages/sklearn/neighbors/_base.py\u001b[0m in \u001b[0;36m_kneighbors_reduce_func\u001b[0;34m(self, dist, start, n_neighbors, return_distance)\u001b[0m\n\u001b[1;32m    632\u001b[0m         \"\"\"\n\u001b[1;32m    633\u001b[0m         \u001b[0msample_range\u001b[0m \u001b[0;34m=\u001b[0m \u001b[0mnp\u001b[0m\u001b[0;34m.\u001b[0m\u001b[0marange\u001b[0m\u001b[0;34m(\u001b[0m\u001b[0mdist\u001b[0m\u001b[0;34m.\u001b[0m\u001b[0mshape\u001b[0m\u001b[0;34m[\u001b[0m\u001b[0;36m0\u001b[0m\u001b[0;34m]\u001b[0m\u001b[0;34m)\u001b[0m\u001b[0;34m[\u001b[0m\u001b[0;34m:\u001b[0m\u001b[0;34m,\u001b[0m \u001b[0;32mNone\u001b[0m\u001b[0;34m]\u001b[0m\u001b[0;34m\u001b[0m\u001b[0;34m\u001b[0m\u001b[0m\n\u001b[0;32m--> 634\u001b[0;31m         \u001b[0mneigh_ind\u001b[0m \u001b[0;34m=\u001b[0m \u001b[0mnp\u001b[0m\u001b[0;34m.\u001b[0m\u001b[0margpartition\u001b[0m\u001b[0;34m(\u001b[0m\u001b[0mdist\u001b[0m\u001b[0;34m,\u001b[0m \u001b[0mn_neighbors\u001b[0m \u001b[0;34m-\u001b[0m \u001b[0;36m1\u001b[0m\u001b[0;34m,\u001b[0m \u001b[0maxis\u001b[0m\u001b[0;34m=\u001b[0m\u001b[0;36m1\u001b[0m\u001b[0;34m)\u001b[0m\u001b[0;34m\u001b[0m\u001b[0;34m\u001b[0m\u001b[0m\n\u001b[0m\u001b[1;32m    635\u001b[0m         \u001b[0mneigh_ind\u001b[0m \u001b[0;34m=\u001b[0m \u001b[0mneigh_ind\u001b[0m\u001b[0;34m[\u001b[0m\u001b[0;34m:\u001b[0m\u001b[0;34m,\u001b[0m \u001b[0;34m:\u001b[0m\u001b[0mn_neighbors\u001b[0m\u001b[0;34m]\u001b[0m\u001b[0;34m\u001b[0m\u001b[0;34m\u001b[0m\u001b[0m\n\u001b[1;32m    636\u001b[0m         \u001b[0;31m# argpartition doesn't guarantee sorted order, so we sort again\u001b[0m\u001b[0;34m\u001b[0m\u001b[0;34m\u001b[0m\u001b[0;34m\u001b[0m\u001b[0m\n",
      "\u001b[0;32m<__array_function__ internals>\u001b[0m in \u001b[0;36margpartition\u001b[0;34m(*args, **kwargs)\u001b[0m\n",
      "\u001b[0;32m/package/anaconda3.8/lib/python3.8/site-packages/numpy/core/fromnumeric.py\u001b[0m in \u001b[0;36margpartition\u001b[0;34m(a, kth, axis, kind, order)\u001b[0m\n\u001b[1;32m    830\u001b[0m \u001b[0;34m\u001b[0m\u001b[0m\n\u001b[1;32m    831\u001b[0m     \"\"\"\n\u001b[0;32m--> 832\u001b[0;31m     \u001b[0;32mreturn\u001b[0m \u001b[0m_wrapfunc\u001b[0m\u001b[0;34m(\u001b[0m\u001b[0ma\u001b[0m\u001b[0;34m,\u001b[0m \u001b[0;34m'argpartition'\u001b[0m\u001b[0;34m,\u001b[0m \u001b[0mkth\u001b[0m\u001b[0;34m,\u001b[0m \u001b[0maxis\u001b[0m\u001b[0;34m=\u001b[0m\u001b[0maxis\u001b[0m\u001b[0;34m,\u001b[0m \u001b[0mkind\u001b[0m\u001b[0;34m=\u001b[0m\u001b[0mkind\u001b[0m\u001b[0;34m,\u001b[0m \u001b[0morder\u001b[0m\u001b[0;34m=\u001b[0m\u001b[0morder\u001b[0m\u001b[0;34m)\u001b[0m\u001b[0;34m\u001b[0m\u001b[0;34m\u001b[0m\u001b[0m\n\u001b[0m\u001b[1;32m    833\u001b[0m \u001b[0;34m\u001b[0m\u001b[0m\n\u001b[1;32m    834\u001b[0m \u001b[0;34m\u001b[0m\u001b[0m\n",
      "\u001b[0;32m/package/anaconda3.8/lib/python3.8/site-packages/numpy/core/fromnumeric.py\u001b[0m in \u001b[0;36m_wrapfunc\u001b[0;34m(obj, method, *args, **kwds)\u001b[0m\n\u001b[1;32m     56\u001b[0m \u001b[0;34m\u001b[0m\u001b[0m\n\u001b[1;32m     57\u001b[0m     \u001b[0;32mtry\u001b[0m\u001b[0;34m:\u001b[0m\u001b[0;34m\u001b[0m\u001b[0;34m\u001b[0m\u001b[0m\n\u001b[0;32m---> 58\u001b[0;31m         \u001b[0;32mreturn\u001b[0m \u001b[0mbound\u001b[0m\u001b[0;34m(\u001b[0m\u001b[0;34m*\u001b[0m\u001b[0margs\u001b[0m\u001b[0;34m,\u001b[0m \u001b[0;34m**\u001b[0m\u001b[0mkwds\u001b[0m\u001b[0;34m)\u001b[0m\u001b[0;34m\u001b[0m\u001b[0;34m\u001b[0m\u001b[0m\n\u001b[0m\u001b[1;32m     59\u001b[0m     \u001b[0;32mexcept\u001b[0m \u001b[0mTypeError\u001b[0m\u001b[0;34m:\u001b[0m\u001b[0;34m\u001b[0m\u001b[0;34m\u001b[0m\u001b[0m\n\u001b[1;32m     60\u001b[0m         \u001b[0;31m# A TypeError occurs if the object does have such a method in its\u001b[0m\u001b[0;34m\u001b[0m\u001b[0;34m\u001b[0m\u001b[0;34m\u001b[0m\u001b[0m\n",
      "\u001b[0;31mKeyboardInterrupt\u001b[0m: "
     ]
    }
   ],
   "source": [
    "import time\n",
    "start = time.time()\n",
    "_ = my_classifier()\n",
    "results\n",
    "time.time()-start\n",
    "\n",
    "# ['KNeighbor']"
   ]
  },
  {
   "cell_type": "code",
   "execution_count": 18,
   "id": "e1212165",
   "metadata": {
    "scrolled": true
   },
   "outputs": [
    {
     "name": "stderr",
     "output_type": "stream",
     "text": [
      "\r",
      "  0%|                                                     | 0/5 [00:00<?, ?it/s]"
     ]
    },
    {
     "name": "stdout",
     "output_type": "stream",
     "text": [
      "<<<---XGBoost start--->>>\n",
      "00:28:53\n",
      "<<<---1215 start--->>>\n",
      "00:28:53\n",
      "$$$$$---1\n",
      "[0]\tvalidation_0-auc:0.53245\n",
      "[1]\tvalidation_0-auc:0.53767\n",
      "[2]\tvalidation_0-auc:0.54114\n",
      "[3]\tvalidation_0-auc:0.54327\n",
      "[4]\tvalidation_0-auc:0.54542\n",
      "[5]\tvalidation_0-auc:0.54592\n",
      "[6]\tvalidation_0-auc:0.54673\n",
      "[7]\tvalidation_0-auc:0.54795\n",
      "[8]\tvalidation_0-auc:0.54953\n",
      "[9]\tvalidation_0-auc:0.54993\n",
      "<<<---1316 start--->>>\n",
      "00:29:09\n",
      "$$$$$---2\n",
      "[0]\tvalidation_0-auc:0.53576\n",
      "[1]\tvalidation_0-auc:0.54283\n",
      "[2]\tvalidation_0-auc:0.54527\n",
      "[3]\tvalidation_0-auc:0.54902\n",
      "[4]\tvalidation_0-auc:0.55135\n",
      "[5]\tvalidation_0-auc:0.55196\n",
      "[6]\tvalidation_0-auc:0.55288\n",
      "[7]\tvalidation_0-auc:0.55356\n",
      "[8]\tvalidation_0-auc:0.55481\n",
      "[9]\tvalidation_0-auc:0.55558\n",
      "<<<---1417 start--->>>\n",
      "00:29:26\n",
      "$$$$$---3\n",
      "[0]\tvalidation_0-auc:0.53724\n",
      "[1]\tvalidation_0-auc:0.54198\n",
      "[2]\tvalidation_0-auc:0.54494\n",
      "[3]\tvalidation_0-auc:0.54782\n",
      "[4]\tvalidation_0-auc:0.54903\n",
      "[5]\tvalidation_0-auc:0.54982\n",
      "[6]\tvalidation_0-auc:0.55069\n",
      "[7]\tvalidation_0-auc:0.55127\n",
      "[8]\tvalidation_0-auc:0.55213\n",
      "[9]\tvalidation_0-auc:0.55314\n",
      "<<<---1518 start--->>>\n",
      "00:29:44\n",
      "$$$$$---4\n",
      "[0]\tvalidation_0-auc:0.52548\n",
      "[1]\tvalidation_0-auc:0.53011\n",
      "[2]\tvalidation_0-auc:0.53290\n",
      "[3]\tvalidation_0-auc:0.53468\n",
      "[4]\tvalidation_0-auc:0.53612\n",
      "[5]\tvalidation_0-auc:0.53715\n",
      "[6]\tvalidation_0-auc:0.53824\n",
      "[7]\tvalidation_0-auc:0.53896\n",
      "[8]\tvalidation_0-auc:0.53887\n",
      "[9]\tvalidation_0-auc:0.53998\n",
      "<<<---1619 start--->>>\n",
      "00:30:04\n",
      "$$$$$---5\n",
      "[0]\tvalidation_0-auc:0.53367\n",
      "[1]\tvalidation_0-auc:0.53825\n",
      "[2]\tvalidation_0-auc:0.54296\n",
      "[3]\tvalidation_0-auc:0.54452\n",
      "[4]\tvalidation_0-auc:0.54577\n",
      "[5]\tvalidation_0-auc:0.54666\n",
      "[6]\tvalidation_0-auc:0.54677\n",
      "[7]\tvalidation_0-auc:0.54710\n",
      "[8]\tvalidation_0-auc:0.54827\n",
      "[9]\tvalidation_0-auc:0.54902\n",
      "<<<---1720 start--->>>\n",
      "00:30:24\n",
      "$$$$$---6\n",
      "[0]\tvalidation_0-auc:0.51968\n",
      "[1]\tvalidation_0-auc:0.52140\n",
      "[2]\tvalidation_0-auc:0.52268\n",
      "[3]\tvalidation_0-auc:0.52361\n",
      "[4]\tvalidation_0-auc:0.52584\n",
      "[5]\tvalidation_0-auc:0.52532\n",
      "[6]\tvalidation_0-auc:0.52365\n",
      "[7]\tvalidation_0-auc:0.52422\n",
      "[8]\tvalidation_0-auc:0.52492\n",
      "[9]\tvalidation_0-auc:0.52651\n",
      "<<<---1821 start--->>>\n",
      "00:30:44\n",
      "$$$$$---7\n",
      "[0]\tvalidation_0-auc:0.52406\n",
      "[1]\tvalidation_0-auc:0.52615\n",
      "[2]\tvalidation_0-auc:0.52673\n",
      "[3]\tvalidation_0-auc:0.52732\n",
      "[4]\tvalidation_0-auc:0.52779\n",
      "[5]\tvalidation_0-auc:0.52843\n",
      "[6]\tvalidation_0-auc:0.52937\n",
      "[7]\tvalidation_0-auc:0.52993\n",
      "[8]\tvalidation_0-auc:0.53072\n",
      "[9]\tvalidation_0-auc:0.53185\n"
     ]
    },
    {
     "name": "stderr",
     "output_type": "stream",
     "text": [
      "\r",
      " 20%|████████▊                                   | 1/5 [02:14<08:57, 134.49s/it]"
     ]
    },
    {
     "name": "stdout",
     "output_type": "stream",
     "text": [
      "[[0, 'XGBoost', 0.5533303429845786, 0.5274938602009643], [1, 'XGBoost', 0.5587648512640324, 0.528969220742626], [2, 'XGBoost', 0.5608311819609684, 0.5267130683977462], [3, 'XGBoost', 0.5525027920342322, 0.5209610157365271], [4, 'XGBoost', 0.5596736996872831, 0.52162189127671], [5, 'XGBoost', 0.5382265473507089, 0.51353989896573], [6, 'XGBoost', 0.5546100115373264, 0.5134707222923052]]\n",
      "<<<---dummy start--->>>\n",
      "00:31:08\n",
      "<<<---1215 start--->>>\n",
      "00:31:08\n",
      "$$$$$---1\n",
      "<<<---1316 start--->>>\n",
      "00:31:10\n",
      "$$$$$---2\n",
      "<<<---1417 start--->>>\n",
      "00:31:12\n",
      "$$$$$---3\n",
      "<<<---1518 start--->>>\n",
      "00:31:14\n",
      "$$$$$---4\n",
      "<<<---1619 start--->>>\n",
      "00:31:16\n",
      "$$$$$---5\n",
      "<<<---1720 start--->>>\n",
      "00:31:18\n",
      "$$$$$---6\n",
      "<<<---1821 start--->>>\n",
      "00:31:21\n"
     ]
    },
    {
     "name": "stderr",
     "output_type": "stream",
     "text": [
      "\r",
      " 40%|██████████████████                           | 2/5 [02:30<03:14, 64.72s/it]"
     ]
    },
    {
     "name": "stdout",
     "output_type": "stream",
     "text": [
      "$$$$$---7\n",
      "[[7, 'dummy', 0.5022901438526222, 0.498624936882785], [8, 'dummy', 0.5004764315278564, 0.4967955180971402], [9, 'dummy', 0.5074560849235435, 0.5029978207328746], [10, 'dummy', 0.505364470266404, 0.5009225744971062], [11, 'dummy', 0.5049818265951175, 0.4999652479913408], [12, 'dummy', 0.5033045841262985, 0.5000358456090245], [13, 'dummy', 0.5045702122331435, 0.5002466642274119]]\n",
      "<<<---Logistic_Regression start--->>>\n",
      "00:31:24\n",
      "<<<---1215 start--->>>\n",
      "00:31:24\n",
      "$$$$$---1\n",
      "<<<---1316 start--->>>\n",
      "00:32:33\n",
      "$$$$$---2\n",
      "<<<---1417 start--->>>\n",
      "00:33:44\n",
      "$$$$$---3\n",
      "<<<---1518 start--->>>\n",
      "00:34:57\n",
      "$$$$$---4\n",
      "<<<---1619 start--->>>\n",
      "00:36:13\n",
      "$$$$$---5\n",
      "<<<---1720 start--->>>\n",
      "00:37:27\n",
      "$$$$$---6\n"
     ]
    },
    {
     "name": "stderr",
     "output_type": "stream",
     "text": [
      "/package/anaconda3.8/lib/python3.8/site-packages/sklearn/linear_model/_logistic.py:814: ConvergenceWarning: lbfgs failed to converge (status=1):\n",
      "STOP: TOTAL NO. of ITERATIONS REACHED LIMIT.\n",
      "\n",
      "Increase the number of iterations (max_iter) or scale the data as shown in:\n",
      "    https://scikit-learn.org/stable/modules/preprocessing.html\n",
      "Please also refer to the documentation for alternative solver options:\n",
      "    https://scikit-learn.org/stable/modules/linear_model.html#logistic-regression\n",
      "  n_iter_i = _check_optimize_result(\n"
     ]
    },
    {
     "name": "stdout",
     "output_type": "stream",
     "text": [
      "<<<---1821 start--->>>\n",
      "00:38:49\n",
      "$$$$$---7\n"
     ]
    },
    {
     "name": "stderr",
     "output_type": "stream",
     "text": [
      "\r",
      " 60%|██████████████████████████▍                 | 3/5 [11:32<09:25, 282.85s/it]"
     ]
    },
    {
     "name": "stdout",
     "output_type": "stream",
     "text": [
      "[[14, 'Logistic_Regression', 0.5388124103685078, 0.5006451548065087], [15, 'Logistic_Regression', 0.5422460768841378, 0.4992190478424038], [16, 'Logistic_Regression', 0.5529598671264285, 0.49972436498512524], [17, 'Logistic_Regression', 0.5486315895144998, 0.4997338524721153], [18, 'Logistic_Regression', 0.5520610208453058, 0.5000000566565985], [19, 'Logistic_Regression', 0.5322787458327147, 0.49968927327232476], [20, 'Logistic_Regression', 0.5521326166477359, 0.4998208245751821]]\n",
      "<<<---SVM start--->>>\n",
      "00:40:26\n",
      "<<<---1215 start--->>>\n",
      "00:40:26\n",
      "$$$$$---1\n"
     ]
    },
    {
     "name": "stderr",
     "output_type": "stream",
     "text": [
      "/package/anaconda3.8/lib/python3.8/site-packages/sklearn/linear_model/_logistic.py:814: ConvergenceWarning: lbfgs failed to converge (status=1):\n",
      "STOP: TOTAL NO. of ITERATIONS REACHED LIMIT.\n",
      "\n",
      "Increase the number of iterations (max_iter) or scale the data as shown in:\n",
      "    https://scikit-learn.org/stable/modules/preprocessing.html\n",
      "Please also refer to the documentation for alternative solver options:\n",
      "    https://scikit-learn.org/stable/modules/linear_model.html#logistic-regression\n",
      "  n_iter_i = _check_optimize_result(\n",
      "/package/anaconda3.8/lib/python3.8/site-packages/sklearn/linear_model/_logistic.py:814: ConvergenceWarning: lbfgs failed to converge (status=1):\n",
      "STOP: TOTAL NO. of ITERATIONS REACHED LIMIT.\n",
      "\n",
      "Increase the number of iterations (max_iter) or scale the data as shown in:\n",
      "    https://scikit-learn.org/stable/modules/preprocessing.html\n",
      "Please also refer to the documentation for alternative solver options:\n",
      "    https://scikit-learn.org/stable/modules/linear_model.html#logistic-regression\n",
      "  n_iter_i = _check_optimize_result(\n",
      "/package/anaconda3.8/lib/python3.8/site-packages/sklearn/linear_model/_logistic.py:814: ConvergenceWarning: lbfgs failed to converge (status=1):\n",
      "STOP: TOTAL NO. of ITERATIONS REACHED LIMIT.\n",
      "\n",
      "Increase the number of iterations (max_iter) or scale the data as shown in:\n",
      "    https://scikit-learn.org/stable/modules/preprocessing.html\n",
      "Please also refer to the documentation for alternative solver options:\n",
      "    https://scikit-learn.org/stable/modules/linear_model.html#logistic-regression\n",
      "  n_iter_i = _check_optimize_result(\n",
      "/package/anaconda3.8/lib/python3.8/site-packages/sklearn/linear_model/_logistic.py:814: ConvergenceWarning: lbfgs failed to converge (status=1):\n",
      "STOP: TOTAL NO. of ITERATIONS REACHED LIMIT.\n",
      "\n",
      "Increase the number of iterations (max_iter) or scale the data as shown in:\n",
      "    https://scikit-learn.org/stable/modules/preprocessing.html\n",
      "Please also refer to the documentation for alternative solver options:\n",
      "    https://scikit-learn.org/stable/modules/linear_model.html#logistic-regression\n",
      "  n_iter_i = _check_optimize_result(\n",
      "/package/anaconda3.8/lib/python3.8/site-packages/sklearn/linear_model/_logistic.py:814: ConvergenceWarning: lbfgs failed to converge (status=1):\n",
      "STOP: TOTAL NO. of ITERATIONS REACHED LIMIT.\n",
      "\n",
      "Increase the number of iterations (max_iter) or scale the data as shown in:\n",
      "    https://scikit-learn.org/stable/modules/preprocessing.html\n",
      "Please also refer to the documentation for alternative solver options:\n",
      "    https://scikit-learn.org/stable/modules/linear_model.html#logistic-regression\n",
      "  n_iter_i = _check_optimize_result(\n",
      "/package/anaconda3.8/lib/python3.8/site-packages/sklearn/linear_model/_logistic.py:814: ConvergenceWarning: lbfgs failed to converge (status=1):\n",
      "STOP: TOTAL NO. of ITERATIONS REACHED LIMIT.\n",
      "\n",
      "Increase the number of iterations (max_iter) or scale the data as shown in:\n",
      "    https://scikit-learn.org/stable/modules/preprocessing.html\n",
      "Please also refer to the documentation for alternative solver options:\n",
      "    https://scikit-learn.org/stable/modules/linear_model.html#logistic-regression\n",
      "  n_iter_i = _check_optimize_result(\n"
     ]
    },
    {
     "name": "stdout",
     "output_type": "stream",
     "text": [
      "<<<---1316 start--->>>\n",
      "00:46:23\n",
      "$$$$$---2\n",
      "<<<---1417 start--->>>\n",
      "00:52:44\n",
      "$$$$$---3\n",
      "<<<---1518 start--->>>\n",
      "00:59:01\n",
      "$$$$$---4\n",
      "<<<---1619 start--->>>\n",
      "01:06:26\n",
      "$$$$$---5\n",
      "<<<---1720 start--->>>\n",
      "01:13:20\n",
      "$$$$$---6\n",
      "<<<---1821 start--->>>\n",
      "01:21:03\n",
      "$$$$$---7\n"
     ]
    },
    {
     "name": "stderr",
     "output_type": "stream",
     "text": [
      "\r",
      " 80%|████████████████████████████████▊        | 4/5 [1:01:38<22:37, 1357.74s/it]"
     ]
    },
    {
     "name": "stdout",
     "output_type": "stream",
     "text": [
      "[[21, 'SVM', 0.45822461730906516, 0.4999856282727155], [22, 'SVM', 0.45512610547002946, 0.500040258196378], [23, 'SVM', 0.4466339296997707, 0.5000869632262043], [24, 'SVM', 0.45129311967474367, 0.500225094814467], [25, 'SVM', 0.44796136938658226, 0.5001228231705257], [26, 'SVM', 0.46762677320519913, 0.5002860894098915], [27, 'SVM', 0.44784502419261074, 0.5001912401255232]]\n",
      "<<<---Gaussian_NB start--->>>\n",
      "01:30:32\n",
      "<<<---1215 start--->>>\n",
      "01:30:32\n",
      "$$$$$---1\n",
      "<<<---1316 start--->>>\n",
      "01:30:36\n",
      "$$$$$---2\n",
      "<<<---1417 start--->>>\n",
      "01:30:41\n",
      "$$$$$---3\n",
      "<<<---1518 start--->>>\n",
      "01:30:45\n",
      "$$$$$---4\n",
      "<<<---1619 start--->>>\n",
      "01:30:51\n",
      "$$$$$---5\n",
      "<<<---1720 start--->>>\n",
      "01:30:56\n",
      "$$$$$---6\n",
      "<<<---1821 start--->>>\n",
      "01:31:02\n",
      "$$$$$---7\n"
     ]
    },
    {
     "name": "stderr",
     "output_type": "stream",
     "text": [
      "100%|██████████████████████████████████████████| 5/5 [1:02:16<00:00, 747.21s/it]"
     ]
    },
    {
     "name": "stdout",
     "output_type": "stream",
     "text": [
      "[[28, 'Gaussian_NB', 0.4585847226872706, 0.5001861170154632], [29, 'Gaussian_NB', 0.45533454426346665, 0.4999844005243526], [30, 'Gaussian_NB', 0.44699499918759367, 0.5000782161269514], [31, 'Gaussian_NB', 0.4513872331881894, 0.5001233864776655], [32, 'Gaussian_NB', 0.44796883279721167, 0.5001437873510062], [33, 'Gaussian_NB', 0.467739250541016, 0.5003228724449605], [34, 'Gaussian_NB', 0.44788974251191743, 0.500238357284859]]\n"
     ]
    },
    {
     "name": "stderr",
     "output_type": "stream",
     "text": [
      "\n"
     ]
    },
    {
     "data": {
      "text/plain": [
       "[[0, 'XGBoost', 0.5533303429845786, 0.5274938602009643],\n",
       " [1, 'XGBoost', 0.5587648512640324, 0.528969220742626],\n",
       " [2, 'XGBoost', 0.5608311819609684, 0.5267130683977462],\n",
       " [3, 'XGBoost', 0.5525027920342322, 0.5209610157365271],\n",
       " [4, 'XGBoost', 0.5596736996872831, 0.52162189127671],\n",
       " [5, 'XGBoost', 0.5382265473507089, 0.51353989896573],\n",
       " [6, 'XGBoost', 0.5546100115373264, 0.5134707222923052],\n",
       " [7, 'dummy', 0.5022901438526222, 0.498624936882785],\n",
       " [8, 'dummy', 0.5004764315278564, 0.4967955180971402],\n",
       " [9, 'dummy', 0.5074560849235435, 0.5029978207328746],\n",
       " [10, 'dummy', 0.505364470266404, 0.5009225744971062],\n",
       " [11, 'dummy', 0.5049818265951175, 0.4999652479913408],\n",
       " [12, 'dummy', 0.5033045841262985, 0.5000358456090245],\n",
       " [13, 'dummy', 0.5045702122331435, 0.5002466642274119],\n",
       " [14, 'Logistic_Regression', 0.5388124103685078, 0.5006451548065087],\n",
       " [15, 'Logistic_Regression', 0.5422460768841378, 0.4992190478424038],\n",
       " [16, 'Logistic_Regression', 0.5529598671264285, 0.49972436498512524],\n",
       " [17, 'Logistic_Regression', 0.5486315895144998, 0.4997338524721153],\n",
       " [18, 'Logistic_Regression', 0.5520610208453058, 0.5000000566565985],\n",
       " [19, 'Logistic_Regression', 0.5322787458327147, 0.49968927327232476],\n",
       " [20, 'Logistic_Regression', 0.5521326166477359, 0.4998208245751821],\n",
       " [21, 'SVM', 0.45822461730906516, 0.4999856282727155],\n",
       " [22, 'SVM', 0.45512610547002946, 0.500040258196378],\n",
       " [23, 'SVM', 0.4466339296997707, 0.5000869632262043],\n",
       " [24, 'SVM', 0.45129311967474367, 0.500225094814467],\n",
       " [25, 'SVM', 0.44796136938658226, 0.5001228231705257],\n",
       " [26, 'SVM', 0.46762677320519913, 0.5002860894098915],\n",
       " [27, 'SVM', 0.44784502419261074, 0.5001912401255232],\n",
       " [28, 'Gaussian_NB', 0.4585847226872706, 0.5001861170154632],\n",
       " [29, 'Gaussian_NB', 0.45533454426346665, 0.4999844005243526],\n",
       " [30, 'Gaussian_NB', 0.44699499918759367, 0.5000782161269514],\n",
       " [31, 'Gaussian_NB', 0.4513872331881894, 0.5001233864776655],\n",
       " [32, 'Gaussian_NB', 0.44796883279721167, 0.5001437873510062],\n",
       " [33, 'Gaussian_NB', 0.467739250541016, 0.5003228724449605],\n",
       " [34, 'Gaussian_NB', 0.44788974251191743, 0.500238357284859]]"
      ]
     },
     "execution_count": 18,
     "metadata": {},
     "output_type": "execute_result"
    },
    {
     "data": {
      "text/plain": [
       "3737.171305656433"
      ]
     },
     "execution_count": 18,
     "metadata": {},
     "output_type": "execute_result"
    }
   ],
   "source": [
    "import time\n",
    "start = time.time()\n",
    "_ = my_classifier()\n",
    "results\n",
    "time.time()-start\n",
    "\n",
    "# ['XGBoost', 'dummy', 'Logistic_Regression', 'SVM', 'Gaussian_NB']"
   ]
  },
  {
   "cell_type": "code",
   "execution_count": null,
   "id": "c1dbc919",
   "metadata": {
    "scrolled": true
   },
   "outputs": [
    {
     "name": "stderr",
     "output_type": "stream",
     "text": [
      "\r",
      "  0%|                                                     | 0/5 [00:00<?, ?it/s]"
     ]
    },
    {
     "name": "stdout",
     "output_type": "stream",
     "text": [
      "<<<---MLP start--->>>\n",
      "18:39:34\n",
      "<<<---1215 start--->>>\n",
      "18:39:34\n",
      "$$$$$---1\n",
      "<<<---1316 start--->>>\n",
      "18:40:03\n",
      "$$$$$---2\n",
      "<<<---1417 start--->>>\n",
      "18:41:33\n",
      "$$$$$---3\n",
      "<<<---1518 start--->>>\n",
      "18:42:22\n",
      "$$$$$---4\n",
      "<<<---1619 start--->>>\n",
      "18:43:33\n",
      "$$$$$---5\n",
      "<<<---1720 start--->>>\n",
      "18:44:36\n",
      "$$$$$---6\n",
      "<<<---1821 start--->>>\n",
      "18:45:21\n",
      "$$$$$---7\n"
     ]
    },
    {
     "name": "stderr",
     "output_type": "stream",
     "text": [
      "\r",
      " 20%|████████▊                                   | 1/5 [07:26<29:47, 446.99s/it]"
     ]
    },
    {
     "name": "stdout",
     "output_type": "stream",
     "text": [
      "[[0, 'MLP', 0.5070852312571468, 0.4981315384745352], [1, 'MLP', 0.5270523776910937, 0.4990287907340827], [2, 'MLP', 0.5287501579679009, 0.5006602983405445], [3, 'MLP', 0.5422193221317338, 0.5009435972809749], [4, 'MLP', 0.5345817131512759, 0.49794460684853803], [5, 'MLP', 0.5199872225746512, 0.5030644735501303], [6, 'MLP', 0.5424779315094221, 0.5025564917597585]]\n",
      "<<<---DecisionTree start--->>>\n",
      "18:47:01\n",
      "<<<---1215 start--->>>\n",
      "18:47:01\n",
      "$$$$$---1\n",
      "<<<---1316 start--->>>\n",
      "18:48:20\n",
      "$$$$$---2\n",
      "<<<---1417 start--->>>\n",
      "18:50:12\n",
      "$$$$$---3\n",
      "<<<---1518 start--->>>\n",
      "18:51:59\n",
      "$$$$$---4\n",
      "<<<---1619 start--->>>\n",
      "18:54:00\n",
      "$$$$$---5\n",
      "<<<---1720 start--->>>\n",
      "18:56:09\n",
      "$$$$$---6\n",
      "<<<---1821 start--->>>\n",
      "18:58:23\n",
      "$$$$$---7\n"
     ]
    },
    {
     "name": "stderr",
     "output_type": "stream",
     "text": [
      "\r",
      " 40%|█████████████████▌                          | 2/5 [21:05<33:16, 665.36s/it]"
     ]
    },
    {
     "name": "stdout",
     "output_type": "stream",
     "text": [
      "[[7, 'DecisionTree', 0.5477202802504312, 0.5177220448987767], [8, 'DecisionTree', 0.5436307060119704, 0.5164708209157598], [9, 'DecisionTree', 0.5499088299543247, 0.5111833363647642], [10, 'DecisionTree', 0.5475963408665973, 0.5227744579502975], [11, 'DecisionTree', 0.5525536059468455, 0.5023766400076397], [12, 'DecisionTree', 0.5365933764346484, 0.5119752568734229], [13, 'DecisionTree', 0.5529464900591177, 0.5114457071075491]]\n",
      "<<<---RandomForest start--->>>\n",
      "19:00:39\n",
      "<<<---1215 start--->>>\n",
      "19:00:39\n",
      "$$$$$---1\n",
      "<<<---1316 start--->>>\n",
      "19:00:43\n",
      "$$$$$---2\n",
      "<<<---1417 start--->>>\n",
      "19:00:48\n",
      "$$$$$---3\n",
      "<<<---1518 start--->>>\n",
      "19:00:53\n",
      "$$$$$---4\n",
      "<<<---1619 start--->>>\n",
      "19:00:59\n",
      "$$$$$---5\n",
      "<<<---1720 start--->>>\n",
      "19:01:05\n",
      "$$$$$---6\n",
      "<<<---1821 start--->>>\n",
      "19:01:11\n",
      "$$$$$---7\n"
     ]
    },
    {
     "name": "stderr",
     "output_type": "stream",
     "text": [
      "\r",
      " 60%|██████████████████████████▍                 | 3/5 [21:44<12:39, 379.66s/it]"
     ]
    },
    {
     "name": "stdout",
     "output_type": "stream",
     "text": [
      "[[14, 'RandomForest', 0.5455091068754857, 0.5059471462013954], [15, 'RandomForest', 0.5504347437691689, 0.5089746337276014], [16, 'RandomForest', 0.5559567438753588, 0.5083075846348538], [17, 'RandomForest', 0.5557904907706015, 0.5117567260547392], [18, 'RandomForest', 0.5540089710195766, 0.5052001863636698], [19, 'RandomForest', 0.5336059783953533, 0.5023594017403971], [20, 'RandomForest', 0.5510280741608607, 0.4998035303951165]]\n",
      "<<<---GradientBoosting start--->>>\n",
      "19:01:18\n",
      "<<<---1215 start--->>>\n",
      "19:01:18\n",
      "$$$$$---1\n",
      "<<<---1316 start--->>>\n",
      "19:15:05\n",
      "$$$$$---2\n",
      "<<<---1417 start--->>>\n",
      "19:31:16\n",
      "$$$$$---3\n",
      "<<<---1518 start--->>>\n",
      "19:48:41\n",
      "$$$$$---4\n",
      "<<<---1619 start--->>>\n",
      "20:07:29\n",
      "$$$$$---5\n",
      "<<<---1720 start--->>>\n",
      "20:24:51\n",
      "$$$$$---6\n",
      "<<<---1821 start--->>>\n",
      "20:43:42\n",
      "$$$$$---7\n"
     ]
    },
    {
     "name": "stderr",
     "output_type": "stream",
     "text": [
      "\r",
      " 80%|████████████████████████████████▊        | 4/5 [2:24:54<52:27, 3147.09s/it]"
     ]
    },
    {
     "name": "stdout",
     "output_type": "stream",
     "text": [
      "[[21, 'GradientBoosting', 0.541781700329149, 0.5], [22, 'GradientBoosting', 0.544978113926689, 0.5], [23, 'GradientBoosting', 0.5536097922045098, 0.5], [24, 'GradientBoosting', 0.5492903841086195, 0.5], [25, 'GradientBoosting', 0.5522998499854463, 0.5], [26, 'GradientBoosting', 0.5328006406709048, 0.5], [27, 'GradientBoosting', 0.5519984616898158, 0.4999027123208462]]\n",
      "<<<---KNeighbors start--->>>\n",
      "21:04:28\n",
      "<<<---1215 start--->>>\n",
      "21:04:28\n",
      "$$$$$---1\n"
     ]
    }
   ],
   "source": [
    "import time\n",
    "start = time.time()\n",
    "_ = my_classifier()\n",
    "results\n",
    "time.time()-start\n",
    "\n",
    "# ['MLP', 'DecisionTree', 'RandomForest', 'GradientBoosting','KNeighbors']\n",
    "\n",
    "# local variable 변수명 referenced before assignment\n",
    "# 함수 밖에서 설정한 변수를 함수 안에서 쓰려고 할 때 발생하는 에러\n",
    "\n",
    "### cv_scores가 빠져서 그런가 tree기반이 빨라짐. 고로 튜닝 좀더 깊게 해도 될 것 같음."
   ]
  },
  {
   "cell_type": "code",
   "execution_count": 15,
   "id": "5953e1e8",
   "metadata": {},
   "outputs": [],
   "source": [
    "results = [[0, 'XGBoost', 0.5533303429845786, 0.5274938602009643],\n",
    " [1, 'XGBoost', 0.5587648512640324, 0.528969220742626],\n",
    " [2, 'XGBoost', 0.5608311819609684, 0.5267130683977462],\n",
    " [3, 'XGBoost', 0.5525027920342322, 0.5209610157365271],\n",
    " [4, 'XGBoost', 0.5596736996872831, 0.52162189127671],\n",
    " [5, 'XGBoost', 0.5382265473507089, 0.51353989896573],\n",
    " [6, 'XGBoost', 0.5546100115373264, 0.5134707222923052],\n",
    " [7, 'dummy', 0.5022901438526222, 0.498624936882785],\n",
    " [8, 'dummy', 0.5004764315278564, 0.4967955180971402],\n",
    " [9, 'dummy', 0.5074560849235435, 0.5029978207328746],\n",
    " [10, 'dummy', 0.505364470266404, 0.5009225744971062],\n",
    " [11, 'dummy', 0.5049818265951175, 0.4999652479913408],\n",
    " [12, 'dummy', 0.5033045841262985, 0.5000358456090245],\n",
    " [13, 'dummy', 0.5045702122331435, 0.5002466642274119],\n",
    " [14, 'Logistic_Regression', 0.5388124103685078, 0.5006451548065087],\n",
    " [15, 'Logistic_Regression', 0.5422460768841378, 0.4992190478424038],\n",
    " [16, 'Logistic_Regression', 0.5529598671264285, 0.49972436498512524],\n",
    " [17, 'Logistic_Regression', 0.5486315895144998, 0.4997338524721153],\n",
    " [18, 'Logistic_Regression', 0.5520610208453058, 0.5000000566565985],\n",
    " [19, 'Logistic_Regression', 0.5322787458327147, 0.49968927327232476],\n",
    " [20, 'Logistic_Regression', 0.5521326166477359, 0.4998208245751821],\n",
    " [21, 'SVM', 0.45822461730906516, 0.4999856282727155],\n",
    " [22, 'SVM', 0.45512610547002946, 0.500040258196378],\n",
    " [23, 'SVM', 0.4466339296997707, 0.5000869632262043],\n",
    " [24, 'SVM', 0.45129311967474367, 0.500225094814467],\n",
    " [25, 'SVM', 0.44796136938658226, 0.5001228231705257],\n",
    " [26, 'SVM', 0.46762677320519913, 0.5002860894098915],\n",
    " [27, 'SVM', 0.44784502419261074, 0.5001912401255232],\n",
    " [28, 'Gaussian_NB', 0.4585847226872706, 0.5001861170154632],\n",
    " [29, 'Gaussian_NB', 0.45533454426346665, 0.4999844005243526],\n",
    " [30, 'Gaussian_NB', 0.44699499918759367, 0.5000782161269514],\n",
    " [31, 'Gaussian_NB', 0.4513872331881894, 0.5001233864776655],\n",
    " [32, 'Gaussian_NB', 0.44796883279721167, 0.5001437873510062],\n",
    " [33, 'Gaussian_NB', 0.467739250541016, 0.5003228724449605],\n",
    " [34, 'Gaussian_NB', 0.44788974251191743, 0.500238357284859],\n",
    " [0, 'MLP', 0.5070852312571468, 0.4981315384745352],\n",
    " [1, 'MLP', 0.5270523776910937, 0.4990287907340827],\n",
    " [2, 'MLP', 0.5287501579679009, 0.5006602983405445],\n",
    " [3, 'MLP', 0.5422193221317338, 0.5009435972809749],\n",
    " [4, 'MLP', 0.5345817131512759, 0.49794460684853803],\n",
    " [5, 'MLP', 0.5199872225746512, 0.5030644735501303],\n",
    " [6, 'MLP', 0.5424779315094221, 0.5025564917597585],\n",
    " [7, 'DecisionTree', 0.5477202802504312, 0.5177220448987767],\n",
    " [8, 'DecisionTree', 0.5436307060119704, 0.5164708209157598],\n",
    " [9, 'DecisionTree', 0.5499088299543247, 0.5111833363647642],\n",
    " [10, 'DecisionTree', 0.5475963408665973, 0.5227744579502975],\n",
    " [11, 'DecisionTree', 0.5525536059468455, 0.5023766400076397],\n",
    " [12, 'DecisionTree', 0.5365933764346484, 0.5119752568734229],\n",
    " [13, 'DecisionTree', 0.5529464900591177, 0.5114457071075491],\n",
    " [14, 'RandomForest', 0.5455091068754857, 0.5059471462013954],\n",
    " [15, 'RandomForest', 0.5504347437691689, 0.5089746337276014],\n",
    " [16, 'RandomForest', 0.5559567438753588, 0.5083075846348538],\n",
    " [17, 'RandomForest', 0.5557904907706015, 0.5117567260547392],\n",
    " [18, 'RandomForest', 0.5540089710195766, 0.5052001863636698],\n",
    " [19, 'RandomForest', 0.5336059783953533, 0.5023594017403971],\n",
    " [20, 'RandomForest', 0.5510280741608607, 0.4998035303951165],\n",
    " [21, 'GradientBoosting', 0.541781700329149, 0.5],\n",
    " [22, 'GradientBoosting', 0.544978113926689, 0.5],\n",
    " [23, 'GradientBoosting', 0.5536097922045098, 0.5],\n",
    " [24, 'GradientBoosting', 0.5492903841086195, 0.5],\n",
    " [25, 'GradientBoosting', 0.5522998499854463, 0.5],\n",
    " [26, 'GradientBoosting', 0.5328006406709048, 0.5],\n",
    " [27, 'GradientBoosting', 0.5519984616898158, 0.4999027123208462]\n",
    "]"
   ]
  },
  {
   "cell_type": "code",
   "execution_count": 16,
   "id": "68b6cd0c",
   "metadata": {
    "scrolled": false
   },
   "outputs": [
    {
     "data": {
      "text/plain": [
       "[[0, 'XGBoost', 0.5533303429845786, 0.5274938602009643],\n",
       " [1, 'XGBoost', 0.5587648512640324, 0.528969220742626],\n",
       " [2, 'XGBoost', 0.5608311819609684, 0.5267130683977462],\n",
       " [3, 'XGBoost', 0.5525027920342322, 0.5209610157365271],\n",
       " [4, 'XGBoost', 0.5596736996872831, 0.52162189127671],\n",
       " [5, 'XGBoost', 0.5382265473507089, 0.51353989896573],\n",
       " [6, 'XGBoost', 0.5546100115373264, 0.5134707222923052],\n",
       " [7, 'dummy', 0.5022901438526222, 0.498624936882785],\n",
       " [8, 'dummy', 0.5004764315278564, 0.4967955180971402],\n",
       " [9, 'dummy', 0.5074560849235435, 0.5029978207328746],\n",
       " [10, 'dummy', 0.505364470266404, 0.5009225744971062],\n",
       " [11, 'dummy', 0.5049818265951175, 0.4999652479913408],\n",
       " [12, 'dummy', 0.5033045841262985, 0.5000358456090245],\n",
       " [13, 'dummy', 0.5045702122331435, 0.5002466642274119],\n",
       " [14, 'Logistic_Regression', 0.5388124103685078, 0.5006451548065087],\n",
       " [15, 'Logistic_Regression', 0.5422460768841378, 0.4992190478424038],\n",
       " [16, 'Logistic_Regression', 0.5529598671264285, 0.49972436498512524],\n",
       " [17, 'Logistic_Regression', 0.5486315895144998, 0.4997338524721153],\n",
       " [18, 'Logistic_Regression', 0.5520610208453058, 0.5000000566565985],\n",
       " [19, 'Logistic_Regression', 0.5322787458327147, 0.49968927327232476],\n",
       " [20, 'Logistic_Regression', 0.5521326166477359, 0.4998208245751821],\n",
       " [21, 'SVM', 0.45822461730906516, 0.4999856282727155],\n",
       " [22, 'SVM', 0.45512610547002946, 0.500040258196378],\n",
       " [23, 'SVM', 0.4466339296997707, 0.5000869632262043],\n",
       " [24, 'SVM', 0.45129311967474367, 0.500225094814467],\n",
       " [25, 'SVM', 0.44796136938658226, 0.5001228231705257],\n",
       " [26, 'SVM', 0.46762677320519913, 0.5002860894098915],\n",
       " [27, 'SVM', 0.44784502419261074, 0.5001912401255232],\n",
       " [28, 'Gaussian_NB', 0.4585847226872706, 0.5001861170154632],\n",
       " [29, 'Gaussian_NB', 0.45533454426346665, 0.4999844005243526],\n",
       " [30, 'Gaussian_NB', 0.44699499918759367, 0.5000782161269514],\n",
       " [31, 'Gaussian_NB', 0.4513872331881894, 0.5001233864776655],\n",
       " [32, 'Gaussian_NB', 0.44796883279721167, 0.5001437873510062],\n",
       " [33, 'Gaussian_NB', 0.467739250541016, 0.5003228724449605],\n",
       " [34, 'Gaussian_NB', 0.44788974251191743, 0.500238357284859],\n",
       " [35, 'MLP', 0.5070852312571468, 0.4981315384745352],\n",
       " [36, 'MLP', 0.5270523776910937, 0.4990287907340827],\n",
       " [37, 'MLP', 0.5287501579679009, 0.5006602983405445],\n",
       " [38, 'MLP', 0.5422193221317338, 0.5009435972809749],\n",
       " [39, 'MLP', 0.5345817131512759, 0.49794460684853803],\n",
       " [40, 'MLP', 0.5199872225746512, 0.5030644735501303],\n",
       " [41, 'MLP', 0.5424779315094221, 0.5025564917597585],\n",
       " [42, 'DecisionTree', 0.5477202802504312, 0.5177220448987767],\n",
       " [43, 'DecisionTree', 0.5436307060119704, 0.5164708209157598],\n",
       " [44, 'DecisionTree', 0.5499088299543247, 0.5111833363647642],\n",
       " [45, 'DecisionTree', 0.5475963408665973, 0.5227744579502975],\n",
       " [46, 'DecisionTree', 0.5525536059468455, 0.5023766400076397],\n",
       " [47, 'DecisionTree', 0.5365933764346484, 0.5119752568734229],\n",
       " [48, 'DecisionTree', 0.5529464900591177, 0.5114457071075491],\n",
       " [49, 'RandomForest', 0.5455091068754857, 0.5059471462013954],\n",
       " [50, 'RandomForest', 0.5504347437691689, 0.5089746337276014],\n",
       " [51, 'RandomForest', 0.5559567438753588, 0.5083075846348538],\n",
       " [52, 'RandomForest', 0.5557904907706015, 0.5117567260547392],\n",
       " [53, 'RandomForest', 0.5540089710195766, 0.5052001863636698],\n",
       " [54, 'RandomForest', 0.5336059783953533, 0.5023594017403971],\n",
       " [55, 'RandomForest', 0.5510280741608607, 0.4998035303951165],\n",
       " [56, 'GradientBoosting', 0.541781700329149, 0.5],\n",
       " [57, 'GradientBoosting', 0.544978113926689, 0.5],\n",
       " [58, 'GradientBoosting', 0.5536097922045098, 0.5],\n",
       " [59, 'GradientBoosting', 0.5492903841086195, 0.5],\n",
       " [60, 'GradientBoosting', 0.5522998499854463, 0.5],\n",
       " [61, 'GradientBoosting', 0.5328006406709048, 0.5],\n",
       " [62, 'GradientBoosting', 0.5519984616898158, 0.4999027123208462]]"
      ]
     },
     "execution_count": 16,
     "metadata": {},
     "output_type": "execute_result"
    }
   ],
   "source": [
    "for i in range(len(results)):\n",
    "    results[i][0] = i\n",
    "\n",
    "results"
   ]
  },
  {
   "cell_type": "markdown",
   "id": "51365de2",
   "metadata": {},
   "source": [
    "## plot을 위한 준비"
   ]
  },
  {
   "cell_type": "code",
   "execution_count": 17,
   "id": "8c906319",
   "metadata": {},
   "outputs": [
    {
     "data": {
      "text/plain": [
       "[('SVM', 0.4535301341340001),\n",
       " ('Gaussian_NB', 0.4536999035966664),\n",
       " ('dummy', 0.5040633933607123),\n",
       " ('MLP', 0.5288791366118893),\n",
       " ('Logistic_Regression', 0.5455889038884757),\n",
       " ('GradientBoosting', 0.5466798489878764),\n",
       " ('DecisionTree', 0.5472785185034194),\n",
       " ('RandomForest', 0.5494763012666294),\n",
       " ('XGBoost', 0.5539913466884472)]"
      ]
     },
     "execution_count": 17,
     "metadata": {},
     "output_type": "execute_result"
    },
    {
     "data": {
      "text/plain": [
       "[('Logistic_Regression', 0.4998332249443226),\n",
       " ('dummy', 0.4999412297196691),\n",
       " ('GradientBoosting', 0.4999861017601209),\n",
       " ('SVM', 0.5001340138879579),\n",
       " ('Gaussian_NB', 0.5001538767464655),\n",
       " ('MLP', 0.5003328281412235),\n",
       " ('RandomForest', 0.5060498870168246),\n",
       " ('DecisionTree', 0.5134211805883158),\n",
       " ('XGBoost', 0.5218242396589441)]"
      ]
     },
     "execution_count": 17,
     "metadata": {},
     "output_type": "execute_result"
    }
   ],
   "source": [
    "model_list = ['Logistic_Regression', 'SVM', 'Gaussian_NB',\n",
    "              'MLP',\n",
    "              'DecisionTree', 'RandomForest', 'GradientBoosting',\n",
    "              'XGBoost', 'dummy'] #  'LGBM', 'KNeighbors',\n",
    "acc_dic = {i:[] for i in model_list}\n",
    "rocauc_dic = {i:[] for i in model_list}\n",
    "\n",
    "for i in results:\n",
    "    acc_dic[i[1]].append(i[2])\n",
    "    rocauc_dic[i[1]].append(i[3])\n",
    "\n",
    "# import math\n",
    "# 리스트에 mean 함수가 내장이 안돼있다니...\n",
    "mean_acc_score = {i:[] for i in model_list}\n",
    "mean_rocauc_score = {i:[] for i in model_list}\n",
    "\n",
    "for i in model_list:\n",
    "    mean_acc_score[i] = sum(acc_dic[i])/len(acc_dic[i])\n",
    "    mean_rocauc_score[i] = sum(rocauc_dic[i])/len(rocauc_dic[i])\n",
    "\n",
    "# 정렬\n",
    "acc_score_lst = sorted(mean_acc_score.items(), key = lambda t : t[1]) #acc 작은 순으로 줄 세워짐.\n",
    "rocauc_score_lst = sorted(mean_rocauc_score.items(), key = lambda t : t[1]) #rocauc 작은 순으로 줄 세워짐.\n",
    "\n",
    "acc_score_lst\n",
    "rocauc_score_lst\n"
   ]
  },
  {
   "cell_type": "code",
   "execution_count": 18,
   "id": "c717d361",
   "metadata": {},
   "outputs": [],
   "source": [
    "# 다시 dic\n",
    "acc_score_dic = {}\n",
    "rocauc_score_dic = {}\n",
    "\n",
    "for i in acc_score_lst:\n",
    "    acc_score_dic[i[0]] = i[1]\n",
    "rocauc_score_dic = {i[0]:i[1] for i in rocauc_score_lst}"
   ]
  },
  {
   "cell_type": "code",
   "execution_count": 19,
   "id": "03cd6af3",
   "metadata": {
    "scrolled": true
   },
   "outputs": [
    {
     "data": {
      "text/html": [
       "<div>\n",
       "<style scoped>\n",
       "    .dataframe tbody tr th:only-of-type {\n",
       "        vertical-align: middle;\n",
       "    }\n",
       "\n",
       "    .dataframe tbody tr th {\n",
       "        vertical-align: top;\n",
       "    }\n",
       "\n",
       "    .dataframe thead th {\n",
       "        text-align: right;\n",
       "    }\n",
       "</style>\n",
       "<table border=\"1\" class=\"dataframe\">\n",
       "  <thead>\n",
       "    <tr style=\"text-align: right;\">\n",
       "      <th></th>\n",
       "      <th>key</th>\n",
       "      <th>value</th>\n",
       "    </tr>\n",
       "  </thead>\n",
       "  <tbody>\n",
       "    <tr>\n",
       "      <th>0</th>\n",
       "      <td>SVM</td>\n",
       "      <td>0.453530</td>\n",
       "    </tr>\n",
       "    <tr>\n",
       "      <th>1</th>\n",
       "      <td>Gaussian_NB</td>\n",
       "      <td>0.453700</td>\n",
       "    </tr>\n",
       "    <tr>\n",
       "      <th>2</th>\n",
       "      <td>dummy</td>\n",
       "      <td>0.504063</td>\n",
       "    </tr>\n",
       "    <tr>\n",
       "      <th>3</th>\n",
       "      <td>MLP</td>\n",
       "      <td>0.528879</td>\n",
       "    </tr>\n",
       "    <tr>\n",
       "      <th>4</th>\n",
       "      <td>Logistic_Regression</td>\n",
       "      <td>0.545589</td>\n",
       "    </tr>\n",
       "    <tr>\n",
       "      <th>5</th>\n",
       "      <td>GradientBoosting</td>\n",
       "      <td>0.546680</td>\n",
       "    </tr>\n",
       "    <tr>\n",
       "      <th>6</th>\n",
       "      <td>DecisionTree</td>\n",
       "      <td>0.547279</td>\n",
       "    </tr>\n",
       "    <tr>\n",
       "      <th>7</th>\n",
       "      <td>RandomForest</td>\n",
       "      <td>0.549476</td>\n",
       "    </tr>\n",
       "    <tr>\n",
       "      <th>8</th>\n",
       "      <td>XGBoost</td>\n",
       "      <td>0.553991</td>\n",
       "    </tr>\n",
       "  </tbody>\n",
       "</table>\n",
       "</div>"
      ],
      "text/plain": [
       "                   key     value\n",
       "0                  SVM  0.453530\n",
       "1          Gaussian_NB  0.453700\n",
       "2                dummy  0.504063\n",
       "3                  MLP  0.528879\n",
       "4  Logistic_Regression  0.545589\n",
       "5     GradientBoosting  0.546680\n",
       "6         DecisionTree  0.547279\n",
       "7         RandomForest  0.549476\n",
       "8              XGBoost  0.553991"
      ]
     },
     "execution_count": 19,
     "metadata": {},
     "output_type": "execute_result"
    },
    {
     "data": {
      "text/html": [
       "<div>\n",
       "<style scoped>\n",
       "    .dataframe tbody tr th:only-of-type {\n",
       "        vertical-align: middle;\n",
       "    }\n",
       "\n",
       "    .dataframe tbody tr th {\n",
       "        vertical-align: top;\n",
       "    }\n",
       "\n",
       "    .dataframe thead th {\n",
       "        text-align: right;\n",
       "    }\n",
       "</style>\n",
       "<table border=\"1\" class=\"dataframe\">\n",
       "  <thead>\n",
       "    <tr style=\"text-align: right;\">\n",
       "      <th></th>\n",
       "      <th>key</th>\n",
       "      <th>value</th>\n",
       "    </tr>\n",
       "  </thead>\n",
       "  <tbody>\n",
       "    <tr>\n",
       "      <th>0</th>\n",
       "      <td>Logistic_Regression</td>\n",
       "      <td>0.499833</td>\n",
       "    </tr>\n",
       "    <tr>\n",
       "      <th>1</th>\n",
       "      <td>dummy</td>\n",
       "      <td>0.499941</td>\n",
       "    </tr>\n",
       "    <tr>\n",
       "      <th>2</th>\n",
       "      <td>GradientBoosting</td>\n",
       "      <td>0.499986</td>\n",
       "    </tr>\n",
       "    <tr>\n",
       "      <th>3</th>\n",
       "      <td>SVM</td>\n",
       "      <td>0.500134</td>\n",
       "    </tr>\n",
       "    <tr>\n",
       "      <th>4</th>\n",
       "      <td>Gaussian_NB</td>\n",
       "      <td>0.500154</td>\n",
       "    </tr>\n",
       "    <tr>\n",
       "      <th>5</th>\n",
       "      <td>MLP</td>\n",
       "      <td>0.500333</td>\n",
       "    </tr>\n",
       "    <tr>\n",
       "      <th>6</th>\n",
       "      <td>RandomForest</td>\n",
       "      <td>0.506050</td>\n",
       "    </tr>\n",
       "    <tr>\n",
       "      <th>7</th>\n",
       "      <td>DecisionTree</td>\n",
       "      <td>0.513421</td>\n",
       "    </tr>\n",
       "    <tr>\n",
       "      <th>8</th>\n",
       "      <td>XGBoost</td>\n",
       "      <td>0.521824</td>\n",
       "    </tr>\n",
       "  </tbody>\n",
       "</table>\n",
       "</div>"
      ],
      "text/plain": [
       "                   key     value\n",
       "0  Logistic_Regression  0.499833\n",
       "1                dummy  0.499941\n",
       "2     GradientBoosting  0.499986\n",
       "3                  SVM  0.500134\n",
       "4          Gaussian_NB  0.500154\n",
       "5                  MLP  0.500333\n",
       "6         RandomForest  0.506050\n",
       "7         DecisionTree  0.513421\n",
       "8              XGBoost  0.521824"
      ]
     },
     "execution_count": 19,
     "metadata": {},
     "output_type": "execute_result"
    }
   ],
   "source": [
    "acc_df = pd.DataFrame(acc_score_dic.items(), columns=['key', 'value'])\n",
    "acc_df\n",
    "\n",
    "rocauc_df = pd.DataFrame(rocauc_score_dic.items(), columns=['key', 'value'])\n",
    "rocauc_df"
   ]
  },
  {
   "cell_type": "markdown",
   "id": "16e36424",
   "metadata": {},
   "source": [
    "## plot"
   ]
  },
  {
   "cell_type": "code",
   "execution_count": 20,
   "id": "808512c4",
   "metadata": {},
   "outputs": [],
   "source": [
    "import seaborn as sns\n",
    "import matplotlib.pyplot as plt"
   ]
  },
  {
   "cell_type": "markdown",
   "id": "13a0bf99",
   "metadata": {},
   "source": [
    "# acc"
   ]
  },
  {
   "cell_type": "code",
   "execution_count": 21,
   "id": "4d8988ff",
   "metadata": {},
   "outputs": [
    {
     "data": {
      "text/plain": [
       "<Figure size 1500x900 with 0 Axes>"
      ]
     },
     "execution_count": 21,
     "metadata": {},
     "output_type": "execute_result"
    },
    {
     "data": {
      "image/png": "[encoded data removed]",
      "text/plain": [
       "<Figure size 1500x900 with 1 Axes>"
      ]
     },
     "metadata": {
      "needs_background": "light"
     },
     "output_type": "display_data"
    }
   ],
   "source": [
    "plt.figure(figsize=(15,9), dpi = 100)\n",
    "# colors = sns.color_palette('hls',len(model_list))\n",
    "g = sns.barplot(x = 'key', y = 'value', data=acc_df, capsize=.2, palette = \"YlOrBr\") # , color = colors\n",
    "_ = g.set_xticks(range(len(acc_df)))\n",
    "_ = g.set_xticklabels(g.get_xticklabels(), rotation=35, fontsize = 20)\n",
    "_ = plt.setp(g.get_yticklabels(), fontsize =18)\n",
    "_ = g.set_xlabel(\"\", fontsize = 28)\n",
    "_ = g.set_ylabel(\"\", fontsize = 25)\n",
    "_ = g.set_ylim([0.43, 0.57]) # ax.set(ylim=(0.4, 0.6))\n",
    "\n",
    "dummy_mean = acc_df[acc_df.key=='dummy']['value'].values\n",
    "_ = g.plot([-1,len(acc_df)], [dummy_mean, dummy_mean], color = 'red', linewidth = 2.3)\n",
    "_ = g.annotate(text = f'dummy\\n: {dummy_mean[0]:.4f}', xy = (2, dummy_mean), xytext = (0, 0.53),\n",
    "               arrowprops = dict(facecolor = 'red', shrink = 0), fontsize = 18)\n",
    "\n",
    "val = acc_df['value']\n",
    "cnt = 0\n",
    "for i in range(len(acc_df)):\n",
    "    tmp_fval = f'{val[i]:.2f}'\n",
    "    if tmp_fval.index('.') == 3:\n",
    "        _ = g.text(cnt-0.355, 0.432, tmp_fval, fontsize=15)\n",
    "    elif tmp_fval.index('.') == 2:\n",
    "        _ = g.text(cnt-0.285, 0.432, tmp_fval, fontsize=15)\n",
    "    else:\n",
    "        _ = g.text(cnt-0.185, 0.432, tmp_fval, fontsize=15)\n",
    "    cnt += 1\n",
    "\n",
    "plt.tight_layout()\n",
    "plt.savefig('[15w] -3 10thr acc_cla_plot.png')"
   ]
  },
  {
   "cell_type": "code",
   "execution_count": 22,
   "id": "e8cae56b",
   "metadata": {},
   "outputs": [
    {
     "data": {
      "text/plain": [
       "<Figure size 1500x900 with 0 Axes>"
      ]
     },
     "execution_count": 22,
     "metadata": {},
     "output_type": "execute_result"
    },
    {
     "data": {
      "image/png": "[encoded data removed]",
      "text/plain": [
       "<Figure size 1500x900 with 1 Axes>"
      ]
     },
     "metadata": {
      "needs_background": "light"
     },
     "output_type": "display_data"
    }
   ],
   "source": [
    "plt.figure(figsize=(15,9), dpi = 100)\n",
    "g = sns.barplot(x = 'key', y = 'value', data=rocauc_df, capsize=.2, palette = \"YlOrBr\")\n",
    "_ = g.set_xticks(range(len(rocauc_df)))\n",
    "_ = g.set_xticklabels(g.get_xticklabels(), rotation=35, fontsize = 20)\n",
    "_ = plt.setp(g.get_yticklabels(), fontsize =18)\n",
    "_ = g.set_xlabel(\"\", fontsize = 28)\n",
    "_ = g.set_ylabel(\"\", fontsize = 25)\n",
    "_ = g.set_ylim([0.49, 0.525]) # g.set_ylim([0, 18]) # ax.set(ylim=(0.4, 0.6))\n",
    "\n",
    "dummy_mean = rocauc_df[rocauc_df.key=='dummy']['value'].values\n",
    "_ = g.plot([-1,len(rocauc_df)], [dummy_mean, dummy_mean], color = 'red', linewidth = 2.3)\n",
    "_ = g.annotate(text = f'dummy\\n: {dummy_mean[0]:.4f}', xy = (1, dummy_mean), xytext = (-0.5, 0.502),\n",
    "               arrowprops = dict(facecolor = 'red', shrink = 0), fontsize = 18)\n",
    "\n",
    "\n",
    "val = rocauc_df['value']\n",
    "cnt = 0\n",
    "for i in range(len(rocauc_df)):\n",
    "    tmp_fval = f'{val[i]:.2f}'\n",
    "    if tmp_fval.index('.') == 3:\n",
    "        _ = g.text(cnt-0.355, 16.05, tmp_fval, fontsize=15)\n",
    "    elif tmp_fval.index('.') == 2:\n",
    "        _ = g.text(cnt-0.285, 16.05, tmp_fval, fontsize=15)\n",
    "    else:\n",
    "        _ = g.text(cnt-0.185, 0.4905, tmp_fval, fontsize=15)\n",
    "    cnt += 1\n",
    "\n",
    "plt.tight_layout()\n",
    "plt.savefig('[15w] -3 10thr rocauc_cla_plot.png')"
   ]
  },
  {
   "cell_type": "code",
   "execution_count": null,
   "id": "a623e097",
   "metadata": {},
   "outputs": [],
   "source": []
  }
 ],
 "metadata": {
  "kernelspec": {
   "display_name": "Python 3 (ipykernel)",
   "language": "python",
   "name": "python3"
  },
  "language_info": {
   "codemirror_mode": {
    "name": "ipython",
    "version": 3
   },
   "file_extension": ".py",
   "mimetype": "text/x-python",
   "name": "python",
   "nbconvert_exporter": "python",
   "pygments_lexer": "ipython3",
   "version": "3.8.2"
  },
  "toc": {
   "base_numbering": 1,
   "nav_menu": {},
   "number_sections": true,
   "sideBar": true,
   "skip_h1_title": false,
   "title_cell": "Table of Contents",
   "title_sidebar": "Contents",
   "toc_cell": false,
   "toc_position": {},
   "toc_section_display": true,
   "toc_window_display": false
  }
 },
 "nbformat": 4,
 "nbformat_minor": 5
}
