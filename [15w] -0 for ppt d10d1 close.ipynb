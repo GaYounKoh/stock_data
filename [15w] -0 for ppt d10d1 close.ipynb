{
 "cells": [
  {
   "cell_type": "code",
   "execution_count": 1,
   "id": "56b35919",
   "metadata": {},
   "outputs": [],
   "source": [
    "import pandas as pd"
   ]
  },
  {
   "cell_type": "code",
   "execution_count": 6,
   "id": "efc6b36e",
   "metadata": {},
   "outputs": [],
   "source": [
    "data = pd.read_feather('d1221.ftr', use_threads = True, columns =None)"
   ]
  },
  {
   "cell_type": "code",
   "execution_count": 18,
   "id": "bafb3e29",
   "metadata": {},
   "outputs": [
    {
     "data": {
      "text/html": [
       "<div>\n",
       "<style scoped>\n",
       "    .dataframe tbody tr th:only-of-type {\n",
       "        vertical-align: middle;\n",
       "    }\n",
       "\n",
       "    .dataframe tbody tr th {\n",
       "        vertical-align: top;\n",
       "    }\n",
       "\n",
       "    .dataframe thead th {\n",
       "        text-align: right;\n",
       "    }\n",
       "</style>\n",
       "<table border=\"1\" class=\"dataframe\">\n",
       "  <thead>\n",
       "    <tr style=\"text-align: right;\">\n",
       "      <th></th>\n",
       "      <th>date</th>\n",
       "      <th>code</th>\n",
       "      <th>D-10_open</th>\n",
       "      <th>D-10_high</th>\n",
       "      <th>D-10_low</th>\n",
       "      <th>D-10_close</th>\n",
       "      <th>D-10_MA5</th>\n",
       "      <th>D-10_MA20</th>\n",
       "      <th>D-10_MA60</th>\n",
       "      <th>D-10_MA120</th>\n",
       "      <th>...</th>\n",
       "      <th>D-1_VIpos</th>\n",
       "      <th>D-1_ROC</th>\n",
       "      <th>D-1_MFI</th>\n",
       "      <th>D-1_KCW</th>\n",
       "      <th>D-1_BBP</th>\n",
       "      <th>D-1_KST</th>\n",
       "      <th>D-1_DCW</th>\n",
       "      <th>D-1_SRSID</th>\n",
       "      <th>D-1_PPOhist</th>\n",
       "      <th>NextChange</th>\n",
       "    </tr>\n",
       "  </thead>\n",
       "  <tbody>\n",
       "    <tr>\n",
       "      <th>2843044</th>\n",
       "      <td>20211202</td>\n",
       "      <td>016380</td>\n",
       "      <td>0.000000</td>\n",
       "      <td>0.027778</td>\n",
       "      <td>0.000000</td>\n",
       "      <td>0.013889</td>\n",
       "      <td>0.018519</td>\n",
       "      <td>0.041481</td>\n",
       "      <td>0.210093</td>\n",
       "      <td>0.426204</td>\n",
       "      <td>...</td>\n",
       "      <td>0.82867</td>\n",
       "      <td>-8.10810</td>\n",
       "      <td>51.538</td>\n",
       "      <td>8.7784</td>\n",
       "      <td>0.20273</td>\n",
       "      <td>-109.910</td>\n",
       "      <td>20.527</td>\n",
       "      <td>0.21069</td>\n",
       "      <td>-0.32181</td>\n",
       "      <td>5.39</td>\n",
       "    </tr>\n",
       "    <tr>\n",
       "      <th>2843045</th>\n",
       "      <td>20211203</td>\n",
       "      <td>016380</td>\n",
       "      <td>0.000000</td>\n",
       "      <td>0.013699</td>\n",
       "      <td>-0.018265</td>\n",
       "      <td>0.009132</td>\n",
       "      <td>0.000000</td>\n",
       "      <td>0.024201</td>\n",
       "      <td>0.188402</td>\n",
       "      <td>0.399817</td>\n",
       "      <td>...</td>\n",
       "      <td>0.84663</td>\n",
       "      <td>-0.92166</td>\n",
       "      <td>54.026</td>\n",
       "      <td>8.8876</td>\n",
       "      <td>0.49365</td>\n",
       "      <td>-106.380</td>\n",
       "      <td>20.566</td>\n",
       "      <td>0.46852</td>\n",
       "      <td>0.18908</td>\n",
       "      <td>0.47</td>\n",
       "    </tr>\n",
       "    <tr>\n",
       "      <th>2843046</th>\n",
       "      <td>20211206</td>\n",
       "      <td>016380</td>\n",
       "      <td>0.009050</td>\n",
       "      <td>0.054299</td>\n",
       "      <td>-0.004525</td>\n",
       "      <td>-0.004525</td>\n",
       "      <td>-0.010860</td>\n",
       "      <td>0.011765</td>\n",
       "      <td>0.171584</td>\n",
       "      <td>0.380362</td>\n",
       "      <td>...</td>\n",
       "      <td>0.92447</td>\n",
       "      <td>0.00000</td>\n",
       "      <td>59.601</td>\n",
       "      <td>8.5227</td>\n",
       "      <td>0.53138</td>\n",
       "      <td>-103.540</td>\n",
       "      <td>20.616</td>\n",
       "      <td>0.70950</td>\n",
       "      <td>0.56929</td>\n",
       "      <td>1.39</td>\n",
       "    </tr>\n",
       "    <tr>\n",
       "      <th>2843047</th>\n",
       "      <td>20211207</td>\n",
       "      <td>016380</td>\n",
       "      <td>0.004545</td>\n",
       "      <td>0.004545</td>\n",
       "      <td>-0.013636</td>\n",
       "      <td>-0.013636</td>\n",
       "      <td>-0.006364</td>\n",
       "      <td>0.012545</td>\n",
       "      <td>0.170545</td>\n",
       "      <td>0.379636</td>\n",
       "      <td>...</td>\n",
       "      <td>1.00000</td>\n",
       "      <td>0.00000</td>\n",
       "      <td>64.319</td>\n",
       "      <td>8.4022</td>\n",
       "      <td>0.63366</td>\n",
       "      <td>-100.020</td>\n",
       "      <td>14.870</td>\n",
       "      <td>0.89611</td>\n",
       "      <td>0.90618</td>\n",
       "      <td>1.37</td>\n",
       "    </tr>\n",
       "    <tr>\n",
       "      <th>2843048</th>\n",
       "      <td>20211208</td>\n",
       "      <td>016380</td>\n",
       "      <td>0.004608</td>\n",
       "      <td>0.004608</td>\n",
       "      <td>-0.013825</td>\n",
       "      <td>-0.013825</td>\n",
       "      <td>0.005530</td>\n",
       "      <td>0.023041</td>\n",
       "      <td>0.180461</td>\n",
       "      <td>0.391521</td>\n",
       "      <td>...</td>\n",
       "      <td>1.04640</td>\n",
       "      <td>0.45249</td>\n",
       "      <td>68.930</td>\n",
       "      <td>8.1687</td>\n",
       "      <td>0.71497</td>\n",
       "      <td>-93.167</td>\n",
       "      <td>16.748</td>\n",
       "      <td>0.97162</td>\n",
       "      <td>1.19530</td>\n",
       "      <td>0.00</td>\n",
       "    </tr>\n",
       "    <tr>\n",
       "      <th>2843049</th>\n",
       "      <td>20211209</td>\n",
       "      <td>016380</td>\n",
       "      <td>0.004673</td>\n",
       "      <td>0.009346</td>\n",
       "      <td>-0.037383</td>\n",
       "      <td>-0.032710</td>\n",
       "      <td>0.008411</td>\n",
       "      <td>0.032991</td>\n",
       "      <td>0.189720</td>\n",
       "      <td>0.404019</td>\n",
       "      <td>...</td>\n",
       "      <td>1.02320</td>\n",
       "      <td>0.90909</td>\n",
       "      <td>67.728</td>\n",
       "      <td>8.1120</td>\n",
       "      <td>0.70462</td>\n",
       "      <td>-85.850</td>\n",
       "      <td>16.684</td>\n",
       "      <td>1.00000</td>\n",
       "      <td>1.34680</td>\n",
       "      <td>0.00</td>\n",
       "    </tr>\n",
       "  </tbody>\n",
       "</table>\n",
       "<p>6 rows × 823 columns</p>\n",
       "</div>"
      ],
      "text/plain": [
       "             date    code  D-10_open  D-10_high  D-10_low  D-10_close  \\\n",
       "2843044  20211202  016380   0.000000   0.027778  0.000000    0.013889   \n",
       "2843045  20211203  016380   0.000000   0.013699 -0.018265    0.009132   \n",
       "2843046  20211206  016380   0.009050   0.054299 -0.004525   -0.004525   \n",
       "2843047  20211207  016380   0.004545   0.004545 -0.013636   -0.013636   \n",
       "2843048  20211208  016380   0.004608   0.004608 -0.013825   -0.013825   \n",
       "2843049  20211209  016380   0.004673   0.009346 -0.037383   -0.032710   \n",
       "\n",
       "         D-10_MA5  D-10_MA20  D-10_MA60  D-10_MA120  ...  D-1_VIpos  D-1_ROC  \\\n",
       "2843044  0.018519   0.041481   0.210093    0.426204  ...    0.82867 -8.10810   \n",
       "2843045  0.000000   0.024201   0.188402    0.399817  ...    0.84663 -0.92166   \n",
       "2843046 -0.010860   0.011765   0.171584    0.380362  ...    0.92447  0.00000   \n",
       "2843047 -0.006364   0.012545   0.170545    0.379636  ...    1.00000  0.00000   \n",
       "2843048  0.005530   0.023041   0.180461    0.391521  ...    1.04640  0.45249   \n",
       "2843049  0.008411   0.032991   0.189720    0.404019  ...    1.02320  0.90909   \n",
       "\n",
       "         D-1_MFI  D-1_KCW  D-1_BBP  D-1_KST  D-1_DCW  D-1_SRSID  D-1_PPOhist  \\\n",
       "2843044   51.538   8.7784  0.20273 -109.910   20.527    0.21069     -0.32181   \n",
       "2843045   54.026   8.8876  0.49365 -106.380   20.566    0.46852      0.18908   \n",
       "2843046   59.601   8.5227  0.53138 -103.540   20.616    0.70950      0.56929   \n",
       "2843047   64.319   8.4022  0.63366 -100.020   14.870    0.89611      0.90618   \n",
       "2843048   68.930   8.1687  0.71497  -93.167   16.748    0.97162      1.19530   \n",
       "2843049   67.728   8.1120  0.70462  -85.850   16.684    1.00000      1.34680   \n",
       "\n",
       "         NextChange  \n",
       "2843044        5.39  \n",
       "2843045        0.47  \n",
       "2843046        1.39  \n",
       "2843047        1.37  \n",
       "2843048        0.00  \n",
       "2843049        0.00  \n",
       "\n",
       "[6 rows x 823 columns]"
      ]
     },
     "execution_count": 18,
     "metadata": {},
     "output_type": "execute_result"
    }
   ],
   "source": [
    "data.tail(6)"
   ]
  },
  {
   "cell_type": "code",
   "execution_count": 15,
   "id": "2223caba",
   "metadata": {},
   "outputs": [
    {
     "name": "stdout",
     "output_type": "stream",
     "text": [
      "10\n",
      "9\n",
      "8\n",
      "7\n",
      "6\n",
      "5\n",
      "4\n",
      "3\n",
      "2\n",
      "1\n"
     ]
    }
   ],
   "source": [
    "col_lst = []\n",
    "for i in range(10, 0, -1):\n",
    "    print(i)\n",
    "    col_lst.append(f'D-{i}_close')"
   ]
  },
  {
   "cell_type": "code",
   "execution_count": 20,
   "id": "bc8c956f",
   "metadata": {},
   "outputs": [
    {
     "data": {
      "text/plain": [
       "0.0138888888888888"
      ]
     },
     "execution_count": 20,
     "metadata": {},
     "output_type": "execute_result"
    }
   ],
   "source": [
    "data.iloc[2843044]['D-10_close']"
   ]
  },
  {
   "cell_type": "code",
   "execution_count": 16,
   "id": "dfedf8b7",
   "metadata": {},
   "outputs": [
    {
     "data": {
      "text/plain": [
       "D-10_close    0.009132\n",
       "D-9_close    -0.004525\n",
       "D-8_close    -0.013636\n",
       "D-7_close    -0.013825\n",
       "D-6_close     -0.03271\n",
       "D-5_close    -0.033816\n",
       "D-4_close       -0.041\n",
       "D-3_close     0.047967\n",
       "D-2_close     0.014925\n",
       "D-1_close     0.053922\n",
       "Name: 2843045, dtype: object"
      ]
     },
     "execution_count": 16,
     "metadata": {},
     "output_type": "execute_result"
    }
   ],
   "source": [
    "data.iloc[2843045][col_lst]."
   ]
  },
  {
   "cell_type": "code",
   "execution_count": 21,
   "id": "94130daf",
   "metadata": {},
   "outputs": [
    {
     "data": {
      "text/plain": [
       "Index(['date', 'code', 'D-10_open', 'D-10_high', 'D-10_low', 'D-10_close',\n",
       "       'D-10_MA5', 'D-10_MA20', 'D-10_MA60', 'D-10_MA120',\n",
       "       ...\n",
       "       'D-1_VIpos', 'D-1_ROC', 'D-1_MFI', 'D-1_KCW', 'D-1_BBP', 'D-1_KST',\n",
       "       'D-1_DCW', 'D-1_SRSID', 'D-1_PPOhist', 'NextChange'],\n",
       "      dtype='object', length=823)"
      ]
     },
     "execution_count": 21,
     "metadata": {},
     "output_type": "execute_result"
    }
   ],
   "source": [
    "data.columns"
   ]
  },
  {
   "cell_type": "code",
   "execution_count": 24,
   "id": "5ee4360c",
   "metadata": {},
   "outputs": [
    {
     "name": "stdout",
     "output_type": "stream",
     "text": [
      "NextChange\n"
     ]
    }
   ],
   "source": [
    "for i in data.columns:\n",
    "    if 'change' in i or 'Change' in i:\n",
    "        print(i)"
   ]
  }
 ],
 "metadata": {
  "kernelspec": {
   "display_name": "Python 3 (ipykernel)",
   "language": "python",
   "name": "python3"
  },
  "language_info": {
   "codemirror_mode": {
    "name": "ipython",
    "version": 3
   },
   "file_extension": ".py",
   "mimetype": "text/x-python",
   "name": "python",
   "nbconvert_exporter": "python",
   "pygments_lexer": "ipython3",
   "version": "3.8.2"
  },
  "toc": {
   "base_numbering": 1,
   "nav_menu": {},
   "number_sections": true,
   "sideBar": true,
   "skip_h1_title": false,
   "title_cell": "Table of Contents",
   "title_sidebar": "Contents",
   "toc_cell": false,
   "toc_position": {},
   "toc_section_display": true,
   "toc_window_display": false
  }
 },
 "nbformat": 4,
 "nbformat_minor": 5
}
