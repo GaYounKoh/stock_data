{
 "cells": [
  {
   "cell_type": "markdown",
   "id": "0c78bbf0",
   "metadata": {},
   "source": [
    "검색어: 파이썬 더미모델과 비교하기 <br>\n",
    "[참고1](https://books.google.co.kr/books?id=CDWuDwAAQBAJ&pg=PA286&lpg=PA286&dq=%ED%8C%8C%EC%9D%B4%EC%8D%AC+%EB%8D%94%EB%AF%B8%EB%AA%A8%EB%8D%B8%EA%B3%BC+%EB%B9%84%EA%B5%90%ED%95%98%EA%B8%B0&source=bl&ots=wfn7WVVK1Q&sig=ACfU3U3nPgwkV98b5UyCAyddi0mX8Qvk9A&hl=ko&sa=X&ved=2ahUKEwjr7buq18L2AhWFD94KHRMaCRUQ6AF6BAg6EAM#v=onepage&q=%ED%8C%8C%EC%9D%B4%EC%8D%AC%20%EB%8D%94%EB%AF%B8%EB%AA%A8%EB%8D%B8%EA%B3%BC%20%EB%B9%84%EA%B5%90%ED%95%98%EA%B8%B0&f=false)\n",
    "\n",
    "[참고2](https://sarah0518.tistory.com/52)"
   ]
  },
  {
   "cell_type": "code",
   "execution_count": 6,
   "id": "8a877186",
   "metadata": {},
   "outputs": [],
   "source": [
    "from IPython.core.interactiveshell import InteractiveShell\n",
    "InteractiveShell.ast_node_interactivity = \"all\""
   ]
  },
  {
   "cell_type": "code",
   "execution_count": 7,
   "id": "6930b0da",
   "metadata": {},
   "outputs": [
    {
     "data": {
      "text/plain": [
       "'# regression dummy\\n# 기본 회귀 모델 만들기\\n# 과제: 다른 모델과 비교하기 위해 간단한 기본 회귀 모델을 만들고 싶다.\\n# 해결: 사이킷럼의 DummyRegressor를 사용하여 기본 모델로 사용할 간단한 더미(dummy)모델을 만든다.\\n'"
      ]
     },
     "execution_count": 7,
     "metadata": {},
     "output_type": "execute_result"
    },
    {
     "data": {
      "text/plain": [
       "DummyRegressor()"
      ]
     },
     "execution_count": 7,
     "metadata": {},
     "output_type": "execute_result"
    },
    {
     "data": {
      "text/plain": [
       "-0.001119359203955339"
      ]
     },
     "execution_count": 7,
     "metadata": {},
     "output_type": "execute_result"
    },
    {
     "data": {
      "text/plain": [
       "LinearRegression()"
      ]
     },
     "execution_count": 7,
     "metadata": {},
     "output_type": "execute_result"
    },
    {
     "data": {
      "text/plain": [
       "0.635463843320211"
      ]
     },
     "execution_count": 7,
     "metadata": {},
     "output_type": "execute_result"
    },
    {
     "data": {
      "text/plain": [
       "'\\n# 설명: DummyRegressor 클래스는 실제 모델과 비교하기 위해 사용할 수 있는 매우 간단한 모델을 만든다.\\n기존 제품이나 시스템의 단순한 예측 방식을 흉내 내는 데 종종 사용한다.\\n예를 들면 모든 새로운 사용자는 특성에 상관없이 첫 달에 100달러를 사용할 것이라고 가정하도록\\n애초부터 시스템에 하드코딩되어 있을지 모른다.\\n이런 가정을 기본 모델로 삼으면 머신러닝 방식을 사용했을 때 장점을 명확히 확인할 수 있다.\\n\\nDummyRegressor 클래스는 strategy 매개변수를 사용하여 예측방법을 지정한다.\\n훈련세트의 평균 또는 중간값을 사용할 수 있다.\\n또한 strategy를 constant로 지정하고 constant 매개변수를 사용하면\\n모든 샘플에 대해 일정한 값으로 예측하는 더미 회귀 모델을 만들 수 있다.\\n'"
      ]
     },
     "execution_count": 7,
     "metadata": {},
     "output_type": "execute_result"
    },
    {
     "data": {
      "text/plain": [
       "DummyRegressor(constant=array(20), strategy='constant')"
      ]
     },
     "execution_count": 7,
     "metadata": {},
     "output_type": "execute_result"
    },
    {
     "data": {
      "text/plain": [
       "-0.06510502029325727"
      ]
     },
     "execution_count": 7,
     "metadata": {},
     "output_type": "execute_result"
    },
    {
     "data": {
      "text/plain": [
       "DummyRegressor(quantile=1.0, strategy='quantile')"
      ]
     },
     "execution_count": 7,
     "metadata": {},
     "output_type": "execute_result"
    },
    {
     "data": {
      "text/plain": [
       "array([50., 50., 50., 50., 50., 50., 50., 50., 50., 50., 50., 50., 50.,\n",
       "       50., 50., 50., 50., 50., 50., 50., 50., 50., 50., 50., 50., 50.,\n",
       "       50., 50., 50., 50., 50., 50., 50., 50., 50., 50., 50., 50., 50.,\n",
       "       50., 50., 50., 50., 50., 50., 50., 50., 50., 50., 50., 50., 50.,\n",
       "       50., 50., 50., 50., 50., 50., 50., 50., 50., 50., 50., 50., 50.,\n",
       "       50., 50., 50., 50., 50., 50., 50., 50., 50., 50., 50., 50., 50.,\n",
       "       50., 50., 50., 50., 50., 50., 50., 50., 50., 50., 50., 50., 50.,\n",
       "       50., 50., 50., 50., 50., 50., 50., 50., 50., 50., 50., 50., 50.,\n",
       "       50., 50., 50., 50., 50., 50., 50., 50., 50., 50., 50., 50., 50.,\n",
       "       50., 50., 50., 50., 50., 50., 50., 50., 50., 50.])"
      ]
     },
     "execution_count": 7,
     "metadata": {},
     "output_type": "execute_result"
    },
    {
     "data": {
      "text/plain": [
       "50.0"
      ]
     },
     "execution_count": 7,
     "metadata": {},
     "output_type": "execute_result"
    }
   ],
   "source": [
    "# p. 283 ~ 285\n",
    "'''# regression dummy\n",
    "# 기본 회귀 모델 만들기\n",
    "# 과제: 다른 모델과 비교하기 위해 간단한 기본 회귀 모델을 만들고 싶다.\n",
    "# 해결: 사이킷럼의 DummyRegressor를 사용하여 기본 모델로 사용할 간단한 더미(dummy)모델을 만든다.\n",
    "'''\n",
    "# 라이브러리 임포트\n",
    "from sklearn.dummy import DummyRegressor\n",
    "from sklearn.datasets import load_boston\n",
    "from sklearn.model_selection import train_test_split\n",
    "\n",
    "# 데이터 로드\n",
    "boston = load_boston()\n",
    "\n",
    "# 특성 만들기\n",
    "features, target = boston.data, boston.target\n",
    "\n",
    "# 훈련 세트와 테스트 세트를 나눈다.\n",
    "features_train, features_test, target_train, target_test = train_test_split(features, target, random_state = 0)\n",
    "\n",
    "# 더미 회귀 모델을 만든다.\n",
    "dummy = DummyRegressor(strategy = 'mean')\n",
    "\n",
    "# 더미 회귀 모델을 훈련한다.\n",
    "dummy.fit(features_train, target_train)\n",
    "\n",
    "# R^2 점수를 계산한다.\n",
    "dummy.score(features_test, target_test)\n",
    "#####################################################################\n",
    "\n",
    "'''# 다른 모델을 훈련하고 평가하여 성능 점수를 비교한다.'''\n",
    "\n",
    "# 라이브러리 임포트\n",
    "from sklearn.linear_model import LinearRegression\n",
    "\n",
    "# 간단한 선형 회귀 모델을 훈련한다.\n",
    "ols = LinearRegression()\n",
    "ols.fit(features_train, target_train)\n",
    "\n",
    "# 결정계수 R^2 점수를 계산한다.\n",
    "ols.score(features_test, target_test)\n",
    "####################################################################\n",
    "\n",
    "'''\n",
    "# 설명: DummyRegressor 클래스는 실제 모델과 비교하기 위해 사용할 수 있는 매우 간단한 모델을 만든다.\n",
    "기존 제품이나 시스템의 단순한 예측 방식을 흉내 내는 데 종종 사용한다.\n",
    "예를 들면 모든 새로운 사용자는 특성에 상관없이 첫 달에 100달러를 사용할 것이라고 가정하도록\n",
    "애초부터 시스템에 하드코딩되어 있을지 모른다.\n",
    "이런 가정을 기본 모델로 삼으면 머신러닝 방식을 사용했을 때 장점을 명확히 확인할 수 있다.\n",
    "\n",
    "DummyRegressor 클래스는 strategy 매개변수를 사용하여 예측방법을 지정한다.\n",
    "훈련세트의 평균 또는 중간값을 사용할 수 있다.\n",
    "또한 strategy를 constant로 지정하고 constant 매개변수를 사용하면\n",
    "모든 샘플에 대해 일정한 값으로 예측하는 더미 회귀 모델을 만들 수 있다.\n",
    "'''\n",
    "\n",
    "# 모든 샘플에 대해 20으로 예측하는 더미 회귀 모델\n",
    "clf = DummyRegressor(strategy = 'constant', constant = 20)\n",
    "clf.fit(features_train, target_train)\n",
    "\n",
    "# 점수를 계산한다.\n",
    "clf.score(features_test, target_test)\n",
    "\n",
    "'''\n",
    "score 메서드에 대해 언급할 것이 하나 있다.\n",
    "기본적으로 score 메서드는 결정계수(R^2)값을 반환한다.\n",
    "\n",
    "여기에서 y_i는 샘플의 정답 타깃값이다.\n",
    "y_i_hat은 예측한 값이고, y_bar는 타깃 벡터의 평균값이다.\n",
    "R^2이 1에 가까울수록 특성이 타깃 벡터의 분산을 잘 설명한다.\n",
    "'''\n",
    "\n",
    "''' * 덧붙임:\n",
    "strategy가 mean일 때 평균값으로 예측하고 median일 때 중간값으로 예측한다.\n",
    "strategy = 'quantile'로 지정하면 quantile 매개변수에 지정한 분위값을 예측으로 사용한다.\n",
    "quantile 매개변수에는 0과 1 사이의 실숫값을 지정하며\n",
    "0.5일 때 중간값과 같고 0이면 최솟값, 1이면 최댓값이다.\n",
    "다음 코드는 훈련 세트의 타깃값의 최댓값으로 예측을 만드는 DummyRegressor의 예이다.\n",
    "'''\n",
    "\n",
    "clf = DummyRegressor(strategy = 'quantile', quantile = 1.0)\n",
    "clf.fit(features_train, target_train)\n",
    "\n",
    "# 훈련 세트 타깃의 최대값으로 예측한다.\n",
    "clf.predict(features_test)\n",
    "\n",
    "import numpy as np\n",
    "# 훈련 세트의 타깃에서 최댓값을 확인한다.\n",
    "np.max(target_train)\n"
   ]
  },
  {
   "cell_type": "code",
   "execution_count": 8,
   "id": "8651d5a1",
   "metadata": {},
   "outputs": [
    {
     "data": {
      "text/plain": [
       "'# classification dummy\\n# 기본 분류 모델 만들기\\n# 과제: 다른 모델과 비교하기 위해 간단한 기본 회귀 모델을 만들고 싶다.\\n# 해결: 사이킷런의 DummyClassifier를 사용한다.\\n'"
      ]
     },
     "execution_count": 8,
     "metadata": {},
     "output_type": "execute_result"
    },
    {
     "data": {
      "text/plain": [
       "DummyClassifier(random_state=1, strategy='uniform')"
      ]
     },
     "execution_count": 8,
     "metadata": {},
     "output_type": "execute_result"
    },
    {
     "data": {
      "text/plain": [
       "0.42105263157894735"
      ]
     },
     "execution_count": 8,
     "metadata": {},
     "output_type": "execute_result"
    },
    {
     "data": {
      "text/plain": [
       "'# 훈련된 다른 모델과 기본 모델을 비교하여 더 나은지 확인할 수 있다.'"
      ]
     },
     "execution_count": 8,
     "metadata": {},
     "output_type": "execute_result"
    },
    {
     "data": {
      "text/plain": [
       "RandomForestClassifier()"
      ]
     },
     "execution_count": 8,
     "metadata": {},
     "output_type": "execute_result"
    },
    {
     "data": {
      "text/plain": [
       "0.9736842105263158"
      ]
     },
     "execution_count": 8,
     "metadata": {},
     "output_type": "execute_result"
    },
    {
     "data": {
      "text/plain": [
       "'\\n# 설명: 분류 모델의 성능을 측정하는 일반적인 방법은 랜덤한 추측보다 얼마나 더 나은지 비교하는 것이다.\\n사이킷런의 DummyClassifier를 사용하면 이런 비교를 쉽게할 수 있다.\\nstrategy 매개변수는 예측값을 생성하는 여러가지 옵션을 제공한다.\\n전형적으로 많이 사용하는 두 가지 전략이 있다.\\n\\n첫 번째, stratified 옵션은 훈련 세트에 있는 타깃 벡터의 클래스 비율에 비례하는 예측을 만든다.\\n(즉 훈련 세트에서 샘플의 20%가 여성이라면 DummyClassifier는 20%를 여성으로 예측한다.)\\n\\n두 번째, uniform 옵션은 클래스 비중이 균등하도록 랜덤하게 예측한다.\\n예를 들어 샘플의 20%가 여성이고 80%가 남성일 때 uniform 옵션은 50%는 여성, 50%는 남성으로 예측한다.\\n'"
      ]
     },
     "execution_count": 8,
     "metadata": {},
     "output_type": "execute_result"
    },
    {
     "data": {
      "text/plain": [
       "' * 덧붙임:\\nstrategy에 자주 사용하는 또 다른 옵션은 most_frequent다.\\n이 옵션은 무조건 훈련 세트에서 가장 많은 타깃 레이블로 예측을 만든다.\\n\\n# 다음 코드는 most_frequent 옵션을 사용하는 예이다.\\n'"
      ]
     },
     "execution_count": 8,
     "metadata": {},
     "output_type": "execute_result"
    },
    {
     "data": {
      "text/plain": [
       "DummyClassifier(strategy='most_frequent')"
      ]
     },
     "execution_count": 8,
     "metadata": {},
     "output_type": "execute_result"
    },
    {
     "data": {
      "text/plain": [
       "array([2, 2, 2, 2, 2, 2, 2, 2, 2, 2, 2, 2, 2, 2, 2, 2, 2, 2, 2, 2, 2, 2,\n",
       "       2, 2, 2, 2, 2, 2, 2, 2, 2, 2, 2, 2, 2, 2, 2, 2])"
      ]
     },
     "execution_count": 8,
     "metadata": {},
     "output_type": "execute_result"
    },
    {
     "data": {
      "text/plain": [
       "'# 훈련 세트에 있는 타깃값을 확인해보면 클래스 레이블 2가 가장 많다.'"
      ]
     },
     "execution_count": 8,
     "metadata": {},
     "output_type": "execute_result"
    },
    {
     "data": {
      "text/plain": [
       "array([37, 34, 41])"
      ]
     },
     "execution_count": 8,
     "metadata": {},
     "output_type": "execute_result"
    }
   ],
   "source": [
    "# p. 286 ~ 288\n",
    "'''# classification dummy\n",
    "# 기본 분류 모델 만들기\n",
    "# 과제: 다른 모델과 비교하기 위해 간단한 기본 회귀 모델을 만들고 싶다.\n",
    "# 해결: 사이킷런의 DummyClassifier를 사용한다.\n",
    "'''\n",
    "\n",
    "# 라이브러리 임포트\n",
    "from sklearn.dummy import DummyClassifier\n",
    "from sklearn.datasets import load_iris\n",
    "from sklearn.model_selection import train_test_split\n",
    "\n",
    "# 데이터 로드\n",
    "iris = load_iris()\n",
    "\n",
    "# 타깃 벡터와 특성 행렬을 만든다.\n",
    "features, target = iris.data, iris.target\n",
    "\n",
    "# 훈련 세트와 테스트 세트로 나눈다.\n",
    "features_train, features_test, target_train, target_test = train_test_split(features, target, random_state = 0)\n",
    "\n",
    "# 더미 분류 모델을 만든다.\n",
    "dummy = DummyClassifier(strategy = 'uniform', random_state = 1)\n",
    "\n",
    "# 모델을 훈련한다.\n",
    "dummy.fit(features_train, target_train) # features_test = x_test, target_test = y_test\n",
    "\n",
    "# 정확도 점수를 계산한다.\n",
    "dummy.score(features_test, target_test)\n",
    "#############################################################\n",
    "\n",
    "'''# 훈련된 다른 모델과 기본 모델을 비교하여 더 나은지 확인할 수 있다.'''\n",
    "\n",
    "# 라이브러리 임포트\n",
    "from sklearn.ensemble import RandomForestClassifier\n",
    "\n",
    "# 분류 모델을 만든다\n",
    "classifier = RandomForestClassifier()\n",
    "\n",
    "# 모델을 훈련한다.\n",
    "classifier.fit(features_train, target_train)\n",
    "\n",
    "# 정확도 점수를 계산한다.\n",
    "classifier.score(features_test, target_test)\n",
    "\n",
    "'''\n",
    "# 설명: 분류 모델의 성능을 측정하는 일반적인 방법은 랜덤한 추측보다 얼마나 더 나은지 비교하는 것이다.\n",
    "사이킷런의 DummyClassifier를 사용하면 이런 비교를 쉽게할 수 있다.\n",
    "strategy 매개변수는 예측값을 생성하는 여러가지 옵션을 제공한다.\n",
    "전형적으로 많이 사용하는 두 가지 전략이 있다.\n",
    "\n",
    "첫 번째, stratified 옵션은 훈련 세트에 있는 타깃 벡터의 클래스 비율에 비례하는 예측을 만든다.\n",
    "(즉 훈련 세트에서 샘플의 20%가 여성이라면 DummyClassifier는 20%를 여성으로 예측한다.)\n",
    "\n",
    "두 번째, uniform 옵션은 클래스 비중이 균등하도록 랜덤하게 예측한다.\n",
    "예를 들어 샘플의 20%가 여성이고 80%가 남성일 때 uniform 옵션은 50%는 여성, 50%는 남성으로 예측한다.\n",
    "'''\n",
    "\n",
    "\n",
    "''' * 덧붙임:\n",
    "strategy에 자주 사용하는 또 다른 옵션은 most_frequent다.\n",
    "이 옵션은 무조건 훈련 세트에서 가장 많은 타깃 레이블로 예측을 만든다.\n",
    "\n",
    "# 다음 코드는 most_frequent 옵션을 사용하는 예이다.\n",
    "'''\n",
    "dummy = DummyClassifier(strategy = 'most_frequent')\n",
    "dummy.fit(features_train, target_train)\n",
    "\n",
    "# 훈련 세트 타깃에서 가장 많은 값으로 예측한다.\n",
    "dummy.predict(features_test)\n",
    "\n",
    "'''# 훈련 세트에 있는 타깃값을 확인해보면 클래스 레이블 2가 가장 많다.'''\n",
    "\n",
    "# 훈련 세트의 타깃 개수를 확인한다.\n",
    "np.bincount(target_train)"
   ]
  }
 ],
 "metadata": {
  "kernelspec": {
   "display_name": "Python 3",
   "language": "python",
   "name": "python3"
  },
  "language_info": {
   "codemirror_mode": {
    "name": "ipython",
    "version": 3
   },
   "file_extension": ".py",
   "mimetype": "text/x-python",
   "name": "python",
   "nbconvert_exporter": "python",
   "pygments_lexer": "ipython3",
   "version": "3.8.5"
  },
  "latex_envs": {
   "LaTeX_envs_menu_present": true,
   "autoclose": false,
   "autocomplete": true,
   "bibliofile": "biblio.bib",
   "cite_by": "apalike",
   "current_citInitial": 1,
   "eqLabelWithNumbers": true,
   "eqNumInitial": 1,
   "hotkeys": {
    "equation": "Ctrl-E",
    "itemize": "Ctrl-I"
   },
   "labels_anchors": false,
   "latex_user_defs": false,
   "report_style_numbering": false,
   "user_envs_cfg": false
  },
  "toc": {
   "base_numbering": 1,
   "nav_menu": {},
   "number_sections": true,
   "sideBar": true,
   "skip_h1_title": false,
   "title_cell": "Table of Contents",
   "title_sidebar": "Contents",
   "toc_cell": false,
   "toc_position": {},
   "toc_section_display": true,
   "toc_window_display": false
  }
 },
 "nbformat": 4,
 "nbformat_minor": 5
}
