{
 "cells": [
  {
   "cell_type": "markdown",
   "id": "7a07fc40",
   "metadata": {},
   "source": [
    "# library"
   ]
  },
  {
   "cell_type": "code",
   "execution_count": 2,
   "id": "692323ae",
   "metadata": {},
   "outputs": [
    {
     "name": "stdout",
     "output_type": "stream",
     "text": [
      "matplotlib version: 3.4.2\n",
      "seaborn version: 0.11.1\n",
      "[PhysicalDevice(name='/physical_device:GPU:0', device_type='GPU'), PhysicalDevice(name='/physical_device:GPU:1', device_type='GPU')]\n"
     ]
    }
   ],
   "source": [
    "import pandas as pd\n",
    "from IPython.core.interactiveshell import InteractiveShell\n",
    "InteractiveShell.ast_node_interactivity = \"all\"\n",
    "\n",
    "import os\n",
    "import FinanceDataReader as fdr\n",
    "\n",
    "import datetime as dt\n",
    "\n",
    "import numpy as np\n",
    "\n",
    "from tqdm import tqdm #진행바\n",
    "from tqdm.notebook import tqdm\n",
    "\n",
    "#시각화 라이브러리\n",
    "import matplotlib as mpl\n",
    "import matplotlib.pyplot as plt\n",
    "print(\"matplotlib version: {}\". format(mpl.__version__))\n",
    "\n",
    "import seaborn as sns\n",
    "print(\"seaborn version: {}\". format(sns.__version__))\n",
    "\n",
    "\n",
    "#한글설정\n",
    "import matplotlib.font_manager as fm\n",
    "\n",
    "font_dirs = ['/usr/share/fonts/truetype/nanum', ]\n",
    "font_files = fm.findSystemFonts(fontpaths=font_dirs)\n",
    "\n",
    "for font_file in font_files:\n",
    "    fm.fontManager.addfont(font_file)\n",
    "    \n",
    "# 한글 출력을 위해서 폰트 옵션을 설정합니다.\n",
    "# \"axes.unicode_minus\" : 마이너스가 깨질 것을 방지\n",
    "\n",
    "sns.set(font=\"NanumBarunGothic\", \n",
    "        rc={\"axes.unicode_minus\":False},\n",
    "        style='darkgrid')\n",
    "\n",
    "\n",
    "import warnings\n",
    "warnings.filterwarnings('ignore')\n",
    "\n",
    "# GPU\n",
    "import tensorflow as tf\n",
    "\n",
    "#https://www.tensorflow.org/guide/gpu#allowing_gpu_memory_growth\n",
    "#프로세스의 요구량만큼 메모리 사용 설정\n",
    "gpus = tf.config.experimental.list_physical_devices('GPU')\n",
    "print(gpus)\n",
    "if gpus:\n",
    "    try:\n",
    "        for i in range(len(gpus)):\n",
    "            tf.config.experimental.set_memory_growth(gpus[i], True)\n",
    "    except RuntimeError as e:\n",
    "        # 프로그램 시작시에 메모리 증가가 설정되어야만 합니다\n",
    "        print(e)\n",
    "        \n",
    "#지정해서 쓰고 싶으면 model 쓸 때는 with 구문 안에 넣기"
   ]
  },
  {
   "cell_type": "markdown",
   "id": "4996dc40",
   "metadata": {},
   "source": [
    "# data load 및 classification 전처리"
   ]
  },
  {
   "cell_type": "code",
   "execution_count": 3,
   "id": "32a96b3c",
   "metadata": {},
   "outputs": [],
   "source": [
    "df = pd.read_csv('minmax_stock_2018_10days.csv')\n",
    "df['Next_Change'] = np.where(df['Next_Change']>0.05, 1, 0)"
   ]
  },
  {
   "cell_type": "markdown",
   "id": "4e81f69b",
   "metadata": {},
   "source": [
    "# 분류"
   ]
  },
  {
   "cell_type": "markdown",
   "id": "434aeeb7",
   "metadata": {},
   "source": [
    "## 머신러닝 K-fold 교차 검증(cross validation)\n",
    "데이터를 5-fold 교차검증으로 8개 모델을 학습하고 예측하여 평가한다."
   ]
  },
  {
   "cell_type": "code",
   "execution_count": 4,
   "id": "3c69e540",
   "metadata": {},
   "outputs": [],
   "source": [
    "from sklearn.model_selection import StratifiedShuffleSplit\n",
    "from sklearn.metrics import accuracy_score\n",
    "from sklearn.metrics import roc_auc_score\n",
    "from sklearn.dummy import DummyClassifier\n",
    "import time\n",
    "\n",
    "results=[]\n",
    "\n",
    "def classification(model_):\n",
    "    \n",
    "    # data load\n",
    "    df_ = pd.read_csv('minmax_stock_2018_10days.csv')\n",
    "    df_['Next_Change'] = np.where(df_['Next_Change']>0.05, 1, 0)\n",
    "    \n",
    "    # data split X, y\n",
    "    X = df_.iloc[:,2:-1]\n",
    "    y = df_.iloc[:,-1]\n",
    "    i=0\n",
    "\n",
    "    # Cross Validation\n",
    "    sss = StratifiedShuffleSplit(n_splits=5, test_size=0.2, random_state=0)\n",
    "    for train_idx, test_idx in tqdm(sss.split(X,y)):\n",
    "        x_train = df_.iloc[train_idx,2:-1]\n",
    "        y_train = df_.iloc[train_idx,-1]\n",
    "        x_test = df_.iloc[test_idx,2:-1]\n",
    "        y_test = df_.iloc[test_idx,-1]\n",
    "        \n",
    "        _ = model_.fit(x_train, y_train)\n",
    "        \n",
    "        y_pred_train = model_.predict(x_train) \n",
    "        y_pred_test = model_.predict(x_test) # 예측\n",
    "        accuracy_train = accuracy_score(y_train, y_pred_train)\n",
    "        accuracy_test = accuracy_score(y_test, y_pred_test)\n",
    "        roc_auc = roc_auc_score(y_test, y_pred_test)\n",
    "        \n",
    "        dummy = DummyClassifier(strategy = 'stratified', random_state = 1) # strategy 옵션: 'stratified', 'uniform', 'most_frequent'\n",
    "        _ = dummy.fit(x_train, y_train)\n",
    "        dummy_score = dummy.score(x_test, y_test)\n",
    "        \n",
    "        results.append([i,f'{str(model)[:str(model).index(\"(\")]}',accuracy_train,accuracy_test, roc_auc, dummy_score])#, training_time\n",
    "        i+=1\n",
    "        \n",
    "        "
   ]
  },
  {
   "cell_type": "code",
   "execution_count": 5,
   "id": "80089cee",
   "metadata": {},
   "outputs": [
    {
     "data": {
      "application/vnd.jupyter.widget-view+json": {
       "model_id": "978c06d5ce764682b29c5b09f98dda9d",
       "version_major": 2,
       "version_minor": 0
      },
      "text/plain": [
       "0it [00:00, ?it/s]"
      ]
     },
     "metadata": {},
     "output_type": "display_data"
    },
    {
     "data": {
      "application/vnd.jupyter.widget-view+json": {
       "model_id": "9564c2cf439b4462b9151dda6b9d7f82",
       "version_major": 2,
       "version_minor": 0
      },
      "text/plain": [
       "0it [00:00, ?it/s]"
      ]
     },
     "metadata": {},
     "output_type": "display_data"
    },
    {
     "data": {
      "application/vnd.jupyter.widget-view+json": {
       "model_id": "df15329404584144b9c7983a0cac71d9",
       "version_major": 2,
       "version_minor": 0
      },
      "text/plain": [
       "0it [00:00, ?it/s]"
      ]
     },
     "metadata": {},
     "output_type": "display_data"
    },
    {
     "data": {
      "application/vnd.jupyter.widget-view+json": {
       "model_id": "68c69cf654fb4d93921d72068a53df69",
       "version_major": 2,
       "version_minor": 0
      },
      "text/plain": [
       "0it [00:00, ?it/s]"
      ]
     },
     "metadata": {},
     "output_type": "display_data"
    },
    {
     "data": {
      "application/vnd.jupyter.widget-view+json": {
       "model_id": "a9ef8135e8a34d5ea6ae94da89eb3918",
       "version_major": 2,
       "version_minor": 0
      },
      "text/plain": [
       "0it [00:00, ?it/s]"
      ]
     },
     "metadata": {},
     "output_type": "display_data"
    },
    {
     "data": {
      "application/vnd.jupyter.widget-view+json": {
       "model_id": "c436b950822446d5927630cf2f0ad82d",
       "version_major": 2,
       "version_minor": 0
      },
      "text/plain": [
       "0it [00:00, ?it/s]"
      ]
     },
     "metadata": {},
     "output_type": "display_data"
    },
    {
     "data": {
      "application/vnd.jupyter.widget-view+json": {
       "model_id": "502a022ba654417a8549c6c549027cf0",
       "version_major": 2,
       "version_minor": 0
      },
      "text/plain": [
       "0it [00:00, ?it/s]"
      ]
     },
     "metadata": {},
     "output_type": "display_data"
    },
    {
     "data": {
      "application/vnd.jupyter.widget-view+json": {
       "model_id": "39c614915962489ca794f152a5dd9b7f",
       "version_major": 2,
       "version_minor": 0
      },
      "text/plain": [
       "0it [00:00, ?it/s]"
      ]
     },
     "metadata": {},
     "output_type": "display_data"
    },
    {
     "name": "stdout",
     "output_type": "stream",
     "text": [
      "CPU times: user 3min 24s, sys: 1min 50s, total: 5min 14s\n",
      "Wall time: 2min 15s\n"
     ]
    }
   ],
   "source": [
    "%%time\n",
    "\n",
    "# 1. Logistic regression    \n",
    "from sklearn.linear_model import LogisticRegression\n",
    "model = LogisticRegression(max_iter=1000)\n",
    "temp = classification(model)\n",
    "\n",
    "\n",
    "# 2. Decision tree\n",
    "from sklearn.tree import DecisionTreeClassifier\n",
    "model = DecisionTreeClassifier()\n",
    "temp = classification(model)\n",
    "\n",
    "\n",
    "# 3. Support vector machine\n",
    "from sklearn.svm import SVC\n",
    "model = SVC()\n",
    "temp = classification(model)\n",
    "\n",
    "\n",
    "# 4. Gaussian naive bayes\n",
    "from sklearn.naive_bayes import GaussianNB\n",
    "model = GaussianNB()\n",
    "temp = classification(model)\n",
    "\n",
    "\n",
    "# 5. K nearest neighbor\n",
    "from sklearn.neighbors import KNeighborsClassifier\n",
    "model = KNeighborsClassifier()\n",
    "temp = classification(model)\n",
    "\n",
    "\n",
    "# 6. Random forest\n",
    "from sklearn.ensemble import RandomForestClassifier\n",
    "model = RandomForestClassifier()\n",
    "temp = classification(model)\n",
    "\n",
    "\n",
    "# 7. Gradient boosing\n",
    "from sklearn.ensemble import GradientBoostingClassifier\n",
    "model = GradientBoostingClassifier()\n",
    "temp = classification(model)\n",
    "\n",
    "\n",
    "# 8. Neural network\n",
    "from sklearn.neural_network import MLPClassifier\n",
    "model = MLPClassifier(max_iter=1000)\n",
    "temp = classification(model)\n",
    "\n",
    "\n",
    "# results\n",
    "# # 형태: i번째 학습, 학습 모델, train 정확도, test 정확도(최종정확도), roc_auc, dummy 학습에 걸린 시간"
   ]
  },
  {
   "cell_type": "markdown",
   "id": "8579bf51",
   "metadata": {},
   "source": [
    "## 교차검증 결과 종합"
   ]
  },
  {
   "cell_type": "code",
   "execution_count": 6,
   "id": "8f73dcfd",
   "metadata": {},
   "outputs": [
    {
     "data": {
      "text/html": [
       "<div>\n",
       "<style scoped>\n",
       "    .dataframe tbody tr th:only-of-type {\n",
       "        vertical-align: middle;\n",
       "    }\n",
       "\n",
       "    .dataframe tbody tr th {\n",
       "        vertical-align: top;\n",
       "    }\n",
       "\n",
       "    .dataframe thead th {\n",
       "        text-align: right;\n",
       "    }\n",
       "</style>\n",
       "<table border=\"1\" class=\"dataframe\">\n",
       "  <thead>\n",
       "    <tr style=\"text-align: right;\">\n",
       "      <th></th>\n",
       "      <th>iter</th>\n",
       "      <th>method</th>\n",
       "      <th>accuracy_train</th>\n",
       "      <th>accuracy_test</th>\n",
       "      <th>roc_auc</th>\n",
       "      <th>dummy</th>\n",
       "    </tr>\n",
       "  </thead>\n",
       "  <tbody>\n",
       "    <tr>\n",
       "      <th>0</th>\n",
       "      <td>0</td>\n",
       "      <td>LogisticRegression</td>\n",
       "      <td>0.918186</td>\n",
       "      <td>0.917323</td>\n",
       "      <td>0.500000</td>\n",
       "      <td>0.844488</td>\n",
       "    </tr>\n",
       "    <tr>\n",
       "      <th>1</th>\n",
       "      <td>1</td>\n",
       "      <td>LogisticRegression</td>\n",
       "      <td>0.918186</td>\n",
       "      <td>0.917323</td>\n",
       "      <td>0.500000</td>\n",
       "      <td>0.836614</td>\n",
       "    </tr>\n",
       "    <tr>\n",
       "      <th>2</th>\n",
       "      <td>2</td>\n",
       "      <td>LogisticRegression</td>\n",
       "      <td>0.918186</td>\n",
       "      <td>0.917323</td>\n",
       "      <td>0.500000</td>\n",
       "      <td>0.848425</td>\n",
       "    </tr>\n",
       "    <tr>\n",
       "      <th>3</th>\n",
       "      <td>3</td>\n",
       "      <td>LogisticRegression</td>\n",
       "      <td>0.918186</td>\n",
       "      <td>0.917323</td>\n",
       "      <td>0.500000</td>\n",
       "      <td>0.844488</td>\n",
       "    </tr>\n",
       "    <tr>\n",
       "      <th>4</th>\n",
       "      <td>4</td>\n",
       "      <td>LogisticRegression</td>\n",
       "      <td>0.918186</td>\n",
       "      <td>0.917323</td>\n",
       "      <td>0.500000</td>\n",
       "      <td>0.844488</td>\n",
       "    </tr>\n",
       "    <tr>\n",
       "      <th>5</th>\n",
       "      <td>0</td>\n",
       "      <td>DecisionTreeClassifier</td>\n",
       "      <td>1.000000</td>\n",
       "      <td>0.832677</td>\n",
       "      <td>0.551349</td>\n",
       "      <td>0.844488</td>\n",
       "    </tr>\n",
       "    <tr>\n",
       "      <th>6</th>\n",
       "      <td>1</td>\n",
       "      <td>DecisionTreeClassifier</td>\n",
       "      <td>1.000000</td>\n",
       "      <td>0.870079</td>\n",
       "      <td>0.593399</td>\n",
       "      <td>0.836614</td>\n",
       "    </tr>\n",
       "    <tr>\n",
       "      <th>7</th>\n",
       "      <td>2</td>\n",
       "      <td>DecisionTreeClassifier</td>\n",
       "      <td>1.000000</td>\n",
       "      <td>0.838583</td>\n",
       "      <td>0.511241</td>\n",
       "      <td>0.848425</td>\n",
       "    </tr>\n",
       "    <tr>\n",
       "      <th>8</th>\n",
       "      <td>3</td>\n",
       "      <td>DecisionTreeClassifier</td>\n",
       "      <td>1.000000</td>\n",
       "      <td>0.875984</td>\n",
       "      <td>0.596618</td>\n",
       "      <td>0.844488</td>\n",
       "    </tr>\n",
       "    <tr>\n",
       "      <th>9</th>\n",
       "      <td>4</td>\n",
       "      <td>DecisionTreeClassifier</td>\n",
       "      <td>1.000000</td>\n",
       "      <td>0.868110</td>\n",
       "      <td>0.538167</td>\n",
       "      <td>0.844488</td>\n",
       "    </tr>\n",
       "    <tr>\n",
       "      <th>10</th>\n",
       "      <td>0</td>\n",
       "      <td>SVC</td>\n",
       "      <td>0.918186</td>\n",
       "      <td>0.917323</td>\n",
       "      <td>0.500000</td>\n",
       "      <td>0.844488</td>\n",
       "    </tr>\n",
       "    <tr>\n",
       "      <th>11</th>\n",
       "      <td>1</td>\n",
       "      <td>SVC</td>\n",
       "      <td>0.918186</td>\n",
       "      <td>0.917323</td>\n",
       "      <td>0.500000</td>\n",
       "      <td>0.836614</td>\n",
       "    </tr>\n",
       "    <tr>\n",
       "      <th>12</th>\n",
       "      <td>2</td>\n",
       "      <td>SVC</td>\n",
       "      <td>0.918186</td>\n",
       "      <td>0.917323</td>\n",
       "      <td>0.500000</td>\n",
       "      <td>0.848425</td>\n",
       "    </tr>\n",
       "    <tr>\n",
       "      <th>13</th>\n",
       "      <td>3</td>\n",
       "      <td>SVC</td>\n",
       "      <td>0.918186</td>\n",
       "      <td>0.917323</td>\n",
       "      <td>0.500000</td>\n",
       "      <td>0.844488</td>\n",
       "    </tr>\n",
       "    <tr>\n",
       "      <th>14</th>\n",
       "      <td>4</td>\n",
       "      <td>SVC</td>\n",
       "      <td>0.918186</td>\n",
       "      <td>0.917323</td>\n",
       "      <td>0.500000</td>\n",
       "      <td>0.844488</td>\n",
       "    </tr>\n",
       "    <tr>\n",
       "      <th>15</th>\n",
       "      <td>0</td>\n",
       "      <td>GaussianNB</td>\n",
       "      <td>0.361755</td>\n",
       "      <td>0.395669</td>\n",
       "      <td>0.573115</td>\n",
       "      <td>0.844488</td>\n",
       "    </tr>\n",
       "    <tr>\n",
       "      <th>16</th>\n",
       "      <td>1</td>\n",
       "      <td>GaussianNB</td>\n",
       "      <td>0.353869</td>\n",
       "      <td>0.348425</td>\n",
       "      <td>0.569027</td>\n",
       "      <td>0.836614</td>\n",
       "    </tr>\n",
       "    <tr>\n",
       "      <th>17</th>\n",
       "      <td>2</td>\n",
       "      <td>GaussianNB</td>\n",
       "      <td>0.364219</td>\n",
       "      <td>0.354331</td>\n",
       "      <td>0.561414</td>\n",
       "      <td>0.848425</td>\n",
       "    </tr>\n",
       "    <tr>\n",
       "      <th>18</th>\n",
       "      <td>3</td>\n",
       "      <td>GaussianNB</td>\n",
       "      <td>0.363726</td>\n",
       "      <td>0.336614</td>\n",
       "      <td>0.497599</td>\n",
       "      <td>0.844488</td>\n",
       "    </tr>\n",
       "    <tr>\n",
       "      <th>19</th>\n",
       "      <td>4</td>\n",
       "      <td>GaussianNB</td>\n",
       "      <td>0.361755</td>\n",
       "      <td>0.366142</td>\n",
       "      <td>0.578684</td>\n",
       "      <td>0.844488</td>\n",
       "    </tr>\n",
       "    <tr>\n",
       "      <th>20</th>\n",
       "      <td>0</td>\n",
       "      <td>KNeighborsClassifier</td>\n",
       "      <td>0.918186</td>\n",
       "      <td>0.917323</td>\n",
       "      <td>0.500000</td>\n",
       "      <td>0.844488</td>\n",
       "    </tr>\n",
       "    <tr>\n",
       "      <th>21</th>\n",
       "      <td>1</td>\n",
       "      <td>KNeighborsClassifier</td>\n",
       "      <td>0.920158</td>\n",
       "      <td>0.917323</td>\n",
       "      <td>0.500000</td>\n",
       "      <td>0.836614</td>\n",
       "    </tr>\n",
       "    <tr>\n",
       "      <th>22</th>\n",
       "      <td>2</td>\n",
       "      <td>KNeighborsClassifier</td>\n",
       "      <td>0.919172</td>\n",
       "      <td>0.917323</td>\n",
       "      <td>0.500000</td>\n",
       "      <td>0.848425</td>\n",
       "    </tr>\n",
       "    <tr>\n",
       "      <th>23</th>\n",
       "      <td>3</td>\n",
       "      <td>KNeighborsClassifier</td>\n",
       "      <td>0.920158</td>\n",
       "      <td>0.915354</td>\n",
       "      <td>0.498927</td>\n",
       "      <td>0.844488</td>\n",
       "    </tr>\n",
       "    <tr>\n",
       "      <th>24</th>\n",
       "      <td>4</td>\n",
       "      <td>KNeighborsClassifier</td>\n",
       "      <td>0.919665</td>\n",
       "      <td>0.913386</td>\n",
       "      <td>0.497854</td>\n",
       "      <td>0.844488</td>\n",
       "    </tr>\n",
       "    <tr>\n",
       "      <th>25</th>\n",
       "      <td>0</td>\n",
       "      <td>RandomForestClassifier</td>\n",
       "      <td>0.999507</td>\n",
       "      <td>0.913386</td>\n",
       "      <td>0.508686</td>\n",
       "      <td>0.844488</td>\n",
       "    </tr>\n",
       "    <tr>\n",
       "      <th>26</th>\n",
       "      <td>1</td>\n",
       "      <td>RandomForestClassifier</td>\n",
       "      <td>0.999014</td>\n",
       "      <td>0.921260</td>\n",
       "      <td>0.523810</td>\n",
       "      <td>0.836614</td>\n",
       "    </tr>\n",
       "    <tr>\n",
       "      <th>27</th>\n",
       "      <td>2</td>\n",
       "      <td>RandomForestClassifier</td>\n",
       "      <td>1.000000</td>\n",
       "      <td>0.911417</td>\n",
       "      <td>0.507613</td>\n",
       "      <td>0.848425</td>\n",
       "    </tr>\n",
       "    <tr>\n",
       "      <th>28</th>\n",
       "      <td>3</td>\n",
       "      <td>RandomForestClassifier</td>\n",
       "      <td>0.999507</td>\n",
       "      <td>0.911417</td>\n",
       "      <td>0.507613</td>\n",
       "      <td>0.844488</td>\n",
       "    </tr>\n",
       "    <tr>\n",
       "      <th>29</th>\n",
       "      <td>4</td>\n",
       "      <td>RandomForestClassifier</td>\n",
       "      <td>1.000000</td>\n",
       "      <td>0.909449</td>\n",
       "      <td>0.495708</td>\n",
       "      <td>0.844488</td>\n",
       "    </tr>\n",
       "    <tr>\n",
       "      <th>30</th>\n",
       "      <td>0</td>\n",
       "      <td>GradientBoostingClassifier</td>\n",
       "      <td>0.959093</td>\n",
       "      <td>0.905512</td>\n",
       "      <td>0.515226</td>\n",
       "      <td>0.844488</td>\n",
       "    </tr>\n",
       "    <tr>\n",
       "      <th>31</th>\n",
       "      <td>1</td>\n",
       "      <td>GradientBoostingClassifier</td>\n",
       "      <td>0.955643</td>\n",
       "      <td>0.909449</td>\n",
       "      <td>0.506540</td>\n",
       "      <td>0.836614</td>\n",
       "    </tr>\n",
       "    <tr>\n",
       "      <th>32</th>\n",
       "      <td>2</td>\n",
       "      <td>GradientBoostingClassifier</td>\n",
       "      <td>0.965007</td>\n",
       "      <td>0.911417</td>\n",
       "      <td>0.529277</td>\n",
       "      <td>0.848425</td>\n",
       "    </tr>\n",
       "    <tr>\n",
       "      <th>33</th>\n",
       "      <td>3</td>\n",
       "      <td>GradientBoostingClassifier</td>\n",
       "      <td>0.954657</td>\n",
       "      <td>0.901575</td>\n",
       "      <td>0.491416</td>\n",
       "      <td>0.844488</td>\n",
       "    </tr>\n",
       "    <tr>\n",
       "      <th>34</th>\n",
       "      <td>4</td>\n",
       "      <td>GradientBoostingClassifier</td>\n",
       "      <td>0.956629</td>\n",
       "      <td>0.905512</td>\n",
       "      <td>0.493562</td>\n",
       "      <td>0.844488</td>\n",
       "    </tr>\n",
       "    <tr>\n",
       "      <th>35</th>\n",
       "      <td>0</td>\n",
       "      <td>MLPClassifier</td>\n",
       "      <td>0.853622</td>\n",
       "      <td>0.842520</td>\n",
       "      <td>0.524218</td>\n",
       "      <td>0.844488</td>\n",
       "    </tr>\n",
       "    <tr>\n",
       "      <th>36</th>\n",
       "      <td>1</td>\n",
       "      <td>MLPClassifier</td>\n",
       "      <td>0.856580</td>\n",
       "      <td>0.852362</td>\n",
       "      <td>0.529583</td>\n",
       "      <td>0.836614</td>\n",
       "    </tr>\n",
       "    <tr>\n",
       "      <th>37</th>\n",
       "      <td>2</td>\n",
       "      <td>MLPClassifier</td>\n",
       "      <td>0.911286</td>\n",
       "      <td>0.899606</td>\n",
       "      <td>0.512007</td>\n",
       "      <td>0.848425</td>\n",
       "    </tr>\n",
       "    <tr>\n",
       "      <th>38</th>\n",
       "      <td>3</td>\n",
       "      <td>MLPClassifier</td>\n",
       "      <td>0.908822</td>\n",
       "      <td>0.887795</td>\n",
       "      <td>0.527233</td>\n",
       "      <td>0.844488</td>\n",
       "    </tr>\n",
       "    <tr>\n",
       "      <th>39</th>\n",
       "      <td>4</td>\n",
       "      <td>MLPClassifier</td>\n",
       "      <td>0.887629</td>\n",
       "      <td>0.872047</td>\n",
       "      <td>0.507817</td>\n",
       "      <td>0.844488</td>\n",
       "    </tr>\n",
       "  </tbody>\n",
       "</table>\n",
       "</div>"
      ],
      "text/plain": [
       "    iter                      method  accuracy_train  accuracy_test   roc_auc  \\\n",
       "0      0          LogisticRegression        0.918186       0.917323  0.500000   \n",
       "1      1          LogisticRegression        0.918186       0.917323  0.500000   \n",
       "2      2          LogisticRegression        0.918186       0.917323  0.500000   \n",
       "3      3          LogisticRegression        0.918186       0.917323  0.500000   \n",
       "4      4          LogisticRegression        0.918186       0.917323  0.500000   \n",
       "5      0      DecisionTreeClassifier        1.000000       0.832677  0.551349   \n",
       "6      1      DecisionTreeClassifier        1.000000       0.870079  0.593399   \n",
       "7      2      DecisionTreeClassifier        1.000000       0.838583  0.511241   \n",
       "8      3      DecisionTreeClassifier        1.000000       0.875984  0.596618   \n",
       "9      4      DecisionTreeClassifier        1.000000       0.868110  0.538167   \n",
       "10     0                         SVC        0.918186       0.917323  0.500000   \n",
       "11     1                         SVC        0.918186       0.917323  0.500000   \n",
       "12     2                         SVC        0.918186       0.917323  0.500000   \n",
       "13     3                         SVC        0.918186       0.917323  0.500000   \n",
       "14     4                         SVC        0.918186       0.917323  0.500000   \n",
       "15     0                  GaussianNB        0.361755       0.395669  0.573115   \n",
       "16     1                  GaussianNB        0.353869       0.348425  0.569027   \n",
       "17     2                  GaussianNB        0.364219       0.354331  0.561414   \n",
       "18     3                  GaussianNB        0.363726       0.336614  0.497599   \n",
       "19     4                  GaussianNB        0.361755       0.366142  0.578684   \n",
       "20     0        KNeighborsClassifier        0.918186       0.917323  0.500000   \n",
       "21     1        KNeighborsClassifier        0.920158       0.917323  0.500000   \n",
       "22     2        KNeighborsClassifier        0.919172       0.917323  0.500000   \n",
       "23     3        KNeighborsClassifier        0.920158       0.915354  0.498927   \n",
       "24     4        KNeighborsClassifier        0.919665       0.913386  0.497854   \n",
       "25     0      RandomForestClassifier        0.999507       0.913386  0.508686   \n",
       "26     1      RandomForestClassifier        0.999014       0.921260  0.523810   \n",
       "27     2      RandomForestClassifier        1.000000       0.911417  0.507613   \n",
       "28     3      RandomForestClassifier        0.999507       0.911417  0.507613   \n",
       "29     4      RandomForestClassifier        1.000000       0.909449  0.495708   \n",
       "30     0  GradientBoostingClassifier        0.959093       0.905512  0.515226   \n",
       "31     1  GradientBoostingClassifier        0.955643       0.909449  0.506540   \n",
       "32     2  GradientBoostingClassifier        0.965007       0.911417  0.529277   \n",
       "33     3  GradientBoostingClassifier        0.954657       0.901575  0.491416   \n",
       "34     4  GradientBoostingClassifier        0.956629       0.905512  0.493562   \n",
       "35     0               MLPClassifier        0.853622       0.842520  0.524218   \n",
       "36     1               MLPClassifier        0.856580       0.852362  0.529583   \n",
       "37     2               MLPClassifier        0.911286       0.899606  0.512007   \n",
       "38     3               MLPClassifier        0.908822       0.887795  0.527233   \n",
       "39     4               MLPClassifier        0.887629       0.872047  0.507817   \n",
       "\n",
       "       dummy  \n",
       "0   0.844488  \n",
       "1   0.836614  \n",
       "2   0.848425  \n",
       "3   0.844488  \n",
       "4   0.844488  \n",
       "5   0.844488  \n",
       "6   0.836614  \n",
       "7   0.848425  \n",
       "8   0.844488  \n",
       "9   0.844488  \n",
       "10  0.844488  \n",
       "11  0.836614  \n",
       "12  0.848425  \n",
       "13  0.844488  \n",
       "14  0.844488  \n",
       "15  0.844488  \n",
       "16  0.836614  \n",
       "17  0.848425  \n",
       "18  0.844488  \n",
       "19  0.844488  \n",
       "20  0.844488  \n",
       "21  0.836614  \n",
       "22  0.848425  \n",
       "23  0.844488  \n",
       "24  0.844488  \n",
       "25  0.844488  \n",
       "26  0.836614  \n",
       "27  0.848425  \n",
       "28  0.844488  \n",
       "29  0.844488  \n",
       "30  0.844488  \n",
       "31  0.836614  \n",
       "32  0.848425  \n",
       "33  0.844488  \n",
       "34  0.844488  \n",
       "35  0.844488  \n",
       "36  0.836614  \n",
       "37  0.848425  \n",
       "38  0.844488  \n",
       "39  0.844488  "
      ]
     },
     "execution_count": 6,
     "metadata": {},
     "output_type": "execute_result"
    }
   ],
   "source": [
    "df_results =pd.DataFrame(data=results, \n",
    "                columns= ['iter','method','accuracy_train','accuracy_test', 'roc_auc', 'dummy'])#,'training_time'\n",
    "df_results"
   ]
  },
  {
   "cell_type": "markdown",
   "id": "dbe73c41",
   "metadata": {},
   "source": [
    "## 테스트 데이터셋 정확도 플랏"
   ]
  },
  {
   "cell_type": "code",
   "execution_count": 7,
   "id": "5d244a42",
   "metadata": {},
   "outputs": [
    {
     "data": {
      "image/png": "[encoded data removed]",
      "text/plain": [
       "<Figure size 432x288 with 1 Axes>"
      ]
     },
     "metadata": {},
     "output_type": "display_data"
    }
   ],
   "source": [
    "ax = sns.barplot(x=\"method\", y=\"accuracy_test\", data=df_results, capsize=.2, \n",
    "                 order=df_results.groupby('method').mean().sort_values('accuracy_test').index)\n",
    "_ = ax.set_xticks(range(8))\n",
    "\n",
    "################################################################################\n",
    "# xticklabels\n",
    "dummy_mean = df_results.groupby('method').mean().sort_values('accuracy_test')['dummy'].mean()\n",
    "_ = ax.set(ylim=(dummy_mean - 0.01, 0.921))\n",
    "\n",
    "\n",
    "tick_list = []\n",
    "for i in ax.get_xticklabels():\n",
    "    text = str(i).split(',')[2].split(\"'\")[1]\n",
    "    if 'Classifier' in text:\n",
    "        text = text[:text.index(\"C\")]\n",
    "    tick_list.append(text)\n",
    "################################################################################\n",
    "\n",
    "_ = ax.set_xticklabels(tick_list,rotation=60); # ax.get_xticklabels()\n",
    "\n",
    "_ = ax.set_xlabel(\"classification models\", fontsize = 15)\n",
    "_ = ax.set_ylabel(\"Accuracy\", fontsize = 15)\n",
    "\n",
    "val = df_results.groupby('method').mean().sort_values('accuracy_test')['accuracy_test']\n",
    "cnt = 0\n",
    "for i in range(8):\n",
    "    _ = ax.text(cnt-0.35, 0.845, f'{val[i]:.2f}')\n",
    "    cnt += 1\n",
    "\n",
    "_ = ax.plot([-1,8], [dummy_mean, dummy_mean])\n",
    "_ = ax.annotate(f'dummy\\n: {dummy_mean:.2f}', xy = (7.8, dummy_mean), xytext = (8.9, 0.83),\n",
    "               arrowprops = dict(facecolor = 'black', shrink = 0.1),)\n",
    "\n",
    "_ = plt.tight_layout()"
   ]
  },
  {
   "cell_type": "markdown",
   "id": "2a7fc18c",
   "metadata": {},
   "source": [
    "## 훈련-테스트 데이터셋 정확도 플랏"
   ]
  },
  {
   "cell_type": "code",
   "execution_count": 8,
   "id": "b170572e",
   "metadata": {},
   "outputs": [
    {
     "data": {
      "image/png": "[encoded data removed]",
      "text/plain": [
       "<Figure size 432x288 with 1 Axes>"
      ]
     },
     "metadata": {},
     "output_type": "display_data"
    }
   ],
   "source": [
    "tidy = df_results[['method', 'accuracy_train', 'accuracy_test']].melt(id_vars='method').rename(columns=str.title)\n",
    "ax = sns.barplot(x=\"Method\", y=\"Value\", hue='Variable', data=tidy, capsize=.2, \n",
    "                 order=df_results.groupby('method').mean().sort_values('accuracy_test').index)\n",
    "_ = ax.set(ylim=(0.84, 0.92))\n",
    "_ = ax.set_xticklabels(ax.get_xticklabels(),rotation=45);\n",
    "_ = plt.tight_layout()"
   ]
  },
  {
   "cell_type": "markdown",
   "id": "dad27d55",
   "metadata": {},
   "source": [
    "## roc-auc plot"
   ]
  },
  {
   "cell_type": "code",
   "execution_count": 9,
   "id": "d721b2a2",
   "metadata": {},
   "outputs": [
    {
     "data": {
      "image/png": "[encoded data removed]",
      "text/plain": [
       "<Figure size 432x288 with 1 Axes>"
      ]
     },
     "metadata": {},
     "output_type": "display_data"
    }
   ],
   "source": [
    "ax = sns.barplot(x=\"method\", y=\"roc_auc\", data=df_results, capsize=.2, \n",
    "                 order=df_results.groupby('method').mean().sort_values('roc_auc').index)\n",
    "_ = ax.set_xticks(range(8))\n",
    "_ = ax.set(ylim=(0.46, 0.578))\n",
    "\n",
    "# xticklabels\n",
    "tick_list = []\n",
    "for i in ax.get_xticklabels():\n",
    "    text = str(i).split(',')[2].split(\"'\")[1]\n",
    "    if 'Classifier' in text:\n",
    "        text = text[:text.index(\"C\")]\n",
    "    tick_list.append(text)\n",
    "# tick_list\n",
    "\n",
    "_ = ax.set_xticklabels(tick_list,rotation=45);## 테스트 데이터셋 정확도 플랏\n",
    "\n",
    "_ = ax.set_xlabel(\"classification models\", fontsize = 15)\n",
    "_ = ax.set_ylabel(\"ROC-AUC\", fontsize = 15)\n",
    "\n",
    "val = df_results.groupby('method').mean().sort_values('roc_auc')['roc_auc']\n",
    "cnt = 0\n",
    "for i in range(8):\n",
    "    _ = ax.text(cnt-0.25, 0.465, f'{val[i]:.2f}')\n",
    "    cnt += 1\n",
    "\n",
    "_ = plt.tight_layout()"
   ]
  },
  {
   "cell_type": "markdown",
   "id": "31ee4e15",
   "metadata": {},
   "source": [
    "# 회귀"
   ]
  },
  {
   "cell_type": "code",
   "execution_count": 14,
   "id": "f014ae9d",
   "metadata": {},
   "outputs": [],
   "source": [
    "results = []\n",
    "\n",
    "def my_regressor():\n",
    "    df_ = pd.read_csv('minmax_stock_2018_10days.csv')\n",
    "    # data split X, y\n",
    "    df_X = df_.iloc[:,2:-1]\n",
    "    df_y = df_['Next_Change']#.iloc[:,-1]\n",
    "    \n",
    "    from sklearn.linear_model import LinearRegression # 일반 회귀 모델\n",
    "    from sklearn.linear_model import Ridge, Lasso, ElasticNet # Norm 규제 회귀 모델\n",
    "    from sklearn.linear_model import ARDRegression, BayesianRidge # 베이지안 회귀\n",
    "    from sklearn.ensemble import RandomForestRegressor # decision tree 앙상블 모델, 배깅\n",
    "    from xgboost import XGBRegressor # decision tree 앙상블 모델, 부스팅\n",
    "#     from sklearn.model_selection import cross_val_score # model 검증\n",
    "    \n",
    "#     from sklearn.model_selection import StratifiedShuffleSplit\n",
    "    from sklearn.model_selection import ShuffleSplit\n",
    "    \n",
    "    from sklearn.dummy import DummyRegressor\n",
    "    from sklearn import metrics\n",
    "    \n",
    "    import ast # convert string to function\n",
    "    import numpy as np\n",
    "    \n",
    "    ################################################### 전처리 파이프라인\n",
    "#     from sklearn.pipeline import Pipeline\n",
    "#     from sklearn.impute import SimpleImputer\n",
    "#     from sklearn.preprocessing import MinMaxScaler\n",
    "\n",
    "#     my_pipeline = Pipeline([('mean_imputer', SimpleImputer(strategy = 'mean')),\n",
    "#                            ('mm_scaler', MinMaxScaler())])\n",
    "    ##############################################################################\n",
    "\n",
    "    \n",
    "    linear = LinearRegression()\n",
    "    ridge, lasso, elasticnet = Ridge(), Lasso(), ElasticNet()\n",
    "    ardr_linear, baysian_ridge = ARDRegression(), BayesianRidge()\n",
    "    random_forest = RandomForestRegressor()\n",
    "    xgboost_linear = XGBRegressor()\n",
    "    dummy = DummyRegressor(strategy = 'mean')\n",
    "    \n",
    "    my_model_list = ['linear', 'ridge', 'lasso', 'elasticnet',\n",
    "                     'ardr_linear', 'baysian_ridge',\n",
    "                     'random_forest', 'xgboost_linear', 'dummy']\n",
    "    \n",
    "    ######################################################################### fitting\n",
    "    for model_nm in tqdm(my_model_list):\n",
    "        \n",
    "        # cv\n",
    "        ss = ShuffleSplit(n_splits=5, test_size=0.2, random_state=0)\n",
    "        for train_idx, test_idx in tqdm(ss.split(df_X,df_y)):\n",
    "            i=1\n",
    "            x_train = df_.iloc[train_idx,2:-1]\n",
    "            y_train = df_.iloc[train_idx,-1]\n",
    "            x_test = df_.iloc[test_idx,2:-1]\n",
    "            y_test = df_.iloc[test_idx,-1]\n",
    "\n",
    "            y_train = np.array(y_train).reshape(-1, 1)\n",
    "            y_test = np.array(y_test).reshape(-1, 1)\n",
    "\n",
    "#             # 전처리 (scaling)\n",
    "#             x_train_fit = my_pipeline.fit(x_train)\n",
    "#             x_train_pre = x_train_fit.transform(x_train)\n",
    "#             x_test_pre = x_train_fit.transform(x_test)\n",
    "\n",
    "#             y_train_fit = my_pipeline.fit(y_train)\n",
    "#             y_train_pre = y_train_fit.transform(y_train)\n",
    "#             y_test_pre = y_train_fit.transform(y_test)\n",
    "            ########################################################\n",
    "        \n",
    "            # fitting\n",
    "            model_ = eval(model_nm).fit(x_train, y_train)\n",
    "            y_pred_test = model_.predict(x_test) # 예측\n",
    "\n",
    "            mse_score = metrics.mean_squared_error(y_test, y_pred_test)\n",
    "\n",
    "            results.append([i, f'{model_nm}', mse_score]) #[:str(model).index(\"(\")]\n",
    "            i+=1\n",
    "            #####################################################################################\n",
    "    \n",
    "    return results#score_dic#[0]"
   ]
  },
  {
   "cell_type": "code",
   "execution_count": 15,
   "id": "53265304",
   "metadata": {},
   "outputs": [
    {
     "data": {
      "application/vnd.jupyter.widget-view+json": {
       "model_id": "0faf5efe96b34612bcc8fa83d0b529d4",
       "version_major": 2,
       "version_minor": 0
      },
      "text/plain": [
       "  0%|          | 0/9 [00:00<?, ?it/s]"
      ]
     },
     "metadata": {},
     "output_type": "display_data"
    },
    {
     "data": {
      "application/vnd.jupyter.widget-view+json": {
       "model_id": "067b599484f541d4a4e3a6243373dbf2",
       "version_major": 2,
       "version_minor": 0
      },
      "text/plain": [
       "0it [00:00, ?it/s]"
      ]
     },
     "metadata": {},
     "output_type": "display_data"
    },
    {
     "data": {
      "application/vnd.jupyter.widget-view+json": {
       "model_id": "95de02bde2c848b189bcdc9459ac8a6c",
       "version_major": 2,
       "version_minor": 0
      },
      "text/plain": [
       "0it [00:00, ?it/s]"
      ]
     },
     "metadata": {},
     "output_type": "display_data"
    },
    {
     "data": {
      "application/vnd.jupyter.widget-view+json": {
       "model_id": "0fd8266fafb448d3b59c1c4d2c0892e1",
       "version_major": 2,
       "version_minor": 0
      },
      "text/plain": [
       "0it [00:00, ?it/s]"
      ]
     },
     "metadata": {},
     "output_type": "display_data"
    },
    {
     "data": {
      "application/vnd.jupyter.widget-view+json": {
       "model_id": "8c4f8d43839d4141abb04e22ed2aa2db",
       "version_major": 2,
       "version_minor": 0
      },
      "text/plain": [
       "0it [00:00, ?it/s]"
      ]
     },
     "metadata": {},
     "output_type": "display_data"
    },
    {
     "data": {
      "application/vnd.jupyter.widget-view+json": {
       "model_id": "409ad91072a14ad89c3d0bccc577e1d5",
       "version_major": 2,
       "version_minor": 0
      },
      "text/plain": [
       "0it [00:00, ?it/s]"
      ]
     },
     "metadata": {},
     "output_type": "display_data"
    },
    {
     "data": {
      "application/vnd.jupyter.widget-view+json": {
       "model_id": "a03d7b8c8df749c0ae46a5076fe2bc8d",
       "version_major": 2,
       "version_minor": 0
      },
      "text/plain": [
       "0it [00:00, ?it/s]"
      ]
     },
     "metadata": {},
     "output_type": "display_data"
    },
    {
     "data": {
      "application/vnd.jupyter.widget-view+json": {
       "model_id": "cb977155a56d4e63b115b5c25839e495",
       "version_major": 2,
       "version_minor": 0
      },
      "text/plain": [
       "0it [00:00, ?it/s]"
      ]
     },
     "metadata": {},
     "output_type": "display_data"
    },
    {
     "data": {
      "application/vnd.jupyter.widget-view+json": {
       "model_id": "be5ae68a853e411ea6736c53f8b8b1af",
       "version_major": 2,
       "version_minor": 0
      },
      "text/plain": [
       "0it [00:00, ?it/s]"
      ]
     },
     "metadata": {},
     "output_type": "display_data"
    },
    {
     "data": {
      "application/vnd.jupyter.widget-view+json": {
       "model_id": "29b2f56a164341fa872dd9caedeb7a7b",
       "version_major": 2,
       "version_minor": 0
      },
      "text/plain": [
       "0it [00:00, ?it/s]"
      ]
     },
     "metadata": {},
     "output_type": "display_data"
    },
    {
     "name": "stdout",
     "output_type": "stream",
     "text": [
      "CPU times: user 20min 12s, sys: 5min 41s, total: 25min 53s\n",
      "Wall time: 11min 3s\n"
     ]
    },
    {
     "data": {
      "text/plain": [
       "[[1, 'linear', 0.00409991747036772],\n",
       " [1, 'linear', 0.00650029618368558],\n",
       " [1, 'linear', 0.004146339125564833],\n",
       " [1, 'linear', 0.006658600971369647],\n",
       " [1, 'linear', 0.003724265106056277],\n",
       " [1, 'ridge', 0.003485821501930223],\n",
       " [1, 'ridge', 0.00363576249726788],\n",
       " [1, 'ridge', 0.003586655639271022],\n",
       " [1, 'ridge', 0.002989436689967999],\n",
       " [1, 'ridge', 0.003900825131926314],\n",
       " [1, 'lasso', 0.0033656972409363945],\n",
       " [1, 'lasso', 0.0034319491675740377],\n",
       " [1, 'lasso', 0.0033770333512148057],\n",
       " [1, 'lasso', 0.0027669478970818125],\n",
       " [1, 'lasso', 0.003326681285597424],\n",
       " [1, 'elasticnet', 0.0033823197213126923],\n",
       " [1, 'elasticnet', 0.0034446197650190736],\n",
       " [1, 'elasticnet', 0.0034185191304947848],\n",
       " [1, 'elasticnet', 0.0027891476972153055],\n",
       " [1, 'elasticnet', 0.0036380356537391656],\n",
       " [1, 'ardr_linear', 0.00332856609180192],\n",
       " [1, 'ardr_linear', 0.0033666567908068315],\n",
       " [1, 'ardr_linear', 0.0032203044955378887],\n",
       " [1, 'ardr_linear', 0.0027483359479693165],\n",
       " [1, 'ardr_linear', 0.0025918814813892443],\n",
       " [1, 'baysian_ridge', 0.003373824108689945],\n",
       " [1, 'baysian_ridge', 0.003492207812207042],\n",
       " [1, 'baysian_ridge', 0.0034936342019898253],\n",
       " [1, 'baysian_ridge', 0.0028386475859234496],\n",
       " [1, 'baysian_ridge', 0.004206457975845329],\n",
       " [1, 'random_forest', 0.003433563111199512],\n",
       " [1, 'random_forest', 0.003357053906398676],\n",
       " [1, 'random_forest', 0.003412217706160346],\n",
       " [1, 'random_forest', 0.0030073351447874636],\n",
       " [1, 'random_forest', 0.0031069137418927454],\n",
       " [1, 'xgboost_linear', 0.003647358925602939],\n",
       " [1, 'xgboost_linear', 0.0037800044706116915],\n",
       " [1, 'xgboost_linear', 0.0036585923967119727],\n",
       " [1, 'xgboost_linear', 0.003058392871452577],\n",
       " [1, 'xgboost_linear', 0.0032178887300115065],\n",
       " [1, 'dummy', 0.00332856609180192],\n",
       " [1, 'dummy', 0.0033666567908068315],\n",
       " [1, 'dummy', 0.0032203044955378887],\n",
       " [1, 'dummy', 0.0027483359479693165],\n",
       " [1, 'dummy', 0.0025918814813892443]]"
      ]
     },
     "execution_count": 15,
     "metadata": {},
     "output_type": "execute_result"
    }
   ],
   "source": [
    "%%time\n",
    "_ = my_regressor()\n",
    "results"
   ]
  },
  {
   "cell_type": "code",
   "execution_count": 16,
   "id": "36f6799f",
   "metadata": {
    "scrolled": true
   },
   "outputs": [
    {
     "data": {
      "text/plain": [
       "[('ardr_linear', 0.00305114896150104),\n",
       " ('dummy', 0.00305114896150104),\n",
       " ('lasso', 0.0032536617884808953),\n",
       " ('random_forest', 0.003263416722087748),\n",
       " ('elasticnet', 0.003334528393556204),\n",
       " ('xgboost_linear', 0.0034724474788781377),\n",
       " ('baysian_ridge', 0.0034809543369311185),\n",
       " ('ridge', 0.0035197002920726883),\n",
       " ('linear', 0.005025883771408812)]"
      ]
     },
     "execution_count": 16,
     "metadata": {},
     "output_type": "execute_result"
    }
   ],
   "source": [
    "dic = {}\n",
    "for i in results:\n",
    "    if i[1] not in dic: # dic.keys()라고 써도 됨.\n",
    "        dic[i[1]] = [i[2]]\n",
    "    else:\n",
    "        dic[i[1]].append(i[2])\n",
    "\n",
    "\n",
    "# import math\n",
    "# 리스트에 mean 함수가 내장이 안돼있다니...\n",
    "\n",
    "for i in dic.keys():\n",
    "    dic[i] = sum(dic[i])/len(dic[i])\n",
    "\n",
    "\n",
    "score_lst = sorted(dic.items(), key = lambda t : t[1]) #mse 작은 순으로 줄 세워짐.\n",
    "score_lst\n",
    "# dic.keys()"
   ]
  },
  {
   "cell_type": "code",
   "execution_count": 17,
   "id": "8d63e078",
   "metadata": {},
   "outputs": [],
   "source": [
    "score_dic = {}\n",
    "for i in score_lst:\n",
    "    score_dic[i[0]] = i[1]"
   ]
  },
  {
   "cell_type": "code",
   "execution_count": 18,
   "id": "3b90a84f",
   "metadata": {},
   "outputs": [
    {
     "data": {
      "text/html": [
       "<div>\n",
       "<style scoped>\n",
       "    .dataframe tbody tr th:only-of-type {\n",
       "        vertical-align: middle;\n",
       "    }\n",
       "\n",
       "    .dataframe tbody tr th {\n",
       "        vertical-align: top;\n",
       "    }\n",
       "\n",
       "    .dataframe thead th {\n",
       "        text-align: right;\n",
       "    }\n",
       "</style>\n",
       "<table border=\"1\" class=\"dataframe\">\n",
       "  <thead>\n",
       "    <tr style=\"text-align: right;\">\n",
       "      <th></th>\n",
       "      <th>key</th>\n",
       "      <th>value</th>\n",
       "    </tr>\n",
       "  </thead>\n",
       "  <tbody>\n",
       "    <tr>\n",
       "      <th>0</th>\n",
       "      <td>ardr_linear</td>\n",
       "      <td>0.003051</td>\n",
       "    </tr>\n",
       "    <tr>\n",
       "      <th>1</th>\n",
       "      <td>dummy</td>\n",
       "      <td>0.003051</td>\n",
       "    </tr>\n",
       "    <tr>\n",
       "      <th>2</th>\n",
       "      <td>lasso</td>\n",
       "      <td>0.003254</td>\n",
       "    </tr>\n",
       "    <tr>\n",
       "      <th>3</th>\n",
       "      <td>random_forest</td>\n",
       "      <td>0.003263</td>\n",
       "    </tr>\n",
       "    <tr>\n",
       "      <th>4</th>\n",
       "      <td>elasticnet</td>\n",
       "      <td>0.003335</td>\n",
       "    </tr>\n",
       "    <tr>\n",
       "      <th>5</th>\n",
       "      <td>xgboost_linear</td>\n",
       "      <td>0.003472</td>\n",
       "    </tr>\n",
       "    <tr>\n",
       "      <th>6</th>\n",
       "      <td>baysian_ridge</td>\n",
       "      <td>0.003481</td>\n",
       "    </tr>\n",
       "    <tr>\n",
       "      <th>7</th>\n",
       "      <td>ridge</td>\n",
       "      <td>0.003520</td>\n",
       "    </tr>\n",
       "    <tr>\n",
       "      <th>8</th>\n",
       "      <td>linear</td>\n",
       "      <td>0.005026</td>\n",
       "    </tr>\n",
       "  </tbody>\n",
       "</table>\n",
       "</div>"
      ],
      "text/plain": [
       "              key     value\n",
       "0     ardr_linear  0.003051\n",
       "1           dummy  0.003051\n",
       "2           lasso  0.003254\n",
       "3   random_forest  0.003263\n",
       "4      elasticnet  0.003335\n",
       "5  xgboost_linear  0.003472\n",
       "6   baysian_ridge  0.003481\n",
       "7           ridge  0.003520\n",
       "8          linear  0.005026"
      ]
     },
     "execution_count": 18,
     "metadata": {},
     "output_type": "execute_result"
    }
   ],
   "source": [
    "df = pd.DataFrame(score_dic.items(), columns=['key', 'value'])\n",
    "df"
   ]
  },
  {
   "cell_type": "code",
   "execution_count": 20,
   "id": "5e147d47",
   "metadata": {},
   "outputs": [
    {
     "data": {
      "text/plain": [
       "array([0.00305115])"
      ]
     },
     "execution_count": 20,
     "metadata": {},
     "output_type": "execute_result"
    },
    {
     "data": {
      "text/plain": [
       "'dummy\\n: 0.00'"
      ]
     },
     "execution_count": 20,
     "metadata": {},
     "output_type": "execute_result"
    }
   ],
   "source": [
    "dummy_mean = df[df.key=='dummy']['value'].values\n",
    "df[df.key=='dummy']['value'].values\n",
    "f'dummy\\n: {dummy_mean[0]:.2f}'"
   ]
  },
  {
   "cell_type": "markdown",
   "id": "159c909f",
   "metadata": {},
   "source": [
    "# MSE plot"
   ]
  },
  {
   "cell_type": "code",
   "execution_count": 35,
   "id": "00d76c29",
   "metadata": {},
   "outputs": [
    {
     "data": {
      "image/png": "[encoded data removed]",
      "text/plain": [
       "<Figure size 432x288 with 1 Axes>"
      ]
     },
     "metadata": {},
     "output_type": "display_data"
    }
   ],
   "source": [
    "g = sns.barplot(x = 'key', y = 'value', data=df, capsize=.2)\n",
    "_ = g.set_xticks(range(len(df)))\n",
    "_ = g.set_xticklabels(g.get_xticklabels(), rotation=45)\n",
    "_ = g.set_xlabel(\"regression models\", fontsize = 15)\n",
    "_ = g.set_ylabel(\"Mean Squared Errors\", fontsize = 15)\n",
    "_ = g.set_ylim([0.002, 0.0052]) # ax.set(ylim=(0.4, 0.6))\n",
    "dummy_mean = df[df.key=='dummy']['value'].values\n",
    "_ = g.plot([-1,len(df)], [dummy_mean, dummy_mean], color = 'red')\n",
    "_ = g.annotate(text = f'dummy\\n: {dummy_mean[0]:.4f}', xy = (3, dummy_mean), xytext = (0.01, 0.004),\n",
    "               arrowprops = dict(facecolor = 'red', shrink = 0),)\n",
    "\n",
    "\n",
    "val = df['value']\n",
    "cnt = 0\n",
    "for i in range(len(df)):\n",
    "    _ = g.text(cnt-0.27, 0.0007, f'{val[i]:.2f}')\n",
    "    cnt += 1\n",
    "\n",
    "plt.tight_layout()\n",
    "# bar plot official doc\n",
    "# https://seaborn.pydata.org/generated/seaborn.barplot.html\n",
    "# .set_xticklabels rot\n",
    "# https://data-newbie.tistory.com/261\n",
    "# .set_label\n",
    "# https://www.delftstack.com/ko/howto/seaborn/seaborn-lineplot/"
   ]
  },
  {
   "cell_type": "code",
   "execution_count": null,
   "id": "389a1af2",
   "metadata": {},
   "outputs": [],
   "source": []
  }
 ],
 "metadata": {
  "kernelspec": {
   "display_name": "Python 3",
   "language": "python",
   "name": "python3"
  },
  "language_info": {
   "codemirror_mode": {
    "name": "ipython",
    "version": 3
   },
   "file_extension": ".py",
   "mimetype": "text/x-python",
   "name": "python",
   "nbconvert_exporter": "python",
   "pygments_lexer": "ipython3",
   "version": "3.8.5"
  },
  "latex_envs": {
   "LaTeX_envs_menu_present": true,
   "autoclose": false,
   "autocomplete": true,
   "bibliofile": "biblio.bib",
   "cite_by": "apalike",
   "current_citInitial": 1,
   "eqLabelWithNumbers": true,
   "eqNumInitial": 1,
   "hotkeys": {
    "equation": "Ctrl-E",
    "itemize": "Ctrl-I"
   },
   "labels_anchors": false,
   "latex_user_defs": false,
   "report_style_numbering": false,
   "user_envs_cfg": false
  },
  "toc": {
   "base_numbering": 1,
   "nav_menu": {},
   "number_sections": true,
   "sideBar": true,
   "skip_h1_title": false,
   "title_cell": "Table of Contents",
   "title_sidebar": "Contents",
   "toc_cell": false,
   "toc_position": {},
   "toc_section_display": true,
   "toc_window_display": false
  }
 },
 "nbformat": 4,
 "nbformat_minor": 5
}
