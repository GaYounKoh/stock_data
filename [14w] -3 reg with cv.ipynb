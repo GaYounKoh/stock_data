{
 "cells": [
  {
   "cell_type": "markdown",
   "id": "a2cf475e",
   "metadata": {},
   "source": [
    "# library"
   ]
  },
  {
   "cell_type": "code",
   "execution_count": 1,
   "id": "4c6ae050",
   "metadata": {},
   "outputs": [
    {
     "name": "stderr",
     "output_type": "stream",
     "text": [
      "2022-06-11 06:04:12.866990: I tensorflow/stream_executor/platform/default/dso_loader.cc:49] Successfully opened dynamic library libcudart.so.10.1\n"
     ]
    }
   ],
   "source": [
    "import pandas as pd\n",
    "from IPython.core.interactiveshell import InteractiveShell\n",
    "InteractiveShell.ast_node_interactivity = 'all'\n",
    "\n",
    "import numpy as np\n",
    "from tqdm import tqdm\n",
    "import warnings\n",
    "warnings.filterwarnings('ignore')\n",
    "import tensorflow as tf\n",
    "import random"
   ]
  },
  {
   "cell_type": "code",
   "execution_count": 31,
   "id": "41a71c07",
   "metadata": {},
   "outputs": [],
   "source": [
    "d1215 = pd.read_feather('d1215.ftr', columns = None, use_threads = True)"
   ]
  },
  {
   "cell_type": "code",
   "execution_count": 3,
   "id": "8304a6f8",
   "metadata": {},
   "outputs": [
    {
     "name": "stdout",
     "output_type": "stream",
     "text": [
      "<class 'pandas.core.frame.DataFrame'>\n",
      "RangeIndex: 1084047 entries, 0 to 1084046\n",
      "Columns: 823 entries, date to NextChange\n",
      "dtypes: category(1), float64(821), int64(1)\n",
      "memory usage: 6.6 GB\n"
     ]
    }
   ],
   "source": [
    "d1215.info()"
   ]
  },
  {
   "cell_type": "code",
   "execution_count": 32,
   "id": "8fa067c5",
   "metadata": {},
   "outputs": [],
   "source": [
    "d1215['code'] = d1215['code'].astype(str)"
   ]
  },
  {
   "cell_type": "code",
   "execution_count": 33,
   "id": "6531fa92",
   "metadata": {},
   "outputs": [
    {
     "name": "stdout",
     "output_type": "stream",
     "text": [
      "<class 'pandas.core.frame.DataFrame'>\n",
      "RangeIndex: 1084047 entries, 0 to 1084046\n",
      "Columns: 823 entries, date to NextChange\n",
      "dtypes: float64(821), int64(1), object(1)\n",
      "memory usage: 6.6+ GB\n"
     ]
    }
   ],
   "source": [
    "d1215.info()"
   ]
  },
  {
   "cell_type": "code",
   "execution_count": 16,
   "id": "2c518ff0",
   "metadata": {},
   "outputs": [
    {
     "data": {
      "text/plain": [
       "array(['016385', '090120', '131090', ..., '196450', '204650', '196490'],\n",
       "      dtype=object)"
      ]
     },
     "execution_count": 16,
     "metadata": {},
     "output_type": "execute_result"
    }
   ],
   "source": [
    "d1215['code'].unique()"
   ]
  },
  {
   "cell_type": "markdown",
   "id": "56296ee5",
   "metadata": {},
   "source": [
    "# data load"
   ]
  },
  {
   "cell_type": "code",
   "execution_count": 13,
   "id": "6eeca91e",
   "metadata": {},
   "outputs": [],
   "source": [
    "# d1221 = pd.read_csv('/data/stock/stock.KOSPI.KOSDAQ.2012to20220301.csv')\n",
    "# 그냥 하나하나 불러와서 쓰기"
   ]
  },
  {
   "cell_type": "code",
   "execution_count": 14,
   "id": "ea3160cc",
   "metadata": {},
   "outputs": [
    {
     "data": {
      "text/plain": [
       "(2923868, 823)"
      ]
     },
     "execution_count": 14,
     "metadata": {},
     "output_type": "execute_result"
    }
   ],
   "source": [
    "# d1221.shape"
   ]
  },
  {
   "cell_type": "code",
   "execution_count": 15,
   "id": "5ea48cf5",
   "metadata": {},
   "outputs": [
    {
     "data": {
      "text/plain": [
       "80818"
      ]
     },
     "execution_count": 15,
     "metadata": {},
     "output_type": "execute_result"
    }
   ],
   "source": [
    "# sum(d1221['date']>20211231)"
   ]
  },
  {
   "cell_type": "code",
   "execution_count": 16,
   "id": "5cb0b4e6",
   "metadata": {},
   "outputs": [
    {
     "data": {
      "text/plain": [
       "2843050"
      ]
     },
     "execution_count": 16,
     "metadata": {},
     "output_type": "execute_result"
    }
   ],
   "source": [
    "2923868-80818"
   ]
  },
  {
   "cell_type": "code",
   "execution_count": 36,
   "id": "951028f5",
   "metadata": {},
   "outputs": [],
   "source": [
    "# d1221_sort[:1084047]\n",
    "# d1221.sort_values(['date', 'code'])"
   ]
  },
  {
   "cell_type": "markdown",
   "id": "f0f0b1a1",
   "metadata": {},
   "source": [
    "## mk_cd 함수"
   ]
  },
  {
   "cell_type": "code",
   "execution_count": 2,
   "id": "4ad1d5d7",
   "metadata": {},
   "outputs": [],
   "source": [
    "## 함수\n",
    "def mk_cd(x):\n",
    "    if type(x) == str:\n",
    "        if x.isalpha():\n",
    "            return x\n",
    "        else:\n",
    "            if len(x) == 6:\n",
    "                return x\n",
    "            else:\n",
    "                return \"0\"*(6-len(x))+x\n",
    "    elif type(x) == int:\n",
    "        x = str(x)\n",
    "        return \"0\"*(6-len(x))+x"
   ]
  },
  {
   "cell_type": "code",
   "execution_count": 7,
   "id": "fd30a101",
   "metadata": {},
   "outputs": [],
   "source": [
    "## 적용\n",
    "# d1221['code'] = list(map(mk_cd, d1221['code']))"
   ]
  },
  {
   "cell_type": "code",
   "execution_count": 8,
   "id": "f964780c",
   "metadata": {},
   "outputs": [],
   "source": [
    "# d1221_sort = d1221.sort_values(['code', 'date']).reset_index(drop = True)\n",
    "# d1221_sort\n",
    "# d1221.iloc[np.where(d1221['date']<=20151231)]"
   ]
  },
  {
   "cell_type": "markdown",
   "id": "6459c87b",
   "metadata": {},
   "source": [
    "# data load2 for concat"
   ]
  },
  {
   "cell_type": "code",
   "execution_count": null,
   "id": "6928bdb0",
   "metadata": {},
   "outputs": [],
   "source": [
    "d2016 = pd.read_csv('/data/stock/stock.KOSPI.KOSDAQ.2016.csv')\n",
    "d2017 = pd.read_csv('/data/stock/stock.KOSPI.KOSDAQ.2017.csv')\n",
    "d2018 = pd.read_csv('/data/stock/stock.KOSPI.KOSDAQ.2018.csv')\n",
    "d2019 = pd.read_csv('/data/stock/stock.KOSPI.KOSDAQ.2019.csv')\n",
    "d2020 = pd.read_csv('/data/stock/stock.KOSPI.KOSDAQ.2020.csv')\n",
    "d2021 = pd.read_csv('/data/stock/stock.KOSPI.KOSDAQ.2021.csv')"
   ]
  },
  {
   "cell_type": "code",
   "execution_count": null,
   "id": "f11ba950",
   "metadata": {},
   "outputs": [],
   "source": [
    "# modeling시 error 방지 위해 NaN값 채우고 ftr 만들기...\n",
    "d2016 = d2016.fillna(d2016.iloc[:,2:].mean())\n",
    "d2018 = d2018.fillna(d2018.iloc[:,2:].mean())\n",
    "d2020 = d2020.fillna(d2020.iloc[:,2:].mean())"
   ]
  },
  {
   "cell_type": "code",
   "execution_count": 34,
   "id": "9de99096",
   "metadata": {},
   "outputs": [
    {
     "data": {
      "text/plain": [
       "(2843050, 823)"
      ]
     },
     "execution_count": 34,
     "metadata": {},
     "output_type": "execute_result"
    }
   ],
   "source": [
    "d1221 = pd.concat([d1215, d2016, d2017, d2018, d2019, d2020, d2021])\n",
    "\n",
    "d1221.shape\n",
    "# 2843050 맞음"
   ]
  },
  {
   "cell_type": "markdown",
   "id": "d47b6261",
   "metadata": {},
   "source": [
    "## d1221 to ftr"
   ]
  },
  {
   "cell_type": "code",
   "execution_count": 35,
   "id": "091cf75d",
   "metadata": {},
   "outputs": [],
   "source": [
    "d1221.reset_index(drop=True, inplace = True)"
   ]
  },
  {
   "cell_type": "code",
   "execution_count": 36,
   "id": "3f61f8b1",
   "metadata": {},
   "outputs": [],
   "source": [
    "d1221['code'] = list(map(mk_cd, d1221['code'])) # mk_cd함수 적용시켜야 ftr만들 때 에러 안남."
   ]
  },
  {
   "cell_type": "code",
   "execution_count": 37,
   "id": "cb8e26f5",
   "metadata": {},
   "outputs": [],
   "source": [
    "d1221['code']=d1221['code'].astype('category')"
   ]
  },
  {
   "cell_type": "code",
   "execution_count": 38,
   "id": "09e9d3e2",
   "metadata": {},
   "outputs": [
    {
     "name": "stdout",
     "output_type": "stream",
     "text": [
      "<class 'pandas.core.frame.DataFrame'>\n",
      "RangeIndex: 2843050 entries, 0 to 2843049\n",
      "Columns: 823 entries, date to NextChange\n",
      "dtypes: category(1), float64(821), int64(1)\n",
      "memory usage: 17.4 GB\n"
     ]
    }
   ],
   "source": [
    "d1221.info()"
   ]
  },
  {
   "cell_type": "code",
   "execution_count": 39,
   "id": "3d81dada",
   "metadata": {},
   "outputs": [],
   "source": [
    "# d1221.to_feather('d1221.ftr')"
   ]
  },
  {
   "cell_type": "markdown",
   "id": "a81d8b16",
   "metadata": {},
   "source": [
    "# data load 3 여기부터 하면 됨."
   ]
  },
  {
   "cell_type": "code",
   "execution_count": 3,
   "id": "4bace3aa",
   "metadata": {},
   "outputs": [],
   "source": [
    "len_a2012 = 284412\n",
    "len_a2013 = 242826\n",
    "len_a2014 = 242448\n",
    "len_a2015 = 314361\n",
    "len_a2016 = 263593\n",
    "len_a2017 = 216591\n",
    "len_a2018 = 307395\n",
    "len_a2019 = 278610\n",
    "len_a2020 = 371006\n",
    "len_a2021 = 321808"
   ]
  },
  {
   "cell_type": "markdown",
   "id": "709ddf1b",
   "metadata": {},
   "source": [
    "# 슬라이싱 테스트"
   ]
  },
  {
   "cell_type": "code",
   "execution_count": 4,
   "id": "1294cf86",
   "metadata": {},
   "outputs": [],
   "source": [
    "len1215 = len_a2012+len_a2013+len_a2014+len_a2015 # y:2015\n",
    "len1316 = len1215+len_a2016 # y:2016\n",
    "len1417 = len1316+len_a2017 # y:2017\n",
    "len1518 = len1417+len_a2018 # y:2018\n",
    "len1619 = len1518+len_a2019 # y:2019\n",
    "len1720 = len1619+len_a2020 # y:2020\n",
    "len1821 = len1720+len_a2021 # y:2021"
   ]
  },
  {
   "cell_type": "markdown",
   "id": "2dfdbd29",
   "metadata": {},
   "source": [
    "# [0], [1]은 train 슬라이싱 인덱스, [2]는 test인덱스로 구성"
   ]
  },
  {
   "cell_type": "code",
   "execution_count": 5,
   "id": "eae1dcdf",
   "metadata": {},
   "outputs": [],
   "source": [
    "slicing_dic = {'1215':[0, len1215, len_a2015],\n",
    "               '1316':[len_a2012, len1316, len_a2016],\n",
    "               '1417':[len_a2012+len_a2013, len1417, len_a2017],\n",
    "               '1518':[len_a2012+len_a2013+len_a2014, len1518, len_a2018],\n",
    "               '1619':[len_a2012+len_a2013+len_a2014+len_a2015, len1619, len_a2019],\n",
    "               '1720':[len_a2012+len_a2013+len_a2014+len_a2015+len_a2016,len1720, len_a2020],\n",
    "               '1821':[len_a2012+len_a2013+len_a2014+len_a2015+len_a2016+len_a2017,len1821, len_a2021]}"
   ]
  },
  {
   "cell_type": "code",
   "execution_count": 6,
   "id": "4b0edf41",
   "metadata": {},
   "outputs": [],
   "source": [
    "# d1221[:len1215]\n",
    "# d1221[len_a2012:len1316]\n",
    "# d1221[len_a2012+len_a2013:len1417]\n",
    "# d1221[len_a2012+len_a2013+len_a2014:len1518]\n",
    "# d1221[len_a2012+len_a2013+len_a2014+len_a2015:len1619]\n",
    "# d1221[len_a2012+len_a2013+len_a2014+len_a2015+len_a2016:len1720]\n",
    "# d1221[len_a2012+len_a2013+len_a2014+len_a2015+len_a2016+len_a2017:len1821]"
   ]
  },
  {
   "cell_type": "code",
   "execution_count": null,
   "id": "5bba3790",
   "metadata": {},
   "outputs": [],
   "source": []
  },
  {
   "cell_type": "code",
   "execution_count": 6,
   "id": "bcc7c845",
   "metadata": {},
   "outputs": [],
   "source": [
    "d1221 = pd.read_feather('d1221.ftr', columns = None, use_threads = True)"
   ]
  },
  {
   "cell_type": "code",
   "execution_count": 7,
   "id": "1e68d2d3",
   "metadata": {},
   "outputs": [
    {
     "name": "stdout",
     "output_type": "stream",
     "text": [
      "<class 'pandas.core.frame.DataFrame'>\n",
      "RangeIndex: 2843050 entries, 0 to 2843049\n",
      "Columns: 823 entries, date to NextChange\n",
      "dtypes: category(1), float64(821), int64(1)\n",
      "memory usage: 17.4 GB\n"
     ]
    }
   ],
   "source": [
    "d1221.info()"
   ]
  },
  {
   "cell_type": "markdown",
   "id": "17ed0484",
   "metadata": {},
   "source": [
    "# category to object"
   ]
  },
  {
   "cell_type": "code",
   "execution_count": 8,
   "id": "ae7ccf2e",
   "metadata": {},
   "outputs": [],
   "source": [
    "d1221['code'] = list(map(mk_cd, d1221['code'])) # mk_cd함수 적용시켜야 ftr만들 때 에러 안남."
   ]
  },
  {
   "cell_type": "code",
   "execution_count": 9,
   "id": "08aa8296",
   "metadata": {},
   "outputs": [
    {
     "name": "stdout",
     "output_type": "stream",
     "text": [
      "<class 'pandas.core.frame.DataFrame'>\n",
      "RangeIndex: 2843050 entries, 0 to 2843049\n",
      "Columns: 823 entries, date to NextChange\n",
      "dtypes: float64(821), int64(1), object(1)\n",
      "memory usage: 17.4+ GB\n"
     ]
    }
   ],
   "source": [
    "d1221.info()"
   ]
  },
  {
   "cell_type": "code",
   "execution_count": 11,
   "id": "64381bc9",
   "metadata": {
    "collapsed": true
   },
   "outputs": [
    {
     "data": {
      "text/plain": [
       "(0, 1084047)"
      ]
     },
     "execution_count": 11,
     "metadata": {},
     "output_type": "execute_result"
    },
    {
     "data": {
      "text/plain": [
       "(284412, 1347640)"
      ]
     },
     "execution_count": 11,
     "metadata": {},
     "output_type": "execute_result"
    },
    {
     "data": {
      "text/plain": [
       "('1316', [284412, 1347640, 263593])"
      ]
     },
     "execution_count": 11,
     "metadata": {},
     "output_type": "execute_result"
    },
    {
     "data": {
      "text/plain": [
       "('all', 1063228)"
      ]
     },
     "execution_count": 11,
     "metadata": {},
     "output_type": "execute_result"
    },
    {
     "data": {
      "text/plain": [
       "('tr', 799635)"
      ]
     },
     "execution_count": 11,
     "metadata": {},
     "output_type": "execute_result"
    },
    {
     "data": {
      "text/plain": [
       "('te', 263593)"
      ]
     },
     "execution_count": 11,
     "metadata": {},
     "output_type": "execute_result"
    },
    {
     "data": {
      "text/plain": [
       "799635"
      ]
     },
     "execution_count": 11,
     "metadata": {},
     "output_type": "execute_result"
    },
    {
     "data": {
      "text/plain": [
       "263593"
      ]
     },
     "execution_count": 11,
     "metadata": {},
     "output_type": "execute_result"
    },
    {
     "data": {
      "text/html": [
       "<div>\n",
       "<style scoped>\n",
       "    .dataframe tbody tr th:only-of-type {\n",
       "        vertical-align: middle;\n",
       "    }\n",
       "\n",
       "    .dataframe tbody tr th {\n",
       "        vertical-align: top;\n",
       "    }\n",
       "\n",
       "    .dataframe thead th {\n",
       "        text-align: right;\n",
       "    }\n",
       "</style>\n",
       "<table border=\"1\" class=\"dataframe\">\n",
       "  <thead>\n",
       "    <tr style=\"text-align: right;\">\n",
       "      <th></th>\n",
       "      <th>date</th>\n",
       "      <th>code</th>\n",
       "      <th>D-10_open</th>\n",
       "      <th>D-10_high</th>\n",
       "      <th>D-10_low</th>\n",
       "      <th>D-10_close</th>\n",
       "      <th>D-10_MA5</th>\n",
       "      <th>D-10_MA20</th>\n",
       "      <th>D-10_MA60</th>\n",
       "      <th>D-10_MA120</th>\n",
       "      <th>...</th>\n",
       "      <th>D-1_VIpos</th>\n",
       "      <th>D-1_ROC</th>\n",
       "      <th>D-1_MFI</th>\n",
       "      <th>D-1_KCW</th>\n",
       "      <th>D-1_BBP</th>\n",
       "      <th>D-1_KST</th>\n",
       "      <th>D-1_DCW</th>\n",
       "      <th>D-1_SRSID</th>\n",
       "      <th>D-1_PPOhist</th>\n",
       "      <th>NextChange</th>\n",
       "    </tr>\n",
       "  </thead>\n",
       "  <tbody>\n",
       "    <tr>\n",
       "      <th>397928</th>\n",
       "      <td>20141111</td>\n",
       "      <td>094940</td>\n",
       "      <td>0.007557</td>\n",
       "      <td>0.032242</td>\n",
       "      <td>0.007557</td>\n",
       "      <td>0.029723</td>\n",
       "      <td>-0.005139</td>\n",
       "      <td>0.039144</td>\n",
       "      <td>0.032343</td>\n",
       "      <td>0.113249</td>\n",
       "      <td>...</td>\n",
       "      <td>1.06060</td>\n",
       "      <td>7.5560</td>\n",
       "      <td>37.059</td>\n",
       "      <td>7.1012</td>\n",
       "      <td>0.59287</td>\n",
       "      <td>8.0378</td>\n",
       "      <td>7.2768</td>\n",
       "      <td>0.831900</td>\n",
       "      <td>0.159820</td>\n",
       "      <td>-0.24</td>\n",
       "    </tr>\n",
       "    <tr>\n",
       "      <th>347410</th>\n",
       "      <td>20140108</td>\n",
       "      <td>052270</td>\n",
       "      <td>0.013554</td>\n",
       "      <td>0.022590</td>\n",
       "      <td>0.000000</td>\n",
       "      <td>0.000000</td>\n",
       "      <td>-0.000301</td>\n",
       "      <td>0.197666</td>\n",
       "      <td>0.324518</td>\n",
       "      <td>0.380377</td>\n",
       "      <td>...</td>\n",
       "      <td>0.73558</td>\n",
       "      <td>-12.7030</td>\n",
       "      <td>23.721</td>\n",
       "      <td>9.9397</td>\n",
       "      <td>0.15670</td>\n",
       "      <td>-250.9800</td>\n",
       "      <td>14.6330</td>\n",
       "      <td>0.304010</td>\n",
       "      <td>-0.701580</td>\n",
       "      <td>1.69</td>\n",
       "    </tr>\n",
       "    <tr>\n",
       "      <th>459109</th>\n",
       "      <td>20140305</td>\n",
       "      <td>056360</td>\n",
       "      <td>-0.001302</td>\n",
       "      <td>0.007812</td>\n",
       "      <td>-0.024740</td>\n",
       "      <td>0.002604</td>\n",
       "      <td>0.019271</td>\n",
       "      <td>0.022344</td>\n",
       "      <td>-0.066380</td>\n",
       "      <td>-0.074818</td>\n",
       "      <td>...</td>\n",
       "      <td>1.17420</td>\n",
       "      <td>4.6541</td>\n",
       "      <td>72.994</td>\n",
       "      <td>7.0364</td>\n",
       "      <td>0.86086</td>\n",
       "      <td>61.0270</td>\n",
       "      <td>13.2350</td>\n",
       "      <td>0.957520</td>\n",
       "      <td>0.473800</td>\n",
       "      <td>2.64</td>\n",
       "    </tr>\n",
       "    <tr>\n",
       "      <th>565355</th>\n",
       "      <td>20150907</td>\n",
       "      <td>140910</td>\n",
       "      <td>0.009823</td>\n",
       "      <td>0.009823</td>\n",
       "      <td>-0.021562</td>\n",
       "      <td>0.009823</td>\n",
       "      <td>0.010541</td>\n",
       "      <td>0.046215</td>\n",
       "      <td>0.064590</td>\n",
       "      <td>0.116842</td>\n",
       "      <td>...</td>\n",
       "      <td>1.02380</td>\n",
       "      <td>5.5991</td>\n",
       "      <td>70.885</td>\n",
       "      <td>9.6143</td>\n",
       "      <td>0.63884</td>\n",
       "      <td>-17.6620</td>\n",
       "      <td>15.6040</td>\n",
       "      <td>0.838580</td>\n",
       "      <td>0.575760</td>\n",
       "      <td>0.00</td>\n",
       "    </tr>\n",
       "    <tr>\n",
       "      <th>346801</th>\n",
       "      <td>20140630</td>\n",
       "      <td>003100</td>\n",
       "      <td>0.005540</td>\n",
       "      <td>0.005540</td>\n",
       "      <td>-0.016620</td>\n",
       "      <td>-0.016620</td>\n",
       "      <td>-0.003878</td>\n",
       "      <td>-0.005374</td>\n",
       "      <td>0.021939</td>\n",
       "      <td>0.001496</td>\n",
       "      <td>...</td>\n",
       "      <td>1.19260</td>\n",
       "      <td>10.8640</td>\n",
       "      <td>78.666</td>\n",
       "      <td>4.9959</td>\n",
       "      <td>1.22210</td>\n",
       "      <td>21.6230</td>\n",
       "      <td>11.8380</td>\n",
       "      <td>0.782710</td>\n",
       "      <td>0.997120</td>\n",
       "      <td>0.00</td>\n",
       "    </tr>\n",
       "    <tr>\n",
       "      <th>...</th>\n",
       "      <td>...</td>\n",
       "      <td>...</td>\n",
       "      <td>...</td>\n",
       "      <td>...</td>\n",
       "      <td>...</td>\n",
       "      <td>...</td>\n",
       "      <td>...</td>\n",
       "      <td>...</td>\n",
       "      <td>...</td>\n",
       "      <td>...</td>\n",
       "      <td>...</td>\n",
       "      <td>...</td>\n",
       "      <td>...</td>\n",
       "      <td>...</td>\n",
       "      <td>...</td>\n",
       "      <td>...</td>\n",
       "      <td>...</td>\n",
       "      <td>...</td>\n",
       "      <td>...</td>\n",
       "      <td>...</td>\n",
       "      <td>...</td>\n",
       "    </tr>\n",
       "    <tr>\n",
       "      <th>513373</th>\n",
       "      <td>20151020</td>\n",
       "      <td>033290</td>\n",
       "      <td>0.000000</td>\n",
       "      <td>0.035032</td>\n",
       "      <td>-0.006369</td>\n",
       "      <td>0.017516</td>\n",
       "      <td>0.021656</td>\n",
       "      <td>0.006688</td>\n",
       "      <td>0.006306</td>\n",
       "      <td>-0.168025</td>\n",
       "      <td>...</td>\n",
       "      <td>0.83412</td>\n",
       "      <td>-5.7187</td>\n",
       "      <td>29.634</td>\n",
       "      <td>10.2950</td>\n",
       "      <td>0.26396</td>\n",
       "      <td>15.4410</td>\n",
       "      <td>10.2670</td>\n",
       "      <td>0.276890</td>\n",
       "      <td>-0.604720</td>\n",
       "      <td>0.00</td>\n",
       "    </tr>\n",
       "    <tr>\n",
       "      <th>564497</th>\n",
       "      <td>20150722</td>\n",
       "      <td>083550</td>\n",
       "      <td>-0.005558</td>\n",
       "      <td>0.013254</td>\n",
       "      <td>-0.046601</td>\n",
       "      <td>0.013254</td>\n",
       "      <td>-0.005173</td>\n",
       "      <td>0.085785</td>\n",
       "      <td>0.017914</td>\n",
       "      <td>-0.104425</td>\n",
       "      <td>...</td>\n",
       "      <td>0.95995</td>\n",
       "      <td>2.6693</td>\n",
       "      <td>55.011</td>\n",
       "      <td>11.0730</td>\n",
       "      <td>0.40023</td>\n",
       "      <td>-94.9020</td>\n",
       "      <td>13.4330</td>\n",
       "      <td>0.473430</td>\n",
       "      <td>0.043338</td>\n",
       "      <td>3.88</td>\n",
       "    </tr>\n",
       "    <tr>\n",
       "      <th>541804</th>\n",
       "      <td>20150519</td>\n",
       "      <td>001130</td>\n",
       "      <td>0.000000</td>\n",
       "      <td>0.000000</td>\n",
       "      <td>-0.037975</td>\n",
       "      <td>-0.012658</td>\n",
       "      <td>0.012658</td>\n",
       "      <td>0.038101</td>\n",
       "      <td>-0.038400</td>\n",
       "      <td>-0.101671</td>\n",
       "      <td>...</td>\n",
       "      <td>1.00390</td>\n",
       "      <td>14.6700</td>\n",
       "      <td>70.248</td>\n",
       "      <td>7.8521</td>\n",
       "      <td>1.40850</td>\n",
       "      <td>35.5280</td>\n",
       "      <td>21.5650</td>\n",
       "      <td>0.789560</td>\n",
       "      <td>0.800960</td>\n",
       "      <td>-4.05</td>\n",
       "    </tr>\n",
       "    <tr>\n",
       "      <th>680109</th>\n",
       "      <td>20150716</td>\n",
       "      <td>086520</td>\n",
       "      <td>0.000000</td>\n",
       "      <td>0.077254</td>\n",
       "      <td>-0.029063</td>\n",
       "      <td>-0.019425</td>\n",
       "      <td>-0.051423</td>\n",
       "      <td>-0.107043</td>\n",
       "      <td>-0.148918</td>\n",
       "      <td>-0.166237</td>\n",
       "      <td>...</td>\n",
       "      <td>0.93442</td>\n",
       "      <td>-5.3801</td>\n",
       "      <td>54.132</td>\n",
       "      <td>10.7000</td>\n",
       "      <td>0.14475</td>\n",
       "      <td>103.9100</td>\n",
       "      <td>21.7210</td>\n",
       "      <td>0.075171</td>\n",
       "      <td>-1.161500</td>\n",
       "      <td>-0.55</td>\n",
       "    </tr>\n",
       "    <tr>\n",
       "      <th>305425</th>\n",
       "      <td>20140917</td>\n",
       "      <td>067160</td>\n",
       "      <td>0.003509</td>\n",
       "      <td>0.021053</td>\n",
       "      <td>-0.008772</td>\n",
       "      <td>0.005263</td>\n",
       "      <td>-0.002105</td>\n",
       "      <td>-0.022281</td>\n",
       "      <td>-0.050596</td>\n",
       "      <td>-0.115333</td>\n",
       "      <td>...</td>\n",
       "      <td>1.10370</td>\n",
       "      <td>11.7440</td>\n",
       "      <td>77.598</td>\n",
       "      <td>11.0900</td>\n",
       "      <td>0.79342</td>\n",
       "      <td>83.3110</td>\n",
       "      <td>17.8050</td>\n",
       "      <td>0.773700</td>\n",
       "      <td>0.884250</td>\n",
       "      <td>-0.48</td>\n",
       "    </tr>\n",
       "  </tbody>\n",
       "</table>\n",
       "<p>799635 rows × 823 columns</p>\n",
       "</div>"
      ],
      "text/plain": [
       "            date    code  D-10_open  D-10_high  D-10_low  D-10_close  \\\n",
       "397928  20141111  094940   0.007557   0.032242  0.007557    0.029723   \n",
       "347410  20140108  052270   0.013554   0.022590  0.000000    0.000000   \n",
       "459109  20140305  056360  -0.001302   0.007812 -0.024740    0.002604   \n",
       "565355  20150907  140910   0.009823   0.009823 -0.021562    0.009823   \n",
       "346801  20140630  003100   0.005540   0.005540 -0.016620   -0.016620   \n",
       "...          ...     ...        ...        ...       ...         ...   \n",
       "513373  20151020  033290   0.000000   0.035032 -0.006369    0.017516   \n",
       "564497  20150722  083550  -0.005558   0.013254 -0.046601    0.013254   \n",
       "541804  20150519  001130   0.000000   0.000000 -0.037975   -0.012658   \n",
       "680109  20150716  086520   0.000000   0.077254 -0.029063   -0.019425   \n",
       "305425  20140917  067160   0.003509   0.021053 -0.008772    0.005263   \n",
       "\n",
       "        D-10_MA5  D-10_MA20  D-10_MA60  D-10_MA120  ...  D-1_VIpos  D-1_ROC  \\\n",
       "397928 -0.005139   0.039144   0.032343    0.113249  ...    1.06060   7.5560   \n",
       "347410 -0.000301   0.197666   0.324518    0.380377  ...    0.73558 -12.7030   \n",
       "459109  0.019271   0.022344  -0.066380   -0.074818  ...    1.17420   4.6541   \n",
       "565355  0.010541   0.046215   0.064590    0.116842  ...    1.02380   5.5991   \n",
       "346801 -0.003878  -0.005374   0.021939    0.001496  ...    1.19260  10.8640   \n",
       "...          ...        ...        ...         ...  ...        ...      ...   \n",
       "513373  0.021656   0.006688   0.006306   -0.168025  ...    0.83412  -5.7187   \n",
       "564497 -0.005173   0.085785   0.017914   -0.104425  ...    0.95995   2.6693   \n",
       "541804  0.012658   0.038101  -0.038400   -0.101671  ...    1.00390  14.6700   \n",
       "680109 -0.051423  -0.107043  -0.148918   -0.166237  ...    0.93442  -5.3801   \n",
       "305425 -0.002105  -0.022281  -0.050596   -0.115333  ...    1.10370  11.7440   \n",
       "\n",
       "        D-1_MFI  D-1_KCW  D-1_BBP   D-1_KST  D-1_DCW  D-1_SRSID  D-1_PPOhist  \\\n",
       "397928   37.059   7.1012  0.59287    8.0378   7.2768   0.831900     0.159820   \n",
       "347410   23.721   9.9397  0.15670 -250.9800  14.6330   0.304010    -0.701580   \n",
       "459109   72.994   7.0364  0.86086   61.0270  13.2350   0.957520     0.473800   \n",
       "565355   70.885   9.6143  0.63884  -17.6620  15.6040   0.838580     0.575760   \n",
       "346801   78.666   4.9959  1.22210   21.6230  11.8380   0.782710     0.997120   \n",
       "...         ...      ...      ...       ...      ...        ...          ...   \n",
       "513373   29.634  10.2950  0.26396   15.4410  10.2670   0.276890    -0.604720   \n",
       "564497   55.011  11.0730  0.40023  -94.9020  13.4330   0.473430     0.043338   \n",
       "541804   70.248   7.8521  1.40850   35.5280  21.5650   0.789560     0.800960   \n",
       "680109   54.132  10.7000  0.14475  103.9100  21.7210   0.075171    -1.161500   \n",
       "305425   77.598  11.0900  0.79342   83.3110  17.8050   0.773700     0.884250   \n",
       "\n",
       "        NextChange  \n",
       "397928       -0.24  \n",
       "347410        1.69  \n",
       "459109        2.64  \n",
       "565355        0.00  \n",
       "346801        0.00  \n",
       "...            ...  \n",
       "513373        0.00  \n",
       "564497        3.88  \n",
       "541804       -4.05  \n",
       "680109       -0.55  \n",
       "305425       -0.48  \n",
       "\n",
       "[799635 rows x 823 columns]"
      ]
     },
     "execution_count": 11,
     "metadata": {},
     "output_type": "execute_result"
    },
    {
     "data": {
      "text/html": [
       "<div>\n",
       "<style scoped>\n",
       "    .dataframe tbody tr th:only-of-type {\n",
       "        vertical-align: middle;\n",
       "    }\n",
       "\n",
       "    .dataframe tbody tr th {\n",
       "        vertical-align: top;\n",
       "    }\n",
       "\n",
       "    .dataframe thead th {\n",
       "        text-align: right;\n",
       "    }\n",
       "</style>\n",
       "<table border=\"1\" class=\"dataframe\">\n",
       "  <thead>\n",
       "    <tr style=\"text-align: right;\">\n",
       "      <th></th>\n",
       "      <th>date</th>\n",
       "      <th>code</th>\n",
       "      <th>D-10_open</th>\n",
       "      <th>D-10_high</th>\n",
       "      <th>D-10_low</th>\n",
       "      <th>D-10_close</th>\n",
       "      <th>D-10_MA5</th>\n",
       "      <th>D-10_MA20</th>\n",
       "      <th>D-10_MA60</th>\n",
       "      <th>D-10_MA120</th>\n",
       "      <th>...</th>\n",
       "      <th>D-1_VIpos</th>\n",
       "      <th>D-1_ROC</th>\n",
       "      <th>D-1_MFI</th>\n",
       "      <th>D-1_KCW</th>\n",
       "      <th>D-1_BBP</th>\n",
       "      <th>D-1_KST</th>\n",
       "      <th>D-1_DCW</th>\n",
       "      <th>D-1_SRSID</th>\n",
       "      <th>D-1_PPOhist</th>\n",
       "      <th>NextChange</th>\n",
       "    </tr>\n",
       "  </thead>\n",
       "  <tbody>\n",
       "    <tr>\n",
       "      <th>864915</th>\n",
       "      <td>20161111</td>\n",
       "      <td>124500</td>\n",
       "      <td>0.000000</td>\n",
       "      <td>0.023901</td>\n",
       "      <td>-0.100939</td>\n",
       "      <td>-0.036705</td>\n",
       "      <td>0.004055</td>\n",
       "      <td>0.075822</td>\n",
       "      <td>0.216539</td>\n",
       "      <td>0.160478</td>\n",
       "      <td>...</td>\n",
       "      <td>0.80723</td>\n",
       "      <td>-11.5460</td>\n",
       "      <td>19.228</td>\n",
       "      <td>11.6110</td>\n",
       "      <td>0.187440</td>\n",
       "      <td>-145.290</td>\n",
       "      <td>29.7480</td>\n",
       "      <td>0.276430</td>\n",
       "      <td>-0.75549</td>\n",
       "      <td>0.31</td>\n",
       "    </tr>\n",
       "    <tr>\n",
       "      <th>868088</th>\n",
       "      <td>20160219</td>\n",
       "      <td>108230</td>\n",
       "      <td>0.000000</td>\n",
       "      <td>0.025931</td>\n",
       "      <td>-0.014850</td>\n",
       "      <td>0.025931</td>\n",
       "      <td>-0.014473</td>\n",
       "      <td>-0.065280</td>\n",
       "      <td>0.068823</td>\n",
       "      <td>0.058043</td>\n",
       "      <td>...</td>\n",
       "      <td>1.16380</td>\n",
       "      <td>7.0725</td>\n",
       "      <td>71.661</td>\n",
       "      <td>8.3316</td>\n",
       "      <td>0.928660</td>\n",
       "      <td>55.227</td>\n",
       "      <td>14.6770</td>\n",
       "      <td>0.742970</td>\n",
       "      <td>1.18560</td>\n",
       "      <td>-1.74</td>\n",
       "    </tr>\n",
       "    <tr>\n",
       "      <th>940832</th>\n",
       "      <td>20160107</td>\n",
       "      <td>053110</td>\n",
       "      <td>0.016277</td>\n",
       "      <td>0.016277</td>\n",
       "      <td>-0.030519</td>\n",
       "      <td>-0.024415</td>\n",
       "      <td>0.009156</td>\n",
       "      <td>0.050051</td>\n",
       "      <td>-0.043795</td>\n",
       "      <td>-0.061211</td>\n",
       "      <td>...</td>\n",
       "      <td>0.75231</td>\n",
       "      <td>-11.6400</td>\n",
       "      <td>21.798</td>\n",
       "      <td>10.4130</td>\n",
       "      <td>0.029671</td>\n",
       "      <td>-56.380</td>\n",
       "      <td>13.7710</td>\n",
       "      <td>0.095106</td>\n",
       "      <td>-1.43160</td>\n",
       "      <td>1.95</td>\n",
       "    </tr>\n",
       "    <tr>\n",
       "      <th>981490</th>\n",
       "      <td>20160808</td>\n",
       "      <td>111820</td>\n",
       "      <td>-0.004796</td>\n",
       "      <td>0.023979</td>\n",
       "      <td>-0.004796</td>\n",
       "      <td>0.009592</td>\n",
       "      <td>0.000026</td>\n",
       "      <td>0.007466</td>\n",
       "      <td>0.035036</td>\n",
       "      <td>0.105418</td>\n",
       "      <td>...</td>\n",
       "      <td>1.05710</td>\n",
       "      <td>9.1873</td>\n",
       "      <td>70.538</td>\n",
       "      <td>10.0260</td>\n",
       "      <td>0.766510</td>\n",
       "      <td>57.114</td>\n",
       "      <td>21.0850</td>\n",
       "      <td>0.392540</td>\n",
       "      <td>0.46186</td>\n",
       "      <td>8.41</td>\n",
       "    </tr>\n",
       "    <tr>\n",
       "      <th>1055788</th>\n",
       "      <td>20161005</td>\n",
       "      <td>114450</td>\n",
       "      <td>0.000000</td>\n",
       "      <td>0.011450</td>\n",
       "      <td>-0.017176</td>\n",
       "      <td>0.000000</td>\n",
       "      <td>-0.021374</td>\n",
       "      <td>0.022137</td>\n",
       "      <td>0.178244</td>\n",
       "      <td>0.212080</td>\n",
       "      <td>...</td>\n",
       "      <td>1.07380</td>\n",
       "      <td>2.7723</td>\n",
       "      <td>57.365</td>\n",
       "      <td>6.5471</td>\n",
       "      <td>0.370660</td>\n",
       "      <td>-78.095</td>\n",
       "      <td>7.5089</td>\n",
       "      <td>0.704380</td>\n",
       "      <td>0.56566</td>\n",
       "      <td>1.93</td>\n",
       "    </tr>\n",
       "    <tr>\n",
       "      <th>...</th>\n",
       "      <td>...</td>\n",
       "      <td>...</td>\n",
       "      <td>...</td>\n",
       "      <td>...</td>\n",
       "      <td>...</td>\n",
       "      <td>...</td>\n",
       "      <td>...</td>\n",
       "      <td>...</td>\n",
       "      <td>...</td>\n",
       "      <td>...</td>\n",
       "      <td>...</td>\n",
       "      <td>...</td>\n",
       "      <td>...</td>\n",
       "      <td>...</td>\n",
       "      <td>...</td>\n",
       "      <td>...</td>\n",
       "      <td>...</td>\n",
       "      <td>...</td>\n",
       "      <td>...</td>\n",
       "      <td>...</td>\n",
       "      <td>...</td>\n",
       "    </tr>\n",
       "    <tr>\n",
       "      <th>899397</th>\n",
       "      <td>20161212</td>\n",
       "      <td>002785</td>\n",
       "      <td>-0.006298</td>\n",
       "      <td>0.013777</td>\n",
       "      <td>-0.050187</td>\n",
       "      <td>-0.050187</td>\n",
       "      <td>0.005235</td>\n",
       "      <td>0.011179</td>\n",
       "      <td>-0.021649</td>\n",
       "      <td>-0.119917</td>\n",
       "      <td>...</td>\n",
       "      <td>0.90029</td>\n",
       "      <td>-9.3511</td>\n",
       "      <td>63.884</td>\n",
       "      <td>11.2870</td>\n",
       "      <td>0.349690</td>\n",
       "      <td>-34.042</td>\n",
       "      <td>14.3760</td>\n",
       "      <td>0.051159</td>\n",
       "      <td>-0.64969</td>\n",
       "      <td>2.41</td>\n",
       "    </tr>\n",
       "    <tr>\n",
       "      <th>800754</th>\n",
       "      <td>20160829</td>\n",
       "      <td>065560</td>\n",
       "      <td>0.001456</td>\n",
       "      <td>0.001456</td>\n",
       "      <td>-0.026504</td>\n",
       "      <td>-0.004417</td>\n",
       "      <td>-0.004709</td>\n",
       "      <td>0.045386</td>\n",
       "      <td>0.028300</td>\n",
       "      <td>0.003301</td>\n",
       "      <td>...</td>\n",
       "      <td>0.87835</td>\n",
       "      <td>-5.9851</td>\n",
       "      <td>35.958</td>\n",
       "      <td>8.7871</td>\n",
       "      <td>-0.037540</td>\n",
       "      <td>-71.213</td>\n",
       "      <td>12.8090</td>\n",
       "      <td>0.024615</td>\n",
       "      <td>-0.69595</td>\n",
       "      <td>-1.91</td>\n",
       "    </tr>\n",
       "    <tr>\n",
       "      <th>912232</th>\n",
       "      <td>20161027</td>\n",
       "      <td>011300</td>\n",
       "      <td>0.000000</td>\n",
       "      <td>0.031963</td>\n",
       "      <td>-0.022831</td>\n",
       "      <td>-0.013699</td>\n",
       "      <td>0.025571</td>\n",
       "      <td>0.021005</td>\n",
       "      <td>-0.015616</td>\n",
       "      <td>-0.040000</td>\n",
       "      <td>...</td>\n",
       "      <td>0.84076</td>\n",
       "      <td>-8.0508</td>\n",
       "      <td>36.043</td>\n",
       "      <td>8.2547</td>\n",
       "      <td>0.488110</td>\n",
       "      <td>-18.376</td>\n",
       "      <td>13.1300</td>\n",
       "      <td>0.071234</td>\n",
       "      <td>-0.51794</td>\n",
       "      <td>-4.61</td>\n",
       "    </tr>\n",
       "    <tr>\n",
       "      <th>805735</th>\n",
       "      <td>20160224</td>\n",
       "      <td>024720</td>\n",
       "      <td>-0.047855</td>\n",
       "      <td>-0.021452</td>\n",
       "      <td>-0.051155</td>\n",
       "      <td>-0.049505</td>\n",
       "      <td>-0.003300</td>\n",
       "      <td>-0.002558</td>\n",
       "      <td>0.006056</td>\n",
       "      <td>0.053432</td>\n",
       "      <td>...</td>\n",
       "      <td>0.59549</td>\n",
       "      <td>-29.7390</td>\n",
       "      <td>19.918</td>\n",
       "      <td>9.7627</td>\n",
       "      <td>0.176240</td>\n",
       "      <td>-211.730</td>\n",
       "      <td>43.0450</td>\n",
       "      <td>0.091073</td>\n",
       "      <td>-2.59820</td>\n",
       "      <td>4.07</td>\n",
       "    </tr>\n",
       "    <tr>\n",
       "      <th>947971</th>\n",
       "      <td>20160112</td>\n",
       "      <td>053280</td>\n",
       "      <td>0.007554</td>\n",
       "      <td>0.007554</td>\n",
       "      <td>-0.019115</td>\n",
       "      <td>0.000000</td>\n",
       "      <td>-0.004008</td>\n",
       "      <td>-0.037151</td>\n",
       "      <td>0.101834</td>\n",
       "      <td>0.245768</td>\n",
       "      <td>...</td>\n",
       "      <td>0.99351</td>\n",
       "      <td>-5.4262</td>\n",
       "      <td>68.293</td>\n",
       "      <td>10.1750</td>\n",
       "      <td>0.363470</td>\n",
       "      <td>-20.309</td>\n",
       "      <td>20.2550</td>\n",
       "      <td>0.665010</td>\n",
       "      <td>0.41666</td>\n",
       "      <td>1.12</td>\n",
       "    </tr>\n",
       "  </tbody>\n",
       "</table>\n",
       "<p>263593 rows × 823 columns</p>\n",
       "</div>"
      ],
      "text/plain": [
       "             date    code  D-10_open  D-10_high  D-10_low  D-10_close  \\\n",
       "864915   20161111  124500   0.000000   0.023901 -0.100939   -0.036705   \n",
       "868088   20160219  108230   0.000000   0.025931 -0.014850    0.025931   \n",
       "940832   20160107  053110   0.016277   0.016277 -0.030519   -0.024415   \n",
       "981490   20160808  111820  -0.004796   0.023979 -0.004796    0.009592   \n",
       "1055788  20161005  114450   0.000000   0.011450 -0.017176    0.000000   \n",
       "...           ...     ...        ...        ...       ...         ...   \n",
       "899397   20161212  002785  -0.006298   0.013777 -0.050187   -0.050187   \n",
       "800754   20160829  065560   0.001456   0.001456 -0.026504   -0.004417   \n",
       "912232   20161027  011300   0.000000   0.031963 -0.022831   -0.013699   \n",
       "805735   20160224  024720  -0.047855  -0.021452 -0.051155   -0.049505   \n",
       "947971   20160112  053280   0.007554   0.007554 -0.019115    0.000000   \n",
       "\n",
       "         D-10_MA5  D-10_MA20  D-10_MA60  D-10_MA120  ...  D-1_VIpos  D-1_ROC  \\\n",
       "864915   0.004055   0.075822   0.216539    0.160478  ...    0.80723 -11.5460   \n",
       "868088  -0.014473  -0.065280   0.068823    0.058043  ...    1.16380   7.0725   \n",
       "940832   0.009156   0.050051  -0.043795   -0.061211  ...    0.75231 -11.6400   \n",
       "981490   0.000026   0.007466   0.035036    0.105418  ...    1.05710   9.1873   \n",
       "1055788 -0.021374   0.022137   0.178244    0.212080  ...    1.07380   2.7723   \n",
       "...           ...        ...        ...         ...  ...        ...      ...   \n",
       "899397   0.005235   0.011179  -0.021649   -0.119917  ...    0.90029  -9.3511   \n",
       "800754  -0.004709   0.045386   0.028300    0.003301  ...    0.87835  -5.9851   \n",
       "912232   0.025571   0.021005  -0.015616   -0.040000  ...    0.84076  -8.0508   \n",
       "805735  -0.003300  -0.002558   0.006056    0.053432  ...    0.59549 -29.7390   \n",
       "947971  -0.004008  -0.037151   0.101834    0.245768  ...    0.99351  -5.4262   \n",
       "\n",
       "         D-1_MFI  D-1_KCW   D-1_BBP  D-1_KST  D-1_DCW  D-1_SRSID  D-1_PPOhist  \\\n",
       "864915    19.228  11.6110  0.187440 -145.290  29.7480   0.276430     -0.75549   \n",
       "868088    71.661   8.3316  0.928660   55.227  14.6770   0.742970      1.18560   \n",
       "940832    21.798  10.4130  0.029671  -56.380  13.7710   0.095106     -1.43160   \n",
       "981490    70.538  10.0260  0.766510   57.114  21.0850   0.392540      0.46186   \n",
       "1055788   57.365   6.5471  0.370660  -78.095   7.5089   0.704380      0.56566   \n",
       "...          ...      ...       ...      ...      ...        ...          ...   \n",
       "899397    63.884  11.2870  0.349690  -34.042  14.3760   0.051159     -0.64969   \n",
       "800754    35.958   8.7871 -0.037540  -71.213  12.8090   0.024615     -0.69595   \n",
       "912232    36.043   8.2547  0.488110  -18.376  13.1300   0.071234     -0.51794   \n",
       "805735    19.918   9.7627  0.176240 -211.730  43.0450   0.091073     -2.59820   \n",
       "947971    68.293  10.1750  0.363470  -20.309  20.2550   0.665010      0.41666   \n",
       "\n",
       "         NextChange  \n",
       "864915         0.31  \n",
       "868088        -1.74  \n",
       "940832         1.95  \n",
       "981490         8.41  \n",
       "1055788        1.93  \n",
       "...             ...  \n",
       "899397         2.41  \n",
       "800754        -1.91  \n",
       "912232        -4.61  \n",
       "805735         4.07  \n",
       "947971         1.12  \n",
       "\n",
       "[263593 rows x 823 columns]"
      ]
     },
     "execution_count": 11,
     "metadata": {},
     "output_type": "execute_result"
    }
   ],
   "source": [
    "# train test split test cell\n",
    "# X = d1221.iloc[:,2:-1] # 1221 데이터\n",
    "# y = d1221.iloc[:,-1]\n",
    "for enu, i in enumerate(slicing_dic):\n",
    "    slicing_dic[i][0],slicing_dic[i][1]\n",
    "    tmp_all = d1221[slicing_dic[i][0]:slicing_dic[i][1]].reset_index(drop = True) # 전체데이터\n",
    "    if enu>=1:\n",
    "        i, slicing_dic[i]\n",
    "        tmp_train = tmp_all[:-slicing_dic[i][2]]\n",
    "        tmp_test = tmp_all[-slicing_dic[i][2]:]\n",
    "        \n",
    "#         slicing_dic[i][1]-slicing_dic[i][0] # all과 결과 같아야함. #같음\n",
    "        'all',tmp_all.shape[0]\n",
    "        \n",
    "#         slicing_dic[i][1]-(slicing_dic[i][2]+slicing_dic[i][0]) # tr과 결과 같음\n",
    "        'tr',tmp_train.shape[0]\n",
    "#         tmp_train\n",
    "        'te',tmp_test.shape[0]\n",
    "#         tmp_test\n",
    "        # train끼리 idx 같아야 하므로\n",
    "        len_train = slicing_dic[i][1]-(slicing_dic[i][2]+slicing_dic[i][0]) # 혹은 tmp_train.shape[0]\n",
    "        len(list(range(len_train)))\n",
    "        train_idx = list(range(len_train))\n",
    "        random.shuffle(train_idx) # 자동으로 덮어쓰기\n",
    "\n",
    "        len_train_to_test = slicing_dic[i][1]-slicing_dic[i][0]\n",
    "        test_idx = list(range(len_train,len_train_to_test)) # +1 안해줘도 되는 거 위 cell에서 확인\n",
    "        len(test_idx)\n",
    "        random.shuffle(test_idx) # 자동으로 덮어쓰기\n",
    "\n",
    "        x_train = tmp_train.loc[train_idx]\n",
    "#         y_train = tmpy.iloc[train_idx]\n",
    "        x_test = tmp_test.loc[test_idx]\n",
    "#         y_test = tmpy.iloc[test_idx]\n",
    "        x_train\n",
    "        x_test\n",
    "        break"
   ]
  },
  {
   "cell_type": "code",
   "execution_count": null,
   "id": "bf020030",
   "metadata": {},
   "outputs": [],
   "source": []
  },
  {
   "cell_type": "code",
   "execution_count": 12,
   "id": "8c1dfdec",
   "metadata": {},
   "outputs": [],
   "source": [
    "results = []\n",
    "def my_regressor():\n",
    "    X = d1221.iloc[:,2:-1] # 1221 데이터\n",
    "    y = d1221.iloc[:,-1]\n",
    "    from sklearn.linear_model import LinearRegression # 일반 회귀 모델\n",
    "    from sklearn.linear_model import Ridge, Lasso, ElasticNet # Norm 규제 회귀 모델\n",
    "    from sklearn.linear_model import ARDRegression, BayesianRidge # 베이지안 회귀\n",
    "    from sklearn.tree import DecisionTreeRegressor\n",
    "    from sklearn.ensemble import RandomForestRegressor # decision tree 앙상블 모델, 배깅\n",
    "    from xgboost import XGBRegressor # decision tree 앙상블 모델, 부스팅\n",
    "    import lightgbm as lgb\n",
    "    from sklearn.model_selection import GridSearchCV\n",
    "#     from sklearn.model_selection import cross_val_score # model 검증\n",
    "    \n",
    "#     from sklearn.model_selection import StratifiedShuffleSplit\n",
    "    from sklearn.model_selection import ShuffleSplit\n",
    "    from sklearn.model_selection import cross_val_score\n",
    "    \n",
    "    from sklearn.dummy import DummyRegressor\n",
    "    from sklearn.metrics import mean_squared_error as mse # 모델 평가 지표 scoring (mse)\n",
    "    from sklearn.metrics import r2_score as r2\n",
    "    \n",
    "    import ast # convert string to function\n",
    "    \n",
    "    # seed 고정\n",
    "    user_seed = 0\n",
    "    random.seed(user_seed) # seed 고정\n",
    "    \n",
    "    # (같은 줄에 써놓은 애들끼리 하이퍼파리미터 구성 비슷하거나 같음)\n",
    "    linear = LinearRegression(n_jobs=16)\n",
    "    ridge, lasso, elasticnet = Ridge(), Lasso(alpha=0.01, max_iter=10, random_state=user_seed), ElasticNet(alpha=0.01, max_iter=10, random_state=user_seed)\n",
    "    # [lasso 학습시간 단축 하이퍼파라미터 참고](https://tensorflow.blog/%ED%8C%8C%EC%9D%B4%EC%8D%AC-%EB%A8%B8%EC%8B%A0%EB%9F%AC%EB%8B%9D/2-3-3-%EC%84%A0%ED%98%95-%EB%AA%A8%EB%8D%B8/comment-page-1/)\n",
    "    # [elastic net 참고](https://soobarkbar.tistory.com/30)\n",
    "    # elastic net은 큰 데이터 셋에서 잘 작동함. + ridge&lasso의 장점 모두 가짐.\n",
    "    # [모델훈련](https://taek98.tistory.com/15)\n",
    "    ardr_linear, bayesian_ridge = ARDRegression(verbose = True), BayesianRidge(verbose = True) # n_iter=10, \n",
    "    DecisionTree = DecisionTreeRegressor(max_depth = 10, random_state=user_seed)\n",
    "    random_forest = RandomForestRegressor(n_estimators=10,\n",
    "                                          n_jobs=16,\n",
    "                                          max_depth=10,\n",
    "                                          random_state=user_seed,\n",
    "                                          verbose=2,\n",
    "                                          max_leaf_nodes=4)\n",
    "    xgboost_linear = XGBRegressor(nthread=16)\n",
    "    gbm = lgb.LGBMRegressor(num_leaves=31,\n",
    "                            learning_rate=0.05,\n",
    "                            n_estimators=20)\n",
    "\n",
    "    dummy = DummyRegressor(strategy = 'mean')\n",
    "    \n",
    "    my_model_list = ['linear', 'ridge', 'lasso', 'elasticnet',\n",
    "                     'ardr_linear', 'bayesian_ridge',\n",
    "                     'xgboost_linear', 'gbm', 'dummy',\n",
    "                     'DecisionTree', 'random_forest'] # 오래 걸리는건 뒤로 뺌\n",
    "    \n",
    "    i = 0\n",
    "    ######################################################################### fitting\n",
    "    for model_nm in tqdm(my_model_list):\n",
    "        # cv\n",
    "        for slicer in slicing_dic:\n",
    "            tmpX = X[slicing_dic[slicer][0]:slicing_dic[slicer][1]].reset_index(drop = True)\n",
    "            tmpy = y[slicing_dic[slicer][0]:slicing_dic[slicer][1]].reset_index(drop = True)\n",
    "#             tmp_all = d1221[slicing_dic[slicer][0]:slicing_dic[slicer][1]].reset_index(drop = True) # 전체데이터\n",
    "\n",
    "            X_train = tmpX[:-slicing_dic[slicer][2]]\n",
    "            X_test = tmpX[-slicing_dic[slicer][2]:]\n",
    "            y_train = tmpy[:-slicing_dic[slicer][2]]\n",
    "            y_test = tmpy[-slicing_dic[slicer][2]:]\n",
    "            \n",
    "            # train끼리 idx 같아야 하므로\n",
    "            len_train = slicing_dic[slicer][1]-(slicing_dic[slicer][2]+slicing_dic[slicer][0]) # 혹은 tmp_train.shape[0]\n",
    "            len(list(range(len_train)))\n",
    "            train_idx = list(range(len_train))\n",
    "            random.shuffle(train_idx) # 자동으로 덮어쓰기\n",
    "\n",
    "            len_train_to_test = slicing_dic[slicer][1]-slicing_dic[slicer][0]\n",
    "            test_idx = list(range(len_train,len_train_to_test)) # +1 안해줘도 되는 거 위 cell에서 확인\n",
    "            len(test_idx)\n",
    "            random.shuffle(test_idx) # 자동으로 덮어쓰기\n",
    "            \n",
    "            X_train = X_train.loc[train_idx]\n",
    "            y_train = y_train.loc[train_idx]\n",
    "            X_test = X_test.loc[test_idx]\n",
    "            y_test = y_test.loc[test_idx]\n",
    "            ###########################################\n",
    "            y_train = np.array(y_train).reshape(-1,1) # 1열짜리로 만드는 것\n",
    "            y_test = np.array(y_test).reshape(-1,1)\n",
    "\n",
    "            ######################################################## cv를 위한 데이터 slicing 작업 끝\n",
    "\n",
    "            # fitting은 cv 안에 넣기\n",
    "            if model_nm == 'gbm':\n",
    "                model_ = eval(model_nm).fit(X_train, y_train,\n",
    "                                            eval_set=[(X_test, y_test)],\n",
    "                                            eval_metric='l1',\n",
    "                                            early_stopping_rounds=5)\n",
    "                y_pred_test = model_.predict(X_test, num_iteration=gbm.best_iteration_) # 예측\n",
    "\n",
    "            else:\n",
    "                model_ = eval(model_nm).fit(X_train, y_train)\n",
    "                y_pred_test = model_.predict(X_test) # 예측\n",
    "\n",
    "            mse_score = mse(y_test, y_pred_test)\n",
    "            r2_score = r2(y_test, y_pred_test)\n",
    "            cv_scores = cross_val_score(eval(model_nm), tmpX, tmpy, cv=7)\n",
    "\n",
    "            results.append([i, f'{model_nm}', mse_score, r2_score, cv_scores]) #[:str(model).index(\"(\")]\n",
    "            i+=1\n",
    "        ################################################################\n",
    "        print(results[-7:])\n",
    "    return results#score_dic#[0]"
   ]
  },
  {
   "cell_type": "markdown",
   "id": "f4282ee6",
   "metadata": {},
   "source": [
    "[scikit-learn page](https://scikit-learn.org/stable/modules/generated/sklearn.linear_model.BayesianRidge.html?highlight=bayesian#sklearn.linear_model.BayesianRidge)"
   ]
  },
  {
   "cell_type": "code",
   "execution_count": 13,
   "id": "71315a11",
   "metadata": {},
   "outputs": [
    {
     "name": "stderr",
     "output_type": "stream",
     "text": [
      "  0%|                                                    | 0/11 [09:46<?, ?it/s]\n"
     ]
    },
    {
     "ename": "KeyboardInterrupt",
     "evalue": "",
     "output_type": "error",
     "traceback": [
      "\u001b[0;31m---------------------------------------------------------------------------\u001b[0m",
      "\u001b[0;31mKeyboardInterrupt\u001b[0m                         Traceback (most recent call last)",
      "\u001b[0;32m/tmp/ipykernel_292263/1744894253.py\u001b[0m in \u001b[0;36m<module>\u001b[0;34m\u001b[0m\n\u001b[1;32m      1\u001b[0m \u001b[0;32mimport\u001b[0m \u001b[0mtime\u001b[0m\u001b[0;34m\u001b[0m\u001b[0;34m\u001b[0m\u001b[0m\n\u001b[1;32m      2\u001b[0m \u001b[0mstart\u001b[0m \u001b[0;34m=\u001b[0m \u001b[0mtime\u001b[0m\u001b[0;34m.\u001b[0m\u001b[0mtime\u001b[0m\u001b[0;34m(\u001b[0m\u001b[0;34m)\u001b[0m\u001b[0;34m\u001b[0m\u001b[0;34m\u001b[0m\u001b[0m\n\u001b[0;32m----> 3\u001b[0;31m \u001b[0m_\u001b[0m \u001b[0;34m=\u001b[0m \u001b[0mmy_regressor\u001b[0m\u001b[0;34m(\u001b[0m\u001b[0;34m)\u001b[0m\u001b[0;34m\u001b[0m\u001b[0;34m\u001b[0m\u001b[0m\n\u001b[0m\u001b[1;32m      4\u001b[0m \u001b[0mresults\u001b[0m\u001b[0;34m\u001b[0m\u001b[0;34m\u001b[0m\u001b[0m\n\u001b[1;32m      5\u001b[0m \u001b[0mtime\u001b[0m\u001b[0;34m.\u001b[0m\u001b[0mtime\u001b[0m\u001b[0;34m(\u001b[0m\u001b[0;34m)\u001b[0m\u001b[0;34m-\u001b[0m\u001b[0mstart\u001b[0m\u001b[0;34m\u001b[0m\u001b[0;34m\u001b[0m\u001b[0m\n",
      "\u001b[0;32m/tmp/ipykernel_292263/2360758497.py\u001b[0m in \u001b[0;36mmy_regressor\u001b[0;34m()\u001b[0m\n\u001b[1;32m    103\u001b[0m             \u001b[0mmse_score\u001b[0m \u001b[0;34m=\u001b[0m \u001b[0mmse\u001b[0m\u001b[0;34m(\u001b[0m\u001b[0my_test\u001b[0m\u001b[0;34m,\u001b[0m \u001b[0my_pred_test\u001b[0m\u001b[0;34m)\u001b[0m\u001b[0;34m\u001b[0m\u001b[0;34m\u001b[0m\u001b[0m\n\u001b[1;32m    104\u001b[0m             \u001b[0mr2_score\u001b[0m \u001b[0;34m=\u001b[0m \u001b[0mr2\u001b[0m\u001b[0;34m(\u001b[0m\u001b[0my_test\u001b[0m\u001b[0;34m,\u001b[0m \u001b[0my_pred_test\u001b[0m\u001b[0;34m)\u001b[0m\u001b[0;34m\u001b[0m\u001b[0;34m\u001b[0m\u001b[0m\n\u001b[0;32m--> 105\u001b[0;31m             \u001b[0mcv_scores\u001b[0m \u001b[0;34m=\u001b[0m \u001b[0mcross_val_score\u001b[0m\u001b[0;34m(\u001b[0m\u001b[0meval\u001b[0m\u001b[0;34m(\u001b[0m\u001b[0mmodel_nm\u001b[0m\u001b[0;34m)\u001b[0m\u001b[0;34m,\u001b[0m \u001b[0mtmpX\u001b[0m\u001b[0;34m,\u001b[0m \u001b[0mtmpy\u001b[0m\u001b[0;34m,\u001b[0m \u001b[0mcv\u001b[0m\u001b[0;34m=\u001b[0m\u001b[0;36m7\u001b[0m\u001b[0;34m)\u001b[0m\u001b[0;34m\u001b[0m\u001b[0;34m\u001b[0m\u001b[0m\n\u001b[0m\u001b[1;32m    106\u001b[0m \u001b[0;34m\u001b[0m\u001b[0m\n\u001b[1;32m    107\u001b[0m             \u001b[0mresults\u001b[0m\u001b[0;34m.\u001b[0m\u001b[0mappend\u001b[0m\u001b[0;34m(\u001b[0m\u001b[0;34m[\u001b[0m\u001b[0mi\u001b[0m\u001b[0;34m,\u001b[0m \u001b[0;34mf'{model_nm}'\u001b[0m\u001b[0;34m,\u001b[0m \u001b[0mmse_score\u001b[0m\u001b[0;34m,\u001b[0m \u001b[0mr2_score\u001b[0m\u001b[0;34m,\u001b[0m \u001b[0mcv_scores\u001b[0m\u001b[0;34m]\u001b[0m\u001b[0;34m)\u001b[0m \u001b[0;31m#[:str(model).index(\"(\")]\u001b[0m\u001b[0;34m\u001b[0m\u001b[0;34m\u001b[0m\u001b[0m\n",
      "\u001b[0;32m/package/anaconda3.8/lib/python3.8/site-packages/sklearn/model_selection/_validation.py\u001b[0m in \u001b[0;36mcross_val_score\u001b[0;34m(estimator, X, y, groups, scoring, cv, n_jobs, verbose, fit_params, pre_dispatch, error_score)\u001b[0m\n\u001b[1;32m    507\u001b[0m     \u001b[0mscorer\u001b[0m \u001b[0;34m=\u001b[0m \u001b[0mcheck_scoring\u001b[0m\u001b[0;34m(\u001b[0m\u001b[0mestimator\u001b[0m\u001b[0;34m,\u001b[0m \u001b[0mscoring\u001b[0m\u001b[0;34m=\u001b[0m\u001b[0mscoring\u001b[0m\u001b[0;34m)\u001b[0m\u001b[0;34m\u001b[0m\u001b[0;34m\u001b[0m\u001b[0m\n\u001b[1;32m    508\u001b[0m \u001b[0;34m\u001b[0m\u001b[0m\n\u001b[0;32m--> 509\u001b[0;31m     cv_results = cross_validate(\n\u001b[0m\u001b[1;32m    510\u001b[0m         \u001b[0mestimator\u001b[0m\u001b[0;34m=\u001b[0m\u001b[0mestimator\u001b[0m\u001b[0;34m,\u001b[0m\u001b[0;34m\u001b[0m\u001b[0;34m\u001b[0m\u001b[0m\n\u001b[1;32m    511\u001b[0m         \u001b[0mX\u001b[0m\u001b[0;34m=\u001b[0m\u001b[0mX\u001b[0m\u001b[0;34m,\u001b[0m\u001b[0;34m\u001b[0m\u001b[0;34m\u001b[0m\u001b[0m\n",
      "\u001b[0;32m/package/anaconda3.8/lib/python3.8/site-packages/sklearn/model_selection/_validation.py\u001b[0m in \u001b[0;36mcross_validate\u001b[0;34m(estimator, X, y, groups, scoring, cv, n_jobs, verbose, fit_params, pre_dispatch, return_train_score, return_estimator, error_score)\u001b[0m\n\u001b[1;32m    265\u001b[0m     \u001b[0;31m# independent, and that it is pickle-able.\u001b[0m\u001b[0;34m\u001b[0m\u001b[0;34m\u001b[0m\u001b[0;34m\u001b[0m\u001b[0m\n\u001b[1;32m    266\u001b[0m     \u001b[0mparallel\u001b[0m \u001b[0;34m=\u001b[0m \u001b[0mParallel\u001b[0m\u001b[0;34m(\u001b[0m\u001b[0mn_jobs\u001b[0m\u001b[0;34m=\u001b[0m\u001b[0mn_jobs\u001b[0m\u001b[0;34m,\u001b[0m \u001b[0mverbose\u001b[0m\u001b[0;34m=\u001b[0m\u001b[0mverbose\u001b[0m\u001b[0;34m,\u001b[0m \u001b[0mpre_dispatch\u001b[0m\u001b[0;34m=\u001b[0m\u001b[0mpre_dispatch\u001b[0m\u001b[0;34m)\u001b[0m\u001b[0;34m\u001b[0m\u001b[0;34m\u001b[0m\u001b[0m\n\u001b[0;32m--> 267\u001b[0;31m     results = parallel(\n\u001b[0m\u001b[1;32m    268\u001b[0m         delayed(_fit_and_score)(\n\u001b[1;32m    269\u001b[0m             \u001b[0mclone\u001b[0m\u001b[0;34m(\u001b[0m\u001b[0mestimator\u001b[0m\u001b[0;34m)\u001b[0m\u001b[0;34m,\u001b[0m\u001b[0;34m\u001b[0m\u001b[0;34m\u001b[0m\u001b[0m\n",
      "\u001b[0;32m/package/anaconda3.8/lib/python3.8/site-packages/joblib/parallel.py\u001b[0m in \u001b[0;36m__call__\u001b[0;34m(self, iterable)\u001b[0m\n\u001b[1;32m   1041\u001b[0m             \u001b[0;31m# remaining jobs.\u001b[0m\u001b[0;34m\u001b[0m\u001b[0;34m\u001b[0m\u001b[0;34m\u001b[0m\u001b[0m\n\u001b[1;32m   1042\u001b[0m             \u001b[0mself\u001b[0m\u001b[0;34m.\u001b[0m\u001b[0m_iterating\u001b[0m \u001b[0;34m=\u001b[0m \u001b[0;32mFalse\u001b[0m\u001b[0;34m\u001b[0m\u001b[0;34m\u001b[0m\u001b[0m\n\u001b[0;32m-> 1043\u001b[0;31m             \u001b[0;32mif\u001b[0m \u001b[0mself\u001b[0m\u001b[0;34m.\u001b[0m\u001b[0mdispatch_one_batch\u001b[0m\u001b[0;34m(\u001b[0m\u001b[0miterator\u001b[0m\u001b[0;34m)\u001b[0m\u001b[0;34m:\u001b[0m\u001b[0;34m\u001b[0m\u001b[0;34m\u001b[0m\u001b[0m\n\u001b[0m\u001b[1;32m   1044\u001b[0m                 \u001b[0mself\u001b[0m\u001b[0;34m.\u001b[0m\u001b[0m_iterating\u001b[0m \u001b[0;34m=\u001b[0m \u001b[0mself\u001b[0m\u001b[0;34m.\u001b[0m\u001b[0m_original_iterator\u001b[0m \u001b[0;32mis\u001b[0m \u001b[0;32mnot\u001b[0m \u001b[0;32mNone\u001b[0m\u001b[0;34m\u001b[0m\u001b[0;34m\u001b[0m\u001b[0m\n\u001b[1;32m   1045\u001b[0m \u001b[0;34m\u001b[0m\u001b[0m\n",
      "\u001b[0;32m/package/anaconda3.8/lib/python3.8/site-packages/joblib/parallel.py\u001b[0m in \u001b[0;36mdispatch_one_batch\u001b[0;34m(self, iterator)\u001b[0m\n\u001b[1;32m    859\u001b[0m                 \u001b[0;32mreturn\u001b[0m \u001b[0;32mFalse\u001b[0m\u001b[0;34m\u001b[0m\u001b[0;34m\u001b[0m\u001b[0m\n\u001b[1;32m    860\u001b[0m             \u001b[0;32melse\u001b[0m\u001b[0;34m:\u001b[0m\u001b[0;34m\u001b[0m\u001b[0;34m\u001b[0m\u001b[0m\n\u001b[0;32m--> 861\u001b[0;31m                 \u001b[0mself\u001b[0m\u001b[0;34m.\u001b[0m\u001b[0m_dispatch\u001b[0m\u001b[0;34m(\u001b[0m\u001b[0mtasks\u001b[0m\u001b[0;34m)\u001b[0m\u001b[0;34m\u001b[0m\u001b[0;34m\u001b[0m\u001b[0m\n\u001b[0m\u001b[1;32m    862\u001b[0m                 \u001b[0;32mreturn\u001b[0m \u001b[0;32mTrue\u001b[0m\u001b[0;34m\u001b[0m\u001b[0;34m\u001b[0m\u001b[0m\n\u001b[1;32m    863\u001b[0m \u001b[0;34m\u001b[0m\u001b[0m\n",
      "\u001b[0;32m/package/anaconda3.8/lib/python3.8/site-packages/joblib/parallel.py\u001b[0m in \u001b[0;36m_dispatch\u001b[0;34m(self, batch)\u001b[0m\n\u001b[1;32m    777\u001b[0m         \u001b[0;32mwith\u001b[0m \u001b[0mself\u001b[0m\u001b[0;34m.\u001b[0m\u001b[0m_lock\u001b[0m\u001b[0;34m:\u001b[0m\u001b[0;34m\u001b[0m\u001b[0;34m\u001b[0m\u001b[0m\n\u001b[1;32m    778\u001b[0m             \u001b[0mjob_idx\u001b[0m \u001b[0;34m=\u001b[0m \u001b[0mlen\u001b[0m\u001b[0;34m(\u001b[0m\u001b[0mself\u001b[0m\u001b[0;34m.\u001b[0m\u001b[0m_jobs\u001b[0m\u001b[0;34m)\u001b[0m\u001b[0;34m\u001b[0m\u001b[0;34m\u001b[0m\u001b[0m\n\u001b[0;32m--> 779\u001b[0;31m             \u001b[0mjob\u001b[0m \u001b[0;34m=\u001b[0m \u001b[0mself\u001b[0m\u001b[0;34m.\u001b[0m\u001b[0m_backend\u001b[0m\u001b[0;34m.\u001b[0m\u001b[0mapply_async\u001b[0m\u001b[0;34m(\u001b[0m\u001b[0mbatch\u001b[0m\u001b[0;34m,\u001b[0m \u001b[0mcallback\u001b[0m\u001b[0;34m=\u001b[0m\u001b[0mcb\u001b[0m\u001b[0;34m)\u001b[0m\u001b[0;34m\u001b[0m\u001b[0;34m\u001b[0m\u001b[0m\n\u001b[0m\u001b[1;32m    780\u001b[0m             \u001b[0;31m# A job can complete so quickly than its callback is\u001b[0m\u001b[0;34m\u001b[0m\u001b[0;34m\u001b[0m\u001b[0;34m\u001b[0m\u001b[0m\n\u001b[1;32m    781\u001b[0m             \u001b[0;31m# called before we get here, causing self._jobs to\u001b[0m\u001b[0;34m\u001b[0m\u001b[0;34m\u001b[0m\u001b[0;34m\u001b[0m\u001b[0m\n",
      "\u001b[0;32m/package/anaconda3.8/lib/python3.8/site-packages/joblib/_parallel_backends.py\u001b[0m in \u001b[0;36mapply_async\u001b[0;34m(self, func, callback)\u001b[0m\n\u001b[1;32m    206\u001b[0m     \u001b[0;32mdef\u001b[0m \u001b[0mapply_async\u001b[0m\u001b[0;34m(\u001b[0m\u001b[0mself\u001b[0m\u001b[0;34m,\u001b[0m \u001b[0mfunc\u001b[0m\u001b[0;34m,\u001b[0m \u001b[0mcallback\u001b[0m\u001b[0;34m=\u001b[0m\u001b[0;32mNone\u001b[0m\u001b[0;34m)\u001b[0m\u001b[0;34m:\u001b[0m\u001b[0;34m\u001b[0m\u001b[0;34m\u001b[0m\u001b[0m\n\u001b[1;32m    207\u001b[0m         \u001b[0;34m\"\"\"Schedule a func to be run\"\"\"\u001b[0m\u001b[0;34m\u001b[0m\u001b[0;34m\u001b[0m\u001b[0m\n\u001b[0;32m--> 208\u001b[0;31m         \u001b[0mresult\u001b[0m \u001b[0;34m=\u001b[0m \u001b[0mImmediateResult\u001b[0m\u001b[0;34m(\u001b[0m\u001b[0mfunc\u001b[0m\u001b[0;34m)\u001b[0m\u001b[0;34m\u001b[0m\u001b[0;34m\u001b[0m\u001b[0m\n\u001b[0m\u001b[1;32m    209\u001b[0m         \u001b[0;32mif\u001b[0m \u001b[0mcallback\u001b[0m\u001b[0;34m:\u001b[0m\u001b[0;34m\u001b[0m\u001b[0;34m\u001b[0m\u001b[0m\n\u001b[1;32m    210\u001b[0m             \u001b[0mcallback\u001b[0m\u001b[0;34m(\u001b[0m\u001b[0mresult\u001b[0m\u001b[0;34m)\u001b[0m\u001b[0;34m\u001b[0m\u001b[0;34m\u001b[0m\u001b[0m\n",
      "\u001b[0;32m/package/anaconda3.8/lib/python3.8/site-packages/joblib/_parallel_backends.py\u001b[0m in \u001b[0;36m__init__\u001b[0;34m(self, batch)\u001b[0m\n\u001b[1;32m    570\u001b[0m         \u001b[0;31m# Don't delay the application, to avoid keeping the input\u001b[0m\u001b[0;34m\u001b[0m\u001b[0;34m\u001b[0m\u001b[0;34m\u001b[0m\u001b[0m\n\u001b[1;32m    571\u001b[0m         \u001b[0;31m# arguments in memory\u001b[0m\u001b[0;34m\u001b[0m\u001b[0;34m\u001b[0m\u001b[0;34m\u001b[0m\u001b[0m\n\u001b[0;32m--> 572\u001b[0;31m         \u001b[0mself\u001b[0m\u001b[0;34m.\u001b[0m\u001b[0mresults\u001b[0m \u001b[0;34m=\u001b[0m \u001b[0mbatch\u001b[0m\u001b[0;34m(\u001b[0m\u001b[0;34m)\u001b[0m\u001b[0;34m\u001b[0m\u001b[0;34m\u001b[0m\u001b[0m\n\u001b[0m\u001b[1;32m    573\u001b[0m \u001b[0;34m\u001b[0m\u001b[0m\n\u001b[1;32m    574\u001b[0m     \u001b[0;32mdef\u001b[0m \u001b[0mget\u001b[0m\u001b[0;34m(\u001b[0m\u001b[0mself\u001b[0m\u001b[0;34m)\u001b[0m\u001b[0;34m:\u001b[0m\u001b[0;34m\u001b[0m\u001b[0;34m\u001b[0m\u001b[0m\n",
      "\u001b[0;32m/package/anaconda3.8/lib/python3.8/site-packages/joblib/parallel.py\u001b[0m in \u001b[0;36m__call__\u001b[0;34m(self)\u001b[0m\n\u001b[1;32m    260\u001b[0m         \u001b[0;31m# change the default number of processes to -1\u001b[0m\u001b[0;34m\u001b[0m\u001b[0;34m\u001b[0m\u001b[0;34m\u001b[0m\u001b[0m\n\u001b[1;32m    261\u001b[0m         \u001b[0;32mwith\u001b[0m \u001b[0mparallel_backend\u001b[0m\u001b[0;34m(\u001b[0m\u001b[0mself\u001b[0m\u001b[0;34m.\u001b[0m\u001b[0m_backend\u001b[0m\u001b[0;34m,\u001b[0m \u001b[0mn_jobs\u001b[0m\u001b[0;34m=\u001b[0m\u001b[0mself\u001b[0m\u001b[0;34m.\u001b[0m\u001b[0m_n_jobs\u001b[0m\u001b[0;34m)\u001b[0m\u001b[0;34m:\u001b[0m\u001b[0;34m\u001b[0m\u001b[0;34m\u001b[0m\u001b[0m\n\u001b[0;32m--> 262\u001b[0;31m             return [func(*args, **kwargs)\n\u001b[0m\u001b[1;32m    263\u001b[0m                     for func, args, kwargs in self.items]\n\u001b[1;32m    264\u001b[0m \u001b[0;34m\u001b[0m\u001b[0m\n",
      "\u001b[0;32m/package/anaconda3.8/lib/python3.8/site-packages/joblib/parallel.py\u001b[0m in \u001b[0;36m<listcomp>\u001b[0;34m(.0)\u001b[0m\n\u001b[1;32m    260\u001b[0m         \u001b[0;31m# change the default number of processes to -1\u001b[0m\u001b[0;34m\u001b[0m\u001b[0;34m\u001b[0m\u001b[0;34m\u001b[0m\u001b[0m\n\u001b[1;32m    261\u001b[0m         \u001b[0;32mwith\u001b[0m \u001b[0mparallel_backend\u001b[0m\u001b[0;34m(\u001b[0m\u001b[0mself\u001b[0m\u001b[0;34m.\u001b[0m\u001b[0m_backend\u001b[0m\u001b[0;34m,\u001b[0m \u001b[0mn_jobs\u001b[0m\u001b[0;34m=\u001b[0m\u001b[0mself\u001b[0m\u001b[0;34m.\u001b[0m\u001b[0m_n_jobs\u001b[0m\u001b[0;34m)\u001b[0m\u001b[0;34m:\u001b[0m\u001b[0;34m\u001b[0m\u001b[0;34m\u001b[0m\u001b[0m\n\u001b[0;32m--> 262\u001b[0;31m             return [func(*args, **kwargs)\n\u001b[0m\u001b[1;32m    263\u001b[0m                     for func, args, kwargs in self.items]\n\u001b[1;32m    264\u001b[0m \u001b[0;34m\u001b[0m\u001b[0m\n",
      "\u001b[0;32m/package/anaconda3.8/lib/python3.8/site-packages/sklearn/utils/fixes.py\u001b[0m in \u001b[0;36m__call__\u001b[0;34m(self, *args, **kwargs)\u001b[0m\n\u001b[1;32m    214\u001b[0m     \u001b[0;32mdef\u001b[0m \u001b[0m__call__\u001b[0m\u001b[0;34m(\u001b[0m\u001b[0mself\u001b[0m\u001b[0;34m,\u001b[0m \u001b[0;34m*\u001b[0m\u001b[0margs\u001b[0m\u001b[0;34m,\u001b[0m \u001b[0;34m**\u001b[0m\u001b[0mkwargs\u001b[0m\u001b[0;34m)\u001b[0m\u001b[0;34m:\u001b[0m\u001b[0;34m\u001b[0m\u001b[0;34m\u001b[0m\u001b[0m\n\u001b[1;32m    215\u001b[0m         \u001b[0;32mwith\u001b[0m \u001b[0mconfig_context\u001b[0m\u001b[0;34m(\u001b[0m\u001b[0;34m**\u001b[0m\u001b[0mself\u001b[0m\u001b[0;34m.\u001b[0m\u001b[0mconfig\u001b[0m\u001b[0;34m)\u001b[0m\u001b[0;34m:\u001b[0m\u001b[0;34m\u001b[0m\u001b[0;34m\u001b[0m\u001b[0m\n\u001b[0;32m--> 216\u001b[0;31m             \u001b[0;32mreturn\u001b[0m \u001b[0mself\u001b[0m\u001b[0;34m.\u001b[0m\u001b[0mfunction\u001b[0m\u001b[0;34m(\u001b[0m\u001b[0;34m*\u001b[0m\u001b[0margs\u001b[0m\u001b[0;34m,\u001b[0m \u001b[0;34m**\u001b[0m\u001b[0mkwargs\u001b[0m\u001b[0;34m)\u001b[0m\u001b[0;34m\u001b[0m\u001b[0;34m\u001b[0m\u001b[0m\n\u001b[0m\u001b[1;32m    217\u001b[0m \u001b[0;34m\u001b[0m\u001b[0m\n\u001b[1;32m    218\u001b[0m \u001b[0;34m\u001b[0m\u001b[0m\n",
      "\u001b[0;32m/package/anaconda3.8/lib/python3.8/site-packages/sklearn/model_selection/_validation.py\u001b[0m in \u001b[0;36m_fit_and_score\u001b[0;34m(estimator, X, y, scorer, train, test, verbose, parameters, fit_params, return_train_score, return_parameters, return_n_test_samples, return_times, return_estimator, split_progress, candidate_progress, error_score)\u001b[0m\n\u001b[1;32m    678\u001b[0m             \u001b[0mestimator\u001b[0m\u001b[0;34m.\u001b[0m\u001b[0mfit\u001b[0m\u001b[0;34m(\u001b[0m\u001b[0mX_train\u001b[0m\u001b[0;34m,\u001b[0m \u001b[0;34m**\u001b[0m\u001b[0mfit_params\u001b[0m\u001b[0;34m)\u001b[0m\u001b[0;34m\u001b[0m\u001b[0;34m\u001b[0m\u001b[0m\n\u001b[1;32m    679\u001b[0m         \u001b[0;32melse\u001b[0m\u001b[0;34m:\u001b[0m\u001b[0;34m\u001b[0m\u001b[0;34m\u001b[0m\u001b[0m\n\u001b[0;32m--> 680\u001b[0;31m             \u001b[0mestimator\u001b[0m\u001b[0;34m.\u001b[0m\u001b[0mfit\u001b[0m\u001b[0;34m(\u001b[0m\u001b[0mX_train\u001b[0m\u001b[0;34m,\u001b[0m \u001b[0my_train\u001b[0m\u001b[0;34m,\u001b[0m \u001b[0;34m**\u001b[0m\u001b[0mfit_params\u001b[0m\u001b[0;34m)\u001b[0m\u001b[0;34m\u001b[0m\u001b[0;34m\u001b[0m\u001b[0m\n\u001b[0m\u001b[1;32m    681\u001b[0m \u001b[0;34m\u001b[0m\u001b[0m\n\u001b[1;32m    682\u001b[0m     \u001b[0;32mexcept\u001b[0m \u001b[0mException\u001b[0m\u001b[0;34m:\u001b[0m\u001b[0;34m\u001b[0m\u001b[0;34m\u001b[0m\u001b[0m\n",
      "\u001b[0;32m/package/anaconda3.8/lib/python3.8/site-packages/sklearn/linear_model/_base.py\u001b[0m in \u001b[0;36mfit\u001b[0;34m(self, X, y, sample_weight)\u001b[0m\n\u001b[1;32m    716\u001b[0m                 \u001b[0mself\u001b[0m\u001b[0;34m.\u001b[0m\u001b[0m_residues\u001b[0m \u001b[0;34m=\u001b[0m \u001b[0mnp\u001b[0m\u001b[0;34m.\u001b[0m\u001b[0mvstack\u001b[0m\u001b[0;34m(\u001b[0m\u001b[0;34m[\u001b[0m\u001b[0mout\u001b[0m\u001b[0;34m[\u001b[0m\u001b[0;36m3\u001b[0m\u001b[0;34m]\u001b[0m \u001b[0;32mfor\u001b[0m \u001b[0mout\u001b[0m \u001b[0;32min\u001b[0m \u001b[0mouts\u001b[0m\u001b[0;34m]\u001b[0m\u001b[0;34m)\u001b[0m\u001b[0;34m\u001b[0m\u001b[0;34m\u001b[0m\u001b[0m\n\u001b[1;32m    717\u001b[0m         \u001b[0;32melse\u001b[0m\u001b[0;34m:\u001b[0m\u001b[0;34m\u001b[0m\u001b[0;34m\u001b[0m\u001b[0m\n\u001b[0;32m--> 718\u001b[0;31m             \u001b[0mself\u001b[0m\u001b[0;34m.\u001b[0m\u001b[0mcoef_\u001b[0m\u001b[0;34m,\u001b[0m \u001b[0mself\u001b[0m\u001b[0;34m.\u001b[0m\u001b[0m_residues\u001b[0m\u001b[0;34m,\u001b[0m \u001b[0mself\u001b[0m\u001b[0;34m.\u001b[0m\u001b[0mrank_\u001b[0m\u001b[0;34m,\u001b[0m \u001b[0mself\u001b[0m\u001b[0;34m.\u001b[0m\u001b[0msingular_\u001b[0m \u001b[0;34m=\u001b[0m \u001b[0mlinalg\u001b[0m\u001b[0;34m.\u001b[0m\u001b[0mlstsq\u001b[0m\u001b[0;34m(\u001b[0m\u001b[0mX\u001b[0m\u001b[0;34m,\u001b[0m \u001b[0my\u001b[0m\u001b[0;34m)\u001b[0m\u001b[0;34m\u001b[0m\u001b[0;34m\u001b[0m\u001b[0m\n\u001b[0m\u001b[1;32m    719\u001b[0m             \u001b[0mself\u001b[0m\u001b[0;34m.\u001b[0m\u001b[0mcoef_\u001b[0m \u001b[0;34m=\u001b[0m \u001b[0mself\u001b[0m\u001b[0;34m.\u001b[0m\u001b[0mcoef_\u001b[0m\u001b[0;34m.\u001b[0m\u001b[0mT\u001b[0m\u001b[0;34m\u001b[0m\u001b[0;34m\u001b[0m\u001b[0m\n\u001b[1;32m    720\u001b[0m \u001b[0;34m\u001b[0m\u001b[0m\n",
      "\u001b[0;32m/package/anaconda3.8/lib/python3.8/site-packages/scipy/linalg/basic.py\u001b[0m in \u001b[0;36mlstsq\u001b[0;34m(a, b, cond, overwrite_a, overwrite_b, check_finite, lapack_driver)\u001b[0m\n\u001b[1;32m   1202\u001b[0m             \u001b[0;32mif\u001b[0m \u001b[0mreal_data\u001b[0m\u001b[0;34m:\u001b[0m\u001b[0;34m\u001b[0m\u001b[0;34m\u001b[0m\u001b[0m\n\u001b[1;32m   1203\u001b[0m                 \u001b[0mlwork\u001b[0m\u001b[0;34m,\u001b[0m \u001b[0miwork\u001b[0m \u001b[0;34m=\u001b[0m \u001b[0m_compute_lwork\u001b[0m\u001b[0;34m(\u001b[0m\u001b[0mlapack_lwork\u001b[0m\u001b[0;34m,\u001b[0m \u001b[0mm\u001b[0m\u001b[0;34m,\u001b[0m \u001b[0mn\u001b[0m\u001b[0;34m,\u001b[0m \u001b[0mnrhs\u001b[0m\u001b[0;34m,\u001b[0m \u001b[0mcond\u001b[0m\u001b[0;34m)\u001b[0m\u001b[0;34m\u001b[0m\u001b[0;34m\u001b[0m\u001b[0m\n\u001b[0;32m-> 1204\u001b[0;31m                 x, s, rank, info = lapack_func(a1, b1, lwork,\n\u001b[0m\u001b[1;32m   1205\u001b[0m                                                iwork, cond, False, False)\n\u001b[1;32m   1206\u001b[0m             \u001b[0;32melse\u001b[0m\u001b[0;34m:\u001b[0m  \u001b[0;31m# complex data\u001b[0m\u001b[0;34m\u001b[0m\u001b[0;34m\u001b[0m\u001b[0m\n",
      "\u001b[0;31mKeyboardInterrupt\u001b[0m: "
     ]
    }
   ],
   "source": [
    "import time\n",
    "start = time.time()\n",
    "_ = my_regressor()\n",
    "results\n",
    "time.time()-start\n",
    "# lasso, elasocnet 하이퍼 파라미터 튜닝해주니 빨라짐. (max_iter=10으로 튜닝)\n",
    "# (ardr_linear, bayesian_ridge의 n_iter는 안하고 걍 vervose만 켬, 그냥 자체로 빠름)\n",
    "# xgbregressor nthread=16으로 튜닝해줌.\n",
    "# linear_regression 잘돼다 갑자기 안돼서 n_jobs =16으로 튜닝함\n",
    "# 순서대로 학습에\n",
    "# linear: 2분, (?? 9분 시작~)\n",
    "# ridge: 1분,\n",
    "# lasso: 1분(튜닝후),\n",
    "# elasicnet: 1분(튜닝후),\n",
    "# ardr_linear: 1분,\n",
    "# bayesian_ridge: 3분,\n",
    "# xgbregressor: "
   ]
  },
  {
   "cell_type": "markdown",
   "id": "53067bcc",
   "metadata": {},
   "source": [
    "# plot을 위한 준비"
   ]
  },
  {
   "cell_type": "code",
   "execution_count": null,
   "id": "6b591239",
   "metadata": {},
   "outputs": [],
   "source": [
    "dic = {}\n",
    "for i in results:\n",
    "    if i[1] not in dic: # dic.keys()라고 써도 됨.\n",
    "        dic[i[1]] = [i[2]]\n",
    "    else:\n",
    "        dic[i[1]].append(i[2])\n",
    "\n",
    "\n",
    "# import math\n",
    "# 리스트에 mean 함수가 내장이 안돼있다니...\n",
    "\n",
    "for i in dic.keys():\n",
    "    dic[i] = sum(dic[i])/len(dic[i])\n",
    "\n",
    "\n",
    "score_lst = sorted(dic.items(), key = lambda t : t[1]) #mse 작은 순으로 줄 세워짐.\n",
    "score_lst\n",
    "# dic.keys()"
   ]
  },
  {
   "cell_type": "code",
   "execution_count": null,
   "id": "aee9251a",
   "metadata": {},
   "outputs": [],
   "source": [
    "score_dic = {}\n",
    "for i in score_lst:\n",
    "    score_dic[i[0]] = i[1]"
   ]
  },
  {
   "cell_type": "code",
   "execution_count": null,
   "id": "f949f15a",
   "metadata": {},
   "outputs": [],
   "source": [
    "df = pd.DataFrame(score_dic.items(), columns=['key', 'value'])\n",
    "df"
   ]
  },
  {
   "cell_type": "code",
   "execution_count": null,
   "id": "2f3f7112",
   "metadata": {},
   "outputs": [],
   "source": [
    "df[df.key=='dummy']['value'].values\n",
    "f'dummy\\n: {dummy_mean[0]:.2f}'"
   ]
  },
  {
   "cell_type": "markdown",
   "id": "16e36424",
   "metadata": {},
   "source": [
    "# MSE plot"
   ]
  },
  {
   "cell_type": "code",
   "execution_count": null,
   "id": "d0fbbe83",
   "metadata": {},
   "outputs": [],
   "source": [
    "g = sns.barplot(x = 'key', y = 'value', data=df, capsize=.2)\n",
    "_ = g.set_xticks(range(len(df)))\n",
    "_ = g.set_xticklabels(g.get_xticklabels(), rotation=45)\n",
    "_ = g.set_xlabel(\"regression models\", fontsize = 15)\n",
    "_ = g.set_ylabel(\"Mean Squared Errors\", fontsize = 15)\n",
    "_ = g.set_ylim([0, 0.0155]) # ax.set(ylim=(0.4, 0.6))\n",
    "dummy_mean = df[df.key=='dummy']['value'].values\n",
    "_ = g.plot([-1,len(df)], [dummy_mean, dummy_mean], color = 'red')\n",
    "_ = g.annotate(text = f'dummy\\n: {dummy_mean[0]:.4f}', xy = (3, dummy_mean), xytext = (0.1, 0.0115),\n",
    "               arrowprops = dict(facecolor = 'red', shrink = 0),)\n",
    "\n",
    "\n",
    "val = df['value']\n",
    "cnt = 0\n",
    "for i in range(len(df)):\n",
    "    _ = g.text(cnt-0.27, 0.0007, f'{val[i]:.2f}')\n",
    "    cnt += 1\n",
    "\n",
    "plt.tight_layout()"
   ]
  },
  {
   "cell_type": "code",
   "execution_count": null,
   "id": "c7b57c6e",
   "metadata": {},
   "outputs": [],
   "source": []
  }
 ],
 "metadata": {
  "kernelspec": {
   "display_name": "Python 3 (ipykernel)",
   "language": "python",
   "name": "python3"
  },
  "language_info": {
   "codemirror_mode": {
    "name": "ipython",
    "version": 3
   },
   "file_extension": ".py",
   "mimetype": "text/x-python",
   "name": "python",
   "nbconvert_exporter": "python",
   "pygments_lexer": "ipython3",
   "version": "3.8.2"
  },
  "toc": {
   "base_numbering": 1,
   "nav_menu": {},
   "number_sections": true,
   "sideBar": true,
   "skip_h1_title": false,
   "title_cell": "Table of Contents",
   "title_sidebar": "Contents",
   "toc_cell": false,
   "toc_position": {},
   "toc_section_display": true,
   "toc_window_display": false
  }
 },
 "nbformat": 4,
 "nbformat_minor": 5
}
