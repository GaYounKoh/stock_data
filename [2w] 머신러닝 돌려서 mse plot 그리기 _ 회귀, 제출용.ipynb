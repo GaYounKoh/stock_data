{
 "cells": [
  {
   "cell_type": "markdown",
   "id": "e2844ae7",
   "metadata": {},
   "source": [
    "[dummy reg official doc](https://scikit-learn.org/stable/modules/generated/sklearn.dummy.DummyRegressor.html)"
   ]
  },
  {
   "cell_type": "markdown",
   "id": "7bb5792b",
   "metadata": {},
   "source": [
    "# library"
   ]
  },
  {
   "cell_type": "code",
   "execution_count": 1,
   "id": "1955e55d",
   "metadata": {},
   "outputs": [
    {
     "name": "stdout",
     "output_type": "stream",
     "text": [
      "matplotlib version: 3.4.2\n",
      "seaborn version: 0.11.1\n",
      "[PhysicalDevice(name='/physical_device:GPU:0', device_type='GPU'), PhysicalDevice(name='/physical_device:GPU:1', device_type='GPU')]\n"
     ]
    }
   ],
   "source": [
    "from sklearn.datasets import load_boston\n",
    "import pandas as pd\n",
    "import matplotlib.pyplot as plt\n",
    "import seaborn as sns\n",
    "\n",
    "from IPython.core.interactiveshell import InteractiveShell\n",
    "InteractiveShell.ast_node_interactivity = \"all\"\n",
    "\n",
    "import os\n",
    "import FinanceDataReader as fdr\n",
    "\n",
    "import datetime as dt\n",
    "\n",
    "import numpy as np\n",
    "\n",
    "from tqdm import tqdm #진행바\n",
    "from tqdm.notebook import tqdm\n",
    "\n",
    "\n",
    "#시각화 라이브러리\n",
    "import matplotlib as mpl\n",
    "import matplotlib.pyplot as plt\n",
    "print(\"matplotlib version: {}\". format(mpl.__version__))\n",
    "\n",
    "import seaborn as sns\n",
    "print(\"seaborn version: {}\". format(sns.__version__))\n",
    "\n",
    "\n",
    "#한글설정\n",
    "import matplotlib.font_manager as fm\n",
    "\n",
    "font_dirs = ['/usr/share/fonts/truetype/nanum', ]\n",
    "font_files = fm.findSystemFonts(fontpaths=font_dirs)\n",
    "\n",
    "for font_file in font_files:\n",
    "    fm.fontManager.addfont(font_file)\n",
    "    \n",
    "# 한글 출력을 위해서 폰트 옵션을 설정합니다.\n",
    "# \"axes.unicode_minus\" : 마이너스가 깨질 것을 방지\n",
    "\n",
    "sns.set(font=\"NanumBarunGothic\", \n",
    "        rc={\"axes.unicode_minus\":False},\n",
    "        style='darkgrid')\n",
    "\n",
    "\n",
    "\n",
    "import warnings\n",
    "warnings.filterwarnings('ignore')\n",
    "\n",
    "# GPU\n",
    "import tensorflow as tf\n",
    "\n",
    "#https://www.tensorflow.org/guide/gpu#allowing_gpu_memory_growth\n",
    "#프로세스의 요구량만큼 메모리 사용 설정\n",
    "gpus = tf.config.experimental.list_physical_devices('GPU')\n",
    "print(gpus)\n",
    "if gpus:\n",
    "    try:\n",
    "        for i in range(len(gpus)):\n",
    "            tf.config.experimental.set_memory_growth(gpus[i], True)\n",
    "    except RuntimeError as e:\n",
    "        # 프로그램 시작시에 메모리 증가가 설정되어야만 합니다\n",
    "        print(e)\n",
    "        \n",
    "#지정해서 쓰고 싶으면 model 쓸 때는 with 구문 안에 넣기"
   ]
  },
  {
   "cell_type": "code",
   "execution_count": 35,
   "id": "2aadc9ba",
   "metadata": {},
   "outputs": [],
   "source": [
    "# 회귀 모델 만들기\n",
    "# from sklearn.model_selection import ShuffleSplit\n",
    "# from sklearn import metrics\n",
    "\n",
    "# results = []\n",
    "\n",
    "# def my_regressor_test(model_):\n",
    "#     df_ = pd.read_csv('stock_2018_10days.csv')\n",
    "#     # data split X, y\n",
    "#     df_X = df_.iloc[:,2:-1]\n",
    "#     df_y = df_[['Next_Change']]\n",
    "    \n",
    "#     ################################################### 전처리 파이프라인\n",
    "#     from sklearn.pipeline import Pipeline\n",
    "#     from sklearn.impute import SimpleImputer\n",
    "#     from sklearn.preprocessing import MinMaxScaler\n",
    "\n",
    "#     my_pipeline = Pipeline([('mean_imputer', SimpleImputer(strategy = 'mean')),\n",
    "#                            ('mm_scaler', MinMaxScaler())])\n",
    "#     ##############################################################################\n",
    "    \n",
    "#     ######################################################################### fitting\n",
    "#     ss = ShuffleSplit(n_splits=5, test_size=0.2, random_state=0)\n",
    "#     for train_idx, test_idx in tqdm(ss.split(df_X,df_y)):\n",
    "#         x_train = df_.iloc[train_idx,2:-1]\n",
    "#         y_train = df_.iloc[train_idx,-1]\n",
    "#         x_test = df_.iloc[test_idx,2:-1]\n",
    "#         y_test = df_.iloc[test_idx,-1]\n",
    "        \n",
    "#         y_train = np.array(y_train).reshape(-1, 1)\n",
    "#         y_test = np.array(y_test).reshape(-1, 1)\n",
    "        \n",
    "#         # 전처리 (scaling)\n",
    "#         x_train_fit = my_pipeline.fit(x_train)\n",
    "#         x_train_pre = x_train_fit.transform(x_train)\n",
    "#         x_test_pre = x_train_fit.transform(x_test)\n",
    "        \n",
    "#         y_train_fit = my_pipeline.fit(y_train)\n",
    "#         y_train_pre = y_train_fit.transform(y_train)\n",
    "#         y_test_pre = y_train_fit.transform(y_test)\n",
    "#         ########################################################\n",
    "        \n",
    "#         _ = model_.fit(x_train_pre, y_train_pre)\n",
    "#         y_pred_test = model_.predict(x_test_pre) # 예측\n",
    "\n",
    "#         mse_score = metrics.mean_squared_error(y_test_pre, y_pred_test)\n",
    "\n",
    "#         results.append([i, f'{str(model_)[:str(model_).index(\"(\")]}', mse_score])\n",
    "#     return results\n",
    "\n",
    "\n",
    "results = []\n",
    "\n",
    "def my_regressor():\n",
    "    df_ = pd.read_csv('stock_2018_10days.csv')\n",
    "    # data split X, y\n",
    "    df_X = df_.iloc[:,2:-1]\n",
    "    df_y = df_['Next_Change']#.iloc[:,-1]\n",
    "    \n",
    "    from sklearn.linear_model import LinearRegression # 일반 회귀 모델\n",
    "    from sklearn.linear_model import Ridge, Lasso, ElasticNet # Norm 규제 회귀 모델\n",
    "    from sklearn.linear_model import ARDRegression, BayesianRidge # 베이지안 회귀\n",
    "    from sklearn.ensemble import RandomForestRegressor # decision tree 앙상블 모델, 배깅\n",
    "    from xgboost import XGBRegressor # decision tree 앙상블 모델, 부스팅\n",
    "#     from sklearn.model_selection import cross_val_score # model 검증\n",
    "    \n",
    "#     from sklearn.model_selection import StratifiedShuffleSplit\n",
    "    from sklearn.model_selection import ShuffleSplit\n",
    "    \n",
    "    from sklearn.dummy import DummyRegressor\n",
    "    from sklearn import metrics\n",
    "    \n",
    "    import ast # convert string to function\n",
    "    import numpy as np\n",
    "    \n",
    "    ################################################### 전처리 파이프라인\n",
    "    from sklearn.pipeline import Pipeline\n",
    "    from sklearn.impute import SimpleImputer\n",
    "    from sklearn.preprocessing import MinMaxScaler\n",
    "\n",
    "    my_pipeline = Pipeline([('mean_imputer', SimpleImputer(strategy = 'mean')),\n",
    "                           ('mm_scaler', MinMaxScaler())])\n",
    "    ##############################################################################\n",
    "\n",
    "    \n",
    "    linear = LinearRegression()\n",
    "    ridge, lasso, elasticnet = Ridge(), Lasso(), ElasticNet()\n",
    "    ardr_linear, baysian_ridge = ARDRegression(), BayesianRidge()\n",
    "    random_forest = RandomForestRegressor()\n",
    "    xgboost_linear = XGBRegressor()\n",
    "    dummy = DummyRegressor(strategy = 'mean')\n",
    "    \n",
    "    my_model_list = ['linear', 'ridge', 'lasso', 'elasticnet',\n",
    "                     'ardr_linear', 'baysian_ridge',\n",
    "                     'random_forest', 'xgboost_linear', 'dummy']\n",
    "    \n",
    "    ######################################################################### fitting\n",
    "    for model_nm in tqdm(my_model_list):\n",
    "        \n",
    "        # cv\n",
    "        ss = ShuffleSplit(n_splits=5, test_size=0.2, random_state=0)\n",
    "        for train_idx, test_idx in tqdm(ss.split(df_X,df_y)):\n",
    "            x_train = df_.iloc[train_idx,2:-1]\n",
    "            y_train = df_.iloc[train_idx,-1]\n",
    "            x_test = df_.iloc[test_idx,2:-1]\n",
    "            y_test = df_.iloc[test_idx,-1]\n",
    "\n",
    "            y_train = np.array(y_train).reshape(-1, 1)\n",
    "            y_test = np.array(y_test).reshape(-1, 1)\n",
    "\n",
    "            # 전처리 (scaling)\n",
    "            x_train_fit = my_pipeline.fit(x_train)\n",
    "            x_train_pre = x_train_fit.transform(x_train)\n",
    "            x_test_pre = x_train_fit.transform(x_test)\n",
    "\n",
    "            y_train_fit = my_pipeline.fit(y_train)\n",
    "            y_train_pre = y_train_fit.transform(y_train)\n",
    "            y_test_pre = y_train_fit.transform(y_test)\n",
    "            ########################################################\n",
    "        \n",
    "            # fitting\n",
    "            model_ = eval(model_nm).fit(x_train_pre, y_train_pre)\n",
    "            y_pred_test = model_.predict(x_test_pre) # 예측\n",
    "\n",
    "            mse_score = metrics.mean_squared_error(y_test_pre, y_pred_test)\n",
    "\n",
    "            results.append([i, f'{model_nm}', mse_score]) #[:str(model).index(\"(\")]\n",
    "            i+=1\n",
    "            #####################################################################################\n",
    "    \n",
    "    return results#score_dic#[0]"
   ]
  },
  {
   "cell_type": "code",
   "execution_count": 36,
   "id": "553c108f",
   "metadata": {},
   "outputs": [
    {
     "data": {
      "application/vnd.jupyter.widget-view+json": {
       "model_id": "d82c8bd26f2e439aa8b9c6f5ee9e2bd6",
       "version_major": 2,
       "version_minor": 0
      },
      "text/plain": [
       "  0%|          | 0/9 [00:00<?, ?it/s]"
      ]
     },
     "metadata": {},
     "output_type": "display_data"
    },
    {
     "data": {
      "application/vnd.jupyter.widget-view+json": {
       "model_id": "321ac839a2b040f48b86f778b9919c86",
       "version_major": 2,
       "version_minor": 0
      },
      "text/plain": [
       "0it [00:00, ?it/s]"
      ]
     },
     "metadata": {},
     "output_type": "display_data"
    },
    {
     "data": {
      "application/vnd.jupyter.widget-view+json": {
       "model_id": "713169f548c147cda0518bf8e1fc016f",
       "version_major": 2,
       "version_minor": 0
      },
      "text/plain": [
       "0it [00:00, ?it/s]"
      ]
     },
     "metadata": {},
     "output_type": "display_data"
    },
    {
     "data": {
      "application/vnd.jupyter.widget-view+json": {
       "model_id": "0e84d33410ff47ffbe2c54f79bd2862c",
       "version_major": 2,
       "version_minor": 0
      },
      "text/plain": [
       "0it [00:00, ?it/s]"
      ]
     },
     "metadata": {},
     "output_type": "display_data"
    },
    {
     "data": {
      "application/vnd.jupyter.widget-view+json": {
       "model_id": "8446ee028bce48e8b1ac39b258c55acf",
       "version_major": 2,
       "version_minor": 0
      },
      "text/plain": [
       "0it [00:00, ?it/s]"
      ]
     },
     "metadata": {},
     "output_type": "display_data"
    },
    {
     "data": {
      "application/vnd.jupyter.widget-view+json": {
       "model_id": "0425646fc542437a916bd78fcec3096d",
       "version_major": 2,
       "version_minor": 0
      },
      "text/plain": [
       "0it [00:00, ?it/s]"
      ]
     },
     "metadata": {},
     "output_type": "display_data"
    },
    {
     "data": {
      "application/vnd.jupyter.widget-view+json": {
       "model_id": "ea2598faf5fd4215ba07e5e18dcb610f",
       "version_major": 2,
       "version_minor": 0
      },
      "text/plain": [
       "0it [00:00, ?it/s]"
      ]
     },
     "metadata": {},
     "output_type": "display_data"
    },
    {
     "data": {
      "application/vnd.jupyter.widget-view+json": {
       "model_id": "d1f9802ff2c1495986bd5d5a4fed900f",
       "version_major": 2,
       "version_minor": 0
      },
      "text/plain": [
       "0it [00:00, ?it/s]"
      ]
     },
     "metadata": {},
     "output_type": "display_data"
    },
    {
     "data": {
      "application/vnd.jupyter.widget-view+json": {
       "model_id": "d23b9e7760a5483c958fc01de0cfee68",
       "version_major": 2,
       "version_minor": 0
      },
      "text/plain": [
       "0it [00:00, ?it/s]"
      ]
     },
     "metadata": {},
     "output_type": "display_data"
    },
    {
     "data": {
      "application/vnd.jupyter.widget-view+json": {
       "model_id": "4c6842b643084e31a951a7551df7e0d2",
       "version_major": 2,
       "version_minor": 0
      },
      "text/plain": [
       "0it [00:00, ?it/s]"
      ]
     },
     "metadata": {},
     "output_type": "display_data"
    },
    {
     "name": "stdout",
     "output_type": "stream",
     "text": [
      "CPU times: user 46min 48s, sys: 1h 5min 54s, total: 1h 52min 42s\n",
      "Wall time: 11min 50s\n"
     ]
    },
    {
     "data": {
      "text/plain": [
       "[[1, 'linear', 0.013767939672381671],\n",
       " [1, 'linear', 0.013282862263574028],\n",
       " [1, 'linear', 0.015694267581386038],\n",
       " [1, 'linear', 0.012663106091462513],\n",
       " [1, 'linear', 0.01993391299053145],\n",
       " [1, 'ridge', 0.009065373346015116],\n",
       " [1, 'ridge', 0.010358969722749599],\n",
       " [1, 'ridge', 0.010057654797502745],\n",
       " [1, 'ridge', 0.00852111864295493],\n",
       " [1, 'ridge', 0.007527980825662966],\n",
       " [1, 'lasso', 0.009031824658903703],\n",
       " [1, 'lasso', 0.009485004324329369],\n",
       " [1, 'lasso', 0.009299211006159235],\n",
       " [1, 'lasso', 0.007967362618079598],\n",
       " [1, 'lasso', 0.007380640387920638],\n",
       " [1, 'elasticnet', 0.009031824658903703],\n",
       " [1, 'elasticnet', 0.009485004324329369],\n",
       " [1, 'elasticnet', 0.009299211006159235],\n",
       " [1, 'elasticnet', 0.007967362618079598],\n",
       " [1, 'elasticnet', 0.007380640387920638],\n",
       " [1, 'ardr_linear', 0.009154059556662146],\n",
       " [1, 'ardr_linear', 0.01062892112101308],\n",
       " [1, 'ardr_linear', 0.010739074356123939],\n",
       " [1, 'ardr_linear', 0.008697960683390226],\n",
       " [1, 'ardr_linear', 0.007591710450454088],\n",
       " [1, 'baysian_ridge', 0.009037650519393644],\n",
       " [1, 'baysian_ridge', 0.009479126831035377],\n",
       " [1, 'baysian_ridge', 0.009302325771106726],\n",
       " [1, 'baysian_ridge', 0.007967629914036456],\n",
       " [1, 'baysian_ridge', 0.007362561987384167],\n",
       " [1, 'random_forest', 0.00938388400803705],\n",
       " [1, 'random_forest', 0.00964403386588122],\n",
       " [1, 'random_forest', 0.00951036472195199],\n",
       " [1, 'random_forest', 0.008935043642014619],\n",
       " [1, 'random_forest', 0.008378253256470727],\n",
       " [1, 'xgboost_linear', 0.010458291355952748],\n",
       " [1, 'xgboost_linear', 0.01118174338899054],\n",
       " [1, 'xgboost_linear', 0.010515756200019074],\n",
       " [1, 'xgboost_linear', 0.011156504816630204],\n",
       " [1, 'xgboost_linear', 0.010007808906903452],\n",
       " [1, 'dummy', 0.009031824658903703],\n",
       " [1, 'dummy', 0.009485004324329369],\n",
       " [1, 'dummy', 0.009299211006159235],\n",
       " [1, 'dummy', 0.007967362618079598],\n",
       " [1, 'dummy', 0.007380640387920638]]"
      ]
     },
     "execution_count": 36,
     "metadata": {},
     "output_type": "execute_result"
    }
   ],
   "source": [
    "%%time\n",
    "# # test\n",
    "# from sklearn.linear_model import LinearRegression # 일반 회귀 모델\n",
    "# linear = LinearRegression()\n",
    "# my_regressor_test(linear)\n",
    "\n",
    "_ = my_regressor()\n",
    "results"
   ]
  },
  {
   "cell_type": "code",
   "execution_count": 37,
   "id": "9e8b5fdb",
   "metadata": {},
   "outputs": [],
   "source": [
    "# results = [[1, 'linear', 0.013767939672381671],\n",
    "#  [2, 'linear', 0.013282862263574028],\n",
    "#  [3, 'linear', 0.015694267581386038],\n",
    "#  [4, 'linear', 0.012663106091462513],\n",
    "#  [5, 'linear', 0.01993391299053145],\n",
    "#  [1, 'ridge', 0.009065373346015116],\n",
    "#  [2, 'ridge', 0.010358969722749599],\n",
    "#  [3, 'ridge', 0.010057654797502745],\n",
    "#  [4, 'ridge', 0.00852111864295493],\n",
    "#  [5, 'ridge', 0.007527980825662966],\n",
    "#  [1, 'lasso', 0.009031824658903703],\n",
    "#  [2, 'lasso', 0.009485004324329369],\n",
    "#  [3, 'lasso', 0.009299211006159235],\n",
    "#  [4, 'lasso', 0.007967362618079598],\n",
    "#  [5, 'lasso', 0.007380640387920638],\n",
    "#  [1, 'elasticnet', 0.009031824658903703],\n",
    "#  [2, 'elasticnet', 0.009485004324329369],\n",
    "#  [3, 'elasticnet', 0.009299211006159235],\n",
    "#  [4, 'elasticnet', 0.007967362618079598],\n",
    "#  [5, 'elasticnet', 0.007380640387920638],\n",
    "#  [1, 'ardr_linear', 0.009154059556662146],\n",
    "#  [2, 'ardr_linear', 0.01062892112101308],\n",
    "#  [3, 'ardr_linear', 0.010739074356123939],\n",
    "#  [4, 'ardr_linear', 0.008697960683390226],\n",
    "#  [5, 'ardr_linear', 0.007591710450454088],\n",
    "#  [1, 'baysian_ridge', 0.009037650519393644],\n",
    "#  [2, 'baysian_ridge', 0.009479126831035377],\n",
    "#  [3, 'baysian_ridge', 0.009302325771106726],\n",
    "#  [4, 'baysian_ridge', 0.007967629914036456],\n",
    "#  [5, 'baysian_ridge', 0.007362561987384167],\n",
    "#  [1, 'random_forest', 0.00938388400803705],\n",
    "#  [2, 'random_forest', 0.00964403386588122],\n",
    "#  [3, 'random_forest', 0.00951036472195199],\n",
    "#  [4, 'random_forest', 0.008935043642014619],\n",
    "#  [5, 'random_forest', 0.008378253256470727],\n",
    "#  [1, 'xgboost_linear', 0.010458291355952748],\n",
    "#  [2, 'xgboost_linear', 0.01118174338899054],\n",
    "#  [3, 'xgboost_linear', 0.010515756200019074],\n",
    "#  [4, 'xgboost_linear', 0.011156504816630204],\n",
    "#  [5, 'xgboost_linear', 0.010007808906903452],\n",
    "#  [1, 'dummy', 0.009031824658903703],\n",
    "#  [2, 'dummy', 0.009485004324329369],\n",
    "#  [3, 'dummy', 0.009299211006159235],\n",
    "#  [4, 'dummy', 0.007967362618079598],\n",
    "#  [5, 'dummy', 0.007380640387920638]]\n"
   ]
  },
  {
   "cell_type": "code",
   "execution_count": 74,
   "id": "36f6799f",
   "metadata": {
    "scrolled": true
   },
   "outputs": [
    {
     "data": {
      "text/plain": [
       "[('baysian_ridge', 0.008629859004591272),\n",
       " ('lasso', 0.00863280859907851),\n",
       " ('elasticnet', 0.00863280859907851),\n",
       " ('dummy', 0.00863280859907851),\n",
       " ('ridge', 0.00910621946697707),\n",
       " ('random_forest', 0.009170315898871122),\n",
       " ('ardr_linear', 0.009362345233528694),\n",
       " ('xgboost_linear', 0.010664020933699203),\n",
       " ('linear', 0.015068417719867139)]"
      ]
     },
     "execution_count": 74,
     "metadata": {},
     "output_type": "execute_result"
    }
   ],
   "source": [
    "dic = {}\n",
    "for i in results:\n",
    "    if i[1] not in dic: # dic.keys()라고 써도 됨.\n",
    "        dic[i[1]] = [i[2]]\n",
    "    else:\n",
    "        dic[i[1]].append(i[2])\n",
    "\n",
    "\n",
    "# import math\n",
    "# 리스트에 mean 함수가 내장이 안돼있다니...\n",
    "\n",
    "for i in dic.keys():\n",
    "    dic[i] = sum(dic[i])/len(dic[i])\n",
    "\n",
    "\n",
    "score_lst = sorted(dic.items(), key = lambda t : t[1]) #mse 작은 순으로 줄 세워짐.\n",
    "score_lst\n",
    "# dic.keys()"
   ]
  },
  {
   "cell_type": "code",
   "execution_count": 75,
   "id": "8d63e078",
   "metadata": {},
   "outputs": [],
   "source": [
    "score_dic = {}\n",
    "for i in score_lst:\n",
    "    score_dic[i[0]] = i[1]"
   ]
  },
  {
   "cell_type": "code",
   "execution_count": 76,
   "id": "3b90a84f",
   "metadata": {},
   "outputs": [
    {
     "data": {
      "text/html": [
       "<div>\n",
       "<style scoped>\n",
       "    .dataframe tbody tr th:only-of-type {\n",
       "        vertical-align: middle;\n",
       "    }\n",
       "\n",
       "    .dataframe tbody tr th {\n",
       "        vertical-align: top;\n",
       "    }\n",
       "\n",
       "    .dataframe thead th {\n",
       "        text-align: right;\n",
       "    }\n",
       "</style>\n",
       "<table border=\"1\" class=\"dataframe\">\n",
       "  <thead>\n",
       "    <tr style=\"text-align: right;\">\n",
       "      <th></th>\n",
       "      <th>key</th>\n",
       "      <th>value</th>\n",
       "    </tr>\n",
       "  </thead>\n",
       "  <tbody>\n",
       "    <tr>\n",
       "      <th>0</th>\n",
       "      <td>baysian_ridge</td>\n",
       "      <td>0.008630</td>\n",
       "    </tr>\n",
       "    <tr>\n",
       "      <th>1</th>\n",
       "      <td>lasso</td>\n",
       "      <td>0.008633</td>\n",
       "    </tr>\n",
       "    <tr>\n",
       "      <th>2</th>\n",
       "      <td>elasticnet</td>\n",
       "      <td>0.008633</td>\n",
       "    </tr>\n",
       "    <tr>\n",
       "      <th>3</th>\n",
       "      <td>dummy</td>\n",
       "      <td>0.008633</td>\n",
       "    </tr>\n",
       "    <tr>\n",
       "      <th>4</th>\n",
       "      <td>ridge</td>\n",
       "      <td>0.009106</td>\n",
       "    </tr>\n",
       "    <tr>\n",
       "      <th>5</th>\n",
       "      <td>random_forest</td>\n",
       "      <td>0.009170</td>\n",
       "    </tr>\n",
       "    <tr>\n",
       "      <th>6</th>\n",
       "      <td>ardr_linear</td>\n",
       "      <td>0.009362</td>\n",
       "    </tr>\n",
       "    <tr>\n",
       "      <th>7</th>\n",
       "      <td>xgboost_linear</td>\n",
       "      <td>0.010664</td>\n",
       "    </tr>\n",
       "    <tr>\n",
       "      <th>8</th>\n",
       "      <td>linear</td>\n",
       "      <td>0.015068</td>\n",
       "    </tr>\n",
       "  </tbody>\n",
       "</table>\n",
       "</div>"
      ],
      "text/plain": [
       "              key     value\n",
       "0   baysian_ridge  0.008630\n",
       "1           lasso  0.008633\n",
       "2      elasticnet  0.008633\n",
       "3           dummy  0.008633\n",
       "4           ridge  0.009106\n",
       "5   random_forest  0.009170\n",
       "6     ardr_linear  0.009362\n",
       "7  xgboost_linear  0.010664\n",
       "8          linear  0.015068"
      ]
     },
     "execution_count": 76,
     "metadata": {},
     "output_type": "execute_result"
    }
   ],
   "source": [
    "df = pd.DataFrame(score_dic.items(), columns=['key', 'value'])\n",
    "df"
   ]
  },
  {
   "cell_type": "code",
   "execution_count": 109,
   "id": "5e147d47",
   "metadata": {},
   "outputs": [
    {
     "data": {
      "text/plain": [
       "array([0.00863281])"
      ]
     },
     "execution_count": 109,
     "metadata": {},
     "output_type": "execute_result"
    },
    {
     "data": {
      "text/plain": [
       "'dummy\\n: 0.01'"
      ]
     },
     "execution_count": 109,
     "metadata": {},
     "output_type": "execute_result"
    }
   ],
   "source": [
    "df[df.key=='dummy']['value'].values\n",
    "f'dummy\\n: {dummy_mean[0]:.2f}'"
   ]
  },
  {
   "cell_type": "markdown",
   "id": "159c909f",
   "metadata": {},
   "source": [
    "# MSE plot"
   ]
  },
  {
   "cell_type": "code",
   "execution_count": 131,
   "id": "00d76c29",
   "metadata": {},
   "outputs": [
    {
     "data": {
      "image/png": "[encoded data removed]",
      "text/plain": [
       "<Figure size 432x288 with 1 Axes>"
      ]
     },
     "metadata": {},
     "output_type": "display_data"
    }
   ],
   "source": [
    "g = sns.barplot(x = 'key', y = 'value', data=df, capsize=.2)\n",
    "_ = g.set_xticks(range(len(df)))\n",
    "_ = g.set_xticklabels(g.get_xticklabels(), rotation=45)\n",
    "_ = g.set_xlabel(\"regression models\", fontsize = 15)\n",
    "_ = g.set_ylabel(\"Mean Squared Errors\", fontsize = 15)\n",
    "_ = g.set_ylim([0, 0.0155]) # ax.set(ylim=(0.4, 0.6))\n",
    "dummy_mean = df[df.key=='dummy']['value'].values\n",
    "_ = g.plot([-1,len(df)], [dummy_mean, dummy_mean], color = 'red')\n",
    "_ = g.annotate(text = f'dummy\\n: {dummy_mean[0]:.4f}', xy = (3, dummy_mean), xytext = (0.1, 0.0115),\n",
    "               arrowprops = dict(facecolor = 'red', shrink = 0),)\n",
    "\n",
    "\n",
    "val = df['value']\n",
    "cnt = 0\n",
    "for i in range(len(df)):\n",
    "    _ = g.text(cnt-0.27, 0.0007, f'{val[i]:.2f}')\n",
    "    cnt += 1\n",
    "\n",
    "plt.tight_layout()\n",
    "# bar plot official doc\n",
    "# https://seaborn.pydata.org/generated/seaborn.barplot.html\n",
    "# .set_xticklabels rot\n",
    "# https://data-newbie.tistory.com/261\n",
    "# .set_label\n",
    "# https://www.delftstack.com/ko/howto/seaborn/seaborn-lineplot/"
   ]
  }
 ],
 "metadata": {
  "kernelspec": {
   "display_name": "Python 3",
   "language": "python",
   "name": "python3"
  },
  "language_info": {
   "codemirror_mode": {
    "name": "ipython",
    "version": 3
   },
   "file_extension": ".py",
   "mimetype": "text/x-python",
   "name": "python",
   "nbconvert_exporter": "python",
   "pygments_lexer": "ipython3",
   "version": "3.8.5"
  },
  "latex_envs": {
   "LaTeX_envs_menu_present": true,
   "autoclose": false,
   "autocomplete": true,
   "bibliofile": "biblio.bib",
   "cite_by": "apalike",
   "current_citInitial": 1,
   "eqLabelWithNumbers": true,
   "eqNumInitial": 1,
   "hotkeys": {
    "equation": "Ctrl-E",
    "itemize": "Ctrl-I"
   },
   "labels_anchors": false,
   "latex_user_defs": false,
   "report_style_numbering": false,
   "user_envs_cfg": false
  },
  "toc": {
   "base_numbering": 1,
   "nav_menu": {},
   "number_sections": true,
   "sideBar": true,
   "skip_h1_title": false,
   "title_cell": "Table of Contents",
   "title_sidebar": "Contents",
   "toc_cell": false,
   "toc_position": {},
   "toc_section_display": true,
   "toc_window_display": false
  }
 },
 "nbformat": 4,
 "nbformat_minor": 5
}
