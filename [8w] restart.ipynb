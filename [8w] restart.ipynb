{
 "cells": [
  {
   "cell_type": "markdown",
   "id": "fdd256a3",
   "metadata": {
    "toc": true
   },
   "source": [
    "<h1>Table of Contents<span class=\"tocSkip\"></span></h1>\n",
    "<div class=\"toc\"><ul class=\"toc-item\"><li><span><a href=\"#library\" data-toc-modified-id=\"library-1\"><span class=\"toc-item-num\">1&nbsp;&nbsp;</span>library</a></span></li><li><span><a href=\"#data\" data-toc-modified-id=\"data-2\"><span class=\"toc-item-num\">2&nbsp;&nbsp;</span>data</a></span></li><li><span><a href=\"#with-open\" data-toc-modified-id=\"with-open-3\"><span class=\"toc-item-num\">3&nbsp;&nbsp;</span>with open</a></span><ul class=\"toc-item\"><li><span><a href=\"#lines의-총-길이-(file의-총-길이)\" data-toc-modified-id=\"lines의-총-길이-(file의-총-길이)-3.1\"><span class=\"toc-item-num\">3.1&nbsp;&nbsp;</span>lines의 총 길이 (file의 총 길이)</a></span></li><li><span><a href=\"#데이터-구성\" data-toc-modified-id=\"데이터-구성-3.2\"><span class=\"toc-item-num\">3.2&nbsp;&nbsp;</span>데이터 구성</a></span></li></ul></li><li><span><a href=\"#연속-20일-간-연속으로-거래정지-되지-않은\" data-toc-modified-id=\"연속-20일-간-연속으로-거래정지-되지-않은-4\"><span class=\"toc-item-num\">4&nbsp;&nbsp;</span>연속 20일 간 연속으로 거래정지 되지 않은</a></span><ul class=\"toc-item\"><li><span><a href=\"#mk_cd\" data-toc-modified-id=\"mk_cd-4.1\"><span class=\"toc-item-num\">4.1&nbsp;&nbsp;</span>mk_cd</a></span></li><li><span><a href=\"#아래에서-실수하고-다시할-때-여기부터\" data-toc-modified-id=\"아래에서-실수하고-다시할-때-여기부터-4.2\"><span class=\"toc-item-num\">4.2&nbsp;&nbsp;</span>아래에서 실수하고 다시할 때 여기부터</a></span></li><li><span><a href=\"#연속판단-=-연속판단이-필요한-key(종목코드)-모으기\" data-toc-modified-id=\"연속판단-=-연속판단이-필요한-key(종목코드)-모으기-4.3\"><span class=\"toc-item-num\">4.3&nbsp;&nbsp;</span>연속판단 = 연속판단이 필요한 key(종목코드) 모으기</a></span></li><li><span><a href=\"#정지idx-=-{연속판단-종목코드:-'정지'인덱스}\" data-toc-modified-id=\"정지idx-=-{연속판단-종목코드:-'정지'인덱스}-4.4\"><span class=\"toc-item-num\">4.4&nbsp;&nbsp;</span>정지idx = {연속판단 종목코드: '정지'인덱스}</a></span></li><li><span><a href=\"#연속정지코드날짜-=-{연속판단-종목코드:-'정지'인덱스가-연속적으로-20일-이상-붙어있는-경우-['정지']로-표시}\" data-toc-modified-id=\"연속정지코드날짜-=-{연속판단-종목코드:-'정지'인덱스가-연속적으로-20일-이상-붙어있는-경우-['정지']로-표시}-4.5\"><span class=\"toc-item-num\">4.5&nbsp;&nbsp;</span>연속정지코드날짜 = {연속판단 종목코드: '정지'인덱스가 연속적으로 20일 이상 붙어있는 경우 ['정지']로 표시}</a></span></li></ul></li><li><span><a href=\"###############-여기부터-고치기!!!\" data-toc-modified-id=\"##############-여기부터-고치기!!!-5\"><span class=\"toc-item-num\">5&nbsp;&nbsp;</span>############## 여기부터 고치기!!!</a></span><ul class=\"toc-item\"><li><span><a href=\"#########################이거-안하고-바로-위-step에서-바로-끝내도-될듯\" data-toc-modified-id=\"########################이거-안하고-바로-위-step에서-바로-끝내도-될듯-5.1\"><span class=\"toc-item-num\">5.1&nbsp;&nbsp;</span>########################이거 안하고 바로 위 step에서 바로 끝내도 될듯</a></span></li><li><span><a href=\"#연속-정지가-되게-하는-날짜,-그리고-그-때의-조건\" data-toc-modified-id=\"연속-정지가-되게-하는-날짜,-그리고-그-때의-조건-5.2\"><span class=\"toc-item-num\">5.2&nbsp;&nbsp;</span>연속 정지가 되게 하는 날짜, 그리고 그 때의 조건</a></span></li></ul></li><li><span><a href=\"#tv->=-10_0000_0000\" data-toc-modified-id=\"tv->=-10_0000_0000-6\"><span class=\"toc-item-num\">6&nbsp;&nbsp;</span>tv &gt;= 10_0000_0000</a></span><ul class=\"toc-item\"><li><span><a href=\"#기준일_cd_dt-=-{cd:-tv>=10억인-dt-list}\" data-toc-modified-id=\"기준일_cd_dt-=-{cd:-tv>=10억인-dt-list}-6.1\"><span class=\"toc-item-num\">6.1&nbsp;&nbsp;</span>기준일_cd_dt = {cd: tv&gt;=10억인 dt list}</a></span></li><li><span><a href=\"#십억cd_dt-=-{tv->=-10억인-날이-하루라도-있는-cd:-그-dt-list}\" data-toc-modified-id=\"십억cd_dt-=-{tv->=-10억인-날이-하루라도-있는-cd:-그-dt-list}-6.2\"><span class=\"toc-item-num\">6.2&nbsp;&nbsp;</span>십억cd_dt = {tv &gt;= 10억인 날이 하루라도 있는 cd: 그 dt list}</a></span></li></ul></li><li><span><a href=\"#10억-이상인-종목코드일-동안-처리하기-위한-코드...\" data-toc-modified-id=\"10억-이상인-종목코드일-동안-처리하기-위한-코드...-7\"><span class=\"toc-item-num\">7&nbsp;&nbsp;</span>10억 이상인 종목코드일 동안 처리하기 위한 코드...</a></span></li><li><span><a href=\"#거래일tv만족code-=-거래일-&amp;-tv조건-교집합\" data-toc-modified-id=\"거래일tv만족code-=-거래일-&amp;-tv조건-교집합-8\"><span class=\"toc-item-num\">8&nbsp;&nbsp;</span>거래일tv만족code = 거래일 &amp; tv조건 교집합</a></span></li><li><span><a href=\"#교집합tv_dt_dic-=-{코드:-tv>=100억-&amp;-거래일만족}\" data-toc-modified-id=\"교집합tv_dt_dic-=-{코드:-tv>=100억-&amp;-거래일만족}-9\"><span class=\"toc-item-num\">9&nbsp;&nbsp;</span>교집합tv_dt_dic = {코드: tv&gt;=100억 &amp; 거래일만족}</a></span></li><li><span><a href=\"#당일-변동폭-(고가/저가)->-1.05인-날짜-선별\" data-toc-modified-id=\"당일-변동폭-(고가/저가)->-1.05인-날짜-선별-10\"><span class=\"toc-item-num\">10&nbsp;&nbsp;</span>당일 변동폭 (고가/저가) &gt; 1.05인 날짜 선별</a></span></li><li><span><a href=\"#final\" data-toc-modified-id=\"final-11\"><span class=\"toc-item-num\">11&nbsp;&nbsp;</span>final</a></span></li><li><span><a href=\"#ffin\" data-toc-modified-id=\"ffin-12\"><span class=\"toc-item-num\">12&nbsp;&nbsp;</span>ffin</a></span></li><li><span><a href=\"#저장\" data-toc-modified-id=\"저장-13\"><span class=\"toc-item-num\">13&nbsp;&nbsp;</span>저장</a></span></li></ul></div>"
   ]
  },
  {
   "cell_type": "markdown",
   "id": "f15184a2",
   "metadata": {},
   "source": [
    "# library"
   ]
  },
  {
   "cell_type": "code",
   "execution_count": 1,
   "id": "dfb21d8a",
   "metadata": {},
   "outputs": [],
   "source": [
    "from tqdm import tqdm\n",
    "import pandas as pd\n",
    "import numpy as np\n",
    "# 경고메세지 끄기\n",
    "import warnings\n",
    "warnings.filterwarnings(action='ignore')\n",
    "\n",
    "from IPython.core.interactiveshell import InteractiveShell\n",
    "InteractiveShell.ast_node_interactivity = \"all\""
   ]
  },
  {
   "cell_type": "markdown",
   "id": "711f1b94",
   "metadata": {},
   "source": [
    "# data"
   ]
  },
  {
   "cell_type": "code",
   "execution_count": 2,
   "id": "d0c988c5",
   "metadata": {},
   "outputs": [
    {
     "data": {
      "text/plain": [
       "4551"
      ]
     },
     "execution_count": 2,
     "metadata": {},
     "output_type": "execute_result"
    },
    {
     "data": {
      "text/plain": [
       "array([10, 20, 30, ..., 950190, 950200, 950210], dtype=object)"
      ]
     },
     "execution_count": 2,
     "metadata": {},
     "output_type": "execute_result"
    }
   ],
   "source": [
    "df = pd.read_csv('/project/stock_data/stock.KOSPI.KOSDAQ.19960701to20220331.adjusted.datefilled.csv')\n",
    "df['code'].nunique()\n",
    "code = df['code'].unique()\n",
    "code"
   ]
  },
  {
   "cell_type": "code",
   "execution_count": 126,
   "id": "5c70640a",
   "metadata": {},
   "outputs": [
    {
     "data": {
      "text/html": [
       "<div>\n",
       "<style scoped>\n",
       "    .dataframe tbody tr th:only-of-type {\n",
       "        vertical-align: middle;\n",
       "    }\n",
       "\n",
       "    .dataframe tbody tr th {\n",
       "        vertical-align: top;\n",
       "    }\n",
       "\n",
       "    .dataframe thead th {\n",
       "        text-align: right;\n",
       "    }\n",
       "</style>\n",
       "<table border=\"1\" class=\"dataframe\">\n",
       "  <thead>\n",
       "    <tr style=\"text-align: right;\">\n",
       "      <th></th>\n",
       "      <th>date</th>\n",
       "      <th>code</th>\n",
       "      <th>open</th>\n",
       "      <th>high</th>\n",
       "      <th>low</th>\n",
       "      <th>close</th>\n",
       "      <th>volume</th>\n",
       "      <th>tradingvalue</th>\n",
       "      <th>change</th>\n",
       "    </tr>\n",
       "  </thead>\n",
       "  <tbody>\n",
       "    <tr>\n",
       "      <th>0</th>\n",
       "      <td>19960701</td>\n",
       "      <td>10</td>\n",
       "      <td>36496</td>\n",
       "      <td>37676</td>\n",
       "      <td>36496</td>\n",
       "      <td>37588</td>\n",
       "      <td>14499</td>\n",
       "      <td>542221500</td>\n",
       "      <td>1.18</td>\n",
       "    </tr>\n",
       "    <tr>\n",
       "      <th>1</th>\n",
       "      <td>19960702</td>\n",
       "      <td>10</td>\n",
       "      <td>37588</td>\n",
       "      <td>38462</td>\n",
       "      <td>37151</td>\n",
       "      <td>37938</td>\n",
       "      <td>30476</td>\n",
       "      <td>1153293600</td>\n",
       "      <td>0.93</td>\n",
       "    </tr>\n",
       "    <tr>\n",
       "      <th>2</th>\n",
       "      <td>19960703</td>\n",
       "      <td>10</td>\n",
       "      <td>38025</td>\n",
       "      <td>38025</td>\n",
       "      <td>37151</td>\n",
       "      <td>37719</td>\n",
       "      <td>18375</td>\n",
       "      <td>694638000</td>\n",
       "      <td>-0.58</td>\n",
       "    </tr>\n",
       "    <tr>\n",
       "      <th>3</th>\n",
       "      <td>19960704</td>\n",
       "      <td>10</td>\n",
       "      <td>37719</td>\n",
       "      <td>37938</td>\n",
       "      <td>37151</td>\n",
       "      <td>37370</td>\n",
       "      <td>22539</td>\n",
       "      <td>849041000</td>\n",
       "      <td>-0.93</td>\n",
       "    </tr>\n",
       "    <tr>\n",
       "      <th>4</th>\n",
       "      <td>19960705</td>\n",
       "      <td>10</td>\n",
       "      <td>37151</td>\n",
       "      <td>38025</td>\n",
       "      <td>37151</td>\n",
       "      <td>38025</td>\n",
       "      <td>15830</td>\n",
       "      <td>595899300</td>\n",
       "      <td>1.75</td>\n",
       "    </tr>\n",
       "  </tbody>\n",
       "</table>\n",
       "</div>"
      ],
      "text/plain": [
       "       date code   open   high    low  close  volume  tradingvalue  change\n",
       "0  19960701   10  36496  37676  36496  37588   14499     542221500    1.18\n",
       "1  19960702   10  37588  38462  37151  37938   30476    1153293600    0.93\n",
       "2  19960703   10  38025  38025  37151  37719   18375     694638000   -0.58\n",
       "3  19960704   10  37719  37938  37151  37370   22539     849041000   -0.93\n",
       "4  19960705   10  37151  38025  37151  38025   15830     595899300    1.75"
      ]
     },
     "execution_count": 126,
     "metadata": {},
     "output_type": "execute_result"
    }
   ],
   "source": [
    "df[:5]"
   ]
  },
  {
   "cell_type": "markdown",
   "id": "f6c506d4",
   "metadata": {},
   "source": [
    "# with open"
   ]
  },
  {
   "cell_type": "code",
   "execution_count": 3,
   "id": "4c5290d4",
   "metadata": {},
   "outputs": [],
   "source": [
    "c1=open('/project/stock_data/stock.KOSPI.KOSDAQ.19960701to20220331.adjusted.datefilled.csv',\"r\")\n",
    "lines=c1.readlines()"
   ]
  },
  {
   "cell_type": "markdown",
   "id": "451b641a",
   "metadata": {},
   "source": [
    "## lines의 총 길이 (file의 총 길이)"
   ]
  },
  {
   "cell_type": "code",
   "execution_count": 4,
   "id": "3097e904",
   "metadata": {},
   "outputs": [
    {
     "data": {
      "text/plain": [
       "11979747"
      ]
     },
     "execution_count": 4,
     "metadata": {},
     "output_type": "execute_result"
    }
   ],
   "source": [
    "len(lines) # 11979747 (잘 세어짐....)"
   ]
  },
  {
   "cell_type": "markdown",
   "id": "085c3b89",
   "metadata": {},
   "source": [
    "## 데이터 구성"
   ]
  },
  {
   "cell_type": "code",
   "execution_count": 5,
   "id": "192fc846",
   "metadata": {},
   "outputs": [
    {
     "name": "stdout",
     "output_type": "stream",
     "text": [
      "['date', 'code', 'open', 'high', 'low', 'close', 'volume', 'tradingvalue', 'change\\n']\n",
      "['19960701', '000010', '36496', '37676', '36496', '37588', '14499', '542221500', '1.18\\n']\n",
      "['19960702', '000010', '37588', '38462', '37151', '37938', '30476', '1153293600', '0.93\\n']\n",
      "['19960703', '000010', '38025', '38025', '37151', '37719', '18375', '694638000', '-0.58\\n']\n"
     ]
    }
   ],
   "source": [
    "for line in lines[:4]:\n",
    "    lst = line.split(',')\n",
    "    print(lst)"
   ]
  },
  {
   "cell_type": "markdown",
   "id": "e1c29456",
   "metadata": {},
   "source": [
    "# 연속 20일 간 연속으로 거래정지 되지 않은\n",
    "전체 기간동안 20일 거래 정지가 있으면 제외. <br>\n",
    "거래일은 volume으로 파악!!"
   ]
  },
  {
   "cell_type": "markdown",
   "id": "274130c0",
   "metadata": {},
   "source": [
    "## mk_cd\n",
    "* 종목코드 길이를 6으로 만들어주는 함수 <br>\n",
    "* ~~type(x) != int 조건 때문에 입력이 pandas df이면서 그 때 종목코드가 int로 들어갔을 때만 가능.. ~~<br>\n",
    "* 수정 이후 코드는 뭐가 오든 다 처리 가능..."
   ]
  },
  {
   "cell_type": "code",
   "execution_count": 6,
   "id": "4811013f",
   "metadata": {},
   "outputs": [],
   "source": [
    "## 종목코드 길이를 6으로 만들어주는 함수가 필요함. pandas로 불러올 때(수치형)랑 with open으로 읽을 때 (문자형,,,)랑 서로 종목코드가 다른 type으로 읽힘...\n",
    "# def mk_cd(x):\n",
    "#     if type(x) != int:\n",
    "#         return x\n",
    "#     else:\n",
    "#         x = str(x)\n",
    "#         return \"0\"*(6-len(x))+x\n",
    "\n",
    "def mk_cd(x):\n",
    "    if type(x) == str:\n",
    "        if x.isalpha():\n",
    "            return x\n",
    "        else:\n",
    "            if len(x) == 6:\n",
    "                return x\n",
    "            else:\n",
    "                return \"0\"*(6-len(x))+x\n",
    "    elif type(x) == int:\n",
    "        x = str(x)\n",
    "        return \"0\"*(6-len(x))+x"
   ]
  },
  {
   "cell_type": "markdown",
   "id": "eb7358d8",
   "metadata": {},
   "source": [
    "## 아래에서 실수하고 다시할 때 여기부터\n",
    "> 거래량 == 0일 때의 날짜만 value로 받는 vol_0_dt_lst <br>\n",
    "> 거래량 == 0일 때는 '정지'를, 그 외의 경우엔 날짜를 value로 받는 vol_0_dt_dic <br>"
   ]
  },
  {
   "cell_type": "code",
   "execution_count": 37,
   "id": "2d0cc492",
   "metadata": {
    "scrolled": false
   },
   "outputs": [
    {
     "name": "stderr",
     "output_type": "stream",
     "text": [
      "11979747it [00:08, 1340682.75it/s]IOPub data rate exceeded.\n",
      "The notebook server will temporarily stop sending output\n",
      "to the client in order to avoid crashing it.\n",
      "To change this limit, set the config variable\n",
      "`--NotebookApp.iopub_data_rate_limit`.\n",
      "\n",
      "Current values:\n",
      "NotebookApp.iopub_data_rate_limit=1000000.0 (bytes/sec)\n",
      "NotebookApp.rate_limit_window=3.0 (secs)\n",
      "\n",
      "\n"
     ]
    }
   ],
   "source": [
    "# 6 == volume\n",
    "# 7 == tradingvalue\n",
    "# 0 == date\n",
    "cd_l = []\n",
    "cd_d = {}\n",
    "vol_0_dt_lst = {f'{mk_cd(i)}':[] for i in [df.columns[1]]+list(df['code'].unique())} # key: code, val: date, 거래량 0일 때의 날짜만\n",
    "vol_0_dt_dic = {f'{mk_cd(i)}':[] for i in [df.columns[1]]+list(df['code'].unique())} # key: code, val: date, 거래량 0일 때는 '정지'를, 아닌 날엔 날짜를 삽입. (근데 굳이 날짜 아니어도 될듯.. 연속을 확인하기 위함이니까 아무 문자 채워줘도 괜찮을 것 같음.)\n",
    "\n",
    "for i,line in tqdm(enumerate(lines)):\n",
    "    lst = line.split(',')\n",
    "\n",
    "    if lst[6] == '0': # 0이면 dic의 value list에 '정지' 집어넣기    #### f'{date}_5일'넣으려다가 (연속을) 찾기 힘들어져서 뺌... 날짜는 lst로 구하는걸로...\n",
    "        vol_0_dt_lst[lst[1]].append(lst[0])\n",
    "        vol_0_dt_dic[lst[1]].append('정지')#(f'{lst[0]}_5일')\n",
    "    else: # 0이 아니면 dic의 value list에 date 집어넣기\n",
    "#         print(i,lst[0], vol_0_dt_dic)\n",
    "        vol_0_dt_dic[lst[1]].append(lst[0])\n",
    "            \n",
    "# print(cd_l)\n",
    "print(\"vol_not0:\", vol_0_dt_lst)\n",
    "# print(vol_0_dt_dic)"
   ]
  },
  {
   "cell_type": "code",
   "execution_count": 8,
   "id": "e2a49673",
   "metadata": {},
   "outputs": [
    {
     "data": {
      "text/plain": [
       "4523"
      ]
     },
     "execution_count": 8,
     "metadata": {},
     "output_type": "execute_result"
    }
   ],
   "source": [
    "len(vol_0_dt_dic) # 4523"
   ]
  },
  {
   "cell_type": "markdown",
   "id": "d7b20b5e",
   "metadata": {},
   "source": [
    "## 연속판단 = 연속판단이 필요한 key(종목코드) 모으기"
   ]
  },
  {
   "cell_type": "code",
   "execution_count": 39,
   "id": "59935389",
   "metadata": {
    "scrolled": false
   },
   "outputs": [
    {
     "name": "stderr",
     "output_type": "stream",
     "text": [
      "IOPub data rate exceeded.\n",
      "The notebook server will temporarily stop sending output\n",
      "to the client in order to avoid crashing it.\n",
      "To change this limit, set the config variable\n",
      "`--NotebookApp.iopub_data_rate_limit`.\n",
      "\n",
      "Current values:\n",
      "NotebookApp.iopub_data_rate_limit=1000000.0 (bytes/sec)\n",
      "NotebookApp.rate_limit_window=3.0 (secs)\n",
      "\n"
     ]
    },
    {
     "data": {
      "text/plain": [
       "3357"
      ]
     },
     "execution_count": 39,
     "metadata": {},
     "output_type": "execute_result"
    }
   ],
   "source": [
    "연속판단 = [] # 연속판단이 필요한 key(종목코드) 모으기\n",
    "for i in vol_0_dt_dic.keys():\n",
    "    if '정지' in vol_0_dt_dic[i]:\n",
    "        연속판단.append(i)\n",
    "\n",
    "len(연속판단) # 3357, 처음 vol_0_dt_dic 길이이자 code의 nunique 값보다 줄어듦. 잘 나온 것.\n",
    "\n",
    "## 연속판단 list에 속하지 않는 종목코드들은 거래 정지가 안됐던거.... 처리 안해도 되니 아주 고마운 애들임."
   ]
  },
  {
   "cell_type": "code",
   "execution_count": 41,
   "id": "9aa83335",
   "metadata": {},
   "outputs": [
    {
     "data": {
      "text/plain": [
       "True"
      ]
     },
     "execution_count": 41,
     "metadata": {},
     "output_type": "execute_result"
    },
    {
     "data": {
      "text/plain": [
       "['19980926',\n",
       " '정지',\n",
       " '정지',\n",
       " '정지',\n",
       " '정지',\n",
       " '정지',\n",
       " '정지',\n",
       " '정지',\n",
       " '정지',\n",
       " '정지',\n",
       " '정지',\n",
       " '정지',\n",
       " '정지',\n",
       " '정지',\n",
       " '정지',\n",
       " '정지',\n",
       " '정지',\n",
       " '정지',\n",
       " '정지',\n",
       " '정지',\n",
       " '정지',\n",
       " '정지',\n",
       " '정지',\n",
       " '정지',\n",
       " '정지',\n",
       " '19981029',\n",
       " '19981030',\n",
       " '19981031',\n",
       " '19981102',\n",
       " '19981103',\n",
       " '19981104',\n",
       " '19981105',\n",
       " '19981106',\n",
       " '19981107',\n",
       " '19981109',\n",
       " '19981110',\n",
       " '19981111',\n",
       " '19981112',\n",
       " '19981113',\n",
       " '19981114',\n",
       " '19981116',\n",
       " '19981117']"
      ]
     },
     "execution_count": 41,
     "metadata": {},
     "output_type": "execute_result"
    },
    {
     "data": {
      "text/plain": [
       "True"
      ]
     },
     "execution_count": 41,
     "metadata": {},
     "output_type": "execute_result"
    }
   ],
   "source": [
    "'000030' in 연속판단\n",
    "vol_0_dt_dic['000030'][658:700]\n",
    "'정지' in vol_0_dt_dic['000030']"
   ]
  },
  {
   "cell_type": "code",
   "execution_count": 42,
   "id": "5e49dca0",
   "metadata": {
    "scrolled": true
   },
   "outputs": [
    {
     "data": {
      "text/plain": [
       "1166"
      ]
     },
     "execution_count": 42,
     "metadata": {},
     "output_type": "execute_result"
    }
   ],
   "source": [
    "len(set(vol_0_dt_dic.keys()) - set(연속판단)) # 얘네는 연속판단 list에 포함 안되는 애들."
   ]
  },
  {
   "cell_type": "code",
   "execution_count": 48,
   "id": "14879ba4",
   "metadata": {},
   "outputs": [],
   "source": [
    "고려대상1 = set(vol_0_dt_dic.keys()) - set(연속판단)"
   ]
  },
  {
   "cell_type": "code",
   "execution_count": 62,
   "id": "23b9dcc5",
   "metadata": {},
   "outputs": [
    {
     "data": {
      "text/plain": [
       "True"
      ]
     },
     "execution_count": 62,
     "metadata": {},
     "output_type": "execute_result"
    },
    {
     "data": {
      "text/plain": [
       "False"
      ]
     },
     "execution_count": 62,
     "metadata": {},
     "output_type": "execute_result"
    },
    {
     "name": "stdout",
     "output_type": "stream",
     "text": [
      "code\n",
      "000010\n"
     ]
    }
   ],
   "source": [
    "'code' in 고려대상1\n",
    "'code' in 연속판단\n",
    "\n",
    "for i,j in enumerate(vol_0_dt_dic):\n",
    "    if i == 0:\n",
    "        print(j)\n",
    "        \n",
    "for i,j in enumerate(연속판단):\n",
    "    if i == 0:\n",
    "        print(j)"
   ]
  },
  {
   "cell_type": "markdown",
   "id": "9bc5c1cf",
   "metadata": {},
   "source": [
    "## 정지idx = {연속판단 종목코드: '정지'인덱스}\n",
    "* 각 key(종목코드)마다 loop를 돌면서 '정지' 인덱스 찾아서 dic의 해당 코드의 value list에 추가.\n",
    "* 그 결과 추가한 idx가 같은곳까지 연속."
   ]
  },
  {
   "cell_type": "code",
   "execution_count": 43,
   "id": "30d058c3",
   "metadata": {},
   "outputs": [
    {
     "name": "stderr",
     "output_type": "stream",
     "text": [
      "100%|██████████| 3357/3357 [00:03<00:00, 956.51it/s] \n"
     ]
    }
   ],
   "source": [
    "# 주의!!!!! 한 번 실행하면 vol_0_dt_dic의 value 값이 변하므로 vol_0_dt_dic 만든 cell부터 다시 실행해야함.\n",
    "\n",
    "정지idx = {i:[] for i in 연속판단} # 각 key(종목코드)마다 loop를 돌면서 '정지' 인덱스 찾아서 dic의 해당 코드의 value list에 추가, 그 결과 추가한 idx가 같은곳까지 연속.\n",
    "for i in tqdm(연속판단):\n",
    "#     vol_0_dt_dic[i][-10:] # key가 i일 때 value list에서 마지막 10개만 보기로\n",
    "#     print(vol_0_dt_dic[i].count('정지')) # 리스트 내 '정지' 개수 카운트\n",
    "#     print('#')\n",
    "    \n",
    "    # i 일 동안\n",
    "    for j in range(vol_0_dt_dic[i].count('정지')): # 정지 개수만큼 for loop 돌 것\n",
    "        tmp_idx = vol_0_dt_dic[i].index('정지')\n",
    "#         print(tmp_idx)\n",
    "        정지idx[i].append(tmp_idx)\n",
    "#         print(len(vol_0_dt_dic[i]))\n",
    "        del vol_0_dt_dic[i][tmp_idx] # tmp_idx가 계속 똑같은 값이 나오면 성공\n",
    "#         print(len(vol_0_dt_dic[i]))\n",
    "# 정지idx"
   ]
  },
  {
   "cell_type": "code",
   "execution_count": 12,
   "id": "b8b1adb3",
   "metadata": {},
   "outputs": [
    {
     "data": {
      "text/plain": [
       "3357"
      ]
     },
     "execution_count": 12,
     "metadata": {},
     "output_type": "execute_result"
    }
   ],
   "source": [
    "len(정지idx)"
   ]
  },
  {
   "cell_type": "code",
   "execution_count": 13,
   "id": "a5e7f61e",
   "metadata": {},
   "outputs": [
    {
     "data": {
      "text/plain": [
       "[659,\n",
       " 659,\n",
       " 659,\n",
       " 659,\n",
       " 659,\n",
       " 659,\n",
       " 659,\n",
       " 659,\n",
       " 659,\n",
       " 659,\n",
       " 659,\n",
       " 659,\n",
       " 659,\n",
       " 659,\n",
       " 659,\n",
       " 659,\n",
       " 659,\n",
       " 659,\n",
       " 659,\n",
       " 659,\n",
       " 659,\n",
       " 659,\n",
       " 659,\n",
       " 659,\n",
       " 693,\n",
       " 693,\n",
       " 693,\n",
       " 693,\n",
       " 693,\n",
       " 693,\n",
       " 693,\n",
       " 693,\n",
       " 693,\n",
       " 693,\n",
       " 693,\n",
       " 693,\n",
       " 693,\n",
       " 693,\n",
       " 693,\n",
       " 693,\n",
       " 693,\n",
       " 693,\n",
       " 693,\n",
       " 1172,\n",
       " 1172,\n",
       " 1172,\n",
       " 1172,\n",
       " 1172,\n",
       " 1172,\n",
       " 1172,\n",
       " 1172,\n",
       " 1172,\n",
       " 1172,\n",
       " 1172,\n",
       " 1172,\n",
       " 1172,\n",
       " 1172,\n",
       " 1172,\n",
       " 1172,\n",
       " 1172,\n",
       " 1172,\n",
       " 1172,\n",
       " 1172,\n",
       " 1172,\n",
       " 1172,\n",
       " 1172,\n",
       " 1172,\n",
       " 1172,\n",
       " 1172,\n",
       " 1172,\n",
       " 1172,\n",
       " 1172,\n",
       " 1172,\n",
       " 1172,\n",
       " 1172,\n",
       " 1172,\n",
       " 1172,\n",
       " 1172,\n",
       " 1172,\n",
       " 1172,\n",
       " 1172,\n",
       " 1172,\n",
       " 1172,\n",
       " 1172,\n",
       " 1172,\n",
       " 1172,\n",
       " 1172,\n",
       " 1172,\n",
       " 1172,\n",
       " 1172,\n",
       " 1172,\n",
       " 1172,\n",
       " 1172,\n",
       " 1172,\n",
       " 1172,\n",
       " 1172,\n",
       " 1172,\n",
       " 1172,\n",
       " 1172,\n",
       " 1172,\n",
       " 1172,\n",
       " 1172,\n",
       " 1172,\n",
       " 1172,\n",
       " 1172,\n",
       " 1172,\n",
       " 1172,\n",
       " 1172,\n",
       " 1172,\n",
       " 1172,\n",
       " 1172,\n",
       " 1172,\n",
       " 1172,\n",
       " 1172,\n",
       " 1172,\n",
       " 1172,\n",
       " 1172,\n",
       " 1172,\n",
       " 1172,\n",
       " 1172,\n",
       " 1172,\n",
       " 1172,\n",
       " 1172,\n",
       " 1172,\n",
       " 1172,\n",
       " 1172,\n",
       " 1172,\n",
       " 1172,\n",
       " 1172,\n",
       " 1172,\n",
       " 1172,\n",
       " 1172,\n",
       " 1172,\n",
       " 1172,\n",
       " 1172,\n",
       " 1172,\n",
       " 1172,\n",
       " 1172,\n",
       " 1172,\n",
       " 1172,\n",
       " 1172,\n",
       " 1172,\n",
       " 1172,\n",
       " 1172,\n",
       " 1172,\n",
       " 1172,\n",
       " 1172,\n",
       " 1172,\n",
       " 1172,\n",
       " 1172,\n",
       " 1172,\n",
       " 1172,\n",
       " 1172,\n",
       " 1172,\n",
       " 1172,\n",
       " 1172,\n",
       " 1172,\n",
       " 1172,\n",
       " 1172,\n",
       " 1172,\n",
       " 1172,\n",
       " 1172,\n",
       " 1172,\n",
       " 1172,\n",
       " 1172,\n",
       " 1172,\n",
       " 1172,\n",
       " 1172,\n",
       " 1172,\n",
       " 1172,\n",
       " 1172,\n",
       " 1172,\n",
       " 1172,\n",
       " 1172,\n",
       " 1172,\n",
       " 1172,\n",
       " 1172,\n",
       " 1172,\n",
       " 1172,\n",
       " 1172,\n",
       " 1172,\n",
       " 1172,\n",
       " 1172,\n",
       " 1172,\n",
       " 1172,\n",
       " 1172,\n",
       " 1172,\n",
       " 1172,\n",
       " 1172,\n",
       " 1172,\n",
       " 1172,\n",
       " 1172,\n",
       " 1172,\n",
       " 1172,\n",
       " 1172,\n",
       " 1172,\n",
       " 1172,\n",
       " 1172,\n",
       " 1172,\n",
       " 1172,\n",
       " 1172,\n",
       " 1172,\n",
       " 1172,\n",
       " 1172,\n",
       " 1172,\n",
       " 1172,\n",
       " 1172,\n",
       " 1172,\n",
       " 1172,\n",
       " 1172,\n",
       " 1172,\n",
       " 1172,\n",
       " 1172,\n",
       " 1172,\n",
       " 1172,\n",
       " 1172,\n",
       " 1172,\n",
       " 1172,\n",
       " 1172,\n",
       " 1172,\n",
       " 1172,\n",
       " 1172,\n",
       " 1172,\n",
       " 1172,\n",
       " 1172,\n",
       " 1172,\n",
       " 1172,\n",
       " 1172,\n",
       " 1172,\n",
       " 1172,\n",
       " 1172,\n",
       " 1172,\n",
       " 1172,\n",
       " 1172,\n",
       " 1172,\n",
       " 1172,\n",
       " 1172,\n",
       " 1172,\n",
       " 1172,\n",
       " 1172,\n",
       " 1172,\n",
       " 1172,\n",
       " 1172,\n",
       " 1172,\n",
       " 1172,\n",
       " 1172,\n",
       " 1172,\n",
       " 1172,\n",
       " 1172,\n",
       " 1172,\n",
       " 1172,\n",
       " 1172,\n",
       " 1172,\n",
       " 1172,\n",
       " 1172,\n",
       " 1172,\n",
       " 1172,\n",
       " 1172,\n",
       " 1172,\n",
       " 1172,\n",
       " 1172,\n",
       " 1172,\n",
       " 1172,\n",
       " 1172,\n",
       " 1172,\n",
       " 1172,\n",
       " 1172,\n",
       " 1172,\n",
       " 1172,\n",
       " 1172,\n",
       " 1172,\n",
       " 1172,\n",
       " 1172,\n",
       " 1172,\n",
       " 1172,\n",
       " 1172,\n",
       " 1172,\n",
       " 1172,\n",
       " 1172,\n",
       " 1172,\n",
       " 1172,\n",
       " 1172,\n",
       " 1172,\n",
       " 1172,\n",
       " 1172,\n",
       " 1172,\n",
       " 1172,\n",
       " 1172,\n",
       " 1172,\n",
       " 1172,\n",
       " 1172,\n",
       " 1172,\n",
       " 1172,\n",
       " 1172,\n",
       " 1172,\n",
       " 1172,\n",
       " 1172,\n",
       " 1172,\n",
       " 1172,\n",
       " 1172,\n",
       " 1172,\n",
       " 1172,\n",
       " 1172,\n",
       " 1172,\n",
       " 1172,\n",
       " 1172,\n",
       " 1172,\n",
       " 1172,\n",
       " 1172,\n",
       " 1172,\n",
       " 1172,\n",
       " 1172,\n",
       " 1172,\n",
       " 1172,\n",
       " 1172,\n",
       " 1172,\n",
       " 1172,\n",
       " 1172,\n",
       " 1172,\n",
       " 1172,\n",
       " 1172,\n",
       " 1172,\n",
       " 1172,\n",
       " 1172,\n",
       " 1172,\n",
       " 1172,\n",
       " 1172,\n",
       " 1172,\n",
       " 1172,\n",
       " 1172,\n",
       " 1172,\n",
       " 1172,\n",
       " 1172,\n",
       " 1172,\n",
       " 1172,\n",
       " 1172,\n",
       " 1172,\n",
       " 1172,\n",
       " 1172,\n",
       " 1172,\n",
       " 1172,\n",
       " 1172,\n",
       " 1172,\n",
       " 1172,\n",
       " 1172,\n",
       " 1172,\n",
       " 1172,\n",
       " 1172,\n",
       " 1172,\n",
       " 1172,\n",
       " 1172,\n",
       " 1172,\n",
       " 1172,\n",
       " 1172,\n",
       " 1172,\n",
       " 1172,\n",
       " 1172,\n",
       " 1172,\n",
       " 1172,\n",
       " 1172,\n",
       " 1172,\n",
       " 1172,\n",
       " 1172,\n",
       " 1172,\n",
       " 1172,\n",
       " 1172,\n",
       " 1172,\n",
       " 1172,\n",
       " 1172,\n",
       " 1172,\n",
       " 1172,\n",
       " 1172,\n",
       " 1172,\n",
       " 2187,\n",
       " 2187,\n",
       " 2187,\n",
       " 2187,\n",
       " 2187,\n",
       " 2187,\n",
       " 2187,\n",
       " 2187,\n",
       " 2187,\n",
       " 2187,\n",
       " 2187,\n",
       " 2187,\n",
       " 2187,\n",
       " 2187,\n",
       " 2187,\n",
       " 2187,\n",
       " 2187,\n",
       " 2187,\n",
       " 2187,\n",
       " 2187,\n",
       " 2187,\n",
       " 2187]"
      ]
     },
     "execution_count": 13,
     "metadata": {},
     "output_type": "execute_result"
    }
   ],
   "source": [
    "정지idx['000030']"
   ]
  },
  {
   "cell_type": "markdown",
   "id": "06339ff7",
   "metadata": {},
   "source": [
    "## 연속정지코드날짜 = {연속판단 종목코드: '정지'인덱스가 연속적으로 20일 이상 붙어있는 경우 ['정지']로 표시}\n",
    "연속판단을 해야한다고 모아둔 종목코드를 key로, 연속으로 '정지'가 붙어있던 날들이 20일 이상이면 ['정지']를 value로"
   ]
  },
  {
   "cell_type": "code",
   "execution_count": 14,
   "id": "d20d4675",
   "metadata": {
    "scrolled": true
   },
   "outputs": [
    {
     "name": "stderr",
     "output_type": "stream",
     "text": [
      "100%|██████████| 3357/3357 [00:00<00:00, 8344.00it/s] \n"
     ]
    }
   ],
   "source": [
    "# 잘 됐는지 확인은 다음을 확인함으로써!!! : key가 '000010'일 때 count 총 합 == 20이어야 함.\n",
    "연속정지코드날짜 = {i:[] for i in 연속판단} # 여기에 column name 없음.\n",
    "for i in tqdm(연속판단):\n",
    "    for j in sorted(set(정지idx[i])): # 정지idx 안에는 '정지'이 붙어있을 때 그 idx를 받고 지우고 받고 지우고 그랬으므로 값이 같은 원소가 여러개일 거니까 set으로 겹치지 않는 원소에 대해서만 for loop 돌린 것.   # list 에서 unique값 구하는 방법은 set...;;;;;\n",
    "        if 정지idx[i].count(j) >= 20: # dic의 value가 '정지'의 idx였는데, 같은게 여러개 있는 list에서 del시 젤 앞에쎄 빠지게 되면서 연속적인 애들 idx가 같아졌으므로 .count로 그 날짜들 찾는게 맞음.\n",
    "#             정지idx[i].count(j)\n",
    "            연속정지코드날짜[i].append(['정지'])#vol_0_dt_lst[i][:정지idx[i].count(j)]) # 종목코드별로 거래량이 0일 때의 날짜만 모아둔 vol_0_dt_lst dic에서 정지idx의 종목코드가 i 일 때의 원소에 대해 그 개수만큼까지 slicing, 그리고 그 개수만큼씩 del... 그래야 다음 for loop에서 정상적으로 작동하므로.\n",
    "#             del vol_0_dt_lst[i][:정지idx[i].count(j)]\n",
    "            \n",
    "        else:\n",
    "#             f'else: {정지idx[i].count(j)}'\n",
    "#             del vol_0_dt_lst[i][:정지idx[i].count(j)]\n",
    "            pass"
   ]
  },
  {
   "cell_type": "code",
   "execution_count": 15,
   "id": "9fa9f52c",
   "metadata": {},
   "outputs": [
    {
     "data": {
      "text/plain": [
       "{'000010': [],\n",
       " '000020': [],\n",
       " '000030': [['정지'], ['정지'], ['정지']],\n",
       " '000040': [['정지']],\n",
       " '000041': [['정지']],\n",
       " '000042': [['정지']],\n",
       " '000050': [],\n",
       " '000060': [],\n",
       " '000070': [['정지']],\n",
       " '000075': [['정지']],\n",
       " '000080': [],\n",
       " '000085': [],\n",
       " '000086': [],\n",
       " '000090': [['정지']],\n",
       " '000091': [],\n",
       " '000100': [],\n",
       " '000101': [],\n",
       " '000102': [['정지']],\n",
       " '000105': [['정지']],\n",
       " '000106': [['정지']],\n",
       " '000107': [['정지']],\n",
       " '000110': [['정지']],\n",
       " '000120': [],\n",
       " '000130': [['정지']],\n",
       " '000140': [['정지']],\n",
       " '000145': [['정지']],\n",
       " '000147': [['정지'], ['정지']],\n",
       " '000149': [['정지']],\n",
       " '000150': [],\n",
       " '000155': [],\n",
       " '000157': [['정지']],\n",
       " '000160': [],\n",
       " '000161': [['정지']],\n",
       " '000170': [],\n",
       " '000180': [],\n",
       " '000200': [['정지']],\n",
       " '000205': [['정지']],\n",
       " '000210': [],\n",
       " '000215': [],\n",
       " '000220': [],\n",
       " '000225': [],\n",
       " '000227': [],\n",
       " '000230': [['정지']],\n",
       " '000240': [['정지']],\n",
       " '000241': [],\n",
       " '000242': [],\n",
       " '000250': [],\n",
       " '000270': [['정지']],\n",
       " '000280': [['정지']],\n",
       " '000281': [['정지'], ['정지']],\n",
       " '000300': [['정지']],\n",
       " '000301': [],\n",
       " '000305': [],\n",
       " '000306': [],\n",
       " '000310': [],\n",
       " '000315': [],\n",
       " '000317': [['정지']],\n",
       " '000320': [],\n",
       " '000325': [['정지'], ['정지'], ['정지']],\n",
       " '000327': [['정지']],\n",
       " '000330': [['정지']],\n",
       " '000331': [],\n",
       " '000360': [['정지']],\n",
       " '000365': [['정지']],\n",
       " '000370': [['정지']],\n",
       " '000380': [['정지'],\n",
       "  ['정지'],\n",
       "  ['정지'],\n",
       "  ['정지'],\n",
       "  ['정지'],\n",
       "  ['정지'],\n",
       "  ['정지'],\n",
       "  ['정지'],\n",
       "  ['정지'],\n",
       "  ['정지'],\n",
       "  ['정지'],\n",
       "  ['정지']],\n",
       " '000390': [],\n",
       " '000400': [['정지']],\n",
       " '000420': [['정지']],\n",
       " '000425': [['정지']],\n",
       " '000430': [],\n",
       " '000440': [['정지'],\n",
       "  ['정지'],\n",
       "  ['정지'],\n",
       "  ['정지'],\n",
       "  ['정지'],\n",
       "  ['정지'],\n",
       "  ['정지'],\n",
       "  ['정지'],\n",
       "  ['정지'],\n",
       "  ['정지'],\n",
       "  ['정지']],\n",
       " '000450': [],\n",
       " '000470': [['정지'], ['정지']],\n",
       " '000475': [],\n",
       " '000480': [],\n",
       " '000481': [],\n",
       " '000490': [],\n",
       " '000500': [],\n",
       " '000510': [],\n",
       " '000520': [],\n",
       " '000530': [['정지'], ['정지'], ['정지'], ['정지'], ['정지'], ['정지']],\n",
       " '000540': [['정지']],\n",
       " '000545': [],\n",
       " '000547': [],\n",
       " '000550': [['정지'], ['정지'], ['정지'], ['정지']],\n",
       " '000570': [['정지']],\n",
       " '000575': [['정지']],\n",
       " '000590': [],\n",
       " '000600': [['정지'], ['정지']],\n",
       " '000610': [],\n",
       " '000640': [['정지']],\n",
       " '000650': [],\n",
       " '000660': [],\n",
       " '000670': [['정지'], ['정지'], ['정지']],\n",
       " '000680': [['정지'], ['정지']],\n",
       " '000685': [['정지'], ['정지'], ['정지']],\n",
       " '000687': [],\n",
       " '000700': [['정지']],\n",
       " '000720': [],\n",
       " '000725': [],\n",
       " '000726': [['정지']],\n",
       " '000760': [],\n",
       " '000790': [['정지'], ['정지']],\n",
       " '000791': [],\n",
       " '000794': [],\n",
       " '000800': [],\n",
       " '000805': [['정지']],\n",
       " '000810': [],\n",
       " '000815': [],\n",
       " '000830': [],\n",
       " '000835': [],\n",
       " '000840': [['정지']],\n",
       " '000850': [],\n",
       " '000860': [],\n",
       " '000870': [['정지'],\n",
       "  ['정지'],\n",
       "  ['정지'],\n",
       "  ['정지'],\n",
       "  ['정지'],\n",
       "  ['정지'],\n",
       "  ['정지'],\n",
       "  ['정지'],\n",
       "  ['정지'],\n",
       "  ['정지']],\n",
       " '000880': [],\n",
       " '000881': [],\n",
       " '000885': [['정지'], ['정지']],\n",
       " '000887': [],\n",
       " '000890': [['정지']],\n",
       " '000895': [['정지'],\n",
       "  ['정지'],\n",
       "  ['정지'],\n",
       "  ['정지'],\n",
       "  ['정지'],\n",
       "  ['정지'],\n",
       "  ['정지'],\n",
       "  ['정지'],\n",
       "  ['정지'],\n",
       "  ['정지'],\n",
       "  ['정지']],\n",
       " '000900': [['정지']],\n",
       " '000905': [['정지']],\n",
       " '000910': [],\n",
       " '000911': [],\n",
       " '000930': [['정지']],\n",
       " '000931': [],\n",
       " '000950': [],\n",
       " '000970': [],\n",
       " '000980': [],\n",
       " '000985': [],\n",
       " '000995': [],\n",
       " '000997': [],\n",
       " '001000': [['정지'],\n",
       "  ['정지'],\n",
       "  ['정지'],\n",
       "  ['정지'],\n",
       "  ['정지'],\n",
       "  ['정지'],\n",
       "  ['정지'],\n",
       "  ['정지'],\n",
       "  ['정지'],\n",
       "  ['정지'],\n",
       "  ['정지'],\n",
       "  ['정지'],\n",
       "  ['정지'],\n",
       "  ['정지'],\n",
       "  ['정지'],\n",
       "  ['정지'],\n",
       "  ['정지'],\n",
       "  ['정지']],\n",
       " '001020': [['정지']],\n",
       " '001030': [['정지'], ['정지']],\n",
       " '001035': [['정지'], ['정지'], ['정지'], ['정지']],\n",
       " '001040': [],\n",
       " '001045': [],\n",
       " '001047': [],\n",
       " '001049': [],\n",
       " '001060': [],\n",
       " '001065': [['정지']],\n",
       " '001067': [['정지'], ['정지']],\n",
       " '001070': [],\n",
       " '001080': [],\n",
       " '001090': [['정지']],\n",
       " '001095': [['정지']],\n",
       " '001110': [['정지']],\n",
       " '001120': [['정지']],\n",
       " '001130': [],\n",
       " '001140': [],\n",
       " '001150': [['정지']],\n",
       " '001155': [['정지']],\n",
       " '001160': [['정지']],\n",
       " '001170': [['정지']],\n",
       " '001171': [],\n",
       " '001190': [['정지']],\n",
       " '001200': [],\n",
       " '001210': [],\n",
       " '001230': [],\n",
       " '001250': [['정지']],\n",
       " '001260': [['정지'], ['정지'], ['정지'], ['정지']],\n",
       " '001265': [['정지']],\n",
       " '001270': [],\n",
       " '001275': [],\n",
       " '001280': [],\n",
       " '001290': [['정지'], ['정지'], ['정지'], ['정지'], ['정지']],\n",
       " '001295': [],\n",
       " '001300': [],\n",
       " '001310': [],\n",
       " '001340': [],\n",
       " '001350': [['정지']],\n",
       " '001360': [],\n",
       " '001370': [],\n",
       " '001375': [],\n",
       " '001380': [['정지']],\n",
       " '001385': [['정지'],\n",
       "  ['정지'],\n",
       "  ['정지'],\n",
       "  ['정지'],\n",
       "  ['정지'],\n",
       "  ['정지'],\n",
       "  ['정지'],\n",
       "  ['정지'],\n",
       "  ['정지'],\n",
       "  ['정지'],\n",
       "  ['정지'],\n",
       "  ['정지'],\n",
       "  ['정지'],\n",
       "  ['정지'],\n",
       "  ['정지'],\n",
       "  ['정지'],\n",
       "  ['정지'],\n",
       "  ['정지'],\n",
       "  ['정지'],\n",
       "  ['정지'],\n",
       "  ['정지'],\n",
       "  ['정지'],\n",
       "  ['정지'],\n",
       "  ['정지']],\n",
       " '001390': [['정지']],\n",
       " '001400': [['정지'], ['정지'], ['정지']],\n",
       " '001420': [],\n",
       " '001430': [['정지']],\n",
       " '001431': [],\n",
       " '001440': [['정지']],\n",
       " '001450': [],\n",
       " '001460': [],\n",
       " '001465': [['정지'], ['정지'], ['정지']],\n",
       " '001470': [['정지'], ['정지']],\n",
       " '001490': [['정지'], ['정지']],\n",
       " '001501': [],\n",
       " '001510': [],\n",
       " '001515': [],\n",
       " '001520': [['정지']],\n",
       " '001525': [['정지']],\n",
       " '001527': [['정지']],\n",
       " '001529': [['정지']],\n",
       " '001530': [],\n",
       " '001540': [],\n",
       " '001550': [],\n",
       " '001560': [],\n",
       " '001570': [['정지']],\n",
       " '001580': [['정지'], ['정지']],\n",
       " '001590': [['정지']],\n",
       " '001600': [['정지']],\n",
       " '001610': [['정지']],\n",
       " '001615': [['정지']],\n",
       " '001620': [],\n",
       " '001630': [['정지'], ['정지']],\n",
       " '001670': [['정지'], ['정지']],\n",
       " '001675': [['정지'], ['정지']],\n",
       " '001680': [],\n",
       " '001685': [],\n",
       " '001687': [],\n",
       " '001689': [],\n",
       " '001690': [],\n",
       " '001691': [],\n",
       " '001695': [],\n",
       " '001697': [],\n",
       " '001700': [['정지']],\n",
       " '001720': [],\n",
       " '001725': [],\n",
       " '001740': [['정지']],\n",
       " '001745': [['정지']],\n",
       " '001755': [['정지']],\n",
       " '001770': [['정지']],\n",
       " '001780': [['정지']],\n",
       " '001785': [['정지']],\n",
       " '001787': [['정지'], ['정지'], ['정지'], ['정지'], ['정지'], ['정지'], ['정지']],\n",
       " '001790': [],\n",
       " '001791': [],\n",
       " '001795': [['정지'], ['정지'], ['정지'], ['정지'], ['정지']],\n",
       " '001797': [['정지']],\n",
       " '001799': [['정지']],\n",
       " '001800': [['정지']],\n",
       " '001810': [],\n",
       " '001820': [],\n",
       " '001821': [],\n",
       " '001830': [],\n",
       " '001835': [],\n",
       " '001837': [],\n",
       " '001840': [['정지'],\n",
       "  ['정지'],\n",
       "  ['정지'],\n",
       "  ['정지'],\n",
       "  ['정지'],\n",
       "  ['정지'],\n",
       "  ['정지'],\n",
       "  ['정지'],\n",
       "  ['정지'],\n",
       "  ['정지'],\n",
       "  ['정지'],\n",
       "  ['정지'],\n",
       "  ['정지'],\n",
       "  ['정지'],\n",
       "  ['정지'],\n",
       "  ['정지'],\n",
       "  ['정지'],\n",
       "  ['정지'],\n",
       "  ['정지'],\n",
       "  ['정지'],\n",
       "  ['정지']],\n",
       " '001850': [['정지'],\n",
       "  ['정지'],\n",
       "  ['정지'],\n",
       "  ['정지'],\n",
       "  ['정지'],\n",
       "  ['정지'],\n",
       "  ['정지'],\n",
       "  ['정지'],\n",
       "  ['정지'],\n",
       "  ['정지'],\n",
       "  ['정지'],\n",
       "  ['정지'],\n",
       "  ['정지'],\n",
       "  ['정지'],\n",
       "  ['정지'],\n",
       "  ['정지'],\n",
       "  ['정지'],\n",
       "  ['정지'],\n",
       "  ['정지'],\n",
       "  ['정지']],\n",
       " '001880': [],\n",
       " '001890': [],\n",
       " '001910': [['정지']],\n",
       " '001920': [['정지']],\n",
       " '001930': [['정지']],\n",
       " '001940': [['정지']],\n",
       " '001950': [['정지']],\n",
       " '001955': [['정지'], ['정지'], ['정지'], ['정지']],\n",
       " '001970': [['정지'], ['정지']],\n",
       " '001975': [['정지'], ['정지']],\n",
       " '001980': [['정지']],\n",
       " '001990': [['정지'],\n",
       "  ['정지'],\n",
       "  ['정지'],\n",
       "  ['정지'],\n",
       "  ['정지'],\n",
       "  ['정지'],\n",
       "  ['정지'],\n",
       "  ['정지'],\n",
       "  ['정지'],\n",
       "  ['정지'],\n",
       "  ['정지'],\n",
       "  ['정지'],\n",
       "  ['정지'],\n",
       "  ['정지'],\n",
       "  ['정지'],\n",
       "  ['정지'],\n",
       "  ['정지'],\n",
       "  ['정지']],\n",
       " '002000': [],\n",
       " '002005': [],\n",
       " '002020': [['정지']],\n",
       " '002021': [],\n",
       " '002025': [['정지']],\n",
       " '002027': [],\n",
       " '002030': [['정지']],\n",
       " '002031': [],\n",
       " '002050': [['정지']],\n",
       " '002055': [['정지']],\n",
       " '002070': [],\n",
       " '002080': [['정지']],\n",
       " '002100': [],\n",
       " '002105': [['정지'], ['정지'], ['정지']],\n",
       " '002130': [],\n",
       " '002140': [],\n",
       " '002150': [],\n",
       " '002170': [],\n",
       " '002180': [],\n",
       " '002190': [['정지'], ['정지'], ['정지'], ['정지'], ['정지'], ['정지'], ['정지']],\n",
       " '002200': [],\n",
       " '002201': [],\n",
       " '002210': [],\n",
       " '002220': [['정지']],\n",
       " '002230': [['정지'], ['정지'], ['정지'], ['정지'], ['정지'], ['정지'], ['정지']],\n",
       " '002240': [],\n",
       " '002250': [['정지'], ['정지']],\n",
       " '002255': [['정지']],\n",
       " '002257': [['정지']],\n",
       " '002270': [],\n",
       " '002290': [['정지'],\n",
       "  ['정지'],\n",
       "  ['정지'],\n",
       "  ['정지'],\n",
       "  ['정지'],\n",
       "  ['정지'],\n",
       "  ['정지'],\n",
       "  ['정지'],\n",
       "  ['정지'],\n",
       "  ['정지'],\n",
       "  ['정지'],\n",
       "  ['정지'],\n",
       "  ['정지'],\n",
       "  ['정지'],\n",
       "  ['정지'],\n",
       "  ['정지'],\n",
       "  ['정지'],\n",
       "  ['정지'],\n",
       "  ['정지'],\n",
       "  ['정지'],\n",
       "  ['정지'],\n",
       "  ['정지'],\n",
       "  ['정지'],\n",
       "  ['정지']],\n",
       " '002300': [],\n",
       " '002301': [],\n",
       " '002310': [],\n",
       " '002320': [],\n",
       " '002340': [],\n",
       " '002350': [['정지']],\n",
       " '002355': [],\n",
       " '002360': [],\n",
       " '002365': [['정지'], ['정지'], ['정지']],\n",
       " '002380': [],\n",
       " '002390': [],\n",
       " '002410': [['정지']],\n",
       " '002420': [['정지'], ['정지'], ['정지'], ['정지'], ['정지'], ['정지']],\n",
       " '002440': [['정지']],\n",
       " '002445': [['정지']],\n",
       " '002450': [],\n",
       " '002455': [['정지']],\n",
       " '002470': [],\n",
       " '002480': [['정지'], ['정지'], ['정지'], ['정지'], ['정지'], ['정지'], ['정지'], ['정지']],\n",
       " '002530': [['정지'], ['정지'], ['정지']],\n",
       " '002535': [['정지'], ['정지'], ['정지']],\n",
       " '002540': [['정지'], ['정지'], ['정지']],\n",
       " '002550': [],\n",
       " '002580': [['정지']],\n",
       " '002585': [['정지']],\n",
       " '002600': [['정지'], ['정지'], ['정지'], ['정지'], ['정지']],\n",
       " '002610': [],\n",
       " '002615': [],\n",
       " '002620': [['정지']],\n",
       " '002630': [],\n",
       " '002670': [['정지'],\n",
       "  ['정지'],\n",
       "  ['정지'],\n",
       "  ['정지'],\n",
       "  ['정지'],\n",
       "  ['정지'],\n",
       "  ['정지'],\n",
       "  ['정지'],\n",
       "  ['정지'],\n",
       "  ['정지'],\n",
       "  ['정지'],\n",
       "  ['정지'],\n",
       "  ['정지'],\n",
       "  ['정지']],\n",
       " '002671': [['정지'], ['정지'], ['정지'], ['정지']],\n",
       " '002680': [['정지'],\n",
       "  ['정지'],\n",
       "  ['정지'],\n",
       "  ['정지'],\n",
       "  ['정지'],\n",
       "  ['정지'],\n",
       "  ['정지'],\n",
       "  ['정지'],\n",
       "  ['정지'],\n",
       "  ['정지'],\n",
       "  ['정지'],\n",
       "  ['정지'],\n",
       "  ['정지']],\n",
       " '002700': [['정지']],\n",
       " '002710': [],\n",
       " '002720': [],\n",
       " '002730': [['정지']],\n",
       " '002735': [['정지']],\n",
       " '002740': [['정지']],\n",
       " '002741': [],\n",
       " '002742': [],\n",
       " '002745': [['정지']],\n",
       " '002746': [],\n",
       " '002750': [['정지'], ['정지']],\n",
       " '002760': [],\n",
       " '002780': [['정지'], ['정지']],\n",
       " '002785': [['정지'], ['정지']],\n",
       " '002787': [['정지'], ['정지']],\n",
       " '002790': [['정지']],\n",
       " '002795': [['정지']],\n",
       " '002797': [['정지']],\n",
       " '002810': [],\n",
       " '002820': [],\n",
       " '002830': [['정지'],\n",
       "  ['정지'],\n",
       "  ['정지'],\n",
       "  ['정지'],\n",
       "  ['정지'],\n",
       "  ['정지'],\n",
       "  ['정지'],\n",
       "  ['정지'],\n",
       "  ['정지'],\n",
       "  ['정지'],\n",
       "  ['정지'],\n",
       "  ['정지'],\n",
       "  ['정지'],\n",
       "  ['정지']],\n",
       " '002840': [['정지'], ['정지']],\n",
       " '002850': [['정지']],\n",
       " '002855': [['정지']],\n",
       " '002857': [['정지']],\n",
       " '002860': [['정지']],\n",
       " '002870': [],\n",
       " '002880': [['정지'], ['정지'], ['정지'], ['정지'], ['정지'], ['정지']],\n",
       " '002900': [],\n",
       " '002910': [['정지']],\n",
       " '002920': [],\n",
       " '002930': [],\n",
       " '002935': [['정지']],\n",
       " '002940': [['정지'], ['정지']],\n",
       " '002950': [],\n",
       " '002955': [],\n",
       " '002957': [],\n",
       " '002960': [],\n",
       " '002990': [],\n",
       " '002995': [],\n",
       " '003000': [],\n",
       " '003010': [],\n",
       " '003020': [['정지']],\n",
       " '003030': [['정지'], ['정지']],\n",
       " '003031': [],\n",
       " '003040': [],\n",
       " '003050': [],\n",
       " '003060': [['정지'], ['정지'], ['정지'], ['정지']],\n",
       " '003070': [],\n",
       " '003071': [],\n",
       " '003075': [],\n",
       " '003079': [['정지']],\n",
       " '003080': [],\n",
       " '003081': [],\n",
       " '003082': [],\n",
       " '003090': [['정지']],\n",
       " '003100': [],\n",
       " '003110': [],\n",
       " '003120': [],\n",
       " '003160': [],\n",
       " '003161': [],\n",
       " '003190': [['정지'], ['정지']],\n",
       " '003200': [],\n",
       " '003220': [['정지'],\n",
       "  ['정지'],\n",
       "  ['정지'],\n",
       "  ['정지'],\n",
       "  ['정지'],\n",
       "  ['정지'],\n",
       "  ['정지'],\n",
       "  ['정지'],\n",
       "  ['정지'],\n",
       "  ['정지'],\n",
       "  ['정지'],\n",
       "  ['정지'],\n",
       "  ['정지'],\n",
       "  ['정지'],\n",
       "  ['정지'],\n",
       "  ['정지'],\n",
       "  ['정지'],\n",
       "  ['정지'],\n",
       "  ['정지']],\n",
       " '003230': [],\n",
       " '003240': [],\n",
       " '003260': [['정지']],\n",
       " '003280': [['정지']],\n",
       " '003290': [],\n",
       " '003300': [['정지']],\n",
       " '003310': [['정지'],\n",
       "  ['정지'],\n",
       "  ['정지'],\n",
       "  ['정지'],\n",
       "  ['정지'],\n",
       "  ['정지'],\n",
       "  ['정지'],\n",
       "  ['정지'],\n",
       "  ['정지'],\n",
       "  ['정지'],\n",
       "  ['정지'],\n",
       "  ['정지'],\n",
       "  ['정지'],\n",
       "  ['정지'],\n",
       "  ['정지'],\n",
       "  ['정지'],\n",
       "  ['정지'],\n",
       "  ['정지'],\n",
       "  ['정지'],\n",
       "  ['정지'],\n",
       "  ['정지']],\n",
       " '003320': [],\n",
       " '003330': [],\n",
       " '003335': [],\n",
       " '003350': [['정지']],\n",
       " '003380': [['정지'],\n",
       "  ['정지'],\n",
       "  ['정지'],\n",
       "  ['정지'],\n",
       "  ['정지'],\n",
       "  ['정지'],\n",
       "  ['정지'],\n",
       "  ['정지'],\n",
       "  ['정지'],\n",
       "  ['정지']],\n",
       " '003410': [['정지']],\n",
       " '003415': [['정지'], ['정지']],\n",
       " '003417': [['정지'], ['정지']],\n",
       " '003418': [['정지']],\n",
       " '003419': [['정지']],\n",
       " '00341A': [['정지']],\n",
       " '00341D': [['정지']],\n",
       " '003430': [['정지'], ['정지'], ['정지'], ['정지'], ['정지'], ['정지'], ['정지'], ['정지']],\n",
       " '003450': [],\n",
       " '003451': [],\n",
       " '003457': [],\n",
       " '003460': [],\n",
       " '003465': [],\n",
       " '003475': [],\n",
       " '003480': [['정지']],\n",
       " '003490': [['정지']],\n",
       " '003495': [['정지']],\n",
       " '003497': [],\n",
       " '003500': [],\n",
       " '003520': [],\n",
       " '003535': [],\n",
       " '003547': [],\n",
       " '003550': [['정지']],\n",
       " '003555': [['정지']],\n",
       " '003560': [],\n",
       " '003570': [['정지']],\n",
       " '003580': [],\n",
       " '003590': [['정지'], ['정지']],\n",
       " '003595': [['정지'], ['정지']],\n",
       " '003600': [],\n",
       " '003605': [],\n",
       " '003610': [],\n",
       " '003620': [['정지'], ['정지']],\n",
       " '003640': [['정지']],\n",
       " '003660': [['정지'], ['정지']],\n",
       " '003665': [['정지']],\n",
       " '003670': [],\n",
       " '003690': [],\n",
       " '003691': [],\n",
       " '003700': [['정지'], ['정지'], ['정지'], ['정지'], ['정지']],\n",
       " '003701': [['정지'], ['정지']],\n",
       " '003720': [],\n",
       " '003780': [['정지']],\n",
       " '003800': [['정지'], ['정지'], ['정지'], ['정지'], ['정지'], ['정지'], ['정지']],\n",
       " '003810': [['정지']],\n",
       " '003830': [],\n",
       " '003840': [['정지']],\n",
       " '003850': [],\n",
       " '003860': [['정지'], ['정지'], ['정지'], ['정지'], ['정지']],\n",
       " '003890': [['정지'], ['정지'], ['정지']],\n",
       " '003900': [['정지']],\n",
       " '003905': [['정지']],\n",
       " '003920': [],\n",
       " '003925': [['정지'], ['정지'], ['정지']],\n",
       " '003930': [['정지']],\n",
       " '003940': [],\n",
       " '003945': [],\n",
       " '003960': [['정지']],\n",
       " '003965': [['정지'], ['정지'], ['정지'], ['정지'], ['정지']],\n",
       " '003970': [['정지']],\n",
       " '003971': [['정지']],\n",
       " '003975': [['정지'], ['정지'], ['정지'], ['정지']],\n",
       " '003980': [],\n",
       " '003985': [],\n",
       " '003990': [['정지']],\n",
       " '004010': [['정지']],\n",
       " '004011': [],\n",
       " '004021': [],\n",
       " '004025': [],\n",
       " '004060': [['정지']],\n",
       " '004080': [],\n",
       " '004090': [],\n",
       " '004100': [],\n",
       " '004105': [],\n",
       " '004110': [],\n",
       " '004130': [],\n",
       " '004135': [],\n",
       " '004137': [],\n",
       " '004140': [],\n",
       " '004145': [['정지']],\n",
       " '004147': [['정지']],\n",
       " '004149': [['정지']],\n",
       " '004150': [],\n",
       " '004151': [],\n",
       " '004155': [['정지']],\n",
       " '004170': [['정지']],\n",
       " '004171': [],\n",
       " '004175': [],\n",
       " '004190': [['정지'], ['정지'], ['정지']],\n",
       " '004200': [['정지']],\n",
       " '004210': [['정지']],\n",
       " '004230': [['정지']],\n",
       " '004250': [],\n",
       " '004255': [],\n",
       " '004260': [['정지']],\n",
       " '004270': [],\n",
       " '004280': [['정지']],\n",
       " '004290': [],\n",
       " '004295': [['정지']],\n",
       " '004310': [],\n",
       " '004320': [['정지'], ['정지'], ['정지'], ['정지'], ['정지'], ['정지']],\n",
       " '004321': [['정지'], ['정지'], ['정지']],\n",
       " '004325': [],\n",
       " '004360': [],\n",
       " '004365': [],\n",
       " '004367': [],\n",
       " '004370': [['정지']],\n",
       " '004380': [],\n",
       " '004390': [],\n",
       " '004410': [['정지']],\n",
       " '004415': [['정지']],\n",
       " '004420': [['정지']],\n",
       " '004430': [],\n",
       " '004431': [],\n",
       " '004432': [],\n",
       " '004450': [],\n",
       " '004460': [['정지']],\n",
       " '004465': [['정지']],\n",
       " '004480': [['정지'], ['정지'], ['정지'], ['정지'], ['정지']],\n",
       " '004481': [['정지'], ['정지'], ['정지']],\n",
       " '004490': [],\n",
       " '004510': [],\n",
       " '004520': [['정지']],\n",
       " '004530': [],\n",
       " '004540': [],\n",
       " '004545': [],\n",
       " '004550': [['정지'], ['정지']],\n",
       " '004555': [['정지'], ['정지']],\n",
       " '004560': [],\n",
       " '004565': [['정지']],\n",
       " '004590': [['정지'], ['정지'], ['정지'], ['정지'], ['정지'], ['정지'], ['정지'], ['정지']],\n",
       " '004600': [],\n",
       " '004605': [],\n",
       " '004620': [],\n",
       " '004660': [['정지']],\n",
       " '004691': [],\n",
       " '004692': [],\n",
       " '004700': [],\n",
       " '004701': [],\n",
       " '004710': [],\n",
       " '004720': [['정지']],\n",
       " '004730': [],\n",
       " '004735': [['정지'], ['정지']],\n",
       " '004740': [['정지'], ['정지'], ['정지']],\n",
       " '004750': [['정지'], ['정지'], ['정지'], ['정지'], ['정지'], ['정지'], ['정지']],\n",
       " '004770': [],\n",
       " '004780': [['정지'],\n",
       "  ['정지'],\n",
       "  ['정지'],\n",
       "  ['정지'],\n",
       "  ['정지'],\n",
       "  ['정지'],\n",
       "  ['정지'],\n",
       "  ['정지'],\n",
       "  ['정지'],\n",
       "  ['정지'],\n",
       "  ['정지'],\n",
       "  ['정지'],\n",
       "  ['정지'],\n",
       "  ['정지'],\n",
       "  ['정지'],\n",
       "  ['정지'],\n",
       "  ['정지'],\n",
       "  ['정지'],\n",
       "  ['정지'],\n",
       "  ['정지'],\n",
       "  ['정지'],\n",
       "  ['정지'],\n",
       "  ['정지'],\n",
       "  ['정지']],\n",
       " '004790': [['정지'], ['정지'], ['정지'], ['정지'], ['정지']],\n",
       " '004791': [['정지']],\n",
       " '004800': [['정지']],\n",
       " '004820': [],\n",
       " '004830': [],\n",
       " '004835': [],\n",
       " '004837': [],\n",
       " '004840': [],\n",
       " '004870': [['정지'], ['정지']],\n",
       " '004871': [],\n",
       " '004910': [],\n",
       " '004920': [],\n",
       " '004940': [],\n",
       " '004945': [['정지']],\n",
       " '004947': [['정지']],\n",
       " '004960': [['정지']],\n",
       " '004965': [['정지']],\n",
       " '004970': [],\n",
       " '004980': [],\n",
       " '004985': [],\n",
       " '004987': [],\n",
       " '004989': [['정지']],\n",
       " '004990': [],\n",
       " '005000': [],\n",
       " '005010': [],\n",
       " '005011': [['정지']],\n",
       " '005020': [['정지']],\n",
       " '005030': [],\n",
       " '005040': [['정지']],\n",
       " '005060': [['정지']],\n",
       " '005070': [['정지']],\n",
       " '005090': [],\n",
       " '005100': [],\n",
       " '005105': [['정지']],\n",
       " '005110': [],\n",
       " '005111': [],\n",
       " '005114': [['정지']],\n",
       " '005117': [['정지']],\n",
       " '005160': [],\n",
       " '005190': [['정지']],\n",
       " '005250': [],\n",
       " '005255': [['정지'], ['정지'], ['정지']],\n",
       " '005257': [['정지'], ['정지'], ['정지'], ['정지']],\n",
       " '005270': [],\n",
       " '005280': [],\n",
       " '005290': [],\n",
       " '005300': [],\n",
       " '005305': [['정지'], ['정지'], ['정지']],\n",
       " '005320': [['정지']],\n",
       " '005321': [['정지']],\n",
       " '005330': [],\n",
       " '005350': [],\n",
       " '005360': [],\n",
       " '005370': [['정지'],\n",
       "  ['정지'],\n",
       "  ['정지'],\n",
       "  ['정지'],\n",
       "  ['정지'],\n",
       "  ['정지'],\n",
       "  ['정지'],\n",
       "  ['정지'],\n",
       "  ['정지'],\n",
       "  ['정지'],\n",
       "  ['정지'],\n",
       "  ['정지'],\n",
       "  ['정지'],\n",
       "  ['정지'],\n",
       "  ['정지']],\n",
       " '005371': [['정지']],\n",
       " '005385': [],\n",
       " '005386': [['정지']],\n",
       " '005387': [],\n",
       " '005390': [['정지']],\n",
       " '005410': [],\n",
       " '005420': [],\n",
       " '005421': [],\n",
       " '005430': [],\n",
       " '005440': [],\n",
       " '005450': [['정지'], ['정지']],\n",
       " '005470': [['정지']],\n",
       " '005500': [],\n",
       " '005510': [['정지']],\n",
       " '005560': [['정지']],\n",
       " '005561': [['정지']],\n",
       " '005580': [['정지']],\n",
       " '005600': [['정지']],\n",
       " '005605': [['정지']],\n",
       " '005610': [['정지'], ['정지']],\n",
       " '005620': [['정지']],\n",
       " '005621': [],\n",
       " '005650': [['정지'], ['정지']],\n",
       " '005660': [['정지']],\n",
       " '005664': [['정지']],\n",
       " '005667': [['정지'], ['정지']],\n",
       " '005670': [['정지'],\n",
       "  ['정지'],\n",
       "  ['정지'],\n",
       "  ['정지'],\n",
       "  ['정지'],\n",
       "  ['정지'],\n",
       "  ['정지'],\n",
       "  ['정지'],\n",
       "  ['정지'],\n",
       "  ['정지'],\n",
       "  ['정지'],\n",
       "  ['정지'],\n",
       "  ['정지'],\n",
       "  ['정지'],\n",
       "  ['정지'],\n",
       "  ['정지'],\n",
       "  ['정지']],\n",
       " '005671': [['정지'], ['정지']],\n",
       " '005672': [['정지']],\n",
       " '005680': [],\n",
       " '005690': [],\n",
       " '005710': [['정지'], ['정지'], ['정지'], ['정지'], ['정지'], ['정지']],\n",
       " '005720': [],\n",
       " '005725': [['정지']],\n",
       " '005740': [['정지'], ['정지']],\n",
       " '005745': [['정지'], ['정지'], ['정지'], ['정지'], ['정지'], ['정지'], ['정지'], ['정지']],\n",
       " '005750': [],\n",
       " '005760': [['정지']],\n",
       " '005770': [['정지']],\n",
       " '005790': [['정지']],\n",
       " '005795': [['정지']],\n",
       " '005797': [['정지']],\n",
       " '005800': [],\n",
       " '005810': [['정지']],\n",
       " '005820': [],\n",
       " '005830': [],\n",
       " '005850': [['정지']],\n",
       " '005860': [['정지'],\n",
       "  ['정지'],\n",
       "  ['정지'],\n",
       "  ['정지'],\n",
       "  ['정지'],\n",
       "  ['정지'],\n",
       "  ['정지'],\n",
       "  ['정지'],\n",
       "  ['정지'],\n",
       "  ['정지']],\n",
       " '005870': [['정지']],\n",
       " '005871': [],\n",
       " '005880': [['정지'], ['정지']],\n",
       " '005890': [],\n",
       " '005895': [],\n",
       " '005897': [],\n",
       " '005900': [['정지'], ['정지'], ['정지']],\n",
       " '005930': [],\n",
       " '005935': [],\n",
       " '005960': [['정지'], ['정지']],\n",
       " '005961': [['정지']],\n",
       " '005965': [['정지'], ['정지']],\n",
       " '005980': [['정지'], ['정지'], ['정지']],\n",
       " '005990': [['정지']],\n",
       " '006000': [['정지'],\n",
       "  ['정지'],\n",
       "  ['정지'],\n",
       "  ['정지'],\n",
       "  ['정지'],\n",
       "  ['정지'],\n",
       "  ['정지'],\n",
       "  ['정지'],\n",
       "  ['정지'],\n",
       "  ['정지'],\n",
       "  ['정지'],\n",
       "  ['정지'],\n",
       "  ['정지'],\n",
       "  ['정지'],\n",
       "  ['정지'],\n",
       "  ['정지'],\n",
       "  ['정지'],\n",
       "  ['정지'],\n",
       "  ['정지']],\n",
       " '006040': [],\n",
       " '006050': [['정지'],\n",
       "  ['정지'],\n",
       "  ['정지'],\n",
       "  ['정지'],\n",
       "  ['정지'],\n",
       "  ['정지'],\n",
       "  ['정지'],\n",
       "  ['정지'],\n",
       "  ['정지'],\n",
       "  ['정지'],\n",
       "  ['정지'],\n",
       "  ['정지']],\n",
       " '006051': [],\n",
       " '006060': [],\n",
       " '006070': [['정지'], ['정지']],\n",
       " '006090': [],\n",
       " '006110': [['정지'], ['정지']],\n",
       " '006120': [['정지']],\n",
       " '006125': [['정지']],\n",
       " '006140': [['정지'], ['정지'], ['정지'], ['정지'], ['정지'], ['정지'], ['정지']],\n",
       " '006150': [],\n",
       " '006160': [],\n",
       " '006161': [],\n",
       " '006165': [],\n",
       " '006200': [['정지']],\n",
       " '006210': [],\n",
       " '006220': [['정지'], ['정지']],\n",
       " '006240': [['정지']],\n",
       " '006250': [],\n",
       " '006280': [['정지']],\n",
       " '006290': [],\n",
       " '006295': [['정지']],\n",
       " '006300': [['정지'],\n",
       "  ['정지'],\n",
       "  ['정지'],\n",
       "  ['정지'],\n",
       "  ['정지'],\n",
       "  ['정지'],\n",
       "  ['정지'],\n",
       "  ['정지'],\n",
       "  ['정지'],\n",
       "  ['정지'],\n",
       "  ['정지'],\n",
       "  ['정지'],\n",
       "  ['정지']],\n",
       " '006301': [['정지']],\n",
       " '006302': [],\n",
       " '006320': [['정지']],\n",
       " '006340': [],\n",
       " '006341': [],\n",
       " '006344': [],\n",
       " '006345': [],\n",
       " '006347': [],\n",
       " '006350': [],\n",
       " '006360': [],\n",
       " '006375': [['정지'],\n",
       "  ['정지'],\n",
       "  ['정지'],\n",
       "  ['정지'],\n",
       "  ['정지'],\n",
       "  ['정지'],\n",
       "  ['정지'],\n",
       "  ['정지'],\n",
       "  ['정지'],\n",
       "  ['정지'],\n",
       "  ['정지']],\n",
       " '006380': [],\n",
       " '006390': [['정지'], ['정지']],\n",
       " '006440': [['정지']],\n",
       " '006445': [['정지'], ['정지'], ['정지'], ['정지'], ['정지'], ['정지']],\n",
       " '006490': [],\n",
       " '006510': [['정지']],\n",
       " '006515': [['정지']],\n",
       " '006520': [['정지'], ['정지'], ['정지'], ['정지'], ['정지'], ['정지']],\n",
       " '006540': [['정지'],\n",
       "  ['정지'],\n",
       "  ['정지'],\n",
       "  ['정지'],\n",
       "  ['정지'],\n",
       "  ['정지'],\n",
       "  ['정지'],\n",
       "  ['정지'],\n",
       "  ['정지'],\n",
       "  ['정지'],\n",
       "  ['정지'],\n",
       "  ['정지']],\n",
       " '006570': [],\n",
       " '006580': [['정지'],\n",
       "  ['정지'],\n",
       "  ['정지'],\n",
       "  ['정지'],\n",
       "  ['정지'],\n",
       "  ['정지'],\n",
       "  ['정지'],\n",
       "  ['정지'],\n",
       "  ['정지']],\n",
       " '006590': [['정지']],\n",
       " '006600': [],\n",
       " '006605': [],\n",
       " '006610': [['정지']],\n",
       " '006660': [],\n",
       " '006730': [['정지'], ['정지'], ['정지'], ['정지'], ['정지'], ['정지']],\n",
       " '006740': [],\n",
       " '006750': [['정지']],\n",
       " '006790': [],\n",
       " '006840': [],\n",
       " '006860': [['정지'], ['정지'], ['정지'], ['정지'], ['정지']],\n",
       " '006890': [['정지'], ['정지'], ['정지'], ['정지'], ['정지'], ['정지'], ['정지']],\n",
       " '006891': [],\n",
       " '006892': [],\n",
       " '006893': [],\n",
       " '006910': [['정지'],\n",
       "  ['정지'],\n",
       "  ['정지'],\n",
       "  ['정지'],\n",
       "  ['정지'],\n",
       "  ['정지'],\n",
       "  ['정지'],\n",
       "  ['정지'],\n",
       "  ['정지'],\n",
       "  ['정지'],\n",
       "  ['정지'],\n",
       "  ['정지'],\n",
       "  ['정지'],\n",
       "  ['정지'],\n",
       "  ['정지'],\n",
       "  ['정지']],\n",
       " '006911': [['정지']],\n",
       " '006920': [['정지'],\n",
       "  ['정지'],\n",
       "  ['정지'],\n",
       "  ['정지'],\n",
       "  ['정지'],\n",
       "  ['정지'],\n",
       "  ['정지'],\n",
       "  ['정지'],\n",
       "  ['정지'],\n",
       "  ['정지'],\n",
       "  ['정지'],\n",
       "  ['정지'],\n",
       "  ['정지'],\n",
       "  ['정지'],\n",
       "  ['정지'],\n",
       "  ['정지'],\n",
       "  ['정지'],\n",
       "  ['정지'],\n",
       "  ['정지'],\n",
       "  ['정지'],\n",
       "  ['정지'],\n",
       "  ['정지']],\n",
       " '006921': [['정지'], ['정지']],\n",
       " '006980': [],\n",
       " '007000': [],\n",
       " '007020': [['정지'], ['정지']],\n",
       " '007021': [['정지'], ['정지']],\n",
       " '007022': [['정지']],\n",
       " '007050': [],\n",
       " '007090': [['정지'],\n",
       "  ['정지'],\n",
       "  ['정지'],\n",
       "  ['정지'],\n",
       "  ['정지'],\n",
       "  ['정지'],\n",
       "  ['정지'],\n",
       "  ['정지'],\n",
       "  ['정지'],\n",
       "  ['정지'],\n",
       "  ['정지'],\n",
       "  ['정지'],\n",
       "  ['정지'],\n",
       "  ['정지'],\n",
       "  ['정지'],\n",
       "  ['정지'],\n",
       "  ['정지'],\n",
       "  ['정지'],\n",
       "  ['정지'],\n",
       "  ['정지'],\n",
       "  ['정지'],\n",
       "  ['정지'],\n",
       "  ['정지'],\n",
       "  ['정지']],\n",
       " '007091': [['정지'], ['정지'], ['정지'], ['정지'], ['정지']],\n",
       " '007100': [['정지']],\n",
       " '007110': [],\n",
       " '007120': [['정지'], ['정지'], ['정지'], ['정지'], ['정지'], ['정지'], ['정지']],\n",
       " '007121': [['정지'], ['정지']],\n",
       " '007140': [['정지'], ['정지'], ['정지'], ['정지'], ['정지'], ['정지'], ['정지']],\n",
       " '007150': [['정지']],\n",
       " '007160': [],\n",
       " '007161': [],\n",
       " '007170': [],\n",
       " '007190': [['정지']],\n",
       " '007195': [['정지']],\n",
       " '007197': [],\n",
       " '007200': [['정지']],\n",
       " '007210': [],\n",
       " '007240': [['정지'], ['정지']],\n",
       " '007260': [['정지'], ['정지'], ['정지'], ['정지'], ['정지'], ['정지'], ['정지']],\n",
       " '007280': [['정지'], ['정지']],\n",
       " '007310': [],\n",
       " '007330': [['정지'],\n",
       "  ['정지'],\n",
       "  ['정지'],\n",
       "  ['정지'],\n",
       "  ['정지'],\n",
       "  ['정지'],\n",
       "  ['정지'],\n",
       "  ['정지'],\n",
       "  ['정지']],\n",
       " '007340': [['정지']],\n",
       " '007360': [],\n",
       " '007361': [],\n",
       " '007362': [['정지']],\n",
       " '007363': [['정지']],\n",
       " '007364': [['정지']],\n",
       " '007365': [['정지']],\n",
       " '007366': [['정지']],\n",
       " '007367': [['정지']],\n",
       " '007368': [['정지']],\n",
       " '007369': [['정지']],\n",
       " '00736A': [['정지']],\n",
       " '00736B': [['정지']],\n",
       " '00736C': [['정지']],\n",
       " '00736D': [['정지']],\n",
       " '00736E': [['정지']],\n",
       " '007370': [],\n",
       " '007380': [],\n",
       " '007390': [['정지'],\n",
       "  ['정지'],\n",
       "  ['정지'],\n",
       "  ['정지'],\n",
       "  ['정지'],\n",
       "  ['정지'],\n",
       "  ['정지'],\n",
       "  ['정지'],\n",
       "  ['정지'],\n",
       "  ['정지'],\n",
       "  ['정지'],\n",
       "  ['정지'],\n",
       "  ['정지'],\n",
       "  ['정지'],\n",
       "  ['정지'],\n",
       "  ['정지'],\n",
       "  ['정지'],\n",
       "  ['정지'],\n",
       "  ['정지'],\n",
       "  ['정지'],\n",
       "  ['정지']],\n",
       " '007410': [],\n",
       " '007420': [['정지']],\n",
       " '007460': [['정지'], ['정지']],\n",
       " '007480': [['정지'], ['정지']],\n",
       " '007490': [['정지']],\n",
       " '007530': [['정지'],\n",
       "  ['정지'],\n",
       "  ['정지'],\n",
       "  ['정지'],\n",
       "  ['정지'],\n",
       "  ['정지'],\n",
       "  ['정지'],\n",
       "  ['정지'],\n",
       "  ['정지'],\n",
       "  ['정지'],\n",
       "  ['정지'],\n",
       "  ['정지'],\n",
       "  ['정지'],\n",
       "  ['정지'],\n",
       "  ['정지'],\n",
       "  ['정지']],\n",
       " '007531': [['정지']],\n",
       " '007540': [['정지'], ['정지']],\n",
       " '007560': [['정지']],\n",
       " '007570': [],\n",
       " '007575': [],\n",
       " '007590': [],\n",
       " '007595': [['정지'],\n",
       "  ['정지'],\n",
       "  ['정지'],\n",
       "  ['정지'],\n",
       "  ['정지'],\n",
       "  ['정지'],\n",
       "  ['정지'],\n",
       "  ['정지'],\n",
       "  ['정지'],\n",
       "  ['정지'],\n",
       "  ['정지'],\n",
       "  ['정지'],\n",
       "  ['정지']],\n",
       " '007610': [],\n",
       " '007611': [],\n",
       " '007630': [['정지'], ['정지']],\n",
       " '007640': [['정지'],\n",
       "  ['정지'],\n",
       "  ['정지'],\n",
       "  ['정지'],\n",
       "  ['정지'],\n",
       "  ['정지'],\n",
       "  ['정지'],\n",
       "  ['정지'],\n",
       "  ['정지'],\n",
       "  ['정지'],\n",
       "  ['정지']],\n",
       " '007641': [['정지']],\n",
       " '007700': [['정지']],\n",
       " '007720': [['정지'],\n",
       "  ['정지'],\n",
       "  ['정지'],\n",
       "  ['정지'],\n",
       "  ['정지'],\n",
       "  ['정지'],\n",
       "  ['정지'],\n",
       "  ['정지'],\n",
       "  ['정지'],\n",
       "  ['정지'],\n",
       "  ['정지'],\n",
       "  ['정지']],\n",
       " '007721': [['정지']],\n",
       " '007770': [['정지'], ['정지']],\n",
       " '007790': [],\n",
       " '007800': [['정지'], ['정지'], ['정지'], ['정지'], ['정지'], ['정지']],\n",
       " '007801': [['정지'], ['정지']],\n",
       " '007810': [],\n",
       " '007815': [],\n",
       " '00781K': [],\n",
       " '007830': [['정지'],\n",
       "  ['정지'],\n",
       "  ['정지'],\n",
       "  ['정지'],\n",
       "  ['정지'],\n",
       "  ['정지'],\n",
       "  ['정지'],\n",
       "  ['정지'],\n",
       "  ['정지'],\n",
       "  ['정지'],\n",
       "  ['정지'],\n",
       "  ['정지'],\n",
       "  ['정지'],\n",
       "  ['정지'],\n",
       "  ['정지'],\n",
       "  ['정지'],\n",
       "  ['정지'],\n",
       "  ['정지'],\n",
       "  ['정지']],\n",
       " '007840': [['정지'],\n",
       "  ['정지'],\n",
       "  ['정지'],\n",
       "  ['정지'],\n",
       "  ['정지'],\n",
       "  ['정지'],\n",
       "  ['정지'],\n",
       "  ['정지'],\n",
       "  ['정지'],\n",
       "  ['정지'],\n",
       "  ['정지'],\n",
       "  ['정지'],\n",
       "  ['정지'],\n",
       "  ['정지'],\n",
       "  ['정지'],\n",
       "  ['정지'],\n",
       "  ['정지'],\n",
       "  ['정지']],\n",
       " '007850': [['정지'], ['정지']],\n",
       " '007860': [['정지']],\n",
       " '007910': [],\n",
       " '007930': [['정지'],\n",
       "  ['정지'],\n",
       "  ['정지'],\n",
       "  ['정지'],\n",
       "  ['정지'],\n",
       "  ['정지'],\n",
       "  ['정지'],\n",
       "  ['정지'],\n",
       "  ['정지'],\n",
       "  ['정지'],\n",
       "  ['정지'],\n",
       "  ['정지'],\n",
       "  ['정지'],\n",
       "  ['정지'],\n",
       "  ['정지'],\n",
       "  ['정지'],\n",
       "  ['정지'],\n",
       "  ['정지'],\n",
       "  ['정지'],\n",
       "  ['정지'],\n",
       "  ['정지']],\n",
       " '007980': [],\n",
       " '007981': [],\n",
       " '007990': [['정지'], ['정지'], ['정지'], ['정지']],\n",
       " '008000': [['정지'], ['정지']],\n",
       " '008010': [['정지'],\n",
       "  ['정지'],\n",
       "  ['정지'],\n",
       "  ['정지'],\n",
       "  ['정지'],\n",
       "  ['정지'],\n",
       "  ['정지'],\n",
       "  ['정지'],\n",
       "  ['정지'],\n",
       "  ['정지'],\n",
       "  ['정지'],\n",
       "  ['정지']],\n",
       " '008020': [],\n",
       " '008030': [['정지']],\n",
       " '008040': [],\n",
       " '008050': [['정지'],\n",
       "  ['정지'],\n",
       "  ['정지'],\n",
       "  ['정지'],\n",
       "  ['정지'],\n",
       "  ['정지'],\n",
       "  ['정지'],\n",
       "  ['정지'],\n",
       "  ['정지'],\n",
       "  ['정지'],\n",
       "  ['정지']],\n",
       " '008051': [['정지']],\n",
       " '008060': [],\n",
       " '00806K': [],\n",
       " '008080': [['정지'], ['정지'], ['정지']],\n",
       " '008100': [],\n",
       " '008105': [],\n",
       " '008110': [],\n",
       " '008120': [['정지']],\n",
       " '008124': [['정지']],\n",
       " '008160': [['정지'],\n",
       "  ['정지'],\n",
       "  ['정지'],\n",
       "  ['정지'],\n",
       "  ['정지'],\n",
       "  ['정지'],\n",
       "  ['정지'],\n",
       "  ['정지'],\n",
       "  ['정지'],\n",
       "  ['정지'],\n",
       "  ['정지'],\n",
       "  ['정지']],\n",
       " '008170': [['정지'], ['정지'], ['정지'], ['정지'], ['정지'], ['정지'], ['정지']],\n",
       " '008190': [],\n",
       " '008191': [['정지'], ['정지']],\n",
       " '008250': [],\n",
       " '008260': [['정지'], ['정지']],\n",
       " '008264': [['정지']],\n",
       " '008270': [],\n",
       " '008290': [['정지'], ['정지'], ['정지'], ['정지'], ['정지']],\n",
       " '008320': [['정지'], ['정지']],\n",
       " '008321': [],\n",
       " '008330': [['정지'], ['정지']],\n",
       " '008340': [['정지'], ['정지'], ['정지'], ['정지'], ['정지'], ['정지'], ['정지']],\n",
       " '008350': [['정지']],\n",
       " '008355': [['정지'], ['정지']],\n",
       " '008370': [['정지'],\n",
       "  ['정지'],\n",
       "  ['정지'],\n",
       "  ['정지'],\n",
       "  ['정지'],\n",
       "  ['정지'],\n",
       "  ['정지'],\n",
       "  ['정지'],\n",
       "  ['정지'],\n",
       "  ['정지'],\n",
       "  ['정지'],\n",
       "  ['정지'],\n",
       "  ['정지']],\n",
       " '008371': [],\n",
       " '008400': [['정지'], ['정지'], ['정지']],\n",
       " '008405': [['정지'], ['정지'], ['정지'], ['정지'], ['정지']],\n",
       " '008410': [['정지'],\n",
       "  ['정지'],\n",
       "  ['정지'],\n",
       "  ['정지'],\n",
       "  ['정지'],\n",
       "  ['정지'],\n",
       "  ['정지'],\n",
       "  ['정지'],\n",
       "  ['정지'],\n",
       "  ['정지']],\n",
       " '008420': [],\n",
       " '008430': [['정지']],\n",
       " '008440': [],\n",
       " '008480': [],\n",
       " '008485': [],\n",
       " '008490': [],\n",
       " '008500': [],\n",
       " '008530': [],\n",
       " '008540': [['정지']],\n",
       " '008560': [],\n",
       " '008580': [['정지'], ['정지'], ['정지'], ['정지'], ['정지']],\n",
       " '008581': [['정지'], ['정지'], ['정지']],\n",
       " '008600': [],\n",
       " '008640': [],\n",
       " '008670': [],\n",
       " '008675': [],\n",
       " '008680': [['정지']],\n",
       " '008690': [['정지']],\n",
       " '008691': [['정지']],\n",
       " '008700': [['정지'], ['정지']],\n",
       " '008705': [['정지'], ['정지']],\n",
       " '008720': [['정지']],\n",
       " '008730': [],\n",
       " '008750': [['정지'], ['정지'], ['정지'], ['정지']],\n",
       " '008770': [],\n",
       " '008775': [],\n",
       " '008780': [['정지'], ['정지'], ['정지'], ['정지'], ['정지']],\n",
       " '008800': [['정지'],\n",
       "  ['정지'],\n",
       "  ['정지'],\n",
       "  ['정지'],\n",
       "  ['정지'],\n",
       "  ['정지'],\n",
       "  ['정지'],\n",
       "  ['정지'],\n",
       "  ['정지'],\n",
       "  ['정지'],\n",
       "  ['정지'],\n",
       "  ['정지'],\n",
       "  ['정지'],\n",
       "  ['정지'],\n",
       "  ['정지'],\n",
       "  ['정지'],\n",
       "  ['정지'],\n",
       "  ['정지'],\n",
       "  ['정지'],\n",
       "  ['정지']],\n",
       " '008810': [['정지']],\n",
       " '008811': [],\n",
       " '008830': [['정지'],\n",
       "  ['정지'],\n",
       "  ['정지'],\n",
       "  ['정지'],\n",
       "  ['정지'],\n",
       "  ['정지'],\n",
       "  ['정지'],\n",
       "  ['정지'],\n",
       "  ['정지'],\n",
       "  ['정지']],\n",
       " '008860': [['정지'], ['정지'], ['정지'], ['정지']],\n",
       " '008870': [],\n",
       " '008890': [],\n",
       " '008891': [],\n",
       " '008895': [],\n",
       " '008900': [['정지'], ['정지']],\n",
       " '008920': [['정지'], ['정지'], ['정지'], ['정지'], ['정지'], ['정지'], ['정지'], ['정지']],\n",
       " '008921': [['정지'], ['정지'], ['정지']],\n",
       " '008930': [['정지']],\n",
       " '008950': [['정지']],\n",
       " '008960': [['정지'], ['정지'], ['정지'], ['정지'], ['정지'], ['정지']],\n",
       " '008970': [['정지']],\n",
       " '008975': [['정지']],\n",
       " '008980': [],\n",
       " '008985': [['정지']],\n",
       " '008990': [['정지']],\n",
       " '009010': [['정지'],\n",
       "  ['정지'],\n",
       "  ['정지'],\n",
       "  ['정지'],\n",
       "  ['정지'],\n",
       "  ['정지'],\n",
       "  ['정지'],\n",
       "  ['정지'],\n",
       "  ['정지'],\n",
       "  ['정지'],\n",
       "  ['정지'],\n",
       "  ['정지'],\n",
       "  ['정지'],\n",
       "  ['정지'],\n",
       "  ['정지'],\n",
       "  ['정지'],\n",
       "  ['정지'],\n",
       "  ['정지']],\n",
       " '009011': [['정지']],\n",
       " '009030': [['정지']],\n",
       " '009035': [['정지']],\n",
       " '009037': [['정지']],\n",
       " '009050': [],\n",
       " '009070': [['정지'], ['정지'], ['정지'], ['정지']],\n",
       " '009080': [['정지']],\n",
       " '009085': [['정지']],\n",
       " '009140': [],\n",
       " '009156': [],\n",
       " '009160': [],\n",
       " '009180': [['정지']],\n",
       " '009190': [],\n",
       " '009200': [],\n",
       " '009220': [['정지'],\n",
       "  ['정지'],\n",
       "  ['정지'],\n",
       "  ['정지'],\n",
       "  ['정지'],\n",
       "  ['정지'],\n",
       "  ['정지'],\n",
       "  ['정지'],\n",
       "  ['정지'],\n",
       "  ['정지'],\n",
       "  ['정지']],\n",
       " '009221': [],\n",
       " '009270': [],\n",
       " '009275': [],\n",
       " '009280': [],\n",
       " '009281': [],\n",
       " '009290': [],\n",
       " '009310': [['정지'], ['정지'], ['정지']],\n",
       " '009320': [['정지']],\n",
       " '009330': [['정지']],\n",
       " '009335': [['정지']],\n",
       " '009337': [['정지']],\n",
       " '009360': [['정지']],\n",
       " '009380': [['정지']],\n",
       " '009385': [],\n",
       " '009410': [],\n",
       " '009415': [],\n",
       " '009420': [],\n",
       " '009440': [['정지']],\n",
       " '009441': [],\n",
       " '009450': [],\n",
       " '009460': [['정지']],\n",
       " '009470': [],\n",
       " '009520': [['정지'], ['정지'], ['정지']],\n",
       " '009540': [['정지']],\n",
       " '009580': [['정지']],\n",
       " '009590': [['정지']],\n",
       " '009620': [['정지'],\n",
       "  ['정지'],\n",
       "  ['정지'],\n",
       "  ['정지'],\n",
       "  ['정지'],\n",
       "  ['정지'],\n",
       "  ['정지'],\n",
       "  ['정지'],\n",
       "  ['정지'],\n",
       "  ['정지'],\n",
       "  ['정지'],\n",
       "  ['정지'],\n",
       "  ['정지'],\n",
       "  ['정지'],\n",
       "  ['정지']],\n",
       " '009650': [],\n",
       " '009655': [],\n",
       " '009680': [],\n",
       " '009690': [['정지']],\n",
       " '009691': [],\n",
       " '009720': [],\n",
       " '009730': [['정지'],\n",
       "  ['정지'],\n",
       "  ['정지'],\n",
       "  ['정지'],\n",
       "  ['정지'],\n",
       "  ['정지'],\n",
       "  ['정지'],\n",
       "  ['정지'],\n",
       "  ['정지'],\n",
       "  ['정지'],\n",
       "  ['정지'],\n",
       "  ['정지'],\n",
       "  ['정지'],\n",
       "  ['정지'],\n",
       "  ['정지']],\n",
       " '009731': [['정지']],\n",
       " '009760': [['정지']],\n",
       " '009770': [],\n",
       " '009780': [['정지'],\n",
       "  ['정지'],\n",
       "  ['정지'],\n",
       "  ['정지'],\n",
       "  ['정지'],\n",
       "  ['정지'],\n",
       "  ['정지'],\n",
       "  ['정지'],\n",
       "  ['정지'],\n",
       "  ['정지'],\n",
       "  ['정지'],\n",
       "  ['정지'],\n",
       "  ['정지'],\n",
       "  ['정지'],\n",
       "  ['정지'],\n",
       "  ['정지'],\n",
       "  ['정지'],\n",
       "  ['정지'],\n",
       "  ['정지'],\n",
       "  ['정지'],\n",
       "  ['정지'],\n",
       "  ['정지'],\n",
       "  ['정지']],\n",
       " '009781': [['정지']],\n",
       " '009790': [['정지']],\n",
       " '009795': [['정지']],\n",
       " '009810': [['정지']],\n",
       " '009815': [['정지'], ['정지'], ['정지'], ['정지'], ['정지'], ['정지'], ['정지']],\n",
       " '009835': [],\n",
       " '009837': [],\n",
       " '009840': [],\n",
       " '009890': [['정지']],\n",
       " '009895': [['정지']],\n",
       " '009897': [['정지'], ['정지']],\n",
       " '009940': [['정지']],\n",
       " '009950': [['정지']],\n",
       " '009970': [['정지']],\n",
       " '010040': [['정지'],\n",
       "  ['정지'],\n",
       "  ['정지'],\n",
       "  ['정지'],\n",
       "  ['정지'],\n",
       "  ['정지'],\n",
       "  ['정지'],\n",
       "  ['정지'],\n",
       "  ['정지'],\n",
       "  ['정지'],\n",
       "  ['정지'],\n",
       "  ['정지']],\n",
       " '010041': [],\n",
       " '010050': [],\n",
       " '010051': [],\n",
       " '010060': [],\n",
       " '010090': [],\n",
       " '010095': [['정지']],\n",
       " '010100': [],\n",
       " '010110': [],\n",
       " '010120': [],\n",
       " '010130': [],\n",
       " '010140': [],\n",
       " '010145': [['정지']],\n",
       " '010150': [['정지']],\n",
       " '010170': [['정지'],\n",
       "  ['정지'],\n",
       "  ['정지'],\n",
       "  ['정지'],\n",
       "  ['정지'],\n",
       "  ['정지'],\n",
       "  ['정지'],\n",
       "  ['정지'],\n",
       "  ['정지'],\n",
       "  ['정지'],\n",
       "  ['정지'],\n",
       "  ['정지'],\n",
       "  ['정지'],\n",
       "  ['정지'],\n",
       "  ['정지'],\n",
       "  ['정지'],\n",
       "  ['정지'],\n",
       "  ['정지'],\n",
       "  ['정지']],\n",
       " '010200': [],\n",
       " '010220': [['정지']],\n",
       " '010221': [],\n",
       " '010222': [],\n",
       " '010280': [],\n",
       " '010330': [['정지']],\n",
       " '010420': [],\n",
       " '010421': [['정지']],\n",
       " '010460': [['정지']],\n",
       " '010470': [],\n",
       " '010510': [],\n",
       " '010520': [],\n",
       " '010530': [],\n",
       " '010580': [['정지'], ['정지']],\n",
       " '010600': [['정지'], ['정지']],\n",
       " '010601': [['정지'], ['정지']],\n",
       " '010602': [['정지'], ['정지']],\n",
       " '010620': [],\n",
       " '010640': [['정지'], ['정지']],\n",
       " '010641': [],\n",
       " '010660': [],\n",
       " '010670': [['정지'],\n",
       "  ['정지'],\n",
       "  ['정지'],\n",
       "  ['정지'],\n",
       "  ['정지'],\n",
       "  ['정지'],\n",
       "  ['정지'],\n",
       "  ['정지'],\n",
       "  ['정지'],\n",
       "  ['정지'],\n",
       "  ['정지'],\n",
       "  ['정지'],\n",
       "  ['정지'],\n",
       "  ['정지'],\n",
       "  ['정지']],\n",
       " '010671': [['정지'], ['정지'], ['정지']],\n",
       " '010672': [['정지'], ['정지']],\n",
       " '010690': [],\n",
       " '010730': [['정지']],\n",
       " '010770': [],\n",
       " '010780': [],\n",
       " '010781': [],\n",
       " ...}"
      ]
     },
     "execution_count": 15,
     "metadata": {},
     "output_type": "execute_result"
    }
   ],
   "source": [
    "연속정지코드날짜\n",
    "# 코드일 때 날짜라면,,,\n",
    "# 근데 앞에서 정지 미만 혹은 뒤에서 정지 미만일 경우 혹은 혹은 날짜리스트 len이 20 미만이면 연속정지로 안침."
   ]
  },
  {
   "cell_type": "markdown",
   "id": "39a13d99",
   "metadata": {},
   "source": [
    "# ############## 여기부터 고치기!!!\n",
    "* 연속정지코드날짜의 value list에 ['정지']가 한 번이라도 들어있으면 그건 보지 않을 코드!!!"
   ]
  },
  {
   "cell_type": "code",
   "execution_count": 50,
   "id": "ed79569b",
   "metadata": {
    "scrolled": true
   },
   "outputs": [
    {
     "data": {
      "text/plain": [
       "1506"
      ]
     },
     "execution_count": 50,
     "metadata": {},
     "output_type": "execute_result"
    }
   ],
   "source": [
    "고려대상2 = []\n",
    "for i in 연속정지코드날짜:\n",
    "    if not 연속정지코드날짜[i]: # 비어있는 경우, 즉 연속 정지일이 20일 미만인 경우만 고려대상에 추가\n",
    "        고려대상2.append(i)\n",
    "len(고려대상2)"
   ]
  },
  {
   "cell_type": "code",
   "execution_count": 58,
   "id": "9630a4aa",
   "metadata": {},
   "outputs": [
    {
     "data": {
      "text/plain": [
       "False"
      ]
     },
     "execution_count": 58,
     "metadata": {},
     "output_type": "execute_result"
    },
    {
     "data": {
      "text/plain": [
       "False"
      ]
     },
     "execution_count": 58,
     "metadata": {},
     "output_type": "execute_result"
    }
   ],
   "source": [
    "'code' in 고려대상2\n",
    "'code' in 연속정지코드날짜"
   ]
  },
  {
   "cell_type": "code",
   "execution_count": 59,
   "id": "d15c1bae",
   "metadata": {},
   "outputs": [
    {
     "data": {
      "text/plain": [
       "3357"
      ]
     },
     "execution_count": 59,
     "metadata": {},
     "output_type": "execute_result"
    },
    {
     "data": {
      "text/plain": [
       "1851"
      ]
     },
     "execution_count": 59,
     "metadata": {},
     "output_type": "execute_result"
    }
   ],
   "source": [
    "len(연속정지코드날짜) # 3357\n",
    "\n",
    "len(연속정지코드날짜) - len(고려대상2) # 1851만큼은 연속 20일 정지 됨. 고려 안함."
   ]
  },
  {
   "cell_type": "code",
   "execution_count": 71,
   "id": "5a4b76d4",
   "metadata": {},
   "outputs": [
    {
     "data": {
      "text/plain": [
       "1165"
      ]
     },
     "execution_count": 71,
     "metadata": {},
     "output_type": "execute_result"
    }
   ],
   "source": [
    "4522 - len(연속정지코드날짜) # 1165 # 연속정지코드날짜에 'code'가 없으므로 'code'가 없을 때의 길이인 4522에서 빼는 것이 \n",
    "                             # 'code'가 없는 길이를 결과로 냄..."
   ]
  },
  {
   "cell_type": "code",
   "execution_count": 53,
   "id": "4dac3de5",
   "metadata": {},
   "outputs": [
    {
     "data": {
      "text/plain": [
       "1166"
      ]
     },
     "execution_count": 53,
     "metadata": {},
     "output_type": "execute_result"
    }
   ],
   "source": [
    "len(고려대상1) # append 전 고려대상 1의 길이 (고려대상1: 맨 처믕부터 고려대상이었던 애들\n",
    "               # (애초에 연속으로 거래정지된 날이 하루도 없었던 종목들))\n",
    "               # 이건 'code'가 있는 길이임. 그래서 1165+1인 길이가 나온 것."
   ]
  },
  {
   "cell_type": "code",
   "execution_count": null,
   "id": "f7d0768d",
   "metadata": {},
   "outputs": [],
   "source": []
  },
  {
   "cell_type": "code",
   "execution_count": 65,
   "id": "bfa5bffd",
   "metadata": {},
   "outputs": [],
   "source": [
    "고려대상1 = list(고려대상1)\n",
    "고려대상1.extend(고려대상2)"
   ]
  },
  {
   "cell_type": "code",
   "execution_count": 78,
   "id": "a201ff82",
   "metadata": {},
   "outputs": [
    {
     "data": {
      "text/plain": [
       "2672"
      ]
     },
     "execution_count": 78,
     "metadata": {},
     "output_type": "execute_result"
    },
    {
     "data": {
      "text/plain": [
       "True"
      ]
     },
     "execution_count": 78,
     "metadata": {},
     "output_type": "execute_result"
    }
   ],
   "source": [
    "len(고려대상1)\n",
    "'code' in 고려대상1\n",
    "고려대상1.sort()\n",
    "del 고려대상1[고려대상1.index('code')] # 덮어쓰기 된 것."
   ]
  },
  {
   "cell_type": "code",
   "execution_count": 79,
   "id": "dda0ffb2",
   "metadata": {
    "scrolled": true
   },
   "outputs": [
    {
     "data": {
      "text/plain": [
       "2671"
      ]
     },
     "execution_count": 79,
     "metadata": {},
     "output_type": "execute_result"
    }
   ],
   "source": [
    "len(고려대상1) # 'code' 없는 고려대상1의 길이, 최종"
   ]
  },
  {
   "cell_type": "markdown",
   "id": "f75faba1",
   "metadata": {},
   "source": [
    "## ########################이거 안하고 바로 위 step에서 바로 끝내도 될듯\n",
    "## 연속 정지가 되게 하는 날짜, 그리고 그 때의 조건\n",
    "* 그 날짜로 시작 or 끝나면 연속 20일 됨."
   ]
  },
  {
   "cell_type": "code",
   "execution_count": 29,
   "id": "6b6cc1e9",
   "metadata": {},
   "outputs": [
    {
     "data": {
      "text/plain": [
       "137"
      ]
     },
     "execution_count": 29,
     "metadata": {},
     "output_type": "execute_result"
    },
    {
     "data": {
      "text/plain": [
       "['20020426',\n",
       " '20020429',\n",
       " '20020430',\n",
       " '20020502',\n",
       " '20020503',\n",
       " '20020506',\n",
       " '20020507',\n",
       " '20020508',\n",
       " '20020509',\n",
       " '20020510',\n",
       " '20020513',\n",
       " '20020514',\n",
       " '20020515',\n",
       " '20020516',\n",
       " '20020517',\n",
       " '20020520',\n",
       " '20020521',\n",
       " '20020522',\n",
       " '20020523',\n",
       " '20020524',\n",
       " '20020527',\n",
       " '20020528',\n",
       " '20020529',\n",
       " '20020530',\n",
       " '20020531',\n",
       " '20020603',\n",
       " '20020604',\n",
       " '20020605',\n",
       " '20020607',\n",
       " '20020610',\n",
       " '20020611',\n",
       " '20020612',\n",
       " '20020614',\n",
       " '20020617',\n",
       " '20020618',\n",
       " '20020619',\n",
       " '20020620',\n",
       " '20020621',\n",
       " '20020624',\n",
       " '20020625',\n",
       " '20020626',\n",
       " '20020627',\n",
       " '20020628',\n",
       " '20020702',\n",
       " '20020703',\n",
       " '20020704',\n",
       " '20020705',\n",
       " '20020708',\n",
       " '20020709',\n",
       " '20020710',\n",
       " '20020711',\n",
       " '20020712',\n",
       " '20020715',\n",
       " '20020716',\n",
       " '20020718',\n",
       " '20020719',\n",
       " '20020722',\n",
       " '20020723',\n",
       " '20020724',\n",
       " '20020725',\n",
       " '20020726',\n",
       " '20020729',\n",
       " '20020730',\n",
       " '20020731',\n",
       " '20020801',\n",
       " '20020802',\n",
       " '20020805',\n",
       " '20020806',\n",
       " '20020807',\n",
       " '20020808',\n",
       " '20020809',\n",
       " '20020812',\n",
       " '20020813',\n",
       " '20020814',\n",
       " '20020816',\n",
       " '20020819',\n",
       " '20020820',\n",
       " '20020821',\n",
       " '20020822',\n",
       " '20020823',\n",
       " '20020826',\n",
       " '20020827',\n",
       " '20020828',\n",
       " '20020829',\n",
       " '20020830',\n",
       " '20020902',\n",
       " '20020903',\n",
       " '20020904',\n",
       " '20020905',\n",
       " '20020906',\n",
       " '20020909',\n",
       " '20020910',\n",
       " '20020911',\n",
       " '20020912',\n",
       " '20020913',\n",
       " '20020916',\n",
       " '20020917',\n",
       " '20020918',\n",
       " '20020919',\n",
       " '20020923',\n",
       " '20020924',\n",
       " '20020925',\n",
       " '20020926',\n",
       " '20020927',\n",
       " '20020930',\n",
       " '20021001',\n",
       " '20021002',\n",
       " '20021004',\n",
       " '20021007',\n",
       " '20021008',\n",
       " '20021009',\n",
       " '20021010',\n",
       " '20021011',\n",
       " '20021014',\n",
       " '20021015',\n",
       " '20021016',\n",
       " '20021017',\n",
       " '20021018']"
      ]
     },
     "execution_count": 29,
     "metadata": {},
     "output_type": "execute_result"
    },
    {
     "data": {
      "text/plain": [
       "['20020329',\n",
       " '20020401',\n",
       " '20020402',\n",
       " '20020403',\n",
       " '20020404',\n",
       " '20020408',\n",
       " '20020409',\n",
       " '20020410',\n",
       " '20020411',\n",
       " '20020412',\n",
       " '20020415',\n",
       " '20020416',\n",
       " '20020417',\n",
       " '20020418',\n",
       " '20020419',\n",
       " '20020422',\n",
       " '20020423',\n",
       " '20020424',\n",
       " '20020425',\n",
       " '20020426',\n",
       " '20020429',\n",
       " '20020430',\n",
       " '20020502',\n",
       " '20020503',\n",
       " '20020506',\n",
       " '20020507',\n",
       " '20020508',\n",
       " '20020509',\n",
       " '20020510',\n",
       " '20020513',\n",
       " '20020514',\n",
       " '20020515',\n",
       " '20020516',\n",
       " '20020517',\n",
       " '20020520',\n",
       " '20020521',\n",
       " '20020522',\n",
       " '20020523',\n",
       " '20020524',\n",
       " '20020527',\n",
       " '20020528',\n",
       " '20020529',\n",
       " '20020530',\n",
       " '20020531',\n",
       " '20020603',\n",
       " '20020604',\n",
       " '20020605',\n",
       " '20020607',\n",
       " '20020610',\n",
       " '20020611',\n",
       " '20020612',\n",
       " '20020614',\n",
       " '20020617',\n",
       " '20020618',\n",
       " '20020619',\n",
       " '20020620',\n",
       " '20020621',\n",
       " '20020624',\n",
       " '20020625',\n",
       " '20020626',\n",
       " '20020627',\n",
       " '20020628',\n",
       " '20020702',\n",
       " '20020703',\n",
       " '20020704',\n",
       " '20020705',\n",
       " '20020708',\n",
       " '20020709',\n",
       " '20020710',\n",
       " '20020711',\n",
       " '20020712',\n",
       " '20020715',\n",
       " '20020716',\n",
       " '20020718',\n",
       " '20020719',\n",
       " '20020722',\n",
       " '20020723',\n",
       " '20020724',\n",
       " '20020725',\n",
       " '20020726',\n",
       " '20020729',\n",
       " '20020730',\n",
       " '20020731',\n",
       " '20020801',\n",
       " '20020802',\n",
       " '20020805',\n",
       " '20020806',\n",
       " '20020807',\n",
       " '20020808',\n",
       " '20020809',\n",
       " '20020812',\n",
       " '20020813',\n",
       " '20020814',\n",
       " '20020816',\n",
       " '20020819',\n",
       " '20020820',\n",
       " '20020821',\n",
       " '20020822',\n",
       " '20020823',\n",
       " '20020826',\n",
       " '20020827',\n",
       " '20020828',\n",
       " '20020829',\n",
       " '20020830',\n",
       " '20020902',\n",
       " '20020903',\n",
       " '20020904',\n",
       " '20020905',\n",
       " '20020906',\n",
       " '20020909',\n",
       " '20020910',\n",
       " '20020911',\n",
       " '20020912',\n",
       " '20020913',\n",
       " '20020916',\n",
       " '20020917',\n",
       " '20020918',\n",
       " '20020919']"
      ]
     },
     "execution_count": 29,
     "metadata": {},
     "output_type": "execute_result"
    }
   ],
   "source": [
    "for i in 연속판단:\n",
    "    for k,j in enumerate(연속정지코드날짜[i]):\n",
    "        \n",
    "        if len(j) >= 20: # len 20 이상으로 연속 20일 넘는 애들 처리\n",
    "            len(j)\n",
    "            \n",
    "            ## 연속 20일이 안되는 날들\n",
    "#             j[:19] # 앞에서 19개 날짜로 끝나면\n",
    "#             j[-19:] # 끝에서 19개 날짜로 시작하면\n",
    "            \n",
    "    \n",
    "            ## 날짜가 이거로 끝나면 연속 20일 이상이므로 안됨.\n",
    "            j[19:]\n",
    "            \n",
    "            ## 날짜가 이거로 시작하면 연속 20일 이상이므로 안됨.\n",
    "            j[:-19]\n",
    "            \n",
    "        else: # len 20 미만으로 먼저 20일 안되는 것 없애기\n",
    "            print(i,k) # 결과 없는거 보니까 미만이 없나봄...\n",
    "    if i == '000030':\n",
    "        break # 일단 종목코드 맨 앞에꺼 하나에 대해서만 해보기로..."
   ]
  },
  {
   "cell_type": "code",
   "execution_count": null,
   "id": "159e1931",
   "metadata": {},
   "outputs": [],
   "source": []
  },
  {
   "cell_type": "markdown",
   "id": "2742b55a",
   "metadata": {},
   "source": [
    "# tv >= 10_0000_0000\n",
    "* 이 때가 기준일...(d-0)"
   ]
  },
  {
   "cell_type": "markdown",
   "id": "0795a69d",
   "metadata": {},
   "source": [
    "## 기준일_cd_dt = {cd: tv>=10억인 dt list}"
   ]
  },
  {
   "cell_type": "code",
   "execution_count": 87,
   "id": "cb643422",
   "metadata": {},
   "outputs": [
    {
     "name": "stderr",
     "output_type": "stream",
     "text": [
      "11979747it [00:07, 1545273.99it/s]\n"
     ]
    }
   ],
   "source": [
    "# lst[7] : tv\n",
    "기준일_cd_dt = {f'{mk_cd(i)}':[] for i in [df.columns[1]]+list(df['code'].unique())}\n",
    "\n",
    "for i, line in tqdm(enumerate(lines)):\n",
    "    lst = line.split(',')\n",
    "\n",
    "    if i==0:\n",
    "        기준일_cd_dt[lst[1]].append(lst[0])\n",
    "    else:\n",
    "        if int(lst[7]) >= 10_0000_0000:\n",
    "#             f'{i}, {lst[1]}, {lst[0]}'\n",
    "            기준일_cd_dt[lst[1]].append(lst[0])\n",
    "\n",
    "# 기준일_cd_dt"
   ]
  },
  {
   "cell_type": "code",
   "execution_count": 83,
   "id": "dc1305e5",
   "metadata": {},
   "outputs": [
    {
     "data": {
      "text/plain": [
       "4523"
      ]
     },
     "execution_count": 83,
     "metadata": {},
     "output_type": "execute_result"
    }
   ],
   "source": [
    "len(기준일_cd_dt)"
   ]
  },
  {
   "cell_type": "markdown",
   "id": "043bbc4e",
   "metadata": {},
   "source": [
    "## 십억cd_dt = {tv >= 10억인 날이 하루라도 있는 cd: 그 dt list}\n",
    "기준일_cd_dt 보다 줄어듦."
   ]
  },
  {
   "cell_type": "code",
   "execution_count": 88,
   "id": "ed38a04c",
   "metadata": {},
   "outputs": [],
   "source": [
    "십억cd_dt = {}\n",
    "for i in 기준일_cd_dt.keys():\n",
    "    if len(기준일_cd_dt[i]) > 0: # tv>=10억이 하루라도 있는 코드만 뽑기 위한 조건임.\n",
    "        십억cd_dt[i] = 기준일_cd_dt[i]"
   ]
  },
  {
   "cell_type": "code",
   "execution_count": 89,
   "id": "da1c94d9",
   "metadata": {},
   "outputs": [
    {
     "data": {
      "text/plain": [
       "3827"
      ]
     },
     "execution_count": 89,
     "metadata": {},
     "output_type": "execute_result"
    }
   ],
   "source": [
    "len(십억cd_dt) # 10억일 때는 3827, # 100억일 때 3349"
   ]
  },
  {
   "cell_type": "markdown",
   "id": "a641903e",
   "metadata": {},
   "source": [
    "# 10억 이상인 종목코드일 동안 처리하기 위한 코드...\n",
    "또 그 안에서 10억 이상인 날짜도 따져줘야하는데..."
   ]
  },
  {
   "cell_type": "code",
   "execution_count": 90,
   "id": "87c78b41",
   "metadata": {
    "scrolled": true
   },
   "outputs": [
    {
     "data": {
      "text/plain": [
       "('date', 0)"
      ]
     },
     "execution_count": 90,
     "metadata": {},
     "output_type": "execute_result"
    },
    {
     "name": "stdout",
     "output_type": "stream",
     "text": [
      "code\n"
     ]
    },
    {
     "data": {
      "text/plain": [
       "('19960702', 0)"
      ]
     },
     "execution_count": 90,
     "metadata": {},
     "output_type": "execute_result"
    },
    {
     "name": "stdout",
     "output_type": "stream",
     "text": [
      "000010\n"
     ]
    },
    {
     "data": {
      "text/plain": [
       "('19960711', 1)"
      ]
     },
     "execution_count": 90,
     "metadata": {},
     "output_type": "execute_result"
    },
    {
     "name": "stdout",
     "output_type": "stream",
     "text": [
      "000010\n"
     ]
    },
    {
     "data": {
      "text/plain": [
       "('19960716', 2)"
      ]
     },
     "execution_count": 90,
     "metadata": {},
     "output_type": "execute_result"
    },
    {
     "name": "stdout",
     "output_type": "stream",
     "text": [
      "000010\n"
     ]
    },
    {
     "data": {
      "text/plain": [
       "('19960730', 3)"
      ]
     },
     "execution_count": 90,
     "metadata": {},
     "output_type": "execute_result"
    },
    {
     "name": "stdout",
     "output_type": "stream",
     "text": [
      "000010\n"
     ]
    },
    {
     "data": {
      "text/plain": [
       "('19960801', 4)"
      ]
     },
     "execution_count": 90,
     "metadata": {},
     "output_type": "execute_result"
    },
    {
     "name": "stdout",
     "output_type": "stream",
     "text": [
      "000010\n"
     ]
    },
    {
     "data": {
      "text/plain": [
       "('19960808', 5)"
      ]
     },
     "execution_count": 90,
     "metadata": {},
     "output_type": "execute_result"
    },
    {
     "name": "stdout",
     "output_type": "stream",
     "text": [
      "000010\n"
     ]
    },
    {
     "data": {
      "text/plain": [
       "('19960809', 6)"
      ]
     },
     "execution_count": 90,
     "metadata": {},
     "output_type": "execute_result"
    },
    {
     "name": "stdout",
     "output_type": "stream",
     "text": [
      "000010\n"
     ]
    },
    {
     "data": {
      "text/plain": [
       "('19960814', 7)"
      ]
     },
     "execution_count": 90,
     "metadata": {},
     "output_type": "execute_result"
    },
    {
     "name": "stdout",
     "output_type": "stream",
     "text": [
      "000010\n"
     ]
    },
    {
     "data": {
      "text/plain": [
       "('19960904', 8)"
      ]
     },
     "execution_count": 90,
     "metadata": {},
     "output_type": "execute_result"
    },
    {
     "name": "stdout",
     "output_type": "stream",
     "text": [
      "000010\n"
     ]
    },
    {
     "data": {
      "text/plain": [
       "('19960905', 9)"
      ]
     },
     "execution_count": 90,
     "metadata": {},
     "output_type": "execute_result"
    },
    {
     "name": "stdout",
     "output_type": "stream",
     "text": [
      "000010\n"
     ]
    },
    {
     "data": {
      "text/plain": [
       "('19960906', 10)"
      ]
     },
     "execution_count": 90,
     "metadata": {},
     "output_type": "execute_result"
    },
    {
     "name": "stdout",
     "output_type": "stream",
     "text": [
      "000010\n"
     ]
    },
    {
     "data": {
      "text/plain": [
       "('19960919', 11)"
      ]
     },
     "execution_count": 90,
     "metadata": {},
     "output_type": "execute_result"
    },
    {
     "name": "stdout",
     "output_type": "stream",
     "text": [
      "000010\n"
     ]
    },
    {
     "data": {
      "text/plain": [
       "('19960920', 12)"
      ]
     },
     "execution_count": 90,
     "metadata": {},
     "output_type": "execute_result"
    },
    {
     "name": "stdout",
     "output_type": "stream",
     "text": [
      "000010\n"
     ]
    },
    {
     "data": {
      "text/plain": [
       "('19960923', 13)"
      ]
     },
     "execution_count": 90,
     "metadata": {},
     "output_type": "execute_result"
    },
    {
     "name": "stdout",
     "output_type": "stream",
     "text": [
      "000010\n"
     ]
    },
    {
     "data": {
      "text/plain": [
       "('19960924', 14)"
      ]
     },
     "execution_count": 90,
     "metadata": {},
     "output_type": "execute_result"
    },
    {
     "name": "stdout",
     "output_type": "stream",
     "text": [
      "000010\n"
     ]
    },
    {
     "data": {
      "text/plain": [
       "('19960925', 15)"
      ]
     },
     "execution_count": 90,
     "metadata": {},
     "output_type": "execute_result"
    },
    {
     "name": "stdout",
     "output_type": "stream",
     "text": [
      "000010\n"
     ]
    },
    {
     "data": {
      "text/plain": [
       "('19960930', 16)"
      ]
     },
     "execution_count": 90,
     "metadata": {},
     "output_type": "execute_result"
    },
    {
     "name": "stdout",
     "output_type": "stream",
     "text": [
      "000010\n"
     ]
    },
    {
     "data": {
      "text/plain": [
       "('19961001', 17)"
      ]
     },
     "execution_count": 90,
     "metadata": {},
     "output_type": "execute_result"
    },
    {
     "name": "stdout",
     "output_type": "stream",
     "text": [
      "000010\n"
     ]
    },
    {
     "data": {
      "text/plain": [
       "('19961002', 18)"
      ]
     },
     "execution_count": 90,
     "metadata": {},
     "output_type": "execute_result"
    },
    {
     "name": "stdout",
     "output_type": "stream",
     "text": [
      "000010\n"
     ]
    },
    {
     "data": {
      "text/plain": [
       "('19961007', 19)"
      ]
     },
     "execution_count": 90,
     "metadata": {},
     "output_type": "execute_result"
    },
    {
     "name": "stdout",
     "output_type": "stream",
     "text": [
      "000010\n"
     ]
    },
    {
     "data": {
      "text/plain": [
       "('19961010', 20)"
      ]
     },
     "execution_count": 90,
     "metadata": {},
     "output_type": "execute_result"
    },
    {
     "name": "stdout",
     "output_type": "stream",
     "text": [
      "000010\n"
     ]
    },
    {
     "data": {
      "text/plain": [
       "('19961011', 21)"
      ]
     },
     "execution_count": 90,
     "metadata": {},
     "output_type": "execute_result"
    },
    {
     "name": "stdout",
     "output_type": "stream",
     "text": [
      "000010\n"
     ]
    },
    {
     "data": {
      "text/plain": [
       "('19961012', 22)"
      ]
     },
     "execution_count": 90,
     "metadata": {},
     "output_type": "execute_result"
    },
    {
     "name": "stdout",
     "output_type": "stream",
     "text": [
      "000010\n"
     ]
    },
    {
     "data": {
      "text/plain": [
       "('19961014', 23)"
      ]
     },
     "execution_count": 90,
     "metadata": {},
     "output_type": "execute_result"
    },
    {
     "name": "stdout",
     "output_type": "stream",
     "text": [
      "000010\n"
     ]
    },
    {
     "data": {
      "text/plain": [
       "('19961017', 24)"
      ]
     },
     "execution_count": 90,
     "metadata": {},
     "output_type": "execute_result"
    },
    {
     "name": "stdout",
     "output_type": "stream",
     "text": [
      "000010\n"
     ]
    },
    {
     "data": {
      "text/plain": [
       "('19961021', 25)"
      ]
     },
     "execution_count": 90,
     "metadata": {},
     "output_type": "execute_result"
    },
    {
     "name": "stdout",
     "output_type": "stream",
     "text": [
      "000010\n"
     ]
    },
    {
     "data": {
      "text/plain": [
       "('19961024', 26)"
      ]
     },
     "execution_count": 90,
     "metadata": {},
     "output_type": "execute_result"
    },
    {
     "name": "stdout",
     "output_type": "stream",
     "text": [
      "000010\n"
     ]
    },
    {
     "data": {
      "text/plain": [
       "('19961025', 27)"
      ]
     },
     "execution_count": 90,
     "metadata": {},
     "output_type": "execute_result"
    },
    {
     "name": "stdout",
     "output_type": "stream",
     "text": [
      "000010\n"
     ]
    },
    {
     "data": {
      "text/plain": [
       "('19961031', 28)"
      ]
     },
     "execution_count": 90,
     "metadata": {},
     "output_type": "execute_result"
    },
    {
     "name": "stdout",
     "output_type": "stream",
     "text": [
      "000010\n"
     ]
    },
    {
     "data": {
      "text/plain": [
       "('19961129', 29)"
      ]
     },
     "execution_count": 90,
     "metadata": {},
     "output_type": "execute_result"
    },
    {
     "name": "stdout",
     "output_type": "stream",
     "text": [
      "000010\n"
     ]
    },
    {
     "data": {
      "text/plain": [
       "('19961203', 30)"
      ]
     },
     "execution_count": 90,
     "metadata": {},
     "output_type": "execute_result"
    },
    {
     "name": "stdout",
     "output_type": "stream",
     "text": [
      "000010\n"
     ]
    },
    {
     "data": {
      "text/plain": [
       "('19961204', 31)"
      ]
     },
     "execution_count": 90,
     "metadata": {},
     "output_type": "execute_result"
    },
    {
     "name": "stdout",
     "output_type": "stream",
     "text": [
      "000010\n"
     ]
    },
    {
     "data": {
      "text/plain": [
       "('19961205', 32)"
      ]
     },
     "execution_count": 90,
     "metadata": {},
     "output_type": "execute_result"
    },
    {
     "name": "stdout",
     "output_type": "stream",
     "text": [
      "000010\n"
     ]
    },
    {
     "data": {
      "text/plain": [
       "('19961206', 33)"
      ]
     },
     "execution_count": 90,
     "metadata": {},
     "output_type": "execute_result"
    },
    {
     "name": "stdout",
     "output_type": "stream",
     "text": [
      "000010\n"
     ]
    },
    {
     "data": {
      "text/plain": [
       "('19961207', 34)"
      ]
     },
     "execution_count": 90,
     "metadata": {},
     "output_type": "execute_result"
    },
    {
     "name": "stdout",
     "output_type": "stream",
     "text": [
      "000010\n"
     ]
    },
    {
     "data": {
      "text/plain": [
       "('19961209', 35)"
      ]
     },
     "execution_count": 90,
     "metadata": {},
     "output_type": "execute_result"
    },
    {
     "name": "stdout",
     "output_type": "stream",
     "text": [
      "000010\n"
     ]
    },
    {
     "data": {
      "text/plain": [
       "('19961210', 36)"
      ]
     },
     "execution_count": 90,
     "metadata": {},
     "output_type": "execute_result"
    },
    {
     "name": "stdout",
     "output_type": "stream",
     "text": [
      "000010\n"
     ]
    },
    {
     "data": {
      "text/plain": [
       "('19961212', 37)"
      ]
     },
     "execution_count": 90,
     "metadata": {},
     "output_type": "execute_result"
    },
    {
     "name": "stdout",
     "output_type": "stream",
     "text": [
      "000010\n"
     ]
    },
    {
     "data": {
      "text/plain": [
       "('19961213', 38)"
      ]
     },
     "execution_count": 90,
     "metadata": {},
     "output_type": "execute_result"
    },
    {
     "name": "stdout",
     "output_type": "stream",
     "text": [
      "000010\n"
     ]
    },
    {
     "data": {
      "text/plain": [
       "('19961216', 39)"
      ]
     },
     "execution_count": 90,
     "metadata": {},
     "output_type": "execute_result"
    },
    {
     "name": "stdout",
     "output_type": "stream",
     "text": [
      "000010\n"
     ]
    },
    {
     "data": {
      "text/plain": [
       "('19961218', 40)"
      ]
     },
     "execution_count": 90,
     "metadata": {},
     "output_type": "execute_result"
    },
    {
     "name": "stdout",
     "output_type": "stream",
     "text": [
      "000010\n"
     ]
    },
    {
     "data": {
      "text/plain": [
       "('19961219', 41)"
      ]
     },
     "execution_count": 90,
     "metadata": {},
     "output_type": "execute_result"
    },
    {
     "name": "stdout",
     "output_type": "stream",
     "text": [
      "000010\n"
     ]
    },
    {
     "data": {
      "text/plain": [
       "('19961220', 42)"
      ]
     },
     "execution_count": 90,
     "metadata": {},
     "output_type": "execute_result"
    },
    {
     "name": "stdout",
     "output_type": "stream",
     "text": [
      "000010\n"
     ]
    },
    {
     "data": {
      "text/plain": [
       "('19961223', 43)"
      ]
     },
     "execution_count": 90,
     "metadata": {},
     "output_type": "execute_result"
    },
    {
     "name": "stdout",
     "output_type": "stream",
     "text": [
      "000010\n"
     ]
    },
    {
     "data": {
      "text/plain": [
       "('19961224', 44)"
      ]
     },
     "execution_count": 90,
     "metadata": {},
     "output_type": "execute_result"
    },
    {
     "name": "stdout",
     "output_type": "stream",
     "text": [
      "000010\n"
     ]
    },
    {
     "data": {
      "text/plain": [
       "('19961226', 45)"
      ]
     },
     "execution_count": 90,
     "metadata": {},
     "output_type": "execute_result"
    },
    {
     "name": "stdout",
     "output_type": "stream",
     "text": [
      "000010\n"
     ]
    },
    {
     "data": {
      "text/plain": [
       "('19961227', 46)"
      ]
     },
     "execution_count": 90,
     "metadata": {},
     "output_type": "execute_result"
    },
    {
     "name": "stdout",
     "output_type": "stream",
     "text": [
      "000010\n"
     ]
    },
    {
     "data": {
      "text/plain": [
       "('19970103', 47)"
      ]
     },
     "execution_count": 90,
     "metadata": {},
     "output_type": "execute_result"
    },
    {
     "name": "stdout",
     "output_type": "stream",
     "text": [
      "000010\n"
     ]
    },
    {
     "data": {
      "text/plain": [
       "('19970107', 48)"
      ]
     },
     "execution_count": 90,
     "metadata": {},
     "output_type": "execute_result"
    },
    {
     "name": "stdout",
     "output_type": "stream",
     "text": [
      "000010\n"
     ]
    },
    {
     "data": {
      "text/plain": [
       "('19970108', 49)"
      ]
     },
     "execution_count": 90,
     "metadata": {},
     "output_type": "execute_result"
    },
    {
     "name": "stdout",
     "output_type": "stream",
     "text": [
      "000010\n"
     ]
    },
    {
     "data": {
      "text/plain": [
       "('19970109', 50)"
      ]
     },
     "execution_count": 90,
     "metadata": {},
     "output_type": "execute_result"
    },
    {
     "name": "stdout",
     "output_type": "stream",
     "text": [
      "000010\n"
     ]
    },
    {
     "data": {
      "text/plain": [
       "('19970110', 51)"
      ]
     },
     "execution_count": 90,
     "metadata": {},
     "output_type": "execute_result"
    },
    {
     "name": "stdout",
     "output_type": "stream",
     "text": [
      "000010\n"
     ]
    },
    {
     "data": {
      "text/plain": [
       "('19970111', 52)"
      ]
     },
     "execution_count": 90,
     "metadata": {},
     "output_type": "execute_result"
    },
    {
     "name": "stdout",
     "output_type": "stream",
     "text": [
      "000010\n"
     ]
    },
    {
     "data": {
      "text/plain": [
       "('19970113', 53)"
      ]
     },
     "execution_count": 90,
     "metadata": {},
     "output_type": "execute_result"
    },
    {
     "name": "stdout",
     "output_type": "stream",
     "text": [
      "000010\n"
     ]
    },
    {
     "data": {
      "text/plain": [
       "('19970114', 54)"
      ]
     },
     "execution_count": 90,
     "metadata": {},
     "output_type": "execute_result"
    },
    {
     "name": "stdout",
     "output_type": "stream",
     "text": [
      "000010\n"
     ]
    },
    {
     "data": {
      "text/plain": [
       "('19970115', 55)"
      ]
     },
     "execution_count": 90,
     "metadata": {},
     "output_type": "execute_result"
    },
    {
     "name": "stdout",
     "output_type": "stream",
     "text": [
      "000010\n"
     ]
    },
    {
     "data": {
      "text/plain": [
       "('19970116', 56)"
      ]
     },
     "execution_count": 90,
     "metadata": {},
     "output_type": "execute_result"
    },
    {
     "name": "stdout",
     "output_type": "stream",
     "text": [
      "000010\n"
     ]
    },
    {
     "data": {
      "text/plain": [
       "('19970117', 57)"
      ]
     },
     "execution_count": 90,
     "metadata": {},
     "output_type": "execute_result"
    },
    {
     "name": "stdout",
     "output_type": "stream",
     "text": [
      "000010\n"
     ]
    },
    {
     "data": {
      "text/plain": [
       "('19970118', 58)"
      ]
     },
     "execution_count": 90,
     "metadata": {},
     "output_type": "execute_result"
    },
    {
     "name": "stdout",
     "output_type": "stream",
     "text": [
      "000010\n"
     ]
    },
    {
     "data": {
      "text/plain": [
       "('19970120', 59)"
      ]
     },
     "execution_count": 90,
     "metadata": {},
     "output_type": "execute_result"
    },
    {
     "name": "stdout",
     "output_type": "stream",
     "text": [
      "000010\n"
     ]
    },
    {
     "data": {
      "text/plain": [
       "('19970121', 60)"
      ]
     },
     "execution_count": 90,
     "metadata": {},
     "output_type": "execute_result"
    },
    {
     "name": "stdout",
     "output_type": "stream",
     "text": [
      "000010\n"
     ]
    },
    {
     "data": {
      "text/plain": [
       "('19970122', 61)"
      ]
     },
     "execution_count": 90,
     "metadata": {},
     "output_type": "execute_result"
    },
    {
     "name": "stdout",
     "output_type": "stream",
     "text": [
      "000010\n"
     ]
    },
    {
     "data": {
      "text/plain": [
       "('19970124', 62)"
      ]
     },
     "execution_count": 90,
     "metadata": {},
     "output_type": "execute_result"
    },
    {
     "name": "stdout",
     "output_type": "stream",
     "text": [
      "000010\n"
     ]
    },
    {
     "data": {
      "text/plain": [
       "('19970125', 63)"
      ]
     },
     "execution_count": 90,
     "metadata": {},
     "output_type": "execute_result"
    },
    {
     "name": "stdout",
     "output_type": "stream",
     "text": [
      "000010\n"
     ]
    },
    {
     "data": {
      "text/plain": [
       "('19970127', 64)"
      ]
     },
     "execution_count": 90,
     "metadata": {},
     "output_type": "execute_result"
    },
    {
     "name": "stdout",
     "output_type": "stream",
     "text": [
      "000010\n"
     ]
    },
    {
     "data": {
      "text/plain": [
       "('19970128', 65)"
      ]
     },
     "execution_count": 90,
     "metadata": {},
     "output_type": "execute_result"
    },
    {
     "name": "stdout",
     "output_type": "stream",
     "text": [
      "000010\n"
     ]
    },
    {
     "data": {
      "text/plain": [
       "('19970129', 66)"
      ]
     },
     "execution_count": 90,
     "metadata": {},
     "output_type": "execute_result"
    },
    {
     "name": "stdout",
     "output_type": "stream",
     "text": [
      "000010\n"
     ]
    },
    {
     "data": {
      "text/plain": [
       "('19970130', 67)"
      ]
     },
     "execution_count": 90,
     "metadata": {},
     "output_type": "execute_result"
    },
    {
     "name": "stdout",
     "output_type": "stream",
     "text": [
      "000010\n"
     ]
    },
    {
     "data": {
      "text/plain": [
       "('19970131', 68)"
      ]
     },
     "execution_count": 90,
     "metadata": {},
     "output_type": "execute_result"
    },
    {
     "name": "stdout",
     "output_type": "stream",
     "text": [
      "000010\n"
     ]
    },
    {
     "data": {
      "text/plain": [
       "('19970205', 69)"
      ]
     },
     "execution_count": 90,
     "metadata": {},
     "output_type": "execute_result"
    },
    {
     "name": "stdout",
     "output_type": "stream",
     "text": [
      "000010\n"
     ]
    },
    {
     "data": {
      "text/plain": [
       "('19970206', 70)"
      ]
     },
     "execution_count": 90,
     "metadata": {},
     "output_type": "execute_result"
    },
    {
     "name": "stdout",
     "output_type": "stream",
     "text": [
      "000010\n"
     ]
    },
    {
     "data": {
      "text/plain": [
       "('19970210', 71)"
      ]
     },
     "execution_count": 90,
     "metadata": {},
     "output_type": "execute_result"
    },
    {
     "name": "stdout",
     "output_type": "stream",
     "text": [
      "000010\n"
     ]
    },
    {
     "data": {
      "text/plain": [
       "('19970211', 72)"
      ]
     },
     "execution_count": 90,
     "metadata": {},
     "output_type": "execute_result"
    },
    {
     "name": "stdout",
     "output_type": "stream",
     "text": [
      "000010\n"
     ]
    },
    {
     "data": {
      "text/plain": [
       "('19970212', 73)"
      ]
     },
     "execution_count": 90,
     "metadata": {},
     "output_type": "execute_result"
    },
    {
     "name": "stdout",
     "output_type": "stream",
     "text": [
      "000010\n"
     ]
    },
    {
     "data": {
      "text/plain": [
       "('19970213', 74)"
      ]
     },
     "execution_count": 90,
     "metadata": {},
     "output_type": "execute_result"
    },
    {
     "name": "stdout",
     "output_type": "stream",
     "text": [
      "000010\n"
     ]
    },
    {
     "data": {
      "text/plain": [
       "('19970214', 75)"
      ]
     },
     "execution_count": 90,
     "metadata": {},
     "output_type": "execute_result"
    },
    {
     "name": "stdout",
     "output_type": "stream",
     "text": [
      "000010\n"
     ]
    },
    {
     "data": {
      "text/plain": [
       "('19970215', 76)"
      ]
     },
     "execution_count": 90,
     "metadata": {},
     "output_type": "execute_result"
    },
    {
     "name": "stdout",
     "output_type": "stream",
     "text": [
      "000010\n"
     ]
    },
    {
     "data": {
      "text/plain": [
       "('19970220', 77)"
      ]
     },
     "execution_count": 90,
     "metadata": {},
     "output_type": "execute_result"
    },
    {
     "name": "stdout",
     "output_type": "stream",
     "text": [
      "000010\n"
     ]
    },
    {
     "data": {
      "text/plain": [
       "('19970221', 78)"
      ]
     },
     "execution_count": 90,
     "metadata": {},
     "output_type": "execute_result"
    },
    {
     "name": "stdout",
     "output_type": "stream",
     "text": [
      "000010\n"
     ]
    },
    {
     "data": {
      "text/plain": [
       "('19970224', 79)"
      ]
     },
     "execution_count": 90,
     "metadata": {},
     "output_type": "execute_result"
    },
    {
     "name": "stdout",
     "output_type": "stream",
     "text": [
      "000010\n"
     ]
    },
    {
     "data": {
      "text/plain": [
       "('19970225', 80)"
      ]
     },
     "execution_count": 90,
     "metadata": {},
     "output_type": "execute_result"
    },
    {
     "name": "stdout",
     "output_type": "stream",
     "text": [
      "000010\n"
     ]
    },
    {
     "data": {
      "text/plain": [
       "('19970226', 81)"
      ]
     },
     "execution_count": 90,
     "metadata": {},
     "output_type": "execute_result"
    },
    {
     "name": "stdout",
     "output_type": "stream",
     "text": [
      "000010\n"
     ]
    },
    {
     "data": {
      "text/plain": [
       "('19970227', 82)"
      ]
     },
     "execution_count": 90,
     "metadata": {},
     "output_type": "execute_result"
    },
    {
     "name": "stdout",
     "output_type": "stream",
     "text": [
      "000010\n"
     ]
    },
    {
     "data": {
      "text/plain": [
       "('19970228', 83)"
      ]
     },
     "execution_count": 90,
     "metadata": {},
     "output_type": "execute_result"
    },
    {
     "name": "stdout",
     "output_type": "stream",
     "text": [
      "000010\n"
     ]
    },
    {
     "data": {
      "text/plain": [
       "('19970303', 84)"
      ]
     },
     "execution_count": 90,
     "metadata": {},
     "output_type": "execute_result"
    },
    {
     "name": "stdout",
     "output_type": "stream",
     "text": [
      "000010\n"
     ]
    },
    {
     "data": {
      "text/plain": [
       "('19970305', 85)"
      ]
     },
     "execution_count": 90,
     "metadata": {},
     "output_type": "execute_result"
    },
    {
     "name": "stdout",
     "output_type": "stream",
     "text": [
      "000010\n"
     ]
    },
    {
     "data": {
      "text/plain": [
       "('19970306', 86)"
      ]
     },
     "execution_count": 90,
     "metadata": {},
     "output_type": "execute_result"
    },
    {
     "name": "stdout",
     "output_type": "stream",
     "text": [
      "000010\n"
     ]
    },
    {
     "data": {
      "text/plain": [
       "('19970307', 87)"
      ]
     },
     "execution_count": 90,
     "metadata": {},
     "output_type": "execute_result"
    },
    {
     "name": "stdout",
     "output_type": "stream",
     "text": [
      "000010\n"
     ]
    },
    {
     "data": {
      "text/plain": [
       "('19970308', 88)"
      ]
     },
     "execution_count": 90,
     "metadata": {},
     "output_type": "execute_result"
    },
    {
     "name": "stdout",
     "output_type": "stream",
     "text": [
      "000010\n"
     ]
    },
    {
     "data": {
      "text/plain": [
       "('19970310', 89)"
      ]
     },
     "execution_count": 90,
     "metadata": {},
     "output_type": "execute_result"
    },
    {
     "name": "stdout",
     "output_type": "stream",
     "text": [
      "000010\n"
     ]
    },
    {
     "data": {
      "text/plain": [
       "('19970311', 90)"
      ]
     },
     "execution_count": 90,
     "metadata": {},
     "output_type": "execute_result"
    },
    {
     "name": "stdout",
     "output_type": "stream",
     "text": [
      "000010\n"
     ]
    },
    {
     "data": {
      "text/plain": [
       "('19970312', 91)"
      ]
     },
     "execution_count": 90,
     "metadata": {},
     "output_type": "execute_result"
    },
    {
     "name": "stdout",
     "output_type": "stream",
     "text": [
      "000010\n"
     ]
    },
    {
     "data": {
      "text/plain": [
       "('19970313', 92)"
      ]
     },
     "execution_count": 90,
     "metadata": {},
     "output_type": "execute_result"
    },
    {
     "name": "stdout",
     "output_type": "stream",
     "text": [
      "000010\n"
     ]
    },
    {
     "data": {
      "text/plain": [
       "('19970318', 93)"
      ]
     },
     "execution_count": 90,
     "metadata": {},
     "output_type": "execute_result"
    },
    {
     "name": "stdout",
     "output_type": "stream",
     "text": [
      "000010\n"
     ]
    },
    {
     "data": {
      "text/plain": [
       "('19970319', 94)"
      ]
     },
     "execution_count": 90,
     "metadata": {},
     "output_type": "execute_result"
    },
    {
     "name": "stdout",
     "output_type": "stream",
     "text": [
      "000010\n"
     ]
    },
    {
     "data": {
      "text/plain": [
       "('19970320', 95)"
      ]
     },
     "execution_count": 90,
     "metadata": {},
     "output_type": "execute_result"
    },
    {
     "name": "stdout",
     "output_type": "stream",
     "text": [
      "000010\n"
     ]
    },
    {
     "data": {
      "text/plain": [
       "('19970321', 96)"
      ]
     },
     "execution_count": 90,
     "metadata": {},
     "output_type": "execute_result"
    },
    {
     "name": "stdout",
     "output_type": "stream",
     "text": [
      "000010\n"
     ]
    },
    {
     "data": {
      "text/plain": [
       "('19970322', 97)"
      ]
     },
     "execution_count": 90,
     "metadata": {},
     "output_type": "execute_result"
    },
    {
     "name": "stdout",
     "output_type": "stream",
     "text": [
      "000010\n"
     ]
    },
    {
     "data": {
      "text/plain": [
       "('19970324', 98)"
      ]
     },
     "execution_count": 90,
     "metadata": {},
     "output_type": "execute_result"
    },
    {
     "name": "stdout",
     "output_type": "stream",
     "text": [
      "000010\n"
     ]
    },
    {
     "data": {
      "text/plain": [
       "('19970325', 99)"
      ]
     },
     "execution_count": 90,
     "metadata": {},
     "output_type": "execute_result"
    },
    {
     "name": "stdout",
     "output_type": "stream",
     "text": [
      "000010\n"
     ]
    },
    {
     "data": {
      "text/plain": [
       "('19970326', 100)"
      ]
     },
     "execution_count": 90,
     "metadata": {},
     "output_type": "execute_result"
    },
    {
     "name": "stdout",
     "output_type": "stream",
     "text": [
      "000010\n"
     ]
    },
    {
     "data": {
      "text/plain": [
       "('19970327', 101)"
      ]
     },
     "execution_count": 90,
     "metadata": {},
     "output_type": "execute_result"
    },
    {
     "name": "stdout",
     "output_type": "stream",
     "text": [
      "000010\n"
     ]
    },
    {
     "data": {
      "text/plain": [
       "('19970328', 102)"
      ]
     },
     "execution_count": 90,
     "metadata": {},
     "output_type": "execute_result"
    },
    {
     "name": "stdout",
     "output_type": "stream",
     "text": [
      "000010\n"
     ]
    },
    {
     "data": {
      "text/plain": [
       "('19970329', 103)"
      ]
     },
     "execution_count": 90,
     "metadata": {},
     "output_type": "execute_result"
    },
    {
     "name": "stdout",
     "output_type": "stream",
     "text": [
      "000010\n"
     ]
    },
    {
     "data": {
      "text/plain": [
       "('19970331', 104)"
      ]
     },
     "execution_count": 90,
     "metadata": {},
     "output_type": "execute_result"
    },
    {
     "name": "stdout",
     "output_type": "stream",
     "text": [
      "000010\n"
     ]
    },
    {
     "data": {
      "text/plain": [
       "('19970401', 105)"
      ]
     },
     "execution_count": 90,
     "metadata": {},
     "output_type": "execute_result"
    },
    {
     "name": "stdout",
     "output_type": "stream",
     "text": [
      "000010\n"
     ]
    },
    {
     "data": {
      "text/plain": [
       "('19970402', 106)"
      ]
     },
     "execution_count": 90,
     "metadata": {},
     "output_type": "execute_result"
    },
    {
     "name": "stdout",
     "output_type": "stream",
     "text": [
      "000010\n"
     ]
    },
    {
     "data": {
      "text/plain": [
       "('19970403', 107)"
      ]
     },
     "execution_count": 90,
     "metadata": {},
     "output_type": "execute_result"
    },
    {
     "name": "stdout",
     "output_type": "stream",
     "text": [
      "000010\n"
     ]
    },
    {
     "data": {
      "text/plain": [
       "('19970404', 108)"
      ]
     },
     "execution_count": 90,
     "metadata": {},
     "output_type": "execute_result"
    },
    {
     "name": "stdout",
     "output_type": "stream",
     "text": [
      "000010\n"
     ]
    },
    {
     "data": {
      "text/plain": [
       "('19970407', 109)"
      ]
     },
     "execution_count": 90,
     "metadata": {},
     "output_type": "execute_result"
    },
    {
     "name": "stdout",
     "output_type": "stream",
     "text": [
      "000010\n"
     ]
    },
    {
     "data": {
      "text/plain": [
       "('19970408', 110)"
      ]
     },
     "execution_count": 90,
     "metadata": {},
     "output_type": "execute_result"
    },
    {
     "name": "stdout",
     "output_type": "stream",
     "text": [
      "000010\n"
     ]
    },
    {
     "data": {
      "text/plain": [
       "('19970409', 111)"
      ]
     },
     "execution_count": 90,
     "metadata": {},
     "output_type": "execute_result"
    },
    {
     "name": "stdout",
     "output_type": "stream",
     "text": [
      "000010\n"
     ]
    },
    {
     "data": {
      "text/plain": [
       "('19970410', 112)"
      ]
     },
     "execution_count": 90,
     "metadata": {},
     "output_type": "execute_result"
    },
    {
     "name": "stdout",
     "output_type": "stream",
     "text": [
      "000010\n"
     ]
    },
    {
     "data": {
      "text/plain": [
       "('19970411', 113)"
      ]
     },
     "execution_count": 90,
     "metadata": {},
     "output_type": "execute_result"
    },
    {
     "name": "stdout",
     "output_type": "stream",
     "text": [
      "000010\n"
     ]
    },
    {
     "data": {
      "text/plain": [
       "('19970412', 114)"
      ]
     },
     "execution_count": 90,
     "metadata": {},
     "output_type": "execute_result"
    },
    {
     "name": "stdout",
     "output_type": "stream",
     "text": [
      "000010\n"
     ]
    },
    {
     "data": {
      "text/plain": [
       "('19970414', 115)"
      ]
     },
     "execution_count": 90,
     "metadata": {},
     "output_type": "execute_result"
    },
    {
     "name": "stdout",
     "output_type": "stream",
     "text": [
      "000010\n"
     ]
    },
    {
     "data": {
      "text/plain": [
       "('19970415', 116)"
      ]
     },
     "execution_count": 90,
     "metadata": {},
     "output_type": "execute_result"
    },
    {
     "name": "stdout",
     "output_type": "stream",
     "text": [
      "000010\n"
     ]
    },
    {
     "data": {
      "text/plain": [
       "('19970416', 117)"
      ]
     },
     "execution_count": 90,
     "metadata": {},
     "output_type": "execute_result"
    },
    {
     "name": "stdout",
     "output_type": "stream",
     "text": [
      "000010\n"
     ]
    },
    {
     "data": {
      "text/plain": [
       "('19970417', 118)"
      ]
     },
     "execution_count": 90,
     "metadata": {},
     "output_type": "execute_result"
    },
    {
     "name": "stdout",
     "output_type": "stream",
     "text": [
      "000010\n"
     ]
    },
    {
     "data": {
      "text/plain": [
       "('19970418', 119)"
      ]
     },
     "execution_count": 90,
     "metadata": {},
     "output_type": "execute_result"
    },
    {
     "name": "stdout",
     "output_type": "stream",
     "text": [
      "000010\n"
     ]
    },
    {
     "data": {
      "text/plain": [
       "('19970423', 120)"
      ]
     },
     "execution_count": 90,
     "metadata": {},
     "output_type": "execute_result"
    },
    {
     "name": "stdout",
     "output_type": "stream",
     "text": [
      "000010\n"
     ]
    },
    {
     "data": {
      "text/plain": [
       "('19970424', 121)"
      ]
     },
     "execution_count": 90,
     "metadata": {},
     "output_type": "execute_result"
    },
    {
     "name": "stdout",
     "output_type": "stream",
     "text": [
      "000010\n"
     ]
    },
    {
     "data": {
      "text/plain": [
       "('19970425', 122)"
      ]
     },
     "execution_count": 90,
     "metadata": {},
     "output_type": "execute_result"
    },
    {
     "name": "stdout",
     "output_type": "stream",
     "text": [
      "000010\n"
     ]
    },
    {
     "data": {
      "text/plain": [
       "('19970428', 123)"
      ]
     },
     "execution_count": 90,
     "metadata": {},
     "output_type": "execute_result"
    },
    {
     "name": "stdout",
     "output_type": "stream",
     "text": [
      "000010\n"
     ]
    },
    {
     "data": {
      "text/plain": [
       "('19970429', 124)"
      ]
     },
     "execution_count": 90,
     "metadata": {},
     "output_type": "execute_result"
    },
    {
     "name": "stdout",
     "output_type": "stream",
     "text": [
      "000010\n"
     ]
    },
    {
     "data": {
      "text/plain": [
       "('19970430', 125)"
      ]
     },
     "execution_count": 90,
     "metadata": {},
     "output_type": "execute_result"
    },
    {
     "name": "stdout",
     "output_type": "stream",
     "text": [
      "000010\n"
     ]
    },
    {
     "data": {
      "text/plain": [
       "('19970502', 126)"
      ]
     },
     "execution_count": 90,
     "metadata": {},
     "output_type": "execute_result"
    },
    {
     "name": "stdout",
     "output_type": "stream",
     "text": [
      "000010\n"
     ]
    },
    {
     "data": {
      "text/plain": [
       "('19970503', 127)"
      ]
     },
     "execution_count": 90,
     "metadata": {},
     "output_type": "execute_result"
    },
    {
     "name": "stdout",
     "output_type": "stream",
     "text": [
      "000010\n"
     ]
    },
    {
     "data": {
      "text/plain": [
       "('19970507', 128)"
      ]
     },
     "execution_count": 90,
     "metadata": {},
     "output_type": "execute_result"
    },
    {
     "name": "stdout",
     "output_type": "stream",
     "text": [
      "000010\n"
     ]
    },
    {
     "data": {
      "text/plain": [
       "('19970508', 129)"
      ]
     },
     "execution_count": 90,
     "metadata": {},
     "output_type": "execute_result"
    },
    {
     "name": "stdout",
     "output_type": "stream",
     "text": [
      "000010\n"
     ]
    },
    {
     "data": {
      "text/plain": [
       "('19970509', 130)"
      ]
     },
     "execution_count": 90,
     "metadata": {},
     "output_type": "execute_result"
    },
    {
     "name": "stdout",
     "output_type": "stream",
     "text": [
      "000010\n"
     ]
    },
    {
     "data": {
      "text/plain": [
       "('19970512', 131)"
      ]
     },
     "execution_count": 90,
     "metadata": {},
     "output_type": "execute_result"
    },
    {
     "name": "stdout",
     "output_type": "stream",
     "text": [
      "000010\n"
     ]
    },
    {
     "data": {
      "text/plain": [
       "('19970513', 132)"
      ]
     },
     "execution_count": 90,
     "metadata": {},
     "output_type": "execute_result"
    },
    {
     "name": "stdout",
     "output_type": "stream",
     "text": [
      "000010\n"
     ]
    },
    {
     "data": {
      "text/plain": [
       "('19970515', 133)"
      ]
     },
     "execution_count": 90,
     "metadata": {},
     "output_type": "execute_result"
    },
    {
     "name": "stdout",
     "output_type": "stream",
     "text": [
      "000010\n"
     ]
    },
    {
     "data": {
      "text/plain": [
       "('19970516', 134)"
      ]
     },
     "execution_count": 90,
     "metadata": {},
     "output_type": "execute_result"
    },
    {
     "name": "stdout",
     "output_type": "stream",
     "text": [
      "000010\n"
     ]
    },
    {
     "data": {
      "text/plain": [
       "('19970519', 135)"
      ]
     },
     "execution_count": 90,
     "metadata": {},
     "output_type": "execute_result"
    },
    {
     "name": "stdout",
     "output_type": "stream",
     "text": [
      "000010\n"
     ]
    },
    {
     "data": {
      "text/plain": [
       "('19970520', 136)"
      ]
     },
     "execution_count": 90,
     "metadata": {},
     "output_type": "execute_result"
    },
    {
     "name": "stdout",
     "output_type": "stream",
     "text": [
      "000010\n"
     ]
    },
    {
     "data": {
      "text/plain": [
       "('19970521', 137)"
      ]
     },
     "execution_count": 90,
     "metadata": {},
     "output_type": "execute_result"
    },
    {
     "name": "stdout",
     "output_type": "stream",
     "text": [
      "000010\n"
     ]
    },
    {
     "data": {
      "text/plain": [
       "('19970522', 138)"
      ]
     },
     "execution_count": 90,
     "metadata": {},
     "output_type": "execute_result"
    },
    {
     "name": "stdout",
     "output_type": "stream",
     "text": [
      "000010\n"
     ]
    },
    {
     "data": {
      "text/plain": [
       "('19970523', 139)"
      ]
     },
     "execution_count": 90,
     "metadata": {},
     "output_type": "execute_result"
    },
    {
     "name": "stdout",
     "output_type": "stream",
     "text": [
      "000010\n"
     ]
    },
    {
     "data": {
      "text/plain": [
       "('19970524', 140)"
      ]
     },
     "execution_count": 90,
     "metadata": {},
     "output_type": "execute_result"
    },
    {
     "name": "stdout",
     "output_type": "stream",
     "text": [
      "000010\n"
     ]
    },
    {
     "data": {
      "text/plain": [
       "('19970526', 141)"
      ]
     },
     "execution_count": 90,
     "metadata": {},
     "output_type": "execute_result"
    },
    {
     "name": "stdout",
     "output_type": "stream",
     "text": [
      "000010\n"
     ]
    },
    {
     "data": {
      "text/plain": [
       "('19970527', 142)"
      ]
     },
     "execution_count": 90,
     "metadata": {},
     "output_type": "execute_result"
    },
    {
     "name": "stdout",
     "output_type": "stream",
     "text": [
      "000010\n"
     ]
    },
    {
     "data": {
      "text/plain": [
       "('19970528', 143)"
      ]
     },
     "execution_count": 90,
     "metadata": {},
     "output_type": "execute_result"
    },
    {
     "name": "stdout",
     "output_type": "stream",
     "text": [
      "000010\n"
     ]
    },
    {
     "data": {
      "text/plain": [
       "('19970529', 144)"
      ]
     },
     "execution_count": 90,
     "metadata": {},
     "output_type": "execute_result"
    },
    {
     "name": "stdout",
     "output_type": "stream",
     "text": [
      "000010\n"
     ]
    },
    {
     "data": {
      "text/plain": [
       "('19970530', 145)"
      ]
     },
     "execution_count": 90,
     "metadata": {},
     "output_type": "execute_result"
    },
    {
     "name": "stdout",
     "output_type": "stream",
     "text": [
      "000010\n"
     ]
    },
    {
     "data": {
      "text/plain": [
       "('19970531', 146)"
      ]
     },
     "execution_count": 90,
     "metadata": {},
     "output_type": "execute_result"
    },
    {
     "name": "stdout",
     "output_type": "stream",
     "text": [
      "000010\n"
     ]
    },
    {
     "data": {
      "text/plain": [
       "('19970602', 147)"
      ]
     },
     "execution_count": 90,
     "metadata": {},
     "output_type": "execute_result"
    },
    {
     "name": "stdout",
     "output_type": "stream",
     "text": [
      "000010\n"
     ]
    },
    {
     "data": {
      "text/plain": [
       "('19970603', 148)"
      ]
     },
     "execution_count": 90,
     "metadata": {},
     "output_type": "execute_result"
    },
    {
     "name": "stdout",
     "output_type": "stream",
     "text": [
      "000010\n"
     ]
    },
    {
     "data": {
      "text/plain": [
       "('19970604', 149)"
      ]
     },
     "execution_count": 90,
     "metadata": {},
     "output_type": "execute_result"
    },
    {
     "name": "stdout",
     "output_type": "stream",
     "text": [
      "000010\n"
     ]
    },
    {
     "data": {
      "text/plain": [
       "('19970605', 150)"
      ]
     },
     "execution_count": 90,
     "metadata": {},
     "output_type": "execute_result"
    },
    {
     "name": "stdout",
     "output_type": "stream",
     "text": [
      "000010\n"
     ]
    },
    {
     "data": {
      "text/plain": [
       "('19970607', 151)"
      ]
     },
     "execution_count": 90,
     "metadata": {},
     "output_type": "execute_result"
    },
    {
     "name": "stdout",
     "output_type": "stream",
     "text": [
      "000010\n"
     ]
    },
    {
     "data": {
      "text/plain": [
       "('19970609', 152)"
      ]
     },
     "execution_count": 90,
     "metadata": {},
     "output_type": "execute_result"
    },
    {
     "name": "stdout",
     "output_type": "stream",
     "text": [
      "000010\n"
     ]
    },
    {
     "data": {
      "text/plain": [
       "('19970610', 153)"
      ]
     },
     "execution_count": 90,
     "metadata": {},
     "output_type": "execute_result"
    },
    {
     "name": "stdout",
     "output_type": "stream",
     "text": [
      "000010\n"
     ]
    },
    {
     "data": {
      "text/plain": [
       "('19970611', 154)"
      ]
     },
     "execution_count": 90,
     "metadata": {},
     "output_type": "execute_result"
    },
    {
     "name": "stdout",
     "output_type": "stream",
     "text": [
      "000010\n"
     ]
    },
    {
     "data": {
      "text/plain": [
       "('19970612', 155)"
      ]
     },
     "execution_count": 90,
     "metadata": {},
     "output_type": "execute_result"
    },
    {
     "name": "stdout",
     "output_type": "stream",
     "text": [
      "000010\n"
     ]
    },
    {
     "data": {
      "text/plain": [
       "('19970613', 156)"
      ]
     },
     "execution_count": 90,
     "metadata": {},
     "output_type": "execute_result"
    },
    {
     "name": "stdout",
     "output_type": "stream",
     "text": [
      "000010\n"
     ]
    },
    {
     "data": {
      "text/plain": [
       "('19970614', 157)"
      ]
     },
     "execution_count": 90,
     "metadata": {},
     "output_type": "execute_result"
    },
    {
     "name": "stdout",
     "output_type": "stream",
     "text": [
      "000010\n"
     ]
    },
    {
     "data": {
      "text/plain": [
       "('19970616', 158)"
      ]
     },
     "execution_count": 90,
     "metadata": {},
     "output_type": "execute_result"
    },
    {
     "name": "stdout",
     "output_type": "stream",
     "text": [
      "000010\n"
     ]
    },
    {
     "data": {
      "text/plain": [
       "('19970617', 159)"
      ]
     },
     "execution_count": 90,
     "metadata": {},
     "output_type": "execute_result"
    },
    {
     "name": "stdout",
     "output_type": "stream",
     "text": [
      "000010\n"
     ]
    },
    {
     "data": {
      "text/plain": [
       "('19970618', 160)"
      ]
     },
     "execution_count": 90,
     "metadata": {},
     "output_type": "execute_result"
    },
    {
     "name": "stdout",
     "output_type": "stream",
     "text": [
      "000010\n"
     ]
    },
    {
     "data": {
      "text/plain": [
       "('19970619', 161)"
      ]
     },
     "execution_count": 90,
     "metadata": {},
     "output_type": "execute_result"
    },
    {
     "name": "stdout",
     "output_type": "stream",
     "text": [
      "000010\n"
     ]
    },
    {
     "data": {
      "text/plain": [
       "('19970620', 162)"
      ]
     },
     "execution_count": 90,
     "metadata": {},
     "output_type": "execute_result"
    },
    {
     "name": "stdout",
     "output_type": "stream",
     "text": [
      "000010\n"
     ]
    },
    {
     "data": {
      "text/plain": [
       "('19970621', 163)"
      ]
     },
     "execution_count": 90,
     "metadata": {},
     "output_type": "execute_result"
    },
    {
     "name": "stdout",
     "output_type": "stream",
     "text": [
      "000010\n"
     ]
    },
    {
     "data": {
      "text/plain": [
       "('19970623', 164)"
      ]
     },
     "execution_count": 90,
     "metadata": {},
     "output_type": "execute_result"
    },
    {
     "name": "stdout",
     "output_type": "stream",
     "text": [
      "000010\n"
     ]
    },
    {
     "data": {
      "text/plain": [
       "('19970624', 165)"
      ]
     },
     "execution_count": 90,
     "metadata": {},
     "output_type": "execute_result"
    },
    {
     "name": "stdout",
     "output_type": "stream",
     "text": [
      "000010\n"
     ]
    },
    {
     "data": {
      "text/plain": [
       "('19970625', 166)"
      ]
     },
     "execution_count": 90,
     "metadata": {},
     "output_type": "execute_result"
    },
    {
     "name": "stdout",
     "output_type": "stream",
     "text": [
      "000010\n"
     ]
    },
    {
     "data": {
      "text/plain": [
       "('19970626', 167)"
      ]
     },
     "execution_count": 90,
     "metadata": {},
     "output_type": "execute_result"
    },
    {
     "name": "stdout",
     "output_type": "stream",
     "text": [
      "000010\n"
     ]
    },
    {
     "data": {
      "text/plain": [
       "('19970627', 168)"
      ]
     },
     "execution_count": 90,
     "metadata": {},
     "output_type": "execute_result"
    },
    {
     "name": "stdout",
     "output_type": "stream",
     "text": [
      "000010\n"
     ]
    }
   ],
   "source": [
    "for i, line in enumerate(lines):\n",
    "    lst = line.split(',')\n",
    "    if i > 290: # 일부 데이터만 보려고 넣은 조건임...\n",
    "        break\n",
    "    elif lst[1] in 십억cd_dt.keys(): # 10억 이상인 코드일 동안\n",
    "        if lst[0] in 십억cd_dt[lst[1]]: # 날짜 따지기.... # 날짜가 그 안에 있으면\n",
    "            lst[0], 십억cd_dt[lst[1]].index(lst[0]) # 십억cd_dt의 현재 종목코드일 때의 val에 대해 현재 date의 idx 찾기\n",
    "            print(lst[1])\n",
    "            \n",
    "        \n",
    "    "
   ]
  },
  {
   "cell_type": "markdown",
   "id": "98450929",
   "metadata": {},
   "source": [
    "# 거래일tv만족code = 거래일 & tv조건 교집합\n",
    "* 거래일 조건이랑 tv조건 동시 만족하는 종목코드 먼저 뽑기\n",
    "* tv 조건 만족하는 날짜는 나중에 생각 <br>\n",
    "교집합!!!"
   ]
  },
  {
   "cell_type": "code",
   "execution_count": 91,
   "id": "a6bf7f57",
   "metadata": {},
   "outputs": [
    {
     "data": {
      "text/plain": [
       "2423"
      ]
     },
     "execution_count": 91,
     "metadata": {},
     "output_type": "execute_result"
    }
   ],
   "source": [
    "len(set(십억cd_dt.keys())&set(고려대상1)) # 2423\n",
    "거래일tv만족code = set(십억cd_dt.keys())&set(고려대상1)\n",
    "거래일tv만족code = sorted(거래일tv만족code)"
   ]
  },
  {
   "cell_type": "code",
   "execution_count": 92,
   "id": "39fb5ee2",
   "metadata": {},
   "outputs": [
    {
     "data": {
      "text/plain": [
       "2423"
      ]
     },
     "execution_count": 92,
     "metadata": {},
     "output_type": "execute_result"
    }
   ],
   "source": [
    "# test\n",
    "len(거래일tv만족code) # 3077 # 이 list에 있는 종목코드 내에서만 코딩 돌릴 것., ## 원소에 column name ('code') 없음."
   ]
  },
  {
   "cell_type": "code",
   "execution_count": 127,
   "id": "d31d5d9c",
   "metadata": {},
   "outputs": [
    {
     "data": {
      "text/plain": [
       "False"
      ]
     },
     "execution_count": 127,
     "metadata": {},
     "output_type": "execute_result"
    }
   ],
   "source": [
    "'code' in 거래일tv만족code"
   ]
  },
  {
   "cell_type": "code",
   "execution_count": 93,
   "id": "42fda3c3",
   "metadata": {},
   "outputs": [
    {
     "data": {
      "text/plain": [
       "3827"
      ]
     },
     "execution_count": 93,
     "metadata": {},
     "output_type": "execute_result"
    }
   ],
   "source": [
    "# test\n",
    "len(십억cd_dt) # 3827"
   ]
  },
  {
   "cell_type": "markdown",
   "id": "ce97816e",
   "metadata": {},
   "source": [
    "# 교집합tv_dt_dic = {코드: tv>=100억 & 거래일만족}\n",
    "* column name도 유지..."
   ]
  },
  {
   "cell_type": "code",
   "execution_count": 95,
   "id": "338fbb57",
   "metadata": {},
   "outputs": [
    {
     "data": {
      "text/plain": [
       "2424"
      ]
     },
     "execution_count": 95,
     "metadata": {},
     "output_type": "execute_result"
    }
   ],
   "source": [
    "교집합tv_dt_dic = 십억cd_dt.copy()\n",
    "for i,j in enumerate(십억cd_dt.keys()):\n",
    "    if i == 0: # column name도 유지...\n",
    "        pass\n",
    "    elif j not in 거래일tv만족code:\n",
    "        del(교집합tv_dt_dic[j]) # 바로 업데이트 됨 주의 (실수하면 십억cd_dt = {tv >= 10억인 날이 하루라도 있는 cd: 그 dt list} 여기부터 다시 실행...)\n",
    "len(교집합tv_dt_dic) # 2424"
   ]
  },
  {
   "cell_type": "code",
   "execution_count": 100,
   "id": "367e9789",
   "metadata": {},
   "outputs": [
    {
     "name": "stdout",
     "output_type": "stream",
     "text": [
      "code\n",
      "000010\n",
      "000020\n",
      "000050\n"
     ]
    }
   ],
   "source": [
    "# test\n",
    "for i,j in enumerate(교집합tv_dt_dic.keys()):\n",
    "    while i < 4:\n",
    "        print(j)\n",
    "        break\n",
    "# 연속정지 20일 이상이 존재하는 000030이 없음 확인."
   ]
  },
  {
   "cell_type": "code",
   "execution_count": 105,
   "id": "1864f145",
   "metadata": {},
   "outputs": [
    {
     "data": {
      "text/plain": [
       "1865"
      ]
     },
     "execution_count": 105,
     "metadata": {},
     "output_type": "execute_result"
    },
    {
     "data": {
      "text/plain": [
       "2816"
      ]
     },
     "execution_count": 105,
     "metadata": {},
     "output_type": "execute_result"
    }
   ],
   "source": [
    "# test\n",
    "len(교집합tv_dt_dic['000010'])\n",
    "len(교집합tv_dt_dic['000020'])\n",
    "# 길이 다름 확인"
   ]
  },
  {
   "cell_type": "markdown",
   "id": "5edec031",
   "metadata": {},
   "source": [
    "# 당일 변동폭 (고가/저가) > 1.05인 날짜 선별\n",
    "* high idx는 3\n",
    "* low idx는 4\n",
    "\n",
    "> 교집합tv_dt_dic에서 이어서 하기!!!!!!!!!!"
   ]
  },
  {
   "cell_type": "code",
   "execution_count": 113,
   "id": "9ae824e7",
   "metadata": {},
   "outputs": [
    {
     "name": "stdout",
     "output_type": "stream",
     "text": [
      "497494, code: 000997, date: 20070521, high: 0, low: 0\n",
      "1680811, code: 003547, date: 20071109, high: 0, low: 0\n",
      "9946550, code: 083370, date: 20050829, high: 0, low: 0\n"
     ]
    },
    {
     "data": {
      "text/plain": [
       "3"
      ]
     },
     "execution_count": 113,
     "metadata": {},
     "output_type": "execute_result"
    }
   ],
   "source": [
    "변동폭dic = {f'{mk_cd(i)}':[] for i in 교집합tv_dt_dic.keys()} # code: 조건만족하는 dt list\n",
    "cnt = 0\n",
    "for i, line in enumerate(lines):\n",
    "    lst = line.split(',')\n",
    "    if i == 0:\n",
    "        변동폭dic[lst[1]].append(lst[0]) #'code' key 들어감\n",
    "#     elif (int(lst[3]) / int(lst[4])) > 1.05:\n",
    "#         변동폭dic[lst[1]].append(lst[0])\n",
    "    elif lst[1] in 교집합tv_dt_dic.keys():\n",
    "        if int(lst[4]) == 0: # 애당초 나누는 쪽이 0이 될 수는 없음임..\n",
    "            cnt+=1\n",
    "            print(f'{i}, code: {lst[1]}, date: {lst[0]}, high: {lst[3]}, low: {lst[4]}') # high까지 전부 0임.. 생각해보니 아직 거래정지 날들 data 처리 안함.\n",
    "            pass\n",
    "        elif (int(lst[3]) / int(lst[4])) > 1.05:\n",
    "            변동폭dic[lst[1]].append(lst[0])\n",
    "cnt # 3 # 저 안에 거래정지있는 data가 3개 있음. code: '000997', '003547', '083370' 각 1개 씩...\n",
    "# 하루씩이라 상관 없는듯."
   ]
  },
  {
   "cell_type": "code",
   "execution_count": 107,
   "id": "e583483f",
   "metadata": {},
   "outputs": [
    {
     "data": {
      "text/plain": [
       "2424"
      ]
     },
     "execution_count": 107,
     "metadata": {},
     "output_type": "execute_result"
    }
   ],
   "source": [
    "# test\n",
    "len(변동폭dic) #2424 (여기엔 값이 비어있는 key도 포함돼있음.)"
   ]
  },
  {
   "cell_type": "code",
   "execution_count": 109,
   "id": "3c4a328e",
   "metadata": {},
   "outputs": [
    {
     "data": {
      "text/plain": [
       "['date']"
      ]
     },
     "execution_count": 109,
     "metadata": {},
     "output_type": "execute_result"
    }
   ],
   "source": [
    "# test\n",
    "변동폭dic['code'] # key에 'code' 있는지 확인"
   ]
  },
  {
   "cell_type": "code",
   "execution_count": 135,
   "id": "1a7aec19",
   "metadata": {},
   "outputs": [
    {
     "data": {
      "text/plain": [
       "2410"
      ]
     },
     "execution_count": 135,
     "metadata": {},
     "output_type": "execute_result"
    }
   ],
   "source": [
    "최종변동폭cd_dt = {}\n",
    "for i in 변동폭dic:\n",
    "    if 변동폭dic[i]:\n",
    "        최종변동폭cd_dt[i] = 변동폭dic[i]\n",
    "len(최종변동폭cd_dt) # 값(>1.05인 날짜) 있는건 2410개"
   ]
  },
  {
   "cell_type": "code",
   "execution_count": 142,
   "id": "9399c8e4",
   "metadata": {},
   "outputs": [
    {
     "data": {
      "text/plain": [
       "False"
      ]
     },
     "execution_count": 142,
     "metadata": {},
     "output_type": "execute_result"
    },
    {
     "data": {
      "text/plain": [
       "False"
      ]
     },
     "execution_count": 142,
     "metadata": {},
     "output_type": "execute_result"
    },
    {
     "data": {
      "text/plain": [
       "False"
      ]
     },
     "execution_count": 142,
     "metadata": {},
     "output_type": "execute_result"
    },
    {
     "data": {
      "text/plain": [
       "['20160531', '20170316', '20170317']"
      ]
     },
     "execution_count": 142,
     "metadata": {},
     "output_type": "execute_result"
    },
    {
     "data": {
      "text/plain": [
       "False"
      ]
     },
     "execution_count": 142,
     "metadata": {},
     "output_type": "execute_result"
    },
    {
     "data": {
      "text/plain": [
       "False"
      ]
     },
     "execution_count": 142,
     "metadata": {},
     "output_type": "execute_result"
    },
    {
     "data": {
      "text/plain": [
       "False"
      ]
     },
     "execution_count": 142,
     "metadata": {},
     "output_type": "execute_result"
    },
    {
     "data": {
      "text/plain": [
       "['20051118',\n",
       " '20051215',\n",
       " '20060321',\n",
       " '20060323',\n",
       " '20060529',\n",
       " '20070406',\n",
       " '20070611',\n",
       " '20070622',\n",
       " '20070731',\n",
       " '20071102',\n",
       " '20071127',\n",
       " '20071228',\n",
       " '20080602',\n",
       " '20080709',\n",
       " '20080813',\n",
       " '20080822',\n",
       " '20080828',\n",
       " '20080902',\n",
       " '20081009',\n",
       " '20081010',\n",
       " '20081014',\n",
       " '20081017',\n",
       " '20081021',\n",
       " '20081023',\n",
       " '20081024',\n",
       " '20081113',\n",
       " '20081117',\n",
       " '20081208',\n",
       " '20081209',\n",
       " '20081218',\n",
       " '20090220',\n",
       " '20090306',\n",
       " '20090310',\n",
       " '20090312',\n",
       " '20090410',\n",
       " '20090415',\n",
       " '20090416',\n",
       " '20090417',\n",
       " '20090422',\n",
       " '20090423',\n",
       " '20090424',\n",
       " '20090427',\n",
       " '20090430',\n",
       " '20090504',\n",
       " '20090513',\n",
       " '20090520',\n",
       " '20090604',\n",
       " '20090605',\n",
       " '20090625',\n",
       " '20090702',\n",
       " '20090818',\n",
       " '20090819',\n",
       " '20090820',\n",
       " '20090903',\n",
       " '20090909',\n",
       " '20090915',\n",
       " '20091118',\n",
       " '20091126',\n",
       " '20091202',\n",
       " '20100112',\n",
       " '20100114',\n",
       " '20100125',\n",
       " '20100211',\n",
       " '20100223',\n",
       " '20100225',\n",
       " '20100308',\n",
       " '20100309',\n",
       " '20100310',\n",
       " '20100318',\n",
       " '20100319',\n",
       " '20100326',\n",
       " '20100414',\n",
       " '20100511',\n",
       " '20100525',\n",
       " '20100528',\n",
       " '20100608',\n",
       " '20100611',\n",
       " '20100701',\n",
       " '20100902',\n",
       " '20101129',\n",
       " '20101209',\n",
       " '20110125',\n",
       " '20110126',\n",
       " '20110127',\n",
       " '20110209',\n",
       " '20110211',\n",
       " '20110215',\n",
       " '20110216',\n",
       " '20110217',\n",
       " '20110218',\n",
       " '20110302',\n",
       " '20110309',\n",
       " '20110401',\n",
       " '20110405',\n",
       " '20110425',\n",
       " '20110517',\n",
       " '20110524',\n",
       " '20110610',\n",
       " '20110722',\n",
       " '20110808',\n",
       " '20110809',\n",
       " '20110810',\n",
       " '20110811',\n",
       " '20110826',\n",
       " '20111115',\n",
       " '20111223',\n",
       " '20111228',\n",
       " '20120119',\n",
       " '20120809',\n",
       " '20121101',\n",
       " '20130315',\n",
       " '20130320',\n",
       " '20130327',\n",
       " '20130328',\n",
       " '20130402',\n",
       " '20130411',\n",
       " '20130412',\n",
       " '20130415',\n",
       " '20130416',\n",
       " '20130418',\n",
       " '20130422',\n",
       " '20130424',\n",
       " '20130503',\n",
       " '20130513',\n",
       " '20130520',\n",
       " '20130603',\n",
       " '20130611',\n",
       " '20130613',\n",
       " '20130619',\n",
       " '20130621',\n",
       " '20130625',\n",
       " '20130626',\n",
       " '20130627',\n",
       " '20130628',\n",
       " '20130701',\n",
       " '20130702',\n",
       " '20130703',\n",
       " '20130708',\n",
       " '20130709',\n",
       " '20130711',\n",
       " '20130717',\n",
       " '20130725',\n",
       " '20131015',\n",
       " '20131119',\n",
       " '20131120',\n",
       " '20131128',\n",
       " '20131202',\n",
       " '20131209',\n",
       " '20131210',\n",
       " '20131212',\n",
       " '20131218',\n",
       " '20131219',\n",
       " '20131224',\n",
       " '20131226',\n",
       " '20131230',\n",
       " '20140108',\n",
       " '20140110',\n",
       " '20140113',\n",
       " '20140114',\n",
       " '20140117',\n",
       " '20140225',\n",
       " '20140307',\n",
       " '20140318',\n",
       " '20140326',\n",
       " '20140410',\n",
       " '20140411',\n",
       " '20140414',\n",
       " '20140416',\n",
       " '20140422',\n",
       " '20140423',\n",
       " '20140429',\n",
       " '20140514',\n",
       " '20140529',\n",
       " '20140602',\n",
       " '20140627',\n",
       " '20140630',\n",
       " '20140806',\n",
       " '20140808',\n",
       " '20140819',\n",
       " '20140912',\n",
       " '20140915',\n",
       " '20141125',\n",
       " '20141127',\n",
       " '20141223',\n",
       " '20150116',\n",
       " '20150209',\n",
       " '20150303',\n",
       " '20150827',\n",
       " '20150903',\n",
       " '20150909',\n",
       " '20151119',\n",
       " '20151127',\n",
       " '20151130',\n",
       " '20151201',\n",
       " '20151207',\n",
       " '20151208',\n",
       " '20151209',\n",
       " '20151211',\n",
       " '20151216',\n",
       " '20151229',\n",
       " '20160106',\n",
       " '20160107',\n",
       " '20160108',\n",
       " '20160111',\n",
       " '20160112',\n",
       " '20160204',\n",
       " '20160212',\n",
       " '20160215',\n",
       " '20160219',\n",
       " '20160224',\n",
       " '20160226',\n",
       " '20160303',\n",
       " '20160304',\n",
       " '20160307',\n",
       " '20160324',\n",
       " '20160325',\n",
       " '20160407',\n",
       " '20160421',\n",
       " '20160425',\n",
       " '20160426',\n",
       " '20160427',\n",
       " '20160428',\n",
       " '20160429',\n",
       " '20160503',\n",
       " '20160504',\n",
       " '20160509',\n",
       " '20160527',\n",
       " '20160530',\n",
       " '20160531',\n",
       " '20160601',\n",
       " '20160602',\n",
       " '20160603',\n",
       " '20160607',\n",
       " '20160608',\n",
       " '20160609',\n",
       " '20160621',\n",
       " '20160622',\n",
       " '20160623',\n",
       " '20160624',\n",
       " '20160704',\n",
       " '20160715',\n",
       " '20160727',\n",
       " '20160926',\n",
       " '20161208',\n",
       " '20161209',\n",
       " '20161213',\n",
       " '20170120',\n",
       " '20170203',\n",
       " '20170206',\n",
       " '20170208',\n",
       " '20170209',\n",
       " '20170210',\n",
       " '20170214',\n",
       " '20170217',\n",
       " '20170224',\n",
       " '20170309',\n",
       " '20170316',\n",
       " '20170317',\n",
       " '20170320',\n",
       " '20170322',\n",
       " '20200228',\n",
       " '20200521']"
      ]
     },
     "execution_count": 142,
     "metadata": {},
     "output_type": "execute_result"
    }
   ],
   "source": [
    "# test\n",
    "'20070521' in 교집합tv_dt_dic['000997']\n",
    "'20071109' in 교집합tv_dt_dic['003547']\n",
    "'20050829' in 교집합tv_dt_dic['083370']\n",
    "교집합tv_dt_dic['083370']\n",
    "# df[df['code']== 83370] # 맨 위 하루\n",
    "# df[df['code']== 997] # 맨 위 하루\n",
    "# df[df['code']== 3547] # 맨 위 하루\n",
    "\n",
    "# 교집합tv_dt_dic에는 왜 없다고 뜨는 것인지...\n",
    "# 거기엔 없는게 맞음. 전체 dic에 대해 교집합tv_dt_dic에 존재하는 코드에서 low == 0인 날을 확인한 것이므로\n",
    "\n",
    "\n",
    "'20070521' in 최종변동폭cd_dt['000997']\n",
    "'20071109' in 최종변동폭cd_dt['003547']\n",
    "'20050829' in 최종변동폭cd_dt['083370']\n",
    "최종변동폭cd_dt['083370']\n",
    "# 0이었던 날짜들 다 없는 것 확인."
   ]
  },
  {
   "cell_type": "code",
   "execution_count": 128,
   "id": "80b3dc74",
   "metadata": {
    "scrolled": true
   },
   "outputs": [
    {
     "data": {
      "text/plain": [
       "['date']"
      ]
     },
     "execution_count": 128,
     "metadata": {},
     "output_type": "execute_result"
    }
   ],
   "source": [
    "최종변동폭cd_dt['code']"
   ]
  },
  {
   "cell_type": "code",
   "execution_count": 129,
   "id": "0b7c39de",
   "metadata": {},
   "outputs": [
    {
     "data": {
      "text/plain": [
       "2409"
      ]
     },
     "execution_count": 129,
     "metadata": {},
     "output_type": "execute_result"
    }
   ],
   "source": [
    "# # 실핼할 필요 없는 cell...\n",
    "# 조건만족cd_dt = {}\n",
    "# for i in 최종변동폭cd_dt:\n",
    "#     if i in 거래일tv만족code: # 교집합의미\n",
    "#         조건만족cd_dt[i] = 최종변동폭cd_dt[i]\n",
    "# len(조건만족cd_dt)"
   ]
  },
  {
   "cell_type": "code",
   "execution_count": 131,
   "id": "a1b12ea6",
   "metadata": {},
   "outputs": [],
   "source": [
    "# del 최종변동폭cd_dt['code'] # 덮어쓰기 주의. ;;;; 'code' key 안지우는게 나을듯"
   ]
  },
  {
   "cell_type": "code",
   "execution_count": 132,
   "id": "34ba6a21",
   "metadata": {
    "scrolled": false
   },
   "outputs": [
    {
     "data": {
      "text/plain": [
       "2409"
      ]
     },
     "execution_count": 132,
     "metadata": {},
     "output_type": "execute_result"
    }
   ],
   "source": [
    "# len(최종변동폭cd_dt) # 2409 # 최종"
   ]
  },
  {
   "cell_type": "code",
   "execution_count": 143,
   "id": "059a515d",
   "metadata": {},
   "outputs": [
    {
     "data": {
      "text/plain": [
       "2424"
      ]
     },
     "execution_count": 143,
     "metadata": {},
     "output_type": "execute_result"
    }
   ],
   "source": [
    "len(교집합tv_dt_dic)"
   ]
  },
  {
   "cell_type": "markdown",
   "id": "5bf60ffb",
   "metadata": {},
   "source": [
    "# final"
   ]
  },
  {
   "cell_type": "code",
   "execution_count": 192,
   "id": "35c07b28",
   "metadata": {},
   "outputs": [
    {
     "name": "stderr",
     "output_type": "stream",
     "text": [
      "100%|██████████| 2410/2410 [00:16<00:00, 145.41it/s]\n"
     ]
    },
    {
     "data": {
      "text/plain": [
       "2410"
      ]
     },
     "execution_count": 192,
     "metadata": {},
     "output_type": "execute_result"
    }
   ],
   "source": [
    "final = {f'{mk_cd(i)}':[] for i in 최종변동폭cd_dt.keys()}\n",
    "for i in tqdm(최종변동폭cd_dt):\n",
    "    for j in 최종변동폭cd_dt[i]:\n",
    "        if i == 'code':\n",
    "            final[i] = j\n",
    "        elif j in 교집합tv_dt_dic[i]:\n",
    "            final[i].append(j)\n",
    "len(final)"
   ]
  },
  {
   "cell_type": "code",
   "execution_count": 193,
   "id": "b9b3b8d3",
   "metadata": {},
   "outputs": [
    {
     "data": {
      "text/plain": [
       "['20160531', '20170316', '20170317']"
      ]
     },
     "execution_count": 193,
     "metadata": {},
     "output_type": "execute_result"
    }
   ],
   "source": [
    "final['083370'] # 만약 존재할거라면... 값이 ['20160531', '20170316', '20170317'] 안에 있어야하며, 일수 3개여야함."
   ]
  },
  {
   "cell_type": "code",
   "execution_count": 196,
   "id": "82e0cb96",
   "metadata": {},
   "outputs": [
    {
     "data": {
      "text/plain": [
       "0"
      ]
     },
     "execution_count": 196,
     "metadata": {},
     "output_type": "execute_result"
    },
    {
     "name": "stdout",
     "output_type": "stream",
     "text": [
      "000282\n",
      "000721\n",
      "001741\n",
      "002471\n",
      "004021\n",
      "007361\n",
      "008971\n",
      "009281\n",
      "009651\n",
      "010422\n",
      "010521\n",
      "011721\n",
      "012451\n",
      "015780\n",
      "016361\n",
      "016511\n",
      "018411\n",
      "025931\n",
      "034180\n",
      "034280\n",
      "034290\n",
      "034770\n",
      "034820\n",
      "034850\n",
      "034960\n",
      "035310\n",
      "036870\n",
      "064900\n",
      "073470\n",
      "090540\n",
      "124050\n",
      "152550\n",
      "217810\n",
      "218710\n",
      "221200\n",
      "281410\n",
      "408920\n",
      "409570\n"
     ]
    },
    {
     "data": {
      "text/plain": [
       "38"
      ]
     },
     "execution_count": 196,
     "metadata": {},
     "output_type": "execute_result"
    }
   ],
   "source": [
    "cnt = 0\n",
    "for i in 최종변동폭cd_dt:\n",
    "    if not 최종변동폭cd_dt[i]:\n",
    "        cnt+=1\n",
    "cnt\n",
    "\n",
    "cnt = 0\n",
    "for i in final:\n",
    "    if not final[i]:\n",
    "        print(i)\n",
    "        cnt+=1\n",
    "cnt"
   ]
  },
  {
   "cell_type": "markdown",
   "id": "8d7939f5",
   "metadata": {},
   "source": [
    "# ffin"
   ]
  },
  {
   "cell_type": "code",
   "execution_count": 201,
   "id": "ec88b981",
   "metadata": {},
   "outputs": [
    {
     "data": {
      "text/plain": [
       "2372"
      ]
     },
     "execution_count": 201,
     "metadata": {},
     "output_type": "execute_result"
    }
   ],
   "source": [
    "# list(final.keys())[0]\n",
    "ffin = {}\n",
    "\n",
    "for i in final:\n",
    "    if final[i]:\n",
    "        ffin[i] = final[i]\n",
    "\n",
    "len(ffin) # 왜 길이가 줄어드는것인가..."
   ]
  },
  {
   "cell_type": "code",
   "execution_count": 200,
   "id": "9a1aad22",
   "metadata": {},
   "outputs": [
    {
     "data": {
      "text/plain": [
       "['19960920',\n",
       " '19961014',\n",
       " '19961125',\n",
       " '19961126',\n",
       " '19961209',\n",
       " '19961210',\n",
       " '19961213',\n",
       " '19961219',\n",
       " '19961221']"
      ]
     },
     "execution_count": 200,
     "metadata": {},
     "output_type": "execute_result"
    },
    {
     "data": {
      "text/plain": [
       "['19960909', '19960910', '19960911']"
      ]
     },
     "execution_count": 200,
     "metadata": {},
     "output_type": "execute_result"
    }
   ],
   "source": [
    "최종변동폭cd_dt['000282']\n",
    "교집합tv_dt_dic['000282']\n",
    "# 정말 날짜가 안겹쳐서 빠짐..."
   ]
  },
  {
   "cell_type": "code",
   "execution_count": 154,
   "id": "5954bcde",
   "metadata": {},
   "outputs": [
    {
     "data": {
      "text/plain": [
       "'date'"
      ]
     },
     "execution_count": 154,
     "metadata": {},
     "output_type": "execute_result"
    }
   ],
   "source": [
    "final[list(final.keys())[i]]"
   ]
  },
  {
   "cell_type": "markdown",
   "id": "a7014a4c",
   "metadata": {},
   "source": [
    "# 저장\n",
    "* 형태 <br>\n",
    "> cd \\t 날짜 (날짜list아님)"
   ]
  },
  {
   "cell_type": "code",
   "execution_count": 139,
   "id": "fe5d5e11",
   "metadata": {},
   "outputs": [
    {
     "name": "stderr",
     "output_type": "stream",
     "text": [
      "100%|██████████| 2410/2410 [00:00<00:00, 6494.35it/s]\n"
     ]
    }
   ],
   "source": [
    "# with open(f'조건만족cd_dt (by 최종변동폭cd_dt).txt', 'w', encoding = 'UTF-8') as f:\n",
    "#     for i in tqdm(최종변동폭cd_dt):\n",
    "#         for j in 최종변동폭cd_dt[i]:\n",
    "#             _ = f.write(f'{i}\\t{j}\\n')\n",
    "        "
   ]
  },
  {
   "cell_type": "code",
   "execution_count": 141,
   "id": "0a0cf7da",
   "metadata": {},
   "outputs": [
    {
     "name": "stderr",
     "output_type": "stream",
     "text": [
      "\r",
      "0it [00:00, ?it/s]"
     ]
    },
    {
     "data": {
      "text/plain": [
       "'code\\tdate\\n'"
      ]
     },
     "execution_count": 141,
     "metadata": {},
     "output_type": "execute_result"
    },
    {
     "name": "stderr",
     "output_type": "stream",
     "text": [
      "0it [00:00, ?it/s]\n"
     ]
    }
   ],
   "source": [
    "f = open('조건만족cd_dt (by 최종변동폭cd_dt).txt', 'r', encoding = 'utf-8')\n",
    "ll = f.readlines()\n",
    "for iter, i in tqdm(enumerate(ll)):\n",
    "    i\n",
    "    break\n",
    "f.close()"
   ]
  },
  {
   "cell_type": "code",
   "execution_count": null,
   "id": "2ead9cb3",
   "metadata": {},
   "outputs": [],
   "source": []
  },
  {
   "cell_type": "code",
   "execution_count": 206,
   "id": "0b8303b8",
   "metadata": {},
   "outputs": [
    {
     "name": "stderr",
     "output_type": "stream",
     "text": [
      "\r",
      "  0%|          | 0/2372 [00:00<?, ?it/s]"
     ]
    },
    {
     "data": {
      "text/plain": [
       "'d'"
      ]
     },
     "execution_count": 206,
     "metadata": {},
     "output_type": "execute_result"
    },
    {
     "data": {
      "text/plain": [
       "'a'"
      ]
     },
     "execution_count": 206,
     "metadata": {},
     "output_type": "execute_result"
    },
    {
     "data": {
      "text/plain": [
       "'t'"
      ]
     },
     "execution_count": 206,
     "metadata": {},
     "output_type": "execute_result"
    },
    {
     "data": {
      "text/plain": [
       "'e'"
      ]
     },
     "execution_count": 206,
     "metadata": {},
     "output_type": "execute_result"
    },
    {
     "name": "stderr",
     "output_type": "stream",
     "text": [
      "  0%|          | 0/2372 [00:00<?, ?it/s]\n"
     ]
    }
   ],
   "source": [
    "for i in tqdm(ffin):\n",
    "    for j in ffin[i]:\n",
    "        j\n",
    "    break"
   ]
  },
  {
   "cell_type": "code",
   "execution_count": 209,
   "id": "4411307e",
   "metadata": {},
   "outputs": [
    {
     "name": "stderr",
     "output_type": "stream",
     "text": [
      "100%|██████████| 2372/2372 [00:00<00:00, 12819.31it/s]\n"
     ]
    }
   ],
   "source": [
    "with open(f'조건만족cd_dt (by ffin).txt', 'w', encoding = 'UTF-8') as f:\n",
    "    for i in tqdm(ffin):\n",
    "        if i == 'code':\n",
    "            _ = f.write(f'{i}\\t{ffin[i]}\\n')\n",
    "        else:\n",
    "            for j in ffin[i]:\n",
    "                _ = f.write(f'{i}\\t{j}\\n')"
   ]
  },
  {
   "cell_type": "code",
   "execution_count": 208,
   "id": "8c15c586",
   "metadata": {},
   "outputs": [
    {
     "name": "stderr",
     "output_type": "stream",
     "text": [
      "\r",
      "0it [00:00, ?it/s]"
     ]
    },
    {
     "data": {
      "text/plain": [
       "'code\\tdate\\n'"
      ]
     },
     "execution_count": 208,
     "metadata": {},
     "output_type": "execute_result"
    },
    {
     "name": "stderr",
     "output_type": "stream",
     "text": [
      "0it [00:00, ?it/s]\n"
     ]
    }
   ],
   "source": [
    "f = open('조건만족cd_dt (by ffin).txt', 'r', encoding = 'utf-8')\n",
    "ll = f.readlines()\n",
    "for iter, i in tqdm(enumerate(ll)):\n",
    "    i\n",
    "    break\n",
    "f.close()"
   ]
  },
  {
   "cell_type": "code",
   "execution_count": null,
   "id": "6bac821e",
   "metadata": {},
   "outputs": [],
   "source": []
  }
 ],
 "metadata": {
  "kernelspec": {
   "display_name": "Python 3",
   "language": "python",
   "name": "python3"
  },
  "language_info": {
   "codemirror_mode": {
    "name": "ipython",
    "version": 3
   },
   "file_extension": ".py",
   "mimetype": "text/x-python",
   "name": "python",
   "nbconvert_exporter": "python",
   "pygments_lexer": "ipython3",
   "version": "3.8.5"
  },
  "latex_envs": {
   "LaTeX_envs_menu_present": true,
   "autoclose": false,
   "autocomplete": true,
   "bibliofile": "biblio.bib",
   "cite_by": "apalike",
   "current_citInitial": 1,
   "eqLabelWithNumbers": true,
   "eqNumInitial": 1,
   "hotkeys": {
    "equation": "Ctrl-E",
    "itemize": "Ctrl-I"
   },
   "labels_anchors": false,
   "latex_user_defs": false,
   "report_style_numbering": false,
   "user_envs_cfg": false
  },
  "toc": {
   "base_numbering": 1,
   "nav_menu": {},
   "number_sections": true,
   "sideBar": true,
   "skip_h1_title": false,
   "title_cell": "Table of Contents",
   "title_sidebar": "Contents",
   "toc_cell": true,
   "toc_position": {
    "height": "calc(100% - 180px)",
    "left": "10px",
    "top": "150px",
    "width": "340.797px"
   },
   "toc_section_display": true,
   "toc_window_display": false
  }
 },
 "nbformat": 4,
 "nbformat_minor": 5
}
