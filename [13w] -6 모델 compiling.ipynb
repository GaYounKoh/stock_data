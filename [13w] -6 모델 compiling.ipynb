{
 "cells": [
  {
   "cell_type": "markdown",
   "id": "77f95b75",
   "metadata": {},
   "source": [
    "[Keras Tuner를 사용하여 하이퍼 파라미터 찾는 예제](https://webnautes.tistory.com/1642) - 모델 쌓는 것의 의미 파악, 및 따라해보기 <br>\n",
    "[]() <br>\n",
    "- 검색어: 비시계열 모델 compiling (비시계열 모델은 compiling이 없는 듯)\n"
   ]
  },
  {
   "cell_type": "markdown",
   "id": "acf8f329",
   "metadata": {},
   "source": [
    "- 검색어: 주가데이터 분석 <br>\n",
    "[주식데이터 분석](https://hyewonleess.github.io/data%20analysis/stocks-explore/) <br>\n",
    "[데이콘 주가 데이터 분석](https://dacon.io/codeshare/2588) <br>\n",
    "[파이썬 주가 예측해보기](https://muscleking3426.tistory.com/48) <br>\n",
    "\n",
    "[발표자료 구성 참고할 만한 자료](https://www.slideshare.net/NHNFORWARD/nhnforward2019-3)"
   ]
  },
  {
   "cell_type": "markdown",
   "id": "84836690",
   "metadata": {},
   "source": [
    "- Feature Importance\n",
    "[RF FI](https://mljar.com/blog/feature-importance-in-random-forest/) <br>\n",
    "[Permutation Importance vs Random Forest Feature Importance (MDI)](https://scikit-learn.org/stable/auto_examples/inspection/plot_permutation_importance.html) <br>\n",
    "[Feature importances with a forest of trees](https://scikit-learn.org/stable/auto_examples/ensemble/plot_forest_importances.html) <br>\n",
    "\n",
    "[RF 분석](https://ybdata-sci.tistory.com/25)"
   ]
  },
  {
   "cell_type": "markdown",
   "id": "109a6236",
   "metadata": {},
   "source": [
    "[랜덤포레스트 설명만 참고](https://bioinformaticsandme.tistory.com/167) <br>\n",
    "- 검색어: 비시계열 모델 randomforest compile"
   ]
  },
  {
   "cell_type": "code",
   "execution_count": null,
   "id": "0d1a0d78",
   "metadata": {},
   "outputs": [],
   "source": []
  }
 ],
 "metadata": {
  "kernelspec": {
   "display_name": "Python 3 (ipykernel)",
   "language": "python",
   "name": "python3"
  },
  "language_info": {
   "codemirror_mode": {
    "name": "ipython",
    "version": 3
   },
   "file_extension": ".py",
   "mimetype": "text/x-python",
   "name": "python",
   "nbconvert_exporter": "python",
   "pygments_lexer": "ipython3",
   "version": "3.8.2"
  },
  "toc": {
   "base_numbering": 1,
   "nav_menu": {},
   "number_sections": true,
   "sideBar": true,
   "skip_h1_title": false,
   "title_cell": "Table of Contents",
   "title_sidebar": "Contents",
   "toc_cell": false,
   "toc_position": {},
   "toc_section_display": true,
   "toc_window_display": false
  }
 },
 "nbformat": 4,
 "nbformat_minor": 5
}
