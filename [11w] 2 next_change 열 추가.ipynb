{
 "cells": [
  {
   "cell_type": "markdown",
   "id": "0a82fecf",
   "metadata": {
    "toc": true
   },
   "source": [
    "<h1>Table of Contents<span class=\"tocSkip\"></span></h1>\n",
    "<div class=\"toc\"><ul class=\"toc-item\"></ul></div>"
   ]
  },
  {
   "cell_type": "code",
   "execution_count": 1,
   "id": "0a88a2ff",
   "metadata": {},
   "outputs": [],
   "source": [
    "from IPython.core.interactiveshell import InteractiveShell\n",
    "InteractiveShell.ast_node_interactivity = 'all'\n",
    "\n",
    "import pandas as pd\n",
    "import numpy as np\n",
    "from tqdm import tqdm\n",
    "import warnings\n",
    "warnings.filterwarnings('ignore')"
   ]
  },
  {
   "cell_type": "code",
   "execution_count": 3,
   "id": "7a5fb030",
   "metadata": {},
   "outputs": [],
   "source": [
    "df = pd.read_feather('ma NaN값 제거.ftr', columns = None, use_threads = True)"
   ]
  },
  {
   "cell_type": "code",
   "execution_count": 5,
   "id": "9f6d9c82",
   "metadata": {},
   "outputs": [],
   "source": [
    "보조지표df = pd.read_feather('보조지표추가_cd_nuniq=2348.ftr', columns = None, use_threads = True)"
   ]
  },
  {
   "cell_type": "code",
   "execution_count": 11,
   "id": "7d8db2a5",
   "metadata": {},
   "outputs": [
    {
     "name": "stderr",
     "output_type": "stream",
     "text": [
      "100%|██████████| 2348/2348 [40:13<00:00,  1.03s/it] \n"
     ]
    }
   ],
   "source": [
    "df_all = pd.DataFrame()\n",
    "for i in tqdm(보조지표df['code'].unique()):\n",
    "    ## 종목코드 별 df\n",
    "    tmp_df = df.iloc[np.where(df['code'] == i)]\n",
    "    tmp_else = tmp_df[:-1].reset_index(drop = True)\n",
    "    tmp_else['next_change'] = tmp_df[['change']][1:].reset_index(drop = True)\n",
    "    df_all = pd.concat([df_all, tmp_else])"
   ]
  },
  {
   "cell_type": "code",
   "execution_count": 17,
   "id": "474321b0",
   "metadata": {},
   "outputs": [],
   "source": [
    "df_all = df_all.reset_index(drop = True)"
   ]
  },
  {
   "cell_type": "code",
   "execution_count": 18,
   "id": "f3992c0d",
   "metadata": {},
   "outputs": [],
   "source": [
    "df_all.to_feather('nc추가.ftr')\n",
    "df_all.to_pickle('nc추가.pkl')"
   ]
  },
  {
   "cell_type": "code",
   "execution_count": null,
   "id": "8e573dff",
   "metadata": {},
   "outputs": [],
   "source": []
  }
 ],
 "metadata": {
  "kernelspec": {
   "display_name": "Python 3",
   "language": "python",
   "name": "python3"
  },
  "language_info": {
   "codemirror_mode": {
    "name": "ipython",
    "version": 3
   },
   "file_extension": ".py",
   "mimetype": "text/x-python",
   "name": "python",
   "nbconvert_exporter": "python",
   "pygments_lexer": "ipython3",
   "version": "3.8.5"
  },
  "latex_envs": {
   "LaTeX_envs_menu_present": true,
   "autoclose": false,
   "autocomplete": true,
   "bibliofile": "biblio.bib",
   "cite_by": "apalike",
   "current_citInitial": 1,
   "eqLabelWithNumbers": true,
   "eqNumInitial": 1,
   "hotkeys": {
    "equation": "Ctrl-E",
    "itemize": "Ctrl-I"
   },
   "labels_anchors": false,
   "latex_user_defs": false,
   "report_style_numbering": false,
   "user_envs_cfg": false
  },
  "toc": {
   "base_numbering": 1,
   "nav_menu": {},
   "number_sections": true,
   "sideBar": true,
   "skip_h1_title": false,
   "title_cell": "Table of Contents",
   "title_sidebar": "Contents",
   "toc_cell": true,
   "toc_position": {},
   "toc_section_display": true,
   "toc_window_display": true
  }
 },
 "nbformat": 4,
 "nbformat_minor": 5
}
